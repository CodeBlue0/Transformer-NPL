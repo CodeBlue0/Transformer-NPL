{
  "cells": [
    {
      "cell_type": "code",
      "source": [
        "# 코랩을 사용하지 않으면 이 셀의 코드를 주석 처리하세요.\n",
        "!git clone https://github.com/rickiepark/nlp-with-transformers.git\n",
        "%cd nlp-with-transformers\n",
        "from install import *\n",
        "install_requirements(chapter=2)"
      ],
      "metadata": {
        "id": "Dv8pYVjPF9ij",
        "colab": {
          "base_uri": "https://localhost:8080/"
        },
        "outputId": "1d69180c-5860-4564-8970-fbb5a2d834fe"
      },
      "execution_count": 1,
      "outputs": [
        {
          "output_type": "stream",
          "name": "stdout",
          "text": [
            "fatal: destination path 'nlp-with-transformers' already exists and is not an empty directory.\n",
            "/content/nlp-with-transformers\n",
            "⏳ Installing base requirements ...\n",
            "✅ Base requirements installed!\n",
            "Using transformers v4.30.2\n",
            "Using datasets v2.13.1\n",
            "Using accelerate v0.21.0\n",
            "Using sentencepiece v0.1.99\n",
            "Using umap v0.5.3\n"
          ]
        }
      ]
    },
    {
      "cell_type": "markdown",
      "metadata": {
        "id": "dXG9hDrXFuu-"
      },
      "source": [
        "## 2.1 데이터셋\n",
        "### 2.1.1 허깅페이스 데이터셋 처음 사용하기"
      ]
    },
    {
      "cell_type": "code",
      "execution_count": 2,
      "metadata": {
        "id": "e8pK-addFuvB",
        "colab": {
          "base_uri": "https://localhost:8080/"
        },
        "outputId": "bf7eb93d-8b83-4c3c-f851-cfff7d0b9b46"
      },
      "outputs": [
        {
          "output_type": "stream",
          "name": "stderr",
          "text": [
            "<ipython-input-2-9ccfb340d783>:3: FutureWarning: list_datasets is deprecated and will be removed in the next major version of datasets. Use 'huggingface_hub.list_datasets' instead.\n",
            "  all_datasets = list_datasets()\n"
          ]
        },
        {
          "output_type": "stream",
          "name": "stdout",
          "text": [
            "['acronym_identification', 'ade_corpus_v2', 'adversarial_qa', 'aeslc',\n",
            "'afrikaans_ner_corpus', 'ag_news', 'ai2_arc', 'air_dialogue', 'ajgt_twitter_ar',\n",
            "'allegro_reviews']\n"
          ]
        }
      ],
      "source": [
        "from datasets import list_datasets\n",
        "\n",
        "all_datasets = list_datasets()\n",
        "print(all_datasets[:10])"
      ]
    },
    {
      "cell_type": "code",
      "source": [
        "from datasets import load_dataset\n",
        "\n",
        "emotions = load_dataset(\"emotion\")\n",
        "emotions"
      ],
      "metadata": {
        "colab": {
          "base_uri": "https://localhost:8080/",
          "height": 306,
          "referenced_widgets": [
            "9c7c52b0cf9145eb90167774ce02cd29",
            "1e6dc369edb4401b8e700fe0ffa76904",
            "59ddc8e75ada4e69bd61e0d80617c97a",
            "39223062d72242edb37e63711099c933",
            "95b34e38638e4eaa9a0db2ff2695faba",
            "8bf4df0fe6064702a399e68812aeacd3",
            "2cb57b182ebe4532afba907994f2508f",
            "237ed9a820b0431785d3f2ea8ae33e0f",
            "1c41ca11495b4079a3ec020a19522f6c",
            "d0fb60b19b8548beaabc6788dff4cc38",
            "d6f95c174018442d9568a9cf66d5dfd1"
          ]
        },
        "id": "d_Vka2tE7ESk",
        "outputId": "8104aa3f-bc05-4489-edcf-f3b4f0d092ee"
      },
      "execution_count": 3,
      "outputs": [
        {
          "output_type": "display_data",
          "data": {
            "text/plain": [
              "  0%|          | 0/3 [00:00<?, ?it/s]"
            ],
            "application/vnd.jupyter.widget-view+json": {
              "version_major": 2,
              "version_minor": 0,
              "model_id": "9c7c52b0cf9145eb90167774ce02cd29"
            }
          },
          "metadata": {}
        },
        {
          "output_type": "execute_result",
          "data": {
            "text/plain": [
              "DatasetDict({\n",
              "    train: Dataset({\n",
              "        features: ['text', 'label'],\n",
              "        num_rows: 16000\n",
              "    })\n",
              "    validation: Dataset({\n",
              "        features: ['text', 'label'],\n",
              "        num_rows: 2000\n",
              "    })\n",
              "    test: Dataset({\n",
              "        features: ['text', 'label'],\n",
              "        num_rows: 2000\n",
              "    })\n",
              "})"
            ]
          },
          "metadata": {},
          "execution_count": 3
        }
      ]
    },
    {
      "cell_type": "code",
      "source": [
        "train_ds = emotions[\"train\"]\n",
        "print(train_ds)\n",
        "print(train_ds[0])\n",
        "print(train_ds.features)"
      ],
      "metadata": {
        "colab": {
          "base_uri": "https://localhost:8080/"
        },
        "id": "9qYYcbJx7XTc",
        "outputId": "408ab1ca-a304-4439-95a0-41c04e8f8e08"
      },
      "execution_count": 4,
      "outputs": [
        {
          "output_type": "stream",
          "name": "stdout",
          "text": [
            "Dataset({\n",
            "    features: ['text', 'label'],\n",
            "    num_rows: 16000\n",
            "})\n",
            "{'text': 'i didnt feel humiliated', 'label': 0}\n",
            "{'text': Value(dtype='string', id=None), 'label': ClassLabel(names=['sadness',\n",
            "'joy', 'love', 'anger', 'fear', 'surprise'], id=None)}\n"
          ]
        }
      ]
    },
    {
      "cell_type": "markdown",
      "source": [
        "### 2.1.2 데이터셋에서 데이터프레임으로"
      ],
      "metadata": {
        "id": "SIfpppnj9Oac"
      }
    },
    {
      "cell_type": "code",
      "source": [
        "import pandas as pd\n",
        "emotions.set_format(type=\"pandas\")\n",
        "df = emotions[\"train\"][:]\n",
        "df.head()"
      ],
      "metadata": {
        "id": "1Py7imX27cL2",
        "colab": {
          "base_uri": "https://localhost:8080/",
          "height": 206
        },
        "outputId": "74915894-d159-426b-eded-220316a072c8"
      },
      "execution_count": 5,
      "outputs": [
        {
          "output_type": "execute_result",
          "data": {
            "text/plain": [
              "                                                text  label\n",
              "0                            i didnt feel humiliated      0\n",
              "1  i can go from feeling so hopeless to so damned...      0\n",
              "2   im grabbing a minute to post i feel greedy wrong      3\n",
              "3  i am ever feeling nostalgic about the fireplac...      2\n",
              "4                               i am feeling grouchy      3"
            ],
            "text/html": [
              "\n",
              "\n",
              "  <div id=\"df-9bbdce66-1ff9-40ed-a9d4-8bdb82130625\">\n",
              "    <div class=\"colab-df-container\">\n",
              "      <div>\n",
              "<style scoped>\n",
              "    .dataframe tbody tr th:only-of-type {\n",
              "        vertical-align: middle;\n",
              "    }\n",
              "\n",
              "    .dataframe tbody tr th {\n",
              "        vertical-align: top;\n",
              "    }\n",
              "\n",
              "    .dataframe thead th {\n",
              "        text-align: right;\n",
              "    }\n",
              "</style>\n",
              "<table border=\"1\" class=\"dataframe\">\n",
              "  <thead>\n",
              "    <tr style=\"text-align: right;\">\n",
              "      <th></th>\n",
              "      <th>text</th>\n",
              "      <th>label</th>\n",
              "    </tr>\n",
              "  </thead>\n",
              "  <tbody>\n",
              "    <tr>\n",
              "      <th>0</th>\n",
              "      <td>i didnt feel humiliated</td>\n",
              "      <td>0</td>\n",
              "    </tr>\n",
              "    <tr>\n",
              "      <th>1</th>\n",
              "      <td>i can go from feeling so hopeless to so damned...</td>\n",
              "      <td>0</td>\n",
              "    </tr>\n",
              "    <tr>\n",
              "      <th>2</th>\n",
              "      <td>im grabbing a minute to post i feel greedy wrong</td>\n",
              "      <td>3</td>\n",
              "    </tr>\n",
              "    <tr>\n",
              "      <th>3</th>\n",
              "      <td>i am ever feeling nostalgic about the fireplac...</td>\n",
              "      <td>2</td>\n",
              "    </tr>\n",
              "    <tr>\n",
              "      <th>4</th>\n",
              "      <td>i am feeling grouchy</td>\n",
              "      <td>3</td>\n",
              "    </tr>\n",
              "  </tbody>\n",
              "</table>\n",
              "</div>\n",
              "      <button class=\"colab-df-convert\" onclick=\"convertToInteractive('df-9bbdce66-1ff9-40ed-a9d4-8bdb82130625')\"\n",
              "              title=\"Convert this dataframe to an interactive table.\"\n",
              "              style=\"display:none;\">\n",
              "\n",
              "  <svg xmlns=\"http://www.w3.org/2000/svg\" height=\"24px\"viewBox=\"0 0 24 24\"\n",
              "       width=\"24px\">\n",
              "    <path d=\"M0 0h24v24H0V0z\" fill=\"none\"/>\n",
              "    <path d=\"M18.56 5.44l.94 2.06.94-2.06 2.06-.94-2.06-.94-.94-2.06-.94 2.06-2.06.94zm-11 1L8.5 8.5l.94-2.06 2.06-.94-2.06-.94L8.5 2.5l-.94 2.06-2.06.94zm10 10l.94 2.06.94-2.06 2.06-.94-2.06-.94-.94-2.06-.94 2.06-2.06.94z\"/><path d=\"M17.41 7.96l-1.37-1.37c-.4-.4-.92-.59-1.43-.59-.52 0-1.04.2-1.43.59L10.3 9.45l-7.72 7.72c-.78.78-.78 2.05 0 2.83L4 21.41c.39.39.9.59 1.41.59.51 0 1.02-.2 1.41-.59l7.78-7.78 2.81-2.81c.8-.78.8-2.07 0-2.86zM5.41 20L4 18.59l7.72-7.72 1.47 1.35L5.41 20z\"/>\n",
              "  </svg>\n",
              "      </button>\n",
              "\n",
              "\n",
              "\n",
              "    <div id=\"df-a0ecd4e1-19b4-4250-b401-2644fc7e67be\">\n",
              "      <button class=\"colab-df-quickchart\" onclick=\"quickchart('df-a0ecd4e1-19b4-4250-b401-2644fc7e67be')\"\n",
              "              title=\"Suggest charts.\"\n",
              "              style=\"display:none;\">\n",
              "\n",
              "<svg xmlns=\"http://www.w3.org/2000/svg\" height=\"24px\"viewBox=\"0 0 24 24\"\n",
              "     width=\"24px\">\n",
              "    <g>\n",
              "        <path d=\"M19 3H5c-1.1 0-2 .9-2 2v14c0 1.1.9 2 2 2h14c1.1 0 2-.9 2-2V5c0-1.1-.9-2-2-2zM9 17H7v-7h2v7zm4 0h-2V7h2v10zm4 0h-2v-4h2v4z\"/>\n",
              "    </g>\n",
              "</svg>\n",
              "      </button>\n",
              "    </div>\n",
              "\n",
              "<style>\n",
              "  .colab-df-quickchart {\n",
              "    background-color: #E8F0FE;\n",
              "    border: none;\n",
              "    border-radius: 50%;\n",
              "    cursor: pointer;\n",
              "    display: none;\n",
              "    fill: #1967D2;\n",
              "    height: 32px;\n",
              "    padding: 0 0 0 0;\n",
              "    width: 32px;\n",
              "  }\n",
              "\n",
              "  .colab-df-quickchart:hover {\n",
              "    background-color: #E2EBFA;\n",
              "    box-shadow: 0px 1px 2px rgba(60, 64, 67, 0.3), 0px 1px 3px 1px rgba(60, 64, 67, 0.15);\n",
              "    fill: #174EA6;\n",
              "  }\n",
              "\n",
              "  [theme=dark] .colab-df-quickchart {\n",
              "    background-color: #3B4455;\n",
              "    fill: #D2E3FC;\n",
              "  }\n",
              "\n",
              "  [theme=dark] .colab-df-quickchart:hover {\n",
              "    background-color: #434B5C;\n",
              "    box-shadow: 0px 1px 3px 1px rgba(0, 0, 0, 0.15);\n",
              "    filter: drop-shadow(0px 1px 2px rgba(0, 0, 0, 0.3));\n",
              "    fill: #FFFFFF;\n",
              "  }\n",
              "</style>\n",
              "\n",
              "    <script>\n",
              "      async function quickchart(key) {\n",
              "        const containerElement = document.querySelector('#' + key);\n",
              "        const charts = await google.colab.kernel.invokeFunction(\n",
              "            'suggestCharts', [key], {});\n",
              "      }\n",
              "    </script>\n",
              "\n",
              "      <script>\n",
              "\n",
              "function displayQuickchartButton(domScope) {\n",
              "  let quickchartButtonEl =\n",
              "    domScope.querySelector('#df-a0ecd4e1-19b4-4250-b401-2644fc7e67be button.colab-df-quickchart');\n",
              "  quickchartButtonEl.style.display =\n",
              "    google.colab.kernel.accessAllowed ? 'block' : 'none';\n",
              "}\n",
              "\n",
              "        displayQuickchartButton(document);\n",
              "      </script>\n",
              "      <style>\n",
              "    .colab-df-container {\n",
              "      display:flex;\n",
              "      flex-wrap:wrap;\n",
              "      gap: 12px;\n",
              "    }\n",
              "\n",
              "    .colab-df-convert {\n",
              "      background-color: #E8F0FE;\n",
              "      border: none;\n",
              "      border-radius: 50%;\n",
              "      cursor: pointer;\n",
              "      display: none;\n",
              "      fill: #1967D2;\n",
              "      height: 32px;\n",
              "      padding: 0 0 0 0;\n",
              "      width: 32px;\n",
              "    }\n",
              "\n",
              "    .colab-df-convert:hover {\n",
              "      background-color: #E2EBFA;\n",
              "      box-shadow: 0px 1px 2px rgba(60, 64, 67, 0.3), 0px 1px 3px 1px rgba(60, 64, 67, 0.15);\n",
              "      fill: #174EA6;\n",
              "    }\n",
              "\n",
              "    [theme=dark] .colab-df-convert {\n",
              "      background-color: #3B4455;\n",
              "      fill: #D2E3FC;\n",
              "    }\n",
              "\n",
              "    [theme=dark] .colab-df-convert:hover {\n",
              "      background-color: #434B5C;\n",
              "      box-shadow: 0px 1px 3px 1px rgba(0, 0, 0, 0.15);\n",
              "      filter: drop-shadow(0px 1px 2px rgba(0, 0, 0, 0.3));\n",
              "      fill: #FFFFFF;\n",
              "    }\n",
              "  </style>\n",
              "\n",
              "      <script>\n",
              "        const buttonEl =\n",
              "          document.querySelector('#df-9bbdce66-1ff9-40ed-a9d4-8bdb82130625 button.colab-df-convert');\n",
              "        buttonEl.style.display =\n",
              "          google.colab.kernel.accessAllowed ? 'block' : 'none';\n",
              "\n",
              "        async function convertToInteractive(key) {\n",
              "          const element = document.querySelector('#df-9bbdce66-1ff9-40ed-a9d4-8bdb82130625');\n",
              "          const dataTable =\n",
              "            await google.colab.kernel.invokeFunction('convertToInteractive',\n",
              "                                                     [key], {});\n",
              "          if (!dataTable) return;\n",
              "\n",
              "          const docLinkHtml = 'Like what you see? Visit the ' +\n",
              "            '<a target=\"_blank\" href=https://colab.research.google.com/notebooks/data_table.ipynb>data table notebook</a>'\n",
              "            + ' to learn more about interactive tables.';\n",
              "          element.innerHTML = '';\n",
              "          dataTable['output_type'] = 'display_data';\n",
              "          await google.colab.output.renderOutput(dataTable, element);\n",
              "          const docLink = document.createElement('div');\n",
              "          docLink.innerHTML = docLinkHtml;\n",
              "          element.appendChild(docLink);\n",
              "        }\n",
              "      </script>\n",
              "    </div>\n",
              "  </div>\n"
            ]
          },
          "metadata": {},
          "execution_count": 5
        }
      ]
    },
    {
      "cell_type": "code",
      "source": [
        "def label_int2str(row) :\n",
        "    return emotions[\"train\"].features[\"label\"].int2str(row)\n",
        "\n",
        "df[\"label_name\"] = df[\"label\"].apply(label_int2str)\n",
        "df.head()"
      ],
      "metadata": {
        "colab": {
          "base_uri": "https://localhost:8080/",
          "height": 206
        },
        "id": "QL5Kf2nx8yHE",
        "outputId": "a059fc31-a746-4cae-a956-72dcd5df38f6"
      },
      "execution_count": 6,
      "outputs": [
        {
          "output_type": "execute_result",
          "data": {
            "text/plain": [
              "                                                text  label label_name\n",
              "0                            i didnt feel humiliated      0    sadness\n",
              "1  i can go from feeling so hopeless to so damned...      0    sadness\n",
              "2   im grabbing a minute to post i feel greedy wrong      3      anger\n",
              "3  i am ever feeling nostalgic about the fireplac...      2       love\n",
              "4                               i am feeling grouchy      3      anger"
            ],
            "text/html": [
              "\n",
              "\n",
              "  <div id=\"df-a5b6b016-4345-418b-a13f-4dbd5567a7df\">\n",
              "    <div class=\"colab-df-container\">\n",
              "      <div>\n",
              "<style scoped>\n",
              "    .dataframe tbody tr th:only-of-type {\n",
              "        vertical-align: middle;\n",
              "    }\n",
              "\n",
              "    .dataframe tbody tr th {\n",
              "        vertical-align: top;\n",
              "    }\n",
              "\n",
              "    .dataframe thead th {\n",
              "        text-align: right;\n",
              "    }\n",
              "</style>\n",
              "<table border=\"1\" class=\"dataframe\">\n",
              "  <thead>\n",
              "    <tr style=\"text-align: right;\">\n",
              "      <th></th>\n",
              "      <th>text</th>\n",
              "      <th>label</th>\n",
              "      <th>label_name</th>\n",
              "    </tr>\n",
              "  </thead>\n",
              "  <tbody>\n",
              "    <tr>\n",
              "      <th>0</th>\n",
              "      <td>i didnt feel humiliated</td>\n",
              "      <td>0</td>\n",
              "      <td>sadness</td>\n",
              "    </tr>\n",
              "    <tr>\n",
              "      <th>1</th>\n",
              "      <td>i can go from feeling so hopeless to so damned...</td>\n",
              "      <td>0</td>\n",
              "      <td>sadness</td>\n",
              "    </tr>\n",
              "    <tr>\n",
              "      <th>2</th>\n",
              "      <td>im grabbing a minute to post i feel greedy wrong</td>\n",
              "      <td>3</td>\n",
              "      <td>anger</td>\n",
              "    </tr>\n",
              "    <tr>\n",
              "      <th>3</th>\n",
              "      <td>i am ever feeling nostalgic about the fireplac...</td>\n",
              "      <td>2</td>\n",
              "      <td>love</td>\n",
              "    </tr>\n",
              "    <tr>\n",
              "      <th>4</th>\n",
              "      <td>i am feeling grouchy</td>\n",
              "      <td>3</td>\n",
              "      <td>anger</td>\n",
              "    </tr>\n",
              "  </tbody>\n",
              "</table>\n",
              "</div>\n",
              "      <button class=\"colab-df-convert\" onclick=\"convertToInteractive('df-a5b6b016-4345-418b-a13f-4dbd5567a7df')\"\n",
              "              title=\"Convert this dataframe to an interactive table.\"\n",
              "              style=\"display:none;\">\n",
              "\n",
              "  <svg xmlns=\"http://www.w3.org/2000/svg\" height=\"24px\"viewBox=\"0 0 24 24\"\n",
              "       width=\"24px\">\n",
              "    <path d=\"M0 0h24v24H0V0z\" fill=\"none\"/>\n",
              "    <path d=\"M18.56 5.44l.94 2.06.94-2.06 2.06-.94-2.06-.94-.94-2.06-.94 2.06-2.06.94zm-11 1L8.5 8.5l.94-2.06 2.06-.94-2.06-.94L8.5 2.5l-.94 2.06-2.06.94zm10 10l.94 2.06.94-2.06 2.06-.94-2.06-.94-.94-2.06-.94 2.06-2.06.94z\"/><path d=\"M17.41 7.96l-1.37-1.37c-.4-.4-.92-.59-1.43-.59-.52 0-1.04.2-1.43.59L10.3 9.45l-7.72 7.72c-.78.78-.78 2.05 0 2.83L4 21.41c.39.39.9.59 1.41.59.51 0 1.02-.2 1.41-.59l7.78-7.78 2.81-2.81c.8-.78.8-2.07 0-2.86zM5.41 20L4 18.59l7.72-7.72 1.47 1.35L5.41 20z\"/>\n",
              "  </svg>\n",
              "      </button>\n",
              "\n",
              "\n",
              "\n",
              "    <div id=\"df-980d4582-11ce-4d40-97ca-1d9895161ee9\">\n",
              "      <button class=\"colab-df-quickchart\" onclick=\"quickchart('df-980d4582-11ce-4d40-97ca-1d9895161ee9')\"\n",
              "              title=\"Suggest charts.\"\n",
              "              style=\"display:none;\">\n",
              "\n",
              "<svg xmlns=\"http://www.w3.org/2000/svg\" height=\"24px\"viewBox=\"0 0 24 24\"\n",
              "     width=\"24px\">\n",
              "    <g>\n",
              "        <path d=\"M19 3H5c-1.1 0-2 .9-2 2v14c0 1.1.9 2 2 2h14c1.1 0 2-.9 2-2V5c0-1.1-.9-2-2-2zM9 17H7v-7h2v7zm4 0h-2V7h2v10zm4 0h-2v-4h2v4z\"/>\n",
              "    </g>\n",
              "</svg>\n",
              "      </button>\n",
              "    </div>\n",
              "\n",
              "<style>\n",
              "  .colab-df-quickchart {\n",
              "    background-color: #E8F0FE;\n",
              "    border: none;\n",
              "    border-radius: 50%;\n",
              "    cursor: pointer;\n",
              "    display: none;\n",
              "    fill: #1967D2;\n",
              "    height: 32px;\n",
              "    padding: 0 0 0 0;\n",
              "    width: 32px;\n",
              "  }\n",
              "\n",
              "  .colab-df-quickchart:hover {\n",
              "    background-color: #E2EBFA;\n",
              "    box-shadow: 0px 1px 2px rgba(60, 64, 67, 0.3), 0px 1px 3px 1px rgba(60, 64, 67, 0.15);\n",
              "    fill: #174EA6;\n",
              "  }\n",
              "\n",
              "  [theme=dark] .colab-df-quickchart {\n",
              "    background-color: #3B4455;\n",
              "    fill: #D2E3FC;\n",
              "  }\n",
              "\n",
              "  [theme=dark] .colab-df-quickchart:hover {\n",
              "    background-color: #434B5C;\n",
              "    box-shadow: 0px 1px 3px 1px rgba(0, 0, 0, 0.15);\n",
              "    filter: drop-shadow(0px 1px 2px rgba(0, 0, 0, 0.3));\n",
              "    fill: #FFFFFF;\n",
              "  }\n",
              "</style>\n",
              "\n",
              "    <script>\n",
              "      async function quickchart(key) {\n",
              "        const containerElement = document.querySelector('#' + key);\n",
              "        const charts = await google.colab.kernel.invokeFunction(\n",
              "            'suggestCharts', [key], {});\n",
              "      }\n",
              "    </script>\n",
              "\n",
              "      <script>\n",
              "\n",
              "function displayQuickchartButton(domScope) {\n",
              "  let quickchartButtonEl =\n",
              "    domScope.querySelector('#df-980d4582-11ce-4d40-97ca-1d9895161ee9 button.colab-df-quickchart');\n",
              "  quickchartButtonEl.style.display =\n",
              "    google.colab.kernel.accessAllowed ? 'block' : 'none';\n",
              "}\n",
              "\n",
              "        displayQuickchartButton(document);\n",
              "      </script>\n",
              "      <style>\n",
              "    .colab-df-container {\n",
              "      display:flex;\n",
              "      flex-wrap:wrap;\n",
              "      gap: 12px;\n",
              "    }\n",
              "\n",
              "    .colab-df-convert {\n",
              "      background-color: #E8F0FE;\n",
              "      border: none;\n",
              "      border-radius: 50%;\n",
              "      cursor: pointer;\n",
              "      display: none;\n",
              "      fill: #1967D2;\n",
              "      height: 32px;\n",
              "      padding: 0 0 0 0;\n",
              "      width: 32px;\n",
              "    }\n",
              "\n",
              "    .colab-df-convert:hover {\n",
              "      background-color: #E2EBFA;\n",
              "      box-shadow: 0px 1px 2px rgba(60, 64, 67, 0.3), 0px 1px 3px 1px rgba(60, 64, 67, 0.15);\n",
              "      fill: #174EA6;\n",
              "    }\n",
              "\n",
              "    [theme=dark] .colab-df-convert {\n",
              "      background-color: #3B4455;\n",
              "      fill: #D2E3FC;\n",
              "    }\n",
              "\n",
              "    [theme=dark] .colab-df-convert:hover {\n",
              "      background-color: #434B5C;\n",
              "      box-shadow: 0px 1px 3px 1px rgba(0, 0, 0, 0.15);\n",
              "      filter: drop-shadow(0px 1px 2px rgba(0, 0, 0, 0.3));\n",
              "      fill: #FFFFFF;\n",
              "    }\n",
              "  </style>\n",
              "\n",
              "      <script>\n",
              "        const buttonEl =\n",
              "          document.querySelector('#df-a5b6b016-4345-418b-a13f-4dbd5567a7df button.colab-df-convert');\n",
              "        buttonEl.style.display =\n",
              "          google.colab.kernel.accessAllowed ? 'block' : 'none';\n",
              "\n",
              "        async function convertToInteractive(key) {\n",
              "          const element = document.querySelector('#df-a5b6b016-4345-418b-a13f-4dbd5567a7df');\n",
              "          const dataTable =\n",
              "            await google.colab.kernel.invokeFunction('convertToInteractive',\n",
              "                                                     [key], {});\n",
              "          if (!dataTable) return;\n",
              "\n",
              "          const docLinkHtml = 'Like what you see? Visit the ' +\n",
              "            '<a target=\"_blank\" href=https://colab.research.google.com/notebooks/data_table.ipynb>data table notebook</a>'\n",
              "            + ' to learn more about interactive tables.';\n",
              "          element.innerHTML = '';\n",
              "          dataTable['output_type'] = 'display_data';\n",
              "          await google.colab.output.renderOutput(dataTable, element);\n",
              "          const docLink = document.createElement('div');\n",
              "          docLink.innerHTML = docLinkHtml;\n",
              "          element.appendChild(docLink);\n",
              "        }\n",
              "      </script>\n",
              "    </div>\n",
              "  </div>\n"
            ]
          },
          "metadata": {},
          "execution_count": 6
        }
      ]
    },
    {
      "cell_type": "markdown",
      "source": [
        "### 2.1.3 클래스 분포 살펴보기"
      ],
      "metadata": {
        "id": "uBWSY_f59RRC"
      }
    },
    {
      "cell_type": "code",
      "source": [
        "import matplotlib.pyplot as plt\n",
        "\n",
        "df[\"label_name\"].value_counts(ascending=True).plot.barh()\n",
        "plt.title(\"Frequency of Classes\")\n",
        "plt.show()"
      ],
      "metadata": {
        "colab": {
          "base_uri": "https://localhost:8080/",
          "height": 383
        },
        "id": "8JcGl2Y19UCy",
        "outputId": "d742f28e-d36c-4815-c4a8-ed06649721f8"
      },
      "execution_count": 7,
      "outputs": [
        {
          "output_type": "display_data",
          "data": {
            "text/plain": [
              "<Figure size 600x400 with 1 Axes>"
            ],
            "image/svg+xml": "<?xml version=\"1.0\" encoding=\"utf-8\" standalone=\"no\"?>\n<!DOCTYPE svg PUBLIC \"-//W3C//DTD SVG 1.1//EN\"\n  \"http://www.w3.org/Graphics/SVG/1.1/DTD/svg11.dtd\">\n<svg xmlns:xlink=\"http://www.w3.org/1999/xlink\" width=\"404.914375pt\" height=\"271.7155pt\" viewBox=\"0 0 404.914375 271.7155\" xmlns=\"http://www.w3.org/2000/svg\" version=\"1.1\">\n <metadata>\n  <rdf:RDF xmlns:dc=\"http://purl.org/dc/elements/1.1/\" xmlns:cc=\"http://creativecommons.org/ns#\" xmlns:rdf=\"http://www.w3.org/1999/02/22-rdf-syntax-ns#\">\n   <cc:Work>\n    <dc:type rdf:resource=\"http://purl.org/dc/dcmitype/StillImage\"/>\n    <dc:date>2023-07-16T14:47:46.213899</dc:date>\n    <dc:format>image/svg+xml</dc:format>\n    <dc:creator>\n     <cc:Agent>\n      <dc:title>Matplotlib v3.7.1, https://matplotlib.org/</dc:title>\n     </cc:Agent>\n    </dc:creator>\n   </cc:Work>\n  </rdf:RDF>\n </metadata>\n <defs>\n  <style type=\"text/css\">*{stroke-linejoin: round; stroke-linecap: butt}</style>\n </defs>\n <g id=\"figure_1\">\n  <g id=\"patch_1\">\n   <path d=\"M 0 271.7155 \nL 404.914375 271.7155 \nL 404.914375 0 \nL 0 0 \nz\n\" style=\"fill: #ffffff\"/>\n  </g>\n  <g id=\"axes_1\">\n   <g id=\"patch_2\">\n    <path d=\"M 62.914375 245.90175 \nL 397.714375 245.90175 \nL 397.714375 24.14175 \nL 62.914375 24.14175 \nz\n\" style=\"fill: #ffffff\"/>\n   </g>\n   <g id=\"patch_3\">\n    <path d=\"M 62.914375 236.66175 \nL 96.928975 236.66175 \nL 96.928975 218.18175 \nL 62.914375 218.18175 \nz\n\" clip-path=\"url(#pce1085e528)\" style=\"fill: #0071bc\"/>\n   </g>\n   <g id=\"patch_4\">\n    <path d=\"M 62.914375 199.70175 \nL 140.458149 199.70175 \nL 140.458149 181.22175 \nL 62.914375 181.22175 \nz\n\" clip-path=\"url(#pce1085e528)\" style=\"fill: #0071bc\"/>\n   </g>\n   <g id=\"patch_5\">\n    <path d=\"M 62.914375 162.74175 \nL 178.10018 162.74175 \nL 178.10018 144.26175 \nL 62.914375 144.26175 \nz\n\" clip-path=\"url(#pce1085e528)\" style=\"fill: #0071bc\"/>\n   </g>\n   <g id=\"patch_6\">\n    <path d=\"M 62.914375 125.78175 \nL 191.301651 125.78175 \nL 191.301651 107.30175 \nL 62.914375 107.30175 \nz\n\" clip-path=\"url(#pce1085e528)\" style=\"fill: #0071bc\"/>\n   </g>\n   <g id=\"patch_7\">\n    <path d=\"M 62.914375 88.82175 \nL 340.383123 88.82175 \nL 340.383123 70.34175 \nL 62.914375 70.34175 \nz\n\" clip-path=\"url(#pce1085e528)\" style=\"fill: #0071bc\"/>\n   </g>\n   <g id=\"patch_8\">\n    <path d=\"M 62.914375 51.86175 \nL 381.771518 51.86175 \nL 381.771518 33.38175 \nL 62.914375 33.38175 \nz\n\" clip-path=\"url(#pce1085e528)\" style=\"fill: #0071bc\"/>\n   </g>\n   <g id=\"matplotlib.axis_1\">\n    <g id=\"xtick_1\">\n     <g id=\"line2d_1\">\n      <defs>\n       <path id=\"mcfcc33302b\" d=\"M 0 0 \nL 0 3.5 \n\" style=\"stroke: #000000; stroke-width: 0.8\"/>\n      </defs>\n      <g>\n       <use xlink:href=\"#mcfcc33302b\" x=\"62.914375\" y=\"245.90175\" style=\"stroke: #000000; stroke-width: 0.8\"/>\n      </g>\n     </g>\n     <g id=\"text_1\">\n      <!-- 0 -->\n      <g transform=\"translate(59.096875 262.019875) scale(0.12 -0.12)\">\n       <defs>\n        <path id=\"DejaVuSans-30\" d=\"M 2034 4250 \nQ 1547 4250 1301 3770 \nQ 1056 3291 1056 2328 \nQ 1056 1369 1301 889 \nQ 1547 409 2034 409 \nQ 2525 409 2770 889 \nQ 3016 1369 3016 2328 \nQ 3016 3291 2770 3770 \nQ 2525 4250 2034 4250 \nz\nM 2034 4750 \nQ 2819 4750 3233 4129 \nQ 3647 3509 3647 2328 \nQ 3647 1150 3233 529 \nQ 2819 -91 2034 -91 \nQ 1250 -91 836 529 \nQ 422 1150 422 2328 \nQ 422 3509 836 4129 \nQ 1250 4750 2034 4750 \nz\n\" transform=\"scale(0.015625)\"/>\n       </defs>\n       <use xlink:href=\"#DejaVuSans-30\"/>\n      </g>\n     </g>\n    </g>\n    <g id=\"xtick_2\">\n     <g id=\"line2d_2\">\n      <g>\n       <use xlink:href=\"#mcfcc33302b\" x=\"122.380459\" y=\"245.90175\" style=\"stroke: #000000; stroke-width: 0.8\"/>\n      </g>\n     </g>\n     <g id=\"text_2\">\n      <!-- 1000 -->\n      <g transform=\"translate(107.110459 262.019875) scale(0.12 -0.12)\">\n       <defs>\n        <path id=\"DejaVuSans-31\" d=\"M 794 531 \nL 1825 531 \nL 1825 4091 \nL 703 3866 \nL 703 4441 \nL 1819 4666 \nL 2450 4666 \nL 2450 531 \nL 3481 531 \nL 3481 0 \nL 794 0 \nL 794 531 \nz\n\" transform=\"scale(0.015625)\"/>\n       </defs>\n       <use xlink:href=\"#DejaVuSans-31\"/>\n       <use xlink:href=\"#DejaVuSans-30\" x=\"63.623047\"/>\n       <use xlink:href=\"#DejaVuSans-30\" x=\"127.246094\"/>\n       <use xlink:href=\"#DejaVuSans-30\" x=\"190.869141\"/>\n      </g>\n     </g>\n    </g>\n    <g id=\"xtick_3\">\n     <g id=\"line2d_3\">\n      <g>\n       <use xlink:href=\"#mcfcc33302b\" x=\"181.846543\" y=\"245.90175\" style=\"stroke: #000000; stroke-width: 0.8\"/>\n      </g>\n     </g>\n     <g id=\"text_3\">\n      <!-- 2000 -->\n      <g transform=\"translate(166.576543 262.019875) scale(0.12 -0.12)\">\n       <defs>\n        <path id=\"DejaVuSans-32\" d=\"M 1228 531 \nL 3431 531 \nL 3431 0 \nL 469 0 \nL 469 531 \nQ 828 903 1448 1529 \nQ 2069 2156 2228 2338 \nQ 2531 2678 2651 2914 \nQ 2772 3150 2772 3378 \nQ 2772 3750 2511 3984 \nQ 2250 4219 1831 4219 \nQ 1534 4219 1204 4116 \nQ 875 4013 500 3803 \nL 500 4441 \nQ 881 4594 1212 4672 \nQ 1544 4750 1819 4750 \nQ 2544 4750 2975 4387 \nQ 3406 4025 3406 3419 \nQ 3406 3131 3298 2873 \nQ 3191 2616 2906 2266 \nQ 2828 2175 2409 1742 \nQ 1991 1309 1228 531 \nz\n\" transform=\"scale(0.015625)\"/>\n       </defs>\n       <use xlink:href=\"#DejaVuSans-32\"/>\n       <use xlink:href=\"#DejaVuSans-30\" x=\"63.623047\"/>\n       <use xlink:href=\"#DejaVuSans-30\" x=\"127.246094\"/>\n       <use xlink:href=\"#DejaVuSans-30\" x=\"190.869141\"/>\n      </g>\n     </g>\n    </g>\n    <g id=\"xtick_4\">\n     <g id=\"line2d_4\">\n      <g>\n       <use xlink:href=\"#mcfcc33302b\" x=\"241.312627\" y=\"245.90175\" style=\"stroke: #000000; stroke-width: 0.8\"/>\n      </g>\n     </g>\n     <g id=\"text_4\">\n      <!-- 3000 -->\n      <g transform=\"translate(226.042627 262.019875) scale(0.12 -0.12)\">\n       <defs>\n        <path id=\"DejaVuSans-33\" d=\"M 2597 2516 \nQ 3050 2419 3304 2112 \nQ 3559 1806 3559 1356 \nQ 3559 666 3084 287 \nQ 2609 -91 1734 -91 \nQ 1441 -91 1130 -33 \nQ 819 25 488 141 \nL 488 750 \nQ 750 597 1062 519 \nQ 1375 441 1716 441 \nQ 2309 441 2620 675 \nQ 2931 909 2931 1356 \nQ 2931 1769 2642 2001 \nQ 2353 2234 1838 2234 \nL 1294 2234 \nL 1294 2753 \nL 1863 2753 \nQ 2328 2753 2575 2939 \nQ 2822 3125 2822 3475 \nQ 2822 3834 2567 4026 \nQ 2313 4219 1838 4219 \nQ 1578 4219 1281 4162 \nQ 984 4106 628 3988 \nL 628 4550 \nQ 988 4650 1302 4700 \nQ 1616 4750 1894 4750 \nQ 2613 4750 3031 4423 \nQ 3450 4097 3450 3541 \nQ 3450 3153 3228 2886 \nQ 3006 2619 2597 2516 \nz\n\" transform=\"scale(0.015625)\"/>\n       </defs>\n       <use xlink:href=\"#DejaVuSans-33\"/>\n       <use xlink:href=\"#DejaVuSans-30\" x=\"63.623047\"/>\n       <use xlink:href=\"#DejaVuSans-30\" x=\"127.246094\"/>\n       <use xlink:href=\"#DejaVuSans-30\" x=\"190.869141\"/>\n      </g>\n     </g>\n    </g>\n    <g id=\"xtick_5\">\n     <g id=\"line2d_5\">\n      <g>\n       <use xlink:href=\"#mcfcc33302b\" x=\"300.778711\" y=\"245.90175\" style=\"stroke: #000000; stroke-width: 0.8\"/>\n      </g>\n     </g>\n     <g id=\"text_5\">\n      <!-- 4000 -->\n      <g transform=\"translate(285.508711 262.019875) scale(0.12 -0.12)\">\n       <defs>\n        <path id=\"DejaVuSans-34\" d=\"M 2419 4116 \nL 825 1625 \nL 2419 1625 \nL 2419 4116 \nz\nM 2253 4666 \nL 3047 4666 \nL 3047 1625 \nL 3713 1625 \nL 3713 1100 \nL 3047 1100 \nL 3047 0 \nL 2419 0 \nL 2419 1100 \nL 313 1100 \nL 313 1709 \nL 2253 4666 \nz\n\" transform=\"scale(0.015625)\"/>\n       </defs>\n       <use xlink:href=\"#DejaVuSans-34\"/>\n       <use xlink:href=\"#DejaVuSans-30\" x=\"63.623047\"/>\n       <use xlink:href=\"#DejaVuSans-30\" x=\"127.246094\"/>\n       <use xlink:href=\"#DejaVuSans-30\" x=\"190.869141\"/>\n      </g>\n     </g>\n    </g>\n    <g id=\"xtick_6\">\n     <g id=\"line2d_6\">\n      <g>\n       <use xlink:href=\"#mcfcc33302b\" x=\"360.244795\" y=\"245.90175\" style=\"stroke: #000000; stroke-width: 0.8\"/>\n      </g>\n     </g>\n     <g id=\"text_6\">\n      <!-- 5000 -->\n      <g transform=\"translate(344.974795 262.019875) scale(0.12 -0.12)\">\n       <defs>\n        <path id=\"DejaVuSans-35\" d=\"M 691 4666 \nL 3169 4666 \nL 3169 4134 \nL 1269 4134 \nL 1269 2991 \nQ 1406 3038 1543 3061 \nQ 1681 3084 1819 3084 \nQ 2600 3084 3056 2656 \nQ 3513 2228 3513 1497 \nQ 3513 744 3044 326 \nQ 2575 -91 1722 -91 \nQ 1428 -91 1123 -41 \nQ 819 9 494 109 \nL 494 744 \nQ 775 591 1075 516 \nQ 1375 441 1709 441 \nQ 2250 441 2565 725 \nQ 2881 1009 2881 1497 \nQ 2881 1984 2565 2268 \nQ 2250 2553 1709 2553 \nQ 1456 2553 1204 2497 \nQ 953 2441 691 2322 \nL 691 4666 \nz\n\" transform=\"scale(0.015625)\"/>\n       </defs>\n       <use xlink:href=\"#DejaVuSans-35\"/>\n       <use xlink:href=\"#DejaVuSans-30\" x=\"63.623047\"/>\n       <use xlink:href=\"#DejaVuSans-30\" x=\"127.246094\"/>\n       <use xlink:href=\"#DejaVuSans-30\" x=\"190.869141\"/>\n      </g>\n     </g>\n    </g>\n   </g>\n   <g id=\"matplotlib.axis_2\">\n    <g id=\"ytick_1\">\n     <g id=\"line2d_7\">\n      <defs>\n       <path id=\"m5073fa590a\" d=\"M 0 0 \nL -3.5 0 \n\" style=\"stroke: #000000; stroke-width: 0.8\"/>\n      </defs>\n      <g>\n       <use xlink:href=\"#m5073fa590a\" x=\"62.914375\" y=\"227.42175\" style=\"stroke: #000000; stroke-width: 0.8\"/>\n      </g>\n     </g>\n     <g id=\"text_7\">\n      <!-- surprise -->\n      <g transform=\"translate(7.605 231.980813) scale(0.12 -0.12)\">\n       <defs>\n        <path id=\"DejaVuSans-73\" d=\"M 2834 3397 \nL 2834 2853 \nQ 2591 2978 2328 3040 \nQ 2066 3103 1784 3103 \nQ 1356 3103 1142 2972 \nQ 928 2841 928 2578 \nQ 928 2378 1081 2264 \nQ 1234 2150 1697 2047 \nL 1894 2003 \nQ 2506 1872 2764 1633 \nQ 3022 1394 3022 966 \nQ 3022 478 2636 193 \nQ 2250 -91 1575 -91 \nQ 1294 -91 989 -36 \nQ 684 19 347 128 \nL 347 722 \nQ 666 556 975 473 \nQ 1284 391 1588 391 \nQ 1994 391 2212 530 \nQ 2431 669 2431 922 \nQ 2431 1156 2273 1281 \nQ 2116 1406 1581 1522 \nL 1381 1569 \nQ 847 1681 609 1914 \nQ 372 2147 372 2553 \nQ 372 3047 722 3315 \nQ 1072 3584 1716 3584 \nQ 2034 3584 2315 3537 \nQ 2597 3491 2834 3397 \nz\n\" transform=\"scale(0.015625)\"/>\n        <path id=\"DejaVuSans-75\" d=\"M 544 1381 \nL 544 3500 \nL 1119 3500 \nL 1119 1403 \nQ 1119 906 1312 657 \nQ 1506 409 1894 409 \nQ 2359 409 2629 706 \nQ 2900 1003 2900 1516 \nL 2900 3500 \nL 3475 3500 \nL 3475 0 \nL 2900 0 \nL 2900 538 \nQ 2691 219 2414 64 \nQ 2138 -91 1772 -91 \nQ 1169 -91 856 284 \nQ 544 659 544 1381 \nz\nM 1991 3584 \nL 1991 3584 \nz\n\" transform=\"scale(0.015625)\"/>\n        <path id=\"DejaVuSans-72\" d=\"M 2631 2963 \nQ 2534 3019 2420 3045 \nQ 2306 3072 2169 3072 \nQ 1681 3072 1420 2755 \nQ 1159 2438 1159 1844 \nL 1159 0 \nL 581 0 \nL 581 3500 \nL 1159 3500 \nL 1159 2956 \nQ 1341 3275 1631 3429 \nQ 1922 3584 2338 3584 \nQ 2397 3584 2469 3576 \nQ 2541 3569 2628 3553 \nL 2631 2963 \nz\n\" transform=\"scale(0.015625)\"/>\n        <path id=\"DejaVuSans-70\" d=\"M 1159 525 \nL 1159 -1331 \nL 581 -1331 \nL 581 3500 \nL 1159 3500 \nL 1159 2969 \nQ 1341 3281 1617 3432 \nQ 1894 3584 2278 3584 \nQ 2916 3584 3314 3078 \nQ 3713 2572 3713 1747 \nQ 3713 922 3314 415 \nQ 2916 -91 2278 -91 \nQ 1894 -91 1617 61 \nQ 1341 213 1159 525 \nz\nM 3116 1747 \nQ 3116 2381 2855 2742 \nQ 2594 3103 2138 3103 \nQ 1681 3103 1420 2742 \nQ 1159 2381 1159 1747 \nQ 1159 1113 1420 752 \nQ 1681 391 2138 391 \nQ 2594 391 2855 752 \nQ 3116 1113 3116 1747 \nz\n\" transform=\"scale(0.015625)\"/>\n        <path id=\"DejaVuSans-69\" d=\"M 603 3500 \nL 1178 3500 \nL 1178 0 \nL 603 0 \nL 603 3500 \nz\nM 603 4863 \nL 1178 4863 \nL 1178 4134 \nL 603 4134 \nL 603 4863 \nz\n\" transform=\"scale(0.015625)\"/>\n        <path id=\"DejaVuSans-65\" d=\"M 3597 1894 \nL 3597 1613 \nL 953 1613 \nQ 991 1019 1311 708 \nQ 1631 397 2203 397 \nQ 2534 397 2845 478 \nQ 3156 559 3463 722 \nL 3463 178 \nQ 3153 47 2828 -22 \nQ 2503 -91 2169 -91 \nQ 1331 -91 842 396 \nQ 353 884 353 1716 \nQ 353 2575 817 3079 \nQ 1281 3584 2069 3584 \nQ 2775 3584 3186 3129 \nQ 3597 2675 3597 1894 \nz\nM 3022 2063 \nQ 3016 2534 2758 2815 \nQ 2500 3097 2075 3097 \nQ 1594 3097 1305 2825 \nQ 1016 2553 972 2059 \nL 3022 2063 \nz\n\" transform=\"scale(0.015625)\"/>\n       </defs>\n       <use xlink:href=\"#DejaVuSans-73\"/>\n       <use xlink:href=\"#DejaVuSans-75\" x=\"52.099609\"/>\n       <use xlink:href=\"#DejaVuSans-72\" x=\"115.478516\"/>\n       <use xlink:href=\"#DejaVuSans-70\" x=\"156.591797\"/>\n       <use xlink:href=\"#DejaVuSans-72\" x=\"220.068359\"/>\n       <use xlink:href=\"#DejaVuSans-69\" x=\"261.181641\"/>\n       <use xlink:href=\"#DejaVuSans-73\" x=\"288.964844\"/>\n       <use xlink:href=\"#DejaVuSans-65\" x=\"341.064453\"/>\n      </g>\n     </g>\n    </g>\n    <g id=\"ytick_2\">\n     <g id=\"line2d_8\">\n      <g>\n       <use xlink:href=\"#m5073fa590a\" x=\"62.914375\" y=\"190.46175\" style=\"stroke: #000000; stroke-width: 0.8\"/>\n      </g>\n     </g>\n     <g id=\"text_8\">\n      <!-- love -->\n      <g transform=\"translate(30.751875 195.020813) scale(0.12 -0.12)\">\n       <defs>\n        <path id=\"DejaVuSans-6c\" d=\"M 603 4863 \nL 1178 4863 \nL 1178 0 \nL 603 0 \nL 603 4863 \nz\n\" transform=\"scale(0.015625)\"/>\n        <path id=\"DejaVuSans-6f\" d=\"M 1959 3097 \nQ 1497 3097 1228 2736 \nQ 959 2375 959 1747 \nQ 959 1119 1226 758 \nQ 1494 397 1959 397 \nQ 2419 397 2687 759 \nQ 2956 1122 2956 1747 \nQ 2956 2369 2687 2733 \nQ 2419 3097 1959 3097 \nz\nM 1959 3584 \nQ 2709 3584 3137 3096 \nQ 3566 2609 3566 1747 \nQ 3566 888 3137 398 \nQ 2709 -91 1959 -91 \nQ 1206 -91 779 398 \nQ 353 888 353 1747 \nQ 353 2609 779 3096 \nQ 1206 3584 1959 3584 \nz\n\" transform=\"scale(0.015625)\"/>\n        <path id=\"DejaVuSans-76\" d=\"M 191 3500 \nL 800 3500 \nL 1894 563 \nL 2988 3500 \nL 3597 3500 \nL 2284 0 \nL 1503 0 \nL 191 3500 \nz\n\" transform=\"scale(0.015625)\"/>\n       </defs>\n       <use xlink:href=\"#DejaVuSans-6c\"/>\n       <use xlink:href=\"#DejaVuSans-6f\" x=\"27.783203\"/>\n       <use xlink:href=\"#DejaVuSans-76\" x=\"88.964844\"/>\n       <use xlink:href=\"#DejaVuSans-65\" x=\"148.144531\"/>\n      </g>\n     </g>\n    </g>\n    <g id=\"ytick_3\">\n     <g id=\"line2d_9\">\n      <g>\n       <use xlink:href=\"#m5073fa590a\" x=\"62.914375\" y=\"153.50175\" style=\"stroke: #000000; stroke-width: 0.8\"/>\n      </g>\n     </g>\n     <g id=\"text_9\">\n      <!-- fear -->\n      <g transform=\"translate(32.019375 158.060813) scale(0.12 -0.12)\">\n       <defs>\n        <path id=\"DejaVuSans-66\" d=\"M 2375 4863 \nL 2375 4384 \nL 1825 4384 \nQ 1516 4384 1395 4259 \nQ 1275 4134 1275 3809 \nL 1275 3500 \nL 2222 3500 \nL 2222 3053 \nL 1275 3053 \nL 1275 0 \nL 697 0 \nL 697 3053 \nL 147 3053 \nL 147 3500 \nL 697 3500 \nL 697 3744 \nQ 697 4328 969 4595 \nQ 1241 4863 1831 4863 \nL 2375 4863 \nz\n\" transform=\"scale(0.015625)\"/>\n        <path id=\"DejaVuSans-61\" d=\"M 2194 1759 \nQ 1497 1759 1228 1600 \nQ 959 1441 959 1056 \nQ 959 750 1161 570 \nQ 1363 391 1709 391 \nQ 2188 391 2477 730 \nQ 2766 1069 2766 1631 \nL 2766 1759 \nL 2194 1759 \nz\nM 3341 1997 \nL 3341 0 \nL 2766 0 \nL 2766 531 \nQ 2569 213 2275 61 \nQ 1981 -91 1556 -91 \nQ 1019 -91 701 211 \nQ 384 513 384 1019 \nQ 384 1609 779 1909 \nQ 1175 2209 1959 2209 \nL 2766 2209 \nL 2766 2266 \nQ 2766 2663 2505 2880 \nQ 2244 3097 1772 3097 \nQ 1472 3097 1187 3025 \nQ 903 2953 641 2809 \nL 641 3341 \nQ 956 3463 1253 3523 \nQ 1550 3584 1831 3584 \nQ 2591 3584 2966 3190 \nQ 3341 2797 3341 1997 \nz\n\" transform=\"scale(0.015625)\"/>\n       </defs>\n       <use xlink:href=\"#DejaVuSans-66\"/>\n       <use xlink:href=\"#DejaVuSans-65\" x=\"35.205078\"/>\n       <use xlink:href=\"#DejaVuSans-61\" x=\"96.728516\"/>\n       <use xlink:href=\"#DejaVuSans-72\" x=\"158.007812\"/>\n      </g>\n     </g>\n    </g>\n    <g id=\"ytick_4\">\n     <g id=\"line2d_10\">\n      <g>\n       <use xlink:href=\"#m5073fa590a\" x=\"62.914375\" y=\"116.54175\" style=\"stroke: #000000; stroke-width: 0.8\"/>\n      </g>\n     </g>\n     <g id=\"text_10\">\n      <!-- anger -->\n      <g transform=\"translate(21.020625 121.100813) scale(0.12 -0.12)\">\n       <defs>\n        <path id=\"DejaVuSans-6e\" d=\"M 3513 2113 \nL 3513 0 \nL 2938 0 \nL 2938 2094 \nQ 2938 2591 2744 2837 \nQ 2550 3084 2163 3084 \nQ 1697 3084 1428 2787 \nQ 1159 2491 1159 1978 \nL 1159 0 \nL 581 0 \nL 581 3500 \nL 1159 3500 \nL 1159 2956 \nQ 1366 3272 1645 3428 \nQ 1925 3584 2291 3584 \nQ 2894 3584 3203 3211 \nQ 3513 2838 3513 2113 \nz\n\" transform=\"scale(0.015625)\"/>\n        <path id=\"DejaVuSans-67\" d=\"M 2906 1791 \nQ 2906 2416 2648 2759 \nQ 2391 3103 1925 3103 \nQ 1463 3103 1205 2759 \nQ 947 2416 947 1791 \nQ 947 1169 1205 825 \nQ 1463 481 1925 481 \nQ 2391 481 2648 825 \nQ 2906 1169 2906 1791 \nz\nM 3481 434 \nQ 3481 -459 3084 -895 \nQ 2688 -1331 1869 -1331 \nQ 1566 -1331 1297 -1286 \nQ 1028 -1241 775 -1147 \nL 775 -588 \nQ 1028 -725 1275 -790 \nQ 1522 -856 1778 -856 \nQ 2344 -856 2625 -561 \nQ 2906 -266 2906 331 \nL 2906 616 \nQ 2728 306 2450 153 \nQ 2172 0 1784 0 \nQ 1141 0 747 490 \nQ 353 981 353 1791 \nQ 353 2603 747 3093 \nQ 1141 3584 1784 3584 \nQ 2172 3584 2450 3431 \nQ 2728 3278 2906 2969 \nL 2906 3500 \nL 3481 3500 \nL 3481 434 \nz\n\" transform=\"scale(0.015625)\"/>\n       </defs>\n       <use xlink:href=\"#DejaVuSans-61\"/>\n       <use xlink:href=\"#DejaVuSans-6e\" x=\"61.279297\"/>\n       <use xlink:href=\"#DejaVuSans-67\" x=\"124.658203\"/>\n       <use xlink:href=\"#DejaVuSans-65\" x=\"188.134766\"/>\n       <use xlink:href=\"#DejaVuSans-72\" x=\"249.658203\"/>\n      </g>\n     </g>\n    </g>\n    <g id=\"ytick_5\">\n     <g id=\"line2d_11\">\n      <g>\n       <use xlink:href=\"#m5073fa590a\" x=\"62.914375\" y=\"79.58175\" style=\"stroke: #000000; stroke-width: 0.8\"/>\n      </g>\n     </g>\n     <g id=\"text_11\">\n      <!-- sadness -->\n      <g transform=\"translate(7.2 84.140813) scale(0.12 -0.12)\">\n       <defs>\n        <path id=\"DejaVuSans-64\" d=\"M 2906 2969 \nL 2906 4863 \nL 3481 4863 \nL 3481 0 \nL 2906 0 \nL 2906 525 \nQ 2725 213 2448 61 \nQ 2172 -91 1784 -91 \nQ 1150 -91 751 415 \nQ 353 922 353 1747 \nQ 353 2572 751 3078 \nQ 1150 3584 1784 3584 \nQ 2172 3584 2448 3432 \nQ 2725 3281 2906 2969 \nz\nM 947 1747 \nQ 947 1113 1208 752 \nQ 1469 391 1925 391 \nQ 2381 391 2643 752 \nQ 2906 1113 2906 1747 \nQ 2906 2381 2643 2742 \nQ 2381 3103 1925 3103 \nQ 1469 3103 1208 2742 \nQ 947 2381 947 1747 \nz\n\" transform=\"scale(0.015625)\"/>\n       </defs>\n       <use xlink:href=\"#DejaVuSans-73\"/>\n       <use xlink:href=\"#DejaVuSans-61\" x=\"52.099609\"/>\n       <use xlink:href=\"#DejaVuSans-64\" x=\"113.378906\"/>\n       <use xlink:href=\"#DejaVuSans-6e\" x=\"176.855469\"/>\n       <use xlink:href=\"#DejaVuSans-65\" x=\"240.234375\"/>\n       <use xlink:href=\"#DejaVuSans-73\" x=\"301.757812\"/>\n       <use xlink:href=\"#DejaVuSans-73\" x=\"353.857422\"/>\n      </g>\n     </g>\n    </g>\n    <g id=\"ytick_6\">\n     <g id=\"line2d_12\">\n      <g>\n       <use xlink:href=\"#m5073fa590a\" x=\"62.914375\" y=\"42.62175\" style=\"stroke: #000000; stroke-width: 0.8\"/>\n      </g>\n     </g>\n     <g id=\"text_12\">\n      <!-- joy -->\n      <g transform=\"translate(38.135625 47.180813) scale(0.12 -0.12)\">\n       <defs>\n        <path id=\"DejaVuSans-6a\" d=\"M 603 3500 \nL 1178 3500 \nL 1178 -63 \nQ 1178 -731 923 -1031 \nQ 669 -1331 103 -1331 \nL -116 -1331 \nL -116 -844 \nL 38 -844 \nQ 366 -844 484 -692 \nQ 603 -541 603 -63 \nL 603 3500 \nz\nM 603 4863 \nL 1178 4863 \nL 1178 4134 \nL 603 4134 \nL 603 4863 \nz\n\" transform=\"scale(0.015625)\"/>\n        <path id=\"DejaVuSans-79\" d=\"M 2059 -325 \nQ 1816 -950 1584 -1140 \nQ 1353 -1331 966 -1331 \nL 506 -1331 \nL 506 -850 \nL 844 -850 \nQ 1081 -850 1212 -737 \nQ 1344 -625 1503 -206 \nL 1606 56 \nL 191 3500 \nL 800 3500 \nL 1894 763 \nL 2988 3500 \nL 3597 3500 \nL 2059 -325 \nz\n\" transform=\"scale(0.015625)\"/>\n       </defs>\n       <use xlink:href=\"#DejaVuSans-6a\"/>\n       <use xlink:href=\"#DejaVuSans-6f\" x=\"27.783203\"/>\n       <use xlink:href=\"#DejaVuSans-79\" x=\"88.964844\"/>\n      </g>\n     </g>\n    </g>\n   </g>\n   <g id=\"patch_9\">\n    <path d=\"M 62.914375 245.90175 \nL 62.914375 24.14175 \n\" style=\"fill: none; stroke: #000000; stroke-width: 0.8; stroke-linejoin: miter; stroke-linecap: square\"/>\n   </g>\n   <g id=\"patch_10\">\n    <path d=\"M 397.714375 245.90175 \nL 397.714375 24.14175 \n\" style=\"fill: none; stroke: #000000; stroke-width: 0.8; stroke-linejoin: miter; stroke-linecap: square\"/>\n   </g>\n   <g id=\"patch_11\">\n    <path d=\"M 62.914375 245.90175 \nL 397.714375 245.90175 \n\" style=\"fill: none; stroke: #000000; stroke-width: 0.8; stroke-linejoin: miter; stroke-linecap: square\"/>\n   </g>\n   <g id=\"patch_12\">\n    <path d=\"M 62.914375 24.14175 \nL 397.714375 24.14175 \n\" style=\"fill: none; stroke: #000000; stroke-width: 0.8; stroke-linejoin: miter; stroke-linecap: square\"/>\n   </g>\n   <g id=\"text_13\">\n    <!-- Frequency of Classes -->\n    <g transform=\"translate(154.480375 18.14175) scale(0.144 -0.144)\">\n     <defs>\n      <path id=\"DejaVuSans-46\" d=\"M 628 4666 \nL 3309 4666 \nL 3309 4134 \nL 1259 4134 \nL 1259 2759 \nL 3109 2759 \nL 3109 2228 \nL 1259 2228 \nL 1259 0 \nL 628 0 \nL 628 4666 \nz\n\" transform=\"scale(0.015625)\"/>\n      <path id=\"DejaVuSans-71\" d=\"M 947 1747 \nQ 947 1113 1208 752 \nQ 1469 391 1925 391 \nQ 2381 391 2643 752 \nQ 2906 1113 2906 1747 \nQ 2906 2381 2643 2742 \nQ 2381 3103 1925 3103 \nQ 1469 3103 1208 2742 \nQ 947 2381 947 1747 \nz\nM 2906 525 \nQ 2725 213 2448 61 \nQ 2172 -91 1784 -91 \nQ 1150 -91 751 415 \nQ 353 922 353 1747 \nQ 353 2572 751 3078 \nQ 1150 3584 1784 3584 \nQ 2172 3584 2448 3432 \nQ 2725 3281 2906 2969 \nL 2906 3500 \nL 3481 3500 \nL 3481 -1331 \nL 2906 -1331 \nL 2906 525 \nz\n\" transform=\"scale(0.015625)\"/>\n      <path id=\"DejaVuSans-63\" d=\"M 3122 3366 \nL 3122 2828 \nQ 2878 2963 2633 3030 \nQ 2388 3097 2138 3097 \nQ 1578 3097 1268 2742 \nQ 959 2388 959 1747 \nQ 959 1106 1268 751 \nQ 1578 397 2138 397 \nQ 2388 397 2633 464 \nQ 2878 531 3122 666 \nL 3122 134 \nQ 2881 22 2623 -34 \nQ 2366 -91 2075 -91 \nQ 1284 -91 818 406 \nQ 353 903 353 1747 \nQ 353 2603 823 3093 \nQ 1294 3584 2113 3584 \nQ 2378 3584 2631 3529 \nQ 2884 3475 3122 3366 \nz\n\" transform=\"scale(0.015625)\"/>\n      <path id=\"DejaVuSans-20\" transform=\"scale(0.015625)\"/>\n      <path id=\"DejaVuSans-43\" d=\"M 4122 4306 \nL 4122 3641 \nQ 3803 3938 3442 4084 \nQ 3081 4231 2675 4231 \nQ 1875 4231 1450 3742 \nQ 1025 3253 1025 2328 \nQ 1025 1406 1450 917 \nQ 1875 428 2675 428 \nQ 3081 428 3442 575 \nQ 3803 722 4122 1019 \nL 4122 359 \nQ 3791 134 3420 21 \nQ 3050 -91 2638 -91 \nQ 1578 -91 968 557 \nQ 359 1206 359 2328 \nQ 359 3453 968 4101 \nQ 1578 4750 2638 4750 \nQ 3056 4750 3426 4639 \nQ 3797 4528 4122 4306 \nz\n\" transform=\"scale(0.015625)\"/>\n     </defs>\n     <use xlink:href=\"#DejaVuSans-46\"/>\n     <use xlink:href=\"#DejaVuSans-72\" x=\"50.269531\"/>\n     <use xlink:href=\"#DejaVuSans-65\" x=\"89.132812\"/>\n     <use xlink:href=\"#DejaVuSans-71\" x=\"150.65625\"/>\n     <use xlink:href=\"#DejaVuSans-75\" x=\"214.132812\"/>\n     <use xlink:href=\"#DejaVuSans-65\" x=\"277.511719\"/>\n     <use xlink:href=\"#DejaVuSans-6e\" x=\"339.035156\"/>\n     <use xlink:href=\"#DejaVuSans-63\" x=\"402.414062\"/>\n     <use xlink:href=\"#DejaVuSans-79\" x=\"457.394531\"/>\n     <use xlink:href=\"#DejaVuSans-20\" x=\"516.574219\"/>\n     <use xlink:href=\"#DejaVuSans-6f\" x=\"548.361328\"/>\n     <use xlink:href=\"#DejaVuSans-66\" x=\"609.542969\"/>\n     <use xlink:href=\"#DejaVuSans-20\" x=\"644.748047\"/>\n     <use xlink:href=\"#DejaVuSans-43\" x=\"676.535156\"/>\n     <use xlink:href=\"#DejaVuSans-6c\" x=\"746.359375\"/>\n     <use xlink:href=\"#DejaVuSans-61\" x=\"774.142578\"/>\n     <use xlink:href=\"#DejaVuSans-73\" x=\"835.421875\"/>\n     <use xlink:href=\"#DejaVuSans-73\" x=\"887.521484\"/>\n     <use xlink:href=\"#DejaVuSans-65\" x=\"939.621094\"/>\n     <use xlink:href=\"#DejaVuSans-73\" x=\"1001.144531\"/>\n    </g>\n   </g>\n  </g>\n </g>\n <defs>\n  <clipPath id=\"pce1085e528\">\n   <rect x=\"62.914375\" y=\"24.14175\" width=\"334.8\" height=\"221.76\"/>\n  </clipPath>\n </defs>\n</svg>\n",
            "application/pdf": "[encoded data removed]"
          },
          "metadata": {}
        }
      ]
    },
    {
      "cell_type": "markdown",
      "source": [
        "### 2.1.4 트윗 길이 확인"
      ],
      "metadata": {
        "id": "T1Oydmrm9-RT"
      }
    },
    {
      "cell_type": "code",
      "source": [
        "df[\"Words Per Tweet\"] = df[\"text\"].str.split().apply(len)\n",
        "df.boxplot(\"Words Per Tweet\", by=\"label_name\", grid=False, showfliers=False, color=\"black\")\n",
        "plt.suptitle(\"\")\n",
        "plt.xlabel(\"\")\n",
        "plt.show()"
      ],
      "metadata": {
        "colab": {
          "base_uri": "https://localhost:8080/",
          "height": 375
        },
        "id": "A6AmfMb99ULV",
        "outputId": "891bec11-0ebe-4177-aac4-be799c418932"
      },
      "execution_count": 8,
      "outputs": [
        {
          "output_type": "display_data",
          "data": {
            "text/plain": [
              "<Figure size 600x400 with 1 Axes>"
            ],
            "image/svg+xml": "<?xml version=\"1.0\" encoding=\"utf-8\" standalone=\"no\"?>\n<!DOCTYPE svg PUBLIC \"-//W3C//DTD SVG 1.1//EN\"\n  \"http://www.w3.org/Graphics/SVG/1.1/DTD/svg11.dtd\">\n<svg xmlns:xlink=\"http://www.w3.org/1999/xlink\" width=\"382.27pt\" height=\"265.9555pt\" viewBox=\"0 0 382.27 265.9555\" xmlns=\"http://www.w3.org/2000/svg\" version=\"1.1\">\n <metadata>\n  <rdf:RDF xmlns:dc=\"http://purl.org/dc/elements/1.1/\" xmlns:cc=\"http://creativecommons.org/ns#\" xmlns:rdf=\"http://www.w3.org/1999/02/22-rdf-syntax-ns#\">\n   <cc:Work>\n    <dc:type rdf:resource=\"http://purl.org/dc/dcmitype/StillImage\"/>\n    <dc:date>2023-07-16T14:47:47.419569</dc:date>\n    <dc:format>image/svg+xml</dc:format>\n    <dc:creator>\n     <cc:Agent>\n      <dc:title>Matplotlib v3.7.1, https://matplotlib.org/</dc:title>\n     </cc:Agent>\n    </dc:creator>\n   </cc:Work>\n  </rdf:RDF>\n </metadata>\n <defs>\n  <style type=\"text/css\">*{stroke-linejoin: round; stroke-linecap: butt}</style>\n </defs>\n <g id=\"figure_1\">\n  <g id=\"patch_1\">\n   <path d=\"M 0 265.9555 \nL 382.27 265.9555 \nL 382.27 0 \nL 0 0 \nz\n\" style=\"fill: #ffffff\"/>\n  </g>\n  <g id=\"axes_1\">\n   <g id=\"patch_2\">\n    <path d=\"M 29.47 240.14175 \nL 375.07 240.14175 \nL 375.07 24.14175 \nL 29.47 24.14175 \nz\n\" style=\"fill: #ffffff\"/>\n   </g>\n   <g id=\"matplotlib.axis_1\">\n    <g id=\"xtick_1\">\n     <g id=\"line2d_1\">\n      <defs>\n       <path id=\"m31fe562f3b\" d=\"M 0 0 \nL 0 3.5 \n\" style=\"stroke: #000000; stroke-width: 0.8\"/>\n      </defs>\n      <g>\n       <use xlink:href=\"#m31fe562f3b\" x=\"58.27\" y=\"240.14175\" style=\"stroke: #000000; stroke-width: 0.8\"/>\n      </g>\n     </g>\n     <g id=\"text_1\">\n      <!-- anger -->\n      <g transform=\"translate(40.823125 256.259875) scale(0.12 -0.12)\">\n       <defs>\n        <path id=\"DejaVuSans-61\" d=\"M 2194 1759 \nQ 1497 1759 1228 1600 \nQ 959 1441 959 1056 \nQ 959 750 1161 570 \nQ 1363 391 1709 391 \nQ 2188 391 2477 730 \nQ 2766 1069 2766 1631 \nL 2766 1759 \nL 2194 1759 \nz\nM 3341 1997 \nL 3341 0 \nL 2766 0 \nL 2766 531 \nQ 2569 213 2275 61 \nQ 1981 -91 1556 -91 \nQ 1019 -91 701 211 \nQ 384 513 384 1019 \nQ 384 1609 779 1909 \nQ 1175 2209 1959 2209 \nL 2766 2209 \nL 2766 2266 \nQ 2766 2663 2505 2880 \nQ 2244 3097 1772 3097 \nQ 1472 3097 1187 3025 \nQ 903 2953 641 2809 \nL 641 3341 \nQ 956 3463 1253 3523 \nQ 1550 3584 1831 3584 \nQ 2591 3584 2966 3190 \nQ 3341 2797 3341 1997 \nz\n\" transform=\"scale(0.015625)\"/>\n        <path id=\"DejaVuSans-6e\" d=\"M 3513 2113 \nL 3513 0 \nL 2938 0 \nL 2938 2094 \nQ 2938 2591 2744 2837 \nQ 2550 3084 2163 3084 \nQ 1697 3084 1428 2787 \nQ 1159 2491 1159 1978 \nL 1159 0 \nL 581 0 \nL 581 3500 \nL 1159 3500 \nL 1159 2956 \nQ 1366 3272 1645 3428 \nQ 1925 3584 2291 3584 \nQ 2894 3584 3203 3211 \nQ 3513 2838 3513 2113 \nz\n\" transform=\"scale(0.015625)\"/>\n        <path id=\"DejaVuSans-67\" d=\"M 2906 1791 \nQ 2906 2416 2648 2759 \nQ 2391 3103 1925 3103 \nQ 1463 3103 1205 2759 \nQ 947 2416 947 1791 \nQ 947 1169 1205 825 \nQ 1463 481 1925 481 \nQ 2391 481 2648 825 \nQ 2906 1169 2906 1791 \nz\nM 3481 434 \nQ 3481 -459 3084 -895 \nQ 2688 -1331 1869 -1331 \nQ 1566 -1331 1297 -1286 \nQ 1028 -1241 775 -1147 \nL 775 -588 \nQ 1028 -725 1275 -790 \nQ 1522 -856 1778 -856 \nQ 2344 -856 2625 -561 \nQ 2906 -266 2906 331 \nL 2906 616 \nQ 2728 306 2450 153 \nQ 2172 0 1784 0 \nQ 1141 0 747 490 \nQ 353 981 353 1791 \nQ 353 2603 747 3093 \nQ 1141 3584 1784 3584 \nQ 2172 3584 2450 3431 \nQ 2728 3278 2906 2969 \nL 2906 3500 \nL 3481 3500 \nL 3481 434 \nz\n\" transform=\"scale(0.015625)\"/>\n        <path id=\"DejaVuSans-65\" d=\"M 3597 1894 \nL 3597 1613 \nL 953 1613 \nQ 991 1019 1311 708 \nQ 1631 397 2203 397 \nQ 2534 397 2845 478 \nQ 3156 559 3463 722 \nL 3463 178 \nQ 3153 47 2828 -22 \nQ 2503 -91 2169 -91 \nQ 1331 -91 842 396 \nQ 353 884 353 1716 \nQ 353 2575 817 3079 \nQ 1281 3584 2069 3584 \nQ 2775 3584 3186 3129 \nQ 3597 2675 3597 1894 \nz\nM 3022 2063 \nQ 3016 2534 2758 2815 \nQ 2500 3097 2075 3097 \nQ 1594 3097 1305 2825 \nQ 1016 2553 972 2059 \nL 3022 2063 \nz\n\" transform=\"scale(0.015625)\"/>\n        <path id=\"DejaVuSans-72\" d=\"M 2631 2963 \nQ 2534 3019 2420 3045 \nQ 2306 3072 2169 3072 \nQ 1681 3072 1420 2755 \nQ 1159 2438 1159 1844 \nL 1159 0 \nL 581 0 \nL 581 3500 \nL 1159 3500 \nL 1159 2956 \nQ 1341 3275 1631 3429 \nQ 1922 3584 2338 3584 \nQ 2397 3584 2469 3576 \nQ 2541 3569 2628 3553 \nL 2631 2963 \nz\n\" transform=\"scale(0.015625)\"/>\n       </defs>\n       <use xlink:href=\"#DejaVuSans-61\"/>\n       <use xlink:href=\"#DejaVuSans-6e\" x=\"61.279297\"/>\n       <use xlink:href=\"#DejaVuSans-67\" x=\"124.658203\"/>\n       <use xlink:href=\"#DejaVuSans-65\" x=\"188.134766\"/>\n       <use xlink:href=\"#DejaVuSans-72\" x=\"249.658203\"/>\n      </g>\n     </g>\n    </g>\n    <g id=\"xtick_2\">\n     <g id=\"line2d_2\">\n      <g>\n       <use xlink:href=\"#m31fe562f3b\" x=\"115.87\" y=\"240.14175\" style=\"stroke: #000000; stroke-width: 0.8\"/>\n      </g>\n     </g>\n     <g id=\"text_2\">\n      <!-- fear -->\n      <g transform=\"translate(103.9225 256.259875) scale(0.12 -0.12)\">\n       <defs>\n        <path id=\"DejaVuSans-66\" d=\"M 2375 4863 \nL 2375 4384 \nL 1825 4384 \nQ 1516 4384 1395 4259 \nQ 1275 4134 1275 3809 \nL 1275 3500 \nL 2222 3500 \nL 2222 3053 \nL 1275 3053 \nL 1275 0 \nL 697 0 \nL 697 3053 \nL 147 3053 \nL 147 3500 \nL 697 3500 \nL 697 3744 \nQ 697 4328 969 4595 \nQ 1241 4863 1831 4863 \nL 2375 4863 \nz\n\" transform=\"scale(0.015625)\"/>\n       </defs>\n       <use xlink:href=\"#DejaVuSans-66\"/>\n       <use xlink:href=\"#DejaVuSans-65\" x=\"35.205078\"/>\n       <use xlink:href=\"#DejaVuSans-61\" x=\"96.728516\"/>\n       <use xlink:href=\"#DejaVuSans-72\" x=\"158.007812\"/>\n      </g>\n     </g>\n    </g>\n    <g id=\"xtick_3\">\n     <g id=\"line2d_3\">\n      <g>\n       <use xlink:href=\"#m31fe562f3b\" x=\"173.47\" y=\"240.14175\" style=\"stroke: #000000; stroke-width: 0.8\"/>\n      </g>\n     </g>\n     <g id=\"text_3\">\n      <!-- joy -->\n      <g transform=\"translate(164.580625 256.259875) scale(0.12 -0.12)\">\n       <defs>\n        <path id=\"DejaVuSans-6a\" d=\"M 603 3500 \nL 1178 3500 \nL 1178 -63 \nQ 1178 -731 923 -1031 \nQ 669 -1331 103 -1331 \nL -116 -1331 \nL -116 -844 \nL 38 -844 \nQ 366 -844 484 -692 \nQ 603 -541 603 -63 \nL 603 3500 \nz\nM 603 4863 \nL 1178 4863 \nL 1178 4134 \nL 603 4134 \nL 603 4863 \nz\n\" transform=\"scale(0.015625)\"/>\n        <path id=\"DejaVuSans-6f\" d=\"M 1959 3097 \nQ 1497 3097 1228 2736 \nQ 959 2375 959 1747 \nQ 959 1119 1226 758 \nQ 1494 397 1959 397 \nQ 2419 397 2687 759 \nQ 2956 1122 2956 1747 \nQ 2956 2369 2687 2733 \nQ 2419 3097 1959 3097 \nz\nM 1959 3584 \nQ 2709 3584 3137 3096 \nQ 3566 2609 3566 1747 \nQ 3566 888 3137 398 \nQ 2709 -91 1959 -91 \nQ 1206 -91 779 398 \nQ 353 888 353 1747 \nQ 353 2609 779 3096 \nQ 1206 3584 1959 3584 \nz\n\" transform=\"scale(0.015625)\"/>\n        <path id=\"DejaVuSans-79\" d=\"M 2059 -325 \nQ 1816 -950 1584 -1140 \nQ 1353 -1331 966 -1331 \nL 506 -1331 \nL 506 -850 \nL 844 -850 \nQ 1081 -850 1212 -737 \nQ 1344 -625 1503 -206 \nL 1606 56 \nL 191 3500 \nL 800 3500 \nL 1894 763 \nL 2988 3500 \nL 3597 3500 \nL 2059 -325 \nz\n\" transform=\"scale(0.015625)\"/>\n       </defs>\n       <use xlink:href=\"#DejaVuSans-6a\"/>\n       <use xlink:href=\"#DejaVuSans-6f\" x=\"27.783203\"/>\n       <use xlink:href=\"#DejaVuSans-79\" x=\"88.964844\"/>\n      </g>\n     </g>\n    </g>\n    <g id=\"xtick_4\">\n     <g id=\"line2d_4\">\n      <g>\n       <use xlink:href=\"#m31fe562f3b\" x=\"231.07\" y=\"240.14175\" style=\"stroke: #000000; stroke-width: 0.8\"/>\n      </g>\n     </g>\n     <g id=\"text_4\">\n      <!-- love -->\n      <g transform=\"translate(218.48875 256.259875) scale(0.12 -0.12)\">\n       <defs>\n        <path id=\"DejaVuSans-6c\" d=\"M 603 4863 \nL 1178 4863 \nL 1178 0 \nL 603 0 \nL 603 4863 \nz\n\" transform=\"scale(0.015625)\"/>\n        <path id=\"DejaVuSans-76\" d=\"M 191 3500 \nL 800 3500 \nL 1894 563 \nL 2988 3500 \nL 3597 3500 \nL 2284 0 \nL 1503 0 \nL 191 3500 \nz\n\" transform=\"scale(0.015625)\"/>\n       </defs>\n       <use xlink:href=\"#DejaVuSans-6c\"/>\n       <use xlink:href=\"#DejaVuSans-6f\" x=\"27.783203\"/>\n       <use xlink:href=\"#DejaVuSans-76\" x=\"88.964844\"/>\n       <use xlink:href=\"#DejaVuSans-65\" x=\"148.144531\"/>\n      </g>\n     </g>\n    </g>\n    <g id=\"xtick_5\">\n     <g id=\"line2d_5\">\n      <g>\n       <use xlink:href=\"#m31fe562f3b\" x=\"288.67\" y=\"240.14175\" style=\"stroke: #000000; stroke-width: 0.8\"/>\n      </g>\n     </g>\n     <g id=\"text_5\">\n      <!-- sadness -->\n      <g transform=\"translate(264.312813 256.259875) scale(0.12 -0.12)\">\n       <defs>\n        <path id=\"DejaVuSans-73\" d=\"M 2834 3397 \nL 2834 2853 \nQ 2591 2978 2328 3040 \nQ 2066 3103 1784 3103 \nQ 1356 3103 1142 2972 \nQ 928 2841 928 2578 \nQ 928 2378 1081 2264 \nQ 1234 2150 1697 2047 \nL 1894 2003 \nQ 2506 1872 2764 1633 \nQ 3022 1394 3022 966 \nQ 3022 478 2636 193 \nQ 2250 -91 1575 -91 \nQ 1294 -91 989 -36 \nQ 684 19 347 128 \nL 347 722 \nQ 666 556 975 473 \nQ 1284 391 1588 391 \nQ 1994 391 2212 530 \nQ 2431 669 2431 922 \nQ 2431 1156 2273 1281 \nQ 2116 1406 1581 1522 \nL 1381 1569 \nQ 847 1681 609 1914 \nQ 372 2147 372 2553 \nQ 372 3047 722 3315 \nQ 1072 3584 1716 3584 \nQ 2034 3584 2315 3537 \nQ 2597 3491 2834 3397 \nz\n\" transform=\"scale(0.015625)\"/>\n        <path id=\"DejaVuSans-64\" d=\"M 2906 2969 \nL 2906 4863 \nL 3481 4863 \nL 3481 0 \nL 2906 0 \nL 2906 525 \nQ 2725 213 2448 61 \nQ 2172 -91 1784 -91 \nQ 1150 -91 751 415 \nQ 353 922 353 1747 \nQ 353 2572 751 3078 \nQ 1150 3584 1784 3584 \nQ 2172 3584 2448 3432 \nQ 2725 3281 2906 2969 \nz\nM 947 1747 \nQ 947 1113 1208 752 \nQ 1469 391 1925 391 \nQ 2381 391 2643 752 \nQ 2906 1113 2906 1747 \nQ 2906 2381 2643 2742 \nQ 2381 3103 1925 3103 \nQ 1469 3103 1208 2742 \nQ 947 2381 947 1747 \nz\n\" transform=\"scale(0.015625)\"/>\n       </defs>\n       <use xlink:href=\"#DejaVuSans-73\"/>\n       <use xlink:href=\"#DejaVuSans-61\" x=\"52.099609\"/>\n       <use xlink:href=\"#DejaVuSans-64\" x=\"113.378906\"/>\n       <use xlink:href=\"#DejaVuSans-6e\" x=\"176.855469\"/>\n       <use xlink:href=\"#DejaVuSans-65\" x=\"240.234375\"/>\n       <use xlink:href=\"#DejaVuSans-73\" x=\"301.757812\"/>\n       <use xlink:href=\"#DejaVuSans-73\" x=\"353.857422\"/>\n      </g>\n     </g>\n    </g>\n    <g id=\"xtick_6\">\n     <g id=\"line2d_6\">\n      <g>\n       <use xlink:href=\"#m31fe562f3b\" x=\"346.27\" y=\"240.14175\" style=\"stroke: #000000; stroke-width: 0.8\"/>\n      </g>\n     </g>\n     <g id=\"text_6\">\n      <!-- surprise -->\n      <g transform=\"translate(322.115313 256.259875) scale(0.12 -0.12)\">\n       <defs>\n        <path id=\"DejaVuSans-75\" d=\"M 544 1381 \nL 544 3500 \nL 1119 3500 \nL 1119 1403 \nQ 1119 906 1312 657 \nQ 1506 409 1894 409 \nQ 2359 409 2629 706 \nQ 2900 1003 2900 1516 \nL 2900 3500 \nL 3475 3500 \nL 3475 0 \nL 2900 0 \nL 2900 538 \nQ 2691 219 2414 64 \nQ 2138 -91 1772 -91 \nQ 1169 -91 856 284 \nQ 544 659 544 1381 \nz\nM 1991 3584 \nL 1991 3584 \nz\n\" transform=\"scale(0.015625)\"/>\n        <path id=\"DejaVuSans-70\" d=\"M 1159 525 \nL 1159 -1331 \nL 581 -1331 \nL 581 3500 \nL 1159 3500 \nL 1159 2969 \nQ 1341 3281 1617 3432 \nQ 1894 3584 2278 3584 \nQ 2916 3584 3314 3078 \nQ 3713 2572 3713 1747 \nQ 3713 922 3314 415 \nQ 2916 -91 2278 -91 \nQ 1894 -91 1617 61 \nQ 1341 213 1159 525 \nz\nM 3116 1747 \nQ 3116 2381 2855 2742 \nQ 2594 3103 2138 3103 \nQ 1681 3103 1420 2742 \nQ 1159 2381 1159 1747 \nQ 1159 1113 1420 752 \nQ 1681 391 2138 391 \nQ 2594 391 2855 752 \nQ 3116 1113 3116 1747 \nz\n\" transform=\"scale(0.015625)\"/>\n        <path id=\"DejaVuSans-69\" d=\"M 603 3500 \nL 1178 3500 \nL 1178 0 \nL 603 0 \nL 603 3500 \nz\nM 603 4863 \nL 1178 4863 \nL 1178 4134 \nL 603 4134 \nL 603 4863 \nz\n\" transform=\"scale(0.015625)\"/>\n       </defs>\n       <use xlink:href=\"#DejaVuSans-73\"/>\n       <use xlink:href=\"#DejaVuSans-75\" x=\"52.099609\"/>\n       <use xlink:href=\"#DejaVuSans-72\" x=\"115.478516\"/>\n       <use xlink:href=\"#DejaVuSans-70\" x=\"156.591797\"/>\n       <use xlink:href=\"#DejaVuSans-72\" x=\"220.068359\"/>\n       <use xlink:href=\"#DejaVuSans-69\" x=\"261.181641\"/>\n       <use xlink:href=\"#DejaVuSans-73\" x=\"288.964844\"/>\n       <use xlink:href=\"#DejaVuSans-65\" x=\"341.064453\"/>\n      </g>\n     </g>\n    </g>\n   </g>\n   <g id=\"matplotlib.axis_2\">\n    <g id=\"ytick_1\">\n     <g id=\"line2d_7\">\n      <defs>\n       <path id=\"m57fd407867\" d=\"M 0 0 \nL -3.5 0 \n\" style=\"stroke: #000000; stroke-width: 0.8\"/>\n      </defs>\n      <g>\n       <use xlink:href=\"#m57fd407867\" x=\"29.47\" y=\"238.505386\" style=\"stroke: #000000; stroke-width: 0.8\"/>\n      </g>\n     </g>\n     <g id=\"text_7\">\n      <!-- 0 -->\n      <g transform=\"translate(14.835 243.064449) scale(0.12 -0.12)\">\n       <defs>\n        <path id=\"DejaVuSans-30\" d=\"M 2034 4250 \nQ 1547 4250 1301 3770 \nQ 1056 3291 1056 2328 \nQ 1056 1369 1301 889 \nQ 1547 409 2034 409 \nQ 2525 409 2770 889 \nQ 3016 1369 3016 2328 \nQ 3016 3291 2770 3770 \nQ 2525 4250 2034 4250 \nz\nM 2034 4750 \nQ 2819 4750 3233 4129 \nQ 3647 3509 3647 2328 \nQ 3647 1150 3233 529 \nQ 2819 -91 2034 -91 \nQ 1250 -91 836 529 \nQ 422 1150 422 2328 \nQ 422 3509 836 4129 \nQ 1250 4750 2034 4750 \nz\n\" transform=\"scale(0.015625)\"/>\n       </defs>\n       <use xlink:href=\"#DejaVuSans-30\"/>\n      </g>\n     </g>\n    </g>\n    <g id=\"ytick_2\">\n     <g id=\"line2d_8\">\n      <g>\n       <use xlink:href=\"#m57fd407867\" x=\"29.47\" y=\"197.596295\" style=\"stroke: #000000; stroke-width: 0.8\"/>\n      </g>\n     </g>\n     <g id=\"text_8\">\n      <!-- 10 -->\n      <g transform=\"translate(7.2 202.155358) scale(0.12 -0.12)\">\n       <defs>\n        <path id=\"DejaVuSans-31\" d=\"M 794 531 \nL 1825 531 \nL 1825 4091 \nL 703 3866 \nL 703 4441 \nL 1819 4666 \nL 2450 4666 \nL 2450 531 \nL 3481 531 \nL 3481 0 \nL 794 0 \nL 794 531 \nz\n\" transform=\"scale(0.015625)\"/>\n       </defs>\n       <use xlink:href=\"#DejaVuSans-31\"/>\n       <use xlink:href=\"#DejaVuSans-30\" x=\"63.623047\"/>\n      </g>\n     </g>\n    </g>\n    <g id=\"ytick_3\">\n     <g id=\"line2d_9\">\n      <g>\n       <use xlink:href=\"#m57fd407867\" x=\"29.47\" y=\"156.687205\" style=\"stroke: #000000; stroke-width: 0.8\"/>\n      </g>\n     </g>\n     <g id=\"text_9\">\n      <!-- 20 -->\n      <g transform=\"translate(7.2 161.246267) scale(0.12 -0.12)\">\n       <defs>\n        <path id=\"DejaVuSans-32\" d=\"M 1228 531 \nL 3431 531 \nL 3431 0 \nL 469 0 \nL 469 531 \nQ 828 903 1448 1529 \nQ 2069 2156 2228 2338 \nQ 2531 2678 2651 2914 \nQ 2772 3150 2772 3378 \nQ 2772 3750 2511 3984 \nQ 2250 4219 1831 4219 \nQ 1534 4219 1204 4116 \nQ 875 4013 500 3803 \nL 500 4441 \nQ 881 4594 1212 4672 \nQ 1544 4750 1819 4750 \nQ 2544 4750 2975 4387 \nQ 3406 4025 3406 3419 \nQ 3406 3131 3298 2873 \nQ 3191 2616 2906 2266 \nQ 2828 2175 2409 1742 \nQ 1991 1309 1228 531 \nz\n\" transform=\"scale(0.015625)\"/>\n       </defs>\n       <use xlink:href=\"#DejaVuSans-32\"/>\n       <use xlink:href=\"#DejaVuSans-30\" x=\"63.623047\"/>\n      </g>\n     </g>\n    </g>\n    <g id=\"ytick_4\">\n     <g id=\"line2d_10\">\n      <g>\n       <use xlink:href=\"#m57fd407867\" x=\"29.47\" y=\"115.778114\" style=\"stroke: #000000; stroke-width: 0.8\"/>\n      </g>\n     </g>\n     <g id=\"text_10\">\n      <!-- 30 -->\n      <g transform=\"translate(7.2 120.337176) scale(0.12 -0.12)\">\n       <defs>\n        <path id=\"DejaVuSans-33\" d=\"M 2597 2516 \nQ 3050 2419 3304 2112 \nQ 3559 1806 3559 1356 \nQ 3559 666 3084 287 \nQ 2609 -91 1734 -91 \nQ 1441 -91 1130 -33 \nQ 819 25 488 141 \nL 488 750 \nQ 750 597 1062 519 \nQ 1375 441 1716 441 \nQ 2309 441 2620 675 \nQ 2931 909 2931 1356 \nQ 2931 1769 2642 2001 \nQ 2353 2234 1838 2234 \nL 1294 2234 \nL 1294 2753 \nL 1863 2753 \nQ 2328 2753 2575 2939 \nQ 2822 3125 2822 3475 \nQ 2822 3834 2567 4026 \nQ 2313 4219 1838 4219 \nQ 1578 4219 1281 4162 \nQ 984 4106 628 3988 \nL 628 4550 \nQ 988 4650 1302 4700 \nQ 1616 4750 1894 4750 \nQ 2613 4750 3031 4423 \nQ 3450 4097 3450 3541 \nQ 3450 3153 3228 2886 \nQ 3006 2619 2597 2516 \nz\n\" transform=\"scale(0.015625)\"/>\n       </defs>\n       <use xlink:href=\"#DejaVuSans-33\"/>\n       <use xlink:href=\"#DejaVuSans-30\" x=\"63.623047\"/>\n      </g>\n     </g>\n    </g>\n    <g id=\"ytick_5\">\n     <g id=\"line2d_11\">\n      <g>\n       <use xlink:href=\"#m57fd407867\" x=\"29.47\" y=\"74.869023\" style=\"stroke: #000000; stroke-width: 0.8\"/>\n      </g>\n     </g>\n     <g id=\"text_11\">\n      <!-- 40 -->\n      <g transform=\"translate(7.2 79.428085) scale(0.12 -0.12)\">\n       <defs>\n        <path id=\"DejaVuSans-34\" d=\"M 2419 4116 \nL 825 1625 \nL 2419 1625 \nL 2419 4116 \nz\nM 2253 4666 \nL 3047 4666 \nL 3047 1625 \nL 3713 1625 \nL 3713 1100 \nL 3047 1100 \nL 3047 0 \nL 2419 0 \nL 2419 1100 \nL 313 1100 \nL 313 1709 \nL 2253 4666 \nz\n\" transform=\"scale(0.015625)\"/>\n       </defs>\n       <use xlink:href=\"#DejaVuSans-34\"/>\n       <use xlink:href=\"#DejaVuSans-30\" x=\"63.623047\"/>\n      </g>\n     </g>\n    </g>\n    <g id=\"ytick_6\">\n     <g id=\"line2d_12\">\n      <g>\n       <use xlink:href=\"#m57fd407867\" x=\"29.47\" y=\"33.959932\" style=\"stroke: #000000; stroke-width: 0.8\"/>\n      </g>\n     </g>\n     <g id=\"text_12\">\n      <!-- 50 -->\n      <g transform=\"translate(7.2 38.518994) scale(0.12 -0.12)\">\n       <defs>\n        <path id=\"DejaVuSans-35\" d=\"M 691 4666 \nL 3169 4666 \nL 3169 4134 \nL 1269 4134 \nL 1269 2991 \nQ 1406 3038 1543 3061 \nQ 1681 3084 1819 3084 \nQ 2600 3084 3056 2656 \nQ 3513 2228 3513 1497 \nQ 3513 744 3044 326 \nQ 2575 -91 1722 -91 \nQ 1428 -91 1123 -41 \nQ 819 9 494 109 \nL 494 744 \nQ 775 591 1075 516 \nQ 1375 441 1709 441 \nQ 2250 441 2565 725 \nQ 2881 1009 2881 1497 \nQ 2881 1984 2565 2268 \nQ 2250 2553 1709 2553 \nQ 1456 2553 1204 2497 \nQ 953 2441 691 2322 \nL 691 4666 \nz\n\" transform=\"scale(0.015625)\"/>\n       </defs>\n       <use xlink:href=\"#DejaVuSans-35\"/>\n       <use xlink:href=\"#DejaVuSans-30\" x=\"63.623047\"/>\n      </g>\n     </g>\n    </g>\n   </g>\n   <g id=\"line2d_13\">\n    <path d=\"M 43.87 197.596295 \nL 72.67 197.596295 \nL 72.67 132.14175 \nL 43.87 132.14175 \nL 43.87 197.596295 \n\" clip-path=\"url(#p939c30a55e)\" style=\"fill: none; stroke: #000000; stroke-linecap: square\"/>\n   </g>\n   <g id=\"line2d_14\">\n    <path d=\"M 58.27 197.596295 \nL 58.27 230.323568 \n\" clip-path=\"url(#p939c30a55e)\" style=\"fill: none; stroke: #000000; stroke-linecap: square\"/>\n   </g>\n   <g id=\"line2d_15\">\n    <path d=\"M 58.27 132.14175 \nL 58.27 33.959932 \n\" clip-path=\"url(#p939c30a55e)\" style=\"fill: none; stroke: #000000; stroke-linecap: square\"/>\n   </g>\n   <g id=\"line2d_16\">\n    <path d=\"M 51.07 230.323568 \nL 65.47 230.323568 \n\" clip-path=\"url(#p939c30a55e)\" style=\"fill: none; stroke: #000000; stroke-linecap: square\"/>\n   </g>\n   <g id=\"line2d_17\">\n    <path d=\"M 51.07 33.959932 \nL 65.47 33.959932 \n\" clip-path=\"url(#p939c30a55e)\" style=\"fill: none; stroke: #000000; stroke-linecap: square\"/>\n   </g>\n   <g id=\"line2d_18\">\n    <path d=\"M 101.47 197.596295 \nL 130.27 197.596295 \nL 130.27 136.232659 \nL 101.47 136.232659 \nL 101.47 197.596295 \n\" clip-path=\"url(#p939c30a55e)\" style=\"fill: none; stroke: #000000; stroke-linecap: square\"/>\n   </g>\n   <g id=\"line2d_19\">\n    <path d=\"M 115.87 197.596295 \nL 115.87 230.323568 \n\" clip-path=\"url(#p939c30a55e)\" style=\"fill: none; stroke: #000000; stroke-linecap: square\"/>\n   </g>\n   <g id=\"line2d_20\">\n    <path d=\"M 115.87 136.232659 \nL 115.87 46.232659 \n\" clip-path=\"url(#p939c30a55e)\" style=\"fill: none; stroke: #000000; stroke-linecap: square\"/>\n   </g>\n   <g id=\"line2d_21\">\n    <path d=\"M 108.67 230.323568 \nL 123.07 230.323568 \n\" clip-path=\"url(#p939c30a55e)\" style=\"fill: none; stroke: #000000; stroke-linecap: square\"/>\n   </g>\n   <g id=\"line2d_22\">\n    <path d=\"M 108.67 46.232659 \nL 123.07 46.232659 \n\" clip-path=\"url(#p939c30a55e)\" style=\"fill: none; stroke: #000000; stroke-linecap: square\"/>\n   </g>\n   <g id=\"line2d_23\">\n    <path d=\"M 159.07 193.505386 \nL 187.87 193.505386 \nL 187.87 132.14175 \nL 159.07 132.14175 \nL 159.07 193.505386 \n\" clip-path=\"url(#p939c30a55e)\" style=\"fill: none; stroke: #000000; stroke-linecap: square\"/>\n   </g>\n   <g id=\"line2d_24\">\n    <path d=\"M 173.47 193.505386 \nL 173.47 230.323568 \n\" clip-path=\"url(#p939c30a55e)\" style=\"fill: none; stroke: #000000; stroke-linecap: square\"/>\n   </g>\n   <g id=\"line2d_25\">\n    <path d=\"M 173.47 132.14175 \nL 173.47 42.14175 \n\" clip-path=\"url(#p939c30a55e)\" style=\"fill: none; stroke: #000000; stroke-linecap: square\"/>\n   </g>\n   <g id=\"line2d_26\">\n    <path d=\"M 166.27 230.323568 \nL 180.67 230.323568 \n\" clip-path=\"url(#p939c30a55e)\" style=\"fill: none; stroke: #000000; stroke-linecap: square\"/>\n   </g>\n   <g id=\"line2d_27\">\n    <path d=\"M 166.27 42.14175 \nL 180.67 42.14175 \n\" clip-path=\"url(#p939c30a55e)\" style=\"fill: none; stroke: #000000; stroke-linecap: square\"/>\n   </g>\n   <g id=\"line2d_28\">\n    <path d=\"M 216.67 189.414477 \nL 245.47 189.414477 \nL 245.47 128.050841 \nL 216.67 128.050841 \nL 216.67 189.414477 \n\" clip-path=\"url(#p939c30a55e)\" style=\"fill: none; stroke: #000000; stroke-linecap: square\"/>\n   </g>\n   <g id=\"line2d_29\">\n    <path d=\"M 231.07 189.414477 \nL 231.07 226.232659 \n\" clip-path=\"url(#p939c30a55e)\" style=\"fill: none; stroke: #000000; stroke-linecap: square\"/>\n   </g>\n   <g id=\"line2d_30\">\n    <path d=\"M 231.07 128.050841 \nL 231.07 38.050841 \n\" clip-path=\"url(#p939c30a55e)\" style=\"fill: none; stroke: #000000; stroke-linecap: square\"/>\n   </g>\n   <g id=\"line2d_31\">\n    <path d=\"M 223.87 226.232659 \nL 238.27 226.232659 \n\" clip-path=\"url(#p939c30a55e)\" style=\"fill: none; stroke: #000000; stroke-linecap: square\"/>\n   </g>\n   <g id=\"line2d_32\">\n    <path d=\"M 223.87 38.050841 \nL 238.27 38.050841 \n\" clip-path=\"url(#p939c30a55e)\" style=\"fill: none; stroke: #000000; stroke-linecap: square\"/>\n   </g>\n   <g id=\"line2d_33\">\n    <path d=\"M 274.27 197.596295 \nL 303.07 197.596295 \nL 303.07 140.323568 \nL 274.27 140.323568 \nL 274.27 197.596295 \n\" clip-path=\"url(#p939c30a55e)\" style=\"fill: none; stroke: #000000; stroke-linecap: square\"/>\n   </g>\n   <g id=\"line2d_34\">\n    <path d=\"M 288.67 197.596295 \nL 288.67 230.323568 \n\" clip-path=\"url(#p939c30a55e)\" style=\"fill: none; stroke: #000000; stroke-linecap: square\"/>\n   </g>\n   <g id=\"line2d_35\">\n    <path d=\"M 288.67 140.323568 \nL 288.67 54.414477 \n\" clip-path=\"url(#p939c30a55e)\" style=\"fill: none; stroke: #000000; stroke-linecap: square\"/>\n   </g>\n   <g id=\"line2d_36\">\n    <path d=\"M 281.47 230.323568 \nL 295.87 230.323568 \n\" clip-path=\"url(#p939c30a55e)\" style=\"fill: none; stroke: #000000; stroke-linecap: square\"/>\n   </g>\n   <g id=\"line2d_37\">\n    <path d=\"M 281.47 54.414477 \nL 295.87 54.414477 \n\" clip-path=\"url(#p939c30a55e)\" style=\"fill: none; stroke: #000000; stroke-linecap: square\"/>\n   </g>\n   <g id=\"line2d_38\">\n    <path d=\"M 331.87 189.414477 \nL 360.67 189.414477 \nL 360.67 132.14175 \nL 331.87 132.14175 \nL 331.87 189.414477 \n\" clip-path=\"url(#p939c30a55e)\" style=\"fill: none; stroke: #000000; stroke-linecap: square\"/>\n   </g>\n   <g id=\"line2d_39\">\n    <path d=\"M 346.27 189.414477 \nL 346.27 226.232659 \n\" clip-path=\"url(#p939c30a55e)\" style=\"fill: none; stroke: #000000; stroke-linecap: square\"/>\n   </g>\n   <g id=\"line2d_40\">\n    <path d=\"M 346.27 132.14175 \nL 346.27 46.232659 \n\" clip-path=\"url(#p939c30a55e)\" style=\"fill: none; stroke: #000000; stroke-linecap: square\"/>\n   </g>\n   <g id=\"line2d_41\">\n    <path d=\"M 339.07 226.232659 \nL 353.47 226.232659 \n\" clip-path=\"url(#p939c30a55e)\" style=\"fill: none; stroke: #000000; stroke-linecap: square\"/>\n   </g>\n   <g id=\"line2d_42\">\n    <path d=\"M 339.07 46.232659 \nL 353.47 46.232659 \n\" clip-path=\"url(#p939c30a55e)\" style=\"fill: none; stroke: #000000; stroke-linecap: square\"/>\n   </g>\n   <g id=\"line2d_43\">\n    <path d=\"M 43.87 168.959932 \nL 72.67 168.959932 \n\" clip-path=\"url(#p939c30a55e)\" style=\"fill: none; stroke: #000000; stroke-linecap: square\"/>\n   </g>\n   <g id=\"line2d_44\">\n    <path d=\"M 101.47 168.959932 \nL 130.27 168.959932 \n\" clip-path=\"url(#p939c30a55e)\" style=\"fill: none; stroke: #000000; stroke-linecap: square\"/>\n   </g>\n   <g id=\"line2d_45\">\n    <path d=\"M 159.07 164.869023 \nL 187.87 164.869023 \n\" clip-path=\"url(#p939c30a55e)\" style=\"fill: none; stroke: #000000; stroke-linecap: square\"/>\n   </g>\n   <g id=\"line2d_46\">\n    <path d=\"M 216.67 160.778114 \nL 245.47 160.778114 \n\" clip-path=\"url(#p939c30a55e)\" style=\"fill: none; stroke: #000000; stroke-linecap: square\"/>\n   </g>\n   <g id=\"line2d_47\">\n    <path d=\"M 274.27 173.050841 \nL 303.07 173.050841 \n\" clip-path=\"url(#p939c30a55e)\" style=\"fill: none; stroke: #000000; stroke-linecap: square\"/>\n   </g>\n   <g id=\"line2d_48\">\n    <path d=\"M 331.87 164.869023 \nL 360.67 164.869023 \n\" clip-path=\"url(#p939c30a55e)\" style=\"fill: none; stroke: #000000; stroke-linecap: square\"/>\n   </g>\n   <g id=\"patch_3\">\n    <path d=\"M 29.47 240.14175 \nL 29.47 24.14175 \n\" style=\"fill: none; stroke: #000000; stroke-width: 0.8; stroke-linejoin: miter; stroke-linecap: square\"/>\n   </g>\n   <g id=\"patch_4\">\n    <path d=\"M 375.07 240.14175 \nL 375.07 24.14175 \n\" style=\"fill: none; stroke: #000000; stroke-width: 0.8; stroke-linejoin: miter; stroke-linecap: square\"/>\n   </g>\n   <g id=\"patch_5\">\n    <path d=\"M 29.47 240.14175 \nL 375.07 240.14175 \n\" style=\"fill: none; stroke: #000000; stroke-width: 0.8; stroke-linejoin: miter; stroke-linecap: square\"/>\n   </g>\n   <g id=\"patch_6\">\n    <path d=\"M 29.47 24.14175 \nL 375.07 24.14175 \n\" style=\"fill: none; stroke: #000000; stroke-width: 0.8; stroke-linejoin: miter; stroke-linecap: square\"/>\n   </g>\n   <g id=\"text_13\">\n    <!-- Words Per Tweet -->\n    <g transform=\"translate(143.185 18.14175) scale(0.144 -0.144)\">\n     <defs>\n      <path id=\"DejaVuSans-57\" d=\"M 213 4666 \nL 850 4666 \nL 1831 722 \nL 2809 4666 \nL 3519 4666 \nL 4500 722 \nL 5478 4666 \nL 6119 4666 \nL 4947 0 \nL 4153 0 \nL 3169 4050 \nL 2175 0 \nL 1381 0 \nL 213 4666 \nz\n\" transform=\"scale(0.015625)\"/>\n      <path id=\"DejaVuSans-20\" transform=\"scale(0.015625)\"/>\n      <path id=\"DejaVuSans-50\" d=\"M 1259 4147 \nL 1259 2394 \nL 2053 2394 \nQ 2494 2394 2734 2622 \nQ 2975 2850 2975 3272 \nQ 2975 3691 2734 3919 \nQ 2494 4147 2053 4147 \nL 1259 4147 \nz\nM 628 4666 \nL 2053 4666 \nQ 2838 4666 3239 4311 \nQ 3641 3956 3641 3272 \nQ 3641 2581 3239 2228 \nQ 2838 1875 2053 1875 \nL 1259 1875 \nL 1259 0 \nL 628 0 \nL 628 4666 \nz\n\" transform=\"scale(0.015625)\"/>\n      <path id=\"DejaVuSans-54\" d=\"M -19 4666 \nL 3928 4666 \nL 3928 4134 \nL 2272 4134 \nL 2272 0 \nL 1638 0 \nL 1638 4134 \nL -19 4134 \nL -19 4666 \nz\n\" transform=\"scale(0.015625)\"/>\n      <path id=\"DejaVuSans-77\" d=\"M 269 3500 \nL 844 3500 \nL 1563 769 \nL 2278 3500 \nL 2956 3500 \nL 3675 769 \nL 4391 3500 \nL 4966 3500 \nL 4050 0 \nL 3372 0 \nL 2619 2869 \nL 1863 0 \nL 1184 0 \nL 269 3500 \nz\n\" transform=\"scale(0.015625)\"/>\n      <path id=\"DejaVuSans-74\" d=\"M 1172 4494 \nL 1172 3500 \nL 2356 3500 \nL 2356 3053 \nL 1172 3053 \nL 1172 1153 \nQ 1172 725 1289 603 \nQ 1406 481 1766 481 \nL 2356 481 \nL 2356 0 \nL 1766 0 \nQ 1100 0 847 248 \nQ 594 497 594 1153 \nL 594 3053 \nL 172 3053 \nL 172 3500 \nL 594 3500 \nL 594 4494 \nL 1172 4494 \nz\n\" transform=\"scale(0.015625)\"/>\n     </defs>\n     <use xlink:href=\"#DejaVuSans-57\"/>\n     <use xlink:href=\"#DejaVuSans-6f\" x=\"93.001953\"/>\n     <use xlink:href=\"#DejaVuSans-72\" x=\"154.183594\"/>\n     <use xlink:href=\"#DejaVuSans-64\" x=\"193.546875\"/>\n     <use xlink:href=\"#DejaVuSans-73\" x=\"257.023438\"/>\n     <use xlink:href=\"#DejaVuSans-20\" x=\"309.123047\"/>\n     <use xlink:href=\"#DejaVuSans-50\" x=\"340.910156\"/>\n     <use xlink:href=\"#DejaVuSans-65\" x=\"397.587891\"/>\n     <use xlink:href=\"#DejaVuSans-72\" x=\"459.111328\"/>\n     <use xlink:href=\"#DejaVuSans-20\" x=\"500.224609\"/>\n     <use xlink:href=\"#DejaVuSans-54\" x=\"532.011719\"/>\n     <use xlink:href=\"#DejaVuSans-77\" x=\"576.595703\"/>\n     <use xlink:href=\"#DejaVuSans-65\" x=\"658.382812\"/>\n     <use xlink:href=\"#DejaVuSans-65\" x=\"719.90625\"/>\n     <use xlink:href=\"#DejaVuSans-74\" x=\"781.429688\"/>\n    </g>\n   </g>\n  </g>\n </g>\n <defs>\n  <clipPath id=\"p939c30a55e\">\n   <rect x=\"29.47\" y=\"24.14175\" width=\"345.6\" height=\"216\"/>\n  </clipPath>\n </defs>\n</svg>\n",
            "application/pdf": "[encoded data removed]"
          },
          "metadata": {}
        }
      ]
    },
    {
      "cell_type": "markdown",
      "source": [
        "최대 문맥 크기 문제 없음 Good"
      ],
      "metadata": {
        "id": "DOJ5wwIA_Mjk"
      }
    },
    {
      "cell_type": "code",
      "source": [
        "emotions.reset_format()"
      ],
      "metadata": {
        "id": "9k7y2UFO_Klu"
      },
      "execution_count": 9,
      "outputs": []
    },
    {
      "cell_type": "markdown",
      "source": [
        "## 2.2 텍스트에서 토큰으로\n",
        "### 2.2.1 문자 토큰화"
      ],
      "metadata": {
        "id": "vXnkg9jM_Suw"
      }
    },
    {
      "cell_type": "code",
      "source": [
        "text = \"Tokenizing text is a core task of NLP\"\n",
        "tokenized_text = list(text)\n",
        "print(tokenized_text)"
      ],
      "metadata": {
        "colab": {
          "base_uri": "https://localhost:8080/"
        },
        "id": "Bq6wB73O_Ui_",
        "outputId": "e1929de3-bb5e-4743-d753-7df755599543"
      },
      "execution_count": 10,
      "outputs": [
        {
          "output_type": "stream",
          "name": "stdout",
          "text": [
            "['T', 'o', 'k', 'e', 'n', 'i', 'z', 'i', 'n', 'g', ' ', 't', 'e', 'x', 't', ' ',\n",
            "'i', 's', ' ', 'a', ' ', 'c', 'o', 'r', 'e', ' ', 't', 'a', 's', 'k', ' ', 'o',\n",
            "'f', ' ', 'N', 'L', 'P']\n"
          ]
        }
      ]
    },
    {
      "cell_type": "code",
      "source": [
        "token2idx = {ch: idx for idx, ch in enumerate(sorted(set(tokenized_text)))}\n",
        "print(token2idx)"
      ],
      "metadata": {
        "colab": {
          "base_uri": "https://localhost:8080/"
        },
        "id": "1kIgc4pL_sob",
        "outputId": "a72e8b08-760a-4f04-ee3e-db3bed0bc45a"
      },
      "execution_count": 11,
      "outputs": [
        {
          "output_type": "stream",
          "name": "stdout",
          "text": [
            "{' ': 0, 'L': 1, 'N': 2, 'P': 3, 'T': 4, 'a': 5, 'c': 6, 'e': 7, 'f': 8, 'g': 9,\n",
            "'i': 10, 'k': 11, 'n': 12, 'o': 13, 'r': 14, 's': 15, 't': 16, 'x': 17, 'z': 18}\n"
          ]
        }
      ]
    },
    {
      "cell_type": "code",
      "source": [
        "input_ids = [token2idx[token] for token in tokenized_text]\n",
        "print(input_ids)"
      ],
      "metadata": {
        "colab": {
          "base_uri": "https://localhost:8080/"
        },
        "id": "uojGhIfx_4aY",
        "outputId": "de7eba9e-a35e-4f3e-dd2f-d4d94a431f11"
      },
      "execution_count": 12,
      "outputs": [
        {
          "output_type": "stream",
          "name": "stdout",
          "text": [
            "[4, 13, 11, 7, 12, 10, 18, 10, 12, 9, 0, 16, 7, 17, 16, 0, 10, 15, 0, 5, 0, 6,\n",
            "13, 14, 7, 0, 16, 5, 15, 11, 0, 13, 8, 0, 2, 1, 3]\n"
          ]
        }
      ]
    },
    {
      "cell_type": "code",
      "source": [
        "import torch\n",
        "import torch.nn.functional as F\n",
        "\n",
        "input_ids = torch.tensor(input_ids)\n",
        "one_hot_encodings = F.one_hot(input_ids, num_classes = len(token2idx))\n",
        "one_hot_encodings.shape"
      ],
      "metadata": {
        "colab": {
          "base_uri": "https://localhost:8080/"
        },
        "id": "i0dAa71iABl9",
        "outputId": "c1e5790b-49ae-4768-f4f6-f883efe9a300"
      },
      "execution_count": 13,
      "outputs": [
        {
          "output_type": "execute_result",
          "data": {
            "text/plain": [
              "torch.Size([37, 19])"
            ]
          },
          "metadata": {},
          "execution_count": 13
        }
      ]
    },
    {
      "cell_type": "code",
      "source": [
        "print(f\"토큰: {tokenized_text[0]}\")\n",
        "print(f\"텐서 인덱스: {input_ids[0]}\")\n",
        "print(f\"원-핫 인코딩: {one_hot_encodings[0]}\")"
      ],
      "metadata": {
        "colab": {
          "base_uri": "https://localhost:8080/"
        },
        "id": "waoBRS5wA99A",
        "outputId": "e52a0376-8bdf-480d-c41a-75f1e7d03755"
      },
      "execution_count": 14,
      "outputs": [
        {
          "output_type": "stream",
          "name": "stdout",
          "text": [
            "토큰: T\n",
            "텐서 인덱스: 4\n",
            "원-핫 인코딩: tensor([0, 0, 0, 0, 1, 0, 0, 0, 0, 0, 0, 0, 0, 0, 0, 0, 0, 0, 0])\n"
          ]
        }
      ]
    },
    {
      "cell_type": "markdown",
      "source": [
        "### 2.2.2 단어 토큰화"
      ],
      "metadata": {
        "id": "Vc6Cc_UPBOML"
      }
    },
    {
      "cell_type": "code",
      "source": [
        "tokenized_text = text.split()\n",
        "print(tokenized_text)"
      ],
      "metadata": {
        "colab": {
          "base_uri": "https://localhost:8080/"
        },
        "id": "ldPZjrzABHmS",
        "outputId": "6a977003-9006-4e21-83a4-8877814eb3c5"
      },
      "execution_count": 15,
      "outputs": [
        {
          "output_type": "stream",
          "name": "stdout",
          "text": [
            "['Tokenizing', 'text', 'is', 'a', 'core', 'task', 'of', 'NLP']\n"
          ]
        }
      ]
    },
    {
      "cell_type": "markdown",
      "source": [
        "### 2.2.3 부분단어 토큰화"
      ],
      "metadata": {
        "id": "yjkJPIqpCcJ2"
      }
    },
    {
      "cell_type": "code",
      "source": [
        "from transformers import AutoTokenizer\n",
        "\n",
        "model_ckpt = \"distilbert-base-uncased\"\n",
        "tokenizer = AutoTokenizer.from_pretrained(model_ckpt)"
      ],
      "metadata": {
        "id": "C9bZoDtPBaxc"
      },
      "execution_count": 16,
      "outputs": []
    },
    {
      "cell_type": "code",
      "source": [
        "from transformers import DistilBertTokenizer\n",
        "\n",
        "distilbert_tokenizer = DistilBertTokenizer.from_pretrained(model_ckpt)"
      ],
      "metadata": {
        "id": "hUyJwJGZDFA-"
      },
      "execution_count": 17,
      "outputs": []
    },
    {
      "cell_type": "code",
      "source": [
        "encoded_text = tokenizer(text)\n",
        "print(encoded_text)"
      ],
      "metadata": {
        "colab": {
          "base_uri": "https://localhost:8080/"
        },
        "id": "kIYhIFLfDO30",
        "outputId": "a698778c-8ff3-4ba9-cba9-698616edd584"
      },
      "execution_count": 18,
      "outputs": [
        {
          "output_type": "stream",
          "name": "stdout",
          "text": [
            "{'input_ids': [101, 19204, 6026, 3793, 2003, 1037, 4563, 4708, 1997, 17953,\n",
            "2361, 102], 'attention_mask': [1, 1, 1, 1, 1, 1, 1, 1, 1, 1, 1, 1]}\n"
          ]
        }
      ]
    },
    {
      "cell_type": "code",
      "source": [
        "tokens = tokenizer.convert_ids_to_tokens(encoded_text.input_ids)\n",
        "print(tokens)"
      ],
      "metadata": {
        "colab": {
          "base_uri": "https://localhost:8080/"
        },
        "id": "O60fWwq7DSnK",
        "outputId": "c56f645c-56ab-41d2-f87e-9d98b8960572"
      },
      "execution_count": 19,
      "outputs": [
        {
          "output_type": "stream",
          "name": "stdout",
          "text": [
            "['[CLS]', 'token', '##izing', 'text', 'is', 'a', 'core', 'task', 'of', 'nl',\n",
            "'##p', '[SEP]']\n"
          ]
        }
      ]
    },
    {
      "cell_type": "code",
      "source": [
        "print(tokenizer.convert_tokens_to_string(tokens))\n",
        "print(tokenizer.vocab_size)\n",
        "print(tokenizer.model_max_length)\n",
        "print(tokenizer.model_input_names)"
      ],
      "metadata": {
        "colab": {
          "base_uri": "https://localhost:8080/"
        },
        "id": "uyHcBIj9DhyN",
        "outputId": "6b8c426e-867b-4017-ce64-d6d73ecbed47"
      },
      "execution_count": 20,
      "outputs": [
        {
          "output_type": "stream",
          "name": "stdout",
          "text": [
            "[CLS] tokenizing text is a core task of nlp [SEP]\n",
            "30522\n",
            "512\n",
            "['input_ids', 'attention_mask']\n"
          ]
        }
      ]
    },
    {
      "cell_type": "markdown",
      "source": [
        "### 2.2.4 전체 데이터셋 토큰화하기"
      ],
      "metadata": {
        "id": "mHsBoZWMNxMN"
      }
    },
    {
      "cell_type": "code",
      "source": [
        "def tokenize(batch) :\n",
        "    return tokenizer(batch[\"text\"], padding=True, truncation=True)\n",
        "\n",
        "print(tokenize(emotions[\"train\"][:2]))\n",
        "\n",
        "for i in range(2) :\n",
        "    print(tokenizer.convert_ids_to_tokens(tokenize(emotions[\"train\"][:2]).input_ids[i]))"
      ],
      "metadata": {
        "colab": {
          "base_uri": "https://localhost:8080/"
        },
        "id": "rs2YnmBaD7Dp",
        "outputId": "e6dbbc39-a892-416b-8bed-941d8e2b01cb"
      },
      "execution_count": 21,
      "outputs": [
        {
          "output_type": "stream",
          "name": "stdout",
          "text": [
            "{'input_ids': [[101, 1045, 2134, 2102, 2514, 26608, 102, 0, 0, 0, 0, 0, 0, 0, 0,\n",
            "0, 0, 0, 0, 0, 0, 0, 0], [101, 1045, 2064, 2175, 2013, 3110, 2061, 20625, 2000,\n",
            "2061, 9636, 17772, 2074, 2013, 2108, 2105, 2619, 2040, 14977, 1998, 2003, 8300,\n",
            "102]], 'attention_mask': [[1, 1, 1, 1, 1, 1, 1, 0, 0, 0, 0, 0, 0, 0, 0, 0, 0, 0,\n",
            "0, 0, 0, 0, 0], [1, 1, 1, 1, 1, 1, 1, 1, 1, 1, 1, 1, 1, 1, 1, 1, 1, 1, 1, 1, 1,\n",
            "1, 1]]}\n",
            "['[CLS]', 'i', 'didn', '##t', 'feel', 'humiliated', '[SEP]', '[PAD]', '[PAD]',\n",
            "'[PAD]', '[PAD]', '[PAD]', '[PAD]', '[PAD]', '[PAD]', '[PAD]', '[PAD]', '[PAD]',\n",
            "'[PAD]', '[PAD]', '[PAD]', '[PAD]', '[PAD]']\n",
            "['[CLS]', 'i', 'can', 'go', 'from', 'feeling', 'so', 'hopeless', 'to', 'so',\n",
            "'damned', 'hopeful', 'just', 'from', 'being', 'around', 'someone', 'who',\n",
            "'cares', 'and', 'is', 'awake', '[SEP]']\n"
          ]
        }
      ]
    },
    {
      "cell_type": "code",
      "source": [
        "emotions_encoded = emotions.map(tokenize, batched=True, batch_size=None)\n",
        "\n",
        "print(emotions_encoded[\"train\"].column_names)\n",
        "print(emotions_encoded[\"train\"][0])"
      ],
      "metadata": {
        "colab": {
          "base_uri": "https://localhost:8080/"
        },
        "id": "rOfZyWLgOBay",
        "outputId": "134d3acc-8dea-42f6-e83d-734b3eecea33"
      },
      "execution_count": 22,
      "outputs": [
        {
          "output_type": "stream",
          "name": "stdout",
          "text": [
            "['text', 'label', 'input_ids', 'attention_mask']\n",
            "{'text': 'i didnt feel humiliated', 'label': 0, 'input_ids': [101, 1045, 2134,\n",
            "2102, 2514, 26608, 102, 0, 0, 0, 0, 0, 0, 0, 0, 0, 0, 0, 0, 0, 0, 0, 0, 0, 0, 0,\n",
            "0, 0, 0, 0, 0, 0, 0, 0, 0, 0, 0, 0, 0, 0, 0, 0, 0, 0, 0, 0, 0, 0, 0, 0, 0, 0, 0,\n",
            "0, 0, 0, 0, 0, 0, 0, 0, 0, 0, 0, 0, 0, 0, 0, 0, 0, 0, 0, 0, 0, 0, 0, 0, 0, 0, 0,\n",
            "0, 0, 0, 0, 0, 0, 0], 'attention_mask': [1, 1, 1, 1, 1, 1, 1, 0, 0, 0, 0, 0, 0,\n",
            "0, 0, 0, 0, 0, 0, 0, 0, 0, 0, 0, 0, 0, 0, 0, 0, 0, 0, 0, 0, 0, 0, 0, 0, 0, 0, 0,\n",
            "0, 0, 0, 0, 0, 0, 0, 0, 0, 0, 0, 0, 0, 0, 0, 0, 0, 0, 0, 0, 0, 0, 0, 0, 0, 0, 0,\n",
            "0, 0, 0, 0, 0, 0, 0, 0, 0, 0, 0, 0, 0, 0, 0, 0, 0, 0, 0, 0]}\n"
          ]
        }
      ]
    },
    {
      "cell_type": "markdown",
      "source": [
        "## 2.3 텍스트 분류 모델 훈련하기\n",
        "### 2.3.1 트랜스포머를 특성 추출기로 사용하기\n",
        "**사전 훈련된 모델 사용하기**"
      ],
      "metadata": {
        "id": "_-ckAc2yPKSP"
      }
    },
    {
      "cell_type": "code",
      "source": [
        "from transformers import AutoModel\n",
        "\n",
        "model_ckpt = \"distilbert-base-uncased\"\n",
        "device = torch.device(\"cuda\" if torch.cuda.is_available() else \"cpu\")\n",
        "model = AutoModel.from_pretrained(model_ckpt).to(device)"
      ],
      "metadata": {
        "id": "1jdtS5d-PJ8I"
      },
      "execution_count": 23,
      "outputs": []
    },
    {
      "cell_type": "markdown",
      "source": [
        "**마지막 은닉 상태 추출하기**"
      ],
      "metadata": {
        "id": "P6DCEbn0U7Ft"
      }
    },
    {
      "cell_type": "code",
      "source": [
        "text = \"this is a test\"\n",
        "inputs = tokenizer(text, return_tensors=\"pt\")\n",
        "print(inputs['input_ids'])\n",
        "print(tokenizer.convert_ids_to_tokens(inputs['input_ids'].tolist()[0]))\n",
        "print(f\"입력 텐서 크기: {inputs['input_ids'].size()}\")"
      ],
      "metadata": {
        "colab": {
          "base_uri": "https://localhost:8080/"
        },
        "id": "25fM8RWaPq8g",
        "outputId": "7b315fe8-c207-48e4-e6c8-8d5f5820896c"
      },
      "execution_count": 24,
      "outputs": [
        {
          "output_type": "stream",
          "name": "stdout",
          "text": [
            "tensor([[ 101, 2023, 2003, 1037, 3231,  102]])\n",
            "['[CLS]', 'this', 'is', 'a', 'test', '[SEP]']\n",
            "입력 텐서 크기: torch.Size([1, 6])\n"
          ]
        }
      ]
    },
    {
      "cell_type": "code",
      "source": [
        "inputs = {k:v.to(device) for k,v in inputs.items()}\n",
        "with torch.no_grad() :\n",
        "    outputs = model(**inputs)\n",
        "print(outputs)\n",
        "print(outputs.last_hidden_state.size()) # [batch_size, n_tokens, hidden_dim]"
      ],
      "metadata": {
        "colab": {
          "base_uri": "https://localhost:8080/"
        },
        "id": "jW4QHS5jRGqY",
        "outputId": "10ebc54b-5ec5-4a5e-dd68-db5ba0a60f79"
      },
      "execution_count": 25,
      "outputs": [
        {
          "output_type": "stream",
          "name": "stdout",
          "text": [
            "BaseModelOutput(last_hidden_state=tensor([[[-0.1565, -0.1862,  0.0528,  ...,\n",
            "-0.1188,  0.0662,  0.5470],\n",
            "         [-0.3575, -0.6484, -0.0618,  ..., -0.3040,  0.3508,  0.5221],\n",
            "         [-0.2772, -0.4459,  0.1818,  ..., -0.0948, -0.0076,  0.9958],\n",
            "         [-0.2841, -0.3917,  0.3753,  ..., -0.2151, -0.1173,  1.0526],\n",
            "         [ 0.2661, -0.5094, -0.3180,  ..., -0.4203,  0.0144, -0.2149],\n",
            "         [ 0.9441,  0.0112, -0.4714,  ...,  0.1439, -0.7288, -0.1619]]],\n",
            "       device='cuda:0'), hidden_states=None, attentions=None)\n",
            "torch.Size([1, 6, 768])\n"
          ]
        }
      ]
    },
    {
      "cell_type": "code",
      "source": [
        "outputs.last_hidden_state[:, 0].size()"
      ],
      "metadata": {
        "colab": {
          "base_uri": "https://localhost:8080/"
        },
        "id": "FHQQdCGlRWaj",
        "outputId": "edb0b753-91bf-4eff-e7b2-cd091c4753cc"
      },
      "execution_count": 26,
      "outputs": [
        {
          "output_type": "execute_result",
          "data": {
            "text/plain": [
              "torch.Size([1, 768])"
            ]
          },
          "metadata": {},
          "execution_count": 26
        }
      ]
    },
    {
      "cell_type": "code",
      "source": [
        "def extract_hidden_states(batch) :\n",
        "    # 모델 입력을 GPU로 옮깁니다.\n",
        "    inputs = {k:v.to(device) for k,v in batch.items() if k in tokenizer.model_input_names}\n",
        "\n",
        "    # 마지막 은닉 상태를 추출합니다.\n",
        "    with torch.no_grad() :\n",
        "        last_hidden_state = model(**inputs).last_hidden_state\n",
        "    # [CLS] 토큰에 대한 벡터를 반환합니다.\n",
        "    return {\"hidden_state\": last_hidden_state[:, 0].cpu().numpy()}"
      ],
      "metadata": {
        "id": "43R-CgT4R2m0"
      },
      "execution_count": 27,
      "outputs": []
    },
    {
      "cell_type": "code",
      "source": [
        "emotions_encoded.set_format(\"torch\",\n",
        "                            columns=[\"input_ids\", \"attention_mask\", \"label\"])\n",
        "emotions_hidden = emotions_encoded.map(extract_hidden_states, batched=True)\n",
        "\n",
        "emotions_hidden[\"train\"].column_names"
      ],
      "metadata": {
        "colab": {
          "base_uri": "https://localhost:8080/"
        },
        "id": "Xis-HJJoUMNF",
        "outputId": "2c01d682-afd5-47ea-bb1f-0ec013c1518a"
      },
      "execution_count": 28,
      "outputs": [
        {
          "output_type": "execute_result",
          "data": {
            "text/plain": [
              "['text', 'label', 'input_ids', 'attention_mask', 'hidden_state']"
            ]
          },
          "metadata": {},
          "execution_count": 28
        }
      ]
    },
    {
      "cell_type": "markdown",
      "source": [
        "**특성 행렬 만들기**"
      ],
      "metadata": {
        "id": "Z1ELmqnwU-yD"
      }
    },
    {
      "cell_type": "code",
      "source": [
        "import numpy as np\n",
        "\n",
        "X_train = np.array(emotions_hidden[\"train\"][\"hidden_state\"])\n",
        "X_valid = np.array(emotions_hidden[\"validation\"][\"hidden_state\"])\n",
        "y_train = np.array(emotions_hidden[\"train\"][\"label\"])\n",
        "y_valid = np.array(emotions_hidden[\"validation\"][\"label\"])\n",
        "X_train.shape, X_valid.shape"
      ],
      "metadata": {
        "colab": {
          "base_uri": "https://localhost:8080/"
        },
        "id": "JgLWKGkeUuqx",
        "outputId": "de45e3b3-7c72-4db7-bf7d-75ff86ca6f95"
      },
      "execution_count": 29,
      "outputs": [
        {
          "output_type": "execute_result",
          "data": {
            "text/plain": [
              "((16000, 768), (2000, 768))"
            ]
          },
          "metadata": {},
          "execution_count": 29
        }
      ]
    },
    {
      "cell_type": "markdown",
      "source": [
        "**훈련 세트 시각화하기**"
      ],
      "metadata": {
        "id": "U2HUybnCVZyf"
      }
    },
    {
      "cell_type": "code",
      "source": [
        "from umap import UMAP\n",
        "from sklearn.preprocessing import MinMaxScaler\n",
        "\n",
        "# 특성 스케일을 [0, 1] 범위로 조정합니다.\n",
        "X_scaled = MinMaxScaler().fit_transform(X_train)\n",
        "# UMAP 객체를 생성하고 훈련합니다.\n",
        "mapper = UMAP(n_components=2, metric=\"cosine\").fit(X_scaled)\n",
        "# 2D 임베딩의 데이터프레임을 만듭니다.\n",
        "df_emb = pd.DataFrame(mapper.embedding_, columns=[\"X\", \"Y\"])\n",
        "df_emb[\"label\"] = y_train\n",
        "df_emb.head()"
      ],
      "metadata": {
        "colab": {
          "base_uri": "https://localhost:8080/",
          "height": 206
        },
        "id": "SSwHwXyNVRAs",
        "outputId": "5b04981b-00d1-439d-efe1-7689fcabd3cc"
      },
      "execution_count": 30,
      "outputs": [
        {
          "output_type": "execute_result",
          "data": {
            "text/plain": [
              "          X         Y  label\n",
              "0  4.509254  6.754002      0\n",
              "1 -3.020678  6.327965      0\n",
              "2  5.420556  3.191638      3\n",
              "3 -2.055451  3.958842      2\n",
              "4 -3.163450  4.225528      3"
            ],
            "text/html": [
              "\n",
              "\n",
              "  <div id=\"df-263e17bd-32e3-4cd5-b342-5a601d3bac18\">\n",
              "    <div class=\"colab-df-container\">\n",
              "      <div>\n",
              "<style scoped>\n",
              "    .dataframe tbody tr th:only-of-type {\n",
              "        vertical-align: middle;\n",
              "    }\n",
              "\n",
              "    .dataframe tbody tr th {\n",
              "        vertical-align: top;\n",
              "    }\n",
              "\n",
              "    .dataframe thead th {\n",
              "        text-align: right;\n",
              "    }\n",
              "</style>\n",
              "<table border=\"1\" class=\"dataframe\">\n",
              "  <thead>\n",
              "    <tr style=\"text-align: right;\">\n",
              "      <th></th>\n",
              "      <th>X</th>\n",
              "      <th>Y</th>\n",
              "      <th>label</th>\n",
              "    </tr>\n",
              "  </thead>\n",
              "  <tbody>\n",
              "    <tr>\n",
              "      <th>0</th>\n",
              "      <td>4.509254</td>\n",
              "      <td>6.754002</td>\n",
              "      <td>0</td>\n",
              "    </tr>\n",
              "    <tr>\n",
              "      <th>1</th>\n",
              "      <td>-3.020678</td>\n",
              "      <td>6.327965</td>\n",
              "      <td>0</td>\n",
              "    </tr>\n",
              "    <tr>\n",
              "      <th>2</th>\n",
              "      <td>5.420556</td>\n",
              "      <td>3.191638</td>\n",
              "      <td>3</td>\n",
              "    </tr>\n",
              "    <tr>\n",
              "      <th>3</th>\n",
              "      <td>-2.055451</td>\n",
              "      <td>3.958842</td>\n",
              "      <td>2</td>\n",
              "    </tr>\n",
              "    <tr>\n",
              "      <th>4</th>\n",
              "      <td>-3.163450</td>\n",
              "      <td>4.225528</td>\n",
              "      <td>3</td>\n",
              "    </tr>\n",
              "  </tbody>\n",
              "</table>\n",
              "</div>\n",
              "      <button class=\"colab-df-convert\" onclick=\"convertToInteractive('df-263e17bd-32e3-4cd5-b342-5a601d3bac18')\"\n",
              "              title=\"Convert this dataframe to an interactive table.\"\n",
              "              style=\"display:none;\">\n",
              "\n",
              "  <svg xmlns=\"http://www.w3.org/2000/svg\" height=\"24px\"viewBox=\"0 0 24 24\"\n",
              "       width=\"24px\">\n",
              "    <path d=\"M0 0h24v24H0V0z\" fill=\"none\"/>\n",
              "    <path d=\"M18.56 5.44l.94 2.06.94-2.06 2.06-.94-2.06-.94-.94-2.06-.94 2.06-2.06.94zm-11 1L8.5 8.5l.94-2.06 2.06-.94-2.06-.94L8.5 2.5l-.94 2.06-2.06.94zm10 10l.94 2.06.94-2.06 2.06-.94-2.06-.94-.94-2.06-.94 2.06-2.06.94z\"/><path d=\"M17.41 7.96l-1.37-1.37c-.4-.4-.92-.59-1.43-.59-.52 0-1.04.2-1.43.59L10.3 9.45l-7.72 7.72c-.78.78-.78 2.05 0 2.83L4 21.41c.39.39.9.59 1.41.59.51 0 1.02-.2 1.41-.59l7.78-7.78 2.81-2.81c.8-.78.8-2.07 0-2.86zM5.41 20L4 18.59l7.72-7.72 1.47 1.35L5.41 20z\"/>\n",
              "  </svg>\n",
              "      </button>\n",
              "\n",
              "\n",
              "\n",
              "    <div id=\"df-16885beb-bfc8-4ba4-ab64-8f07d13e8ff3\">\n",
              "      <button class=\"colab-df-quickchart\" onclick=\"quickchart('df-16885beb-bfc8-4ba4-ab64-8f07d13e8ff3')\"\n",
              "              title=\"Suggest charts.\"\n",
              "              style=\"display:none;\">\n",
              "\n",
              "<svg xmlns=\"http://www.w3.org/2000/svg\" height=\"24px\"viewBox=\"0 0 24 24\"\n",
              "     width=\"24px\">\n",
              "    <g>\n",
              "        <path d=\"M19 3H5c-1.1 0-2 .9-2 2v14c0 1.1.9 2 2 2h14c1.1 0 2-.9 2-2V5c0-1.1-.9-2-2-2zM9 17H7v-7h2v7zm4 0h-2V7h2v10zm4 0h-2v-4h2v4z\"/>\n",
              "    </g>\n",
              "</svg>\n",
              "      </button>\n",
              "    </div>\n",
              "\n",
              "<style>\n",
              "  .colab-df-quickchart {\n",
              "    background-color: #E8F0FE;\n",
              "    border: none;\n",
              "    border-radius: 50%;\n",
              "    cursor: pointer;\n",
              "    display: none;\n",
              "    fill: #1967D2;\n",
              "    height: 32px;\n",
              "    padding: 0 0 0 0;\n",
              "    width: 32px;\n",
              "  }\n",
              "\n",
              "  .colab-df-quickchart:hover {\n",
              "    background-color: #E2EBFA;\n",
              "    box-shadow: 0px 1px 2px rgba(60, 64, 67, 0.3), 0px 1px 3px 1px rgba(60, 64, 67, 0.15);\n",
              "    fill: #174EA6;\n",
              "  }\n",
              "\n",
              "  [theme=dark] .colab-df-quickchart {\n",
              "    background-color: #3B4455;\n",
              "    fill: #D2E3FC;\n",
              "  }\n",
              "\n",
              "  [theme=dark] .colab-df-quickchart:hover {\n",
              "    background-color: #434B5C;\n",
              "    box-shadow: 0px 1px 3px 1px rgba(0, 0, 0, 0.15);\n",
              "    filter: drop-shadow(0px 1px 2px rgba(0, 0, 0, 0.3));\n",
              "    fill: #FFFFFF;\n",
              "  }\n",
              "</style>\n",
              "\n",
              "    <script>\n",
              "      async function quickchart(key) {\n",
              "        const containerElement = document.querySelector('#' + key);\n",
              "        const charts = await google.colab.kernel.invokeFunction(\n",
              "            'suggestCharts', [key], {});\n",
              "      }\n",
              "    </script>\n",
              "\n",
              "      <script>\n",
              "\n",
              "function displayQuickchartButton(domScope) {\n",
              "  let quickchartButtonEl =\n",
              "    domScope.querySelector('#df-16885beb-bfc8-4ba4-ab64-8f07d13e8ff3 button.colab-df-quickchart');\n",
              "  quickchartButtonEl.style.display =\n",
              "    google.colab.kernel.accessAllowed ? 'block' : 'none';\n",
              "}\n",
              "\n",
              "        displayQuickchartButton(document);\n",
              "      </script>\n",
              "      <style>\n",
              "    .colab-df-container {\n",
              "      display:flex;\n",
              "      flex-wrap:wrap;\n",
              "      gap: 12px;\n",
              "    }\n",
              "\n",
              "    .colab-df-convert {\n",
              "      background-color: #E8F0FE;\n",
              "      border: none;\n",
              "      border-radius: 50%;\n",
              "      cursor: pointer;\n",
              "      display: none;\n",
              "      fill: #1967D2;\n",
              "      height: 32px;\n",
              "      padding: 0 0 0 0;\n",
              "      width: 32px;\n",
              "    }\n",
              "\n",
              "    .colab-df-convert:hover {\n",
              "      background-color: #E2EBFA;\n",
              "      box-shadow: 0px 1px 2px rgba(60, 64, 67, 0.3), 0px 1px 3px 1px rgba(60, 64, 67, 0.15);\n",
              "      fill: #174EA6;\n",
              "    }\n",
              "\n",
              "    [theme=dark] .colab-df-convert {\n",
              "      background-color: #3B4455;\n",
              "      fill: #D2E3FC;\n",
              "    }\n",
              "\n",
              "    [theme=dark] .colab-df-convert:hover {\n",
              "      background-color: #434B5C;\n",
              "      box-shadow: 0px 1px 3px 1px rgba(0, 0, 0, 0.15);\n",
              "      filter: drop-shadow(0px 1px 2px rgba(0, 0, 0, 0.3));\n",
              "      fill: #FFFFFF;\n",
              "    }\n",
              "  </style>\n",
              "\n",
              "      <script>\n",
              "        const buttonEl =\n",
              "          document.querySelector('#df-263e17bd-32e3-4cd5-b342-5a601d3bac18 button.colab-df-convert');\n",
              "        buttonEl.style.display =\n",
              "          google.colab.kernel.accessAllowed ? 'block' : 'none';\n",
              "\n",
              "        async function convertToInteractive(key) {\n",
              "          const element = document.querySelector('#df-263e17bd-32e3-4cd5-b342-5a601d3bac18');\n",
              "          const dataTable =\n",
              "            await google.colab.kernel.invokeFunction('convertToInteractive',\n",
              "                                                     [key], {});\n",
              "          if (!dataTable) return;\n",
              "\n",
              "          const docLinkHtml = 'Like what you see? Visit the ' +\n",
              "            '<a target=\"_blank\" href=https://colab.research.google.com/notebooks/data_table.ipynb>data table notebook</a>'\n",
              "            + ' to learn more about interactive tables.';\n",
              "          element.innerHTML = '';\n",
              "          dataTable['output_type'] = 'display_data';\n",
              "          await google.colab.output.renderOutput(dataTable, element);\n",
              "          const docLink = document.createElement('div');\n",
              "          docLink.innerHTML = docLinkHtml;\n",
              "          element.appendChild(docLink);\n",
              "        }\n",
              "      </script>\n",
              "    </div>\n",
              "  </div>\n"
            ]
          },
          "metadata": {},
          "execution_count": 30
        }
      ]
    },
    {
      "cell_type": "code",
      "source": [
        "fig, axes = plt.subplots(2, 3, figsize=(7, 5))\n",
        "axes = axes.flatten()\n",
        "cmaps = [\"Greys\", \"Blues\", \"Oranges\", \"Reds\", \"Purples\", \"Greens\"]\n",
        "labels = emotions[\"train\"].features[\"label\"].names\n",
        "\n",
        "for i, (label, cmap) in enumerate(zip(labels, cmaps)) :\n",
        "    df_emb_sub = df_emb.query(f\"label == {i}\")\n",
        "    axes[i].hexbin(df_emb_sub[\"X\"], df_emb_sub[\"Y\"], cmap=cmap,\n",
        "                   gridsize=20, linewidths=(0,))\n",
        "    axes[i].set_title(label)\n",
        "    axes[i].set_xticks([]), axes[i].set_yticks([])\n",
        "\n",
        "plt.tight_layout()\n",
        "plt.show()"
      ],
      "metadata": {
        "colab": {
          "base_uri": "https://localhost:8080/",
          "height": 485
        },
        "id": "Gqktiz_qaD3I",
        "outputId": "0ea9d122-a452-468f-a92d-4c1abad7dca3"
      },
      "execution_count": 31,
      "outputs": [
        {
          "output_type": "display_data",
          "data": {
            "text/plain": [
              "<Figure size 700x500 with 6 Axes>"
            ],
            "image/svg+xml": "<?xml version=\"1.0\" encoding=\"utf-8\" standalone=\"no\"?>\n<!DOCTYPE svg PUBLIC \"-//W3C//DTD SVG 1.1//EN\"\n  \"http://www.w3.org/Graphics/SVG/1.1/DTD/svg11.dtd\">\n<svg xmlns:xlink=\"http://www.w3.org/1999/xlink\" width=\"492.48pt\" height=\"348.62175pt\" viewBox=\"0 0 492.48 348.62175\" xmlns=\"http://www.w3.org/2000/svg\" version=\"1.1\">\n <metadata>\n  <rdf:RDF xmlns:dc=\"http://purl.org/dc/elements/1.1/\" xmlns:cc=\"http://creativecommons.org/ns#\" xmlns:rdf=\"http://www.w3.org/1999/02/22-rdf-syntax-ns#\">\n   <cc:Work>\n    <dc:type rdf:resource=\"http://purl.org/dc/dcmitype/StillImage\"/>\n    <dc:date>2023-07-16T14:49:23.599755</dc:date>\n    <dc:format>image/svg+xml</dc:format>\n    <dc:creator>\n     <cc:Agent>\n      <dc:title>Matplotlib v3.7.1, https://matplotlib.org/</dc:title>\n     </cc:Agent>\n    </dc:creator>\n   </cc:Work>\n  </rdf:RDF>\n </metadata>\n <defs>\n  <style type=\"text/css\">*{stroke-linejoin: round; stroke-linecap: butt}</style>\n </defs>\n <g id=\"figure_1\">\n  <g id=\"patch_1\">\n   <path d=\"M 0 348.62175 \nL 492.48 348.62175 \nL 492.48 0 \nL 0 0 \nz\n\" style=\"fill: #ffffff\"/>\n  </g>\n  <g id=\"axes_1\">\n   <g id=\"patch_2\">\n    <path d=\"M 7.2 167.90175 \nL 157.92 167.90175 \nL 157.92 24.14175 \nL 7.2 24.14175 \nz\n\" style=\"fill: #ffffff\"/>\n   </g>\n   <g id=\"PolyCollection_1\">\n    <defs>\n     <path id=\"C0_0_2d9c3b356c\" d=\"M 71.058249 -166.394275 \nL 71.058249 -170.354605 \nL 67.632795 -172.33477 \nL 64.20734 -170.354605 \nL 64.20734 -166.394275 \nL 67.632795 -164.414109 \nz\n\"/>\n    </defs>\n    <g clip-path=\"url(#p9fce212757)\">\n     <use xlink:href=\"#C0_0_2d9c3b356c\" x=\"-53.581886\" y=\"329.741644\" style=\"fill: #ffffff\"/>\n    </g>\n    <g clip-path=\"url(#p9fce212757)\">\n     <use xlink:href=\"#C0_0_2d9c3b356c\" x=\"-53.581886\" y=\"317.860653\" style=\"fill: #ffffff\"/>\n    </g>\n    <g clip-path=\"url(#p9fce212757)\">\n     <use xlink:href=\"#C0_0_2d9c3b356c\" x=\"-53.581886\" y=\"305.979661\" style=\"fill: #ffffff\"/>\n    </g>\n    <g clip-path=\"url(#p9fce212757)\">\n     <use xlink:href=\"#C0_0_2d9c3b356c\" x=\"-53.581886\" y=\"294.098669\" style=\"fill: #ffffff\"/>\n    </g>\n    <g clip-path=\"url(#p9fce212757)\">\n     <use xlink:href=\"#C0_0_2d9c3b356c\" x=\"-53.581886\" y=\"282.217677\" style=\"fill: #ffffff\"/>\n    </g>\n    <g clip-path=\"url(#p9fce212757)\">\n     <use xlink:href=\"#C0_0_2d9c3b356c\" x=\"-53.581886\" y=\"270.336686\" style=\"fill: #f0f0f0\"/>\n    </g>\n    <g clip-path=\"url(#p9fce212757)\">\n     <use xlink:href=\"#C0_0_2d9c3b356c\" x=\"-53.581886\" y=\"258.455694\" style=\"fill: #eaeaea\"/>\n    </g>\n    <g clip-path=\"url(#p9fce212757)\">\n     <use xlink:href=\"#C0_0_2d9c3b356c\" x=\"-53.581886\" y=\"246.574702\" style=\"fill: #fafafa\"/>\n    </g>\n    <g clip-path=\"url(#p9fce212757)\">\n     <use xlink:href=\"#C0_0_2d9c3b356c\" x=\"-53.581886\" y=\"234.69371\" style=\"fill: #ffffff\"/>\n    </g>\n    <g clip-path=\"url(#p9fce212757)\">\n     <use xlink:href=\"#C0_0_2d9c3b356c\" x=\"-53.581886\" y=\"222.812719\" style=\"fill: #ffffff\"/>\n    </g>\n    <g clip-path=\"url(#p9fce212757)\">\n     <use xlink:href=\"#C0_0_2d9c3b356c\" x=\"-53.581886\" y=\"210.931727\" style=\"fill: #ffffff\"/>\n    </g>\n    <g clip-path=\"url(#p9fce212757)\">\n     <use xlink:href=\"#C0_0_2d9c3b356c\" x=\"-53.581886\" y=\"199.050735\" style=\"fill: #ffffff\"/>\n    </g>\n    <g clip-path=\"url(#p9fce212757)\">\n     <use xlink:href=\"#C0_0_2d9c3b356c\" x=\"-46.730977\" y=\"329.741644\" style=\"fill: #ffffff\"/>\n    </g>\n    <g clip-path=\"url(#p9fce212757)\">\n     <use xlink:href=\"#C0_0_2d9c3b356c\" x=\"-46.730977\" y=\"317.860653\" style=\"fill: #ffffff\"/>\n    </g>\n    <g clip-path=\"url(#p9fce212757)\">\n     <use xlink:href=\"#C0_0_2d9c3b356c\" x=\"-46.730977\" y=\"305.979661\" style=\"fill: #ffffff\"/>\n    </g>\n    <g clip-path=\"url(#p9fce212757)\">\n     <use xlink:href=\"#C0_0_2d9c3b356c\" x=\"-46.730977\" y=\"294.098669\" style=\"fill: #f1f1f1\"/>\n    </g>\n    <g clip-path=\"url(#p9fce212757)\">\n     <use xlink:href=\"#C0_0_2d9c3b356c\" x=\"-46.730977\" y=\"282.217677\" style=\"fill: #a8a8a8\"/>\n    </g>\n    <g clip-path=\"url(#p9fce212757)\">\n     <use xlink:href=\"#C0_0_2d9c3b356c\" x=\"-46.730977\" y=\"270.336686\" style=\"fill: #303030\"/>\n    </g>\n    <g clip-path=\"url(#p9fce212757)\">\n     <use xlink:href=\"#C0_0_2d9c3b356c\" x=\"-46.730977\" y=\"258.455694\" style=\"fill: #181818\"/>\n    </g>\n    <g clip-path=\"url(#p9fce212757)\">\n     <use xlink:href=\"#C0_0_2d9c3b356c\" x=\"-46.730977\" y=\"246.574702\" style=\"fill: #4a4a4a\"/>\n    </g>\n    <g clip-path=\"url(#p9fce212757)\">\n     <use xlink:href=\"#C0_0_2d9c3b356c\" x=\"-46.730977\" y=\"234.69371\" style=\"fill: #ffffff\"/>\n    </g>\n    <g clip-path=\"url(#p9fce212757)\">\n     <use xlink:href=\"#C0_0_2d9c3b356c\" x=\"-46.730977\" y=\"222.812719\" style=\"fill: #ffffff\"/>\n    </g>\n    <g clip-path=\"url(#p9fce212757)\">\n     <use xlink:href=\"#C0_0_2d9c3b356c\" x=\"-46.730977\" y=\"210.931727\" style=\"fill: #ffffff\"/>\n    </g>\n    <g clip-path=\"url(#p9fce212757)\">\n     <use xlink:href=\"#C0_0_2d9c3b356c\" x=\"-46.730977\" y=\"199.050735\" style=\"fill: #ffffff\"/>\n    </g>\n    <g clip-path=\"url(#p9fce212757)\">\n     <use xlink:href=\"#C0_0_2d9c3b356c\" x=\"-39.880068\" y=\"329.741644\" style=\"fill: #ffffff\"/>\n    </g>\n    <g clip-path=\"url(#p9fce212757)\">\n     <use xlink:href=\"#C0_0_2d9c3b356c\" x=\"-39.880068\" y=\"317.860653\" style=\"fill: #ffffff\"/>\n    </g>\n    <g clip-path=\"url(#p9fce212757)\">\n     <use xlink:href=\"#C0_0_2d9c3b356c\" x=\"-39.880068\" y=\"305.979661\" style=\"fill: #d8d8d8\"/>\n    </g>\n    <g clip-path=\"url(#p9fce212757)\">\n     <use xlink:href=\"#C0_0_2d9c3b356c\" x=\"-39.880068\" y=\"294.098669\" style=\"fill: #c7c7c7\"/>\n    </g>\n    <g clip-path=\"url(#p9fce212757)\">\n     <use xlink:href=\"#C0_0_2d9c3b356c\" x=\"-39.880068\" y=\"282.217677\" style=\"fill: #8e8e8e\"/>\n    </g>\n    <g clip-path=\"url(#p9fce212757)\">\n     <use xlink:href=\"#C0_0_2d9c3b356c\" x=\"-39.880068\" y=\"270.336686\" style=\"fill: #7a7a7a\"/>\n    </g>\n    <g clip-path=\"url(#p9fce212757)\">\n     <use xlink:href=\"#C0_0_2d9c3b356c\" x=\"-39.880068\" y=\"258.455694\" style=\"fill: #030303\"/>\n    </g>\n    <g clip-path=\"url(#p9fce212757)\">\n     <use xlink:href=\"#C0_0_2d9c3b356c\" x=\"-39.880068\" y=\"246.574702\" style=\"fill: #2b2b2b\"/>\n    </g>\n    <g clip-path=\"url(#p9fce212757)\">\n     <use xlink:href=\"#C0_0_2d9c3b356c\" x=\"-39.880068\" y=\"234.69371\" style=\"fill: #f8f8f8\"/>\n    </g>\n    <g clip-path=\"url(#p9fce212757)\">\n     <use xlink:href=\"#C0_0_2d9c3b356c\" x=\"-39.880068\" y=\"222.812719\" style=\"fill: #ffffff\"/>\n    </g>\n    <g clip-path=\"url(#p9fce212757)\">\n     <use xlink:href=\"#C0_0_2d9c3b356c\" x=\"-39.880068\" y=\"210.931727\" style=\"fill: #ffffff\"/>\n    </g>\n    <g clip-path=\"url(#p9fce212757)\">\n     <use xlink:href=\"#C0_0_2d9c3b356c\" x=\"-39.880068\" y=\"199.050735\" style=\"fill: #ffffff\"/>\n    </g>\n    <g clip-path=\"url(#p9fce212757)\">\n     <use xlink:href=\"#C0_0_2d9c3b356c\" x=\"-33.029158\" y=\"329.741644\" style=\"fill: #ffffff\"/>\n    </g>\n    <g clip-path=\"url(#p9fce212757)\">\n     <use xlink:href=\"#C0_0_2d9c3b356c\" x=\"-33.029158\" y=\"317.860653\" style=\"fill: #ffffff\"/>\n    </g>\n    <g clip-path=\"url(#p9fce212757)\">\n     <use xlink:href=\"#C0_0_2d9c3b356c\" x=\"-33.029158\" y=\"305.979661\" style=\"fill: #d8d8d8\"/>\n    </g>\n    <g clip-path=\"url(#p9fce212757)\">\n     <use xlink:href=\"#C0_0_2d9c3b356c\" x=\"-33.029158\" y=\"294.098669\" style=\"fill: #f0f0f0\"/>\n    </g>\n    <g clip-path=\"url(#p9fce212757)\">\n     <use xlink:href=\"#C0_0_2d9c3b356c\" x=\"-33.029158\" y=\"282.217677\" style=\"fill: #d4d4d4\"/>\n    </g>\n    <g clip-path=\"url(#p9fce212757)\">\n     <use xlink:href=\"#C0_0_2d9c3b356c\" x=\"-33.029158\" y=\"270.336686\" style=\"fill: #adadad\"/>\n    </g>\n    <g clip-path=\"url(#p9fce212757)\">\n     <use xlink:href=\"#C0_0_2d9c3b356c\" x=\"-33.029158\" y=\"258.455694\" style=\"fill: #727272\"/>\n    </g>\n    <g clip-path=\"url(#p9fce212757)\">\n     <use xlink:href=\"#C0_0_2d9c3b356c\" x=\"-33.029158\" y=\"246.574702\" style=\"fill: #080808\"/>\n    </g>\n    <g clip-path=\"url(#p9fce212757)\">\n     <use xlink:href=\"#C0_0_2d9c3b356c\" x=\"-33.029158\" y=\"234.69371\" style=\"fill: #ededed\"/>\n    </g>\n    <g clip-path=\"url(#p9fce212757)\">\n     <use xlink:href=\"#C0_0_2d9c3b356c\" x=\"-33.029158\" y=\"222.812719\" style=\"fill: #ffffff\"/>\n    </g>\n    <g clip-path=\"url(#p9fce212757)\">\n     <use xlink:href=\"#C0_0_2d9c3b356c\" x=\"-33.029158\" y=\"210.931727\" style=\"fill: #ffffff\"/>\n    </g>\n    <g clip-path=\"url(#p9fce212757)\">\n     <use xlink:href=\"#C0_0_2d9c3b356c\" x=\"-33.029158\" y=\"199.050735\" style=\"fill: #ffffff\"/>\n    </g>\n    <g clip-path=\"url(#p9fce212757)\">\n     <use xlink:href=\"#C0_0_2d9c3b356c\" x=\"-26.178249\" y=\"329.741644\" style=\"fill: #ffffff\"/>\n    </g>\n    <g clip-path=\"url(#p9fce212757)\">\n     <use xlink:href=\"#C0_0_2d9c3b356c\" x=\"-26.178249\" y=\"317.860653\" style=\"fill: #e5e5e5\"/>\n    </g>\n    <g clip-path=\"url(#p9fce212757)\">\n     <use xlink:href=\"#C0_0_2d9c3b356c\" x=\"-26.178249\" y=\"305.979661\" style=\"fill: #fcfcfc\"/>\n    </g>\n    <g clip-path=\"url(#p9fce212757)\">\n     <use xlink:href=\"#C0_0_2d9c3b356c\" x=\"-26.178249\" y=\"294.098669\" style=\"fill: #ededed\"/>\n    </g>\n    <g clip-path=\"url(#p9fce212757)\">\n     <use xlink:href=\"#C0_0_2d9c3b356c\" x=\"-26.178249\" y=\"282.217677\" style=\"fill: #e0e0e0\"/>\n    </g>\n    <g clip-path=\"url(#p9fce212757)\">\n     <use xlink:href=\"#C0_0_2d9c3b356c\" x=\"-26.178249\" y=\"270.336686\" style=\"fill: #b5b5b5\"/>\n    </g>\n    <g clip-path=\"url(#p9fce212757)\">\n     <use xlink:href=\"#C0_0_2d9c3b356c\" x=\"-26.178249\" y=\"258.455694\" style=\"fill: #959595\"/>\n    </g>\n    <g clip-path=\"url(#p9fce212757)\">\n     <use xlink:href=\"#C0_0_2d9c3b356c\" x=\"-26.178249\" y=\"246.574702\" style=\"fill: #4a4a4a\"/>\n    </g>\n    <g clip-path=\"url(#p9fce212757)\">\n     <use xlink:href=\"#C0_0_2d9c3b356c\" x=\"-26.178249\" y=\"234.69371\" style=\"fill: #d4d4d4\"/>\n    </g>\n    <g clip-path=\"url(#p9fce212757)\">\n     <use xlink:href=\"#C0_0_2d9c3b356c\" x=\"-26.178249\" y=\"222.812719\" style=\"fill: #ffffff\"/>\n    </g>\n    <g clip-path=\"url(#p9fce212757)\">\n     <use xlink:href=\"#C0_0_2d9c3b356c\" x=\"-26.178249\" y=\"210.931727\" style=\"fill: #eaeaea\"/>\n    </g>\n    <g clip-path=\"url(#p9fce212757)\">\n     <use xlink:href=\"#C0_0_2d9c3b356c\" x=\"-26.178249\" y=\"199.050735\" style=\"fill: #ffffff\"/>\n    </g>\n    <g clip-path=\"url(#p9fce212757)\">\n     <use xlink:href=\"#C0_0_2d9c3b356c\" x=\"-19.32734\" y=\"329.741644\" style=\"fill: #ffffff\"/>\n    </g>\n    <g clip-path=\"url(#p9fce212757)\">\n     <use xlink:href=\"#C0_0_2d9c3b356c\" x=\"-19.32734\" y=\"317.860653\" style=\"fill: #f7f7f7\"/>\n    </g>\n    <g clip-path=\"url(#p9fce212757)\">\n     <use xlink:href=\"#C0_0_2d9c3b356c\" x=\"-19.32734\" y=\"305.979661\" style=\"fill: #f1f1f1\"/>\n    </g>\n    <g clip-path=\"url(#p9fce212757)\">\n     <use xlink:href=\"#C0_0_2d9c3b356c\" x=\"-19.32734\" y=\"294.098669\" style=\"fill: #d1d1d1\"/>\n    </g>\n    <g clip-path=\"url(#p9fce212757)\">\n     <use xlink:href=\"#C0_0_2d9c3b356c\" x=\"-19.32734\" y=\"282.217677\" style=\"fill: #e8e8e8\"/>\n    </g>\n    <g clip-path=\"url(#p9fce212757)\">\n     <use xlink:href=\"#C0_0_2d9c3b356c\" x=\"-19.32734\" y=\"270.336686\" style=\"fill: #dddddd\"/>\n    </g>\n    <g clip-path=\"url(#p9fce212757)\">\n     <use xlink:href=\"#C0_0_2d9c3b356c\" x=\"-19.32734\" y=\"258.455694\" style=\"fill: #a3a3a3\"/>\n    </g>\n    <g clip-path=\"url(#p9fce212757)\">\n     <use xlink:href=\"#C0_0_2d9c3b356c\" x=\"-19.32734\" y=\"246.574702\" style=\"fill: #828282\"/>\n    </g>\n    <g clip-path=\"url(#p9fce212757)\">\n     <use xlink:href=\"#C0_0_2d9c3b356c\" x=\"-19.32734\" y=\"234.69371\" style=\"fill: #eaeaea\"/>\n    </g>\n    <g clip-path=\"url(#p9fce212757)\">\n     <use xlink:href=\"#C0_0_2d9c3b356c\" x=\"-19.32734\" y=\"222.812719\" style=\"fill: #dddddd\"/>\n    </g>\n    <g clip-path=\"url(#p9fce212757)\">\n     <use xlink:href=\"#C0_0_2d9c3b356c\" x=\"-19.32734\" y=\"210.931727\" style=\"fill: #adadad\"/>\n    </g>\n    <g clip-path=\"url(#p9fce212757)\">\n     <use xlink:href=\"#C0_0_2d9c3b356c\" x=\"-19.32734\" y=\"199.050735\" style=\"fill: #ffffff\"/>\n    </g>\n    <g clip-path=\"url(#p9fce212757)\">\n     <use xlink:href=\"#C0_0_2d9c3b356c\" x=\"-12.476431\" y=\"329.741644\" style=\"fill: #ffffff\"/>\n    </g>\n    <g clip-path=\"url(#p9fce212757)\">\n     <use xlink:href=\"#C0_0_2d9c3b356c\" x=\"-12.476431\" y=\"317.860653\" style=\"fill: #fefefe\"/>\n    </g>\n    <g clip-path=\"url(#p9fce212757)\">\n     <use xlink:href=\"#C0_0_2d9c3b356c\" x=\"-12.476431\" y=\"305.979661\" style=\"fill: #f7f7f7\"/>\n    </g>\n    <g clip-path=\"url(#p9fce212757)\">\n     <use xlink:href=\"#C0_0_2d9c3b356c\" x=\"-12.476431\" y=\"294.098669\" style=\"fill: #dddddd\"/>\n    </g>\n    <g clip-path=\"url(#p9fce212757)\">\n     <use xlink:href=\"#C0_0_2d9c3b356c\" x=\"-12.476431\" y=\"282.217677\" style=\"fill: #cbcbcb\"/>\n    </g>\n    <g clip-path=\"url(#p9fce212757)\">\n     <use xlink:href=\"#C0_0_2d9c3b356c\" x=\"-12.476431\" y=\"270.336686\" style=\"fill: #d4d4d4\"/>\n    </g>\n    <g clip-path=\"url(#p9fce212757)\">\n     <use xlink:href=\"#C0_0_2d9c3b356c\" x=\"-12.476431\" y=\"258.455694\" style=\"fill: #9f9f9f\"/>\n    </g>\n    <g clip-path=\"url(#p9fce212757)\">\n     <use xlink:href=\"#C0_0_2d9c3b356c\" x=\"-12.476431\" y=\"246.574702\" style=\"fill: #828282\"/>\n    </g>\n    <g clip-path=\"url(#p9fce212757)\">\n     <use xlink:href=\"#C0_0_2d9c3b356c\" x=\"-12.476431\" y=\"234.69371\" style=\"fill: #e0e0e0\"/>\n    </g>\n    <g clip-path=\"url(#p9fce212757)\">\n     <use xlink:href=\"#C0_0_2d9c3b356c\" x=\"-12.476431\" y=\"222.812719\" style=\"fill: #bababa\"/>\n    </g>\n    <g clip-path=\"url(#p9fce212757)\">\n     <use xlink:href=\"#C0_0_2d9c3b356c\" x=\"-12.476431\" y=\"210.931727\" style=\"fill: #6a6a6a\"/>\n    </g>\n    <g clip-path=\"url(#p9fce212757)\">\n     <use xlink:href=\"#C0_0_2d9c3b356c\" x=\"-12.476431\" y=\"199.050735\" style=\"fill: #fafafa\"/>\n    </g>\n    <g clip-path=\"url(#p9fce212757)\">\n     <use xlink:href=\"#C0_0_2d9c3b356c\" x=\"-5.625522\" y=\"329.741644\" style=\"fill: #ffffff\"/>\n    </g>\n    <g clip-path=\"url(#p9fce212757)\">\n     <use xlink:href=\"#C0_0_2d9c3b356c\" x=\"-5.625522\" y=\"317.860653\" style=\"fill: #fefefe\"/>\n    </g>\n    <g clip-path=\"url(#p9fce212757)\">\n     <use xlink:href=\"#C0_0_2d9c3b356c\" x=\"-5.625522\" y=\"305.979661\" style=\"fill: #ffffff\"/>\n    </g>\n    <g clip-path=\"url(#p9fce212757)\">\n     <use xlink:href=\"#C0_0_2d9c3b356c\" x=\"-5.625522\" y=\"294.098669\" style=\"fill: #fafafa\"/>\n    </g>\n    <g clip-path=\"url(#p9fce212757)\">\n     <use xlink:href=\"#C0_0_2d9c3b356c\" x=\"-5.625522\" y=\"282.217677\" style=\"fill: #e5e5e5\"/>\n    </g>\n    <g clip-path=\"url(#p9fce212757)\">\n     <use xlink:href=\"#C0_0_2d9c3b356c\" x=\"-5.625522\" y=\"270.336686\" style=\"fill: #d1d1d1\"/>\n    </g>\n    <g clip-path=\"url(#p9fce212757)\">\n     <use xlink:href=\"#C0_0_2d9c3b356c\" x=\"-5.625522\" y=\"258.455694\" style=\"fill: #cbcbcb\"/>\n    </g>\n    <g clip-path=\"url(#p9fce212757)\">\n     <use xlink:href=\"#C0_0_2d9c3b356c\" x=\"-5.625522\" y=\"246.574702\" style=\"fill: #929292\"/>\n    </g>\n    <g clip-path=\"url(#p9fce212757)\">\n     <use xlink:href=\"#C0_0_2d9c3b356c\" x=\"-5.625522\" y=\"234.69371\" style=\"fill: #e5e5e5\"/>\n    </g>\n    <g clip-path=\"url(#p9fce212757)\">\n     <use xlink:href=\"#C0_0_2d9c3b356c\" x=\"-5.625522\" y=\"222.812719\" style=\"fill: #8e8e8e\"/>\n    </g>\n    <g clip-path=\"url(#p9fce212757)\">\n     <use xlink:href=\"#C0_0_2d9c3b356c\" x=\"-5.625522\" y=\"210.931727\" style=\"fill: #959595\"/>\n    </g>\n    <g clip-path=\"url(#p9fce212757)\">\n     <use xlink:href=\"#C0_0_2d9c3b356c\" x=\"-5.625522\" y=\"199.050735\" style=\"fill: #ffffff\"/>\n    </g>\n    <g clip-path=\"url(#p9fce212757)\">\n     <use xlink:href=\"#C0_0_2d9c3b356c\" x=\"1.225387\" y=\"329.741644\" style=\"fill: #fefefe\"/>\n    </g>\n    <g clip-path=\"url(#p9fce212757)\">\n     <use xlink:href=\"#C0_0_2d9c3b356c\" x=\"1.225387\" y=\"317.860653\" style=\"fill: #dadada\"/>\n    </g>\n    <g clip-path=\"url(#p9fce212757)\">\n     <use xlink:href=\"#C0_0_2d9c3b356c\" x=\"1.225387\" y=\"305.979661\" style=\"fill: #f5f5f5\"/>\n    </g>\n    <g clip-path=\"url(#p9fce212757)\">\n     <use xlink:href=\"#C0_0_2d9c3b356c\" x=\"1.225387\" y=\"294.098669\" style=\"fill: #fafafa\"/>\n    </g>\n    <g clip-path=\"url(#p9fce212757)\">\n     <use xlink:href=\"#C0_0_2d9c3b356c\" x=\"1.225387\" y=\"282.217677\" style=\"fill: #d1d1d1\"/>\n    </g>\n    <g clip-path=\"url(#p9fce212757)\">\n     <use xlink:href=\"#C0_0_2d9c3b356c\" x=\"1.225387\" y=\"270.336686\" style=\"fill: #ededed\"/>\n    </g>\n    <g clip-path=\"url(#p9fce212757)\">\n     <use xlink:href=\"#C0_0_2d9c3b356c\" x=\"1.225387\" y=\"258.455694\" style=\"fill: #e5e5e5\"/>\n    </g>\n    <g clip-path=\"url(#p9fce212757)\">\n     <use xlink:href=\"#C0_0_2d9c3b356c\" x=\"1.225387\" y=\"246.574702\" style=\"fill: #ededed\"/>\n    </g>\n    <g clip-path=\"url(#p9fce212757)\">\n     <use xlink:href=\"#C0_0_2d9c3b356c\" x=\"1.225387\" y=\"234.69371\" style=\"fill: #e2e2e2\"/>\n    </g>\n    <g clip-path=\"url(#p9fce212757)\">\n     <use xlink:href=\"#C0_0_2d9c3b356c\" x=\"1.225387\" y=\"222.812719\" style=\"fill: #b0b0b0\"/>\n    </g>\n    <g clip-path=\"url(#p9fce212757)\">\n     <use xlink:href=\"#C0_0_2d9c3b356c\" x=\"1.225387\" y=\"210.931727\" style=\"fill: #fefefe\"/>\n    </g>\n    <g clip-path=\"url(#p9fce212757)\">\n     <use xlink:href=\"#C0_0_2d9c3b356c\" x=\"1.225387\" y=\"199.050735\" style=\"fill: #ffffff\"/>\n    </g>\n    <g clip-path=\"url(#p9fce212757)\">\n     <use xlink:href=\"#C0_0_2d9c3b356c\" x=\"8.076296\" y=\"329.741644\" style=\"fill: #fcfcfc\"/>\n    </g>\n    <g clip-path=\"url(#p9fce212757)\">\n     <use xlink:href=\"#C0_0_2d9c3b356c\" x=\"8.076296\" y=\"317.860653\" style=\"fill: #cecece\"/>\n    </g>\n    <g clip-path=\"url(#p9fce212757)\">\n     <use xlink:href=\"#C0_0_2d9c3b356c\" x=\"8.076296\" y=\"305.979661\" style=\"fill: #fefefe\"/>\n    </g>\n    <g clip-path=\"url(#p9fce212757)\">\n     <use xlink:href=\"#C0_0_2d9c3b356c\" x=\"8.076296\" y=\"294.098669\" style=\"fill: #f8f8f8\"/>\n    </g>\n    <g clip-path=\"url(#p9fce212757)\">\n     <use xlink:href=\"#C0_0_2d9c3b356c\" x=\"8.076296\" y=\"282.217677\" style=\"fill: #ededed\"/>\n    </g>\n    <g clip-path=\"url(#p9fce212757)\">\n     <use xlink:href=\"#C0_0_2d9c3b356c\" x=\"8.076296\" y=\"270.336686\" style=\"fill: #f7f7f7\"/>\n    </g>\n    <g clip-path=\"url(#p9fce212757)\">\n     <use xlink:href=\"#C0_0_2d9c3b356c\" x=\"8.076296\" y=\"258.455694\" style=\"fill: #e8e8e8\"/>\n    </g>\n    <g clip-path=\"url(#p9fce212757)\">\n     <use xlink:href=\"#C0_0_2d9c3b356c\" x=\"8.076296\" y=\"246.574702\" style=\"fill: #f5f5f5\"/>\n    </g>\n    <g clip-path=\"url(#p9fce212757)\">\n     <use xlink:href=\"#C0_0_2d9c3b356c\" x=\"8.076296\" y=\"234.69371\" style=\"fill: #ffffff\"/>\n    </g>\n    <g clip-path=\"url(#p9fce212757)\">\n     <use xlink:href=\"#C0_0_2d9c3b356c\" x=\"8.076296\" y=\"222.812719\" style=\"fill: #ffffff\"/>\n    </g>\n    <g clip-path=\"url(#p9fce212757)\">\n     <use xlink:href=\"#C0_0_2d9c3b356c\" x=\"8.076296\" y=\"210.931727\" style=\"fill: #ffffff\"/>\n    </g>\n    <g clip-path=\"url(#p9fce212757)\">\n     <use xlink:href=\"#C0_0_2d9c3b356c\" x=\"8.076296\" y=\"199.050735\" style=\"fill: #ffffff\"/>\n    </g>\n    <g clip-path=\"url(#p9fce212757)\">\n     <use xlink:href=\"#C0_0_2d9c3b356c\" x=\"14.927205\" y=\"329.741644\" style=\"fill: #ffffff\"/>\n    </g>\n    <g clip-path=\"url(#p9fce212757)\">\n     <use xlink:href=\"#C0_0_2d9c3b356c\" x=\"14.927205\" y=\"317.860653\" style=\"fill: #ffffff\"/>\n    </g>\n    <g clip-path=\"url(#p9fce212757)\">\n     <use xlink:href=\"#C0_0_2d9c3b356c\" x=\"14.927205\" y=\"305.979661\" style=\"fill: #fcfcfc\"/>\n    </g>\n    <g clip-path=\"url(#p9fce212757)\">\n     <use xlink:href=\"#C0_0_2d9c3b356c\" x=\"14.927205\" y=\"294.098669\" style=\"fill: #ededed\"/>\n    </g>\n    <g clip-path=\"url(#p9fce212757)\">\n     <use xlink:href=\"#C0_0_2d9c3b356c\" x=\"14.927205\" y=\"282.217677\" style=\"fill: #fcfcfc\"/>\n    </g>\n    <g clip-path=\"url(#p9fce212757)\">\n     <use xlink:href=\"#C0_0_2d9c3b356c\" x=\"14.927205\" y=\"270.336686\" style=\"fill: #fefefe\"/>\n    </g>\n    <g clip-path=\"url(#p9fce212757)\">\n     <use xlink:href=\"#C0_0_2d9c3b356c\" x=\"14.927205\" y=\"258.455694\" style=\"fill: #fcfcfc\"/>\n    </g>\n    <g clip-path=\"url(#p9fce212757)\">\n     <use xlink:href=\"#C0_0_2d9c3b356c\" x=\"14.927205\" y=\"246.574702\" style=\"fill: #fefefe\"/>\n    </g>\n    <g clip-path=\"url(#p9fce212757)\">\n     <use xlink:href=\"#C0_0_2d9c3b356c\" x=\"14.927205\" y=\"234.69371\" style=\"fill: #ffffff\"/>\n    </g>\n    <g clip-path=\"url(#p9fce212757)\">\n     <use xlink:href=\"#C0_0_2d9c3b356c\" x=\"14.927205\" y=\"222.812719\" style=\"fill: #ffffff\"/>\n    </g>\n    <g clip-path=\"url(#p9fce212757)\">\n     <use xlink:href=\"#C0_0_2d9c3b356c\" x=\"14.927205\" y=\"210.931727\" style=\"fill: #ffffff\"/>\n    </g>\n    <g clip-path=\"url(#p9fce212757)\">\n     <use xlink:href=\"#C0_0_2d9c3b356c\" x=\"14.927205\" y=\"199.050735\" style=\"fill: #ffffff\"/>\n    </g>\n    <g clip-path=\"url(#p9fce212757)\">\n     <use xlink:href=\"#C0_0_2d9c3b356c\" x=\"21.778114\" y=\"329.741644\" style=\"fill: #ffffff\"/>\n    </g>\n    <g clip-path=\"url(#p9fce212757)\">\n     <use xlink:href=\"#C0_0_2d9c3b356c\" x=\"21.778114\" y=\"317.860653\" style=\"fill: #ffffff\"/>\n    </g>\n    <g clip-path=\"url(#p9fce212757)\">\n     <use xlink:href=\"#C0_0_2d9c3b356c\" x=\"21.778114\" y=\"305.979661\" style=\"fill: #ffffff\"/>\n    </g>\n    <g clip-path=\"url(#p9fce212757)\">\n     <use xlink:href=\"#C0_0_2d9c3b356c\" x=\"21.778114\" y=\"294.098669\" style=\"fill: #959595\"/>\n    </g>\n    <g clip-path=\"url(#p9fce212757)\">\n     <use xlink:href=\"#C0_0_2d9c3b356c\" x=\"21.778114\" y=\"282.217677\" style=\"fill: #ffffff\"/>\n    </g>\n    <g clip-path=\"url(#p9fce212757)\">\n     <use xlink:href=\"#C0_0_2d9c3b356c\" x=\"21.778114\" y=\"270.336686\" style=\"fill: #ffffff\"/>\n    </g>\n    <g clip-path=\"url(#p9fce212757)\">\n     <use xlink:href=\"#C0_0_2d9c3b356c\" x=\"21.778114\" y=\"258.455694\" style=\"fill: #ffffff\"/>\n    </g>\n    <g clip-path=\"url(#p9fce212757)\">\n     <use xlink:href=\"#C0_0_2d9c3b356c\" x=\"21.778114\" y=\"246.574702\" style=\"fill: #ffffff\"/>\n    </g>\n    <g clip-path=\"url(#p9fce212757)\">\n     <use xlink:href=\"#C0_0_2d9c3b356c\" x=\"21.778114\" y=\"234.69371\" style=\"fill: #ffffff\"/>\n    </g>\n    <g clip-path=\"url(#p9fce212757)\">\n     <use xlink:href=\"#C0_0_2d9c3b356c\" x=\"21.778114\" y=\"222.812719\" style=\"fill: #ffffff\"/>\n    </g>\n    <g clip-path=\"url(#p9fce212757)\">\n     <use xlink:href=\"#C0_0_2d9c3b356c\" x=\"21.778114\" y=\"210.931727\" style=\"fill: #ffffff\"/>\n    </g>\n    <g clip-path=\"url(#p9fce212757)\">\n     <use xlink:href=\"#C0_0_2d9c3b356c\" x=\"21.778114\" y=\"199.050735\" style=\"fill: #ffffff\"/>\n    </g>\n    <g clip-path=\"url(#p9fce212757)\">\n     <use xlink:href=\"#C0_0_2d9c3b356c\" x=\"28.629023\" y=\"329.741644\" style=\"fill: #ffffff\"/>\n    </g>\n    <g clip-path=\"url(#p9fce212757)\">\n     <use xlink:href=\"#C0_0_2d9c3b356c\" x=\"28.629023\" y=\"317.860653\" style=\"fill: #ffffff\"/>\n    </g>\n    <g clip-path=\"url(#p9fce212757)\">\n     <use xlink:href=\"#C0_0_2d9c3b356c\" x=\"28.629023\" y=\"305.979661\" style=\"fill: #ffffff\"/>\n    </g>\n    <g clip-path=\"url(#p9fce212757)\">\n     <use xlink:href=\"#C0_0_2d9c3b356c\" x=\"28.629023\" y=\"294.098669\" style=\"fill: #ffffff\"/>\n    </g>\n    <g clip-path=\"url(#p9fce212757)\">\n     <use xlink:href=\"#C0_0_2d9c3b356c\" x=\"28.629023\" y=\"282.217677\" style=\"fill: #ffffff\"/>\n    </g>\n    <g clip-path=\"url(#p9fce212757)\">\n     <use xlink:href=\"#C0_0_2d9c3b356c\" x=\"28.629023\" y=\"270.336686\" style=\"fill: #ffffff\"/>\n    </g>\n    <g clip-path=\"url(#p9fce212757)\">\n     <use xlink:href=\"#C0_0_2d9c3b356c\" x=\"28.629023\" y=\"258.455694\" style=\"fill: #ffffff\"/>\n    </g>\n    <g clip-path=\"url(#p9fce212757)\">\n     <use xlink:href=\"#C0_0_2d9c3b356c\" x=\"28.629023\" y=\"246.574702\" style=\"fill: #ffffff\"/>\n    </g>\n    <g clip-path=\"url(#p9fce212757)\">\n     <use xlink:href=\"#C0_0_2d9c3b356c\" x=\"28.629023\" y=\"234.69371\" style=\"fill: #ffffff\"/>\n    </g>\n    <g clip-path=\"url(#p9fce212757)\">\n     <use xlink:href=\"#C0_0_2d9c3b356c\" x=\"28.629023\" y=\"222.812719\" style=\"fill: #ffffff\"/>\n    </g>\n    <g clip-path=\"url(#p9fce212757)\">\n     <use xlink:href=\"#C0_0_2d9c3b356c\" x=\"28.629023\" y=\"210.931727\" style=\"fill: #ffffff\"/>\n    </g>\n    <g clip-path=\"url(#p9fce212757)\">\n     <use xlink:href=\"#C0_0_2d9c3b356c\" x=\"28.629023\" y=\"199.050735\" style=\"fill: #ffffff\"/>\n    </g>\n    <g clip-path=\"url(#p9fce212757)\">\n     <use xlink:href=\"#C0_0_2d9c3b356c\" x=\"35.479932\" y=\"329.741644\" style=\"fill: #ffffff\"/>\n    </g>\n    <g clip-path=\"url(#p9fce212757)\">\n     <use xlink:href=\"#C0_0_2d9c3b356c\" x=\"35.479932\" y=\"317.860653\" style=\"fill: #ffffff\"/>\n    </g>\n    <g clip-path=\"url(#p9fce212757)\">\n     <use xlink:href=\"#C0_0_2d9c3b356c\" x=\"35.479932\" y=\"305.979661\" style=\"fill: #ffffff\"/>\n    </g>\n    <g clip-path=\"url(#p9fce212757)\">\n     <use xlink:href=\"#C0_0_2d9c3b356c\" x=\"35.479932\" y=\"294.098669\" style=\"fill: #ffffff\"/>\n    </g>\n    <g clip-path=\"url(#p9fce212757)\">\n     <use xlink:href=\"#C0_0_2d9c3b356c\" x=\"35.479932\" y=\"282.217677\" style=\"fill: #ffffff\"/>\n    </g>\n    <g clip-path=\"url(#p9fce212757)\">\n     <use xlink:href=\"#C0_0_2d9c3b356c\" x=\"35.479932\" y=\"270.336686\" style=\"fill: #fefefe\"/>\n    </g>\n    <g clip-path=\"url(#p9fce212757)\">\n     <use xlink:href=\"#C0_0_2d9c3b356c\" x=\"35.479932\" y=\"258.455694\" style=\"fill: #ffffff\"/>\n    </g>\n    <g clip-path=\"url(#p9fce212757)\">\n     <use xlink:href=\"#C0_0_2d9c3b356c\" x=\"35.479932\" y=\"246.574702\" style=\"fill: #ffffff\"/>\n    </g>\n    <g clip-path=\"url(#p9fce212757)\">\n     <use xlink:href=\"#C0_0_2d9c3b356c\" x=\"35.479932\" y=\"234.69371\" style=\"fill: #ffffff\"/>\n    </g>\n    <g clip-path=\"url(#p9fce212757)\">\n     <use xlink:href=\"#C0_0_2d9c3b356c\" x=\"35.479932\" y=\"222.812719\" style=\"fill: #ffffff\"/>\n    </g>\n    <g clip-path=\"url(#p9fce212757)\">\n     <use xlink:href=\"#C0_0_2d9c3b356c\" x=\"35.479932\" y=\"210.931727\" style=\"fill: #ffffff\"/>\n    </g>\n    <g clip-path=\"url(#p9fce212757)\">\n     <use xlink:href=\"#C0_0_2d9c3b356c\" x=\"35.479932\" y=\"199.050735\" style=\"fill: #ffffff\"/>\n    </g>\n    <g clip-path=\"url(#p9fce212757)\">\n     <use xlink:href=\"#C0_0_2d9c3b356c\" x=\"42.330842\" y=\"329.741644\" style=\"fill: #ffffff\"/>\n    </g>\n    <g clip-path=\"url(#p9fce212757)\">\n     <use xlink:href=\"#C0_0_2d9c3b356c\" x=\"42.330842\" y=\"317.860653\" style=\"fill: #ffffff\"/>\n    </g>\n    <g clip-path=\"url(#p9fce212757)\">\n     <use xlink:href=\"#C0_0_2d9c3b356c\" x=\"42.330842\" y=\"305.979661\" style=\"fill: #ffffff\"/>\n    </g>\n    <g clip-path=\"url(#p9fce212757)\">\n     <use xlink:href=\"#C0_0_2d9c3b356c\" x=\"42.330842\" y=\"294.098669\" style=\"fill: #ffffff\"/>\n    </g>\n    <g clip-path=\"url(#p9fce212757)\">\n     <use xlink:href=\"#C0_0_2d9c3b356c\" x=\"42.330842\" y=\"282.217677\" style=\"fill: #ffffff\"/>\n    </g>\n    <g clip-path=\"url(#p9fce212757)\">\n     <use xlink:href=\"#C0_0_2d9c3b356c\" x=\"42.330842\" y=\"270.336686\" style=\"fill: #fcfcfc\"/>\n    </g>\n    <g clip-path=\"url(#p9fce212757)\">\n     <use xlink:href=\"#C0_0_2d9c3b356c\" x=\"42.330842\" y=\"258.455694\" style=\"fill: #fefefe\"/>\n    </g>\n    <g clip-path=\"url(#p9fce212757)\">\n     <use xlink:href=\"#C0_0_2d9c3b356c\" x=\"42.330842\" y=\"246.574702\" style=\"fill: #ffffff\"/>\n    </g>\n    <g clip-path=\"url(#p9fce212757)\">\n     <use xlink:href=\"#C0_0_2d9c3b356c\" x=\"42.330842\" y=\"234.69371\" style=\"fill: #ffffff\"/>\n    </g>\n    <g clip-path=\"url(#p9fce212757)\">\n     <use xlink:href=\"#C0_0_2d9c3b356c\" x=\"42.330842\" y=\"222.812719\" style=\"fill: #ffffff\"/>\n    </g>\n    <g clip-path=\"url(#p9fce212757)\">\n     <use xlink:href=\"#C0_0_2d9c3b356c\" x=\"42.330842\" y=\"210.931727\" style=\"fill: #ffffff\"/>\n    </g>\n    <g clip-path=\"url(#p9fce212757)\">\n     <use xlink:href=\"#C0_0_2d9c3b356c\" x=\"42.330842\" y=\"199.050735\" style=\"fill: #ffffff\"/>\n    </g>\n    <g clip-path=\"url(#p9fce212757)\">\n     <use xlink:href=\"#C0_0_2d9c3b356c\" x=\"49.181751\" y=\"329.741644\" style=\"fill: #ffffff\"/>\n    </g>\n    <g clip-path=\"url(#p9fce212757)\">\n     <use xlink:href=\"#C0_0_2d9c3b356c\" x=\"49.181751\" y=\"317.860653\" style=\"fill: #ffffff\"/>\n    </g>\n    <g clip-path=\"url(#p9fce212757)\">\n     <use xlink:href=\"#C0_0_2d9c3b356c\" x=\"49.181751\" y=\"305.979661\" style=\"fill: #ffffff\"/>\n    </g>\n    <g clip-path=\"url(#p9fce212757)\">\n     <use xlink:href=\"#C0_0_2d9c3b356c\" x=\"49.181751\" y=\"294.098669\" style=\"fill: #ffffff\"/>\n    </g>\n    <g clip-path=\"url(#p9fce212757)\">\n     <use xlink:href=\"#C0_0_2d9c3b356c\" x=\"49.181751\" y=\"282.217677\" style=\"fill: #f8f8f8\"/>\n    </g>\n    <g clip-path=\"url(#p9fce212757)\">\n     <use xlink:href=\"#C0_0_2d9c3b356c\" x=\"49.181751\" y=\"270.336686\" style=\"fill: #f0f0f0\"/>\n    </g>\n    <g clip-path=\"url(#p9fce212757)\">\n     <use xlink:href=\"#C0_0_2d9c3b356c\" x=\"49.181751\" y=\"258.455694\" style=\"fill: #dddddd\"/>\n    </g>\n    <g clip-path=\"url(#p9fce212757)\">\n     <use xlink:href=\"#C0_0_2d9c3b356c\" x=\"49.181751\" y=\"246.574702\" style=\"fill: #bebebe\"/>\n    </g>\n    <g clip-path=\"url(#p9fce212757)\">\n     <use xlink:href=\"#C0_0_2d9c3b356c\" x=\"49.181751\" y=\"234.69371\" style=\"fill: #ffffff\"/>\n    </g>\n    <g clip-path=\"url(#p9fce212757)\">\n     <use xlink:href=\"#C0_0_2d9c3b356c\" x=\"49.181751\" y=\"222.812719\" style=\"fill: #ffffff\"/>\n    </g>\n    <g clip-path=\"url(#p9fce212757)\">\n     <use xlink:href=\"#C0_0_2d9c3b356c\" x=\"49.181751\" y=\"210.931727\" style=\"fill: #ffffff\"/>\n    </g>\n    <g clip-path=\"url(#p9fce212757)\">\n     <use xlink:href=\"#C0_0_2d9c3b356c\" x=\"49.181751\" y=\"199.050735\" style=\"fill: #ffffff\"/>\n    </g>\n    <g clip-path=\"url(#p9fce212757)\">\n     <use xlink:href=\"#C0_0_2d9c3b356c\" x=\"56.03266\" y=\"329.741644\" style=\"fill: #ffffff\"/>\n    </g>\n    <g clip-path=\"url(#p9fce212757)\">\n     <use xlink:href=\"#C0_0_2d9c3b356c\" x=\"56.03266\" y=\"317.860653\" style=\"fill: #ffffff\"/>\n    </g>\n    <g clip-path=\"url(#p9fce212757)\">\n     <use xlink:href=\"#C0_0_2d9c3b356c\" x=\"56.03266\" y=\"305.979661\" style=\"fill: #ffffff\"/>\n    </g>\n    <g clip-path=\"url(#p9fce212757)\">\n     <use xlink:href=\"#C0_0_2d9c3b356c\" x=\"56.03266\" y=\"294.098669\" style=\"fill: #f5f5f5\"/>\n    </g>\n    <g clip-path=\"url(#p9fce212757)\">\n     <use xlink:href=\"#C0_0_2d9c3b356c\" x=\"56.03266\" y=\"282.217677\" style=\"fill: #d8d8d8\"/>\n    </g>\n    <g clip-path=\"url(#p9fce212757)\">\n     <use xlink:href=\"#C0_0_2d9c3b356c\" x=\"56.03266\" y=\"270.336686\" style=\"fill: #c5c5c5\"/>\n    </g>\n    <g clip-path=\"url(#p9fce212757)\">\n     <use xlink:href=\"#C0_0_2d9c3b356c\" x=\"56.03266\" y=\"258.455694\" style=\"fill: #5f5f5f\"/>\n    </g>\n    <g clip-path=\"url(#p9fce212757)\">\n     <use xlink:href=\"#C0_0_2d9c3b356c\" x=\"56.03266\" y=\"246.574702\" style=\"fill: #929292\"/>\n    </g>\n    <g clip-path=\"url(#p9fce212757)\">\n     <use xlink:href=\"#C0_0_2d9c3b356c\" x=\"56.03266\" y=\"234.69371\" style=\"fill: #ffffff\"/>\n    </g>\n    <g clip-path=\"url(#p9fce212757)\">\n     <use xlink:href=\"#C0_0_2d9c3b356c\" x=\"56.03266\" y=\"222.812719\" style=\"fill: #ffffff\"/>\n    </g>\n    <g clip-path=\"url(#p9fce212757)\">\n     <use xlink:href=\"#C0_0_2d9c3b356c\" x=\"56.03266\" y=\"210.931727\" style=\"fill: #ffffff\"/>\n    </g>\n    <g clip-path=\"url(#p9fce212757)\">\n     <use xlink:href=\"#C0_0_2d9c3b356c\" x=\"56.03266\" y=\"199.050735\" style=\"fill: #ffffff\"/>\n    </g>\n    <g clip-path=\"url(#p9fce212757)\">\n     <use xlink:href=\"#C0_0_2d9c3b356c\" x=\"62.883569\" y=\"329.741644\" style=\"fill: #ffffff\"/>\n    </g>\n    <g clip-path=\"url(#p9fce212757)\">\n     <use xlink:href=\"#C0_0_2d9c3b356c\" x=\"62.883569\" y=\"317.860653\" style=\"fill: #ffffff\"/>\n    </g>\n    <g clip-path=\"url(#p9fce212757)\">\n     <use xlink:href=\"#C0_0_2d9c3b356c\" x=\"62.883569\" y=\"305.979661\" style=\"fill: #ffffff\"/>\n    </g>\n    <g clip-path=\"url(#p9fce212757)\">\n     <use xlink:href=\"#C0_0_2d9c3b356c\" x=\"62.883569\" y=\"294.098669\" style=\"fill: #e2e2e2\"/>\n    </g>\n    <g clip-path=\"url(#p9fce212757)\">\n     <use xlink:href=\"#C0_0_2d9c3b356c\" x=\"62.883569\" y=\"282.217677\" style=\"fill: #a8a8a8\"/>\n    </g>\n    <g clip-path=\"url(#p9fce212757)\">\n     <use xlink:href=\"#C0_0_2d9c3b356c\" x=\"62.883569\" y=\"270.336686\" style=\"fill: #e0e0e0\"/>\n    </g>\n    <g clip-path=\"url(#p9fce212757)\">\n     <use xlink:href=\"#C0_0_2d9c3b356c\" x=\"62.883569\" y=\"258.455694\" style=\"fill: #c7c7c7\"/>\n    </g>\n    <g clip-path=\"url(#p9fce212757)\">\n     <use xlink:href=\"#C0_0_2d9c3b356c\" x=\"62.883569\" y=\"246.574702\" style=\"fill: #ededed\"/>\n    </g>\n    <g clip-path=\"url(#p9fce212757)\">\n     <use xlink:href=\"#C0_0_2d9c3b356c\" x=\"62.883569\" y=\"234.69371\" style=\"fill: #ffffff\"/>\n    </g>\n    <g clip-path=\"url(#p9fce212757)\">\n     <use xlink:href=\"#C0_0_2d9c3b356c\" x=\"62.883569\" y=\"222.812719\" style=\"fill: #ffffff\"/>\n    </g>\n    <g clip-path=\"url(#p9fce212757)\">\n     <use xlink:href=\"#C0_0_2d9c3b356c\" x=\"62.883569\" y=\"210.931727\" style=\"fill: #ffffff\"/>\n    </g>\n    <g clip-path=\"url(#p9fce212757)\">\n     <use xlink:href=\"#C0_0_2d9c3b356c\" x=\"62.883569\" y=\"199.050735\" style=\"fill: #ffffff\"/>\n    </g>\n    <g clip-path=\"url(#p9fce212757)\">\n     <use xlink:href=\"#C0_0_2d9c3b356c\" x=\"69.734478\" y=\"329.741644\" style=\"fill: #ffffff\"/>\n    </g>\n    <g clip-path=\"url(#p9fce212757)\">\n     <use xlink:href=\"#C0_0_2d9c3b356c\" x=\"69.734478\" y=\"317.860653\" style=\"fill: #ffffff\"/>\n    </g>\n    <g clip-path=\"url(#p9fce212757)\">\n     <use xlink:href=\"#C0_0_2d9c3b356c\" x=\"69.734478\" y=\"305.979661\" style=\"fill: #fcfcfc\"/>\n    </g>\n    <g clip-path=\"url(#p9fce212757)\">\n     <use xlink:href=\"#C0_0_2d9c3b356c\" x=\"69.734478\" y=\"294.098669\" style=\"fill: #f3f3f3\"/>\n    </g>\n    <g clip-path=\"url(#p9fce212757)\">\n     <use xlink:href=\"#C0_0_2d9c3b356c\" x=\"69.734478\" y=\"282.217677\" style=\"fill: #9f9f9f\"/>\n    </g>\n    <g clip-path=\"url(#p9fce212757)\">\n     <use xlink:href=\"#C0_0_2d9c3b356c\" x=\"69.734478\" y=\"270.336686\" style=\"fill: #adadad\"/>\n    </g>\n    <g clip-path=\"url(#p9fce212757)\">\n     <use xlink:href=\"#C0_0_2d9c3b356c\" x=\"69.734478\" y=\"258.455694\" style=\"fill: #a8a8a8\"/>\n    </g>\n    <g clip-path=\"url(#p9fce212757)\">\n     <use xlink:href=\"#C0_0_2d9c3b356c\" x=\"69.734478\" y=\"246.574702\" style=\"fill: #ffffff\"/>\n    </g>\n    <g clip-path=\"url(#p9fce212757)\">\n     <use xlink:href=\"#C0_0_2d9c3b356c\" x=\"69.734478\" y=\"234.69371\" style=\"fill: #ffffff\"/>\n    </g>\n    <g clip-path=\"url(#p9fce212757)\">\n     <use xlink:href=\"#C0_0_2d9c3b356c\" x=\"69.734478\" y=\"222.812719\" style=\"fill: #ffffff\"/>\n    </g>\n    <g clip-path=\"url(#p9fce212757)\">\n     <use xlink:href=\"#C0_0_2d9c3b356c\" x=\"69.734478\" y=\"210.931727\" style=\"fill: #ffffff\"/>\n    </g>\n    <g clip-path=\"url(#p9fce212757)\">\n     <use xlink:href=\"#C0_0_2d9c3b356c\" x=\"69.734478\" y=\"199.050735\" style=\"fill: #ffffff\"/>\n    </g>\n    <g clip-path=\"url(#p9fce212757)\">\n     <use xlink:href=\"#C0_0_2d9c3b356c\" x=\"76.585387\" y=\"329.741644\" style=\"fill: #ffffff\"/>\n    </g>\n    <g clip-path=\"url(#p9fce212757)\">\n     <use xlink:href=\"#C0_0_2d9c3b356c\" x=\"76.585387\" y=\"317.860653\" style=\"fill: #ffffff\"/>\n    </g>\n    <g clip-path=\"url(#p9fce212757)\">\n     <use xlink:href=\"#C0_0_2d9c3b356c\" x=\"76.585387\" y=\"305.979661\" style=\"fill: #fcfcfc\"/>\n    </g>\n    <g clip-path=\"url(#p9fce212757)\">\n     <use xlink:href=\"#C0_0_2d9c3b356c\" x=\"76.585387\" y=\"294.098669\" style=\"fill: #868686\"/>\n    </g>\n    <g clip-path=\"url(#p9fce212757)\">\n     <use xlink:href=\"#C0_0_2d9c3b356c\" x=\"76.585387\" y=\"282.217677\" style=\"fill: #d1d1d1\"/>\n    </g>\n    <g clip-path=\"url(#p9fce212757)\">\n     <use xlink:href=\"#C0_0_2d9c3b356c\" x=\"76.585387\" y=\"270.336686\" style=\"fill: #bebebe\"/>\n    </g>\n    <g clip-path=\"url(#p9fce212757)\">\n     <use xlink:href=\"#C0_0_2d9c3b356c\" x=\"76.585387\" y=\"258.455694\" style=\"fill: #959595\"/>\n    </g>\n    <g clip-path=\"url(#p9fce212757)\">\n     <use xlink:href=\"#C0_0_2d9c3b356c\" x=\"76.585387\" y=\"246.574702\" style=\"fill: #ffffff\"/>\n    </g>\n    <g clip-path=\"url(#p9fce212757)\">\n     <use xlink:href=\"#C0_0_2d9c3b356c\" x=\"76.585387\" y=\"234.69371\" style=\"fill: #ffffff\"/>\n    </g>\n    <g clip-path=\"url(#p9fce212757)\">\n     <use xlink:href=\"#C0_0_2d9c3b356c\" x=\"76.585387\" y=\"222.812719\" style=\"fill: #ffffff\"/>\n    </g>\n    <g clip-path=\"url(#p9fce212757)\">\n     <use xlink:href=\"#C0_0_2d9c3b356c\" x=\"76.585387\" y=\"210.931727\" style=\"fill: #ffffff\"/>\n    </g>\n    <g clip-path=\"url(#p9fce212757)\">\n     <use xlink:href=\"#C0_0_2d9c3b356c\" x=\"76.585387\" y=\"199.050735\" style=\"fill: #ffffff\"/>\n    </g>\n    <g clip-path=\"url(#p9fce212757)\">\n     <use xlink:href=\"#C0_0_2d9c3b356c\" x=\"83.436296\" y=\"329.741644\" style=\"fill: #ffffff\"/>\n    </g>\n    <g clip-path=\"url(#p9fce212757)\">\n     <use xlink:href=\"#C0_0_2d9c3b356c\" x=\"83.436296\" y=\"317.860653\" style=\"fill: #ffffff\"/>\n    </g>\n    <g clip-path=\"url(#p9fce212757)\">\n     <use xlink:href=\"#C0_0_2d9c3b356c\" x=\"83.436296\" y=\"305.979661\" style=\"fill: #ffffff\"/>\n    </g>\n    <g clip-path=\"url(#p9fce212757)\">\n     <use xlink:href=\"#C0_0_2d9c3b356c\" x=\"83.436296\" y=\"294.098669\" style=\"fill: #f0f0f0\"/>\n    </g>\n    <g clip-path=\"url(#p9fce212757)\">\n     <use xlink:href=\"#C0_0_2d9c3b356c\" x=\"83.436296\" y=\"282.217677\" style=\"fill: #c7c7c7\"/>\n    </g>\n    <g clip-path=\"url(#p9fce212757)\">\n     <use xlink:href=\"#C0_0_2d9c3b356c\" x=\"83.436296\" y=\"270.336686\" style=\"fill: #dadada\"/>\n    </g>\n    <g clip-path=\"url(#p9fce212757)\">\n     <use xlink:href=\"#C0_0_2d9c3b356c\" x=\"83.436296\" y=\"258.455694\" style=\"fill: #c7c7c7\"/>\n    </g>\n    <g clip-path=\"url(#p9fce212757)\">\n     <use xlink:href=\"#C0_0_2d9c3b356c\" x=\"83.436296\" y=\"246.574702\" style=\"fill: #ffffff\"/>\n    </g>\n    <g clip-path=\"url(#p9fce212757)\">\n     <use xlink:href=\"#C0_0_2d9c3b356c\" x=\"83.436296\" y=\"234.69371\" style=\"fill: #ffffff\"/>\n    </g>\n    <g clip-path=\"url(#p9fce212757)\">\n     <use xlink:href=\"#C0_0_2d9c3b356c\" x=\"83.436296\" y=\"222.812719\" style=\"fill: #ffffff\"/>\n    </g>\n    <g clip-path=\"url(#p9fce212757)\">\n     <use xlink:href=\"#C0_0_2d9c3b356c\" x=\"83.436296\" y=\"210.931727\" style=\"fill: #ffffff\"/>\n    </g>\n    <g clip-path=\"url(#p9fce212757)\">\n     <use xlink:href=\"#C0_0_2d9c3b356c\" x=\"83.436296\" y=\"199.050735\" style=\"fill: #ffffff\"/>\n    </g>\n    <g clip-path=\"url(#p9fce212757)\">\n     <use xlink:href=\"#C0_0_2d9c3b356c\" x=\"-50.156431\" y=\"323.801148\" style=\"fill: #ffffff\"/>\n    </g>\n    <g clip-path=\"url(#p9fce212757)\">\n     <use xlink:href=\"#C0_0_2d9c3b356c\" x=\"-50.156431\" y=\"311.920157\" style=\"fill: #ffffff\"/>\n    </g>\n    <g clip-path=\"url(#p9fce212757)\">\n     <use xlink:href=\"#C0_0_2d9c3b356c\" x=\"-50.156431\" y=\"300.039165\" style=\"fill: #ffffff\"/>\n    </g>\n    <g clip-path=\"url(#p9fce212757)\">\n     <use xlink:href=\"#C0_0_2d9c3b356c\" x=\"-50.156431\" y=\"288.158173\" style=\"fill: #f7f7f7\"/>\n    </g>\n    <g clip-path=\"url(#p9fce212757)\">\n     <use xlink:href=\"#C0_0_2d9c3b356c\" x=\"-50.156431\" y=\"276.277182\" style=\"fill: #959595\"/>\n    </g>\n    <g clip-path=\"url(#p9fce212757)\">\n     <use xlink:href=\"#C0_0_2d9c3b356c\" x=\"-50.156431\" y=\"264.39619\" style=\"fill: #030303\"/>\n    </g>\n    <g clip-path=\"url(#p9fce212757)\">\n     <use xlink:href=\"#C0_0_2d9c3b356c\" x=\"-50.156431\" y=\"252.515198\" style=\"fill: #929292\"/>\n    </g>\n    <g clip-path=\"url(#p9fce212757)\">\n     <use xlink:href=\"#C0_0_2d9c3b356c\" x=\"-50.156431\" y=\"240.634206\" style=\"fill: #e0e0e0\"/>\n    </g>\n    <g clip-path=\"url(#p9fce212757)\">\n     <use xlink:href=\"#C0_0_2d9c3b356c\" x=\"-50.156431\" y=\"228.753215\" style=\"fill: #ffffff\"/>\n    </g>\n    <g clip-path=\"url(#p9fce212757)\">\n     <use xlink:href=\"#C0_0_2d9c3b356c\" x=\"-50.156431\" y=\"216.872223\" style=\"fill: #ffffff\"/>\n    </g>\n    <g clip-path=\"url(#p9fce212757)\">\n     <use xlink:href=\"#C0_0_2d9c3b356c\" x=\"-50.156431\" y=\"204.991231\" style=\"fill: #ffffff\"/>\n    </g>\n    <g clip-path=\"url(#p9fce212757)\">\n     <use xlink:href=\"#C0_0_2d9c3b356c\" x=\"-43.305522\" y=\"323.801148\" style=\"fill: #ffffff\"/>\n    </g>\n    <g clip-path=\"url(#p9fce212757)\">\n     <use xlink:href=\"#C0_0_2d9c3b356c\" x=\"-43.305522\" y=\"311.920157\" style=\"fill: #ffffff\"/>\n    </g>\n    <g clip-path=\"url(#p9fce212757)\">\n     <use xlink:href=\"#C0_0_2d9c3b356c\" x=\"-43.305522\" y=\"300.039165\" style=\"fill: #dadada\"/>\n    </g>\n    <g clip-path=\"url(#p9fce212757)\">\n     <use xlink:href=\"#C0_0_2d9c3b356c\" x=\"-43.305522\" y=\"288.158173\" style=\"fill: #cecece\"/>\n    </g>\n    <g clip-path=\"url(#p9fce212757)\">\n     <use xlink:href=\"#C0_0_2d9c3b356c\" x=\"-43.305522\" y=\"276.277182\" style=\"fill: #505050\"/>\n    </g>\n    <g clip-path=\"url(#p9fce212757)\">\n     <use xlink:href=\"#C0_0_2d9c3b356c\" x=\"-43.305522\" y=\"264.39619\" style=\"fill: #252525\"/>\n    </g>\n    <g clip-path=\"url(#p9fce212757)\">\n     <use xlink:href=\"#C0_0_2d9c3b356c\" x=\"-43.305522\" y=\"252.515198\"/>\n    </g>\n    <g clip-path=\"url(#p9fce212757)\">\n     <use xlink:href=\"#C0_0_2d9c3b356c\" x=\"-43.305522\" y=\"240.634206\" style=\"fill: #4a4a4a\"/>\n    </g>\n    <g clip-path=\"url(#p9fce212757)\">\n     <use xlink:href=\"#C0_0_2d9c3b356c\" x=\"-43.305522\" y=\"228.753215\" style=\"fill: #ffffff\"/>\n    </g>\n    <g clip-path=\"url(#p9fce212757)\">\n     <use xlink:href=\"#C0_0_2d9c3b356c\" x=\"-43.305522\" y=\"216.872223\" style=\"fill: #ffffff\"/>\n    </g>\n    <g clip-path=\"url(#p9fce212757)\">\n     <use xlink:href=\"#C0_0_2d9c3b356c\" x=\"-43.305522\" y=\"204.991231\" style=\"fill: #ffffff\"/>\n    </g>\n    <g clip-path=\"url(#p9fce212757)\">\n     <use xlink:href=\"#C0_0_2d9c3b356c\" x=\"-36.454613\" y=\"323.801148\" style=\"fill: #ffffff\"/>\n    </g>\n    <g clip-path=\"url(#p9fce212757)\">\n     <use xlink:href=\"#C0_0_2d9c3b356c\" x=\"-36.454613\" y=\"311.920157\" style=\"fill: #fcfcfc\"/>\n    </g>\n    <g clip-path=\"url(#p9fce212757)\">\n     <use xlink:href=\"#C0_0_2d9c3b356c\" x=\"-36.454613\" y=\"300.039165\" style=\"fill: #e5e5e5\"/>\n    </g>\n    <g clip-path=\"url(#p9fce212757)\">\n     <use xlink:href=\"#C0_0_2d9c3b356c\" x=\"-36.454613\" y=\"288.158173\" style=\"fill: #c5c5c5\"/>\n    </g>\n    <g clip-path=\"url(#p9fce212757)\">\n     <use xlink:href=\"#C0_0_2d9c3b356c\" x=\"-36.454613\" y=\"276.277182\" style=\"fill: #8e8e8e\"/>\n    </g>\n    <g clip-path=\"url(#p9fce212757)\">\n     <use xlink:href=\"#C0_0_2d9c3b356c\" x=\"-36.454613\" y=\"264.39619\" style=\"fill: #535353\"/>\n    </g>\n    <g clip-path=\"url(#p9fce212757)\">\n     <use xlink:href=\"#C0_0_2d9c3b356c\" x=\"-36.454613\" y=\"252.515198\" style=\"fill: #222222\"/>\n    </g>\n    <g clip-path=\"url(#p9fce212757)\">\n     <use xlink:href=\"#C0_0_2d9c3b356c\" x=\"-36.454613\" y=\"240.634206\" style=\"fill: #7e7e7e\"/>\n    </g>\n    <g clip-path=\"url(#p9fce212757)\">\n     <use xlink:href=\"#C0_0_2d9c3b356c\" x=\"-36.454613\" y=\"228.753215\" style=\"fill: #ffffff\"/>\n    </g>\n    <g clip-path=\"url(#p9fce212757)\">\n     <use xlink:href=\"#C0_0_2d9c3b356c\" x=\"-36.454613\" y=\"216.872223\" style=\"fill: #ffffff\"/>\n    </g>\n    <g clip-path=\"url(#p9fce212757)\">\n     <use xlink:href=\"#C0_0_2d9c3b356c\" x=\"-36.454613\" y=\"204.991231\" style=\"fill: #ffffff\"/>\n    </g>\n    <g clip-path=\"url(#p9fce212757)\">\n     <use xlink:href=\"#C0_0_2d9c3b356c\" x=\"-29.603704\" y=\"323.801148\" style=\"fill: #ffffff\"/>\n    </g>\n    <g clip-path=\"url(#p9fce212757)\">\n     <use xlink:href=\"#C0_0_2d9c3b356c\" x=\"-29.603704\" y=\"311.920157\" style=\"fill: #f5f5f5\"/>\n    </g>\n    <g clip-path=\"url(#p9fce212757)\">\n     <use xlink:href=\"#C0_0_2d9c3b356c\" x=\"-29.603704\" y=\"300.039165\" style=\"fill: #f1f1f1\"/>\n    </g>\n    <g clip-path=\"url(#p9fce212757)\">\n     <use xlink:href=\"#C0_0_2d9c3b356c\" x=\"-29.603704\" y=\"288.158173\" style=\"fill: #f0f0f0\"/>\n    </g>\n    <g clip-path=\"url(#p9fce212757)\">\n     <use xlink:href=\"#C0_0_2d9c3b356c\" x=\"-29.603704\" y=\"276.277182\" style=\"fill: #c5c5c5\"/>\n    </g>\n    <g clip-path=\"url(#p9fce212757)\">\n     <use xlink:href=\"#C0_0_2d9c3b356c\" x=\"-29.603704\" y=\"264.39619\" style=\"fill: #b0b0b0\"/>\n    </g>\n    <g clip-path=\"url(#p9fce212757)\">\n     <use xlink:href=\"#C0_0_2d9c3b356c\" x=\"-29.603704\" y=\"252.515198\" style=\"fill: #676767\"/>\n    </g>\n    <g clip-path=\"url(#p9fce212757)\">\n     <use xlink:href=\"#C0_0_2d9c3b356c\" x=\"-29.603704\" y=\"240.634206\" style=\"fill: #8e8e8e\"/>\n    </g>\n    <g clip-path=\"url(#p9fce212757)\">\n     <use xlink:href=\"#C0_0_2d9c3b356c\" x=\"-29.603704\" y=\"228.753215\" style=\"fill: #f7f7f7\"/>\n    </g>\n    <g clip-path=\"url(#p9fce212757)\">\n     <use xlink:href=\"#C0_0_2d9c3b356c\" x=\"-29.603704\" y=\"216.872223\" style=\"fill: #f0f0f0\"/>\n    </g>\n    <g clip-path=\"url(#p9fce212757)\">\n     <use xlink:href=\"#C0_0_2d9c3b356c\" x=\"-29.603704\" y=\"204.991231\" style=\"fill: #ffffff\"/>\n    </g>\n    <g clip-path=\"url(#p9fce212757)\">\n     <use xlink:href=\"#C0_0_2d9c3b356c\" x=\"-22.752795\" y=\"323.801148\" style=\"fill: #fefefe\"/>\n    </g>\n    <g clip-path=\"url(#p9fce212757)\">\n     <use xlink:href=\"#C0_0_2d9c3b356c\" x=\"-22.752795\" y=\"311.920157\" style=\"fill: #f0f0f0\"/>\n    </g>\n    <g clip-path=\"url(#p9fce212757)\">\n     <use xlink:href=\"#C0_0_2d9c3b356c\" x=\"-22.752795\" y=\"300.039165\" style=\"fill: #f3f3f3\"/>\n    </g>\n    <g clip-path=\"url(#p9fce212757)\">\n     <use xlink:href=\"#C0_0_2d9c3b356c\" x=\"-22.752795\" y=\"288.158173\" style=\"fill: #eaeaea\"/>\n    </g>\n    <g clip-path=\"url(#p9fce212757)\">\n     <use xlink:href=\"#C0_0_2d9c3b356c\" x=\"-22.752795\" y=\"276.277182\" style=\"fill: #dadada\"/>\n    </g>\n    <g clip-path=\"url(#p9fce212757)\">\n     <use xlink:href=\"#C0_0_2d9c3b356c\" x=\"-22.752795\" y=\"264.39619\" style=\"fill: #9a9a9a\"/>\n    </g>\n    <g clip-path=\"url(#p9fce212757)\">\n     <use xlink:href=\"#C0_0_2d9c3b356c\" x=\"-22.752795\" y=\"252.515198\" style=\"fill: #959595\"/>\n    </g>\n    <g clip-path=\"url(#p9fce212757)\">\n     <use xlink:href=\"#C0_0_2d9c3b356c\" x=\"-22.752795\" y=\"240.634206\" style=\"fill: #c5c5c5\"/>\n    </g>\n    <g clip-path=\"url(#p9fce212757)\">\n     <use xlink:href=\"#C0_0_2d9c3b356c\" x=\"-22.752795\" y=\"228.753215\" style=\"fill: #fcfcfc\"/>\n    </g>\n    <g clip-path=\"url(#p9fce212757)\">\n     <use xlink:href=\"#C0_0_2d9c3b356c\" x=\"-22.752795\" y=\"216.872223\" style=\"fill: #f1f1f1\"/>\n    </g>\n    <g clip-path=\"url(#p9fce212757)\">\n     <use xlink:href=\"#C0_0_2d9c3b356c\" x=\"-22.752795\" y=\"204.991231\" style=\"fill: #e0e0e0\"/>\n    </g>\n    <g clip-path=\"url(#p9fce212757)\">\n     <use xlink:href=\"#C0_0_2d9c3b356c\" x=\"-15.901886\" y=\"323.801148\" style=\"fill: #ffffff\"/>\n    </g>\n    <g clip-path=\"url(#p9fce212757)\">\n     <use xlink:href=\"#C0_0_2d9c3b356c\" x=\"-15.901886\" y=\"311.920157\" style=\"fill: #ffffff\"/>\n    </g>\n    <g clip-path=\"url(#p9fce212757)\">\n     <use xlink:href=\"#C0_0_2d9c3b356c\" x=\"-15.901886\" y=\"300.039165\" style=\"fill: #bebebe\"/>\n    </g>\n    <g clip-path=\"url(#p9fce212757)\">\n     <use xlink:href=\"#C0_0_2d9c3b356c\" x=\"-15.901886\" y=\"288.158173\" style=\"fill: #dddddd\"/>\n    </g>\n    <g clip-path=\"url(#p9fce212757)\">\n     <use xlink:href=\"#C0_0_2d9c3b356c\" x=\"-15.901886\" y=\"276.277182\" style=\"fill: #dadada\"/>\n    </g>\n    <g clip-path=\"url(#p9fce212757)\">\n     <use xlink:href=\"#C0_0_2d9c3b356c\" x=\"-15.901886\" y=\"264.39619\" style=\"fill: #9a9a9a\"/>\n    </g>\n    <g clip-path=\"url(#p9fce212757)\">\n     <use xlink:href=\"#C0_0_2d9c3b356c\" x=\"-15.901886\" y=\"252.515198\" style=\"fill: #959595\"/>\n    </g>\n    <g clip-path=\"url(#p9fce212757)\">\n     <use xlink:href=\"#C0_0_2d9c3b356c\" x=\"-15.901886\" y=\"240.634206\" style=\"fill: #e0e0e0\"/>\n    </g>\n    <g clip-path=\"url(#p9fce212757)\">\n     <use xlink:href=\"#C0_0_2d9c3b356c\" x=\"-15.901886\" y=\"228.753215\" style=\"fill: #eaeaea\"/>\n    </g>\n    <g clip-path=\"url(#p9fce212757)\">\n     <use xlink:href=\"#C0_0_2d9c3b356c\" x=\"-15.901886\" y=\"216.872223\" style=\"fill: #6a6a6a\"/>\n    </g>\n    <g clip-path=\"url(#p9fce212757)\">\n     <use xlink:href=\"#C0_0_2d9c3b356c\" x=\"-15.901886\" y=\"204.991231\" style=\"fill: #c5c5c5\"/>\n    </g>\n    <g clip-path=\"url(#p9fce212757)\">\n     <use xlink:href=\"#C0_0_2d9c3b356c\" x=\"-9.050977\" y=\"323.801148\" style=\"fill: #ffffff\"/>\n    </g>\n    <g clip-path=\"url(#p9fce212757)\">\n     <use xlink:href=\"#C0_0_2d9c3b356c\" x=\"-9.050977\" y=\"311.920157\" style=\"fill: #ffffff\"/>\n    </g>\n    <g clip-path=\"url(#p9fce212757)\">\n     <use xlink:href=\"#C0_0_2d9c3b356c\" x=\"-9.050977\" y=\"300.039165\" style=\"fill: #fcfcfc\"/>\n    </g>\n    <g clip-path=\"url(#p9fce212757)\">\n     <use xlink:href=\"#C0_0_2d9c3b356c\" x=\"-9.050977\" y=\"288.158173\" style=\"fill: #f7f7f7\"/>\n    </g>\n    <g clip-path=\"url(#p9fce212757)\">\n     <use xlink:href=\"#C0_0_2d9c3b356c\" x=\"-9.050977\" y=\"276.277182\" style=\"fill: #dddddd\"/>\n    </g>\n    <g clip-path=\"url(#p9fce212757)\">\n     <use xlink:href=\"#C0_0_2d9c3b356c\" x=\"-9.050977\" y=\"264.39619\" style=\"fill: #c5c5c5\"/>\n    </g>\n    <g clip-path=\"url(#p9fce212757)\">\n     <use xlink:href=\"#C0_0_2d9c3b356c\" x=\"-9.050977\" y=\"252.515198\" style=\"fill: #929292\"/>\n    </g>\n    <g clip-path=\"url(#p9fce212757)\">\n     <use xlink:href=\"#C0_0_2d9c3b356c\" x=\"-9.050977\" y=\"240.634206\" style=\"fill: #f1f1f1\"/>\n    </g>\n    <g clip-path=\"url(#p9fce212757)\">\n     <use xlink:href=\"#C0_0_2d9c3b356c\" x=\"-9.050977\" y=\"228.753215\" style=\"fill: #c7c7c7\"/>\n    </g>\n    <g clip-path=\"url(#p9fce212757)\">\n     <use xlink:href=\"#C0_0_2d9c3b356c\" x=\"-9.050977\" y=\"216.872223\" style=\"fill: #5f5f5f\"/>\n    </g>\n    <g clip-path=\"url(#p9fce212757)\">\n     <use xlink:href=\"#C0_0_2d9c3b356c\" x=\"-9.050977\" y=\"204.991231\" style=\"fill: #e0e0e0\"/>\n    </g>\n    <g clip-path=\"url(#p9fce212757)\">\n     <use xlink:href=\"#C0_0_2d9c3b356c\" x=\"-2.200068\" y=\"323.801148\" style=\"fill: #f7f7f7\"/>\n    </g>\n    <g clip-path=\"url(#p9fce212757)\">\n     <use xlink:href=\"#C0_0_2d9c3b356c\" x=\"-2.200068\" y=\"311.920157\" style=\"fill: #fcfcfc\"/>\n    </g>\n    <g clip-path=\"url(#p9fce212757)\">\n     <use xlink:href=\"#C0_0_2d9c3b356c\" x=\"-2.200068\" y=\"300.039165\" style=\"fill: #fafafa\"/>\n    </g>\n    <g clip-path=\"url(#p9fce212757)\">\n     <use xlink:href=\"#C0_0_2d9c3b356c\" x=\"-2.200068\" y=\"288.158173\" style=\"fill: #e0e0e0\"/>\n    </g>\n    <g clip-path=\"url(#p9fce212757)\">\n     <use xlink:href=\"#C0_0_2d9c3b356c\" x=\"-2.200068\" y=\"276.277182\" style=\"fill: #dddddd\"/>\n    </g>\n    <g clip-path=\"url(#p9fce212757)\">\n     <use xlink:href=\"#C0_0_2d9c3b356c\" x=\"-2.200068\" y=\"264.39619\" style=\"fill: #d4d4d4\"/>\n    </g>\n    <g clip-path=\"url(#p9fce212757)\">\n     <use xlink:href=\"#C0_0_2d9c3b356c\" x=\"-2.200068\" y=\"252.515198\" style=\"fill: #959595\"/>\n    </g>\n    <g clip-path=\"url(#p9fce212757)\">\n     <use xlink:href=\"#C0_0_2d9c3b356c\" x=\"-2.200068\" y=\"240.634206\" style=\"fill: #dddddd\"/>\n    </g>\n    <g clip-path=\"url(#p9fce212757)\">\n     <use xlink:href=\"#C0_0_2d9c3b356c\" x=\"-2.200068\" y=\"228.753215\" style=\"fill: #d1d1d1\"/>\n    </g>\n    <g clip-path=\"url(#p9fce212757)\">\n     <use xlink:href=\"#C0_0_2d9c3b356c\" x=\"-2.200068\" y=\"216.872223\" style=\"fill: #929292\"/>\n    </g>\n    <g clip-path=\"url(#p9fce212757)\">\n     <use xlink:href=\"#C0_0_2d9c3b356c\" x=\"-2.200068\" y=\"204.991231\" style=\"fill: #fcfcfc\"/>\n    </g>\n    <g clip-path=\"url(#p9fce212757)\">\n     <use xlink:href=\"#C0_0_2d9c3b356c\" x=\"4.650842\" y=\"323.801148\" style=\"fill: #8e8e8e\"/>\n    </g>\n    <g clip-path=\"url(#p9fce212757)\">\n     <use xlink:href=\"#C0_0_2d9c3b356c\" x=\"4.650842\" y=\"311.920157\" style=\"fill: #e2e2e2\"/>\n    </g>\n    <g clip-path=\"url(#p9fce212757)\">\n     <use xlink:href=\"#C0_0_2d9c3b356c\" x=\"4.650842\" y=\"300.039165\" style=\"fill: #fcfcfc\"/>\n    </g>\n    <g clip-path=\"url(#p9fce212757)\">\n     <use xlink:href=\"#C0_0_2d9c3b356c\" x=\"4.650842\" y=\"288.158173\" style=\"fill: #e8e8e8\"/>\n    </g>\n    <g clip-path=\"url(#p9fce212757)\">\n     <use xlink:href=\"#C0_0_2d9c3b356c\" x=\"4.650842\" y=\"276.277182\" style=\"fill: #dadada\"/>\n    </g>\n    <g clip-path=\"url(#p9fce212757)\">\n     <use xlink:href=\"#C0_0_2d9c3b356c\" x=\"4.650842\" y=\"264.39619\" style=\"fill: #eaeaea\"/>\n    </g>\n    <g clip-path=\"url(#p9fce212757)\">\n     <use xlink:href=\"#C0_0_2d9c3b356c\" x=\"4.650842\" y=\"252.515198\" style=\"fill: #a8a8a8\"/>\n    </g>\n    <g clip-path=\"url(#p9fce212757)\">\n     <use xlink:href=\"#C0_0_2d9c3b356c\" x=\"4.650842\" y=\"240.634206\" style=\"fill: #f5f5f5\"/>\n    </g>\n    <g clip-path=\"url(#p9fce212757)\">\n     <use xlink:href=\"#C0_0_2d9c3b356c\" x=\"4.650842\" y=\"228.753215\" style=\"fill: #ffffff\"/>\n    </g>\n    <g clip-path=\"url(#p9fce212757)\">\n     <use xlink:href=\"#C0_0_2d9c3b356c\" x=\"4.650842\" y=\"216.872223\" style=\"fill: #fcfcfc\"/>\n    </g>\n    <g clip-path=\"url(#p9fce212757)\">\n     <use xlink:href=\"#C0_0_2d9c3b356c\" x=\"4.650842\" y=\"204.991231\" style=\"fill: #ffffff\"/>\n    </g>\n    <g clip-path=\"url(#p9fce212757)\">\n     <use xlink:href=\"#C0_0_2d9c3b356c\" x=\"11.501751\" y=\"323.801148\" style=\"fill: #e5e5e5\"/>\n    </g>\n    <g clip-path=\"url(#p9fce212757)\">\n     <use xlink:href=\"#C0_0_2d9c3b356c\" x=\"11.501751\" y=\"311.920157\" style=\"fill: #fafafa\"/>\n    </g>\n    <g clip-path=\"url(#p9fce212757)\">\n     <use xlink:href=\"#C0_0_2d9c3b356c\" x=\"11.501751\" y=\"300.039165\" style=\"fill: #fefefe\"/>\n    </g>\n    <g clip-path=\"url(#p9fce212757)\">\n     <use xlink:href=\"#C0_0_2d9c3b356c\" x=\"11.501751\" y=\"288.158173\" style=\"fill: #e2e2e2\"/>\n    </g>\n    <g clip-path=\"url(#p9fce212757)\">\n     <use xlink:href=\"#C0_0_2d9c3b356c\" x=\"11.501751\" y=\"276.277182\" style=\"fill: #e8e8e8\"/>\n    </g>\n    <g clip-path=\"url(#p9fce212757)\">\n     <use xlink:href=\"#C0_0_2d9c3b356c\" x=\"11.501751\" y=\"264.39619\" style=\"fill: #f7f7f7\"/>\n    </g>\n    <g clip-path=\"url(#p9fce212757)\">\n     <use xlink:href=\"#C0_0_2d9c3b356c\" x=\"11.501751\" y=\"252.515198\" style=\"fill: #f8f8f8\"/>\n    </g>\n    <g clip-path=\"url(#p9fce212757)\">\n     <use xlink:href=\"#C0_0_2d9c3b356c\" x=\"11.501751\" y=\"240.634206\" style=\"fill: #ffffff\"/>\n    </g>\n    <g clip-path=\"url(#p9fce212757)\">\n     <use xlink:href=\"#C0_0_2d9c3b356c\" x=\"11.501751\" y=\"228.753215\" style=\"fill: #ffffff\"/>\n    </g>\n    <g clip-path=\"url(#p9fce212757)\">\n     <use xlink:href=\"#C0_0_2d9c3b356c\" x=\"11.501751\" y=\"216.872223\" style=\"fill: #ffffff\"/>\n    </g>\n    <g clip-path=\"url(#p9fce212757)\">\n     <use xlink:href=\"#C0_0_2d9c3b356c\" x=\"11.501751\" y=\"204.991231\" style=\"fill: #ffffff\"/>\n    </g>\n    <g clip-path=\"url(#p9fce212757)\">\n     <use xlink:href=\"#C0_0_2d9c3b356c\" x=\"18.35266\" y=\"323.801148\" style=\"fill: #ffffff\"/>\n    </g>\n    <g clip-path=\"url(#p9fce212757)\">\n     <use xlink:href=\"#C0_0_2d9c3b356c\" x=\"18.35266\" y=\"311.920157\" style=\"fill: #ffffff\"/>\n    </g>\n    <g clip-path=\"url(#p9fce212757)\">\n     <use xlink:href=\"#C0_0_2d9c3b356c\" x=\"18.35266\" y=\"300.039165\" style=\"fill: #d1d1d1\"/>\n    </g>\n    <g clip-path=\"url(#p9fce212757)\">\n     <use xlink:href=\"#C0_0_2d9c3b356c\" x=\"18.35266\" y=\"288.158173\" style=\"fill: #fafafa\"/>\n    </g>\n    <g clip-path=\"url(#p9fce212757)\">\n     <use xlink:href=\"#C0_0_2d9c3b356c\" x=\"18.35266\" y=\"276.277182\" style=\"fill: #fefefe\"/>\n    </g>\n    <g clip-path=\"url(#p9fce212757)\">\n     <use xlink:href=\"#C0_0_2d9c3b356c\" x=\"18.35266\" y=\"264.39619\" style=\"fill: #ffffff\"/>\n    </g>\n    <g clip-path=\"url(#p9fce212757)\">\n     <use xlink:href=\"#C0_0_2d9c3b356c\" x=\"18.35266\" y=\"252.515198\" style=\"fill: #ffffff\"/>\n    </g>\n    <g clip-path=\"url(#p9fce212757)\">\n     <use xlink:href=\"#C0_0_2d9c3b356c\" x=\"18.35266\" y=\"240.634206\" style=\"fill: #ffffff\"/>\n    </g>\n    <g clip-path=\"url(#p9fce212757)\">\n     <use xlink:href=\"#C0_0_2d9c3b356c\" x=\"18.35266\" y=\"228.753215\" style=\"fill: #ffffff\"/>\n    </g>\n    <g clip-path=\"url(#p9fce212757)\">\n     <use xlink:href=\"#C0_0_2d9c3b356c\" x=\"18.35266\" y=\"216.872223\" style=\"fill: #ffffff\"/>\n    </g>\n    <g clip-path=\"url(#p9fce212757)\">\n     <use xlink:href=\"#C0_0_2d9c3b356c\" x=\"18.35266\" y=\"204.991231\" style=\"fill: #ffffff\"/>\n    </g>\n    <g clip-path=\"url(#p9fce212757)\">\n     <use xlink:href=\"#C0_0_2d9c3b356c\" x=\"25.203569\" y=\"323.801148\" style=\"fill: #ffffff\"/>\n    </g>\n    <g clip-path=\"url(#p9fce212757)\">\n     <use xlink:href=\"#C0_0_2d9c3b356c\" x=\"25.203569\" y=\"311.920157\" style=\"fill: #ffffff\"/>\n    </g>\n    <g clip-path=\"url(#p9fce212757)\">\n     <use xlink:href=\"#C0_0_2d9c3b356c\" x=\"25.203569\" y=\"300.039165\" style=\"fill: #fcfcfc\"/>\n    </g>\n    <g clip-path=\"url(#p9fce212757)\">\n     <use xlink:href=\"#C0_0_2d9c3b356c\" x=\"25.203569\" y=\"288.158173\" style=\"fill: #fefefe\"/>\n    </g>\n    <g clip-path=\"url(#p9fce212757)\">\n     <use xlink:href=\"#C0_0_2d9c3b356c\" x=\"25.203569\" y=\"276.277182\" style=\"fill: #ffffff\"/>\n    </g>\n    <g clip-path=\"url(#p9fce212757)\">\n     <use xlink:href=\"#C0_0_2d9c3b356c\" x=\"25.203569\" y=\"264.39619\" style=\"fill: #ffffff\"/>\n    </g>\n    <g clip-path=\"url(#p9fce212757)\">\n     <use xlink:href=\"#C0_0_2d9c3b356c\" x=\"25.203569\" y=\"252.515198\" style=\"fill: #ffffff\"/>\n    </g>\n    <g clip-path=\"url(#p9fce212757)\">\n     <use xlink:href=\"#C0_0_2d9c3b356c\" x=\"25.203569\" y=\"240.634206\" style=\"fill: #ffffff\"/>\n    </g>\n    <g clip-path=\"url(#p9fce212757)\">\n     <use xlink:href=\"#C0_0_2d9c3b356c\" x=\"25.203569\" y=\"228.753215\" style=\"fill: #ffffff\"/>\n    </g>\n    <g clip-path=\"url(#p9fce212757)\">\n     <use xlink:href=\"#C0_0_2d9c3b356c\" x=\"25.203569\" y=\"216.872223\" style=\"fill: #ffffff\"/>\n    </g>\n    <g clip-path=\"url(#p9fce212757)\">\n     <use xlink:href=\"#C0_0_2d9c3b356c\" x=\"25.203569\" y=\"204.991231\" style=\"fill: #ffffff\"/>\n    </g>\n    <g clip-path=\"url(#p9fce212757)\">\n     <use xlink:href=\"#C0_0_2d9c3b356c\" x=\"32.054478\" y=\"323.801148\" style=\"fill: #ffffff\"/>\n    </g>\n    <g clip-path=\"url(#p9fce212757)\">\n     <use xlink:href=\"#C0_0_2d9c3b356c\" x=\"32.054478\" y=\"311.920157\" style=\"fill: #ffffff\"/>\n    </g>\n    <g clip-path=\"url(#p9fce212757)\">\n     <use xlink:href=\"#C0_0_2d9c3b356c\" x=\"32.054478\" y=\"300.039165\" style=\"fill: #ffffff\"/>\n    </g>\n    <g clip-path=\"url(#p9fce212757)\">\n     <use xlink:href=\"#C0_0_2d9c3b356c\" x=\"32.054478\" y=\"288.158173\" style=\"fill: #ffffff\"/>\n    </g>\n    <g clip-path=\"url(#p9fce212757)\">\n     <use xlink:href=\"#C0_0_2d9c3b356c\" x=\"32.054478\" y=\"276.277182\" style=\"fill: #ffffff\"/>\n    </g>\n    <g clip-path=\"url(#p9fce212757)\">\n     <use xlink:href=\"#C0_0_2d9c3b356c\" x=\"32.054478\" y=\"264.39619\" style=\"fill: #ffffff\"/>\n    </g>\n    <g clip-path=\"url(#p9fce212757)\">\n     <use xlink:href=\"#C0_0_2d9c3b356c\" x=\"32.054478\" y=\"252.515198\" style=\"fill: #ffffff\"/>\n    </g>\n    <g clip-path=\"url(#p9fce212757)\">\n     <use xlink:href=\"#C0_0_2d9c3b356c\" x=\"32.054478\" y=\"240.634206\" style=\"fill: #ffffff\"/>\n    </g>\n    <g clip-path=\"url(#p9fce212757)\">\n     <use xlink:href=\"#C0_0_2d9c3b356c\" x=\"32.054478\" y=\"228.753215\" style=\"fill: #ffffff\"/>\n    </g>\n    <g clip-path=\"url(#p9fce212757)\">\n     <use xlink:href=\"#C0_0_2d9c3b356c\" x=\"32.054478\" y=\"216.872223\" style=\"fill: #ffffff\"/>\n    </g>\n    <g clip-path=\"url(#p9fce212757)\">\n     <use xlink:href=\"#C0_0_2d9c3b356c\" x=\"32.054478\" y=\"204.991231\" style=\"fill: #ffffff\"/>\n    </g>\n    <g clip-path=\"url(#p9fce212757)\">\n     <use xlink:href=\"#C0_0_2d9c3b356c\" x=\"38.905387\" y=\"323.801148\" style=\"fill: #ffffff\"/>\n    </g>\n    <g clip-path=\"url(#p9fce212757)\">\n     <use xlink:href=\"#C0_0_2d9c3b356c\" x=\"38.905387\" y=\"311.920157\" style=\"fill: #ffffff\"/>\n    </g>\n    <g clip-path=\"url(#p9fce212757)\">\n     <use xlink:href=\"#C0_0_2d9c3b356c\" x=\"38.905387\" y=\"300.039165\" style=\"fill: #ffffff\"/>\n    </g>\n    <g clip-path=\"url(#p9fce212757)\">\n     <use xlink:href=\"#C0_0_2d9c3b356c\" x=\"38.905387\" y=\"288.158173\" style=\"fill: #ffffff\"/>\n    </g>\n    <g clip-path=\"url(#p9fce212757)\">\n     <use xlink:href=\"#C0_0_2d9c3b356c\" x=\"38.905387\" y=\"276.277182\" style=\"fill: #ffffff\"/>\n    </g>\n    <g clip-path=\"url(#p9fce212757)\">\n     <use xlink:href=\"#C0_0_2d9c3b356c\" x=\"38.905387\" y=\"264.39619\" style=\"fill: #fefefe\"/>\n    </g>\n    <g clip-path=\"url(#p9fce212757)\">\n     <use xlink:href=\"#C0_0_2d9c3b356c\" x=\"38.905387\" y=\"252.515198\" style=\"fill: #ffffff\"/>\n    </g>\n    <g clip-path=\"url(#p9fce212757)\">\n     <use xlink:href=\"#C0_0_2d9c3b356c\" x=\"38.905387\" y=\"240.634206\" style=\"fill: #ffffff\"/>\n    </g>\n    <g clip-path=\"url(#p9fce212757)\">\n     <use xlink:href=\"#C0_0_2d9c3b356c\" x=\"38.905387\" y=\"228.753215\" style=\"fill: #ffffff\"/>\n    </g>\n    <g clip-path=\"url(#p9fce212757)\">\n     <use xlink:href=\"#C0_0_2d9c3b356c\" x=\"38.905387\" y=\"216.872223\" style=\"fill: #ffffff\"/>\n    </g>\n    <g clip-path=\"url(#p9fce212757)\">\n     <use xlink:href=\"#C0_0_2d9c3b356c\" x=\"38.905387\" y=\"204.991231\" style=\"fill: #ffffff\"/>\n    </g>\n    <g clip-path=\"url(#p9fce212757)\">\n     <use xlink:href=\"#C0_0_2d9c3b356c\" x=\"45.756296\" y=\"323.801148\" style=\"fill: #ffffff\"/>\n    </g>\n    <g clip-path=\"url(#p9fce212757)\">\n     <use xlink:href=\"#C0_0_2d9c3b356c\" x=\"45.756296\" y=\"311.920157\" style=\"fill: #ffffff\"/>\n    </g>\n    <g clip-path=\"url(#p9fce212757)\">\n     <use xlink:href=\"#C0_0_2d9c3b356c\" x=\"45.756296\" y=\"300.039165\" style=\"fill: #ffffff\"/>\n    </g>\n    <g clip-path=\"url(#p9fce212757)\">\n     <use xlink:href=\"#C0_0_2d9c3b356c\" x=\"45.756296\" y=\"288.158173\" style=\"fill: #ffffff\"/>\n    </g>\n    <g clip-path=\"url(#p9fce212757)\">\n     <use xlink:href=\"#C0_0_2d9c3b356c\" x=\"45.756296\" y=\"276.277182\" style=\"fill: #f1f1f1\"/>\n    </g>\n    <g clip-path=\"url(#p9fce212757)\">\n     <use xlink:href=\"#C0_0_2d9c3b356c\" x=\"45.756296\" y=\"264.39619\" style=\"fill: #ededed\"/>\n    </g>\n    <g clip-path=\"url(#p9fce212757)\">\n     <use xlink:href=\"#C0_0_2d9c3b356c\" x=\"45.756296\" y=\"252.515198\" style=\"fill: #fcfcfc\"/>\n    </g>\n    <g clip-path=\"url(#p9fce212757)\">\n     <use xlink:href=\"#C0_0_2d9c3b356c\" x=\"45.756296\" y=\"240.634206\" style=\"fill: #ffffff\"/>\n    </g>\n    <g clip-path=\"url(#p9fce212757)\">\n     <use xlink:href=\"#C0_0_2d9c3b356c\" x=\"45.756296\" y=\"228.753215\" style=\"fill: #ffffff\"/>\n    </g>\n    <g clip-path=\"url(#p9fce212757)\">\n     <use xlink:href=\"#C0_0_2d9c3b356c\" x=\"45.756296\" y=\"216.872223\" style=\"fill: #ffffff\"/>\n    </g>\n    <g clip-path=\"url(#p9fce212757)\">\n     <use xlink:href=\"#C0_0_2d9c3b356c\" x=\"45.756296\" y=\"204.991231\" style=\"fill: #ffffff\"/>\n    </g>\n    <g clip-path=\"url(#p9fce212757)\">\n     <use xlink:href=\"#C0_0_2d9c3b356c\" x=\"52.607205\" y=\"323.801148\" style=\"fill: #ffffff\"/>\n    </g>\n    <g clip-path=\"url(#p9fce212757)\">\n     <use xlink:href=\"#C0_0_2d9c3b356c\" x=\"52.607205\" y=\"311.920157\" style=\"fill: #ffffff\"/>\n    </g>\n    <g clip-path=\"url(#p9fce212757)\">\n     <use xlink:href=\"#C0_0_2d9c3b356c\" x=\"52.607205\" y=\"300.039165\" style=\"fill: #ffffff\"/>\n    </g>\n    <g clip-path=\"url(#p9fce212757)\">\n     <use xlink:href=\"#C0_0_2d9c3b356c\" x=\"52.607205\" y=\"288.158173\" style=\"fill: #f8f8f8\"/>\n    </g>\n    <g clip-path=\"url(#p9fce212757)\">\n     <use xlink:href=\"#C0_0_2d9c3b356c\" x=\"52.607205\" y=\"276.277182\" style=\"fill: #d4d4d4\"/>\n    </g>\n    <g clip-path=\"url(#p9fce212757)\">\n     <use xlink:href=\"#C0_0_2d9c3b356c\" x=\"52.607205\" y=\"264.39619\" style=\"fill: #c5c5c5\"/>\n    </g>\n    <g clip-path=\"url(#p9fce212757)\">\n     <use xlink:href=\"#C0_0_2d9c3b356c\" x=\"52.607205\" y=\"252.515198\" style=\"fill: #8e8e8e\"/>\n    </g>\n    <g clip-path=\"url(#p9fce212757)\">\n     <use xlink:href=\"#C0_0_2d9c3b356c\" x=\"52.607205\" y=\"240.634206\" style=\"fill: #929292\"/>\n    </g>\n    <g clip-path=\"url(#p9fce212757)\">\n     <use xlink:href=\"#C0_0_2d9c3b356c\" x=\"52.607205\" y=\"228.753215\" style=\"fill: #ffffff\"/>\n    </g>\n    <g clip-path=\"url(#p9fce212757)\">\n     <use xlink:href=\"#C0_0_2d9c3b356c\" x=\"52.607205\" y=\"216.872223\" style=\"fill: #ffffff\"/>\n    </g>\n    <g clip-path=\"url(#p9fce212757)\">\n     <use xlink:href=\"#C0_0_2d9c3b356c\" x=\"52.607205\" y=\"204.991231\" style=\"fill: #ffffff\"/>\n    </g>\n    <g clip-path=\"url(#p9fce212757)\">\n     <use xlink:href=\"#C0_0_2d9c3b356c\" x=\"59.458114\" y=\"323.801148\" style=\"fill: #ffffff\"/>\n    </g>\n    <g clip-path=\"url(#p9fce212757)\">\n     <use xlink:href=\"#C0_0_2d9c3b356c\" x=\"59.458114\" y=\"311.920157\" style=\"fill: #ffffff\"/>\n    </g>\n    <g clip-path=\"url(#p9fce212757)\">\n     <use xlink:href=\"#C0_0_2d9c3b356c\" x=\"59.458114\" y=\"300.039165\" style=\"fill: #ffffff\"/>\n    </g>\n    <g clip-path=\"url(#p9fce212757)\">\n     <use xlink:href=\"#C0_0_2d9c3b356c\" x=\"59.458114\" y=\"288.158173\" style=\"fill: #676767\"/>\n    </g>\n    <g clip-path=\"url(#p9fce212757)\">\n     <use xlink:href=\"#C0_0_2d9c3b356c\" x=\"59.458114\" y=\"276.277182\" style=\"fill: #c5c5c5\"/>\n    </g>\n    <g clip-path=\"url(#p9fce212757)\">\n     <use xlink:href=\"#C0_0_2d9c3b356c\" x=\"59.458114\" y=\"264.39619\" style=\"fill: #d4d4d4\"/>\n    </g>\n    <g clip-path=\"url(#p9fce212757)\">\n     <use xlink:href=\"#C0_0_2d9c3b356c\" x=\"59.458114\" y=\"252.515198\" style=\"fill: #404040\"/>\n    </g>\n    <g clip-path=\"url(#p9fce212757)\">\n     <use xlink:href=\"#C0_0_2d9c3b356c\" x=\"59.458114\" y=\"240.634206\" style=\"fill: #fafafa\"/>\n    </g>\n    <g clip-path=\"url(#p9fce212757)\">\n     <use xlink:href=\"#C0_0_2d9c3b356c\" x=\"59.458114\" y=\"228.753215\" style=\"fill: #ffffff\"/>\n    </g>\n    <g clip-path=\"url(#p9fce212757)\">\n     <use xlink:href=\"#C0_0_2d9c3b356c\" x=\"59.458114\" y=\"216.872223\" style=\"fill: #ffffff\"/>\n    </g>\n    <g clip-path=\"url(#p9fce212757)\">\n     <use xlink:href=\"#C0_0_2d9c3b356c\" x=\"59.458114\" y=\"204.991231\" style=\"fill: #ffffff\"/>\n    </g>\n    <g clip-path=\"url(#p9fce212757)\">\n     <use xlink:href=\"#C0_0_2d9c3b356c\" x=\"66.309023\" y=\"323.801148\" style=\"fill: #ffffff\"/>\n    </g>\n    <g clip-path=\"url(#p9fce212757)\">\n     <use xlink:href=\"#C0_0_2d9c3b356c\" x=\"66.309023\" y=\"311.920157\" style=\"fill: #ffffff\"/>\n    </g>\n    <g clip-path=\"url(#p9fce212757)\">\n     <use xlink:href=\"#C0_0_2d9c3b356c\" x=\"66.309023\" y=\"300.039165\" style=\"fill: #f0f0f0\"/>\n    </g>\n    <g clip-path=\"url(#p9fce212757)\">\n     <use xlink:href=\"#C0_0_2d9c3b356c\" x=\"66.309023\" y=\"288.158173\" style=\"fill: #cecece\"/>\n    </g>\n    <g clip-path=\"url(#p9fce212757)\">\n     <use xlink:href=\"#C0_0_2d9c3b356c\" x=\"66.309023\" y=\"276.277182\" style=\"fill: #868686\"/>\n    </g>\n    <g clip-path=\"url(#p9fce212757)\">\n     <use xlink:href=\"#C0_0_2d9c3b356c\" x=\"66.309023\" y=\"264.39619\" style=\"fill: #c7c7c7\"/>\n    </g>\n    <g clip-path=\"url(#p9fce212757)\">\n     <use xlink:href=\"#C0_0_2d9c3b356c\" x=\"66.309023\" y=\"252.515198\" style=\"fill: #f3f3f3\"/>\n    </g>\n    <g clip-path=\"url(#p9fce212757)\">\n     <use xlink:href=\"#C0_0_2d9c3b356c\" x=\"66.309023\" y=\"240.634206\" style=\"fill: #ffffff\"/>\n    </g>\n    <g clip-path=\"url(#p9fce212757)\">\n     <use xlink:href=\"#C0_0_2d9c3b356c\" x=\"66.309023\" y=\"228.753215\" style=\"fill: #ffffff\"/>\n    </g>\n    <g clip-path=\"url(#p9fce212757)\">\n     <use xlink:href=\"#C0_0_2d9c3b356c\" x=\"66.309023\" y=\"216.872223\" style=\"fill: #ffffff\"/>\n    </g>\n    <g clip-path=\"url(#p9fce212757)\">\n     <use xlink:href=\"#C0_0_2d9c3b356c\" x=\"66.309023\" y=\"204.991231\" style=\"fill: #ffffff\"/>\n    </g>\n    <g clip-path=\"url(#p9fce212757)\">\n     <use xlink:href=\"#C0_0_2d9c3b356c\" x=\"73.159932\" y=\"323.801148\" style=\"fill: #ffffff\"/>\n    </g>\n    <g clip-path=\"url(#p9fce212757)\">\n     <use xlink:href=\"#C0_0_2d9c3b356c\" x=\"73.159932\" y=\"311.920157\" style=\"fill: #ffffff\"/>\n    </g>\n    <g clip-path=\"url(#p9fce212757)\">\n     <use xlink:href=\"#C0_0_2d9c3b356c\" x=\"73.159932\" y=\"300.039165\" style=\"fill: #8a8a8a\"/>\n    </g>\n    <g clip-path=\"url(#p9fce212757)\">\n     <use xlink:href=\"#C0_0_2d9c3b356c\" x=\"73.159932\" y=\"288.158173\" style=\"fill: #d1d1d1\"/>\n    </g>\n    <g clip-path=\"url(#p9fce212757)\">\n     <use xlink:href=\"#C0_0_2d9c3b356c\" x=\"73.159932\" y=\"276.277182\" style=\"fill: #c7c7c7\"/>\n    </g>\n    <g clip-path=\"url(#p9fce212757)\">\n     <use xlink:href=\"#C0_0_2d9c3b356c\" x=\"73.159932\" y=\"264.39619\" style=\"fill: #d4d4d4\"/>\n    </g>\n    <g clip-path=\"url(#p9fce212757)\">\n     <use xlink:href=\"#C0_0_2d9c3b356c\" x=\"73.159932\" y=\"252.515198\" style=\"fill: #dadada\"/>\n    </g>\n    <g clip-path=\"url(#p9fce212757)\">\n     <use xlink:href=\"#C0_0_2d9c3b356c\" x=\"73.159932\" y=\"240.634206\" style=\"fill: #ffffff\"/>\n    </g>\n    <g clip-path=\"url(#p9fce212757)\">\n     <use xlink:href=\"#C0_0_2d9c3b356c\" x=\"73.159932\" y=\"228.753215\" style=\"fill: #ffffff\"/>\n    </g>\n    <g clip-path=\"url(#p9fce212757)\">\n     <use xlink:href=\"#C0_0_2d9c3b356c\" x=\"73.159932\" y=\"216.872223\" style=\"fill: #ffffff\"/>\n    </g>\n    <g clip-path=\"url(#p9fce212757)\">\n     <use xlink:href=\"#C0_0_2d9c3b356c\" x=\"73.159932\" y=\"204.991231\" style=\"fill: #ffffff\"/>\n    </g>\n    <g clip-path=\"url(#p9fce212757)\">\n     <use xlink:href=\"#C0_0_2d9c3b356c\" x=\"80.010842\" y=\"323.801148\" style=\"fill: #ffffff\"/>\n    </g>\n    <g clip-path=\"url(#p9fce212757)\">\n     <use xlink:href=\"#C0_0_2d9c3b356c\" x=\"80.010842\" y=\"311.920157\" style=\"fill: #ffffff\"/>\n    </g>\n    <g clip-path=\"url(#p9fce212757)\">\n     <use xlink:href=\"#C0_0_2d9c3b356c\" x=\"80.010842\" y=\"300.039165\" style=\"fill: #c1c1c1\"/>\n    </g>\n    <g clip-path=\"url(#p9fce212757)\">\n     <use xlink:href=\"#C0_0_2d9c3b356c\" x=\"80.010842\" y=\"288.158173\" style=\"fill: #9a9a9a\"/>\n    </g>\n    <g clip-path=\"url(#p9fce212757)\">\n     <use xlink:href=\"#C0_0_2d9c3b356c\" x=\"80.010842\" y=\"276.277182\" style=\"fill: #dadada\"/>\n    </g>\n    <g clip-path=\"url(#p9fce212757)\">\n     <use xlink:href=\"#C0_0_2d9c3b356c\" x=\"80.010842\" y=\"264.39619\" style=\"fill: #f8f8f8\"/>\n    </g>\n    <g clip-path=\"url(#p9fce212757)\">\n     <use xlink:href=\"#C0_0_2d9c3b356c\" x=\"80.010842\" y=\"252.515198\" style=\"fill: #ffffff\"/>\n    </g>\n    <g clip-path=\"url(#p9fce212757)\">\n     <use xlink:href=\"#C0_0_2d9c3b356c\" x=\"80.010842\" y=\"240.634206\" style=\"fill: #ffffff\"/>\n    </g>\n    <g clip-path=\"url(#p9fce212757)\">\n     <use xlink:href=\"#C0_0_2d9c3b356c\" x=\"80.010842\" y=\"228.753215\" style=\"fill: #ffffff\"/>\n    </g>\n    <g clip-path=\"url(#p9fce212757)\">\n     <use xlink:href=\"#C0_0_2d9c3b356c\" x=\"80.010842\" y=\"216.872223\" style=\"fill: #ffffff\"/>\n    </g>\n    <g clip-path=\"url(#p9fce212757)\">\n     <use xlink:href=\"#C0_0_2d9c3b356c\" x=\"80.010842\" y=\"204.991231\" style=\"fill: #ffffff\"/>\n    </g>\n   </g>\n   <g id=\"matplotlib.axis_1\"/>\n   <g id=\"matplotlib.axis_2\"/>\n   <g id=\"patch_3\">\n    <path d=\"M 7.2 167.90175 \nL 7.2 24.14175 \n\" style=\"fill: none; stroke: #000000; stroke-width: 0.8; stroke-linejoin: miter; stroke-linecap: square\"/>\n   </g>\n   <g id=\"patch_4\">\n    <path d=\"M 157.92 167.90175 \nL 157.92 24.14175 \n\" style=\"fill: none; stroke: #000000; stroke-width: 0.8; stroke-linejoin: miter; stroke-linecap: square\"/>\n   </g>\n   <g id=\"patch_5\">\n    <path d=\"M 7.2 167.90175 \nL 157.92 167.90175 \n\" style=\"fill: none; stroke: #000000; stroke-width: 0.8; stroke-linejoin: miter; stroke-linecap: square\"/>\n   </g>\n   <g id=\"patch_6\">\n    <path d=\"M 7.2 24.14175 \nL 157.92 24.14175 \n\" style=\"fill: none; stroke: #000000; stroke-width: 0.8; stroke-linejoin: miter; stroke-linecap: square\"/>\n   </g>\n   <g id=\"text_1\">\n    <!-- sadness -->\n    <g transform=\"translate(53.331375 18.14175) scale(0.144 -0.144)\">\n     <defs>\n      <path id=\"DejaVuSans-73\" d=\"M 2834 3397 \nL 2834 2853 \nQ 2591 2978 2328 3040 \nQ 2066 3103 1784 3103 \nQ 1356 3103 1142 2972 \nQ 928 2841 928 2578 \nQ 928 2378 1081 2264 \nQ 1234 2150 1697 2047 \nL 1894 2003 \nQ 2506 1872 2764 1633 \nQ 3022 1394 3022 966 \nQ 3022 478 2636 193 \nQ 2250 -91 1575 -91 \nQ 1294 -91 989 -36 \nQ 684 19 347 128 \nL 347 722 \nQ 666 556 975 473 \nQ 1284 391 1588 391 \nQ 1994 391 2212 530 \nQ 2431 669 2431 922 \nQ 2431 1156 2273 1281 \nQ 2116 1406 1581 1522 \nL 1381 1569 \nQ 847 1681 609 1914 \nQ 372 2147 372 2553 \nQ 372 3047 722 3315 \nQ 1072 3584 1716 3584 \nQ 2034 3584 2315 3537 \nQ 2597 3491 2834 3397 \nz\n\" transform=\"scale(0.015625)\"/>\n      <path id=\"DejaVuSans-61\" d=\"M 2194 1759 \nQ 1497 1759 1228 1600 \nQ 959 1441 959 1056 \nQ 959 750 1161 570 \nQ 1363 391 1709 391 \nQ 2188 391 2477 730 \nQ 2766 1069 2766 1631 \nL 2766 1759 \nL 2194 1759 \nz\nM 3341 1997 \nL 3341 0 \nL 2766 0 \nL 2766 531 \nQ 2569 213 2275 61 \nQ 1981 -91 1556 -91 \nQ 1019 -91 701 211 \nQ 384 513 384 1019 \nQ 384 1609 779 1909 \nQ 1175 2209 1959 2209 \nL 2766 2209 \nL 2766 2266 \nQ 2766 2663 2505 2880 \nQ 2244 3097 1772 3097 \nQ 1472 3097 1187 3025 \nQ 903 2953 641 2809 \nL 641 3341 \nQ 956 3463 1253 3523 \nQ 1550 3584 1831 3584 \nQ 2591 3584 2966 3190 \nQ 3341 2797 3341 1997 \nz\n\" transform=\"scale(0.015625)\"/>\n      <path id=\"DejaVuSans-64\" d=\"M 2906 2969 \nL 2906 4863 \nL 3481 4863 \nL 3481 0 \nL 2906 0 \nL 2906 525 \nQ 2725 213 2448 61 \nQ 2172 -91 1784 -91 \nQ 1150 -91 751 415 \nQ 353 922 353 1747 \nQ 353 2572 751 3078 \nQ 1150 3584 1784 3584 \nQ 2172 3584 2448 3432 \nQ 2725 3281 2906 2969 \nz\nM 947 1747 \nQ 947 1113 1208 752 \nQ 1469 391 1925 391 \nQ 2381 391 2643 752 \nQ 2906 1113 2906 1747 \nQ 2906 2381 2643 2742 \nQ 2381 3103 1925 3103 \nQ 1469 3103 1208 2742 \nQ 947 2381 947 1747 \nz\n\" transform=\"scale(0.015625)\"/>\n      <path id=\"DejaVuSans-6e\" d=\"M 3513 2113 \nL 3513 0 \nL 2938 0 \nL 2938 2094 \nQ 2938 2591 2744 2837 \nQ 2550 3084 2163 3084 \nQ 1697 3084 1428 2787 \nQ 1159 2491 1159 1978 \nL 1159 0 \nL 581 0 \nL 581 3500 \nL 1159 3500 \nL 1159 2956 \nQ 1366 3272 1645 3428 \nQ 1925 3584 2291 3584 \nQ 2894 3584 3203 3211 \nQ 3513 2838 3513 2113 \nz\n\" transform=\"scale(0.015625)\"/>\n      <path id=\"DejaVuSans-65\" d=\"M 3597 1894 \nL 3597 1613 \nL 953 1613 \nQ 991 1019 1311 708 \nQ 1631 397 2203 397 \nQ 2534 397 2845 478 \nQ 3156 559 3463 722 \nL 3463 178 \nQ 3153 47 2828 -22 \nQ 2503 -91 2169 -91 \nQ 1331 -91 842 396 \nQ 353 884 353 1716 \nQ 353 2575 817 3079 \nQ 1281 3584 2069 3584 \nQ 2775 3584 3186 3129 \nQ 3597 2675 3597 1894 \nz\nM 3022 2063 \nQ 3016 2534 2758 2815 \nQ 2500 3097 2075 3097 \nQ 1594 3097 1305 2825 \nQ 1016 2553 972 2059 \nL 3022 2063 \nz\n\" transform=\"scale(0.015625)\"/>\n     </defs>\n     <use xlink:href=\"#DejaVuSans-73\"/>\n     <use xlink:href=\"#DejaVuSans-61\" x=\"52.099609\"/>\n     <use xlink:href=\"#DejaVuSans-64\" x=\"113.378906\"/>\n     <use xlink:href=\"#DejaVuSans-6e\" x=\"176.855469\"/>\n     <use xlink:href=\"#DejaVuSans-65\" x=\"240.234375\"/>\n     <use xlink:href=\"#DejaVuSans-73\" x=\"301.757812\"/>\n     <use xlink:href=\"#DejaVuSans-73\" x=\"353.857422\"/>\n    </g>\n   </g>\n  </g>\n  <g id=\"axes_2\">\n   <g id=\"patch_7\">\n    <path d=\"M 170.88 167.90175 \nL 321.6 167.90175 \nL 321.6 24.14175 \nL 170.88 24.14175 \nz\n\" style=\"fill: #ffffff\"/>\n   </g>\n   <g id=\"PolyCollection_2\">\n    <defs>\n     <path id=\"C1_0_b9ede3aae1\" d=\"M 236.293076 -165.620125 \nL 236.293076 -169.580455 \nL 232.867621 -171.560621 \nL 229.442167 -169.580455 \nL 229.442167 -165.620125 \nL 232.867621 -163.639959 \nz\n\"/>\n    </defs>\n    <g clip-path=\"url(#p04ae43a9f4)\">\n     <use xlink:href=\"#C1_0_b9ede3aae1\" x=\"-55.136712\" y=\"328.967495\" style=\"fill: #f7fbff\"/>\n    </g>\n    <g clip-path=\"url(#p04ae43a9f4)\">\n     <use xlink:href=\"#C1_0_b9ede3aae1\" x=\"-55.136712\" y=\"317.086503\" style=\"fill: #f7fbff\"/>\n    </g>\n    <g clip-path=\"url(#p04ae43a9f4)\">\n     <use xlink:href=\"#C1_0_b9ede3aae1\" x=\"-55.136712\" y=\"305.205511\" style=\"fill: #f7fbff\"/>\n    </g>\n    <g clip-path=\"url(#p04ae43a9f4)\">\n     <use xlink:href=\"#C1_0_b9ede3aae1\" x=\"-55.136712\" y=\"293.324519\" style=\"fill: #f7fbff\"/>\n    </g>\n    <g clip-path=\"url(#p04ae43a9f4)\">\n     <use xlink:href=\"#C1_0_b9ede3aae1\" x=\"-55.136712\" y=\"281.443528\" style=\"fill: #f5fafe\"/>\n    </g>\n    <g clip-path=\"url(#p04ae43a9f4)\">\n     <use xlink:href=\"#C1_0_b9ede3aae1\" x=\"-55.136712\" y=\"269.562536\" style=\"fill: #f5fafe\"/>\n    </g>\n    <g clip-path=\"url(#p04ae43a9f4)\">\n     <use xlink:href=\"#C1_0_b9ede3aae1\" x=\"-55.136712\" y=\"257.681544\" style=\"fill: #eef5fc\"/>\n    </g>\n    <g clip-path=\"url(#p04ae43a9f4)\">\n     <use xlink:href=\"#C1_0_b9ede3aae1\" x=\"-55.136712\" y=\"245.800552\" style=\"fill: #f7fbff\"/>\n    </g>\n    <g clip-path=\"url(#p04ae43a9f4)\">\n     <use xlink:href=\"#C1_0_b9ede3aae1\" x=\"-55.136712\" y=\"233.919561\" style=\"fill: #f7fbff\"/>\n    </g>\n    <g clip-path=\"url(#p04ae43a9f4)\">\n     <use xlink:href=\"#C1_0_b9ede3aae1\" x=\"-55.136712\" y=\"222.038569\" style=\"fill: #f7fbff\"/>\n    </g>\n    <g clip-path=\"url(#p04ae43a9f4)\">\n     <use xlink:href=\"#C1_0_b9ede3aae1\" x=\"-55.136712\" y=\"210.157577\" style=\"fill: #f7fbff\"/>\n    </g>\n    <g clip-path=\"url(#p04ae43a9f4)\">\n     <use xlink:href=\"#C1_0_b9ede3aae1\" x=\"-55.136712\" y=\"198.276586\" style=\"fill: #f7fbff\"/>\n    </g>\n    <g clip-path=\"url(#p04ae43a9f4)\">\n     <use xlink:href=\"#C1_0_b9ede3aae1\" x=\"-48.285803\" y=\"328.967495\" style=\"fill: #f7fbff\"/>\n    </g>\n    <g clip-path=\"url(#p04ae43a9f4)\">\n     <use xlink:href=\"#C1_0_b9ede3aae1\" x=\"-48.285803\" y=\"317.086503\" style=\"fill: #f7fbff\"/>\n    </g>\n    <g clip-path=\"url(#p04ae43a9f4)\">\n     <use xlink:href=\"#C1_0_b9ede3aae1\" x=\"-48.285803\" y=\"305.205511\" style=\"fill: #f7fbff\"/>\n    </g>\n    <g clip-path=\"url(#p04ae43a9f4)\">\n     <use xlink:href=\"#C1_0_b9ede3aae1\" x=\"-48.285803\" y=\"293.324519\" style=\"fill: #f1f7fd\"/>\n    </g>\n    <g clip-path=\"url(#p04ae43a9f4)\">\n     <use xlink:href=\"#C1_0_b9ede3aae1\" x=\"-48.285803\" y=\"281.443528\" style=\"fill: #dfebf7\"/>\n    </g>\n    <g clip-path=\"url(#p04ae43a9f4)\">\n     <use xlink:href=\"#C1_0_b9ede3aae1\" x=\"-48.285803\" y=\"269.562536\" style=\"fill: #dfebf7\"/>\n    </g>\n    <g clip-path=\"url(#p04ae43a9f4)\">\n     <use xlink:href=\"#C1_0_b9ede3aae1\" x=\"-48.285803\" y=\"257.681544\" style=\"fill: #dceaf6\"/>\n    </g>\n    <g clip-path=\"url(#p04ae43a9f4)\">\n     <use xlink:href=\"#C1_0_b9ede3aae1\" x=\"-48.285803\" y=\"245.800552\" style=\"fill: #f3f8fe\"/>\n    </g>\n    <g clip-path=\"url(#p04ae43a9f4)\">\n     <use xlink:href=\"#C1_0_b9ede3aae1\" x=\"-48.285803\" y=\"233.919561\" style=\"fill: #f7fbff\"/>\n    </g>\n    <g clip-path=\"url(#p04ae43a9f4)\">\n     <use xlink:href=\"#C1_0_b9ede3aae1\" x=\"-48.285803\" y=\"222.038569\" style=\"fill: #f7fbff\"/>\n    </g>\n    <g clip-path=\"url(#p04ae43a9f4)\">\n     <use xlink:href=\"#C1_0_b9ede3aae1\" x=\"-48.285803\" y=\"210.157577\" style=\"fill: #f7fbff\"/>\n    </g>\n    <g clip-path=\"url(#p04ae43a9f4)\">\n     <use xlink:href=\"#C1_0_b9ede3aae1\" x=\"-48.285803\" y=\"198.276586\" style=\"fill: #f7fbff\"/>\n    </g>\n    <g clip-path=\"url(#p04ae43a9f4)\">\n     <use xlink:href=\"#C1_0_b9ede3aae1\" x=\"-41.434894\" y=\"328.967495\" style=\"fill: #f7fbff\"/>\n    </g>\n    <g clip-path=\"url(#p04ae43a9f4)\">\n     <use xlink:href=\"#C1_0_b9ede3aae1\" x=\"-41.434894\" y=\"317.086503\" style=\"fill: #f7fbff\"/>\n    </g>\n    <g clip-path=\"url(#p04ae43a9f4)\">\n     <use xlink:href=\"#C1_0_b9ede3aae1\" x=\"-41.434894\" y=\"305.205511\" style=\"fill: #e6f0f9\"/>\n    </g>\n    <g clip-path=\"url(#p04ae43a9f4)\">\n     <use xlink:href=\"#C1_0_b9ede3aae1\" x=\"-41.434894\" y=\"293.324519\" style=\"fill: #c4daee\"/>\n    </g>\n    <g clip-path=\"url(#p04ae43a9f4)\">\n     <use xlink:href=\"#C1_0_b9ede3aae1\" x=\"-41.434894\" y=\"281.443528\" style=\"fill: #4695c8\"/>\n    </g>\n    <g clip-path=\"url(#p04ae43a9f4)\">\n     <use xlink:href=\"#C1_0_b9ede3aae1\" x=\"-41.434894\" y=\"269.562536\" style=\"fill: #b3d3e8\"/>\n    </g>\n    <g clip-path=\"url(#p04ae43a9f4)\">\n     <use xlink:href=\"#C1_0_b9ede3aae1\" x=\"-41.434894\" y=\"257.681544\" style=\"fill: #e3eef9\"/>\n    </g>\n    <g clip-path=\"url(#p04ae43a9f4)\">\n     <use xlink:href=\"#C1_0_b9ede3aae1\" x=\"-41.434894\" y=\"245.800552\" style=\"fill: #f1f7fd\"/>\n    </g>\n    <g clip-path=\"url(#p04ae43a9f4)\">\n     <use xlink:href=\"#C1_0_b9ede3aae1\" x=\"-41.434894\" y=\"233.919561\" style=\"fill: #f7fbff\"/>\n    </g>\n    <g clip-path=\"url(#p04ae43a9f4)\">\n     <use xlink:href=\"#C1_0_b9ede3aae1\" x=\"-41.434894\" y=\"222.038569\" style=\"fill: #f7fbff\"/>\n    </g>\n    <g clip-path=\"url(#p04ae43a9f4)\">\n     <use xlink:href=\"#C1_0_b9ede3aae1\" x=\"-41.434894\" y=\"210.157577\" style=\"fill: #f7fbff\"/>\n    </g>\n    <g clip-path=\"url(#p04ae43a9f4)\">\n     <use xlink:href=\"#C1_0_b9ede3aae1\" x=\"-41.434894\" y=\"198.276586\" style=\"fill: #f7fbff\"/>\n    </g>\n    <g clip-path=\"url(#p04ae43a9f4)\">\n     <use xlink:href=\"#C1_0_b9ede3aae1\" x=\"-34.583985\" y=\"328.967495\" style=\"fill: #f7fbff\"/>\n    </g>\n    <g clip-path=\"url(#p04ae43a9f4)\">\n     <use xlink:href=\"#C1_0_b9ede3aae1\" x=\"-34.583985\" y=\"317.086503\" style=\"fill: #f7fbff\"/>\n    </g>\n    <g clip-path=\"url(#p04ae43a9f4)\">\n     <use xlink:href=\"#C1_0_b9ede3aae1\" x=\"-34.583985\" y=\"305.205511\" style=\"fill: #cde0f1\"/>\n    </g>\n    <g clip-path=\"url(#p04ae43a9f4)\">\n     <use xlink:href=\"#C1_0_b9ede3aae1\" x=\"-34.583985\" y=\"293.324519\" style=\"fill: #60a7d2\"/>\n    </g>\n    <g clip-path=\"url(#p04ae43a9f4)\">\n     <use xlink:href=\"#C1_0_b9ede3aae1\" x=\"-34.583985\" y=\"281.443528\" style=\"fill: #1764ab\"/>\n    </g>\n    <g clip-path=\"url(#p04ae43a9f4)\">\n     <use xlink:href=\"#C1_0_b9ede3aae1\" x=\"-34.583985\" y=\"269.562536\" style=\"fill: #74b3d8\"/>\n    </g>\n    <g clip-path=\"url(#p04ae43a9f4)\">\n     <use xlink:href=\"#C1_0_b9ede3aae1\" x=\"-34.583985\" y=\"257.681544\" style=\"fill: #d6e6f4\"/>\n    </g>\n    <g clip-path=\"url(#p04ae43a9f4)\">\n     <use xlink:href=\"#C1_0_b9ede3aae1\" x=\"-34.583985\" y=\"245.800552\" style=\"fill: #e3eef9\"/>\n    </g>\n    <g clip-path=\"url(#p04ae43a9f4)\">\n     <use xlink:href=\"#C1_0_b9ede3aae1\" x=\"-34.583985\" y=\"233.919561\" style=\"fill: #f5fafe\"/>\n    </g>\n    <g clip-path=\"url(#p04ae43a9f4)\">\n     <use xlink:href=\"#C1_0_b9ede3aae1\" x=\"-34.583985\" y=\"222.038569\" style=\"fill: #f7fbff\"/>\n    </g>\n    <g clip-path=\"url(#p04ae43a9f4)\">\n     <use xlink:href=\"#C1_0_b9ede3aae1\" x=\"-34.583985\" y=\"210.157577\" style=\"fill: #f7fbff\"/>\n    </g>\n    <g clip-path=\"url(#p04ae43a9f4)\">\n     <use xlink:href=\"#C1_0_b9ede3aae1\" x=\"-34.583985\" y=\"198.276586\" style=\"fill: #f7fbff\"/>\n    </g>\n    <g clip-path=\"url(#p04ae43a9f4)\">\n     <use xlink:href=\"#C1_0_b9ede3aae1\" x=\"-27.733076\" y=\"328.967495\" style=\"fill: #f7fbff\"/>\n    </g>\n    <g clip-path=\"url(#p04ae43a9f4)\">\n     <use xlink:href=\"#C1_0_b9ede3aae1\" x=\"-27.733076\" y=\"317.086503\" style=\"fill: #d2e3f3\"/>\n    </g>\n    <g clip-path=\"url(#p04ae43a9f4)\">\n     <use xlink:href=\"#C1_0_b9ede3aae1\" x=\"-27.733076\" y=\"305.205511\" style=\"fill: #105ba4\"/>\n    </g>\n    <g clip-path=\"url(#p04ae43a9f4)\">\n     <use xlink:href=\"#C1_0_b9ede3aae1\" x=\"-27.733076\" y=\"293.324519\" style=\"fill: #3787c0\"/>\n    </g>\n    <g clip-path=\"url(#p04ae43a9f4)\">\n     <use xlink:href=\"#C1_0_b9ede3aae1\" x=\"-27.733076\" y=\"281.443528\" style=\"fill: #083e81\"/>\n    </g>\n    <g clip-path=\"url(#p04ae43a9f4)\">\n     <use xlink:href=\"#C1_0_b9ede3aae1\" x=\"-27.733076\" y=\"269.562536\" style=\"fill: #6fb0d7\"/>\n    </g>\n    <g clip-path=\"url(#p04ae43a9f4)\">\n     <use xlink:href=\"#C1_0_b9ede3aae1\" x=\"-27.733076\" y=\"257.681544\" style=\"fill: #a8cee4\"/>\n    </g>\n    <g clip-path=\"url(#p04ae43a9f4)\">\n     <use xlink:href=\"#C1_0_b9ede3aae1\" x=\"-27.733076\" y=\"245.800552\" style=\"fill: #d6e6f4\"/>\n    </g>\n    <g clip-path=\"url(#p04ae43a9f4)\">\n     <use xlink:href=\"#C1_0_b9ede3aae1\" x=\"-27.733076\" y=\"233.919561\" style=\"fill: #eaf2fb\"/>\n    </g>\n    <g clip-path=\"url(#p04ae43a9f4)\">\n     <use xlink:href=\"#C1_0_b9ede3aae1\" x=\"-27.733076\" y=\"222.038569\" style=\"fill: #f7fbff\"/>\n    </g>\n    <g clip-path=\"url(#p04ae43a9f4)\">\n     <use xlink:href=\"#C1_0_b9ede3aae1\" x=\"-27.733076\" y=\"210.157577\" style=\"fill: #f1f7fd\"/>\n    </g>\n    <g clip-path=\"url(#p04ae43a9f4)\">\n     <use xlink:href=\"#C1_0_b9ede3aae1\" x=\"-27.733076\" y=\"198.276586\" style=\"fill: #f7fbff\"/>\n    </g>\n    <g clip-path=\"url(#p04ae43a9f4)\">\n     <use xlink:href=\"#C1_0_b9ede3aae1\" x=\"-20.882167\" y=\"328.967495\" style=\"fill: #f7fbff\"/>\n    </g>\n    <g clip-path=\"url(#p04ae43a9f4)\">\n     <use xlink:href=\"#C1_0_b9ede3aae1\" x=\"-20.882167\" y=\"317.086503\" style=\"fill: #bad6eb\"/>\n    </g>\n    <g clip-path=\"url(#p04ae43a9f4)\">\n     <use xlink:href=\"#C1_0_b9ede3aae1\" x=\"-20.882167\" y=\"305.205511\" style=\"fill: #4a98c9\"/>\n    </g>\n    <g clip-path=\"url(#p04ae43a9f4)\">\n     <use xlink:href=\"#C1_0_b9ede3aae1\" x=\"-20.882167\" y=\"293.324519\" style=\"fill: #549fcd\"/>\n    </g>\n    <g clip-path=\"url(#p04ae43a9f4)\">\n     <use xlink:href=\"#C1_0_b9ede3aae1\" x=\"-20.882167\" y=\"281.443528\" style=\"fill: #3a8ac2\"/>\n    </g>\n    <g clip-path=\"url(#p04ae43a9f4)\">\n     <use xlink:href=\"#C1_0_b9ede3aae1\" x=\"-20.882167\" y=\"269.562536\" style=\"fill: #8abfdd\"/>\n    </g>\n    <g clip-path=\"url(#p04ae43a9f4)\">\n     <use xlink:href=\"#C1_0_b9ede3aae1\" x=\"-20.882167\" y=\"257.681544\" style=\"fill: #c4daee\"/>\n    </g>\n    <g clip-path=\"url(#p04ae43a9f4)\">\n     <use xlink:href=\"#C1_0_b9ede3aae1\" x=\"-20.882167\" y=\"245.800552\" style=\"fill: #d9e7f5\"/>\n    </g>\n    <g clip-path=\"url(#p04ae43a9f4)\">\n     <use xlink:href=\"#C1_0_b9ede3aae1\" x=\"-20.882167\" y=\"233.919561\" style=\"fill: #eef5fc\"/>\n    </g>\n    <g clip-path=\"url(#p04ae43a9f4)\">\n     <use xlink:href=\"#C1_0_b9ede3aae1\" x=\"-20.882167\" y=\"222.038569\" style=\"fill: #ecf4fb\"/>\n    </g>\n    <g clip-path=\"url(#p04ae43a9f4)\">\n     <use xlink:href=\"#C1_0_b9ede3aae1\" x=\"-20.882167\" y=\"210.157577\" style=\"fill: #bad6eb\"/>\n    </g>\n    <g clip-path=\"url(#p04ae43a9f4)\">\n     <use xlink:href=\"#C1_0_b9ede3aae1\" x=\"-20.882167\" y=\"198.276586\" style=\"fill: #f7fbff\"/>\n    </g>\n    <g clip-path=\"url(#p04ae43a9f4)\">\n     <use xlink:href=\"#C1_0_b9ede3aae1\" x=\"-14.031258\" y=\"328.967495\" style=\"fill: #f7fbff\"/>\n    </g>\n    <g clip-path=\"url(#p04ae43a9f4)\">\n     <use xlink:href=\"#C1_0_b9ede3aae1\" x=\"-14.031258\" y=\"317.086503\" style=\"fill: #caddf0\"/>\n    </g>\n    <g clip-path=\"url(#p04ae43a9f4)\">\n     <use xlink:href=\"#C1_0_b9ede3aae1\" x=\"-14.031258\" y=\"305.205511\" style=\"fill: #3f8fc5\"/>\n    </g>\n    <g clip-path=\"url(#p04ae43a9f4)\">\n     <use xlink:href=\"#C1_0_b9ede3aae1\" x=\"-14.031258\" y=\"293.324519\" style=\"fill: #3f8fc5\"/>\n    </g>\n    <g clip-path=\"url(#p04ae43a9f4)\">\n     <use xlink:href=\"#C1_0_b9ede3aae1\" x=\"-14.031258\" y=\"281.443528\" style=\"fill: #3a8ac2\"/>\n    </g>\n    <g clip-path=\"url(#p04ae43a9f4)\">\n     <use xlink:href=\"#C1_0_b9ede3aae1\" x=\"-14.031258\" y=\"269.562536\" style=\"fill: #3787c0\"/>\n    </g>\n    <g clip-path=\"url(#p04ae43a9f4)\">\n     <use xlink:href=\"#C1_0_b9ede3aae1\" x=\"-14.031258\" y=\"257.681544\" style=\"fill: #a8cee4\"/>\n    </g>\n    <g clip-path=\"url(#p04ae43a9f4)\">\n     <use xlink:href=\"#C1_0_b9ede3aae1\" x=\"-14.031258\" y=\"245.800552\" style=\"fill: #cde0f1\"/>\n    </g>\n    <g clip-path=\"url(#p04ae43a9f4)\">\n     <use xlink:href=\"#C1_0_b9ede3aae1\" x=\"-14.031258\" y=\"233.919561\" style=\"fill: #dbe9f6\"/>\n    </g>\n    <g clip-path=\"url(#p04ae43a9f4)\">\n     <use xlink:href=\"#C1_0_b9ede3aae1\" x=\"-14.031258\" y=\"222.038569\" style=\"fill: #ccdff1\"/>\n    </g>\n    <g clip-path=\"url(#p04ae43a9f4)\">\n     <use xlink:href=\"#C1_0_b9ede3aae1\" x=\"-14.031258\" y=\"210.157577\" style=\"fill: #82bbdb\"/>\n    </g>\n    <g clip-path=\"url(#p04ae43a9f4)\">\n     <use xlink:href=\"#C1_0_b9ede3aae1\" x=\"-14.031258\" y=\"198.276586\" style=\"fill: #f1f7fd\"/>\n    </g>\n    <g clip-path=\"url(#p04ae43a9f4)\">\n     <use xlink:href=\"#C1_0_b9ede3aae1\" x=\"-7.180349\" y=\"328.967495\" style=\"fill: #f7fbff\"/>\n    </g>\n    <g clip-path=\"url(#p04ae43a9f4)\">\n     <use xlink:href=\"#C1_0_b9ede3aae1\" x=\"-7.180349\" y=\"317.086503\" style=\"fill: #ecf4fb\"/>\n    </g>\n    <g clip-path=\"url(#p04ae43a9f4)\">\n     <use xlink:href=\"#C1_0_b9ede3aae1\" x=\"-7.180349\" y=\"305.205511\" style=\"fill: #7db8da\"/>\n    </g>\n    <g clip-path=\"url(#p04ae43a9f4)\">\n     <use xlink:href=\"#C1_0_b9ede3aae1\" x=\"-7.180349\" y=\"293.324519\" style=\"fill: #6aaed6\"/>\n    </g>\n    <g clip-path=\"url(#p04ae43a9f4)\">\n     <use xlink:href=\"#C1_0_b9ede3aae1\" x=\"-7.180349\" y=\"281.443528\" style=\"fill: #68acd5\"/>\n    </g>\n    <g clip-path=\"url(#p04ae43a9f4)\">\n     <use xlink:href=\"#C1_0_b9ede3aae1\" x=\"-7.180349\" y=\"269.562536\" style=\"fill: #64a9d3\"/>\n    </g>\n    <g clip-path=\"url(#p04ae43a9f4)\">\n     <use xlink:href=\"#C1_0_b9ede3aae1\" x=\"-7.180349\" y=\"257.681544\" style=\"fill: #c4daee\"/>\n    </g>\n    <g clip-path=\"url(#p04ae43a9f4)\">\n     <use xlink:href=\"#C1_0_b9ede3aae1\" x=\"-7.180349\" y=\"245.800552\" style=\"fill: #d9e7f5\"/>\n    </g>\n    <g clip-path=\"url(#p04ae43a9f4)\">\n     <use xlink:href=\"#C1_0_b9ede3aae1\" x=\"-7.180349\" y=\"233.919561\" style=\"fill: #d9e7f5\"/>\n    </g>\n    <g clip-path=\"url(#p04ae43a9f4)\">\n     <use xlink:href=\"#C1_0_b9ede3aae1\" x=\"-7.180349\" y=\"222.038569\" style=\"fill: #bad6eb\"/>\n    </g>\n    <g clip-path=\"url(#p04ae43a9f4)\">\n     <use xlink:href=\"#C1_0_b9ede3aae1\" x=\"-7.180349\" y=\"210.157577\" style=\"fill: #82bbdb\"/>\n    </g>\n    <g clip-path=\"url(#p04ae43a9f4)\">\n     <use xlink:href=\"#C1_0_b9ede3aae1\" x=\"-7.180349\" y=\"198.276586\" style=\"fill: #f7fbff\"/>\n    </g>\n    <g clip-path=\"url(#p04ae43a9f4)\">\n     <use xlink:href=\"#C1_0_b9ede3aae1\" x=\"-0.32944\" y=\"328.967495\" style=\"fill: #f1f7fd\"/>\n    </g>\n    <g clip-path=\"url(#p04ae43a9f4)\">\n     <use xlink:href=\"#C1_0_b9ede3aae1\" x=\"-0.32944\" y=\"317.086503\" style=\"fill: #d6e6f4\"/>\n    </g>\n    <g clip-path=\"url(#p04ae43a9f4)\">\n     <use xlink:href=\"#C1_0_b9ede3aae1\" x=\"-0.32944\" y=\"305.205511\" style=\"fill: #e6f0f9\"/>\n    </g>\n    <g clip-path=\"url(#p04ae43a9f4)\">\n     <use xlink:href=\"#C1_0_b9ede3aae1\" x=\"-0.32944\" y=\"293.324519\" style=\"fill: #c4daee\"/>\n    </g>\n    <g clip-path=\"url(#p04ae43a9f4)\">\n     <use xlink:href=\"#C1_0_b9ede3aae1\" x=\"-0.32944\" y=\"281.443528\" style=\"fill: #c4daee\"/>\n    </g>\n    <g clip-path=\"url(#p04ae43a9f4)\">\n     <use xlink:href=\"#C1_0_b9ede3aae1\" x=\"-0.32944\" y=\"269.562536\" style=\"fill: #a8cee4\"/>\n    </g>\n    <g clip-path=\"url(#p04ae43a9f4)\">\n     <use xlink:href=\"#C1_0_b9ede3aae1\" x=\"-0.32944\" y=\"257.681544\" style=\"fill: #c4daee\"/>\n    </g>\n    <g clip-path=\"url(#p04ae43a9f4)\">\n     <use xlink:href=\"#C1_0_b9ede3aae1\" x=\"-0.32944\" y=\"245.800552\" style=\"fill: #e1edf8\"/>\n    </g>\n    <g clip-path=\"url(#p04ae43a9f4)\">\n     <use xlink:href=\"#C1_0_b9ede3aae1\" x=\"-0.32944\" y=\"233.919561\" style=\"fill: #cde0f1\"/>\n    </g>\n    <g clip-path=\"url(#p04ae43a9f4)\">\n     <use xlink:href=\"#C1_0_b9ede3aae1\" x=\"-0.32944\" y=\"222.038569\" style=\"fill: #6aaed6\"/>\n    </g>\n    <g clip-path=\"url(#p04ae43a9f4)\">\n     <use xlink:href=\"#C1_0_b9ede3aae1\" x=\"-0.32944\" y=\"210.157577\" style=\"fill: #f3f8fe\"/>\n    </g>\n    <g clip-path=\"url(#p04ae43a9f4)\">\n     <use xlink:href=\"#C1_0_b9ede3aae1\" x=\"-0.32944\" y=\"198.276586\" style=\"fill: #f7fbff\"/>\n    </g>\n    <g clip-path=\"url(#p04ae43a9f4)\">\n     <use xlink:href=\"#C1_0_b9ede3aae1\" x=\"6.521469\" y=\"328.967495\" style=\"fill: #e8f1fa\"/>\n    </g>\n    <g clip-path=\"url(#p04ae43a9f4)\">\n     <use xlink:href=\"#C1_0_b9ede3aae1\" x=\"6.521469\" y=\"317.086503\" style=\"fill: #c1d9ed\"/>\n    </g>\n    <g clip-path=\"url(#p04ae43a9f4)\">\n     <use xlink:href=\"#C1_0_b9ede3aae1\" x=\"6.521469\" y=\"305.205511\" style=\"fill: #d6e6f4\"/>\n    </g>\n    <g clip-path=\"url(#p04ae43a9f4)\">\n     <use xlink:href=\"#C1_0_b9ede3aae1\" x=\"6.521469\" y=\"293.324519\" style=\"fill: #d9e7f5\"/>\n    </g>\n    <g clip-path=\"url(#p04ae43a9f4)\">\n     <use xlink:href=\"#C1_0_b9ede3aae1\" x=\"6.521469\" y=\"281.443528\" style=\"fill: #b3d3e8\"/>\n    </g>\n    <g clip-path=\"url(#p04ae43a9f4)\">\n     <use xlink:href=\"#C1_0_b9ede3aae1\" x=\"6.521469\" y=\"269.562536\" style=\"fill: #c4daee\"/>\n    </g>\n    <g clip-path=\"url(#p04ae43a9f4)\">\n     <use xlink:href=\"#C1_0_b9ede3aae1\" x=\"6.521469\" y=\"257.681544\" style=\"fill: #c7dcef\"/>\n    </g>\n    <g clip-path=\"url(#p04ae43a9f4)\">\n     <use xlink:href=\"#C1_0_b9ede3aae1\" x=\"6.521469\" y=\"245.800552\" style=\"fill: #ecf4fb\"/>\n    </g>\n    <g clip-path=\"url(#p04ae43a9f4)\">\n     <use xlink:href=\"#C1_0_b9ede3aae1\" x=\"6.521469\" y=\"233.919561\" style=\"fill: #f7fbff\"/>\n    </g>\n    <g clip-path=\"url(#p04ae43a9f4)\">\n     <use xlink:href=\"#C1_0_b9ede3aae1\" x=\"6.521469\" y=\"222.038569\" style=\"fill: #f5fafe\"/>\n    </g>\n    <g clip-path=\"url(#p04ae43a9f4)\">\n     <use xlink:href=\"#C1_0_b9ede3aae1\" x=\"6.521469\" y=\"210.157577\" style=\"fill: #f7fbff\"/>\n    </g>\n    <g clip-path=\"url(#p04ae43a9f4)\">\n     <use xlink:href=\"#C1_0_b9ede3aae1\" x=\"6.521469\" y=\"198.276586\" style=\"fill: #f7fbff\"/>\n    </g>\n    <g clip-path=\"url(#p04ae43a9f4)\">\n     <use xlink:href=\"#C1_0_b9ede3aae1\" x=\"13.372379\" y=\"328.967495\" style=\"fill: #f7fbff\"/>\n    </g>\n    <g clip-path=\"url(#p04ae43a9f4)\">\n     <use xlink:href=\"#C1_0_b9ede3aae1\" x=\"13.372379\" y=\"317.086503\" style=\"fill: #f7fbff\"/>\n    </g>\n    <g clip-path=\"url(#p04ae43a9f4)\">\n     <use xlink:href=\"#C1_0_b9ede3aae1\" x=\"13.372379\" y=\"305.205511\" style=\"fill: #e8f1fa\"/>\n    </g>\n    <g clip-path=\"url(#p04ae43a9f4)\">\n     <use xlink:href=\"#C1_0_b9ede3aae1\" x=\"13.372379\" y=\"293.324519\" style=\"fill: #c1d9ed\"/>\n    </g>\n    <g clip-path=\"url(#p04ae43a9f4)\">\n     <use xlink:href=\"#C1_0_b9ede3aae1\" x=\"13.372379\" y=\"281.443528\" style=\"fill: #dceaf6\"/>\n    </g>\n    <g clip-path=\"url(#p04ae43a9f4)\">\n     <use xlink:href=\"#C1_0_b9ede3aae1\" x=\"13.372379\" y=\"269.562536\" style=\"fill: #dbe9f6\"/>\n    </g>\n    <g clip-path=\"url(#p04ae43a9f4)\">\n     <use xlink:href=\"#C1_0_b9ede3aae1\" x=\"13.372379\" y=\"257.681544\" style=\"fill: #f3f8fe\"/>\n    </g>\n    <g clip-path=\"url(#p04ae43a9f4)\">\n     <use xlink:href=\"#C1_0_b9ede3aae1\" x=\"13.372379\" y=\"245.800552\" style=\"fill: #f7fbff\"/>\n    </g>\n    <g clip-path=\"url(#p04ae43a9f4)\">\n     <use xlink:href=\"#C1_0_b9ede3aae1\" x=\"13.372379\" y=\"233.919561\" style=\"fill: #f7fbff\"/>\n    </g>\n    <g clip-path=\"url(#p04ae43a9f4)\">\n     <use xlink:href=\"#C1_0_b9ede3aae1\" x=\"13.372379\" y=\"222.038569\" style=\"fill: #f7fbff\"/>\n    </g>\n    <g clip-path=\"url(#p04ae43a9f4)\">\n     <use xlink:href=\"#C1_0_b9ede3aae1\" x=\"13.372379\" y=\"210.157577\" style=\"fill: #f7fbff\"/>\n    </g>\n    <g clip-path=\"url(#p04ae43a9f4)\">\n     <use xlink:href=\"#C1_0_b9ede3aae1\" x=\"13.372379\" y=\"198.276586\" style=\"fill: #f7fbff\"/>\n    </g>\n    <g clip-path=\"url(#p04ae43a9f4)\">\n     <use xlink:href=\"#C1_0_b9ede3aae1\" x=\"20.223288\" y=\"328.967495\" style=\"fill: #f7fbff\"/>\n    </g>\n    <g clip-path=\"url(#p04ae43a9f4)\">\n     <use xlink:href=\"#C1_0_b9ede3aae1\" x=\"20.223288\" y=\"317.086503\" style=\"fill: #f7fbff\"/>\n    </g>\n    <g clip-path=\"url(#p04ae43a9f4)\">\n     <use xlink:href=\"#C1_0_b9ede3aae1\" x=\"20.223288\" y=\"305.205511\" style=\"fill: #f3f8fe\"/>\n    </g>\n    <g clip-path=\"url(#p04ae43a9f4)\">\n     <use xlink:href=\"#C1_0_b9ede3aae1\" x=\"20.223288\" y=\"293.324519\" style=\"fill: #99c7e0\"/>\n    </g>\n    <g clip-path=\"url(#p04ae43a9f4)\">\n     <use xlink:href=\"#C1_0_b9ede3aae1\" x=\"20.223288\" y=\"281.443528\" style=\"fill: #f7fbff\"/>\n    </g>\n    <g clip-path=\"url(#p04ae43a9f4)\">\n     <use xlink:href=\"#C1_0_b9ede3aae1\" x=\"20.223288\" y=\"269.562536\" style=\"fill: #f7fbff\"/>\n    </g>\n    <g clip-path=\"url(#p04ae43a9f4)\">\n     <use xlink:href=\"#C1_0_b9ede3aae1\" x=\"20.223288\" y=\"257.681544\" style=\"fill: #f7fbff\"/>\n    </g>\n    <g clip-path=\"url(#p04ae43a9f4)\">\n     <use xlink:href=\"#C1_0_b9ede3aae1\" x=\"20.223288\" y=\"245.800552\" style=\"fill: #f7fbff\"/>\n    </g>\n    <g clip-path=\"url(#p04ae43a9f4)\">\n     <use xlink:href=\"#C1_0_b9ede3aae1\" x=\"20.223288\" y=\"233.919561\" style=\"fill: #f7fbff\"/>\n    </g>\n    <g clip-path=\"url(#p04ae43a9f4)\">\n     <use xlink:href=\"#C1_0_b9ede3aae1\" x=\"20.223288\" y=\"222.038569\" style=\"fill: #f7fbff\"/>\n    </g>\n    <g clip-path=\"url(#p04ae43a9f4)\">\n     <use xlink:href=\"#C1_0_b9ede3aae1\" x=\"20.223288\" y=\"210.157577\" style=\"fill: #f7fbff\"/>\n    </g>\n    <g clip-path=\"url(#p04ae43a9f4)\">\n     <use xlink:href=\"#C1_0_b9ede3aae1\" x=\"20.223288\" y=\"198.276586\" style=\"fill: #f7fbff\"/>\n    </g>\n    <g clip-path=\"url(#p04ae43a9f4)\">\n     <use xlink:href=\"#C1_0_b9ede3aae1\" x=\"27.074197\" y=\"328.967495\" style=\"fill: #f7fbff\"/>\n    </g>\n    <g clip-path=\"url(#p04ae43a9f4)\">\n     <use xlink:href=\"#C1_0_b9ede3aae1\" x=\"27.074197\" y=\"317.086503\" style=\"fill: #f7fbff\"/>\n    </g>\n    <g clip-path=\"url(#p04ae43a9f4)\">\n     <use xlink:href=\"#C1_0_b9ede3aae1\" x=\"27.074197\" y=\"305.205511\" style=\"fill: #f7fbff\"/>\n    </g>\n    <g clip-path=\"url(#p04ae43a9f4)\">\n     <use xlink:href=\"#C1_0_b9ede3aae1\" x=\"27.074197\" y=\"293.324519\" style=\"fill: #eef5fc\"/>\n    </g>\n    <g clip-path=\"url(#p04ae43a9f4)\">\n     <use xlink:href=\"#C1_0_b9ede3aae1\" x=\"27.074197\" y=\"281.443528\" style=\"fill: #f5fafe\"/>\n    </g>\n    <g clip-path=\"url(#p04ae43a9f4)\">\n     <use xlink:href=\"#C1_0_b9ede3aae1\" x=\"27.074197\" y=\"269.562536\" style=\"fill: #f7fbff\"/>\n    </g>\n    <g clip-path=\"url(#p04ae43a9f4)\">\n     <use xlink:href=\"#C1_0_b9ede3aae1\" x=\"27.074197\" y=\"257.681544\" style=\"fill: #f7fbff\"/>\n    </g>\n    <g clip-path=\"url(#p04ae43a9f4)\">\n     <use xlink:href=\"#C1_0_b9ede3aae1\" x=\"27.074197\" y=\"245.800552\" style=\"fill: #f7fbff\"/>\n    </g>\n    <g clip-path=\"url(#p04ae43a9f4)\">\n     <use xlink:href=\"#C1_0_b9ede3aae1\" x=\"27.074197\" y=\"233.919561\" style=\"fill: #f7fbff\"/>\n    </g>\n    <g clip-path=\"url(#p04ae43a9f4)\">\n     <use xlink:href=\"#C1_0_b9ede3aae1\" x=\"27.074197\" y=\"222.038569\" style=\"fill: #f7fbff\"/>\n    </g>\n    <g clip-path=\"url(#p04ae43a9f4)\">\n     <use xlink:href=\"#C1_0_b9ede3aae1\" x=\"27.074197\" y=\"210.157577\" style=\"fill: #f7fbff\"/>\n    </g>\n    <g clip-path=\"url(#p04ae43a9f4)\">\n     <use xlink:href=\"#C1_0_b9ede3aae1\" x=\"27.074197\" y=\"198.276586\" style=\"fill: #f7fbff\"/>\n    </g>\n    <g clip-path=\"url(#p04ae43a9f4)\">\n     <use xlink:href=\"#C1_0_b9ede3aae1\" x=\"33.925106\" y=\"328.967495\" style=\"fill: #f7fbff\"/>\n    </g>\n    <g clip-path=\"url(#p04ae43a9f4)\">\n     <use xlink:href=\"#C1_0_b9ede3aae1\" x=\"33.925106\" y=\"317.086503\" style=\"fill: #f7fbff\"/>\n    </g>\n    <g clip-path=\"url(#p04ae43a9f4)\">\n     <use xlink:href=\"#C1_0_b9ede3aae1\" x=\"33.925106\" y=\"305.205511\" style=\"fill: #f7fbff\"/>\n    </g>\n    <g clip-path=\"url(#p04ae43a9f4)\">\n     <use xlink:href=\"#C1_0_b9ede3aae1\" x=\"33.925106\" y=\"293.324519\" style=\"fill: #f7fbff\"/>\n    </g>\n    <g clip-path=\"url(#p04ae43a9f4)\">\n     <use xlink:href=\"#C1_0_b9ede3aae1\" x=\"33.925106\" y=\"281.443528\" style=\"fill: #f7fbff\"/>\n    </g>\n    <g clip-path=\"url(#p04ae43a9f4)\">\n     <use xlink:href=\"#C1_0_b9ede3aae1\" x=\"33.925106\" y=\"269.562536\" style=\"fill: #f7fbff\"/>\n    </g>\n    <g clip-path=\"url(#p04ae43a9f4)\">\n     <use xlink:href=\"#C1_0_b9ede3aae1\" x=\"33.925106\" y=\"257.681544\" style=\"fill: #f7fbff\"/>\n    </g>\n    <g clip-path=\"url(#p04ae43a9f4)\">\n     <use xlink:href=\"#C1_0_b9ede3aae1\" x=\"33.925106\" y=\"245.800552\" style=\"fill: #f7fbff\"/>\n    </g>\n    <g clip-path=\"url(#p04ae43a9f4)\">\n     <use xlink:href=\"#C1_0_b9ede3aae1\" x=\"33.925106\" y=\"233.919561\" style=\"fill: #f7fbff\"/>\n    </g>\n    <g clip-path=\"url(#p04ae43a9f4)\">\n     <use xlink:href=\"#C1_0_b9ede3aae1\" x=\"33.925106\" y=\"222.038569\" style=\"fill: #f7fbff\"/>\n    </g>\n    <g clip-path=\"url(#p04ae43a9f4)\">\n     <use xlink:href=\"#C1_0_b9ede3aae1\" x=\"33.925106\" y=\"210.157577\" style=\"fill: #f7fbff\"/>\n    </g>\n    <g clip-path=\"url(#p04ae43a9f4)\">\n     <use xlink:href=\"#C1_0_b9ede3aae1\" x=\"33.925106\" y=\"198.276586\" style=\"fill: #f7fbff\"/>\n    </g>\n    <g clip-path=\"url(#p04ae43a9f4)\">\n     <use xlink:href=\"#C1_0_b9ede3aae1\" x=\"40.776015\" y=\"328.967495\" style=\"fill: #f7fbff\"/>\n    </g>\n    <g clip-path=\"url(#p04ae43a9f4)\">\n     <use xlink:href=\"#C1_0_b9ede3aae1\" x=\"40.776015\" y=\"317.086503\" style=\"fill: #f7fbff\"/>\n    </g>\n    <g clip-path=\"url(#p04ae43a9f4)\">\n     <use xlink:href=\"#C1_0_b9ede3aae1\" x=\"40.776015\" y=\"305.205511\" style=\"fill: #f7fbff\"/>\n    </g>\n    <g clip-path=\"url(#p04ae43a9f4)\">\n     <use xlink:href=\"#C1_0_b9ede3aae1\" x=\"40.776015\" y=\"293.324519\" style=\"fill: #f7fbff\"/>\n    </g>\n    <g clip-path=\"url(#p04ae43a9f4)\">\n     <use xlink:href=\"#C1_0_b9ede3aae1\" x=\"40.776015\" y=\"281.443528\" style=\"fill: #eef5fc\"/>\n    </g>\n    <g clip-path=\"url(#p04ae43a9f4)\">\n     <use xlink:href=\"#C1_0_b9ede3aae1\" x=\"40.776015\" y=\"269.562536\" style=\"fill: #f5fafe\"/>\n    </g>\n    <g clip-path=\"url(#p04ae43a9f4)\">\n     <use xlink:href=\"#C1_0_b9ede3aae1\" x=\"40.776015\" y=\"257.681544\" style=\"fill: #f7fbff\"/>\n    </g>\n    <g clip-path=\"url(#p04ae43a9f4)\">\n     <use xlink:href=\"#C1_0_b9ede3aae1\" x=\"40.776015\" y=\"245.800552\" style=\"fill: #f7fbff\"/>\n    </g>\n    <g clip-path=\"url(#p04ae43a9f4)\">\n     <use xlink:href=\"#C1_0_b9ede3aae1\" x=\"40.776015\" y=\"233.919561\" style=\"fill: #f7fbff\"/>\n    </g>\n    <g clip-path=\"url(#p04ae43a9f4)\">\n     <use xlink:href=\"#C1_0_b9ede3aae1\" x=\"40.776015\" y=\"222.038569\" style=\"fill: #f7fbff\"/>\n    </g>\n    <g clip-path=\"url(#p04ae43a9f4)\">\n     <use xlink:href=\"#C1_0_b9ede3aae1\" x=\"40.776015\" y=\"210.157577\" style=\"fill: #f7fbff\"/>\n    </g>\n    <g clip-path=\"url(#p04ae43a9f4)\">\n     <use xlink:href=\"#C1_0_b9ede3aae1\" x=\"40.776015\" y=\"198.276586\" style=\"fill: #f7fbff\"/>\n    </g>\n    <g clip-path=\"url(#p04ae43a9f4)\">\n     <use xlink:href=\"#C1_0_b9ede3aae1\" x=\"47.626924\" y=\"328.967495\" style=\"fill: #f7fbff\"/>\n    </g>\n    <g clip-path=\"url(#p04ae43a9f4)\">\n     <use xlink:href=\"#C1_0_b9ede3aae1\" x=\"47.626924\" y=\"317.086503\" style=\"fill: #f7fbff\"/>\n    </g>\n    <g clip-path=\"url(#p04ae43a9f4)\">\n     <use xlink:href=\"#C1_0_b9ede3aae1\" x=\"47.626924\" y=\"305.205511\" style=\"fill: #f7fbff\"/>\n    </g>\n    <g clip-path=\"url(#p04ae43a9f4)\">\n     <use xlink:href=\"#C1_0_b9ede3aae1\" x=\"47.626924\" y=\"293.324519\" style=\"fill: #f7fbff\"/>\n    </g>\n    <g clip-path=\"url(#p04ae43a9f4)\">\n     <use xlink:href=\"#C1_0_b9ede3aae1\" x=\"47.626924\" y=\"281.443528\" style=\"fill: #d6e6f4\"/>\n    </g>\n    <g clip-path=\"url(#p04ae43a9f4)\">\n     <use xlink:href=\"#C1_0_b9ede3aae1\" x=\"47.626924\" y=\"269.562536\" style=\"fill: #dceaf6\"/>\n    </g>\n    <g clip-path=\"url(#p04ae43a9f4)\">\n     <use xlink:href=\"#C1_0_b9ede3aae1\" x=\"47.626924\" y=\"257.681544\" style=\"fill: #ecf4fb\"/>\n    </g>\n    <g clip-path=\"url(#p04ae43a9f4)\">\n     <use xlink:href=\"#C1_0_b9ede3aae1\" x=\"47.626924\" y=\"245.800552\" style=\"fill: #ecf4fb\"/>\n    </g>\n    <g clip-path=\"url(#p04ae43a9f4)\">\n     <use xlink:href=\"#C1_0_b9ede3aae1\" x=\"47.626924\" y=\"233.919561\" style=\"fill: #f7fbff\"/>\n    </g>\n    <g clip-path=\"url(#p04ae43a9f4)\">\n     <use xlink:href=\"#C1_0_b9ede3aae1\" x=\"47.626924\" y=\"222.038569\" style=\"fill: #f7fbff\"/>\n    </g>\n    <g clip-path=\"url(#p04ae43a9f4)\">\n     <use xlink:href=\"#C1_0_b9ede3aae1\" x=\"47.626924\" y=\"210.157577\" style=\"fill: #f7fbff\"/>\n    </g>\n    <g clip-path=\"url(#p04ae43a9f4)\">\n     <use xlink:href=\"#C1_0_b9ede3aae1\" x=\"47.626924\" y=\"198.276586\" style=\"fill: #f7fbff\"/>\n    </g>\n    <g clip-path=\"url(#p04ae43a9f4)\">\n     <use xlink:href=\"#C1_0_b9ede3aae1\" x=\"54.477833\" y=\"328.967495\" style=\"fill: #f7fbff\"/>\n    </g>\n    <g clip-path=\"url(#p04ae43a9f4)\">\n     <use xlink:href=\"#C1_0_b9ede3aae1\" x=\"54.477833\" y=\"317.086503\" style=\"fill: #f7fbff\"/>\n    </g>\n    <g clip-path=\"url(#p04ae43a9f4)\">\n     <use xlink:href=\"#C1_0_b9ede3aae1\" x=\"54.477833\" y=\"305.205511\" style=\"fill: #f7fbff\"/>\n    </g>\n    <g clip-path=\"url(#p04ae43a9f4)\">\n     <use xlink:href=\"#C1_0_b9ede3aae1\" x=\"54.477833\" y=\"293.324519\" style=\"fill: #dbe9f6\"/>\n    </g>\n    <g clip-path=\"url(#p04ae43a9f4)\">\n     <use xlink:href=\"#C1_0_b9ede3aae1\" x=\"54.477833\" y=\"281.443528\" style=\"fill: #afd1e7\"/>\n    </g>\n    <g clip-path=\"url(#p04ae43a9f4)\">\n     <use xlink:href=\"#C1_0_b9ede3aae1\" x=\"54.477833\" y=\"269.562536\" style=\"fill: #c7dcef\"/>\n    </g>\n    <g clip-path=\"url(#p04ae43a9f4)\">\n     <use xlink:href=\"#C1_0_b9ede3aae1\" x=\"54.477833\" y=\"257.681544\" style=\"fill: #a8cee4\"/>\n    </g>\n    <g clip-path=\"url(#p04ae43a9f4)\">\n     <use xlink:href=\"#C1_0_b9ede3aae1\" x=\"54.477833\" y=\"245.800552\" style=\"fill: #afd1e7\"/>\n    </g>\n    <g clip-path=\"url(#p04ae43a9f4)\">\n     <use xlink:href=\"#C1_0_b9ede3aae1\" x=\"54.477833\" y=\"233.919561\" style=\"fill: #f7fbff\"/>\n    </g>\n    <g clip-path=\"url(#p04ae43a9f4)\">\n     <use xlink:href=\"#C1_0_b9ede3aae1\" x=\"54.477833\" y=\"222.038569\" style=\"fill: #f7fbff\"/>\n    </g>\n    <g clip-path=\"url(#p04ae43a9f4)\">\n     <use xlink:href=\"#C1_0_b9ede3aae1\" x=\"54.477833\" y=\"210.157577\" style=\"fill: #f7fbff\"/>\n    </g>\n    <g clip-path=\"url(#p04ae43a9f4)\">\n     <use xlink:href=\"#C1_0_b9ede3aae1\" x=\"54.477833\" y=\"198.276586\" style=\"fill: #f7fbff\"/>\n    </g>\n    <g clip-path=\"url(#p04ae43a9f4)\">\n     <use xlink:href=\"#C1_0_b9ede3aae1\" x=\"61.328742\" y=\"328.967495\" style=\"fill: #f7fbff\"/>\n    </g>\n    <g clip-path=\"url(#p04ae43a9f4)\">\n     <use xlink:href=\"#C1_0_b9ede3aae1\" x=\"61.328742\" y=\"317.086503\" style=\"fill: #f7fbff\"/>\n    </g>\n    <g clip-path=\"url(#p04ae43a9f4)\">\n     <use xlink:href=\"#C1_0_b9ede3aae1\" x=\"61.328742\" y=\"305.205511\" style=\"fill: #f7fbff\"/>\n    </g>\n    <g clip-path=\"url(#p04ae43a9f4)\">\n     <use xlink:href=\"#C1_0_b9ede3aae1\" x=\"61.328742\" y=\"293.324519\" style=\"fill: #abd0e6\"/>\n    </g>\n    <g clip-path=\"url(#p04ae43a9f4)\">\n     <use xlink:href=\"#C1_0_b9ede3aae1\" x=\"61.328742\" y=\"281.443528\" style=\"fill: #82bbdb\"/>\n    </g>\n    <g clip-path=\"url(#p04ae43a9f4)\">\n     <use xlink:href=\"#C1_0_b9ede3aae1\" x=\"61.328742\" y=\"269.562536\" style=\"fill: #9dcae1\"/>\n    </g>\n    <g clip-path=\"url(#p04ae43a9f4)\">\n     <use xlink:href=\"#C1_0_b9ede3aae1\" x=\"61.328742\" y=\"257.681544\" style=\"fill: #dbe9f6\"/>\n    </g>\n    <g clip-path=\"url(#p04ae43a9f4)\">\n     <use xlink:href=\"#C1_0_b9ede3aae1\" x=\"61.328742\" y=\"245.800552\" style=\"fill: #d6e6f4\"/>\n    </g>\n    <g clip-path=\"url(#p04ae43a9f4)\">\n     <use xlink:href=\"#C1_0_b9ede3aae1\" x=\"61.328742\" y=\"233.919561\" style=\"fill: #f7fbff\"/>\n    </g>\n    <g clip-path=\"url(#p04ae43a9f4)\">\n     <use xlink:href=\"#C1_0_b9ede3aae1\" x=\"61.328742\" y=\"222.038569\" style=\"fill: #f7fbff\"/>\n    </g>\n    <g clip-path=\"url(#p04ae43a9f4)\">\n     <use xlink:href=\"#C1_0_b9ede3aae1\" x=\"61.328742\" y=\"210.157577\" style=\"fill: #f7fbff\"/>\n    </g>\n    <g clip-path=\"url(#p04ae43a9f4)\">\n     <use xlink:href=\"#C1_0_b9ede3aae1\" x=\"61.328742\" y=\"198.276586\" style=\"fill: #f7fbff\"/>\n    </g>\n    <g clip-path=\"url(#p04ae43a9f4)\">\n     <use xlink:href=\"#C1_0_b9ede3aae1\" x=\"68.179651\" y=\"328.967495\" style=\"fill: #f7fbff\"/>\n    </g>\n    <g clip-path=\"url(#p04ae43a9f4)\">\n     <use xlink:href=\"#C1_0_b9ede3aae1\" x=\"68.179651\" y=\"317.086503\" style=\"fill: #f7fbff\"/>\n    </g>\n    <g clip-path=\"url(#p04ae43a9f4)\">\n     <use xlink:href=\"#C1_0_b9ede3aae1\" x=\"68.179651\" y=\"305.205511\" style=\"fill: #e8f1fa\"/>\n    </g>\n    <g clip-path=\"url(#p04ae43a9f4)\">\n     <use xlink:href=\"#C1_0_b9ede3aae1\" x=\"68.179651\" y=\"293.324519\" style=\"fill: #a8cee4\"/>\n    </g>\n    <g clip-path=\"url(#p04ae43a9f4)\">\n     <use xlink:href=\"#C1_0_b9ede3aae1\" x=\"68.179651\" y=\"281.443528\" style=\"fill: #9dcae1\"/>\n    </g>\n    <g clip-path=\"url(#p04ae43a9f4)\">\n     <use xlink:href=\"#C1_0_b9ede3aae1\" x=\"68.179651\" y=\"269.562536\" style=\"fill: #bad6eb\"/>\n    </g>\n    <g clip-path=\"url(#p04ae43a9f4)\">\n     <use xlink:href=\"#C1_0_b9ede3aae1\" x=\"68.179651\" y=\"257.681544\" style=\"fill: #c4daee\"/>\n    </g>\n    <g clip-path=\"url(#p04ae43a9f4)\">\n     <use xlink:href=\"#C1_0_b9ede3aae1\" x=\"68.179651\" y=\"245.800552\" style=\"fill: #f7fbff\"/>\n    </g>\n    <g clip-path=\"url(#p04ae43a9f4)\">\n     <use xlink:href=\"#C1_0_b9ede3aae1\" x=\"68.179651\" y=\"233.919561\" style=\"fill: #f7fbff\"/>\n    </g>\n    <g clip-path=\"url(#p04ae43a9f4)\">\n     <use xlink:href=\"#C1_0_b9ede3aae1\" x=\"68.179651\" y=\"222.038569\" style=\"fill: #f7fbff\"/>\n    </g>\n    <g clip-path=\"url(#p04ae43a9f4)\">\n     <use xlink:href=\"#C1_0_b9ede3aae1\" x=\"68.179651\" y=\"210.157577\" style=\"fill: #f7fbff\"/>\n    </g>\n    <g clip-path=\"url(#p04ae43a9f4)\">\n     <use xlink:href=\"#C1_0_b9ede3aae1\" x=\"68.179651\" y=\"198.276586\" style=\"fill: #f7fbff\"/>\n    </g>\n    <g clip-path=\"url(#p04ae43a9f4)\">\n     <use xlink:href=\"#C1_0_b9ede3aae1\" x=\"75.03056\" y=\"328.967495\" style=\"fill: #f7fbff\"/>\n    </g>\n    <g clip-path=\"url(#p04ae43a9f4)\">\n     <use xlink:href=\"#C1_0_b9ede3aae1\" x=\"75.03056\" y=\"317.086503\" style=\"fill: #f7fbff\"/>\n    </g>\n    <g clip-path=\"url(#p04ae43a9f4)\">\n     <use xlink:href=\"#C1_0_b9ede3aae1\" x=\"75.03056\" y=\"305.205511\" style=\"fill: #dceaf6\"/>\n    </g>\n    <g clip-path=\"url(#p04ae43a9f4)\">\n     <use xlink:href=\"#C1_0_b9ede3aae1\" x=\"75.03056\" y=\"293.324519\" style=\"fill: #94c4df\"/>\n    </g>\n    <g clip-path=\"url(#p04ae43a9f4)\">\n     <use xlink:href=\"#C1_0_b9ede3aae1\" x=\"75.03056\" y=\"281.443528\" style=\"fill: #ccdff1\"/>\n    </g>\n    <g clip-path=\"url(#p04ae43a9f4)\">\n     <use xlink:href=\"#C1_0_b9ede3aae1\" x=\"75.03056\" y=\"269.562536\" style=\"fill: #bad6eb\"/>\n    </g>\n    <g clip-path=\"url(#p04ae43a9f4)\">\n     <use xlink:href=\"#C1_0_b9ede3aae1\" x=\"75.03056\" y=\"257.681544\" style=\"fill: #dceaf6\"/>\n    </g>\n    <g clip-path=\"url(#p04ae43a9f4)\">\n     <use xlink:href=\"#C1_0_b9ede3aae1\" x=\"75.03056\" y=\"245.800552\" style=\"fill: #f7fbff\"/>\n    </g>\n    <g clip-path=\"url(#p04ae43a9f4)\">\n     <use xlink:href=\"#C1_0_b9ede3aae1\" x=\"75.03056\" y=\"233.919561\" style=\"fill: #f7fbff\"/>\n    </g>\n    <g clip-path=\"url(#p04ae43a9f4)\">\n     <use xlink:href=\"#C1_0_b9ede3aae1\" x=\"75.03056\" y=\"222.038569\" style=\"fill: #f7fbff\"/>\n    </g>\n    <g clip-path=\"url(#p04ae43a9f4)\">\n     <use xlink:href=\"#C1_0_b9ede3aae1\" x=\"75.03056\" y=\"210.157577\" style=\"fill: #f7fbff\"/>\n    </g>\n    <g clip-path=\"url(#p04ae43a9f4)\">\n     <use xlink:href=\"#C1_0_b9ede3aae1\" x=\"75.03056\" y=\"198.276586\" style=\"fill: #f7fbff\"/>\n    </g>\n    <g clip-path=\"url(#p04ae43a9f4)\">\n     <use xlink:href=\"#C1_0_b9ede3aae1\" x=\"81.881469\" y=\"328.967495\" style=\"fill: #f7fbff\"/>\n    </g>\n    <g clip-path=\"url(#p04ae43a9f4)\">\n     <use xlink:href=\"#C1_0_b9ede3aae1\" x=\"81.881469\" y=\"317.086503\" style=\"fill: #f7fbff\"/>\n    </g>\n    <g clip-path=\"url(#p04ae43a9f4)\">\n     <use xlink:href=\"#C1_0_b9ede3aae1\" x=\"81.881469\" y=\"305.205511\" style=\"fill: #f7fbff\"/>\n    </g>\n    <g clip-path=\"url(#p04ae43a9f4)\">\n     <use xlink:href=\"#C1_0_b9ede3aae1\" x=\"81.881469\" y=\"293.324519\" style=\"fill: #eaf2fb\"/>\n    </g>\n    <g clip-path=\"url(#p04ae43a9f4)\">\n     <use xlink:href=\"#C1_0_b9ede3aae1\" x=\"81.881469\" y=\"281.443528\" style=\"fill: #e8f1fa\"/>\n    </g>\n    <g clip-path=\"url(#p04ae43a9f4)\">\n     <use xlink:href=\"#C1_0_b9ede3aae1\" x=\"81.881469\" y=\"269.562536\" style=\"fill: #eaf2fb\"/>\n    </g>\n    <g clip-path=\"url(#p04ae43a9f4)\">\n     <use xlink:href=\"#C1_0_b9ede3aae1\" x=\"81.881469\" y=\"257.681544\" style=\"fill: #eaf2fb\"/>\n    </g>\n    <g clip-path=\"url(#p04ae43a9f4)\">\n     <use xlink:href=\"#C1_0_b9ede3aae1\" x=\"81.881469\" y=\"245.800552\" style=\"fill: #f7fbff\"/>\n    </g>\n    <g clip-path=\"url(#p04ae43a9f4)\">\n     <use xlink:href=\"#C1_0_b9ede3aae1\" x=\"81.881469\" y=\"233.919561\" style=\"fill: #f7fbff\"/>\n    </g>\n    <g clip-path=\"url(#p04ae43a9f4)\">\n     <use xlink:href=\"#C1_0_b9ede3aae1\" x=\"81.881469\" y=\"222.038569\" style=\"fill: #f7fbff\"/>\n    </g>\n    <g clip-path=\"url(#p04ae43a9f4)\">\n     <use xlink:href=\"#C1_0_b9ede3aae1\" x=\"81.881469\" y=\"210.157577\" style=\"fill: #f7fbff\"/>\n    </g>\n    <g clip-path=\"url(#p04ae43a9f4)\">\n     <use xlink:href=\"#C1_0_b9ede3aae1\" x=\"81.881469\" y=\"198.276586\" style=\"fill: #f7fbff\"/>\n    </g>\n    <g clip-path=\"url(#p04ae43a9f4)\">\n     <use xlink:href=\"#C1_0_b9ede3aae1\" x=\"-51.711258\" y=\"323.026999\" style=\"fill: #f7fbff\"/>\n    </g>\n    <g clip-path=\"url(#p04ae43a9f4)\">\n     <use xlink:href=\"#C1_0_b9ede3aae1\" x=\"-51.711258\" y=\"311.146007\" style=\"fill: #f7fbff\"/>\n    </g>\n    <g clip-path=\"url(#p04ae43a9f4)\">\n     <use xlink:href=\"#C1_0_b9ede3aae1\" x=\"-51.711258\" y=\"299.265015\" style=\"fill: #f7fbff\"/>\n    </g>\n    <g clip-path=\"url(#p04ae43a9f4)\">\n     <use xlink:href=\"#C1_0_b9ede3aae1\" x=\"-51.711258\" y=\"287.384024\" style=\"fill: #f5fafe\"/>\n    </g>\n    <g clip-path=\"url(#p04ae43a9f4)\">\n     <use xlink:href=\"#C1_0_b9ede3aae1\" x=\"-51.711258\" y=\"275.503032\" style=\"fill: #ecf4fb\"/>\n    </g>\n    <g clip-path=\"url(#p04ae43a9f4)\">\n     <use xlink:href=\"#C1_0_b9ede3aae1\" x=\"-51.711258\" y=\"263.62204\" style=\"fill: #eaf2fb\"/>\n    </g>\n    <g clip-path=\"url(#p04ae43a9f4)\">\n     <use xlink:href=\"#C1_0_b9ede3aae1\" x=\"-51.711258\" y=\"251.741048\" style=\"fill: #e6f0f9\"/>\n    </g>\n    <g clip-path=\"url(#p04ae43a9f4)\">\n     <use xlink:href=\"#C1_0_b9ede3aae1\" x=\"-51.711258\" y=\"239.860057\" style=\"fill: #f7fbff\"/>\n    </g>\n    <g clip-path=\"url(#p04ae43a9f4)\">\n     <use xlink:href=\"#C1_0_b9ede3aae1\" x=\"-51.711258\" y=\"227.979065\" style=\"fill: #f7fbff\"/>\n    </g>\n    <g clip-path=\"url(#p04ae43a9f4)\">\n     <use xlink:href=\"#C1_0_b9ede3aae1\" x=\"-51.711258\" y=\"216.098073\" style=\"fill: #f7fbff\"/>\n    </g>\n    <g clip-path=\"url(#p04ae43a9f4)\">\n     <use xlink:href=\"#C1_0_b9ede3aae1\" x=\"-51.711258\" y=\"204.217081\" style=\"fill: #f7fbff\"/>\n    </g>\n    <g clip-path=\"url(#p04ae43a9f4)\">\n     <use xlink:href=\"#C1_0_b9ede3aae1\" x=\"-44.860349\" y=\"323.026999\" style=\"fill: #f7fbff\"/>\n    </g>\n    <g clip-path=\"url(#p04ae43a9f4)\">\n     <use xlink:href=\"#C1_0_b9ede3aae1\" x=\"-44.860349\" y=\"311.146007\" style=\"fill: #f7fbff\"/>\n    </g>\n    <g clip-path=\"url(#p04ae43a9f4)\">\n     <use xlink:href=\"#C1_0_b9ede3aae1\" x=\"-44.860349\" y=\"299.265015\" style=\"fill: #d6e6f4\"/>\n    </g>\n    <g clip-path=\"url(#p04ae43a9f4)\">\n     <use xlink:href=\"#C1_0_b9ede3aae1\" x=\"-44.860349\" y=\"287.384024\" style=\"fill: #87bddc\"/>\n    </g>\n    <g clip-path=\"url(#p04ae43a9f4)\">\n     <use xlink:href=\"#C1_0_b9ede3aae1\" x=\"-44.860349\" y=\"275.503032\" style=\"fill: #d2e3f3\"/>\n    </g>\n    <g clip-path=\"url(#p04ae43a9f4)\">\n     <use xlink:href=\"#C1_0_b9ede3aae1\" x=\"-44.860349\" y=\"263.62204\" style=\"fill: #e3eef9\"/>\n    </g>\n    <g clip-path=\"url(#p04ae43a9f4)\">\n     <use xlink:href=\"#C1_0_b9ede3aae1\" x=\"-44.860349\" y=\"251.741048\" style=\"fill: #eaf2fb\"/>\n    </g>\n    <g clip-path=\"url(#p04ae43a9f4)\">\n     <use xlink:href=\"#C1_0_b9ede3aae1\" x=\"-44.860349\" y=\"239.860057\" style=\"fill: #f7fbff\"/>\n    </g>\n    <g clip-path=\"url(#p04ae43a9f4)\">\n     <use xlink:href=\"#C1_0_b9ede3aae1\" x=\"-44.860349\" y=\"227.979065\" style=\"fill: #f7fbff\"/>\n    </g>\n    <g clip-path=\"url(#p04ae43a9f4)\">\n     <use xlink:href=\"#C1_0_b9ede3aae1\" x=\"-44.860349\" y=\"216.098073\" style=\"fill: #f7fbff\"/>\n    </g>\n    <g clip-path=\"url(#p04ae43a9f4)\">\n     <use xlink:href=\"#C1_0_b9ede3aae1\" x=\"-44.860349\" y=\"204.217081\" style=\"fill: #f7fbff\"/>\n    </g>\n    <g clip-path=\"url(#p04ae43a9f4)\">\n     <use xlink:href=\"#C1_0_b9ede3aae1\" x=\"-38.00944\" y=\"323.026999\" style=\"fill: #f7fbff\"/>\n    </g>\n    <g clip-path=\"url(#p04ae43a9f4)\">\n     <use xlink:href=\"#C1_0_b9ede3aae1\" x=\"-38.00944\" y=\"311.146007\" style=\"fill: #e8f1fa\"/>\n    </g>\n    <g clip-path=\"url(#p04ae43a9f4)\">\n     <use xlink:href=\"#C1_0_b9ede3aae1\" x=\"-38.00944\" y=\"299.265015\" style=\"fill: #7db8da\"/>\n    </g>\n    <g clip-path=\"url(#p04ae43a9f4)\">\n     <use xlink:href=\"#C1_0_b9ede3aae1\" x=\"-38.00944\" y=\"287.384024\" style=\"fill: #6aaed6\"/>\n    </g>\n    <g clip-path=\"url(#p04ae43a9f4)\">\n     <use xlink:href=\"#C1_0_b9ede3aae1\" x=\"-38.00944\" y=\"275.503032\" style=\"fill: #60a7d2\"/>\n    </g>\n    <g clip-path=\"url(#p04ae43a9f4)\">\n     <use xlink:href=\"#C1_0_b9ede3aae1\" x=\"-38.00944\" y=\"263.62204\" style=\"fill: #a8cee4\"/>\n    </g>\n    <g clip-path=\"url(#p04ae43a9f4)\">\n     <use xlink:href=\"#C1_0_b9ede3aae1\" x=\"-38.00944\" y=\"251.741048\" style=\"fill: #e6f0f9\"/>\n    </g>\n    <g clip-path=\"url(#p04ae43a9f4)\">\n     <use xlink:href=\"#C1_0_b9ede3aae1\" x=\"-38.00944\" y=\"239.860057\" style=\"fill: #ecf4fb\"/>\n    </g>\n    <g clip-path=\"url(#p04ae43a9f4)\">\n     <use xlink:href=\"#C1_0_b9ede3aae1\" x=\"-38.00944\" y=\"227.979065\" style=\"fill: #f7fbff\"/>\n    </g>\n    <g clip-path=\"url(#p04ae43a9f4)\">\n     <use xlink:href=\"#C1_0_b9ede3aae1\" x=\"-38.00944\" y=\"216.098073\" style=\"fill: #f7fbff\"/>\n    </g>\n    <g clip-path=\"url(#p04ae43a9f4)\">\n     <use xlink:href=\"#C1_0_b9ede3aae1\" x=\"-38.00944\" y=\"204.217081\" style=\"fill: #f7fbff\"/>\n    </g>\n    <g clip-path=\"url(#p04ae43a9f4)\">\n     <use xlink:href=\"#C1_0_b9ede3aae1\" x=\"-31.158531\" y=\"323.026999\" style=\"fill: #f7fbff\"/>\n    </g>\n    <g clip-path=\"url(#p04ae43a9f4)\">\n     <use xlink:href=\"#C1_0_b9ede3aae1\" x=\"-31.158531\" y=\"311.146007\" style=\"fill: #c4daee\"/>\n    </g>\n    <g clip-path=\"url(#p04ae43a9f4)\">\n     <use xlink:href=\"#C1_0_b9ede3aae1\" x=\"-31.158531\" y=\"299.265015\" style=\"fill: #7db8da\"/>\n    </g>\n    <g clip-path=\"url(#p04ae43a9f4)\">\n     <use xlink:href=\"#C1_0_b9ede3aae1\" x=\"-31.158531\" y=\"287.384024\" style=\"fill: #08306b\"/>\n    </g>\n    <g clip-path=\"url(#p04ae43a9f4)\">\n     <use xlink:href=\"#C1_0_b9ede3aae1\" x=\"-31.158531\" y=\"275.503032\" style=\"fill: #60a7d2\"/>\n    </g>\n    <g clip-path=\"url(#p04ae43a9f4)\">\n     <use xlink:href=\"#C1_0_b9ede3aae1\" x=\"-31.158531\" y=\"263.62204\" style=\"fill: #a4cce3\"/>\n    </g>\n    <g clip-path=\"url(#p04ae43a9f4)\">\n     <use xlink:href=\"#C1_0_b9ede3aae1\" x=\"-31.158531\" y=\"251.741048\" style=\"fill: #d2e3f3\"/>\n    </g>\n    <g clip-path=\"url(#p04ae43a9f4)\">\n     <use xlink:href=\"#C1_0_b9ede3aae1\" x=\"-31.158531\" y=\"239.860057\" style=\"fill: #dbe9f6\"/>\n    </g>\n    <g clip-path=\"url(#p04ae43a9f4)\">\n     <use xlink:href=\"#C1_0_b9ede3aae1\" x=\"-31.158531\" y=\"227.979065\" style=\"fill: #f7fbff\"/>\n    </g>\n    <g clip-path=\"url(#p04ae43a9f4)\">\n     <use xlink:href=\"#C1_0_b9ede3aae1\" x=\"-31.158531\" y=\"216.098073\" style=\"fill: #ecf4fb\"/>\n    </g>\n    <g clip-path=\"url(#p04ae43a9f4)\">\n     <use xlink:href=\"#C1_0_b9ede3aae1\" x=\"-31.158531\" y=\"204.217081\" style=\"fill: #f7fbff\"/>\n    </g>\n    <g clip-path=\"url(#p04ae43a9f4)\">\n     <use xlink:href=\"#C1_0_b9ede3aae1\" x=\"-24.307621\" y=\"323.026999\" style=\"fill: #f1f7fd\"/>\n    </g>\n    <g clip-path=\"url(#p04ae43a9f4)\">\n     <use xlink:href=\"#C1_0_b9ede3aae1\" x=\"-24.307621\" y=\"311.146007\" style=\"fill: #a4cce3\"/>\n    </g>\n    <g clip-path=\"url(#p04ae43a9f4)\">\n     <use xlink:href=\"#C1_0_b9ede3aae1\" x=\"-24.307621\" y=\"299.265015\" style=\"fill: #2b7bba\"/>\n    </g>\n    <g clip-path=\"url(#p04ae43a9f4)\">\n     <use xlink:href=\"#C1_0_b9ede3aae1\" x=\"-24.307621\" y=\"287.384024\" style=\"fill: #206fb4\"/>\n    </g>\n    <g clip-path=\"url(#p04ae43a9f4)\">\n     <use xlink:href=\"#C1_0_b9ede3aae1\" x=\"-24.307621\" y=\"275.503032\" style=\"fill: #6fb0d7\"/>\n    </g>\n    <g clip-path=\"url(#p04ae43a9f4)\">\n     <use xlink:href=\"#C1_0_b9ede3aae1\" x=\"-24.307621\" y=\"263.62204\" style=\"fill: #c4daee\"/>\n    </g>\n    <g clip-path=\"url(#p04ae43a9f4)\">\n     <use xlink:href=\"#C1_0_b9ede3aae1\" x=\"-24.307621\" y=\"251.741048\" style=\"fill: #d9e7f5\"/>\n    </g>\n    <g clip-path=\"url(#p04ae43a9f4)\">\n     <use xlink:href=\"#C1_0_b9ede3aae1\" x=\"-24.307621\" y=\"239.860057\" style=\"fill: #e8f1fa\"/>\n    </g>\n    <g clip-path=\"url(#p04ae43a9f4)\">\n     <use xlink:href=\"#C1_0_b9ede3aae1\" x=\"-24.307621\" y=\"227.979065\" style=\"fill: #f5fafe\"/>\n    </g>\n    <g clip-path=\"url(#p04ae43a9f4)\">\n     <use xlink:href=\"#C1_0_b9ede3aae1\" x=\"-24.307621\" y=\"216.098073\" style=\"fill: #d2e3f3\"/>\n    </g>\n    <g clip-path=\"url(#p04ae43a9f4)\">\n     <use xlink:href=\"#C1_0_b9ede3aae1\" x=\"-24.307621\" y=\"204.217081\" style=\"fill: #e6f0f9\"/>\n    </g>\n    <g clip-path=\"url(#p04ae43a9f4)\">\n     <use xlink:href=\"#C1_0_b9ede3aae1\" x=\"-17.456712\" y=\"323.026999\" style=\"fill: #f3f8fe\"/>\n    </g>\n    <g clip-path=\"url(#p04ae43a9f4)\">\n     <use xlink:href=\"#C1_0_b9ede3aae1\" x=\"-17.456712\" y=\"311.146007\" style=\"fill: #58a1cf\"/>\n    </g>\n    <g clip-path=\"url(#p04ae43a9f4)\">\n     <use xlink:href=\"#C1_0_b9ede3aae1\" x=\"-17.456712\" y=\"299.265015\" style=\"fill: #4e9acb\"/>\n    </g>\n    <g clip-path=\"url(#p04ae43a9f4)\">\n     <use xlink:href=\"#C1_0_b9ede3aae1\" x=\"-17.456712\" y=\"287.384024\" style=\"fill: #74b3d8\"/>\n    </g>\n    <g clip-path=\"url(#p04ae43a9f4)\">\n     <use xlink:href=\"#C1_0_b9ede3aae1\" x=\"-17.456712\" y=\"275.503032\" style=\"fill: #60a7d2\"/>\n    </g>\n    <g clip-path=\"url(#p04ae43a9f4)\">\n     <use xlink:href=\"#C1_0_b9ede3aae1\" x=\"-17.456712\" y=\"263.62204\" style=\"fill: #afd1e7\"/>\n    </g>\n    <g clip-path=\"url(#p04ae43a9f4)\">\n     <use xlink:href=\"#C1_0_b9ede3aae1\" x=\"-17.456712\" y=\"251.741048\" style=\"fill: #d2e3f3\"/>\n    </g>\n    <g clip-path=\"url(#p04ae43a9f4)\">\n     <use xlink:href=\"#C1_0_b9ede3aae1\" x=\"-17.456712\" y=\"239.860057\" style=\"fill: #e6f0f9\"/>\n    </g>\n    <g clip-path=\"url(#p04ae43a9f4)\">\n     <use xlink:href=\"#C1_0_b9ede3aae1\" x=\"-17.456712\" y=\"227.979065\" style=\"fill: #ecf4fb\"/>\n    </g>\n    <g clip-path=\"url(#p04ae43a9f4)\">\n     <use xlink:href=\"#C1_0_b9ede3aae1\" x=\"-17.456712\" y=\"216.098073\" style=\"fill: #c7dcef\"/>\n    </g>\n    <g clip-path=\"url(#p04ae43a9f4)\">\n     <use xlink:href=\"#C1_0_b9ede3aae1\" x=\"-17.456712\" y=\"204.217081\" style=\"fill: #abd0e6\"/>\n    </g>\n    <g clip-path=\"url(#p04ae43a9f4)\">\n     <use xlink:href=\"#C1_0_b9ede3aae1\" x=\"-10.605803\" y=\"323.026999\" style=\"fill: #f7fbff\"/>\n    </g>\n    <g clip-path=\"url(#p04ae43a9f4)\">\n     <use xlink:href=\"#C1_0_b9ede3aae1\" x=\"-10.605803\" y=\"311.146007\" style=\"fill: #c4daee\"/>\n    </g>\n    <g clip-path=\"url(#p04ae43a9f4)\">\n     <use xlink:href=\"#C1_0_b9ede3aae1\" x=\"-10.605803\" y=\"299.265015\" style=\"fill: #2e7ebc\"/>\n    </g>\n    <g clip-path=\"url(#p04ae43a9f4)\">\n     <use xlink:href=\"#C1_0_b9ede3aae1\" x=\"-10.605803\" y=\"287.384024\" style=\"fill: #58a1cf\"/>\n    </g>\n    <g clip-path=\"url(#p04ae43a9f4)\">\n     <use xlink:href=\"#C1_0_b9ede3aae1\" x=\"-10.605803\" y=\"275.503032\" style=\"fill: #79b5d9\"/>\n    </g>\n    <g clip-path=\"url(#p04ae43a9f4)\">\n     <use xlink:href=\"#C1_0_b9ede3aae1\" x=\"-10.605803\" y=\"263.62204\" style=\"fill: #8abfdd\"/>\n    </g>\n    <g clip-path=\"url(#p04ae43a9f4)\">\n     <use xlink:href=\"#C1_0_b9ede3aae1\" x=\"-10.605803\" y=\"251.741048\" style=\"fill: #afd1e7\"/>\n    </g>\n    <g clip-path=\"url(#p04ae43a9f4)\">\n     <use xlink:href=\"#C1_0_b9ede3aae1\" x=\"-10.605803\" y=\"239.860057\" style=\"fill: #dfebf7\"/>\n    </g>\n    <g clip-path=\"url(#p04ae43a9f4)\">\n     <use xlink:href=\"#C1_0_b9ede3aae1\" x=\"-10.605803\" y=\"227.979065\" style=\"fill: #e1edf8\"/>\n    </g>\n    <g clip-path=\"url(#p04ae43a9f4)\">\n     <use xlink:href=\"#C1_0_b9ede3aae1\" x=\"-10.605803\" y=\"216.098073\" style=\"fill: #a4cce3\"/>\n    </g>\n    <g clip-path=\"url(#p04ae43a9f4)\">\n     <use xlink:href=\"#C1_0_b9ede3aae1\" x=\"-10.605803\" y=\"204.217081\" style=\"fill: #d0e1f2\"/>\n    </g>\n    <g clip-path=\"url(#p04ae43a9f4)\">\n     <use xlink:href=\"#C1_0_b9ede3aae1\" x=\"-3.754894\" y=\"323.026999\" style=\"fill: #eef5fc\"/>\n    </g>\n    <g clip-path=\"url(#p04ae43a9f4)\">\n     <use xlink:href=\"#C1_0_b9ede3aae1\" x=\"-3.754894\" y=\"311.146007\" style=\"fill: #e8f1fa\"/>\n    </g>\n    <g clip-path=\"url(#p04ae43a9f4)\">\n     <use xlink:href=\"#C1_0_b9ede3aae1\" x=\"-3.754894\" y=\"299.265015\" style=\"fill: #d6e6f4\"/>\n    </g>\n    <g clip-path=\"url(#p04ae43a9f4)\">\n     <use xlink:href=\"#C1_0_b9ede3aae1\" x=\"-3.754894\" y=\"287.384024\" style=\"fill: #549fcd\"/>\n    </g>\n    <g clip-path=\"url(#p04ae43a9f4)\">\n     <use xlink:href=\"#C1_0_b9ede3aae1\" x=\"-3.754894\" y=\"275.503032\" style=\"fill: #94c4df\"/>\n    </g>\n    <g clip-path=\"url(#p04ae43a9f4)\">\n     <use xlink:href=\"#C1_0_b9ede3aae1\" x=\"-3.754894\" y=\"263.62204\" style=\"fill: #a8cee4\"/>\n    </g>\n    <g clip-path=\"url(#p04ae43a9f4)\">\n     <use xlink:href=\"#C1_0_b9ede3aae1\" x=\"-3.754894\" y=\"251.741048\" style=\"fill: #d9e7f5\"/>\n    </g>\n    <g clip-path=\"url(#p04ae43a9f4)\">\n     <use xlink:href=\"#C1_0_b9ede3aae1\" x=\"-3.754894\" y=\"239.860057\" style=\"fill: #d6e6f4\"/>\n    </g>\n    <g clip-path=\"url(#p04ae43a9f4)\">\n     <use xlink:href=\"#C1_0_b9ede3aae1\" x=\"-3.754894\" y=\"227.979065\" style=\"fill: #bad6eb\"/>\n    </g>\n    <g clip-path=\"url(#p04ae43a9f4)\">\n     <use xlink:href=\"#C1_0_b9ede3aae1\" x=\"-3.754894\" y=\"216.098073\" style=\"fill: #abd0e6\"/>\n    </g>\n    <g clip-path=\"url(#p04ae43a9f4)\">\n     <use xlink:href=\"#C1_0_b9ede3aae1\" x=\"-3.754894\" y=\"204.217081\" style=\"fill: #f7fbff\"/>\n    </g>\n    <g clip-path=\"url(#p04ae43a9f4)\">\n     <use xlink:href=\"#C1_0_b9ede3aae1\" x=\"3.096015\" y=\"323.026999\" style=\"fill: #68acd5\"/>\n    </g>\n    <g clip-path=\"url(#p04ae43a9f4)\">\n     <use xlink:href=\"#C1_0_b9ede3aae1\" x=\"3.096015\" y=\"311.146007\" style=\"fill: #d6e6f4\"/>\n    </g>\n    <g clip-path=\"url(#p04ae43a9f4)\">\n     <use xlink:href=\"#C1_0_b9ede3aae1\" x=\"3.096015\" y=\"299.265015\" style=\"fill: #dbe9f6\"/>\n    </g>\n    <g clip-path=\"url(#p04ae43a9f4)\">\n     <use xlink:href=\"#C1_0_b9ede3aae1\" x=\"3.096015\" y=\"287.384024\" style=\"fill: #6aaed6\"/>\n    </g>\n    <g clip-path=\"url(#p04ae43a9f4)\">\n     <use xlink:href=\"#C1_0_b9ede3aae1\" x=\"3.096015\" y=\"275.503032\" style=\"fill: #cde0f1\"/>\n    </g>\n    <g clip-path=\"url(#p04ae43a9f4)\">\n     <use xlink:href=\"#C1_0_b9ede3aae1\" x=\"3.096015\" y=\"263.62204\" style=\"fill: #99c7e0\"/>\n    </g>\n    <g clip-path=\"url(#p04ae43a9f4)\">\n     <use xlink:href=\"#C1_0_b9ede3aae1\" x=\"3.096015\" y=\"251.741048\" style=\"fill: #d0e1f2\"/>\n    </g>\n    <g clip-path=\"url(#p04ae43a9f4)\">\n     <use xlink:href=\"#C1_0_b9ede3aae1\" x=\"3.096015\" y=\"239.860057\" style=\"fill: #e6f0f9\"/>\n    </g>\n    <g clip-path=\"url(#p04ae43a9f4)\">\n     <use xlink:href=\"#C1_0_b9ede3aae1\" x=\"3.096015\" y=\"227.979065\" style=\"fill: #dbe9f6\"/>\n    </g>\n    <g clip-path=\"url(#p04ae43a9f4)\">\n     <use xlink:href=\"#C1_0_b9ede3aae1\" x=\"3.096015\" y=\"216.098073\" style=\"fill: #f5fafe\"/>\n    </g>\n    <g clip-path=\"url(#p04ae43a9f4)\">\n     <use xlink:href=\"#C1_0_b9ede3aae1\" x=\"3.096015\" y=\"204.217081\" style=\"fill: #f7fbff\"/>\n    </g>\n    <g clip-path=\"url(#p04ae43a9f4)\">\n     <use xlink:href=\"#C1_0_b9ede3aae1\" x=\"9.946924\" y=\"323.026999\" style=\"fill: #d0e1f2\"/>\n    </g>\n    <g clip-path=\"url(#p04ae43a9f4)\">\n     <use xlink:href=\"#C1_0_b9ede3aae1\" x=\"9.946924\" y=\"311.146007\" style=\"fill: #dbe9f6\"/>\n    </g>\n    <g clip-path=\"url(#p04ae43a9f4)\">\n     <use xlink:href=\"#C1_0_b9ede3aae1\" x=\"9.946924\" y=\"299.265015\" style=\"fill: #e1edf8\"/>\n    </g>\n    <g clip-path=\"url(#p04ae43a9f4)\">\n     <use xlink:href=\"#C1_0_b9ede3aae1\" x=\"9.946924\" y=\"287.384024\" style=\"fill: #bdd7ec\"/>\n    </g>\n    <g clip-path=\"url(#p04ae43a9f4)\">\n     <use xlink:href=\"#C1_0_b9ede3aae1\" x=\"9.946924\" y=\"275.503032\" style=\"fill: #dceaf6\"/>\n    </g>\n    <g clip-path=\"url(#p04ae43a9f4)\">\n     <use xlink:href=\"#C1_0_b9ede3aae1\" x=\"9.946924\" y=\"263.62204\" style=\"fill: #e1edf8\"/>\n    </g>\n    <g clip-path=\"url(#p04ae43a9f4)\">\n     <use xlink:href=\"#C1_0_b9ede3aae1\" x=\"9.946924\" y=\"251.741048\" style=\"fill: #e6f0f9\"/>\n    </g>\n    <g clip-path=\"url(#p04ae43a9f4)\">\n     <use xlink:href=\"#C1_0_b9ede3aae1\" x=\"9.946924\" y=\"239.860057\" style=\"fill: #f5fafe\"/>\n    </g>\n    <g clip-path=\"url(#p04ae43a9f4)\">\n     <use xlink:href=\"#C1_0_b9ede3aae1\" x=\"9.946924\" y=\"227.979065\" style=\"fill: #f7fbff\"/>\n    </g>\n    <g clip-path=\"url(#p04ae43a9f4)\">\n     <use xlink:href=\"#C1_0_b9ede3aae1\" x=\"9.946924\" y=\"216.098073\" style=\"fill: #f7fbff\"/>\n    </g>\n    <g clip-path=\"url(#p04ae43a9f4)\">\n     <use xlink:href=\"#C1_0_b9ede3aae1\" x=\"9.946924\" y=\"204.217081\" style=\"fill: #f7fbff\"/>\n    </g>\n    <g clip-path=\"url(#p04ae43a9f4)\">\n     <use xlink:href=\"#C1_0_b9ede3aae1\" x=\"16.797833\" y=\"323.026999\" style=\"fill: #f7fbff\"/>\n    </g>\n    <g clip-path=\"url(#p04ae43a9f4)\">\n     <use xlink:href=\"#C1_0_b9ede3aae1\" x=\"16.797833\" y=\"311.146007\" style=\"fill: #f7fbff\"/>\n    </g>\n    <g clip-path=\"url(#p04ae43a9f4)\">\n     <use xlink:href=\"#C1_0_b9ede3aae1\" x=\"16.797833\" y=\"299.265015\" style=\"fill: #d0e1f2\"/>\n    </g>\n    <g clip-path=\"url(#p04ae43a9f4)\">\n     <use xlink:href=\"#C1_0_b9ede3aae1\" x=\"16.797833\" y=\"287.384024\" style=\"fill: #f1f7fd\"/>\n    </g>\n    <g clip-path=\"url(#p04ae43a9f4)\">\n     <use xlink:href=\"#C1_0_b9ede3aae1\" x=\"16.797833\" y=\"275.503032\" style=\"fill: #f7fbff\"/>\n    </g>\n    <g clip-path=\"url(#p04ae43a9f4)\">\n     <use xlink:href=\"#C1_0_b9ede3aae1\" x=\"16.797833\" y=\"263.62204\" style=\"fill: #f7fbff\"/>\n    </g>\n    <g clip-path=\"url(#p04ae43a9f4)\">\n     <use xlink:href=\"#C1_0_b9ede3aae1\" x=\"16.797833\" y=\"251.741048\" style=\"fill: #f7fbff\"/>\n    </g>\n    <g clip-path=\"url(#p04ae43a9f4)\">\n     <use xlink:href=\"#C1_0_b9ede3aae1\" x=\"16.797833\" y=\"239.860057\" style=\"fill: #f7fbff\"/>\n    </g>\n    <g clip-path=\"url(#p04ae43a9f4)\">\n     <use xlink:href=\"#C1_0_b9ede3aae1\" x=\"16.797833\" y=\"227.979065\" style=\"fill: #f7fbff\"/>\n    </g>\n    <g clip-path=\"url(#p04ae43a9f4)\">\n     <use xlink:href=\"#C1_0_b9ede3aae1\" x=\"16.797833\" y=\"216.098073\" style=\"fill: #f7fbff\"/>\n    </g>\n    <g clip-path=\"url(#p04ae43a9f4)\">\n     <use xlink:href=\"#C1_0_b9ede3aae1\" x=\"16.797833\" y=\"204.217081\" style=\"fill: #f7fbff\"/>\n    </g>\n    <g clip-path=\"url(#p04ae43a9f4)\">\n     <use xlink:href=\"#C1_0_b9ede3aae1\" x=\"23.648742\" y=\"323.026999\" style=\"fill: #f7fbff\"/>\n    </g>\n    <g clip-path=\"url(#p04ae43a9f4)\">\n     <use xlink:href=\"#C1_0_b9ede3aae1\" x=\"23.648742\" y=\"311.146007\" style=\"fill: #f7fbff\"/>\n    </g>\n    <g clip-path=\"url(#p04ae43a9f4)\">\n     <use xlink:href=\"#C1_0_b9ede3aae1\" x=\"23.648742\" y=\"299.265015\" style=\"fill: #d2e3f3\"/>\n    </g>\n    <g clip-path=\"url(#p04ae43a9f4)\">\n     <use xlink:href=\"#C1_0_b9ede3aae1\" x=\"23.648742\" y=\"287.384024\" style=\"fill: #f7fbff\"/>\n    </g>\n    <g clip-path=\"url(#p04ae43a9f4)\">\n     <use xlink:href=\"#C1_0_b9ede3aae1\" x=\"23.648742\" y=\"275.503032\" style=\"fill: #f5fafe\"/>\n    </g>\n    <g clip-path=\"url(#p04ae43a9f4)\">\n     <use xlink:href=\"#C1_0_b9ede3aae1\" x=\"23.648742\" y=\"263.62204\" style=\"fill: #f7fbff\"/>\n    </g>\n    <g clip-path=\"url(#p04ae43a9f4)\">\n     <use xlink:href=\"#C1_0_b9ede3aae1\" x=\"23.648742\" y=\"251.741048\" style=\"fill: #f7fbff\"/>\n    </g>\n    <g clip-path=\"url(#p04ae43a9f4)\">\n     <use xlink:href=\"#C1_0_b9ede3aae1\" x=\"23.648742\" y=\"239.860057\" style=\"fill: #f7fbff\"/>\n    </g>\n    <g clip-path=\"url(#p04ae43a9f4)\">\n     <use xlink:href=\"#C1_0_b9ede3aae1\" x=\"23.648742\" y=\"227.979065\" style=\"fill: #f7fbff\"/>\n    </g>\n    <g clip-path=\"url(#p04ae43a9f4)\">\n     <use xlink:href=\"#C1_0_b9ede3aae1\" x=\"23.648742\" y=\"216.098073\" style=\"fill: #f7fbff\"/>\n    </g>\n    <g clip-path=\"url(#p04ae43a9f4)\">\n     <use xlink:href=\"#C1_0_b9ede3aae1\" x=\"23.648742\" y=\"204.217081\" style=\"fill: #f7fbff\"/>\n    </g>\n    <g clip-path=\"url(#p04ae43a9f4)\">\n     <use xlink:href=\"#C1_0_b9ede3aae1\" x=\"30.499651\" y=\"323.026999\" style=\"fill: #f7fbff\"/>\n    </g>\n    <g clip-path=\"url(#p04ae43a9f4)\">\n     <use xlink:href=\"#C1_0_b9ede3aae1\" x=\"30.499651\" y=\"311.146007\" style=\"fill: #f7fbff\"/>\n    </g>\n    <g clip-path=\"url(#p04ae43a9f4)\">\n     <use xlink:href=\"#C1_0_b9ede3aae1\" x=\"30.499651\" y=\"299.265015\" style=\"fill: #f7fbff\"/>\n    </g>\n    <g clip-path=\"url(#p04ae43a9f4)\">\n     <use xlink:href=\"#C1_0_b9ede3aae1\" x=\"30.499651\" y=\"287.384024\" style=\"fill: #f7fbff\"/>\n    </g>\n    <g clip-path=\"url(#p04ae43a9f4)\">\n     <use xlink:href=\"#C1_0_b9ede3aae1\" x=\"30.499651\" y=\"275.503032\" style=\"fill: #f7fbff\"/>\n    </g>\n    <g clip-path=\"url(#p04ae43a9f4)\">\n     <use xlink:href=\"#C1_0_b9ede3aae1\" x=\"30.499651\" y=\"263.62204\" style=\"fill: #f7fbff\"/>\n    </g>\n    <g clip-path=\"url(#p04ae43a9f4)\">\n     <use xlink:href=\"#C1_0_b9ede3aae1\" x=\"30.499651\" y=\"251.741048\" style=\"fill: #f7fbff\"/>\n    </g>\n    <g clip-path=\"url(#p04ae43a9f4)\">\n     <use xlink:href=\"#C1_0_b9ede3aae1\" x=\"30.499651\" y=\"239.860057\" style=\"fill: #f7fbff\"/>\n    </g>\n    <g clip-path=\"url(#p04ae43a9f4)\">\n     <use xlink:href=\"#C1_0_b9ede3aae1\" x=\"30.499651\" y=\"227.979065\" style=\"fill: #f7fbff\"/>\n    </g>\n    <g clip-path=\"url(#p04ae43a9f4)\">\n     <use xlink:href=\"#C1_0_b9ede3aae1\" x=\"30.499651\" y=\"216.098073\" style=\"fill: #f7fbff\"/>\n    </g>\n    <g clip-path=\"url(#p04ae43a9f4)\">\n     <use xlink:href=\"#C1_0_b9ede3aae1\" x=\"30.499651\" y=\"204.217081\" style=\"fill: #f7fbff\"/>\n    </g>\n    <g clip-path=\"url(#p04ae43a9f4)\">\n     <use xlink:href=\"#C1_0_b9ede3aae1\" x=\"37.35056\" y=\"323.026999\" style=\"fill: #f7fbff\"/>\n    </g>\n    <g clip-path=\"url(#p04ae43a9f4)\">\n     <use xlink:href=\"#C1_0_b9ede3aae1\" x=\"37.35056\" y=\"311.146007\" style=\"fill: #f7fbff\"/>\n    </g>\n    <g clip-path=\"url(#p04ae43a9f4)\">\n     <use xlink:href=\"#C1_0_b9ede3aae1\" x=\"37.35056\" y=\"299.265015\" style=\"fill: #f7fbff\"/>\n    </g>\n    <g clip-path=\"url(#p04ae43a9f4)\">\n     <use xlink:href=\"#C1_0_b9ede3aae1\" x=\"37.35056\" y=\"287.384024\" style=\"fill: #f7fbff\"/>\n    </g>\n    <g clip-path=\"url(#p04ae43a9f4)\">\n     <use xlink:href=\"#C1_0_b9ede3aae1\" x=\"37.35056\" y=\"275.503032\" style=\"fill: #f7fbff\"/>\n    </g>\n    <g clip-path=\"url(#p04ae43a9f4)\">\n     <use xlink:href=\"#C1_0_b9ede3aae1\" x=\"37.35056\" y=\"263.62204\" style=\"fill: #f7fbff\"/>\n    </g>\n    <g clip-path=\"url(#p04ae43a9f4)\">\n     <use xlink:href=\"#C1_0_b9ede3aae1\" x=\"37.35056\" y=\"251.741048\" style=\"fill: #f7fbff\"/>\n    </g>\n    <g clip-path=\"url(#p04ae43a9f4)\">\n     <use xlink:href=\"#C1_0_b9ede3aae1\" x=\"37.35056\" y=\"239.860057\" style=\"fill: #f7fbff\"/>\n    </g>\n    <g clip-path=\"url(#p04ae43a9f4)\">\n     <use xlink:href=\"#C1_0_b9ede3aae1\" x=\"37.35056\" y=\"227.979065\" style=\"fill: #f7fbff\"/>\n    </g>\n    <g clip-path=\"url(#p04ae43a9f4)\">\n     <use xlink:href=\"#C1_0_b9ede3aae1\" x=\"37.35056\" y=\"216.098073\" style=\"fill: #f7fbff\"/>\n    </g>\n    <g clip-path=\"url(#p04ae43a9f4)\">\n     <use xlink:href=\"#C1_0_b9ede3aae1\" x=\"37.35056\" y=\"204.217081\" style=\"fill: #f7fbff\"/>\n    </g>\n    <g clip-path=\"url(#p04ae43a9f4)\">\n     <use xlink:href=\"#C1_0_b9ede3aae1\" x=\"44.201469\" y=\"323.026999\" style=\"fill: #f7fbff\"/>\n    </g>\n    <g clip-path=\"url(#p04ae43a9f4)\">\n     <use xlink:href=\"#C1_0_b9ede3aae1\" x=\"44.201469\" y=\"311.146007\" style=\"fill: #f7fbff\"/>\n    </g>\n    <g clip-path=\"url(#p04ae43a9f4)\">\n     <use xlink:href=\"#C1_0_b9ede3aae1\" x=\"44.201469\" y=\"299.265015\" style=\"fill: #f7fbff\"/>\n    </g>\n    <g clip-path=\"url(#p04ae43a9f4)\">\n     <use xlink:href=\"#C1_0_b9ede3aae1\" x=\"44.201469\" y=\"287.384024\" style=\"fill: #ecf4fb\"/>\n    </g>\n    <g clip-path=\"url(#p04ae43a9f4)\">\n     <use xlink:href=\"#C1_0_b9ede3aae1\" x=\"44.201469\" y=\"275.503032\" style=\"fill: #f1f7fd\"/>\n    </g>\n    <g clip-path=\"url(#p04ae43a9f4)\">\n     <use xlink:href=\"#C1_0_b9ede3aae1\" x=\"44.201469\" y=\"263.62204\" style=\"fill: #eaf2fb\"/>\n    </g>\n    <g clip-path=\"url(#p04ae43a9f4)\">\n     <use xlink:href=\"#C1_0_b9ede3aae1\" x=\"44.201469\" y=\"251.741048\" style=\"fill: #f3f8fe\"/>\n    </g>\n    <g clip-path=\"url(#p04ae43a9f4)\">\n     <use xlink:href=\"#C1_0_b9ede3aae1\" x=\"44.201469\" y=\"239.860057\" style=\"fill: #f7fbff\"/>\n    </g>\n    <g clip-path=\"url(#p04ae43a9f4)\">\n     <use xlink:href=\"#C1_0_b9ede3aae1\" x=\"44.201469\" y=\"227.979065\" style=\"fill: #f7fbff\"/>\n    </g>\n    <g clip-path=\"url(#p04ae43a9f4)\">\n     <use xlink:href=\"#C1_0_b9ede3aae1\" x=\"44.201469\" y=\"216.098073\" style=\"fill: #f7fbff\"/>\n    </g>\n    <g clip-path=\"url(#p04ae43a9f4)\">\n     <use xlink:href=\"#C1_0_b9ede3aae1\" x=\"44.201469\" y=\"204.217081\" style=\"fill: #f7fbff\"/>\n    </g>\n    <g clip-path=\"url(#p04ae43a9f4)\">\n     <use xlink:href=\"#C1_0_b9ede3aae1\" x=\"51.052379\" y=\"323.026999\" style=\"fill: #f7fbff\"/>\n    </g>\n    <g clip-path=\"url(#p04ae43a9f4)\">\n     <use xlink:href=\"#C1_0_b9ede3aae1\" x=\"51.052379\" y=\"311.146007\" style=\"fill: #f7fbff\"/>\n    </g>\n    <g clip-path=\"url(#p04ae43a9f4)\">\n     <use xlink:href=\"#C1_0_b9ede3aae1\" x=\"51.052379\" y=\"299.265015\" style=\"fill: #f7fbff\"/>\n    </g>\n    <g clip-path=\"url(#p04ae43a9f4)\">\n     <use xlink:href=\"#C1_0_b9ede3aae1\" x=\"51.052379\" y=\"287.384024\" style=\"fill: #e3eef9\"/>\n    </g>\n    <g clip-path=\"url(#p04ae43a9f4)\">\n     <use xlink:href=\"#C1_0_b9ede3aae1\" x=\"51.052379\" y=\"275.503032\" style=\"fill: #afd1e7\"/>\n    </g>\n    <g clip-path=\"url(#p04ae43a9f4)\">\n     <use xlink:href=\"#C1_0_b9ede3aae1\" x=\"51.052379\" y=\"263.62204\" style=\"fill: #d2e3f3\"/>\n    </g>\n    <g clip-path=\"url(#p04ae43a9f4)\">\n     <use xlink:href=\"#C1_0_b9ede3aae1\" x=\"51.052379\" y=\"251.741048\" style=\"fill: #afd1e7\"/>\n    </g>\n    <g clip-path=\"url(#p04ae43a9f4)\">\n     <use xlink:href=\"#C1_0_b9ede3aae1\" x=\"51.052379\" y=\"239.860057\" style=\"fill: #bdd7ec\"/>\n    </g>\n    <g clip-path=\"url(#p04ae43a9f4)\">\n     <use xlink:href=\"#C1_0_b9ede3aae1\" x=\"51.052379\" y=\"227.979065\" style=\"fill: #f7fbff\"/>\n    </g>\n    <g clip-path=\"url(#p04ae43a9f4)\">\n     <use xlink:href=\"#C1_0_b9ede3aae1\" x=\"51.052379\" y=\"216.098073\" style=\"fill: #f7fbff\"/>\n    </g>\n    <g clip-path=\"url(#p04ae43a9f4)\">\n     <use xlink:href=\"#C1_0_b9ede3aae1\" x=\"51.052379\" y=\"204.217081\" style=\"fill: #f7fbff\"/>\n    </g>\n    <g clip-path=\"url(#p04ae43a9f4)\">\n     <use xlink:href=\"#C1_0_b9ede3aae1\" x=\"57.903288\" y=\"323.026999\" style=\"fill: #f7fbff\"/>\n    </g>\n    <g clip-path=\"url(#p04ae43a9f4)\">\n     <use xlink:href=\"#C1_0_b9ede3aae1\" x=\"57.903288\" y=\"311.146007\" style=\"fill: #f7fbff\"/>\n    </g>\n    <g clip-path=\"url(#p04ae43a9f4)\">\n     <use xlink:href=\"#C1_0_b9ede3aae1\" x=\"57.903288\" y=\"299.265015\" style=\"fill: #f1f7fd\"/>\n    </g>\n    <g clip-path=\"url(#p04ae43a9f4)\">\n     <use xlink:href=\"#C1_0_b9ede3aae1\" x=\"57.903288\" y=\"287.384024\" style=\"fill: #82bbdb\"/>\n    </g>\n    <g clip-path=\"url(#p04ae43a9f4)\">\n     <use xlink:href=\"#C1_0_b9ede3aae1\" x=\"57.903288\" y=\"275.503032\" style=\"fill: #7db8da\"/>\n    </g>\n    <g clip-path=\"url(#p04ae43a9f4)\">\n     <use xlink:href=\"#C1_0_b9ede3aae1\" x=\"57.903288\" y=\"263.62204\" style=\"fill: #bad6eb\"/>\n    </g>\n    <g clip-path=\"url(#p04ae43a9f4)\">\n     <use xlink:href=\"#C1_0_b9ede3aae1\" x=\"57.903288\" y=\"251.741048\" style=\"fill: #b7d4ea\"/>\n    </g>\n    <g clip-path=\"url(#p04ae43a9f4)\">\n     <use xlink:href=\"#C1_0_b9ede3aae1\" x=\"57.903288\" y=\"239.860057\" style=\"fill: #f5fafe\"/>\n    </g>\n    <g clip-path=\"url(#p04ae43a9f4)\">\n     <use xlink:href=\"#C1_0_b9ede3aae1\" x=\"57.903288\" y=\"227.979065\" style=\"fill: #f7fbff\"/>\n    </g>\n    <g clip-path=\"url(#p04ae43a9f4)\">\n     <use xlink:href=\"#C1_0_b9ede3aae1\" x=\"57.903288\" y=\"216.098073\" style=\"fill: #f7fbff\"/>\n    </g>\n    <g clip-path=\"url(#p04ae43a9f4)\">\n     <use xlink:href=\"#C1_0_b9ede3aae1\" x=\"57.903288\" y=\"204.217081\" style=\"fill: #f7fbff\"/>\n    </g>\n    <g clip-path=\"url(#p04ae43a9f4)\">\n     <use xlink:href=\"#C1_0_b9ede3aae1\" x=\"64.754197\" y=\"323.026999\" style=\"fill: #f7fbff\"/>\n    </g>\n    <g clip-path=\"url(#p04ae43a9f4)\">\n     <use xlink:href=\"#C1_0_b9ede3aae1\" x=\"64.754197\" y=\"311.146007\" style=\"fill: #f7fbff\"/>\n    </g>\n    <g clip-path=\"url(#p04ae43a9f4)\">\n     <use xlink:href=\"#C1_0_b9ede3aae1\" x=\"64.754197\" y=\"299.265015\" style=\"fill: #cde0f1\"/>\n    </g>\n    <g clip-path=\"url(#p04ae43a9f4)\">\n     <use xlink:href=\"#C1_0_b9ede3aae1\" x=\"64.754197\" y=\"287.384024\" style=\"fill: #94c4df\"/>\n    </g>\n    <g clip-path=\"url(#p04ae43a9f4)\">\n     <use xlink:href=\"#C1_0_b9ede3aae1\" x=\"64.754197\" y=\"275.503032\" style=\"fill: #74b3d8\"/>\n    </g>\n    <g clip-path=\"url(#p04ae43a9f4)\">\n     <use xlink:href=\"#C1_0_b9ede3aae1\" x=\"64.754197\" y=\"263.62204\" style=\"fill: #cde0f1\"/>\n    </g>\n    <g clip-path=\"url(#p04ae43a9f4)\">\n     <use xlink:href=\"#C1_0_b9ede3aae1\" x=\"64.754197\" y=\"251.741048\" style=\"fill: #e3eef9\"/>\n    </g>\n    <g clip-path=\"url(#p04ae43a9f4)\">\n     <use xlink:href=\"#C1_0_b9ede3aae1\" x=\"64.754197\" y=\"239.860057\" style=\"fill: #f7fbff\"/>\n    </g>\n    <g clip-path=\"url(#p04ae43a9f4)\">\n     <use xlink:href=\"#C1_0_b9ede3aae1\" x=\"64.754197\" y=\"227.979065\" style=\"fill: #f7fbff\"/>\n    </g>\n    <g clip-path=\"url(#p04ae43a9f4)\">\n     <use xlink:href=\"#C1_0_b9ede3aae1\" x=\"64.754197\" y=\"216.098073\" style=\"fill: #f7fbff\"/>\n    </g>\n    <g clip-path=\"url(#p04ae43a9f4)\">\n     <use xlink:href=\"#C1_0_b9ede3aae1\" x=\"64.754197\" y=\"204.217081\" style=\"fill: #f7fbff\"/>\n    </g>\n    <g clip-path=\"url(#p04ae43a9f4)\">\n     <use xlink:href=\"#C1_0_b9ede3aae1\" x=\"71.605106\" y=\"323.026999\" style=\"fill: #f7fbff\"/>\n    </g>\n    <g clip-path=\"url(#p04ae43a9f4)\">\n     <use xlink:href=\"#C1_0_b9ede3aae1\" x=\"71.605106\" y=\"311.146007\" style=\"fill: #f7fbff\"/>\n    </g>\n    <g clip-path=\"url(#p04ae43a9f4)\">\n     <use xlink:href=\"#C1_0_b9ede3aae1\" x=\"71.605106\" y=\"299.265015\" style=\"fill: #2575b7\"/>\n    </g>\n    <g clip-path=\"url(#p04ae43a9f4)\">\n     <use xlink:href=\"#C1_0_b9ede3aae1\" x=\"71.605106\" y=\"287.384024\" style=\"fill: #6fb0d7\"/>\n    </g>\n    <g clip-path=\"url(#p04ae43a9f4)\">\n     <use xlink:href=\"#C1_0_b9ede3aae1\" x=\"71.605106\" y=\"275.503032\" style=\"fill: #abd0e6\"/>\n    </g>\n    <g clip-path=\"url(#p04ae43a9f4)\">\n     <use xlink:href=\"#C1_0_b9ede3aae1\" x=\"71.605106\" y=\"263.62204\" style=\"fill: #d2e3f3\"/>\n    </g>\n    <g clip-path=\"url(#p04ae43a9f4)\">\n     <use xlink:href=\"#C1_0_b9ede3aae1\" x=\"71.605106\" y=\"251.741048\" style=\"fill: #dceaf6\"/>\n    </g>\n    <g clip-path=\"url(#p04ae43a9f4)\">\n     <use xlink:href=\"#C1_0_b9ede3aae1\" x=\"71.605106\" y=\"239.860057\" style=\"fill: #f7fbff\"/>\n    </g>\n    <g clip-path=\"url(#p04ae43a9f4)\">\n     <use xlink:href=\"#C1_0_b9ede3aae1\" x=\"71.605106\" y=\"227.979065\" style=\"fill: #f7fbff\"/>\n    </g>\n    <g clip-path=\"url(#p04ae43a9f4)\">\n     <use xlink:href=\"#C1_0_b9ede3aae1\" x=\"71.605106\" y=\"216.098073\" style=\"fill: #f7fbff\"/>\n    </g>\n    <g clip-path=\"url(#p04ae43a9f4)\">\n     <use xlink:href=\"#C1_0_b9ede3aae1\" x=\"71.605106\" y=\"204.217081\" style=\"fill: #f7fbff\"/>\n    </g>\n    <g clip-path=\"url(#p04ae43a9f4)\">\n     <use xlink:href=\"#C1_0_b9ede3aae1\" x=\"78.456015\" y=\"323.026999\" style=\"fill: #f7fbff\"/>\n    </g>\n    <g clip-path=\"url(#p04ae43a9f4)\">\n     <use xlink:href=\"#C1_0_b9ede3aae1\" x=\"78.456015\" y=\"311.146007\" style=\"fill: #f7fbff\"/>\n    </g>\n    <g clip-path=\"url(#p04ae43a9f4)\">\n     <use xlink:href=\"#C1_0_b9ede3aae1\" x=\"78.456015\" y=\"299.265015\" style=\"fill: #caddf0\"/>\n    </g>\n    <g clip-path=\"url(#p04ae43a9f4)\">\n     <use xlink:href=\"#C1_0_b9ede3aae1\" x=\"78.456015\" y=\"287.384024\" style=\"fill: #c1d9ed\"/>\n    </g>\n    <g clip-path=\"url(#p04ae43a9f4)\">\n     <use xlink:href=\"#C1_0_b9ede3aae1\" x=\"78.456015\" y=\"275.503032\" style=\"fill: #c7dcef\"/>\n    </g>\n    <g clip-path=\"url(#p04ae43a9f4)\">\n     <use xlink:href=\"#C1_0_b9ede3aae1\" x=\"78.456015\" y=\"263.62204\" style=\"fill: #e3eef9\"/>\n    </g>\n    <g clip-path=\"url(#p04ae43a9f4)\">\n     <use xlink:href=\"#C1_0_b9ede3aae1\" x=\"78.456015\" y=\"251.741048\" style=\"fill: #f7fbff\"/>\n    </g>\n    <g clip-path=\"url(#p04ae43a9f4)\">\n     <use xlink:href=\"#C1_0_b9ede3aae1\" x=\"78.456015\" y=\"239.860057\" style=\"fill: #f7fbff\"/>\n    </g>\n    <g clip-path=\"url(#p04ae43a9f4)\">\n     <use xlink:href=\"#C1_0_b9ede3aae1\" x=\"78.456015\" y=\"227.979065\" style=\"fill: #f7fbff\"/>\n    </g>\n    <g clip-path=\"url(#p04ae43a9f4)\">\n     <use xlink:href=\"#C1_0_b9ede3aae1\" x=\"78.456015\" y=\"216.098073\" style=\"fill: #f7fbff\"/>\n    </g>\n    <g clip-path=\"url(#p04ae43a9f4)\">\n     <use xlink:href=\"#C1_0_b9ede3aae1\" x=\"78.456015\" y=\"204.217081\" style=\"fill: #f7fbff\"/>\n    </g>\n   </g>\n   <g id=\"matplotlib.axis_3\"/>\n   <g id=\"matplotlib.axis_4\"/>\n   <g id=\"patch_8\">\n    <path d=\"M 170.88 167.90175 \nL 170.88 24.14175 \n\" style=\"fill: none; stroke: #000000; stroke-width: 0.8; stroke-linejoin: miter; stroke-linecap: square\"/>\n   </g>\n   <g id=\"patch_9\">\n    <path d=\"M 321.6 167.90175 \nL 321.6 24.14175 \n\" style=\"fill: none; stroke: #000000; stroke-width: 0.8; stroke-linejoin: miter; stroke-linecap: square\"/>\n   </g>\n   <g id=\"patch_10\">\n    <path d=\"M 170.88 167.90175 \nL 321.6 167.90175 \n\" style=\"fill: none; stroke: #000000; stroke-width: 0.8; stroke-linejoin: miter; stroke-linecap: square\"/>\n   </g>\n   <g id=\"patch_11\">\n    <path d=\"M 170.88 24.14175 \nL 321.6 24.14175 \n\" style=\"fill: none; stroke: #000000; stroke-width: 0.8; stroke-linejoin: miter; stroke-linecap: square\"/>\n   </g>\n   <g id=\"text_2\">\n    <!-- joy -->\n    <g transform=\"translate(235.57275 18.14175) scale(0.144 -0.144)\">\n     <defs>\n      <path id=\"DejaVuSans-6a\" d=\"M 603 3500 \nL 1178 3500 \nL 1178 -63 \nQ 1178 -731 923 -1031 \nQ 669 -1331 103 -1331 \nL -116 -1331 \nL -116 -844 \nL 38 -844 \nQ 366 -844 484 -692 \nQ 603 -541 603 -63 \nL 603 3500 \nz\nM 603 4863 \nL 1178 4863 \nL 1178 4134 \nL 603 4134 \nL 603 4863 \nz\n\" transform=\"scale(0.015625)\"/>\n      <path id=\"DejaVuSans-6f\" d=\"M 1959 3097 \nQ 1497 3097 1228 2736 \nQ 959 2375 959 1747 \nQ 959 1119 1226 758 \nQ 1494 397 1959 397 \nQ 2419 397 2687 759 \nQ 2956 1122 2956 1747 \nQ 2956 2369 2687 2733 \nQ 2419 3097 1959 3097 \nz\nM 1959 3584 \nQ 2709 3584 3137 3096 \nQ 3566 2609 3566 1747 \nQ 3566 888 3137 398 \nQ 2709 -91 1959 -91 \nQ 1206 -91 779 398 \nQ 353 888 353 1747 \nQ 353 2609 779 3096 \nQ 1206 3584 1959 3584 \nz\n\" transform=\"scale(0.015625)\"/>\n      <path id=\"DejaVuSans-79\" d=\"M 2059 -325 \nQ 1816 -950 1584 -1140 \nQ 1353 -1331 966 -1331 \nL 506 -1331 \nL 506 -850 \nL 844 -850 \nQ 1081 -850 1212 -737 \nQ 1344 -625 1503 -206 \nL 1606 56 \nL 191 3500 \nL 800 3500 \nL 1894 763 \nL 2988 3500 \nL 3597 3500 \nL 2059 -325 \nz\n\" transform=\"scale(0.015625)\"/>\n     </defs>\n     <use xlink:href=\"#DejaVuSans-6a\"/>\n     <use xlink:href=\"#DejaVuSans-6f\" x=\"27.783203\"/>\n     <use xlink:href=\"#DejaVuSans-79\" x=\"88.964844\"/>\n    </g>\n   </g>\n  </g>\n  <g id=\"axes_3\">\n   <g id=\"patch_12\">\n    <path d=\"M 334.56 167.90175 \nL 485.28 167.90175 \nL 485.28 24.14175 \nL 334.56 24.14175 \nz\n\" style=\"fill: #ffffff\"/>\n   </g>\n   <g id=\"PolyCollection_3\">\n    <defs>\n     <path id=\"C2_0_6c23d4ac48\" d=\"M 398.955026 -166.89398 \nL 398.955026 -170.854311 \nL 395.529571 -172.834476 \nL 392.104116 -170.854311 \nL 392.104116 -166.89398 \nL 395.529571 -164.913815 \nz\n\"/>\n    </defs>\n    <g clip-path=\"url(#p5680fb8e47)\">\n     <use xlink:href=\"#C2_0_6c23d4ac48\" x=\"-54.118662\" y=\"330.24135\" style=\"fill: #fff5eb\"/>\n    </g>\n    <g clip-path=\"url(#p5680fb8e47)\">\n     <use xlink:href=\"#C2_0_6c23d4ac48\" x=\"-54.118662\" y=\"318.360358\" style=\"fill: #fff5eb\"/>\n    </g>\n    <g clip-path=\"url(#p5680fb8e47)\">\n     <use xlink:href=\"#C2_0_6c23d4ac48\" x=\"-54.118662\" y=\"306.479366\" style=\"fill: #fff5eb\"/>\n    </g>\n    <g clip-path=\"url(#p5680fb8e47)\">\n     <use xlink:href=\"#C2_0_6c23d4ac48\" x=\"-54.118662\" y=\"294.598375\" style=\"fill: #fff5eb\"/>\n    </g>\n    <g clip-path=\"url(#p5680fb8e47)\">\n     <use xlink:href=\"#C2_0_6c23d4ac48\" x=\"-54.118662\" y=\"282.717383\" style=\"fill: #fff5eb\"/>\n    </g>\n    <g clip-path=\"url(#p5680fb8e47)\">\n     <use xlink:href=\"#C2_0_6c23d4ac48\" x=\"-54.118662\" y=\"270.836391\" style=\"fill: #fff5eb\"/>\n    </g>\n    <g clip-path=\"url(#p5680fb8e47)\">\n     <use xlink:href=\"#C2_0_6c23d4ac48\" x=\"-54.118662\" y=\"258.955399\" style=\"fill: #fee5cc\"/>\n    </g>\n    <g clip-path=\"url(#p5680fb8e47)\">\n     <use xlink:href=\"#C2_0_6c23d4ac48\" x=\"-54.118662\" y=\"247.074408\" style=\"fill: #fff0e1\"/>\n    </g>\n    <g clip-path=\"url(#p5680fb8e47)\">\n     <use xlink:href=\"#C2_0_6c23d4ac48\" x=\"-54.118662\" y=\"235.193416\" style=\"fill: #fff5eb\"/>\n    </g>\n    <g clip-path=\"url(#p5680fb8e47)\">\n     <use xlink:href=\"#C2_0_6c23d4ac48\" x=\"-54.118662\" y=\"223.312424\" style=\"fill: #fff5eb\"/>\n    </g>\n    <g clip-path=\"url(#p5680fb8e47)\">\n     <use xlink:href=\"#C2_0_6c23d4ac48\" x=\"-54.118662\" y=\"211.431432\" style=\"fill: #fff5eb\"/>\n    </g>\n    <g clip-path=\"url(#p5680fb8e47)\">\n     <use xlink:href=\"#C2_0_6c23d4ac48\" x=\"-54.118662\" y=\"199.550441\" style=\"fill: #fff5eb\"/>\n    </g>\n    <g clip-path=\"url(#p5680fb8e47)\">\n     <use xlink:href=\"#C2_0_6c23d4ac48\" x=\"-47.267753\" y=\"330.24135\" style=\"fill: #fff5eb\"/>\n    </g>\n    <g clip-path=\"url(#p5680fb8e47)\">\n     <use xlink:href=\"#C2_0_6c23d4ac48\" x=\"-47.267753\" y=\"318.360358\" style=\"fill: #fff5eb\"/>\n    </g>\n    <g clip-path=\"url(#p5680fb8e47)\">\n     <use xlink:href=\"#C2_0_6c23d4ac48\" x=\"-47.267753\" y=\"306.479366\" style=\"fill: #fff5eb\"/>\n    </g>\n    <g clip-path=\"url(#p5680fb8e47)\">\n     <use xlink:href=\"#C2_0_6c23d4ac48\" x=\"-47.267753\" y=\"294.598375\" style=\"fill: #fff0e1\"/>\n    </g>\n    <g clip-path=\"url(#p5680fb8e47)\">\n     <use xlink:href=\"#C2_0_6c23d4ac48\" x=\"-47.267753\" y=\"282.717383\" style=\"fill: #fdc28b\"/>\n    </g>\n    <g clip-path=\"url(#p5680fb8e47)\">\n     <use xlink:href=\"#C2_0_6c23d4ac48\" x=\"-47.267753\" y=\"270.836391\" style=\"fill: #fdb576\"/>\n    </g>\n    <g clip-path=\"url(#p5680fb8e47)\">\n     <use xlink:href=\"#C2_0_6c23d4ac48\" x=\"-47.267753\" y=\"258.955399\" style=\"fill: #fdb576\"/>\n    </g>\n    <g clip-path=\"url(#p5680fb8e47)\">\n     <use xlink:href=\"#C2_0_6c23d4ac48\" x=\"-47.267753\" y=\"247.074408\" style=\"fill: #fff0e1\"/>\n    </g>\n    <g clip-path=\"url(#p5680fb8e47)\">\n     <use xlink:href=\"#C2_0_6c23d4ac48\" x=\"-47.267753\" y=\"235.193416\" style=\"fill: #fff5eb\"/>\n    </g>\n    <g clip-path=\"url(#p5680fb8e47)\">\n     <use xlink:href=\"#C2_0_6c23d4ac48\" x=\"-47.267753\" y=\"223.312424\" style=\"fill: #fff5eb\"/>\n    </g>\n    <g clip-path=\"url(#p5680fb8e47)\">\n     <use xlink:href=\"#C2_0_6c23d4ac48\" x=\"-47.267753\" y=\"211.431432\" style=\"fill: #fff5eb\"/>\n    </g>\n    <g clip-path=\"url(#p5680fb8e47)\">\n     <use xlink:href=\"#C2_0_6c23d4ac48\" x=\"-47.267753\" y=\"199.550441\" style=\"fill: #fff5eb\"/>\n    </g>\n    <g clip-path=\"url(#p5680fb8e47)\">\n     <use xlink:href=\"#C2_0_6c23d4ac48\" x=\"-40.416844\" y=\"330.24135\" style=\"fill: #fff5eb\"/>\n    </g>\n    <g clip-path=\"url(#p5680fb8e47)\">\n     <use xlink:href=\"#C2_0_6c23d4ac48\" x=\"-40.416844\" y=\"318.360358\" style=\"fill: #fff5eb\"/>\n    </g>\n    <g clip-path=\"url(#p5680fb8e47)\">\n     <use xlink:href=\"#C2_0_6c23d4ac48\" x=\"-40.416844\" y=\"306.479366\" style=\"fill: #fee5cc\"/>\n    </g>\n    <g clip-path=\"url(#p5680fb8e47)\">\n     <use xlink:href=\"#C2_0_6c23d4ac48\" x=\"-40.416844\" y=\"294.598375\" style=\"fill: #f77a27\"/>\n    </g>\n    <g clip-path=\"url(#p5680fb8e47)\">\n     <use xlink:href=\"#C2_0_6c23d4ac48\" x=\"-40.416844\" y=\"282.717383\" style=\"fill: #fd9e54\"/>\n    </g>\n    <g clip-path=\"url(#p5680fb8e47)\">\n     <use xlink:href=\"#C2_0_6c23d4ac48\" x=\"-40.416844\" y=\"270.836391\" style=\"fill: #fda965\"/>\n    </g>\n    <g clip-path=\"url(#p5680fb8e47)\">\n     <use xlink:href=\"#C2_0_6c23d4ac48\" x=\"-40.416844\" y=\"258.955399\" style=\"fill: #fdb576\"/>\n    </g>\n    <g clip-path=\"url(#p5680fb8e47)\">\n     <use xlink:href=\"#C2_0_6c23d4ac48\" x=\"-40.416844\" y=\"247.074408\" style=\"fill: #fda965\"/>\n    </g>\n    <g clip-path=\"url(#p5680fb8e47)\">\n     <use xlink:href=\"#C2_0_6c23d4ac48\" x=\"-40.416844\" y=\"235.193416\" style=\"fill: #feebd7\"/>\n    </g>\n    <g clip-path=\"url(#p5680fb8e47)\">\n     <use xlink:href=\"#C2_0_6c23d4ac48\" x=\"-40.416844\" y=\"223.312424\" style=\"fill: #fff5eb\"/>\n    </g>\n    <g clip-path=\"url(#p5680fb8e47)\">\n     <use xlink:href=\"#C2_0_6c23d4ac48\" x=\"-40.416844\" y=\"211.431432\" style=\"fill: #fff5eb\"/>\n    </g>\n    <g clip-path=\"url(#p5680fb8e47)\">\n     <use xlink:href=\"#C2_0_6c23d4ac48\" x=\"-40.416844\" y=\"199.550441\" style=\"fill: #fff5eb\"/>\n    </g>\n    <g clip-path=\"url(#p5680fb8e47)\">\n     <use xlink:href=\"#C2_0_6c23d4ac48\" x=\"-33.565935\" y=\"330.24135\" style=\"fill: #fff5eb\"/>\n    </g>\n    <g clip-path=\"url(#p5680fb8e47)\">\n     <use xlink:href=\"#C2_0_6c23d4ac48\" x=\"-33.565935\" y=\"318.360358\" style=\"fill: #fff5eb\"/>\n    </g>\n    <g clip-path=\"url(#p5680fb8e47)\">\n     <use xlink:href=\"#C2_0_6c23d4ac48\" x=\"-33.565935\" y=\"306.479366\" style=\"fill: #fdce9e\"/>\n    </g>\n    <g clip-path=\"url(#p5680fb8e47)\">\n     <use xlink:href=\"#C2_0_6c23d4ac48\" x=\"-33.565935\" y=\"294.598375\" style=\"fill: #fda965\"/>\n    </g>\n    <g clip-path=\"url(#p5680fb8e47)\">\n     <use xlink:href=\"#C2_0_6c23d4ac48\" x=\"-33.565935\" y=\"282.717383\" style=\"fill: #fdd6ae\"/>\n    </g>\n    <g clip-path=\"url(#p5680fb8e47)\">\n     <use xlink:href=\"#C2_0_6c23d4ac48\" x=\"-33.565935\" y=\"270.836391\" style=\"fill: #fdc28b\"/>\n    </g>\n    <g clip-path=\"url(#p5680fb8e47)\">\n     <use xlink:href=\"#C2_0_6c23d4ac48\" x=\"-33.565935\" y=\"258.955399\" style=\"fill: #fedebd\"/>\n    </g>\n    <g clip-path=\"url(#p5680fb8e47)\">\n     <use xlink:href=\"#C2_0_6c23d4ac48\" x=\"-33.565935\" y=\"247.074408\" style=\"fill: #feebd7\"/>\n    </g>\n    <g clip-path=\"url(#p5680fb8e47)\">\n     <use xlink:href=\"#C2_0_6c23d4ac48\" x=\"-33.565935\" y=\"235.193416\" style=\"fill: #fee5cc\"/>\n    </g>\n    <g clip-path=\"url(#p5680fb8e47)\">\n     <use xlink:href=\"#C2_0_6c23d4ac48\" x=\"-33.565935\" y=\"223.312424\" style=\"fill: #fff5eb\"/>\n    </g>\n    <g clip-path=\"url(#p5680fb8e47)\">\n     <use xlink:href=\"#C2_0_6c23d4ac48\" x=\"-33.565935\" y=\"211.431432\" style=\"fill: #fff5eb\"/>\n    </g>\n    <g clip-path=\"url(#p5680fb8e47)\">\n     <use xlink:href=\"#C2_0_6c23d4ac48\" x=\"-33.565935\" y=\"199.550441\" style=\"fill: #fff5eb\"/>\n    </g>\n    <g clip-path=\"url(#p5680fb8e47)\">\n     <use xlink:href=\"#C2_0_6c23d4ac48\" x=\"-26.715026\" y=\"330.24135\" style=\"fill: #fff5eb\"/>\n    </g>\n    <g clip-path=\"url(#p5680fb8e47)\">\n     <use xlink:href=\"#C2_0_6c23d4ac48\" x=\"-26.715026\" y=\"318.360358\" style=\"fill: #fdc28b\"/>\n    </g>\n    <g clip-path=\"url(#p5680fb8e47)\">\n     <use xlink:href=\"#C2_0_6c23d4ac48\" x=\"-26.715026\" y=\"306.479366\" style=\"fill: #fb8735\"/>\n    </g>\n    <g clip-path=\"url(#p5680fb8e47)\">\n     <use xlink:href=\"#C2_0_6c23d4ac48\" x=\"-26.715026\" y=\"294.598375\" style=\"fill: #fd9344\"/>\n    </g>\n    <g clip-path=\"url(#p5680fb8e47)\">\n     <use xlink:href=\"#C2_0_6c23d4ac48\" x=\"-26.715026\" y=\"282.717383\" style=\"fill: #fdd6ae\"/>\n    </g>\n    <g clip-path=\"url(#p5680fb8e47)\">\n     <use xlink:href=\"#C2_0_6c23d4ac48\" x=\"-26.715026\" y=\"270.836391\" style=\"fill: #fdb576\"/>\n    </g>\n    <g clip-path=\"url(#p5680fb8e47)\">\n     <use xlink:href=\"#C2_0_6c23d4ac48\" x=\"-26.715026\" y=\"258.955399\" style=\"fill: #fdd6ae\"/>\n    </g>\n    <g clip-path=\"url(#p5680fb8e47)\">\n     <use xlink:href=\"#C2_0_6c23d4ac48\" x=\"-26.715026\" y=\"247.074408\" style=\"fill: #fdce9e\"/>\n    </g>\n    <g clip-path=\"url(#p5680fb8e47)\">\n     <use xlink:href=\"#C2_0_6c23d4ac48\" x=\"-26.715026\" y=\"235.193416\" style=\"fill: #feebd7\"/>\n    </g>\n    <g clip-path=\"url(#p5680fb8e47)\">\n     <use xlink:href=\"#C2_0_6c23d4ac48\" x=\"-26.715026\" y=\"223.312424\" style=\"fill: #fff5eb\"/>\n    </g>\n    <g clip-path=\"url(#p5680fb8e47)\">\n     <use xlink:href=\"#C2_0_6c23d4ac48\" x=\"-26.715026\" y=\"211.431432\" style=\"fill: #fff0e1\"/>\n    </g>\n    <g clip-path=\"url(#p5680fb8e47)\">\n     <use xlink:href=\"#C2_0_6c23d4ac48\" x=\"-26.715026\" y=\"199.550441\" style=\"fill: #fff5eb\"/>\n    </g>\n    <g clip-path=\"url(#p5680fb8e47)\">\n     <use xlink:href=\"#C2_0_6c23d4ac48\" x=\"-19.864116\" y=\"330.24135\" style=\"fill: #fff5eb\"/>\n    </g>\n    <g clip-path=\"url(#p5680fb8e47)\">\n     <use xlink:href=\"#C2_0_6c23d4ac48\" x=\"-19.864116\" y=\"318.360358\" style=\"fill: #f77a27\"/>\n    </g>\n    <g clip-path=\"url(#p5680fb8e47)\">\n     <use xlink:href=\"#C2_0_6c23d4ac48\" x=\"-19.864116\" y=\"306.479366\" style=\"fill: #fdb576\"/>\n    </g>\n    <g clip-path=\"url(#p5680fb8e47)\">\n     <use xlink:href=\"#C2_0_6c23d4ac48\" x=\"-19.864116\" y=\"294.598375\" style=\"fill: #a83703\"/>\n    </g>\n    <g clip-path=\"url(#p5680fb8e47)\">\n     <use xlink:href=\"#C2_0_6c23d4ac48\" x=\"-19.864116\" y=\"282.717383\" style=\"fill: #fd9344\"/>\n    </g>\n    <g clip-path=\"url(#p5680fb8e47)\">\n     <use xlink:href=\"#C2_0_6c23d4ac48\" x=\"-19.864116\" y=\"270.836391\" style=\"fill: #fda965\"/>\n    </g>\n    <g clip-path=\"url(#p5680fb8e47)\">\n     <use xlink:href=\"#C2_0_6c23d4ac48\" x=\"-19.864116\" y=\"258.955399\" style=\"fill: #fdce9e\"/>\n    </g>\n    <g clip-path=\"url(#p5680fb8e47)\">\n     <use xlink:href=\"#C2_0_6c23d4ac48\" x=\"-19.864116\" y=\"247.074408\" style=\"fill: #fedebd\"/>\n    </g>\n    <g clip-path=\"url(#p5680fb8e47)\">\n     <use xlink:href=\"#C2_0_6c23d4ac48\" x=\"-19.864116\" y=\"235.193416\" style=\"fill: #fff0e1\"/>\n    </g>\n    <g clip-path=\"url(#p5680fb8e47)\">\n     <use xlink:href=\"#C2_0_6c23d4ac48\" x=\"-19.864116\" y=\"223.312424\" style=\"fill: #fff0e1\"/>\n    </g>\n    <g clip-path=\"url(#p5680fb8e47)\">\n     <use xlink:href=\"#C2_0_6c23d4ac48\" x=\"-19.864116\" y=\"211.431432\" style=\"fill: #fda965\"/>\n    </g>\n    <g clip-path=\"url(#p5680fb8e47)\">\n     <use xlink:href=\"#C2_0_6c23d4ac48\" x=\"-19.864116\" y=\"199.550441\" style=\"fill: #fff5eb\"/>\n    </g>\n    <g clip-path=\"url(#p5680fb8e47)\">\n     <use xlink:href=\"#C2_0_6c23d4ac48\" x=\"-13.013207\" y=\"330.24135\" style=\"fill: #fff5eb\"/>\n    </g>\n    <g clip-path=\"url(#p5680fb8e47)\">\n     <use xlink:href=\"#C2_0_6c23d4ac48\" x=\"-13.013207\" y=\"318.360358\" style=\"fill: #fdb576\"/>\n    </g>\n    <g clip-path=\"url(#p5680fb8e47)\">\n     <use xlink:href=\"#C2_0_6c23d4ac48\" x=\"-13.013207\" y=\"306.479366\" style=\"fill: #f36e19\"/>\n    </g>\n    <g clip-path=\"url(#p5680fb8e47)\">\n     <use xlink:href=\"#C2_0_6c23d4ac48\" x=\"-13.013207\" y=\"294.598375\" style=\"fill: #fd9e54\"/>\n    </g>\n    <g clip-path=\"url(#p5680fb8e47)\">\n     <use xlink:href=\"#C2_0_6c23d4ac48\" x=\"-13.013207\" y=\"282.717383\" style=\"fill: #fd9e54\"/>\n    </g>\n    <g clip-path=\"url(#p5680fb8e47)\">\n     <use xlink:href=\"#C2_0_6c23d4ac48\" x=\"-13.013207\" y=\"270.836391\" style=\"fill: #fd9e54\"/>\n    </g>\n    <g clip-path=\"url(#p5680fb8e47)\">\n     <use xlink:href=\"#C2_0_6c23d4ac48\" x=\"-13.013207\" y=\"258.955399\" style=\"fill: #fee5cc\"/>\n    </g>\n    <g clip-path=\"url(#p5680fb8e47)\">\n     <use xlink:href=\"#C2_0_6c23d4ac48\" x=\"-13.013207\" y=\"247.074408\" style=\"fill: #fdc28b\"/>\n    </g>\n    <g clip-path=\"url(#p5680fb8e47)\">\n     <use xlink:href=\"#C2_0_6c23d4ac48\" x=\"-13.013207\" y=\"235.193416\" style=\"fill: #fdc28b\"/>\n    </g>\n    <g clip-path=\"url(#p5680fb8e47)\">\n     <use xlink:href=\"#C2_0_6c23d4ac48\" x=\"-13.013207\" y=\"223.312424\" style=\"fill: #fee5cc\"/>\n    </g>\n    <g clip-path=\"url(#p5680fb8e47)\">\n     <use xlink:href=\"#C2_0_6c23d4ac48\" x=\"-13.013207\" y=\"211.431432\" style=\"fill: #fd9e54\"/>\n    </g>\n    <g clip-path=\"url(#p5680fb8e47)\">\n     <use xlink:href=\"#C2_0_6c23d4ac48\" x=\"-13.013207\" y=\"199.550441\" style=\"fill: #fdc28b\"/>\n    </g>\n    <g clip-path=\"url(#p5680fb8e47)\">\n     <use xlink:href=\"#C2_0_6c23d4ac48\" x=\"-6.162298\" y=\"330.24135\" style=\"fill: #fff5eb\"/>\n    </g>\n    <g clip-path=\"url(#p5680fb8e47)\">\n     <use xlink:href=\"#C2_0_6c23d4ac48\" x=\"-6.162298\" y=\"318.360358\" style=\"fill: #fee5cc\"/>\n    </g>\n    <g clip-path=\"url(#p5680fb8e47)\">\n     <use xlink:href=\"#C2_0_6c23d4ac48\" x=\"-6.162298\" y=\"306.479366\" style=\"fill: #fedebd\"/>\n    </g>\n    <g clip-path=\"url(#p5680fb8e47)\">\n     <use xlink:href=\"#C2_0_6c23d4ac48\" x=\"-6.162298\" y=\"294.598375\" style=\"fill: #fdc28b\"/>\n    </g>\n    <g clip-path=\"url(#p5680fb8e47)\">\n     <use xlink:href=\"#C2_0_6c23d4ac48\" x=\"-6.162298\" y=\"282.717383\" style=\"fill: #fd9344\"/>\n    </g>\n    <g clip-path=\"url(#p5680fb8e47)\">\n     <use xlink:href=\"#C2_0_6c23d4ac48\" x=\"-6.162298\" y=\"270.836391\" style=\"fill: #fdb576\"/>\n    </g>\n    <g clip-path=\"url(#p5680fb8e47)\">\n     <use xlink:href=\"#C2_0_6c23d4ac48\" x=\"-6.162298\" y=\"258.955399\" style=\"fill: #feebd7\"/>\n    </g>\n    <g clip-path=\"url(#p5680fb8e47)\">\n     <use xlink:href=\"#C2_0_6c23d4ac48\" x=\"-6.162298\" y=\"247.074408\" style=\"fill: #fff5eb\"/>\n    </g>\n    <g clip-path=\"url(#p5680fb8e47)\">\n     <use xlink:href=\"#C2_0_6c23d4ac48\" x=\"-6.162298\" y=\"235.193416\" style=\"fill: #fda965\"/>\n    </g>\n    <g clip-path=\"url(#p5680fb8e47)\">\n     <use xlink:href=\"#C2_0_6c23d4ac48\" x=\"-6.162298\" y=\"223.312424\" style=\"fill: #fdce9e\"/>\n    </g>\n    <g clip-path=\"url(#p5680fb8e47)\">\n     <use xlink:href=\"#C2_0_6c23d4ac48\" x=\"-6.162298\" y=\"211.431432\" style=\"fill: #fdd6ae\"/>\n    </g>\n    <g clip-path=\"url(#p5680fb8e47)\">\n     <use xlink:href=\"#C2_0_6c23d4ac48\" x=\"-6.162298\" y=\"199.550441\" style=\"fill: #fff5eb\"/>\n    </g>\n    <g clip-path=\"url(#p5680fb8e47)\">\n     <use xlink:href=\"#C2_0_6c23d4ac48\" x=\"0.688611\" y=\"330.24135\" style=\"fill: #fdd6ae\"/>\n    </g>\n    <g clip-path=\"url(#p5680fb8e47)\">\n     <use xlink:href=\"#C2_0_6c23d4ac48\" x=\"0.688611\" y=\"318.360358\" style=\"fill: #fedebd\"/>\n    </g>\n    <g clip-path=\"url(#p5680fb8e47)\">\n     <use xlink:href=\"#C2_0_6c23d4ac48\" x=\"0.688611\" y=\"306.479366\" style=\"fill: #fee5cc\"/>\n    </g>\n    <g clip-path=\"url(#p5680fb8e47)\">\n     <use xlink:href=\"#C2_0_6c23d4ac48\" x=\"0.688611\" y=\"294.598375\" style=\"fill: #fedebd\"/>\n    </g>\n    <g clip-path=\"url(#p5680fb8e47)\">\n     <use xlink:href=\"#C2_0_6c23d4ac48\" x=\"0.688611\" y=\"282.717383\" style=\"fill: #fdd6ae\"/>\n    </g>\n    <g clip-path=\"url(#p5680fb8e47)\">\n     <use xlink:href=\"#C2_0_6c23d4ac48\" x=\"0.688611\" y=\"270.836391\" style=\"fill: #fdce9e\"/>\n    </g>\n    <g clip-path=\"url(#p5680fb8e47)\">\n     <use xlink:href=\"#C2_0_6c23d4ac48\" x=\"0.688611\" y=\"258.955399\" style=\"fill: #fdd6ae\"/>\n    </g>\n    <g clip-path=\"url(#p5680fb8e47)\">\n     <use xlink:href=\"#C2_0_6c23d4ac48\" x=\"0.688611\" y=\"247.074408\" style=\"fill: #fdd6ae\"/>\n    </g>\n    <g clip-path=\"url(#p5680fb8e47)\">\n     <use xlink:href=\"#C2_0_6c23d4ac48\" x=\"0.688611\" y=\"235.193416\" style=\"fill: #feebd7\"/>\n    </g>\n    <g clip-path=\"url(#p5680fb8e47)\">\n     <use xlink:href=\"#C2_0_6c23d4ac48\" x=\"0.688611\" y=\"223.312424\" style=\"fill: #feebd7\"/>\n    </g>\n    <g clip-path=\"url(#p5680fb8e47)\">\n     <use xlink:href=\"#C2_0_6c23d4ac48\" x=\"0.688611\" y=\"211.431432\" style=\"fill: #fff5eb\"/>\n    </g>\n    <g clip-path=\"url(#p5680fb8e47)\">\n     <use xlink:href=\"#C2_0_6c23d4ac48\" x=\"0.688611\" y=\"199.550441\" style=\"fill: #fff5eb\"/>\n    </g>\n    <g clip-path=\"url(#p5680fb8e47)\">\n     <use xlink:href=\"#C2_0_6c23d4ac48\" x=\"7.53952\" y=\"330.24135\" style=\"fill: #fd9e54\"/>\n    </g>\n    <g clip-path=\"url(#p5680fb8e47)\">\n     <use xlink:href=\"#C2_0_6c23d4ac48\" x=\"7.53952\" y=\"318.360358\" style=\"fill: #fdc28b\"/>\n    </g>\n    <g clip-path=\"url(#p5680fb8e47)\">\n     <use xlink:href=\"#C2_0_6c23d4ac48\" x=\"7.53952\" y=\"306.479366\" style=\"fill: #fdce9e\"/>\n    </g>\n    <g clip-path=\"url(#p5680fb8e47)\">\n     <use xlink:href=\"#C2_0_6c23d4ac48\" x=\"7.53952\" y=\"294.598375\" style=\"fill: #fff0e1\"/>\n    </g>\n    <g clip-path=\"url(#p5680fb8e47)\">\n     <use xlink:href=\"#C2_0_6c23d4ac48\" x=\"7.53952\" y=\"282.717383\" style=\"fill: #fd9e54\"/>\n    </g>\n    <g clip-path=\"url(#p5680fb8e47)\">\n     <use xlink:href=\"#C2_0_6c23d4ac48\" x=\"7.53952\" y=\"270.836391\" style=\"fill: #feebd7\"/>\n    </g>\n    <g clip-path=\"url(#p5680fb8e47)\">\n     <use xlink:href=\"#C2_0_6c23d4ac48\" x=\"7.53952\" y=\"258.955399\" style=\"fill: #fee5cc\"/>\n    </g>\n    <g clip-path=\"url(#p5680fb8e47)\">\n     <use xlink:href=\"#C2_0_6c23d4ac48\" x=\"7.53952\" y=\"247.074408\" style=\"fill: #fff5eb\"/>\n    </g>\n    <g clip-path=\"url(#p5680fb8e47)\">\n     <use xlink:href=\"#C2_0_6c23d4ac48\" x=\"7.53952\" y=\"235.193416\" style=\"fill: #fff5eb\"/>\n    </g>\n    <g clip-path=\"url(#p5680fb8e47)\">\n     <use xlink:href=\"#C2_0_6c23d4ac48\" x=\"7.53952\" y=\"223.312424\" style=\"fill: #fff5eb\"/>\n    </g>\n    <g clip-path=\"url(#p5680fb8e47)\">\n     <use xlink:href=\"#C2_0_6c23d4ac48\" x=\"7.53952\" y=\"211.431432\" style=\"fill: #fff5eb\"/>\n    </g>\n    <g clip-path=\"url(#p5680fb8e47)\">\n     <use xlink:href=\"#C2_0_6c23d4ac48\" x=\"7.53952\" y=\"199.550441\" style=\"fill: #fff5eb\"/>\n    </g>\n    <g clip-path=\"url(#p5680fb8e47)\">\n     <use xlink:href=\"#C2_0_6c23d4ac48\" x=\"14.390429\" y=\"330.24135\" style=\"fill: #fff5eb\"/>\n    </g>\n    <g clip-path=\"url(#p5680fb8e47)\">\n     <use xlink:href=\"#C2_0_6c23d4ac48\" x=\"14.390429\" y=\"318.360358\" style=\"fill: #fff5eb\"/>\n    </g>\n    <g clip-path=\"url(#p5680fb8e47)\">\n     <use xlink:href=\"#C2_0_6c23d4ac48\" x=\"14.390429\" y=\"306.479366\" style=\"fill: #fff5eb\"/>\n    </g>\n    <g clip-path=\"url(#p5680fb8e47)\">\n     <use xlink:href=\"#C2_0_6c23d4ac48\" x=\"14.390429\" y=\"294.598375\" style=\"fill: #fedebd\"/>\n    </g>\n    <g clip-path=\"url(#p5680fb8e47)\">\n     <use xlink:href=\"#C2_0_6c23d4ac48\" x=\"14.390429\" y=\"282.717383\" style=\"fill: #feebd7\"/>\n    </g>\n    <g clip-path=\"url(#p5680fb8e47)\">\n     <use xlink:href=\"#C2_0_6c23d4ac48\" x=\"14.390429\" y=\"270.836391\" style=\"fill: #fff5eb\"/>\n    </g>\n    <g clip-path=\"url(#p5680fb8e47)\">\n     <use xlink:href=\"#C2_0_6c23d4ac48\" x=\"14.390429\" y=\"258.955399\" style=\"fill: #fff5eb\"/>\n    </g>\n    <g clip-path=\"url(#p5680fb8e47)\">\n     <use xlink:href=\"#C2_0_6c23d4ac48\" x=\"14.390429\" y=\"247.074408\" style=\"fill: #fff5eb\"/>\n    </g>\n    <g clip-path=\"url(#p5680fb8e47)\">\n     <use xlink:href=\"#C2_0_6c23d4ac48\" x=\"14.390429\" y=\"235.193416\" style=\"fill: #fff5eb\"/>\n    </g>\n    <g clip-path=\"url(#p5680fb8e47)\">\n     <use xlink:href=\"#C2_0_6c23d4ac48\" x=\"14.390429\" y=\"223.312424\" style=\"fill: #fff5eb\"/>\n    </g>\n    <g clip-path=\"url(#p5680fb8e47)\">\n     <use xlink:href=\"#C2_0_6c23d4ac48\" x=\"14.390429\" y=\"211.431432\" style=\"fill: #fff5eb\"/>\n    </g>\n    <g clip-path=\"url(#p5680fb8e47)\">\n     <use xlink:href=\"#C2_0_6c23d4ac48\" x=\"14.390429\" y=\"199.550441\" style=\"fill: #fff5eb\"/>\n    </g>\n    <g clip-path=\"url(#p5680fb8e47)\">\n     <use xlink:href=\"#C2_0_6c23d4ac48\" x=\"21.241338\" y=\"330.24135\" style=\"fill: #fff5eb\"/>\n    </g>\n    <g clip-path=\"url(#p5680fb8e47)\">\n     <use xlink:href=\"#C2_0_6c23d4ac48\" x=\"21.241338\" y=\"318.360358\" style=\"fill: #fff5eb\"/>\n    </g>\n    <g clip-path=\"url(#p5680fb8e47)\">\n     <use xlink:href=\"#C2_0_6c23d4ac48\" x=\"21.241338\" y=\"306.479366\" style=\"fill: #fff5eb\"/>\n    </g>\n    <g clip-path=\"url(#p5680fb8e47)\">\n     <use xlink:href=\"#C2_0_6c23d4ac48\" x=\"21.241338\" y=\"294.598375\" style=\"fill: #fd9344\"/>\n    </g>\n    <g clip-path=\"url(#p5680fb8e47)\">\n     <use xlink:href=\"#C2_0_6c23d4ac48\" x=\"21.241338\" y=\"282.717383\" style=\"fill: #fff0e1\"/>\n    </g>\n    <g clip-path=\"url(#p5680fb8e47)\">\n     <use xlink:href=\"#C2_0_6c23d4ac48\" x=\"21.241338\" y=\"270.836391\" style=\"fill: #fff5eb\"/>\n    </g>\n    <g clip-path=\"url(#p5680fb8e47)\">\n     <use xlink:href=\"#C2_0_6c23d4ac48\" x=\"21.241338\" y=\"258.955399\" style=\"fill: #fff5eb\"/>\n    </g>\n    <g clip-path=\"url(#p5680fb8e47)\">\n     <use xlink:href=\"#C2_0_6c23d4ac48\" x=\"21.241338\" y=\"247.074408\" style=\"fill: #fff5eb\"/>\n    </g>\n    <g clip-path=\"url(#p5680fb8e47)\">\n     <use xlink:href=\"#C2_0_6c23d4ac48\" x=\"21.241338\" y=\"235.193416\" style=\"fill: #fff5eb\"/>\n    </g>\n    <g clip-path=\"url(#p5680fb8e47)\">\n     <use xlink:href=\"#C2_0_6c23d4ac48\" x=\"21.241338\" y=\"223.312424\" style=\"fill: #fff5eb\"/>\n    </g>\n    <g clip-path=\"url(#p5680fb8e47)\">\n     <use xlink:href=\"#C2_0_6c23d4ac48\" x=\"21.241338\" y=\"211.431432\" style=\"fill: #fff5eb\"/>\n    </g>\n    <g clip-path=\"url(#p5680fb8e47)\">\n     <use xlink:href=\"#C2_0_6c23d4ac48\" x=\"21.241338\" y=\"199.550441\" style=\"fill: #fff5eb\"/>\n    </g>\n    <g clip-path=\"url(#p5680fb8e47)\">\n     <use xlink:href=\"#C2_0_6c23d4ac48\" x=\"28.092247\" y=\"330.24135\" style=\"fill: #fff5eb\"/>\n    </g>\n    <g clip-path=\"url(#p5680fb8e47)\">\n     <use xlink:href=\"#C2_0_6c23d4ac48\" x=\"28.092247\" y=\"318.360358\" style=\"fill: #fff5eb\"/>\n    </g>\n    <g clip-path=\"url(#p5680fb8e47)\">\n     <use xlink:href=\"#C2_0_6c23d4ac48\" x=\"28.092247\" y=\"306.479366\" style=\"fill: #fff5eb\"/>\n    </g>\n    <g clip-path=\"url(#p5680fb8e47)\">\n     <use xlink:href=\"#C2_0_6c23d4ac48\" x=\"28.092247\" y=\"294.598375\" style=\"fill: #fff5eb\"/>\n    </g>\n    <g clip-path=\"url(#p5680fb8e47)\">\n     <use xlink:href=\"#C2_0_6c23d4ac48\" x=\"28.092247\" y=\"282.717383\" style=\"fill: #fff0e1\"/>\n    </g>\n    <g clip-path=\"url(#p5680fb8e47)\">\n     <use xlink:href=\"#C2_0_6c23d4ac48\" x=\"28.092247\" y=\"270.836391\" style=\"fill: #fff5eb\"/>\n    </g>\n    <g clip-path=\"url(#p5680fb8e47)\">\n     <use xlink:href=\"#C2_0_6c23d4ac48\" x=\"28.092247\" y=\"258.955399\" style=\"fill: #fff5eb\"/>\n    </g>\n    <g clip-path=\"url(#p5680fb8e47)\">\n     <use xlink:href=\"#C2_0_6c23d4ac48\" x=\"28.092247\" y=\"247.074408\" style=\"fill: #fff5eb\"/>\n    </g>\n    <g clip-path=\"url(#p5680fb8e47)\">\n     <use xlink:href=\"#C2_0_6c23d4ac48\" x=\"28.092247\" y=\"235.193416\" style=\"fill: #fff5eb\"/>\n    </g>\n    <g clip-path=\"url(#p5680fb8e47)\">\n     <use xlink:href=\"#C2_0_6c23d4ac48\" x=\"28.092247\" y=\"223.312424\" style=\"fill: #fff5eb\"/>\n    </g>\n    <g clip-path=\"url(#p5680fb8e47)\">\n     <use xlink:href=\"#C2_0_6c23d4ac48\" x=\"28.092247\" y=\"211.431432\" style=\"fill: #fff5eb\"/>\n    </g>\n    <g clip-path=\"url(#p5680fb8e47)\">\n     <use xlink:href=\"#C2_0_6c23d4ac48\" x=\"28.092247\" y=\"199.550441\" style=\"fill: #fff5eb\"/>\n    </g>\n    <g clip-path=\"url(#p5680fb8e47)\">\n     <use xlink:href=\"#C2_0_6c23d4ac48\" x=\"34.943156\" y=\"330.24135\" style=\"fill: #fff5eb\"/>\n    </g>\n    <g clip-path=\"url(#p5680fb8e47)\">\n     <use xlink:href=\"#C2_0_6c23d4ac48\" x=\"34.943156\" y=\"318.360358\" style=\"fill: #fff5eb\"/>\n    </g>\n    <g clip-path=\"url(#p5680fb8e47)\">\n     <use xlink:href=\"#C2_0_6c23d4ac48\" x=\"34.943156\" y=\"306.479366\" style=\"fill: #fff5eb\"/>\n    </g>\n    <g clip-path=\"url(#p5680fb8e47)\">\n     <use xlink:href=\"#C2_0_6c23d4ac48\" x=\"34.943156\" y=\"294.598375\" style=\"fill: #fff5eb\"/>\n    </g>\n    <g clip-path=\"url(#p5680fb8e47)\">\n     <use xlink:href=\"#C2_0_6c23d4ac48\" x=\"34.943156\" y=\"282.717383\" style=\"fill: #fff5eb\"/>\n    </g>\n    <g clip-path=\"url(#p5680fb8e47)\">\n     <use xlink:href=\"#C2_0_6c23d4ac48\" x=\"34.943156\" y=\"270.836391\" style=\"fill: #fff5eb\"/>\n    </g>\n    <g clip-path=\"url(#p5680fb8e47)\">\n     <use xlink:href=\"#C2_0_6c23d4ac48\" x=\"34.943156\" y=\"258.955399\" style=\"fill: #fff5eb\"/>\n    </g>\n    <g clip-path=\"url(#p5680fb8e47)\">\n     <use xlink:href=\"#C2_0_6c23d4ac48\" x=\"34.943156\" y=\"247.074408\" style=\"fill: #fff5eb\"/>\n    </g>\n    <g clip-path=\"url(#p5680fb8e47)\">\n     <use xlink:href=\"#C2_0_6c23d4ac48\" x=\"34.943156\" y=\"235.193416\" style=\"fill: #fff5eb\"/>\n    </g>\n    <g clip-path=\"url(#p5680fb8e47)\">\n     <use xlink:href=\"#C2_0_6c23d4ac48\" x=\"34.943156\" y=\"223.312424\" style=\"fill: #fff5eb\"/>\n    </g>\n    <g clip-path=\"url(#p5680fb8e47)\">\n     <use xlink:href=\"#C2_0_6c23d4ac48\" x=\"34.943156\" y=\"211.431432\" style=\"fill: #fff5eb\"/>\n    </g>\n    <g clip-path=\"url(#p5680fb8e47)\">\n     <use xlink:href=\"#C2_0_6c23d4ac48\" x=\"34.943156\" y=\"199.550441\" style=\"fill: #fff5eb\"/>\n    </g>\n    <g clip-path=\"url(#p5680fb8e47)\">\n     <use xlink:href=\"#C2_0_6c23d4ac48\" x=\"41.794065\" y=\"330.24135\" style=\"fill: #fff5eb\"/>\n    </g>\n    <g clip-path=\"url(#p5680fb8e47)\">\n     <use xlink:href=\"#C2_0_6c23d4ac48\" x=\"41.794065\" y=\"318.360358\" style=\"fill: #fff5eb\"/>\n    </g>\n    <g clip-path=\"url(#p5680fb8e47)\">\n     <use xlink:href=\"#C2_0_6c23d4ac48\" x=\"41.794065\" y=\"306.479366\" style=\"fill: #fff5eb\"/>\n    </g>\n    <g clip-path=\"url(#p5680fb8e47)\">\n     <use xlink:href=\"#C2_0_6c23d4ac48\" x=\"41.794065\" y=\"294.598375\" style=\"fill: #fff5eb\"/>\n    </g>\n    <g clip-path=\"url(#p5680fb8e47)\">\n     <use xlink:href=\"#C2_0_6c23d4ac48\" x=\"41.794065\" y=\"282.717383\" style=\"fill: #fff5eb\"/>\n    </g>\n    <g clip-path=\"url(#p5680fb8e47)\">\n     <use xlink:href=\"#C2_0_6c23d4ac48\" x=\"41.794065\" y=\"270.836391\" style=\"fill: #fff0e1\"/>\n    </g>\n    <g clip-path=\"url(#p5680fb8e47)\">\n     <use xlink:href=\"#C2_0_6c23d4ac48\" x=\"41.794065\" y=\"258.955399\" style=\"fill: #fff0e1\"/>\n    </g>\n    <g clip-path=\"url(#p5680fb8e47)\">\n     <use xlink:href=\"#C2_0_6c23d4ac48\" x=\"41.794065\" y=\"247.074408\" style=\"fill: #fff5eb\"/>\n    </g>\n    <g clip-path=\"url(#p5680fb8e47)\">\n     <use xlink:href=\"#C2_0_6c23d4ac48\" x=\"41.794065\" y=\"235.193416\" style=\"fill: #fff5eb\"/>\n    </g>\n    <g clip-path=\"url(#p5680fb8e47)\">\n     <use xlink:href=\"#C2_0_6c23d4ac48\" x=\"41.794065\" y=\"223.312424\" style=\"fill: #fff5eb\"/>\n    </g>\n    <g clip-path=\"url(#p5680fb8e47)\">\n     <use xlink:href=\"#C2_0_6c23d4ac48\" x=\"41.794065\" y=\"211.431432\" style=\"fill: #fff5eb\"/>\n    </g>\n    <g clip-path=\"url(#p5680fb8e47)\">\n     <use xlink:href=\"#C2_0_6c23d4ac48\" x=\"41.794065\" y=\"199.550441\" style=\"fill: #fff5eb\"/>\n    </g>\n    <g clip-path=\"url(#p5680fb8e47)\">\n     <use xlink:href=\"#C2_0_6c23d4ac48\" x=\"48.644974\" y=\"330.24135\" style=\"fill: #fff5eb\"/>\n    </g>\n    <g clip-path=\"url(#p5680fb8e47)\">\n     <use xlink:href=\"#C2_0_6c23d4ac48\" x=\"48.644974\" y=\"318.360358\" style=\"fill: #fff5eb\"/>\n    </g>\n    <g clip-path=\"url(#p5680fb8e47)\">\n     <use xlink:href=\"#C2_0_6c23d4ac48\" x=\"48.644974\" y=\"306.479366\" style=\"fill: #fff5eb\"/>\n    </g>\n    <g clip-path=\"url(#p5680fb8e47)\">\n     <use xlink:href=\"#C2_0_6c23d4ac48\" x=\"48.644974\" y=\"294.598375\" style=\"fill: #fff5eb\"/>\n    </g>\n    <g clip-path=\"url(#p5680fb8e47)\">\n     <use xlink:href=\"#C2_0_6c23d4ac48\" x=\"48.644974\" y=\"282.717383\" style=\"fill: #fff5eb\"/>\n    </g>\n    <g clip-path=\"url(#p5680fb8e47)\">\n     <use xlink:href=\"#C2_0_6c23d4ac48\" x=\"48.644974\" y=\"270.836391\" style=\"fill: #fee5cc\"/>\n    </g>\n    <g clip-path=\"url(#p5680fb8e47)\">\n     <use xlink:href=\"#C2_0_6c23d4ac48\" x=\"48.644974\" y=\"258.955399\" style=\"fill: #fee5cc\"/>\n    </g>\n    <g clip-path=\"url(#p5680fb8e47)\">\n     <use xlink:href=\"#C2_0_6c23d4ac48\" x=\"48.644974\" y=\"247.074408\" style=\"fill: #fdd6ae\"/>\n    </g>\n    <g clip-path=\"url(#p5680fb8e47)\">\n     <use xlink:href=\"#C2_0_6c23d4ac48\" x=\"48.644974\" y=\"235.193416\" style=\"fill: #fff5eb\"/>\n    </g>\n    <g clip-path=\"url(#p5680fb8e47)\">\n     <use xlink:href=\"#C2_0_6c23d4ac48\" x=\"48.644974\" y=\"223.312424\" style=\"fill: #fff5eb\"/>\n    </g>\n    <g clip-path=\"url(#p5680fb8e47)\">\n     <use xlink:href=\"#C2_0_6c23d4ac48\" x=\"48.644974\" y=\"211.431432\" style=\"fill: #fff5eb\"/>\n    </g>\n    <g clip-path=\"url(#p5680fb8e47)\">\n     <use xlink:href=\"#C2_0_6c23d4ac48\" x=\"48.644974\" y=\"199.550441\" style=\"fill: #fff5eb\"/>\n    </g>\n    <g clip-path=\"url(#p5680fb8e47)\">\n     <use xlink:href=\"#C2_0_6c23d4ac48\" x=\"55.495884\" y=\"330.24135\" style=\"fill: #fff5eb\"/>\n    </g>\n    <g clip-path=\"url(#p5680fb8e47)\">\n     <use xlink:href=\"#C2_0_6c23d4ac48\" x=\"55.495884\" y=\"318.360358\" style=\"fill: #fff5eb\"/>\n    </g>\n    <g clip-path=\"url(#p5680fb8e47)\">\n     <use xlink:href=\"#C2_0_6c23d4ac48\" x=\"55.495884\" y=\"306.479366\" style=\"fill: #fff5eb\"/>\n    </g>\n    <g clip-path=\"url(#p5680fb8e47)\">\n     <use xlink:href=\"#C2_0_6c23d4ac48\" x=\"55.495884\" y=\"294.598375\" style=\"fill: #feebd7\"/>\n    </g>\n    <g clip-path=\"url(#p5680fb8e47)\">\n     <use xlink:href=\"#C2_0_6c23d4ac48\" x=\"55.495884\" y=\"282.717383\" style=\"fill: #f77a27\"/>\n    </g>\n    <g clip-path=\"url(#p5680fb8e47)\">\n     <use xlink:href=\"#C2_0_6c23d4ac48\" x=\"55.495884\" y=\"270.836391\" style=\"fill: #fedebd\"/>\n    </g>\n    <g clip-path=\"url(#p5680fb8e47)\">\n     <use xlink:href=\"#C2_0_6c23d4ac48\" x=\"55.495884\" y=\"258.955399\" style=\"fill: #fdce9e\"/>\n    </g>\n    <g clip-path=\"url(#p5680fb8e47)\">\n     <use xlink:href=\"#C2_0_6c23d4ac48\" x=\"55.495884\" y=\"247.074408\" style=\"fill: #fdb576\"/>\n    </g>\n    <g clip-path=\"url(#p5680fb8e47)\">\n     <use xlink:href=\"#C2_0_6c23d4ac48\" x=\"55.495884\" y=\"235.193416\" style=\"fill: #fff5eb\"/>\n    </g>\n    <g clip-path=\"url(#p5680fb8e47)\">\n     <use xlink:href=\"#C2_0_6c23d4ac48\" x=\"55.495884\" y=\"223.312424\" style=\"fill: #fff5eb\"/>\n    </g>\n    <g clip-path=\"url(#p5680fb8e47)\">\n     <use xlink:href=\"#C2_0_6c23d4ac48\" x=\"55.495884\" y=\"211.431432\" style=\"fill: #fff5eb\"/>\n    </g>\n    <g clip-path=\"url(#p5680fb8e47)\">\n     <use xlink:href=\"#C2_0_6c23d4ac48\" x=\"55.495884\" y=\"199.550441\" style=\"fill: #fff5eb\"/>\n    </g>\n    <g clip-path=\"url(#p5680fb8e47)\">\n     <use xlink:href=\"#C2_0_6c23d4ac48\" x=\"62.346793\" y=\"330.24135\" style=\"fill: #fff5eb\"/>\n    </g>\n    <g clip-path=\"url(#p5680fb8e47)\">\n     <use xlink:href=\"#C2_0_6c23d4ac48\" x=\"62.346793\" y=\"318.360358\" style=\"fill: #fff5eb\"/>\n    </g>\n    <g clip-path=\"url(#p5680fb8e47)\">\n     <use xlink:href=\"#C2_0_6c23d4ac48\" x=\"62.346793\" y=\"306.479366\" style=\"fill: #fff5eb\"/>\n    </g>\n    <g clip-path=\"url(#p5680fb8e47)\">\n     <use xlink:href=\"#C2_0_6c23d4ac48\" x=\"62.346793\" y=\"294.598375\" style=\"fill: #fb8735\"/>\n    </g>\n    <g clip-path=\"url(#p5680fb8e47)\">\n     <use xlink:href=\"#C2_0_6c23d4ac48\" x=\"62.346793\" y=\"282.717383\" style=\"fill: #fdce9e\"/>\n    </g>\n    <g clip-path=\"url(#p5680fb8e47)\">\n     <use xlink:href=\"#C2_0_6c23d4ac48\" x=\"62.346793\" y=\"270.836391\" style=\"fill: #fb8735\"/>\n    </g>\n    <g clip-path=\"url(#p5680fb8e47)\">\n     <use xlink:href=\"#C2_0_6c23d4ac48\" x=\"62.346793\" y=\"258.955399\" style=\"fill: #fdd6ae\"/>\n    </g>\n    <g clip-path=\"url(#p5680fb8e47)\">\n     <use xlink:href=\"#C2_0_6c23d4ac48\" x=\"62.346793\" y=\"247.074408\" style=\"fill: #fdd6ae\"/>\n    </g>\n    <g clip-path=\"url(#p5680fb8e47)\">\n     <use xlink:href=\"#C2_0_6c23d4ac48\" x=\"62.346793\" y=\"235.193416\" style=\"fill: #fff5eb\"/>\n    </g>\n    <g clip-path=\"url(#p5680fb8e47)\">\n     <use xlink:href=\"#C2_0_6c23d4ac48\" x=\"62.346793\" y=\"223.312424\" style=\"fill: #fff5eb\"/>\n    </g>\n    <g clip-path=\"url(#p5680fb8e47)\">\n     <use xlink:href=\"#C2_0_6c23d4ac48\" x=\"62.346793\" y=\"211.431432\" style=\"fill: #fff5eb\"/>\n    </g>\n    <g clip-path=\"url(#p5680fb8e47)\">\n     <use xlink:href=\"#C2_0_6c23d4ac48\" x=\"62.346793\" y=\"199.550441\" style=\"fill: #fff5eb\"/>\n    </g>\n    <g clip-path=\"url(#p5680fb8e47)\">\n     <use xlink:href=\"#C2_0_6c23d4ac48\" x=\"69.197702\" y=\"330.24135\" style=\"fill: #fff5eb\"/>\n    </g>\n    <g clip-path=\"url(#p5680fb8e47)\">\n     <use xlink:href=\"#C2_0_6c23d4ac48\" x=\"69.197702\" y=\"318.360358\" style=\"fill: #fff5eb\"/>\n    </g>\n    <g clip-path=\"url(#p5680fb8e47)\">\n     <use xlink:href=\"#C2_0_6c23d4ac48\" x=\"69.197702\" y=\"306.479366\" style=\"fill: #fff5eb\"/>\n    </g>\n    <g clip-path=\"url(#p5680fb8e47)\">\n     <use xlink:href=\"#C2_0_6c23d4ac48\" x=\"69.197702\" y=\"294.598375\" style=\"fill: #fd9e54\"/>\n    </g>\n    <g clip-path=\"url(#p5680fb8e47)\">\n     <use xlink:href=\"#C2_0_6c23d4ac48\" x=\"69.197702\" y=\"282.717383\" style=\"fill: #fdc28b\"/>\n    </g>\n    <g clip-path=\"url(#p5680fb8e47)\">\n     <use xlink:href=\"#C2_0_6c23d4ac48\" x=\"69.197702\" y=\"270.836391\" style=\"fill: #fdc28b\"/>\n    </g>\n    <g clip-path=\"url(#p5680fb8e47)\">\n     <use xlink:href=\"#C2_0_6c23d4ac48\" x=\"69.197702\" y=\"258.955399\" style=\"fill: #fdc28b\"/>\n    </g>\n    <g clip-path=\"url(#p5680fb8e47)\">\n     <use xlink:href=\"#C2_0_6c23d4ac48\" x=\"69.197702\" y=\"247.074408\" style=\"fill: #fff5eb\"/>\n    </g>\n    <g clip-path=\"url(#p5680fb8e47)\">\n     <use xlink:href=\"#C2_0_6c23d4ac48\" x=\"69.197702\" y=\"235.193416\" style=\"fill: #fff5eb\"/>\n    </g>\n    <g clip-path=\"url(#p5680fb8e47)\">\n     <use xlink:href=\"#C2_0_6c23d4ac48\" x=\"69.197702\" y=\"223.312424\" style=\"fill: #fff5eb\"/>\n    </g>\n    <g clip-path=\"url(#p5680fb8e47)\">\n     <use xlink:href=\"#C2_0_6c23d4ac48\" x=\"69.197702\" y=\"211.431432\" style=\"fill: #fff5eb\"/>\n    </g>\n    <g clip-path=\"url(#p5680fb8e47)\">\n     <use xlink:href=\"#C2_0_6c23d4ac48\" x=\"69.197702\" y=\"199.550441\" style=\"fill: #fff5eb\"/>\n    </g>\n    <g clip-path=\"url(#p5680fb8e47)\">\n     <use xlink:href=\"#C2_0_6c23d4ac48\" x=\"76.048611\" y=\"330.24135\" style=\"fill: #fff5eb\"/>\n    </g>\n    <g clip-path=\"url(#p5680fb8e47)\">\n     <use xlink:href=\"#C2_0_6c23d4ac48\" x=\"76.048611\" y=\"318.360358\" style=\"fill: #fff5eb\"/>\n    </g>\n    <g clip-path=\"url(#p5680fb8e47)\">\n     <use xlink:href=\"#C2_0_6c23d4ac48\" x=\"76.048611\" y=\"306.479366\" style=\"fill: #fff5eb\"/>\n    </g>\n    <g clip-path=\"url(#p5680fb8e47)\">\n     <use xlink:href=\"#C2_0_6c23d4ac48\" x=\"76.048611\" y=\"294.598375\" style=\"fill: #fb8735\"/>\n    </g>\n    <g clip-path=\"url(#p5680fb8e47)\">\n     <use xlink:href=\"#C2_0_6c23d4ac48\" x=\"76.048611\" y=\"282.717383\" style=\"fill: #fee5cc\"/>\n    </g>\n    <g clip-path=\"url(#p5680fb8e47)\">\n     <use xlink:href=\"#C2_0_6c23d4ac48\" x=\"76.048611\" y=\"270.836391\" style=\"fill: #fdd6ae\"/>\n    </g>\n    <g clip-path=\"url(#p5680fb8e47)\">\n     <use xlink:href=\"#C2_0_6c23d4ac48\" x=\"76.048611\" y=\"258.955399\" style=\"fill: #fedebd\"/>\n    </g>\n    <g clip-path=\"url(#p5680fb8e47)\">\n     <use xlink:href=\"#C2_0_6c23d4ac48\" x=\"76.048611\" y=\"247.074408\" style=\"fill: #fff5eb\"/>\n    </g>\n    <g clip-path=\"url(#p5680fb8e47)\">\n     <use xlink:href=\"#C2_0_6c23d4ac48\" x=\"76.048611\" y=\"235.193416\" style=\"fill: #fff5eb\"/>\n    </g>\n    <g clip-path=\"url(#p5680fb8e47)\">\n     <use xlink:href=\"#C2_0_6c23d4ac48\" x=\"76.048611\" y=\"223.312424\" style=\"fill: #fff5eb\"/>\n    </g>\n    <g clip-path=\"url(#p5680fb8e47)\">\n     <use xlink:href=\"#C2_0_6c23d4ac48\" x=\"76.048611\" y=\"211.431432\" style=\"fill: #fff5eb\"/>\n    </g>\n    <g clip-path=\"url(#p5680fb8e47)\">\n     <use xlink:href=\"#C2_0_6c23d4ac48\" x=\"76.048611\" y=\"199.550441\" style=\"fill: #fff5eb\"/>\n    </g>\n    <g clip-path=\"url(#p5680fb8e47)\">\n     <use xlink:href=\"#C2_0_6c23d4ac48\" x=\"82.89952\" y=\"330.24135\" style=\"fill: #fff5eb\"/>\n    </g>\n    <g clip-path=\"url(#p5680fb8e47)\">\n     <use xlink:href=\"#C2_0_6c23d4ac48\" x=\"82.89952\" y=\"318.360358\" style=\"fill: #fff5eb\"/>\n    </g>\n    <g clip-path=\"url(#p5680fb8e47)\">\n     <use xlink:href=\"#C2_0_6c23d4ac48\" x=\"82.89952\" y=\"306.479366\" style=\"fill: #fff5eb\"/>\n    </g>\n    <g clip-path=\"url(#p5680fb8e47)\">\n     <use xlink:href=\"#C2_0_6c23d4ac48\" x=\"82.89952\" y=\"294.598375\" style=\"fill: #fff0e1\"/>\n    </g>\n    <g clip-path=\"url(#p5680fb8e47)\">\n     <use xlink:href=\"#C2_0_6c23d4ac48\" x=\"82.89952\" y=\"282.717383\" style=\"fill: #fedebd\"/>\n    </g>\n    <g clip-path=\"url(#p5680fb8e47)\">\n     <use xlink:href=\"#C2_0_6c23d4ac48\" x=\"82.89952\" y=\"270.836391\" style=\"fill: #fff0e1\"/>\n    </g>\n    <g clip-path=\"url(#p5680fb8e47)\">\n     <use xlink:href=\"#C2_0_6c23d4ac48\" x=\"82.89952\" y=\"258.955399\" style=\"fill: #feebd7\"/>\n    </g>\n    <g clip-path=\"url(#p5680fb8e47)\">\n     <use xlink:href=\"#C2_0_6c23d4ac48\" x=\"82.89952\" y=\"247.074408\" style=\"fill: #fff5eb\"/>\n    </g>\n    <g clip-path=\"url(#p5680fb8e47)\">\n     <use xlink:href=\"#C2_0_6c23d4ac48\" x=\"82.89952\" y=\"235.193416\" style=\"fill: #fff5eb\"/>\n    </g>\n    <g clip-path=\"url(#p5680fb8e47)\">\n     <use xlink:href=\"#C2_0_6c23d4ac48\" x=\"82.89952\" y=\"223.312424\" style=\"fill: #fff5eb\"/>\n    </g>\n    <g clip-path=\"url(#p5680fb8e47)\">\n     <use xlink:href=\"#C2_0_6c23d4ac48\" x=\"82.89952\" y=\"211.431432\" style=\"fill: #fff5eb\"/>\n    </g>\n    <g clip-path=\"url(#p5680fb8e47)\">\n     <use xlink:href=\"#C2_0_6c23d4ac48\" x=\"82.89952\" y=\"199.550441\" style=\"fill: #fff5eb\"/>\n    </g>\n    <g clip-path=\"url(#p5680fb8e47)\">\n     <use xlink:href=\"#C2_0_6c23d4ac48\" x=\"-50.693207\" y=\"324.300854\" style=\"fill: #fff5eb\"/>\n    </g>\n    <g clip-path=\"url(#p5680fb8e47)\">\n     <use xlink:href=\"#C2_0_6c23d4ac48\" x=\"-50.693207\" y=\"312.419862\" style=\"fill: #fff5eb\"/>\n    </g>\n    <g clip-path=\"url(#p5680fb8e47)\">\n     <use xlink:href=\"#C2_0_6c23d4ac48\" x=\"-50.693207\" y=\"300.53887\" style=\"fill: #fff5eb\"/>\n    </g>\n    <g clip-path=\"url(#p5680fb8e47)\">\n     <use xlink:href=\"#C2_0_6c23d4ac48\" x=\"-50.693207\" y=\"288.657879\" style=\"fill: #fff5eb\"/>\n    </g>\n    <g clip-path=\"url(#p5680fb8e47)\">\n     <use xlink:href=\"#C2_0_6c23d4ac48\" x=\"-50.693207\" y=\"276.776887\" style=\"fill: #fedebd\"/>\n    </g>\n    <g clip-path=\"url(#p5680fb8e47)\">\n     <use xlink:href=\"#C2_0_6c23d4ac48\" x=\"-50.693207\" y=\"264.895895\" style=\"fill: #fee5cc\"/>\n    </g>\n    <g clip-path=\"url(#p5680fb8e47)\">\n     <use xlink:href=\"#C2_0_6c23d4ac48\" x=\"-50.693207\" y=\"253.014903\" style=\"fill: #fd9e54\"/>\n    </g>\n    <g clip-path=\"url(#p5680fb8e47)\">\n     <use xlink:href=\"#C2_0_6c23d4ac48\" x=\"-50.693207\" y=\"241.133912\" style=\"fill: #fff5eb\"/>\n    </g>\n    <g clip-path=\"url(#p5680fb8e47)\">\n     <use xlink:href=\"#C2_0_6c23d4ac48\" x=\"-50.693207\" y=\"229.25292\" style=\"fill: #fff5eb\"/>\n    </g>\n    <g clip-path=\"url(#p5680fb8e47)\">\n     <use xlink:href=\"#C2_0_6c23d4ac48\" x=\"-50.693207\" y=\"217.371928\" style=\"fill: #fff5eb\"/>\n    </g>\n    <g clip-path=\"url(#p5680fb8e47)\">\n     <use xlink:href=\"#C2_0_6c23d4ac48\" x=\"-50.693207\" y=\"205.490937\" style=\"fill: #fff5eb\"/>\n    </g>\n    <g clip-path=\"url(#p5680fb8e47)\">\n     <use xlink:href=\"#C2_0_6c23d4ac48\" x=\"-43.842298\" y=\"324.300854\" style=\"fill: #fff5eb\"/>\n    </g>\n    <g clip-path=\"url(#p5680fb8e47)\">\n     <use xlink:href=\"#C2_0_6c23d4ac48\" x=\"-43.842298\" y=\"312.419862\" style=\"fill: #fff5eb\"/>\n    </g>\n    <g clip-path=\"url(#p5680fb8e47)\">\n     <use xlink:href=\"#C2_0_6c23d4ac48\" x=\"-43.842298\" y=\"300.53887\" style=\"fill: #fff5eb\"/>\n    </g>\n    <g clip-path=\"url(#p5680fb8e47)\">\n     <use xlink:href=\"#C2_0_6c23d4ac48\" x=\"-43.842298\" y=\"288.657879\" style=\"fill: #fd9344\"/>\n    </g>\n    <g clip-path=\"url(#p5680fb8e47)\">\n     <use xlink:href=\"#C2_0_6c23d4ac48\" x=\"-43.842298\" y=\"276.776887\" style=\"fill: #fdce9e\"/>\n    </g>\n    <g clip-path=\"url(#p5680fb8e47)\">\n     <use xlink:href=\"#C2_0_6c23d4ac48\" x=\"-43.842298\" y=\"264.895895\" style=\"fill: #fee5cc\"/>\n    </g>\n    <g clip-path=\"url(#p5680fb8e47)\">\n     <use xlink:href=\"#C2_0_6c23d4ac48\" x=\"-43.842298\" y=\"253.014903\" style=\"fill: #fdce9e\"/>\n    </g>\n    <g clip-path=\"url(#p5680fb8e47)\">\n     <use xlink:href=\"#C2_0_6c23d4ac48\" x=\"-43.842298\" y=\"241.133912\" style=\"fill: #feebd7\"/>\n    </g>\n    <g clip-path=\"url(#p5680fb8e47)\">\n     <use xlink:href=\"#C2_0_6c23d4ac48\" x=\"-43.842298\" y=\"229.25292\" style=\"fill: #fff5eb\"/>\n    </g>\n    <g clip-path=\"url(#p5680fb8e47)\">\n     <use xlink:href=\"#C2_0_6c23d4ac48\" x=\"-43.842298\" y=\"217.371928\" style=\"fill: #fff5eb\"/>\n    </g>\n    <g clip-path=\"url(#p5680fb8e47)\">\n     <use xlink:href=\"#C2_0_6c23d4ac48\" x=\"-43.842298\" y=\"205.490937\" style=\"fill: #fff5eb\"/>\n    </g>\n    <g clip-path=\"url(#p5680fb8e47)\">\n     <use xlink:href=\"#C2_0_6c23d4ac48\" x=\"-36.991389\" y=\"324.300854\" style=\"fill: #fff5eb\"/>\n    </g>\n    <g clip-path=\"url(#p5680fb8e47)\">\n     <use xlink:href=\"#C2_0_6c23d4ac48\" x=\"-36.991389\" y=\"312.419862\" style=\"fill: #fff0e1\"/>\n    </g>\n    <g clip-path=\"url(#p5680fb8e47)\">\n     <use xlink:href=\"#C2_0_6c23d4ac48\" x=\"-36.991389\" y=\"300.53887\" style=\"fill: #feebd7\"/>\n    </g>\n    <g clip-path=\"url(#p5680fb8e47)\">\n     <use xlink:href=\"#C2_0_6c23d4ac48\" x=\"-36.991389\" y=\"288.657879\" style=\"fill: #fd9344\"/>\n    </g>\n    <g clip-path=\"url(#p5680fb8e47)\">\n     <use xlink:href=\"#C2_0_6c23d4ac48\" x=\"-36.991389\" y=\"276.776887\" style=\"fill: #fdce9e\"/>\n    </g>\n    <g clip-path=\"url(#p5680fb8e47)\">\n     <use xlink:href=\"#C2_0_6c23d4ac48\" x=\"-36.991389\" y=\"264.895895\" style=\"fill: #fd9344\"/>\n    </g>\n    <g clip-path=\"url(#p5680fb8e47)\">\n     <use xlink:href=\"#C2_0_6c23d4ac48\" x=\"-36.991389\" y=\"253.014903\" style=\"fill: #fedebd\"/>\n    </g>\n    <g clip-path=\"url(#p5680fb8e47)\">\n     <use xlink:href=\"#C2_0_6c23d4ac48\" x=\"-36.991389\" y=\"241.133912\" style=\"fill: #fdce9e\"/>\n    </g>\n    <g clip-path=\"url(#p5680fb8e47)\">\n     <use xlink:href=\"#C2_0_6c23d4ac48\" x=\"-36.991389\" y=\"229.25292\" style=\"fill: #fff5eb\"/>\n    </g>\n    <g clip-path=\"url(#p5680fb8e47)\">\n     <use xlink:href=\"#C2_0_6c23d4ac48\" x=\"-36.991389\" y=\"217.371928\" style=\"fill: #fff5eb\"/>\n    </g>\n    <g clip-path=\"url(#p5680fb8e47)\">\n     <use xlink:href=\"#C2_0_6c23d4ac48\" x=\"-36.991389\" y=\"205.490937\" style=\"fill: #fff5eb\"/>\n    </g>\n    <g clip-path=\"url(#p5680fb8e47)\">\n     <use xlink:href=\"#C2_0_6c23d4ac48\" x=\"-30.14048\" y=\"324.300854\" style=\"fill: #fff5eb\"/>\n    </g>\n    <g clip-path=\"url(#p5680fb8e47)\">\n     <use xlink:href=\"#C2_0_6c23d4ac48\" x=\"-30.14048\" y=\"312.419862\" style=\"fill: #fdce9e\"/>\n    </g>\n    <g clip-path=\"url(#p5680fb8e47)\">\n     <use xlink:href=\"#C2_0_6c23d4ac48\" x=\"-30.14048\" y=\"300.53887\" style=\"fill: #fb8735\"/>\n    </g>\n    <g clip-path=\"url(#p5680fb8e47)\">\n     <use xlink:href=\"#C2_0_6c23d4ac48\" x=\"-30.14048\" y=\"288.657879\" style=\"fill: #fdce9e\"/>\n    </g>\n    <g clip-path=\"url(#p5680fb8e47)\">\n     <use xlink:href=\"#C2_0_6c23d4ac48\" x=\"-30.14048\" y=\"276.776887\" style=\"fill: #fdb576\"/>\n    </g>\n    <g clip-path=\"url(#p5680fb8e47)\">\n     <use xlink:href=\"#C2_0_6c23d4ac48\" x=\"-30.14048\" y=\"264.895895\" style=\"fill: #fd9e54\"/>\n    </g>\n    <g clip-path=\"url(#p5680fb8e47)\">\n     <use xlink:href=\"#C2_0_6c23d4ac48\" x=\"-30.14048\" y=\"253.014903\" style=\"fill: #fee5cc\"/>\n    </g>\n    <g clip-path=\"url(#p5680fb8e47)\">\n     <use xlink:href=\"#C2_0_6c23d4ac48\" x=\"-30.14048\" y=\"241.133912\" style=\"fill: #fdb576\"/>\n    </g>\n    <g clip-path=\"url(#p5680fb8e47)\">\n     <use xlink:href=\"#C2_0_6c23d4ac48\" x=\"-30.14048\" y=\"229.25292\" style=\"fill: #fff5eb\"/>\n    </g>\n    <g clip-path=\"url(#p5680fb8e47)\">\n     <use xlink:href=\"#C2_0_6c23d4ac48\" x=\"-30.14048\" y=\"217.371928\" style=\"fill: #fff5eb\"/>\n    </g>\n    <g clip-path=\"url(#p5680fb8e47)\">\n     <use xlink:href=\"#C2_0_6c23d4ac48\" x=\"-30.14048\" y=\"205.490937\" style=\"fill: #fff5eb\"/>\n    </g>\n    <g clip-path=\"url(#p5680fb8e47)\">\n     <use xlink:href=\"#C2_0_6c23d4ac48\" x=\"-23.289571\" y=\"324.300854\" style=\"fill: #fff5eb\"/>\n    </g>\n    <g clip-path=\"url(#p5680fb8e47)\">\n     <use xlink:href=\"#C2_0_6c23d4ac48\" x=\"-23.289571\" y=\"312.419862\" style=\"fill: #fd9e54\"/>\n    </g>\n    <g clip-path=\"url(#p5680fb8e47)\">\n     <use xlink:href=\"#C2_0_6c23d4ac48\" x=\"-23.289571\" y=\"300.53887\" style=\"fill: #9a3103\"/>\n    </g>\n    <g clip-path=\"url(#p5680fb8e47)\">\n     <use xlink:href=\"#C2_0_6c23d4ac48\" x=\"-23.289571\" y=\"288.657879\" style=\"fill: #fda965\"/>\n    </g>\n    <g clip-path=\"url(#p5680fb8e47)\">\n     <use xlink:href=\"#C2_0_6c23d4ac48\" x=\"-23.289571\" y=\"276.776887\" style=\"fill: #fdc28b\"/>\n    </g>\n    <g clip-path=\"url(#p5680fb8e47)\">\n     <use xlink:href=\"#C2_0_6c23d4ac48\" x=\"-23.289571\" y=\"264.895895\" style=\"fill: #fdd6ae\"/>\n    </g>\n    <g clip-path=\"url(#p5680fb8e47)\">\n     <use xlink:href=\"#C2_0_6c23d4ac48\" x=\"-23.289571\" y=\"253.014903\" style=\"fill: #fdd6ae\"/>\n    </g>\n    <g clip-path=\"url(#p5680fb8e47)\">\n     <use xlink:href=\"#C2_0_6c23d4ac48\" x=\"-23.289571\" y=\"241.133912\" style=\"fill: #fdd6ae\"/>\n    </g>\n    <g clip-path=\"url(#p5680fb8e47)\">\n     <use xlink:href=\"#C2_0_6c23d4ac48\" x=\"-23.289571\" y=\"229.25292\" style=\"fill: #fff5eb\"/>\n    </g>\n    <g clip-path=\"url(#p5680fb8e47)\">\n     <use xlink:href=\"#C2_0_6c23d4ac48\" x=\"-23.289571\" y=\"217.371928\" style=\"fill: #fee5cc\"/>\n    </g>\n    <g clip-path=\"url(#p5680fb8e47)\">\n     <use xlink:href=\"#C2_0_6c23d4ac48\" x=\"-23.289571\" y=\"205.490937\" style=\"fill: #fedebd\"/>\n    </g>\n    <g clip-path=\"url(#p5680fb8e47)\">\n     <use xlink:href=\"#C2_0_6c23d4ac48\" x=\"-16.438662\" y=\"324.300854\" style=\"fill: #fff5eb\"/>\n    </g>\n    <g clip-path=\"url(#p5680fb8e47)\">\n     <use xlink:href=\"#C2_0_6c23d4ac48\" x=\"-16.438662\" y=\"312.419862\" style=\"fill: #a83703\"/>\n    </g>\n    <g clip-path=\"url(#p5680fb8e47)\">\n     <use xlink:href=\"#C2_0_6c23d4ac48\" x=\"-16.438662\" y=\"300.53887\" style=\"fill: #ec620f\"/>\n    </g>\n    <g clip-path=\"url(#p5680fb8e47)\">\n     <use xlink:href=\"#C2_0_6c23d4ac48\" x=\"-16.438662\" y=\"288.657879\" style=\"fill: #fd9e54\"/>\n    </g>\n    <g clip-path=\"url(#p5680fb8e47)\">\n     <use xlink:href=\"#C2_0_6c23d4ac48\" x=\"-16.438662\" y=\"276.776887\" style=\"fill: #fd9344\"/>\n    </g>\n    <g clip-path=\"url(#p5680fb8e47)\">\n     <use xlink:href=\"#C2_0_6c23d4ac48\" x=\"-16.438662\" y=\"264.895895\" style=\"fill: #fdc28b\"/>\n    </g>\n    <g clip-path=\"url(#p5680fb8e47)\">\n     <use xlink:href=\"#C2_0_6c23d4ac48\" x=\"-16.438662\" y=\"253.014903\" style=\"fill: #fedebd\"/>\n    </g>\n    <g clip-path=\"url(#p5680fb8e47)\">\n     <use xlink:href=\"#C2_0_6c23d4ac48\" x=\"-16.438662\" y=\"241.133912\" style=\"fill: #fedebd\"/>\n    </g>\n    <g clip-path=\"url(#p5680fb8e47)\">\n     <use xlink:href=\"#C2_0_6c23d4ac48\" x=\"-16.438662\" y=\"229.25292\" style=\"fill: #fff0e1\"/>\n    </g>\n    <g clip-path=\"url(#p5680fb8e47)\">\n     <use xlink:href=\"#C2_0_6c23d4ac48\" x=\"-16.438662\" y=\"217.371928\" style=\"fill: #fdc28b\"/>\n    </g>\n    <g clip-path=\"url(#p5680fb8e47)\">\n     <use xlink:href=\"#C2_0_6c23d4ac48\" x=\"-16.438662\" y=\"205.490937\" style=\"fill: #fdce9e\"/>\n    </g>\n    <g clip-path=\"url(#p5680fb8e47)\">\n     <use xlink:href=\"#C2_0_6c23d4ac48\" x=\"-9.587753\" y=\"324.300854\" style=\"fill: #fff5eb\"/>\n    </g>\n    <g clip-path=\"url(#p5680fb8e47)\">\n     <use xlink:href=\"#C2_0_6c23d4ac48\" x=\"-9.587753\" y=\"312.419862\" style=\"fill: #fee5cc\"/>\n    </g>\n    <g clip-path=\"url(#p5680fb8e47)\">\n     <use xlink:href=\"#C2_0_6c23d4ac48\" x=\"-9.587753\" y=\"300.53887\" style=\"fill: #fd9344\"/>\n    </g>\n    <g clip-path=\"url(#p5680fb8e47)\">\n     <use xlink:href=\"#C2_0_6c23d4ac48\" x=\"-9.587753\" y=\"288.657879\" style=\"fill: #fdd6ae\"/>\n    </g>\n    <g clip-path=\"url(#p5680fb8e47)\">\n     <use xlink:href=\"#C2_0_6c23d4ac48\" x=\"-9.587753\" y=\"276.776887\" style=\"fill: #fb8735\"/>\n    </g>\n    <g clip-path=\"url(#p5680fb8e47)\">\n     <use xlink:href=\"#C2_0_6c23d4ac48\" x=\"-9.587753\" y=\"264.895895\" style=\"fill: #f36e19\"/>\n    </g>\n    <g clip-path=\"url(#p5680fb8e47)\">\n     <use xlink:href=\"#C2_0_6c23d4ac48\" x=\"-9.587753\" y=\"253.014903\" style=\"fill: #fdd6ae\"/>\n    </g>\n    <g clip-path=\"url(#p5680fb8e47)\">\n     <use xlink:href=\"#C2_0_6c23d4ac48\" x=\"-9.587753\" y=\"241.133912\" style=\"fill: #fedebd\"/>\n    </g>\n    <g clip-path=\"url(#p5680fb8e47)\">\n     <use xlink:href=\"#C2_0_6c23d4ac48\" x=\"-9.587753\" y=\"229.25292\" style=\"fill: #fedebd\"/>\n    </g>\n    <g clip-path=\"url(#p5680fb8e47)\">\n     <use xlink:href=\"#C2_0_6c23d4ac48\" x=\"-9.587753\" y=\"217.371928\" style=\"fill: #fd9e54\"/>\n    </g>\n    <g clip-path=\"url(#p5680fb8e47)\">\n     <use xlink:href=\"#C2_0_6c23d4ac48\" x=\"-9.587753\" y=\"205.490937\" style=\"fill: #fd9e54\"/>\n    </g>\n    <g clip-path=\"url(#p5680fb8e47)\">\n     <use xlink:href=\"#C2_0_6c23d4ac48\" x=\"-2.736844\" y=\"324.300854\" style=\"fill: #fee5cc\"/>\n    </g>\n    <g clip-path=\"url(#p5680fb8e47)\">\n     <use xlink:href=\"#C2_0_6c23d4ac48\" x=\"-2.736844\" y=\"312.419862\" style=\"fill: #feebd7\"/>\n    </g>\n    <g clip-path=\"url(#p5680fb8e47)\">\n     <use xlink:href=\"#C2_0_6c23d4ac48\" x=\"-2.736844\" y=\"300.53887\" style=\"fill: #fee5cc\"/>\n    </g>\n    <g clip-path=\"url(#p5680fb8e47)\">\n     <use xlink:href=\"#C2_0_6c23d4ac48\" x=\"-2.736844\" y=\"288.657879\" style=\"fill: #fdc28b\"/>\n    </g>\n    <g clip-path=\"url(#p5680fb8e47)\">\n     <use xlink:href=\"#C2_0_6c23d4ac48\" x=\"-2.736844\" y=\"276.776887\" style=\"fill: #fdc28b\"/>\n    </g>\n    <g clip-path=\"url(#p5680fb8e47)\">\n     <use xlink:href=\"#C2_0_6c23d4ac48\" x=\"-2.736844\" y=\"264.895895\" style=\"fill: #fdd6ae\"/>\n    </g>\n    <g clip-path=\"url(#p5680fb8e47)\">\n     <use xlink:href=\"#C2_0_6c23d4ac48\" x=\"-2.736844\" y=\"253.014903\" style=\"fill: #fdc28b\"/>\n    </g>\n    <g clip-path=\"url(#p5680fb8e47)\">\n     <use xlink:href=\"#C2_0_6c23d4ac48\" x=\"-2.736844\" y=\"241.133912\" style=\"fill: #feebd7\"/>\n    </g>\n    <g clip-path=\"url(#p5680fb8e47)\">\n     <use xlink:href=\"#C2_0_6c23d4ac48\" x=\"-2.736844\" y=\"229.25292\" style=\"fill: #fdc28b\"/>\n    </g>\n    <g clip-path=\"url(#p5680fb8e47)\">\n     <use xlink:href=\"#C2_0_6c23d4ac48\" x=\"-2.736844\" y=\"217.371928\" style=\"fill: #fee5cc\"/>\n    </g>\n    <g clip-path=\"url(#p5680fb8e47)\">\n     <use xlink:href=\"#C2_0_6c23d4ac48\" x=\"-2.736844\" y=\"205.490937\" style=\"fill: #fff0e1\"/>\n    </g>\n    <g clip-path=\"url(#p5680fb8e47)\">\n     <use xlink:href=\"#C2_0_6c23d4ac48\" x=\"4.114065\" y=\"324.300854\" style=\"fill: #7f2704\"/>\n    </g>\n    <g clip-path=\"url(#p5680fb8e47)\">\n     <use xlink:href=\"#C2_0_6c23d4ac48\" x=\"4.114065\" y=\"312.419862\" style=\"fill: #fda965\"/>\n    </g>\n    <g clip-path=\"url(#p5680fb8e47)\">\n     <use xlink:href=\"#C2_0_6c23d4ac48\" x=\"4.114065\" y=\"300.53887\" style=\"fill: #fdce9e\"/>\n    </g>\n    <g clip-path=\"url(#p5680fb8e47)\">\n     <use xlink:href=\"#C2_0_6c23d4ac48\" x=\"4.114065\" y=\"288.657879\" style=\"fill: #fdc28b\"/>\n    </g>\n    <g clip-path=\"url(#p5680fb8e47)\">\n     <use xlink:href=\"#C2_0_6c23d4ac48\" x=\"4.114065\" y=\"276.776887\" style=\"fill: #fd9344\"/>\n    </g>\n    <g clip-path=\"url(#p5680fb8e47)\">\n     <use xlink:href=\"#C2_0_6c23d4ac48\" x=\"4.114065\" y=\"264.895895\" style=\"fill: #fdce9e\"/>\n    </g>\n    <g clip-path=\"url(#p5680fb8e47)\">\n     <use xlink:href=\"#C2_0_6c23d4ac48\" x=\"4.114065\" y=\"253.014903\" style=\"fill: #fdd6ae\"/>\n    </g>\n    <g clip-path=\"url(#p5680fb8e47)\">\n     <use xlink:href=\"#C2_0_6c23d4ac48\" x=\"4.114065\" y=\"241.133912\" style=\"fill: #feebd7\"/>\n    </g>\n    <g clip-path=\"url(#p5680fb8e47)\">\n     <use xlink:href=\"#C2_0_6c23d4ac48\" x=\"4.114065\" y=\"229.25292\" style=\"fill: #fff0e1\"/>\n    </g>\n    <g clip-path=\"url(#p5680fb8e47)\">\n     <use xlink:href=\"#C2_0_6c23d4ac48\" x=\"4.114065\" y=\"217.371928\" style=\"fill: #fff5eb\"/>\n    </g>\n    <g clip-path=\"url(#p5680fb8e47)\">\n     <use xlink:href=\"#C2_0_6c23d4ac48\" x=\"4.114065\" y=\"205.490937\" style=\"fill: #fff5eb\"/>\n    </g>\n    <g clip-path=\"url(#p5680fb8e47)\">\n     <use xlink:href=\"#C2_0_6c23d4ac48\" x=\"10.964974\" y=\"324.300854\" style=\"fill: #fff0e1\"/>\n    </g>\n    <g clip-path=\"url(#p5680fb8e47)\">\n     <use xlink:href=\"#C2_0_6c23d4ac48\" x=\"10.964974\" y=\"312.419862\" style=\"fill: #fff0e1\"/>\n    </g>\n    <g clip-path=\"url(#p5680fb8e47)\">\n     <use xlink:href=\"#C2_0_6c23d4ac48\" x=\"10.964974\" y=\"300.53887\" style=\"fill: #fff0e1\"/>\n    </g>\n    <g clip-path=\"url(#p5680fb8e47)\">\n     <use xlink:href=\"#C2_0_6c23d4ac48\" x=\"10.964974\" y=\"288.657879\" style=\"fill: #fedebd\"/>\n    </g>\n    <g clip-path=\"url(#p5680fb8e47)\">\n     <use xlink:href=\"#C2_0_6c23d4ac48\" x=\"10.964974\" y=\"276.776887\" style=\"fill: #fdce9e\"/>\n    </g>\n    <g clip-path=\"url(#p5680fb8e47)\">\n     <use xlink:href=\"#C2_0_6c23d4ac48\" x=\"10.964974\" y=\"264.895895\" style=\"fill: #feebd7\"/>\n    </g>\n    <g clip-path=\"url(#p5680fb8e47)\">\n     <use xlink:href=\"#C2_0_6c23d4ac48\" x=\"10.964974\" y=\"253.014903\" style=\"fill: #fedebd\"/>\n    </g>\n    <g clip-path=\"url(#p5680fb8e47)\">\n     <use xlink:href=\"#C2_0_6c23d4ac48\" x=\"10.964974\" y=\"241.133912\" style=\"fill: #fff5eb\"/>\n    </g>\n    <g clip-path=\"url(#p5680fb8e47)\">\n     <use xlink:href=\"#C2_0_6c23d4ac48\" x=\"10.964974\" y=\"229.25292\" style=\"fill: #fff5eb\"/>\n    </g>\n    <g clip-path=\"url(#p5680fb8e47)\">\n     <use xlink:href=\"#C2_0_6c23d4ac48\" x=\"10.964974\" y=\"217.371928\" style=\"fill: #fff5eb\"/>\n    </g>\n    <g clip-path=\"url(#p5680fb8e47)\">\n     <use xlink:href=\"#C2_0_6c23d4ac48\" x=\"10.964974\" y=\"205.490937\" style=\"fill: #fff5eb\"/>\n    </g>\n    <g clip-path=\"url(#p5680fb8e47)\">\n     <use xlink:href=\"#C2_0_6c23d4ac48\" x=\"17.815884\" y=\"324.300854\" style=\"fill: #fff5eb\"/>\n    </g>\n    <g clip-path=\"url(#p5680fb8e47)\">\n     <use xlink:href=\"#C2_0_6c23d4ac48\" x=\"17.815884\" y=\"312.419862\" style=\"fill: #fff5eb\"/>\n    </g>\n    <g clip-path=\"url(#p5680fb8e47)\">\n     <use xlink:href=\"#C2_0_6c23d4ac48\" x=\"17.815884\" y=\"300.53887\" style=\"fill: #feebd7\"/>\n    </g>\n    <g clip-path=\"url(#p5680fb8e47)\">\n     <use xlink:href=\"#C2_0_6c23d4ac48\" x=\"17.815884\" y=\"288.657879\" style=\"fill: #fee5cc\"/>\n    </g>\n    <g clip-path=\"url(#p5680fb8e47)\">\n     <use xlink:href=\"#C2_0_6c23d4ac48\" x=\"17.815884\" y=\"276.776887\" style=\"fill: #fff5eb\"/>\n    </g>\n    <g clip-path=\"url(#p5680fb8e47)\">\n     <use xlink:href=\"#C2_0_6c23d4ac48\" x=\"17.815884\" y=\"264.895895\" style=\"fill: #fff5eb\"/>\n    </g>\n    <g clip-path=\"url(#p5680fb8e47)\">\n     <use xlink:href=\"#C2_0_6c23d4ac48\" x=\"17.815884\" y=\"253.014903\" style=\"fill: #fff5eb\"/>\n    </g>\n    <g clip-path=\"url(#p5680fb8e47)\">\n     <use xlink:href=\"#C2_0_6c23d4ac48\" x=\"17.815884\" y=\"241.133912\" style=\"fill: #fff5eb\"/>\n    </g>\n    <g clip-path=\"url(#p5680fb8e47)\">\n     <use xlink:href=\"#C2_0_6c23d4ac48\" x=\"17.815884\" y=\"229.25292\" style=\"fill: #fff5eb\"/>\n    </g>\n    <g clip-path=\"url(#p5680fb8e47)\">\n     <use xlink:href=\"#C2_0_6c23d4ac48\" x=\"17.815884\" y=\"217.371928\" style=\"fill: #fff5eb\"/>\n    </g>\n    <g clip-path=\"url(#p5680fb8e47)\">\n     <use xlink:href=\"#C2_0_6c23d4ac48\" x=\"17.815884\" y=\"205.490937\" style=\"fill: #fff5eb\"/>\n    </g>\n    <g clip-path=\"url(#p5680fb8e47)\">\n     <use xlink:href=\"#C2_0_6c23d4ac48\" x=\"24.666793\" y=\"324.300854\" style=\"fill: #fff5eb\"/>\n    </g>\n    <g clip-path=\"url(#p5680fb8e47)\">\n     <use xlink:href=\"#C2_0_6c23d4ac48\" x=\"24.666793\" y=\"312.419862\" style=\"fill: #fff5eb\"/>\n    </g>\n    <g clip-path=\"url(#p5680fb8e47)\">\n     <use xlink:href=\"#C2_0_6c23d4ac48\" x=\"24.666793\" y=\"300.53887\" style=\"fill: #fff5eb\"/>\n    </g>\n    <g clip-path=\"url(#p5680fb8e47)\">\n     <use xlink:href=\"#C2_0_6c23d4ac48\" x=\"24.666793\" y=\"288.657879\" style=\"fill: #fff5eb\"/>\n    </g>\n    <g clip-path=\"url(#p5680fb8e47)\">\n     <use xlink:href=\"#C2_0_6c23d4ac48\" x=\"24.666793\" y=\"276.776887\" style=\"fill: #fff5eb\"/>\n    </g>\n    <g clip-path=\"url(#p5680fb8e47)\">\n     <use xlink:href=\"#C2_0_6c23d4ac48\" x=\"24.666793\" y=\"264.895895\" style=\"fill: #fff5eb\"/>\n    </g>\n    <g clip-path=\"url(#p5680fb8e47)\">\n     <use xlink:href=\"#C2_0_6c23d4ac48\" x=\"24.666793\" y=\"253.014903\" style=\"fill: #fff5eb\"/>\n    </g>\n    <g clip-path=\"url(#p5680fb8e47)\">\n     <use xlink:href=\"#C2_0_6c23d4ac48\" x=\"24.666793\" y=\"241.133912\" style=\"fill: #fff5eb\"/>\n    </g>\n    <g clip-path=\"url(#p5680fb8e47)\">\n     <use xlink:href=\"#C2_0_6c23d4ac48\" x=\"24.666793\" y=\"229.25292\" style=\"fill: #fff5eb\"/>\n    </g>\n    <g clip-path=\"url(#p5680fb8e47)\">\n     <use xlink:href=\"#C2_0_6c23d4ac48\" x=\"24.666793\" y=\"217.371928\" style=\"fill: #fff5eb\"/>\n    </g>\n    <g clip-path=\"url(#p5680fb8e47)\">\n     <use xlink:href=\"#C2_0_6c23d4ac48\" x=\"24.666793\" y=\"205.490937\" style=\"fill: #fff5eb\"/>\n    </g>\n    <g clip-path=\"url(#p5680fb8e47)\">\n     <use xlink:href=\"#C2_0_6c23d4ac48\" x=\"31.517702\" y=\"324.300854\" style=\"fill: #fff5eb\"/>\n    </g>\n    <g clip-path=\"url(#p5680fb8e47)\">\n     <use xlink:href=\"#C2_0_6c23d4ac48\" x=\"31.517702\" y=\"312.419862\" style=\"fill: #fff5eb\"/>\n    </g>\n    <g clip-path=\"url(#p5680fb8e47)\">\n     <use xlink:href=\"#C2_0_6c23d4ac48\" x=\"31.517702\" y=\"300.53887\" style=\"fill: #fff5eb\"/>\n    </g>\n    <g clip-path=\"url(#p5680fb8e47)\">\n     <use xlink:href=\"#C2_0_6c23d4ac48\" x=\"31.517702\" y=\"288.657879\" style=\"fill: #fff5eb\"/>\n    </g>\n    <g clip-path=\"url(#p5680fb8e47)\">\n     <use xlink:href=\"#C2_0_6c23d4ac48\" x=\"31.517702\" y=\"276.776887\" style=\"fill: #fff5eb\"/>\n    </g>\n    <g clip-path=\"url(#p5680fb8e47)\">\n     <use xlink:href=\"#C2_0_6c23d4ac48\" x=\"31.517702\" y=\"264.895895\" style=\"fill: #fff5eb\"/>\n    </g>\n    <g clip-path=\"url(#p5680fb8e47)\">\n     <use xlink:href=\"#C2_0_6c23d4ac48\" x=\"31.517702\" y=\"253.014903\" style=\"fill: #fff5eb\"/>\n    </g>\n    <g clip-path=\"url(#p5680fb8e47)\">\n     <use xlink:href=\"#C2_0_6c23d4ac48\" x=\"31.517702\" y=\"241.133912\" style=\"fill: #fff5eb\"/>\n    </g>\n    <g clip-path=\"url(#p5680fb8e47)\">\n     <use xlink:href=\"#C2_0_6c23d4ac48\" x=\"31.517702\" y=\"229.25292\" style=\"fill: #fff5eb\"/>\n    </g>\n    <g clip-path=\"url(#p5680fb8e47)\">\n     <use xlink:href=\"#C2_0_6c23d4ac48\" x=\"31.517702\" y=\"217.371928\" style=\"fill: #fff5eb\"/>\n    </g>\n    <g clip-path=\"url(#p5680fb8e47)\">\n     <use xlink:href=\"#C2_0_6c23d4ac48\" x=\"31.517702\" y=\"205.490937\" style=\"fill: #fff5eb\"/>\n    </g>\n    <g clip-path=\"url(#p5680fb8e47)\">\n     <use xlink:href=\"#C2_0_6c23d4ac48\" x=\"38.368611\" y=\"324.300854\" style=\"fill: #fff5eb\"/>\n    </g>\n    <g clip-path=\"url(#p5680fb8e47)\">\n     <use xlink:href=\"#C2_0_6c23d4ac48\" x=\"38.368611\" y=\"312.419862\" style=\"fill: #fff5eb\"/>\n    </g>\n    <g clip-path=\"url(#p5680fb8e47)\">\n     <use xlink:href=\"#C2_0_6c23d4ac48\" x=\"38.368611\" y=\"300.53887\" style=\"fill: #fff5eb\"/>\n    </g>\n    <g clip-path=\"url(#p5680fb8e47)\">\n     <use xlink:href=\"#C2_0_6c23d4ac48\" x=\"38.368611\" y=\"288.657879\" style=\"fill: #fff5eb\"/>\n    </g>\n    <g clip-path=\"url(#p5680fb8e47)\">\n     <use xlink:href=\"#C2_0_6c23d4ac48\" x=\"38.368611\" y=\"276.776887\" style=\"fill: #fff5eb\"/>\n    </g>\n    <g clip-path=\"url(#p5680fb8e47)\">\n     <use xlink:href=\"#C2_0_6c23d4ac48\" x=\"38.368611\" y=\"264.895895\" style=\"fill: #fff5eb\"/>\n    </g>\n    <g clip-path=\"url(#p5680fb8e47)\">\n     <use xlink:href=\"#C2_0_6c23d4ac48\" x=\"38.368611\" y=\"253.014903\" style=\"fill: #fff5eb\"/>\n    </g>\n    <g clip-path=\"url(#p5680fb8e47)\">\n     <use xlink:href=\"#C2_0_6c23d4ac48\" x=\"38.368611\" y=\"241.133912\" style=\"fill: #fff5eb\"/>\n    </g>\n    <g clip-path=\"url(#p5680fb8e47)\">\n     <use xlink:href=\"#C2_0_6c23d4ac48\" x=\"38.368611\" y=\"229.25292\" style=\"fill: #fff5eb\"/>\n    </g>\n    <g clip-path=\"url(#p5680fb8e47)\">\n     <use xlink:href=\"#C2_0_6c23d4ac48\" x=\"38.368611\" y=\"217.371928\" style=\"fill: #fff5eb\"/>\n    </g>\n    <g clip-path=\"url(#p5680fb8e47)\">\n     <use xlink:href=\"#C2_0_6c23d4ac48\" x=\"38.368611\" y=\"205.490937\" style=\"fill: #fff5eb\"/>\n    </g>\n    <g clip-path=\"url(#p5680fb8e47)\">\n     <use xlink:href=\"#C2_0_6c23d4ac48\" x=\"45.21952\" y=\"324.300854\" style=\"fill: #fff5eb\"/>\n    </g>\n    <g clip-path=\"url(#p5680fb8e47)\">\n     <use xlink:href=\"#C2_0_6c23d4ac48\" x=\"45.21952\" y=\"312.419862\" style=\"fill: #fff5eb\"/>\n    </g>\n    <g clip-path=\"url(#p5680fb8e47)\">\n     <use xlink:href=\"#C2_0_6c23d4ac48\" x=\"45.21952\" y=\"300.53887\" style=\"fill: #fff5eb\"/>\n    </g>\n    <g clip-path=\"url(#p5680fb8e47)\">\n     <use xlink:href=\"#C2_0_6c23d4ac48\" x=\"45.21952\" y=\"288.657879\" style=\"fill: #fff5eb\"/>\n    </g>\n    <g clip-path=\"url(#p5680fb8e47)\">\n     <use xlink:href=\"#C2_0_6c23d4ac48\" x=\"45.21952\" y=\"276.776887\" style=\"fill: #fff0e1\"/>\n    </g>\n    <g clip-path=\"url(#p5680fb8e47)\">\n     <use xlink:href=\"#C2_0_6c23d4ac48\" x=\"45.21952\" y=\"264.895895\" style=\"fill: #fff0e1\"/>\n    </g>\n    <g clip-path=\"url(#p5680fb8e47)\">\n     <use xlink:href=\"#C2_0_6c23d4ac48\" x=\"45.21952\" y=\"253.014903\" style=\"fill: #fff5eb\"/>\n    </g>\n    <g clip-path=\"url(#p5680fb8e47)\">\n     <use xlink:href=\"#C2_0_6c23d4ac48\" x=\"45.21952\" y=\"241.133912\" style=\"fill: #fff5eb\"/>\n    </g>\n    <g clip-path=\"url(#p5680fb8e47)\">\n     <use xlink:href=\"#C2_0_6c23d4ac48\" x=\"45.21952\" y=\"229.25292\" style=\"fill: #fff5eb\"/>\n    </g>\n    <g clip-path=\"url(#p5680fb8e47)\">\n     <use xlink:href=\"#C2_0_6c23d4ac48\" x=\"45.21952\" y=\"217.371928\" style=\"fill: #fff5eb\"/>\n    </g>\n    <g clip-path=\"url(#p5680fb8e47)\">\n     <use xlink:href=\"#C2_0_6c23d4ac48\" x=\"45.21952\" y=\"205.490937\" style=\"fill: #fff5eb\"/>\n    </g>\n    <g clip-path=\"url(#p5680fb8e47)\">\n     <use xlink:href=\"#C2_0_6c23d4ac48\" x=\"52.070429\" y=\"324.300854\" style=\"fill: #fff5eb\"/>\n    </g>\n    <g clip-path=\"url(#p5680fb8e47)\">\n     <use xlink:href=\"#C2_0_6c23d4ac48\" x=\"52.070429\" y=\"312.419862\" style=\"fill: #fff5eb\"/>\n    </g>\n    <g clip-path=\"url(#p5680fb8e47)\">\n     <use xlink:href=\"#C2_0_6c23d4ac48\" x=\"52.070429\" y=\"300.53887\" style=\"fill: #fff5eb\"/>\n    </g>\n    <g clip-path=\"url(#p5680fb8e47)\">\n     <use xlink:href=\"#C2_0_6c23d4ac48\" x=\"52.070429\" y=\"288.657879\" style=\"fill: #fee5cc\"/>\n    </g>\n    <g clip-path=\"url(#p5680fb8e47)\">\n     <use xlink:href=\"#C2_0_6c23d4ac48\" x=\"52.070429\" y=\"276.776887\" style=\"fill: #fdc28b\"/>\n    </g>\n    <g clip-path=\"url(#p5680fb8e47)\">\n     <use xlink:href=\"#C2_0_6c23d4ac48\" x=\"52.070429\" y=\"264.895895\" style=\"fill: #fda965\"/>\n    </g>\n    <g clip-path=\"url(#p5680fb8e47)\">\n     <use xlink:href=\"#C2_0_6c23d4ac48\" x=\"52.070429\" y=\"253.014903\" style=\"fill: #fee5cc\"/>\n    </g>\n    <g clip-path=\"url(#p5680fb8e47)\">\n     <use xlink:href=\"#C2_0_6c23d4ac48\" x=\"52.070429\" y=\"241.133912\" style=\"fill: #fda965\"/>\n    </g>\n    <g clip-path=\"url(#p5680fb8e47)\">\n     <use xlink:href=\"#C2_0_6c23d4ac48\" x=\"52.070429\" y=\"229.25292\" style=\"fill: #fff5eb\"/>\n    </g>\n    <g clip-path=\"url(#p5680fb8e47)\">\n     <use xlink:href=\"#C2_0_6c23d4ac48\" x=\"52.070429\" y=\"217.371928\" style=\"fill: #fff5eb\"/>\n    </g>\n    <g clip-path=\"url(#p5680fb8e47)\">\n     <use xlink:href=\"#C2_0_6c23d4ac48\" x=\"52.070429\" y=\"205.490937\" style=\"fill: #fff5eb\"/>\n    </g>\n    <g clip-path=\"url(#p5680fb8e47)\">\n     <use xlink:href=\"#C2_0_6c23d4ac48\" x=\"58.921338\" y=\"324.300854\" style=\"fill: #fff5eb\"/>\n    </g>\n    <g clip-path=\"url(#p5680fb8e47)\">\n     <use xlink:href=\"#C2_0_6c23d4ac48\" x=\"58.921338\" y=\"312.419862\" style=\"fill: #fff5eb\"/>\n    </g>\n    <g clip-path=\"url(#p5680fb8e47)\">\n     <use xlink:href=\"#C2_0_6c23d4ac48\" x=\"58.921338\" y=\"300.53887\" style=\"fill: #fff5eb\"/>\n    </g>\n    <g clip-path=\"url(#p5680fb8e47)\">\n     <use xlink:href=\"#C2_0_6c23d4ac48\" x=\"58.921338\" y=\"288.657879\" style=\"fill: #fb8735\"/>\n    </g>\n    <g clip-path=\"url(#p5680fb8e47)\">\n     <use xlink:href=\"#C2_0_6c23d4ac48\" x=\"58.921338\" y=\"276.776887\" style=\"fill: #fd9e54\"/>\n    </g>\n    <g clip-path=\"url(#p5680fb8e47)\">\n     <use xlink:href=\"#C2_0_6c23d4ac48\" x=\"58.921338\" y=\"264.895895\" style=\"fill: #fee5cc\"/>\n    </g>\n    <g clip-path=\"url(#p5680fb8e47)\">\n     <use xlink:href=\"#C2_0_6c23d4ac48\" x=\"58.921338\" y=\"253.014903\" style=\"fill: #fdc28b\"/>\n    </g>\n    <g clip-path=\"url(#p5680fb8e47)\">\n     <use xlink:href=\"#C2_0_6c23d4ac48\" x=\"58.921338\" y=\"241.133912\" style=\"fill: #fff0e1\"/>\n    </g>\n    <g clip-path=\"url(#p5680fb8e47)\">\n     <use xlink:href=\"#C2_0_6c23d4ac48\" x=\"58.921338\" y=\"229.25292\" style=\"fill: #fff5eb\"/>\n    </g>\n    <g clip-path=\"url(#p5680fb8e47)\">\n     <use xlink:href=\"#C2_0_6c23d4ac48\" x=\"58.921338\" y=\"217.371928\" style=\"fill: #fff5eb\"/>\n    </g>\n    <g clip-path=\"url(#p5680fb8e47)\">\n     <use xlink:href=\"#C2_0_6c23d4ac48\" x=\"58.921338\" y=\"205.490937\" style=\"fill: #fff5eb\"/>\n    </g>\n    <g clip-path=\"url(#p5680fb8e47)\">\n     <use xlink:href=\"#C2_0_6c23d4ac48\" x=\"65.772247\" y=\"324.300854\" style=\"fill: #fff5eb\"/>\n    </g>\n    <g clip-path=\"url(#p5680fb8e47)\">\n     <use xlink:href=\"#C2_0_6c23d4ac48\" x=\"65.772247\" y=\"312.419862\" style=\"fill: #fff5eb\"/>\n    </g>\n    <g clip-path=\"url(#p5680fb8e47)\">\n     <use xlink:href=\"#C2_0_6c23d4ac48\" x=\"65.772247\" y=\"300.53887\" style=\"fill: #feebd7\"/>\n    </g>\n    <g clip-path=\"url(#p5680fb8e47)\">\n     <use xlink:href=\"#C2_0_6c23d4ac48\" x=\"65.772247\" y=\"288.657879\" style=\"fill: #fb8735\"/>\n    </g>\n    <g clip-path=\"url(#p5680fb8e47)\">\n     <use xlink:href=\"#C2_0_6c23d4ac48\" x=\"65.772247\" y=\"276.776887\" style=\"fill: #fee5cc\"/>\n    </g>\n    <g clip-path=\"url(#p5680fb8e47)\">\n     <use xlink:href=\"#C2_0_6c23d4ac48\" x=\"65.772247\" y=\"264.895895\" style=\"fill: #fda965\"/>\n    </g>\n    <g clip-path=\"url(#p5680fb8e47)\">\n     <use xlink:href=\"#C2_0_6c23d4ac48\" x=\"65.772247\" y=\"253.014903\" style=\"fill: #fee5cc\"/>\n    </g>\n    <g clip-path=\"url(#p5680fb8e47)\">\n     <use xlink:href=\"#C2_0_6c23d4ac48\" x=\"65.772247\" y=\"241.133912\" style=\"fill: #fff5eb\"/>\n    </g>\n    <g clip-path=\"url(#p5680fb8e47)\">\n     <use xlink:href=\"#C2_0_6c23d4ac48\" x=\"65.772247\" y=\"229.25292\" style=\"fill: #fff5eb\"/>\n    </g>\n    <g clip-path=\"url(#p5680fb8e47)\">\n     <use xlink:href=\"#C2_0_6c23d4ac48\" x=\"65.772247\" y=\"217.371928\" style=\"fill: #fff5eb\"/>\n    </g>\n    <g clip-path=\"url(#p5680fb8e47)\">\n     <use xlink:href=\"#C2_0_6c23d4ac48\" x=\"65.772247\" y=\"205.490937\" style=\"fill: #fff5eb\"/>\n    </g>\n    <g clip-path=\"url(#p5680fb8e47)\">\n     <use xlink:href=\"#C2_0_6c23d4ac48\" x=\"72.623156\" y=\"324.300854\" style=\"fill: #fff5eb\"/>\n    </g>\n    <g clip-path=\"url(#p5680fb8e47)\">\n     <use xlink:href=\"#C2_0_6c23d4ac48\" x=\"72.623156\" y=\"312.419862\" style=\"fill: #fff5eb\"/>\n    </g>\n    <g clip-path=\"url(#p5680fb8e47)\">\n     <use xlink:href=\"#C2_0_6c23d4ac48\" x=\"72.623156\" y=\"300.53887\" style=\"fill: #fdb576\"/>\n    </g>\n    <g clip-path=\"url(#p5680fb8e47)\">\n     <use xlink:href=\"#C2_0_6c23d4ac48\" x=\"72.623156\" y=\"288.657879\" style=\"fill: #fd9e54\"/>\n    </g>\n    <g clip-path=\"url(#p5680fb8e47)\">\n     <use xlink:href=\"#C2_0_6c23d4ac48\" x=\"72.623156\" y=\"276.776887\" style=\"fill: #fdce9e\"/>\n    </g>\n    <g clip-path=\"url(#p5680fb8e47)\">\n     <use xlink:href=\"#C2_0_6c23d4ac48\" x=\"72.623156\" y=\"264.895895\" style=\"fill: #fdd6ae\"/>\n    </g>\n    <g clip-path=\"url(#p5680fb8e47)\">\n     <use xlink:href=\"#C2_0_6c23d4ac48\" x=\"72.623156\" y=\"253.014903\" style=\"fill: #feebd7\"/>\n    </g>\n    <g clip-path=\"url(#p5680fb8e47)\">\n     <use xlink:href=\"#C2_0_6c23d4ac48\" x=\"72.623156\" y=\"241.133912\" style=\"fill: #fff5eb\"/>\n    </g>\n    <g clip-path=\"url(#p5680fb8e47)\">\n     <use xlink:href=\"#C2_0_6c23d4ac48\" x=\"72.623156\" y=\"229.25292\" style=\"fill: #fff5eb\"/>\n    </g>\n    <g clip-path=\"url(#p5680fb8e47)\">\n     <use xlink:href=\"#C2_0_6c23d4ac48\" x=\"72.623156\" y=\"217.371928\" style=\"fill: #fff5eb\"/>\n    </g>\n    <g clip-path=\"url(#p5680fb8e47)\">\n     <use xlink:href=\"#C2_0_6c23d4ac48\" x=\"72.623156\" y=\"205.490937\" style=\"fill: #fff5eb\"/>\n    </g>\n    <g clip-path=\"url(#p5680fb8e47)\">\n     <use xlink:href=\"#C2_0_6c23d4ac48\" x=\"79.474065\" y=\"324.300854\" style=\"fill: #fff5eb\"/>\n    </g>\n    <g clip-path=\"url(#p5680fb8e47)\">\n     <use xlink:href=\"#C2_0_6c23d4ac48\" x=\"79.474065\" y=\"312.419862\" style=\"fill: #fff5eb\"/>\n    </g>\n    <g clip-path=\"url(#p5680fb8e47)\">\n     <use xlink:href=\"#C2_0_6c23d4ac48\" x=\"79.474065\" y=\"300.53887\" style=\"fill: #fee5cc\"/>\n    </g>\n    <g clip-path=\"url(#p5680fb8e47)\">\n     <use xlink:href=\"#C2_0_6c23d4ac48\" x=\"79.474065\" y=\"288.657879\" style=\"fill: #fdb576\"/>\n    </g>\n    <g clip-path=\"url(#p5680fb8e47)\">\n     <use xlink:href=\"#C2_0_6c23d4ac48\" x=\"79.474065\" y=\"276.776887\" style=\"fill: #fedebd\"/>\n    </g>\n    <g clip-path=\"url(#p5680fb8e47)\">\n     <use xlink:href=\"#C2_0_6c23d4ac48\" x=\"79.474065\" y=\"264.895895\" style=\"fill: #fff0e1\"/>\n    </g>\n    <g clip-path=\"url(#p5680fb8e47)\">\n     <use xlink:href=\"#C2_0_6c23d4ac48\" x=\"79.474065\" y=\"253.014903\" style=\"fill: #fff5eb\"/>\n    </g>\n    <g clip-path=\"url(#p5680fb8e47)\">\n     <use xlink:href=\"#C2_0_6c23d4ac48\" x=\"79.474065\" y=\"241.133912\" style=\"fill: #fff5eb\"/>\n    </g>\n    <g clip-path=\"url(#p5680fb8e47)\">\n     <use xlink:href=\"#C2_0_6c23d4ac48\" x=\"79.474065\" y=\"229.25292\" style=\"fill: #fff5eb\"/>\n    </g>\n    <g clip-path=\"url(#p5680fb8e47)\">\n     <use xlink:href=\"#C2_0_6c23d4ac48\" x=\"79.474065\" y=\"217.371928\" style=\"fill: #fff5eb\"/>\n    </g>\n    <g clip-path=\"url(#p5680fb8e47)\">\n     <use xlink:href=\"#C2_0_6c23d4ac48\" x=\"79.474065\" y=\"205.490937\" style=\"fill: #fff5eb\"/>\n    </g>\n   </g>\n   <g id=\"matplotlib.axis_5\"/>\n   <g id=\"matplotlib.axis_6\"/>\n   <g id=\"patch_13\">\n    <path d=\"M 334.56 167.90175 \nL 334.56 24.14175 \n\" style=\"fill: none; stroke: #000000; stroke-width: 0.8; stroke-linejoin: miter; stroke-linecap: square\"/>\n   </g>\n   <g id=\"patch_14\">\n    <path d=\"M 485.28 167.90175 \nL 485.28 24.14175 \n\" style=\"fill: none; stroke: #000000; stroke-width: 0.8; stroke-linejoin: miter; stroke-linecap: square\"/>\n   </g>\n   <g id=\"patch_15\">\n    <path d=\"M 334.56 167.90175 \nL 485.28 167.90175 \n\" style=\"fill: none; stroke: #000000; stroke-width: 0.8; stroke-linejoin: miter; stroke-linecap: square\"/>\n   </g>\n   <g id=\"patch_16\">\n    <path d=\"M 334.56 24.14175 \nL 485.28 24.14175 \n\" style=\"fill: none; stroke: #000000; stroke-width: 0.8; stroke-linejoin: miter; stroke-linecap: square\"/>\n   </g>\n   <g id=\"text_3\">\n    <!-- love -->\n    <g transform=\"translate(394.8225 18.14175) scale(0.144 -0.144)\">\n     <defs>\n      <path id=\"DejaVuSans-6c\" d=\"M 603 4863 \nL 1178 4863 \nL 1178 0 \nL 603 0 \nL 603 4863 \nz\n\" transform=\"scale(0.015625)\"/>\n      <path id=\"DejaVuSans-76\" d=\"M 191 3500 \nL 800 3500 \nL 1894 563 \nL 2988 3500 \nL 3597 3500 \nL 2284 0 \nL 1503 0 \nL 191 3500 \nz\n\" transform=\"scale(0.015625)\"/>\n     </defs>\n     <use xlink:href=\"#DejaVuSans-6c\"/>\n     <use xlink:href=\"#DejaVuSans-6f\" x=\"27.783203\"/>\n     <use xlink:href=\"#DejaVuSans-76\" x=\"88.964844\"/>\n     <use xlink:href=\"#DejaVuSans-65\" x=\"148.144531\"/>\n    </g>\n   </g>\n  </g>\n  <g id=\"axes_4\">\n   <g id=\"patch_17\">\n    <path d=\"M 7.2 341.42175 \nL 157.92 341.42175 \nL 157.92 197.66175 \nL 7.2 197.66175 \nz\n\" style=\"fill: #ffffff\"/>\n   </g>\n   <g id=\"PolyCollection_4\">\n    <defs>\n     <path id=\"C3_0_f6b67035a6\" d=\"M 71.661472 12.374683 \nL 71.661472 8.414352 \nL 68.236018 6.434187 \nL 64.810563 8.414352 \nL 64.810563 12.374683 \nL 68.236018 14.354848 \nz\n\"/>\n    </defs>\n    <g clip-path=\"url(#pd1043aec65)\">\n     <use xlink:href=\"#C3_0_f6b67035a6\" x=\"-54.185109\" y=\"324.492687\" style=\"fill: #fff5f0\"/>\n    </g>\n    <g clip-path=\"url(#pd1043aec65)\">\n     <use xlink:href=\"#C3_0_f6b67035a6\" x=\"-54.185109\" y=\"312.611695\" style=\"fill: #fff5f0\"/>\n    </g>\n    <g clip-path=\"url(#pd1043aec65)\">\n     <use xlink:href=\"#C3_0_f6b67035a6\" x=\"-54.185109\" y=\"300.730704\" style=\"fill: #fff5f0\"/>\n    </g>\n    <g clip-path=\"url(#pd1043aec65)\">\n     <use xlink:href=\"#C3_0_f6b67035a6\" x=\"-54.185109\" y=\"288.849712\" style=\"fill: #fff5f0\"/>\n    </g>\n    <g clip-path=\"url(#pd1043aec65)\">\n     <use xlink:href=\"#C3_0_f6b67035a6\" x=\"-54.185109\" y=\"276.96872\" style=\"fill: #ffece3\"/>\n    </g>\n    <g clip-path=\"url(#pd1043aec65)\">\n     <use xlink:href=\"#C3_0_f6b67035a6\" x=\"-54.185109\" y=\"265.087728\" style=\"fill: #fedbcc\"/>\n    </g>\n    <g clip-path=\"url(#pd1043aec65)\">\n     <use xlink:href=\"#C3_0_f6b67035a6\" x=\"-54.185109\" y=\"253.206737\" style=\"fill: #ffece3\"/>\n    </g>\n    <g clip-path=\"url(#pd1043aec65)\">\n     <use xlink:href=\"#C3_0_f6b67035a6\" x=\"-54.185109\" y=\"241.325745\" style=\"fill: #ffece3\"/>\n    </g>\n    <g clip-path=\"url(#pd1043aec65)\">\n     <use xlink:href=\"#C3_0_f6b67035a6\" x=\"-54.185109\" y=\"229.444753\" style=\"fill: #fff5f0\"/>\n    </g>\n    <g clip-path=\"url(#pd1043aec65)\">\n     <use xlink:href=\"#C3_0_f6b67035a6\" x=\"-54.185109\" y=\"217.563761\" style=\"fill: #fff5f0\"/>\n    </g>\n    <g clip-path=\"url(#pd1043aec65)\">\n     <use xlink:href=\"#C3_0_f6b67035a6\" x=\"-54.185109\" y=\"205.68277\" style=\"fill: #fff5f0\"/>\n    </g>\n    <g clip-path=\"url(#pd1043aec65)\">\n     <use xlink:href=\"#C3_0_f6b67035a6\" x=\"-54.185109\" y=\"193.801778\" style=\"fill: #fff5f0\"/>\n    </g>\n    <g clip-path=\"url(#pd1043aec65)\">\n     <use xlink:href=\"#C3_0_f6b67035a6\" x=\"-47.3342\" y=\"324.492687\" style=\"fill: #fff5f0\"/>\n    </g>\n    <g clip-path=\"url(#pd1043aec65)\">\n     <use xlink:href=\"#C3_0_f6b67035a6\" x=\"-47.3342\" y=\"312.611695\" style=\"fill: #fff5f0\"/>\n    </g>\n    <g clip-path=\"url(#pd1043aec65)\">\n     <use xlink:href=\"#C3_0_f6b67035a6\" x=\"-47.3342\" y=\"300.730704\" style=\"fill: #fff5f0\"/>\n    </g>\n    <g clip-path=\"url(#pd1043aec65)\">\n     <use xlink:href=\"#C3_0_f6b67035a6\" x=\"-47.3342\" y=\"288.849712\" style=\"fill: #ffece3\"/>\n    </g>\n    <g clip-path=\"url(#pd1043aec65)\">\n     <use xlink:href=\"#C3_0_f6b67035a6\" x=\"-47.3342\" y=\"276.96872\" style=\"fill: #fca689\"/>\n    </g>\n    <g clip-path=\"url(#pd1043aec65)\">\n     <use xlink:href=\"#C3_0_f6b67035a6\" x=\"-47.3342\" y=\"265.087728\" style=\"fill: #67000d\"/>\n    </g>\n    <g clip-path=\"url(#pd1043aec65)\">\n     <use xlink:href=\"#C3_0_f6b67035a6\" x=\"-47.3342\" y=\"253.206737\" style=\"fill: #67000d\"/>\n    </g>\n    <g clip-path=\"url(#pd1043aec65)\">\n     <use xlink:href=\"#C3_0_f6b67035a6\" x=\"-47.3342\" y=\"241.325745\" style=\"fill: #fdcab5\"/>\n    </g>\n    <g clip-path=\"url(#pd1043aec65)\">\n     <use xlink:href=\"#C3_0_f6b67035a6\" x=\"-47.3342\" y=\"229.444753\" style=\"fill: #fff5f0\"/>\n    </g>\n    <g clip-path=\"url(#pd1043aec65)\">\n     <use xlink:href=\"#C3_0_f6b67035a6\" x=\"-47.3342\" y=\"217.563761\" style=\"fill: #fff5f0\"/>\n    </g>\n    <g clip-path=\"url(#pd1043aec65)\">\n     <use xlink:href=\"#C3_0_f6b67035a6\" x=\"-47.3342\" y=\"205.68277\" style=\"fill: #fff5f0\"/>\n    </g>\n    <g clip-path=\"url(#pd1043aec65)\">\n     <use xlink:href=\"#C3_0_f6b67035a6\" x=\"-47.3342\" y=\"193.801778\" style=\"fill: #fff5f0\"/>\n    </g>\n    <g clip-path=\"url(#pd1043aec65)\">\n     <use xlink:href=\"#C3_0_f6b67035a6\" x=\"-40.48329\" y=\"324.492687\" style=\"fill: #fff5f0\"/>\n    </g>\n    <g clip-path=\"url(#pd1043aec65)\">\n     <use xlink:href=\"#C3_0_f6b67035a6\" x=\"-40.48329\" y=\"312.611695\" style=\"fill: #fff5f0\"/>\n    </g>\n    <g clip-path=\"url(#pd1043aec65)\">\n     <use xlink:href=\"#C3_0_f6b67035a6\" x=\"-40.48329\" y=\"300.730704\" style=\"fill: #fdcab5\"/>\n    </g>\n    <g clip-path=\"url(#pd1043aec65)\">\n     <use xlink:href=\"#C3_0_f6b67035a6\" x=\"-40.48329\" y=\"288.849712\" style=\"fill: #fca689\"/>\n    </g>\n    <g clip-path=\"url(#pd1043aec65)\">\n     <use xlink:href=\"#C3_0_f6b67035a6\" x=\"-40.48329\" y=\"276.96872\" style=\"fill: #fedbcc\"/>\n    </g>\n    <g clip-path=\"url(#pd1043aec65)\">\n     <use xlink:href=\"#C3_0_f6b67035a6\" x=\"-40.48329\" y=\"265.087728\" style=\"fill: #aa1016\"/>\n    </g>\n    <g clip-path=\"url(#pd1043aec65)\">\n     <use xlink:href=\"#C3_0_f6b67035a6\" x=\"-40.48329\" y=\"253.206737\" style=\"fill: #fb7757\"/>\n    </g>\n    <g clip-path=\"url(#pd1043aec65)\">\n     <use xlink:href=\"#C3_0_f6b67035a6\" x=\"-40.48329\" y=\"241.325745\" style=\"fill: #820711\"/>\n    </g>\n    <g clip-path=\"url(#pd1043aec65)\">\n     <use xlink:href=\"#C3_0_f6b67035a6\" x=\"-40.48329\" y=\"229.444753\" style=\"fill: #fff0e9\"/>\n    </g>\n    <g clip-path=\"url(#pd1043aec65)\">\n     <use xlink:href=\"#C3_0_f6b67035a6\" x=\"-40.48329\" y=\"217.563761\" style=\"fill: #fff5f0\"/>\n    </g>\n    <g clip-path=\"url(#pd1043aec65)\">\n     <use xlink:href=\"#C3_0_f6b67035a6\" x=\"-40.48329\" y=\"205.68277\" style=\"fill: #fff5f0\"/>\n    </g>\n    <g clip-path=\"url(#pd1043aec65)\">\n     <use xlink:href=\"#C3_0_f6b67035a6\" x=\"-40.48329\" y=\"193.801778\" style=\"fill: #fff5f0\"/>\n    </g>\n    <g clip-path=\"url(#pd1043aec65)\">\n     <use xlink:href=\"#C3_0_f6b67035a6\" x=\"-33.632381\" y=\"324.492687\" style=\"fill: #fff5f0\"/>\n    </g>\n    <g clip-path=\"url(#pd1043aec65)\">\n     <use xlink:href=\"#C3_0_f6b67035a6\" x=\"-33.632381\" y=\"312.611695\" style=\"fill: #ffece3\"/>\n    </g>\n    <g clip-path=\"url(#pd1043aec65)\">\n     <use xlink:href=\"#C3_0_f6b67035a6\" x=\"-33.632381\" y=\"300.730704\" style=\"fill: #fee7dc\"/>\n    </g>\n    <g clip-path=\"url(#pd1043aec65)\">\n     <use xlink:href=\"#C3_0_f6b67035a6\" x=\"-33.632381\" y=\"288.849712\" style=\"fill: #fedbcc\"/>\n    </g>\n    <g clip-path=\"url(#pd1043aec65)\">\n     <use xlink:href=\"#C3_0_f6b67035a6\" x=\"-33.632381\" y=\"276.96872\" style=\"fill: #fee2d5\"/>\n    </g>\n    <g clip-path=\"url(#pd1043aec65)\">\n     <use xlink:href=\"#C3_0_f6b67035a6\" x=\"-33.632381\" y=\"265.087728\" style=\"fill: #f75b40\"/>\n    </g>\n    <g clip-path=\"url(#pd1043aec65)\">\n     <use xlink:href=\"#C3_0_f6b67035a6\" x=\"-33.632381\" y=\"253.206737\" style=\"fill: #cc191e\"/>\n    </g>\n    <g clip-path=\"url(#pd1043aec65)\">\n     <use xlink:href=\"#C3_0_f6b67035a6\" x=\"-33.632381\" y=\"241.325745\" style=\"fill: #900a12\"/>\n    </g>\n    <g clip-path=\"url(#pd1043aec65)\">\n     <use xlink:href=\"#C3_0_f6b67035a6\" x=\"-33.632381\" y=\"229.444753\" style=\"fill: #fff0e9\"/>\n    </g>\n    <g clip-path=\"url(#pd1043aec65)\">\n     <use xlink:href=\"#C3_0_f6b67035a6\" x=\"-33.632381\" y=\"217.563761\" style=\"fill: #fff5f0\"/>\n    </g>\n    <g clip-path=\"url(#pd1043aec65)\">\n     <use xlink:href=\"#C3_0_f6b67035a6\" x=\"-33.632381\" y=\"205.68277\" style=\"fill: #fff5f0\"/>\n    </g>\n    <g clip-path=\"url(#pd1043aec65)\">\n     <use xlink:href=\"#C3_0_f6b67035a6\" x=\"-33.632381\" y=\"193.801778\" style=\"fill: #fff5f0\"/>\n    </g>\n    <g clip-path=\"url(#pd1043aec65)\">\n     <use xlink:href=\"#C3_0_f6b67035a6\" x=\"-26.781472\" y=\"324.492687\" style=\"fill: #fff5f0\"/>\n    </g>\n    <g clip-path=\"url(#pd1043aec65)\">\n     <use xlink:href=\"#C3_0_f6b67035a6\" x=\"-26.781472\" y=\"312.611695\" style=\"fill: #ffece3\"/>\n    </g>\n    <g clip-path=\"url(#pd1043aec65)\">\n     <use xlink:href=\"#C3_0_f6b67035a6\" x=\"-26.781472\" y=\"300.730704\" style=\"fill: #fff0e9\"/>\n    </g>\n    <g clip-path=\"url(#pd1043aec65)\">\n     <use xlink:href=\"#C3_0_f6b67035a6\" x=\"-26.781472\" y=\"288.849712\" style=\"fill: #fee2d5\"/>\n    </g>\n    <g clip-path=\"url(#pd1043aec65)\">\n     <use xlink:href=\"#C3_0_f6b67035a6\" x=\"-26.781472\" y=\"276.96872\" style=\"fill: #fdd3c1\"/>\n    </g>\n    <g clip-path=\"url(#pd1043aec65)\">\n     <use xlink:href=\"#C3_0_f6b67035a6\" x=\"-26.781472\" y=\"265.087728\" style=\"fill: #ee3a2c\"/>\n    </g>\n    <g clip-path=\"url(#pd1043aec65)\">\n     <use xlink:href=\"#C3_0_f6b67035a6\" x=\"-26.781472\" y=\"253.206737\" style=\"fill: #e53228\"/>\n    </g>\n    <g clip-path=\"url(#pd1043aec65)\">\n     <use xlink:href=\"#C3_0_f6b67035a6\" x=\"-26.781472\" y=\"241.325745\" style=\"fill: #dd2a25\"/>\n    </g>\n    <g clip-path=\"url(#pd1043aec65)\">\n     <use xlink:href=\"#C3_0_f6b67035a6\" x=\"-26.781472\" y=\"229.444753\" style=\"fill: #fdcab5\"/>\n    </g>\n    <g clip-path=\"url(#pd1043aec65)\">\n     <use xlink:href=\"#C3_0_f6b67035a6\" x=\"-26.781472\" y=\"217.563761\" style=\"fill: #fff5f0\"/>\n    </g>\n    <g clip-path=\"url(#pd1043aec65)\">\n     <use xlink:href=\"#C3_0_f6b67035a6\" x=\"-26.781472\" y=\"205.68277\" style=\"fill: #fc9373\"/>\n    </g>\n    <g clip-path=\"url(#pd1043aec65)\">\n     <use xlink:href=\"#C3_0_f6b67035a6\" x=\"-26.781472\" y=\"193.801778\" style=\"fill: #fff5f0\"/>\n    </g>\n    <g clip-path=\"url(#pd1043aec65)\">\n     <use xlink:href=\"#C3_0_f6b67035a6\" x=\"-19.930563\" y=\"324.492687\" style=\"fill: #fff5f0\"/>\n    </g>\n    <g clip-path=\"url(#pd1043aec65)\">\n     <use xlink:href=\"#C3_0_f6b67035a6\" x=\"-19.930563\" y=\"312.611695\" style=\"fill: #fff0e9\"/>\n    </g>\n    <g clip-path=\"url(#pd1043aec65)\">\n     <use xlink:href=\"#C3_0_f6b67035a6\" x=\"-19.930563\" y=\"300.730704\" style=\"fill: #fedbcc\"/>\n    </g>\n    <g clip-path=\"url(#pd1043aec65)\">\n     <use xlink:href=\"#C3_0_f6b67035a6\" x=\"-19.930563\" y=\"288.849712\" style=\"fill: #fcaf93\"/>\n    </g>\n    <g clip-path=\"url(#pd1043aec65)\">\n     <use xlink:href=\"#C3_0_f6b67035a6\" x=\"-19.930563\" y=\"276.96872\" style=\"fill: #fcc2aa\"/>\n    </g>\n    <g clip-path=\"url(#pd1043aec65)\">\n     <use xlink:href=\"#C3_0_f6b67035a6\" x=\"-19.930563\" y=\"265.087728\" style=\"fill: #fedbcc\"/>\n    </g>\n    <g clip-path=\"url(#pd1043aec65)\">\n     <use xlink:href=\"#C3_0_f6b67035a6\" x=\"-19.930563\" y=\"253.206737\" style=\"fill: #f14432\"/>\n    </g>\n    <g clip-path=\"url(#pd1043aec65)\">\n     <use xlink:href=\"#C3_0_f6b67035a6\" x=\"-19.930563\" y=\"241.325745\" style=\"fill: #f75b40\"/>\n    </g>\n    <g clip-path=\"url(#pd1043aec65)\">\n     <use xlink:href=\"#C3_0_f6b67035a6\" x=\"-19.930563\" y=\"229.444753\" style=\"fill: #fee2d5\"/>\n    </g>\n    <g clip-path=\"url(#pd1043aec65)\">\n     <use xlink:href=\"#C3_0_f6b67035a6\" x=\"-19.930563\" y=\"217.563761\" style=\"fill: #fdcab5\"/>\n    </g>\n    <g clip-path=\"url(#pd1043aec65)\">\n     <use xlink:href=\"#C3_0_f6b67035a6\" x=\"-19.930563\" y=\"205.68277\" style=\"fill: #fee7dc\"/>\n    </g>\n    <g clip-path=\"url(#pd1043aec65)\">\n     <use xlink:href=\"#C3_0_f6b67035a6\" x=\"-19.930563\" y=\"193.801778\" style=\"fill: #fff5f0\"/>\n    </g>\n    <g clip-path=\"url(#pd1043aec65)\">\n     <use xlink:href=\"#C3_0_f6b67035a6\" x=\"-13.079654\" y=\"324.492687\" style=\"fill: #fff5f0\"/>\n    </g>\n    <g clip-path=\"url(#pd1043aec65)\">\n     <use xlink:href=\"#C3_0_f6b67035a6\" x=\"-13.079654\" y=\"312.611695\" style=\"fill: #fff5f0\"/>\n    </g>\n    <g clip-path=\"url(#pd1043aec65)\">\n     <use xlink:href=\"#C3_0_f6b67035a6\" x=\"-13.079654\" y=\"300.730704\" style=\"fill: #fee7dc\"/>\n    </g>\n    <g clip-path=\"url(#pd1043aec65)\">\n     <use xlink:href=\"#C3_0_f6b67035a6\" x=\"-13.079654\" y=\"288.849712\" style=\"fill: #fdcab5\"/>\n    </g>\n    <g clip-path=\"url(#pd1043aec65)\">\n     <use xlink:href=\"#C3_0_f6b67035a6\" x=\"-13.079654\" y=\"276.96872\" style=\"fill: #fcb99f\"/>\n    </g>\n    <g clip-path=\"url(#pd1043aec65)\">\n     <use xlink:href=\"#C3_0_f6b67035a6\" x=\"-13.079654\" y=\"265.087728\" style=\"fill: #fedbcc\"/>\n    </g>\n    <g clip-path=\"url(#pd1043aec65)\">\n     <use xlink:href=\"#C3_0_f6b67035a6\" x=\"-13.079654\" y=\"253.206737\" style=\"fill: #fb7757\"/>\n    </g>\n    <g clip-path=\"url(#pd1043aec65)\">\n     <use xlink:href=\"#C3_0_f6b67035a6\" x=\"-13.079654\" y=\"241.325745\" style=\"fill: #fc9d7f\"/>\n    </g>\n    <g clip-path=\"url(#pd1043aec65)\">\n     <use xlink:href=\"#C3_0_f6b67035a6\" x=\"-13.079654\" y=\"229.444753\" style=\"fill: #ffece3\"/>\n    </g>\n    <g clip-path=\"url(#pd1043aec65)\">\n     <use xlink:href=\"#C3_0_f6b67035a6\" x=\"-13.079654\" y=\"217.563761\" style=\"fill: #f75b40\"/>\n    </g>\n    <g clip-path=\"url(#pd1043aec65)\">\n     <use xlink:href=\"#C3_0_f6b67035a6\" x=\"-13.079654\" y=\"205.68277\" style=\"fill: #f44f39\"/>\n    </g>\n    <g clip-path=\"url(#pd1043aec65)\">\n     <use xlink:href=\"#C3_0_f6b67035a6\" x=\"-13.079654\" y=\"193.801778\" style=\"fill: #fedbcc\"/>\n    </g>\n    <g clip-path=\"url(#pd1043aec65)\">\n     <use xlink:href=\"#C3_0_f6b67035a6\" x=\"-6.228745\" y=\"324.492687\" style=\"fill: #fff5f0\"/>\n    </g>\n    <g clip-path=\"url(#pd1043aec65)\">\n     <use xlink:href=\"#C3_0_f6b67035a6\" x=\"-6.228745\" y=\"312.611695\" style=\"fill: #fff5f0\"/>\n    </g>\n    <g clip-path=\"url(#pd1043aec65)\">\n     <use xlink:href=\"#C3_0_f6b67035a6\" x=\"-6.228745\" y=\"300.730704\" style=\"fill: #fff5f0\"/>\n    </g>\n    <g clip-path=\"url(#pd1043aec65)\">\n     <use xlink:href=\"#C3_0_f6b67035a6\" x=\"-6.228745\" y=\"288.849712\" style=\"fill: #fff0e9\"/>\n    </g>\n    <g clip-path=\"url(#pd1043aec65)\">\n     <use xlink:href=\"#C3_0_f6b67035a6\" x=\"-6.228745\" y=\"276.96872\" style=\"fill: #ffece3\"/>\n    </g>\n    <g clip-path=\"url(#pd1043aec65)\">\n     <use xlink:href=\"#C3_0_f6b67035a6\" x=\"-6.228745\" y=\"265.087728\" style=\"fill: #fdcab5\"/>\n    </g>\n    <g clip-path=\"url(#pd1043aec65)\">\n     <use xlink:href=\"#C3_0_f6b67035a6\" x=\"-6.228745\" y=\"253.206737\" style=\"fill: #fc9d7f\"/>\n    </g>\n    <g clip-path=\"url(#pd1043aec65)\">\n     <use xlink:href=\"#C3_0_f6b67035a6\" x=\"-6.228745\" y=\"241.325745\" style=\"fill: #fc9373\"/>\n    </g>\n    <g clip-path=\"url(#pd1043aec65)\">\n     <use xlink:href=\"#C3_0_f6b67035a6\" x=\"-6.228745\" y=\"229.444753\" style=\"fill: #fcaf93\"/>\n    </g>\n    <g clip-path=\"url(#pd1043aec65)\">\n     <use xlink:href=\"#C3_0_f6b67035a6\" x=\"-6.228745\" y=\"217.563761\" style=\"fill: #fc8a6a\"/>\n    </g>\n    <g clip-path=\"url(#pd1043aec65)\">\n     <use xlink:href=\"#C3_0_f6b67035a6\" x=\"-6.228745\" y=\"205.68277\" style=\"fill: #bc141a\"/>\n    </g>\n    <g clip-path=\"url(#pd1043aec65)\">\n     <use xlink:href=\"#C3_0_f6b67035a6\" x=\"-6.228745\" y=\"193.801778\" style=\"fill: #fff5f0\"/>\n    </g>\n    <g clip-path=\"url(#pd1043aec65)\">\n     <use xlink:href=\"#C3_0_f6b67035a6\" x=\"0.622164\" y=\"324.492687\" style=\"fill: #fee7dc\"/>\n    </g>\n    <g clip-path=\"url(#pd1043aec65)\">\n     <use xlink:href=\"#C3_0_f6b67035a6\" x=\"0.622164\" y=\"312.611695\" style=\"fill: #fedbcc\"/>\n    </g>\n    <g clip-path=\"url(#pd1043aec65)\">\n     <use xlink:href=\"#C3_0_f6b67035a6\" x=\"0.622164\" y=\"300.730704\" style=\"fill: #fee7dc\"/>\n    </g>\n    <g clip-path=\"url(#pd1043aec65)\">\n     <use xlink:href=\"#C3_0_f6b67035a6\" x=\"0.622164\" y=\"288.849712\" style=\"fill: #fee2d5\"/>\n    </g>\n    <g clip-path=\"url(#pd1043aec65)\">\n     <use xlink:href=\"#C3_0_f6b67035a6\" x=\"0.622164\" y=\"276.96872\" style=\"fill: #fb7757\"/>\n    </g>\n    <g clip-path=\"url(#pd1043aec65)\">\n     <use xlink:href=\"#C3_0_f6b67035a6\" x=\"0.622164\" y=\"265.087728\" style=\"fill: #ffece3\"/>\n    </g>\n    <g clip-path=\"url(#pd1043aec65)\">\n     <use xlink:href=\"#C3_0_f6b67035a6\" x=\"0.622164\" y=\"253.206737\" style=\"fill: #fc9d7f\"/>\n    </g>\n    <g clip-path=\"url(#pd1043aec65)\">\n     <use xlink:href=\"#C3_0_f6b67035a6\" x=\"0.622164\" y=\"241.325745\" style=\"fill: #fee2d5\"/>\n    </g>\n    <g clip-path=\"url(#pd1043aec65)\">\n     <use xlink:href=\"#C3_0_f6b67035a6\" x=\"0.622164\" y=\"229.444753\" style=\"fill: #fc9d7f\"/>\n    </g>\n    <g clip-path=\"url(#pd1043aec65)\">\n     <use xlink:href=\"#C3_0_f6b67035a6\" x=\"0.622164\" y=\"217.563761\" style=\"fill: #fedbcc\"/>\n    </g>\n    <g clip-path=\"url(#pd1043aec65)\">\n     <use xlink:href=\"#C3_0_f6b67035a6\" x=\"0.622164\" y=\"205.68277\" style=\"fill: #fff0e9\"/>\n    </g>\n    <g clip-path=\"url(#pd1043aec65)\">\n     <use xlink:href=\"#C3_0_f6b67035a6\" x=\"0.622164\" y=\"193.801778\" style=\"fill: #fff5f0\"/>\n    </g>\n    <g clip-path=\"url(#pd1043aec65)\">\n     <use xlink:href=\"#C3_0_f6b67035a6\" x=\"7.473073\" y=\"324.492687\" style=\"fill: #fedbcc\"/>\n    </g>\n    <g clip-path=\"url(#pd1043aec65)\">\n     <use xlink:href=\"#C3_0_f6b67035a6\" x=\"7.473073\" y=\"312.611695\" style=\"fill: #fc9d7f\"/>\n    </g>\n    <g clip-path=\"url(#pd1043aec65)\">\n     <use xlink:href=\"#C3_0_f6b67035a6\" x=\"7.473073\" y=\"300.730704\" style=\"fill: #fee7dc\"/>\n    </g>\n    <g clip-path=\"url(#pd1043aec65)\">\n     <use xlink:href=\"#C3_0_f6b67035a6\" x=\"7.473073\" y=\"288.849712\" style=\"fill: #fff5f0\"/>\n    </g>\n    <g clip-path=\"url(#pd1043aec65)\">\n     <use xlink:href=\"#C3_0_f6b67035a6\" x=\"7.473073\" y=\"276.96872\" style=\"fill: #fcc2aa\"/>\n    </g>\n    <g clip-path=\"url(#pd1043aec65)\">\n     <use xlink:href=\"#C3_0_f6b67035a6\" x=\"7.473073\" y=\"265.087728\" style=\"fill: #fcc2aa\"/>\n    </g>\n    <g clip-path=\"url(#pd1043aec65)\">\n     <use xlink:href=\"#C3_0_f6b67035a6\" x=\"7.473073\" y=\"253.206737\" style=\"fill: #fc9d7f\"/>\n    </g>\n    <g clip-path=\"url(#pd1043aec65)\">\n     <use xlink:href=\"#C3_0_f6b67035a6\" x=\"7.473073\" y=\"241.325745\" style=\"fill: #fedbcc\"/>\n    </g>\n    <g clip-path=\"url(#pd1043aec65)\">\n     <use xlink:href=\"#C3_0_f6b67035a6\" x=\"7.473073\" y=\"229.444753\" style=\"fill: #fff5f0\"/>\n    </g>\n    <g clip-path=\"url(#pd1043aec65)\">\n     <use xlink:href=\"#C3_0_f6b67035a6\" x=\"7.473073\" y=\"217.563761\" style=\"fill: #fff0e9\"/>\n    </g>\n    <g clip-path=\"url(#pd1043aec65)\">\n     <use xlink:href=\"#C3_0_f6b67035a6\" x=\"7.473073\" y=\"205.68277\" style=\"fill: #fff5f0\"/>\n    </g>\n    <g clip-path=\"url(#pd1043aec65)\">\n     <use xlink:href=\"#C3_0_f6b67035a6\" x=\"7.473073\" y=\"193.801778\" style=\"fill: #fff5f0\"/>\n    </g>\n    <g clip-path=\"url(#pd1043aec65)\">\n     <use xlink:href=\"#C3_0_f6b67035a6\" x=\"14.323982\" y=\"324.492687\" style=\"fill: #fff5f0\"/>\n    </g>\n    <g clip-path=\"url(#pd1043aec65)\">\n     <use xlink:href=\"#C3_0_f6b67035a6\" x=\"14.323982\" y=\"312.611695\" style=\"fill: #fff5f0\"/>\n    </g>\n    <g clip-path=\"url(#pd1043aec65)\">\n     <use xlink:href=\"#C3_0_f6b67035a6\" x=\"14.323982\" y=\"300.730704\" style=\"fill: #fee7dc\"/>\n    </g>\n    <g clip-path=\"url(#pd1043aec65)\">\n     <use xlink:href=\"#C3_0_f6b67035a6\" x=\"14.323982\" y=\"288.849712\" style=\"fill: #fff0e9\"/>\n    </g>\n    <g clip-path=\"url(#pd1043aec65)\">\n     <use xlink:href=\"#C3_0_f6b67035a6\" x=\"14.323982\" y=\"276.96872\" style=\"fill: #ffece3\"/>\n    </g>\n    <g clip-path=\"url(#pd1043aec65)\">\n     <use xlink:href=\"#C3_0_f6b67035a6\" x=\"14.323982\" y=\"265.087728\" style=\"fill: #fff5f0\"/>\n    </g>\n    <g clip-path=\"url(#pd1043aec65)\">\n     <use xlink:href=\"#C3_0_f6b67035a6\" x=\"14.323982\" y=\"253.206737\" style=\"fill: #fff5f0\"/>\n    </g>\n    <g clip-path=\"url(#pd1043aec65)\">\n     <use xlink:href=\"#C3_0_f6b67035a6\" x=\"14.323982\" y=\"241.325745\" style=\"fill: #ffece3\"/>\n    </g>\n    <g clip-path=\"url(#pd1043aec65)\">\n     <use xlink:href=\"#C3_0_f6b67035a6\" x=\"14.323982\" y=\"229.444753\" style=\"fill: #fff5f0\"/>\n    </g>\n    <g clip-path=\"url(#pd1043aec65)\">\n     <use xlink:href=\"#C3_0_f6b67035a6\" x=\"14.323982\" y=\"217.563761\" style=\"fill: #fff5f0\"/>\n    </g>\n    <g clip-path=\"url(#pd1043aec65)\">\n     <use xlink:href=\"#C3_0_f6b67035a6\" x=\"14.323982\" y=\"205.68277\" style=\"fill: #fff5f0\"/>\n    </g>\n    <g clip-path=\"url(#pd1043aec65)\">\n     <use xlink:href=\"#C3_0_f6b67035a6\" x=\"14.323982\" y=\"193.801778\" style=\"fill: #fff5f0\"/>\n    </g>\n    <g clip-path=\"url(#pd1043aec65)\">\n     <use xlink:href=\"#C3_0_f6b67035a6\" x=\"21.174891\" y=\"324.492687\" style=\"fill: #fff5f0\"/>\n    </g>\n    <g clip-path=\"url(#pd1043aec65)\">\n     <use xlink:href=\"#C3_0_f6b67035a6\" x=\"21.174891\" y=\"312.611695\" style=\"fill: #fff5f0\"/>\n    </g>\n    <g clip-path=\"url(#pd1043aec65)\">\n     <use xlink:href=\"#C3_0_f6b67035a6\" x=\"21.174891\" y=\"300.730704\" style=\"fill: #fff5f0\"/>\n    </g>\n    <g clip-path=\"url(#pd1043aec65)\">\n     <use xlink:href=\"#C3_0_f6b67035a6\" x=\"21.174891\" y=\"288.849712\" style=\"fill: #fee7dc\"/>\n    </g>\n    <g clip-path=\"url(#pd1043aec65)\">\n     <use xlink:href=\"#C3_0_f6b67035a6\" x=\"21.174891\" y=\"276.96872\" style=\"fill: #fff5f0\"/>\n    </g>\n    <g clip-path=\"url(#pd1043aec65)\">\n     <use xlink:href=\"#C3_0_f6b67035a6\" x=\"21.174891\" y=\"265.087728\" style=\"fill: #fff5f0\"/>\n    </g>\n    <g clip-path=\"url(#pd1043aec65)\">\n     <use xlink:href=\"#C3_0_f6b67035a6\" x=\"21.174891\" y=\"253.206737\" style=\"fill: #fff5f0\"/>\n    </g>\n    <g clip-path=\"url(#pd1043aec65)\">\n     <use xlink:href=\"#C3_0_f6b67035a6\" x=\"21.174891\" y=\"241.325745\" style=\"fill: #fff5f0\"/>\n    </g>\n    <g clip-path=\"url(#pd1043aec65)\">\n     <use xlink:href=\"#C3_0_f6b67035a6\" x=\"21.174891\" y=\"229.444753\" style=\"fill: #fff5f0\"/>\n    </g>\n    <g clip-path=\"url(#pd1043aec65)\">\n     <use xlink:href=\"#C3_0_f6b67035a6\" x=\"21.174891\" y=\"217.563761\" style=\"fill: #fff5f0\"/>\n    </g>\n    <g clip-path=\"url(#pd1043aec65)\">\n     <use xlink:href=\"#C3_0_f6b67035a6\" x=\"21.174891\" y=\"205.68277\" style=\"fill: #fff5f0\"/>\n    </g>\n    <g clip-path=\"url(#pd1043aec65)\">\n     <use xlink:href=\"#C3_0_f6b67035a6\" x=\"21.174891\" y=\"193.801778\" style=\"fill: #fff5f0\"/>\n    </g>\n    <g clip-path=\"url(#pd1043aec65)\">\n     <use xlink:href=\"#C3_0_f6b67035a6\" x=\"28.0258\" y=\"324.492687\" style=\"fill: #fff5f0\"/>\n    </g>\n    <g clip-path=\"url(#pd1043aec65)\">\n     <use xlink:href=\"#C3_0_f6b67035a6\" x=\"28.0258\" y=\"312.611695\" style=\"fill: #fff5f0\"/>\n    </g>\n    <g clip-path=\"url(#pd1043aec65)\">\n     <use xlink:href=\"#C3_0_f6b67035a6\" x=\"28.0258\" y=\"300.730704\" style=\"fill: #fff5f0\"/>\n    </g>\n    <g clip-path=\"url(#pd1043aec65)\">\n     <use xlink:href=\"#C3_0_f6b67035a6\" x=\"28.0258\" y=\"288.849712\" style=\"fill: #fff5f0\"/>\n    </g>\n    <g clip-path=\"url(#pd1043aec65)\">\n     <use xlink:href=\"#C3_0_f6b67035a6\" x=\"28.0258\" y=\"276.96872\" style=\"fill: #fff5f0\"/>\n    </g>\n    <g clip-path=\"url(#pd1043aec65)\">\n     <use xlink:href=\"#C3_0_f6b67035a6\" x=\"28.0258\" y=\"265.087728\" style=\"fill: #fff5f0\"/>\n    </g>\n    <g clip-path=\"url(#pd1043aec65)\">\n     <use xlink:href=\"#C3_0_f6b67035a6\" x=\"28.0258\" y=\"253.206737\" style=\"fill: #fff5f0\"/>\n    </g>\n    <g clip-path=\"url(#pd1043aec65)\">\n     <use xlink:href=\"#C3_0_f6b67035a6\" x=\"28.0258\" y=\"241.325745\" style=\"fill: #fff5f0\"/>\n    </g>\n    <g clip-path=\"url(#pd1043aec65)\">\n     <use xlink:href=\"#C3_0_f6b67035a6\" x=\"28.0258\" y=\"229.444753\" style=\"fill: #fff5f0\"/>\n    </g>\n    <g clip-path=\"url(#pd1043aec65)\">\n     <use xlink:href=\"#C3_0_f6b67035a6\" x=\"28.0258\" y=\"217.563761\" style=\"fill: #fff5f0\"/>\n    </g>\n    <g clip-path=\"url(#pd1043aec65)\">\n     <use xlink:href=\"#C3_0_f6b67035a6\" x=\"28.0258\" y=\"205.68277\" style=\"fill: #fff5f0\"/>\n    </g>\n    <g clip-path=\"url(#pd1043aec65)\">\n     <use xlink:href=\"#C3_0_f6b67035a6\" x=\"28.0258\" y=\"193.801778\" style=\"fill: #fff5f0\"/>\n    </g>\n    <g clip-path=\"url(#pd1043aec65)\">\n     <use xlink:href=\"#C3_0_f6b67035a6\" x=\"34.87671\" y=\"324.492687\" style=\"fill: #fff5f0\"/>\n    </g>\n    <g clip-path=\"url(#pd1043aec65)\">\n     <use xlink:href=\"#C3_0_f6b67035a6\" x=\"34.87671\" y=\"312.611695\" style=\"fill: #fff5f0\"/>\n    </g>\n    <g clip-path=\"url(#pd1043aec65)\">\n     <use xlink:href=\"#C3_0_f6b67035a6\" x=\"34.87671\" y=\"300.730704\" style=\"fill: #fff5f0\"/>\n    </g>\n    <g clip-path=\"url(#pd1043aec65)\">\n     <use xlink:href=\"#C3_0_f6b67035a6\" x=\"34.87671\" y=\"288.849712\" style=\"fill: #fff5f0\"/>\n    </g>\n    <g clip-path=\"url(#pd1043aec65)\">\n     <use xlink:href=\"#C3_0_f6b67035a6\" x=\"34.87671\" y=\"276.96872\" style=\"fill: #fff5f0\"/>\n    </g>\n    <g clip-path=\"url(#pd1043aec65)\">\n     <use xlink:href=\"#C3_0_f6b67035a6\" x=\"34.87671\" y=\"265.087728\" style=\"fill: #fff5f0\"/>\n    </g>\n    <g clip-path=\"url(#pd1043aec65)\">\n     <use xlink:href=\"#C3_0_f6b67035a6\" x=\"34.87671\" y=\"253.206737\" style=\"fill: #fff5f0\"/>\n    </g>\n    <g clip-path=\"url(#pd1043aec65)\">\n     <use xlink:href=\"#C3_0_f6b67035a6\" x=\"34.87671\" y=\"241.325745\" style=\"fill: #fff5f0\"/>\n    </g>\n    <g clip-path=\"url(#pd1043aec65)\">\n     <use xlink:href=\"#C3_0_f6b67035a6\" x=\"34.87671\" y=\"229.444753\" style=\"fill: #fff5f0\"/>\n    </g>\n    <g clip-path=\"url(#pd1043aec65)\">\n     <use xlink:href=\"#C3_0_f6b67035a6\" x=\"34.87671\" y=\"217.563761\" style=\"fill: #fff5f0\"/>\n    </g>\n    <g clip-path=\"url(#pd1043aec65)\">\n     <use xlink:href=\"#C3_0_f6b67035a6\" x=\"34.87671\" y=\"205.68277\" style=\"fill: #fff5f0\"/>\n    </g>\n    <g clip-path=\"url(#pd1043aec65)\">\n     <use xlink:href=\"#C3_0_f6b67035a6\" x=\"34.87671\" y=\"193.801778\" style=\"fill: #fff5f0\"/>\n    </g>\n    <g clip-path=\"url(#pd1043aec65)\">\n     <use xlink:href=\"#C3_0_f6b67035a6\" x=\"41.727619\" y=\"324.492687\" style=\"fill: #fff5f0\"/>\n    </g>\n    <g clip-path=\"url(#pd1043aec65)\">\n     <use xlink:href=\"#C3_0_f6b67035a6\" x=\"41.727619\" y=\"312.611695\" style=\"fill: #fff5f0\"/>\n    </g>\n    <g clip-path=\"url(#pd1043aec65)\">\n     <use xlink:href=\"#C3_0_f6b67035a6\" x=\"41.727619\" y=\"300.730704\" style=\"fill: #fff5f0\"/>\n    </g>\n    <g clip-path=\"url(#pd1043aec65)\">\n     <use xlink:href=\"#C3_0_f6b67035a6\" x=\"41.727619\" y=\"288.849712\" style=\"fill: #fff5f0\"/>\n    </g>\n    <g clip-path=\"url(#pd1043aec65)\">\n     <use xlink:href=\"#C3_0_f6b67035a6\" x=\"41.727619\" y=\"276.96872\" style=\"fill: #fee7dc\"/>\n    </g>\n    <g clip-path=\"url(#pd1043aec65)\">\n     <use xlink:href=\"#C3_0_f6b67035a6\" x=\"41.727619\" y=\"265.087728\" style=\"fill: #ffece3\"/>\n    </g>\n    <g clip-path=\"url(#pd1043aec65)\">\n     <use xlink:href=\"#C3_0_f6b67035a6\" x=\"41.727619\" y=\"253.206737\" style=\"fill: #fff5f0\"/>\n    </g>\n    <g clip-path=\"url(#pd1043aec65)\">\n     <use xlink:href=\"#C3_0_f6b67035a6\" x=\"41.727619\" y=\"241.325745\" style=\"fill: #fff5f0\"/>\n    </g>\n    <g clip-path=\"url(#pd1043aec65)\">\n     <use xlink:href=\"#C3_0_f6b67035a6\" x=\"41.727619\" y=\"229.444753\" style=\"fill: #fff5f0\"/>\n    </g>\n    <g clip-path=\"url(#pd1043aec65)\">\n     <use xlink:href=\"#C3_0_f6b67035a6\" x=\"41.727619\" y=\"217.563761\" style=\"fill: #fff5f0\"/>\n    </g>\n    <g clip-path=\"url(#pd1043aec65)\">\n     <use xlink:href=\"#C3_0_f6b67035a6\" x=\"41.727619\" y=\"205.68277\" style=\"fill: #fff5f0\"/>\n    </g>\n    <g clip-path=\"url(#pd1043aec65)\">\n     <use xlink:href=\"#C3_0_f6b67035a6\" x=\"41.727619\" y=\"193.801778\" style=\"fill: #fff5f0\"/>\n    </g>\n    <g clip-path=\"url(#pd1043aec65)\">\n     <use xlink:href=\"#C3_0_f6b67035a6\" x=\"48.578528\" y=\"324.492687\" style=\"fill: #fff5f0\"/>\n    </g>\n    <g clip-path=\"url(#pd1043aec65)\">\n     <use xlink:href=\"#C3_0_f6b67035a6\" x=\"48.578528\" y=\"312.611695\" style=\"fill: #fff5f0\"/>\n    </g>\n    <g clip-path=\"url(#pd1043aec65)\">\n     <use xlink:href=\"#C3_0_f6b67035a6\" x=\"48.578528\" y=\"300.730704\" style=\"fill: #fff5f0\"/>\n    </g>\n    <g clip-path=\"url(#pd1043aec65)\">\n     <use xlink:href=\"#C3_0_f6b67035a6\" x=\"48.578528\" y=\"288.849712\" style=\"fill: #fff5f0\"/>\n    </g>\n    <g clip-path=\"url(#pd1043aec65)\">\n     <use xlink:href=\"#C3_0_f6b67035a6\" x=\"48.578528\" y=\"276.96872\" style=\"fill: #fee7dc\"/>\n    </g>\n    <g clip-path=\"url(#pd1043aec65)\">\n     <use xlink:href=\"#C3_0_f6b67035a6\" x=\"48.578528\" y=\"265.087728\" style=\"fill: #fee7dc\"/>\n    </g>\n    <g clip-path=\"url(#pd1043aec65)\">\n     <use xlink:href=\"#C3_0_f6b67035a6\" x=\"48.578528\" y=\"253.206737\" style=\"fill: #fedbcc\"/>\n    </g>\n    <g clip-path=\"url(#pd1043aec65)\">\n     <use xlink:href=\"#C3_0_f6b67035a6\" x=\"48.578528\" y=\"241.325745\" style=\"fill: #fcc2aa\"/>\n    </g>\n    <g clip-path=\"url(#pd1043aec65)\">\n     <use xlink:href=\"#C3_0_f6b67035a6\" x=\"48.578528\" y=\"229.444753\" style=\"fill: #fff5f0\"/>\n    </g>\n    <g clip-path=\"url(#pd1043aec65)\">\n     <use xlink:href=\"#C3_0_f6b67035a6\" x=\"48.578528\" y=\"217.563761\" style=\"fill: #fff5f0\"/>\n    </g>\n    <g clip-path=\"url(#pd1043aec65)\">\n     <use xlink:href=\"#C3_0_f6b67035a6\" x=\"48.578528\" y=\"205.68277\" style=\"fill: #fff5f0\"/>\n    </g>\n    <g clip-path=\"url(#pd1043aec65)\">\n     <use xlink:href=\"#C3_0_f6b67035a6\" x=\"48.578528\" y=\"193.801778\" style=\"fill: #fff5f0\"/>\n    </g>\n    <g clip-path=\"url(#pd1043aec65)\">\n     <use xlink:href=\"#C3_0_f6b67035a6\" x=\"55.429437\" y=\"324.492687\" style=\"fill: #fff5f0\"/>\n    </g>\n    <g clip-path=\"url(#pd1043aec65)\">\n     <use xlink:href=\"#C3_0_f6b67035a6\" x=\"55.429437\" y=\"312.611695\" style=\"fill: #fff5f0\"/>\n    </g>\n    <g clip-path=\"url(#pd1043aec65)\">\n     <use xlink:href=\"#C3_0_f6b67035a6\" x=\"55.429437\" y=\"300.730704\" style=\"fill: #fff5f0\"/>\n    </g>\n    <g clip-path=\"url(#pd1043aec65)\">\n     <use xlink:href=\"#C3_0_f6b67035a6\" x=\"55.429437\" y=\"288.849712\" style=\"fill: #fdd3c1\"/>\n    </g>\n    <g clip-path=\"url(#pd1043aec65)\">\n     <use xlink:href=\"#C3_0_f6b67035a6\" x=\"55.429437\" y=\"276.96872\" style=\"fill: #fca689\"/>\n    </g>\n    <g clip-path=\"url(#pd1043aec65)\">\n     <use xlink:href=\"#C3_0_f6b67035a6\" x=\"55.429437\" y=\"265.087728\" style=\"fill: #f44f39\"/>\n    </g>\n    <g clip-path=\"url(#pd1043aec65)\">\n     <use xlink:href=\"#C3_0_f6b67035a6\" x=\"55.429437\" y=\"253.206737\" style=\"fill: #ee3a2c\"/>\n    </g>\n    <g clip-path=\"url(#pd1043aec65)\">\n     <use xlink:href=\"#C3_0_f6b67035a6\" x=\"55.429437\" y=\"241.325745\" style=\"fill: #fc9373\"/>\n    </g>\n    <g clip-path=\"url(#pd1043aec65)\">\n     <use xlink:href=\"#C3_0_f6b67035a6\" x=\"55.429437\" y=\"229.444753\" style=\"fill: #fff5f0\"/>\n    </g>\n    <g clip-path=\"url(#pd1043aec65)\">\n     <use xlink:href=\"#C3_0_f6b67035a6\" x=\"55.429437\" y=\"217.563761\" style=\"fill: #fff5f0\"/>\n    </g>\n    <g clip-path=\"url(#pd1043aec65)\">\n     <use xlink:href=\"#C3_0_f6b67035a6\" x=\"55.429437\" y=\"205.68277\" style=\"fill: #fff5f0\"/>\n    </g>\n    <g clip-path=\"url(#pd1043aec65)\">\n     <use xlink:href=\"#C3_0_f6b67035a6\" x=\"55.429437\" y=\"193.801778\" style=\"fill: #fff5f0\"/>\n    </g>\n    <g clip-path=\"url(#pd1043aec65)\">\n     <use xlink:href=\"#C3_0_f6b67035a6\" x=\"62.280346\" y=\"324.492687\" style=\"fill: #fff5f0\"/>\n    </g>\n    <g clip-path=\"url(#pd1043aec65)\">\n     <use xlink:href=\"#C3_0_f6b67035a6\" x=\"62.280346\" y=\"312.611695\" style=\"fill: #fff5f0\"/>\n    </g>\n    <g clip-path=\"url(#pd1043aec65)\">\n     <use xlink:href=\"#C3_0_f6b67035a6\" x=\"62.280346\" y=\"300.730704\" style=\"fill: #fff0e9\"/>\n    </g>\n    <g clip-path=\"url(#pd1043aec65)\">\n     <use xlink:href=\"#C3_0_f6b67035a6\" x=\"62.280346\" y=\"288.849712\" style=\"fill: #e53228\"/>\n    </g>\n    <g clip-path=\"url(#pd1043aec65)\">\n     <use xlink:href=\"#C3_0_f6b67035a6\" x=\"62.280346\" y=\"276.96872\" style=\"fill: #fcb99f\"/>\n    </g>\n    <g clip-path=\"url(#pd1043aec65)\">\n     <use xlink:href=\"#C3_0_f6b67035a6\" x=\"62.280346\" y=\"265.087728\" style=\"fill: #fc8a6a\"/>\n    </g>\n    <g clip-path=\"url(#pd1043aec65)\">\n     <use xlink:href=\"#C3_0_f6b67035a6\" x=\"62.280346\" y=\"253.206737\" style=\"fill: #fc9373\"/>\n    </g>\n    <g clip-path=\"url(#pd1043aec65)\">\n     <use xlink:href=\"#C3_0_f6b67035a6\" x=\"62.280346\" y=\"241.325745\" style=\"fill: #fee2d5\"/>\n    </g>\n    <g clip-path=\"url(#pd1043aec65)\">\n     <use xlink:href=\"#C3_0_f6b67035a6\" x=\"62.280346\" y=\"229.444753\" style=\"fill: #fff5f0\"/>\n    </g>\n    <g clip-path=\"url(#pd1043aec65)\">\n     <use xlink:href=\"#C3_0_f6b67035a6\" x=\"62.280346\" y=\"217.563761\" style=\"fill: #fff5f0\"/>\n    </g>\n    <g clip-path=\"url(#pd1043aec65)\">\n     <use xlink:href=\"#C3_0_f6b67035a6\" x=\"62.280346\" y=\"205.68277\" style=\"fill: #fff5f0\"/>\n    </g>\n    <g clip-path=\"url(#pd1043aec65)\">\n     <use xlink:href=\"#C3_0_f6b67035a6\" x=\"62.280346\" y=\"193.801778\" style=\"fill: #fff5f0\"/>\n    </g>\n    <g clip-path=\"url(#pd1043aec65)\">\n     <use xlink:href=\"#C3_0_f6b67035a6\" x=\"69.131255\" y=\"324.492687\" style=\"fill: #fff5f0\"/>\n    </g>\n    <g clip-path=\"url(#pd1043aec65)\">\n     <use xlink:href=\"#C3_0_f6b67035a6\" x=\"69.131255\" y=\"312.611695\" style=\"fill: #fff5f0\"/>\n    </g>\n    <g clip-path=\"url(#pd1043aec65)\">\n     <use xlink:href=\"#C3_0_f6b67035a6\" x=\"69.131255\" y=\"300.730704\" style=\"fill: #fcc2aa\"/>\n    </g>\n    <g clip-path=\"url(#pd1043aec65)\">\n     <use xlink:href=\"#C3_0_f6b67035a6\" x=\"69.131255\" y=\"288.849712\" style=\"fill: #fcc2aa\"/>\n    </g>\n    <g clip-path=\"url(#pd1043aec65)\">\n     <use xlink:href=\"#C3_0_f6b67035a6\" x=\"69.131255\" y=\"276.96872\" style=\"fill: #fc9d7f\"/>\n    </g>\n    <g clip-path=\"url(#pd1043aec65)\">\n     <use xlink:href=\"#C3_0_f6b67035a6\" x=\"69.131255\" y=\"265.087728\" style=\"fill: #fb7757\"/>\n    </g>\n    <g clip-path=\"url(#pd1043aec65)\">\n     <use xlink:href=\"#C3_0_f6b67035a6\" x=\"69.131255\" y=\"253.206737\" style=\"fill: #fca689\"/>\n    </g>\n    <g clip-path=\"url(#pd1043aec65)\">\n     <use xlink:href=\"#C3_0_f6b67035a6\" x=\"69.131255\" y=\"241.325745\" style=\"fill: #fff5f0\"/>\n    </g>\n    <g clip-path=\"url(#pd1043aec65)\">\n     <use xlink:href=\"#C3_0_f6b67035a6\" x=\"69.131255\" y=\"229.444753\" style=\"fill: #fff5f0\"/>\n    </g>\n    <g clip-path=\"url(#pd1043aec65)\">\n     <use xlink:href=\"#C3_0_f6b67035a6\" x=\"69.131255\" y=\"217.563761\" style=\"fill: #fff5f0\"/>\n    </g>\n    <g clip-path=\"url(#pd1043aec65)\">\n     <use xlink:href=\"#C3_0_f6b67035a6\" x=\"69.131255\" y=\"205.68277\" style=\"fill: #fff5f0\"/>\n    </g>\n    <g clip-path=\"url(#pd1043aec65)\">\n     <use xlink:href=\"#C3_0_f6b67035a6\" x=\"69.131255\" y=\"193.801778\" style=\"fill: #fff5f0\"/>\n    </g>\n    <g clip-path=\"url(#pd1043aec65)\">\n     <use xlink:href=\"#C3_0_f6b67035a6\" x=\"75.982164\" y=\"324.492687\" style=\"fill: #fff5f0\"/>\n    </g>\n    <g clip-path=\"url(#pd1043aec65)\">\n     <use xlink:href=\"#C3_0_f6b67035a6\" x=\"75.982164\" y=\"312.611695\" style=\"fill: #fff5f0\"/>\n    </g>\n    <g clip-path=\"url(#pd1043aec65)\">\n     <use xlink:href=\"#C3_0_f6b67035a6\" x=\"75.982164\" y=\"300.730704\" style=\"fill: #fcaf93\"/>\n    </g>\n    <g clip-path=\"url(#pd1043aec65)\">\n     <use xlink:href=\"#C3_0_f6b67035a6\" x=\"75.982164\" y=\"288.849712\" style=\"fill: #f75b40\"/>\n    </g>\n    <g clip-path=\"url(#pd1043aec65)\">\n     <use xlink:href=\"#C3_0_f6b67035a6\" x=\"75.982164\" y=\"276.96872\" style=\"fill: #fcb99f\"/>\n    </g>\n    <g clip-path=\"url(#pd1043aec65)\">\n     <use xlink:href=\"#C3_0_f6b67035a6\" x=\"75.982164\" y=\"265.087728\" style=\"fill: #fc8a6a\"/>\n    </g>\n    <g clip-path=\"url(#pd1043aec65)\">\n     <use xlink:href=\"#C3_0_f6b67035a6\" x=\"75.982164\" y=\"253.206737\" style=\"fill: #fcc2aa\"/>\n    </g>\n    <g clip-path=\"url(#pd1043aec65)\">\n     <use xlink:href=\"#C3_0_f6b67035a6\" x=\"75.982164\" y=\"241.325745\" style=\"fill: #fff5f0\"/>\n    </g>\n    <g clip-path=\"url(#pd1043aec65)\">\n     <use xlink:href=\"#C3_0_f6b67035a6\" x=\"75.982164\" y=\"229.444753\" style=\"fill: #fff5f0\"/>\n    </g>\n    <g clip-path=\"url(#pd1043aec65)\">\n     <use xlink:href=\"#C3_0_f6b67035a6\" x=\"75.982164\" y=\"217.563761\" style=\"fill: #fff5f0\"/>\n    </g>\n    <g clip-path=\"url(#pd1043aec65)\">\n     <use xlink:href=\"#C3_0_f6b67035a6\" x=\"75.982164\" y=\"205.68277\" style=\"fill: #fff5f0\"/>\n    </g>\n    <g clip-path=\"url(#pd1043aec65)\">\n     <use xlink:href=\"#C3_0_f6b67035a6\" x=\"75.982164\" y=\"193.801778\" style=\"fill: #fff5f0\"/>\n    </g>\n    <g clip-path=\"url(#pd1043aec65)\">\n     <use xlink:href=\"#C3_0_f6b67035a6\" x=\"82.833073\" y=\"324.492687\" style=\"fill: #fff5f0\"/>\n    </g>\n    <g clip-path=\"url(#pd1043aec65)\">\n     <use xlink:href=\"#C3_0_f6b67035a6\" x=\"82.833073\" y=\"312.611695\" style=\"fill: #fff5f0\"/>\n    </g>\n    <g clip-path=\"url(#pd1043aec65)\">\n     <use xlink:href=\"#C3_0_f6b67035a6\" x=\"82.833073\" y=\"300.730704\" style=\"fill: #fff0e9\"/>\n    </g>\n    <g clip-path=\"url(#pd1043aec65)\">\n     <use xlink:href=\"#C3_0_f6b67035a6\" x=\"82.833073\" y=\"288.849712\" style=\"fill: #fb7757\"/>\n    </g>\n    <g clip-path=\"url(#pd1043aec65)\">\n     <use xlink:href=\"#C3_0_f6b67035a6\" x=\"82.833073\" y=\"276.96872\" style=\"fill: #fedbcc\"/>\n    </g>\n    <g clip-path=\"url(#pd1043aec65)\">\n     <use xlink:href=\"#C3_0_f6b67035a6\" x=\"82.833073\" y=\"265.087728\" style=\"fill: #fedbcc\"/>\n    </g>\n    <g clip-path=\"url(#pd1043aec65)\">\n     <use xlink:href=\"#C3_0_f6b67035a6\" x=\"82.833073\" y=\"253.206737\" style=\"fill: #fee2d5\"/>\n    </g>\n    <g clip-path=\"url(#pd1043aec65)\">\n     <use xlink:href=\"#C3_0_f6b67035a6\" x=\"82.833073\" y=\"241.325745\" style=\"fill: #fff5f0\"/>\n    </g>\n    <g clip-path=\"url(#pd1043aec65)\">\n     <use xlink:href=\"#C3_0_f6b67035a6\" x=\"82.833073\" y=\"229.444753\" style=\"fill: #fff5f0\"/>\n    </g>\n    <g clip-path=\"url(#pd1043aec65)\">\n     <use xlink:href=\"#C3_0_f6b67035a6\" x=\"82.833073\" y=\"217.563761\" style=\"fill: #fff5f0\"/>\n    </g>\n    <g clip-path=\"url(#pd1043aec65)\">\n     <use xlink:href=\"#C3_0_f6b67035a6\" x=\"82.833073\" y=\"205.68277\" style=\"fill: #fff5f0\"/>\n    </g>\n    <g clip-path=\"url(#pd1043aec65)\">\n     <use xlink:href=\"#C3_0_f6b67035a6\" x=\"82.833073\" y=\"193.801778\" style=\"fill: #fff5f0\"/>\n    </g>\n    <g clip-path=\"url(#pd1043aec65)\">\n     <use xlink:href=\"#C3_0_f6b67035a6\" x=\"-50.759654\" y=\"318.552191\" style=\"fill: #fff5f0\"/>\n    </g>\n    <g clip-path=\"url(#pd1043aec65)\">\n     <use xlink:href=\"#C3_0_f6b67035a6\" x=\"-50.759654\" y=\"306.671199\" style=\"fill: #fff5f0\"/>\n    </g>\n    <g clip-path=\"url(#pd1043aec65)\">\n     <use xlink:href=\"#C3_0_f6b67035a6\" x=\"-50.759654\" y=\"294.790208\" style=\"fill: #fff5f0\"/>\n    </g>\n    <g clip-path=\"url(#pd1043aec65)\">\n     <use xlink:href=\"#C3_0_f6b67035a6\" x=\"-50.759654\" y=\"282.909216\" style=\"fill: #fee7dc\"/>\n    </g>\n    <g clip-path=\"url(#pd1043aec65)\">\n     <use xlink:href=\"#C3_0_f6b67035a6\" x=\"-50.759654\" y=\"271.028224\" style=\"fill: #fc8161\"/>\n    </g>\n    <g clip-path=\"url(#pd1043aec65)\">\n     <use xlink:href=\"#C3_0_f6b67035a6\" x=\"-50.759654\" y=\"259.147232\" style=\"fill: #fb7757\"/>\n    </g>\n    <g clip-path=\"url(#pd1043aec65)\">\n     <use xlink:href=\"#C3_0_f6b67035a6\" x=\"-50.759654\" y=\"247.266241\" style=\"fill: #fcb99f\"/>\n    </g>\n    <g clip-path=\"url(#pd1043aec65)\">\n     <use xlink:href=\"#C3_0_f6b67035a6\" x=\"-50.759654\" y=\"235.385249\" style=\"fill: #fff5f0\"/>\n    </g>\n    <g clip-path=\"url(#pd1043aec65)\">\n     <use xlink:href=\"#C3_0_f6b67035a6\" x=\"-50.759654\" y=\"223.504257\" style=\"fill: #fff5f0\"/>\n    </g>\n    <g clip-path=\"url(#pd1043aec65)\">\n     <use xlink:href=\"#C3_0_f6b67035a6\" x=\"-50.759654\" y=\"211.623266\" style=\"fill: #fff5f0\"/>\n    </g>\n    <g clip-path=\"url(#pd1043aec65)\">\n     <use xlink:href=\"#C3_0_f6b67035a6\" x=\"-50.759654\" y=\"199.742274\" style=\"fill: #fff5f0\"/>\n    </g>\n    <g clip-path=\"url(#pd1043aec65)\">\n     <use xlink:href=\"#C3_0_f6b67035a6\" x=\"-43.908745\" y=\"318.552191\" style=\"fill: #fff5f0\"/>\n    </g>\n    <g clip-path=\"url(#pd1043aec65)\">\n     <use xlink:href=\"#C3_0_f6b67035a6\" x=\"-43.908745\" y=\"306.671199\" style=\"fill: #fff5f0\"/>\n    </g>\n    <g clip-path=\"url(#pd1043aec65)\">\n     <use xlink:href=\"#C3_0_f6b67035a6\" x=\"-43.908745\" y=\"294.790208\" style=\"fill: #fdd3c1\"/>\n    </g>\n    <g clip-path=\"url(#pd1043aec65)\">\n     <use xlink:href=\"#C3_0_f6b67035a6\" x=\"-43.908745\" y=\"282.909216\" style=\"fill: #fca689\"/>\n    </g>\n    <g clip-path=\"url(#pd1043aec65)\">\n     <use xlink:href=\"#C3_0_f6b67035a6\" x=\"-43.908745\" y=\"271.028224\" style=\"fill: #fa6547\"/>\n    </g>\n    <g clip-path=\"url(#pd1043aec65)\">\n     <use xlink:href=\"#C3_0_f6b67035a6\" x=\"-43.908745\" y=\"259.147232\" style=\"fill: #9f0e14\"/>\n    </g>\n    <g clip-path=\"url(#pd1043aec65)\">\n     <use xlink:href=\"#C3_0_f6b67035a6\" x=\"-43.908745\" y=\"247.266241\" style=\"fill: #fa6547\"/>\n    </g>\n    <g clip-path=\"url(#pd1043aec65)\">\n     <use xlink:href=\"#C3_0_f6b67035a6\" x=\"-43.908745\" y=\"235.385249\" style=\"fill: #fc9373\"/>\n    </g>\n    <g clip-path=\"url(#pd1043aec65)\">\n     <use xlink:href=\"#C3_0_f6b67035a6\" x=\"-43.908745\" y=\"223.504257\" style=\"fill: #fff5f0\"/>\n    </g>\n    <g clip-path=\"url(#pd1043aec65)\">\n     <use xlink:href=\"#C3_0_f6b67035a6\" x=\"-43.908745\" y=\"211.623266\" style=\"fill: #fff5f0\"/>\n    </g>\n    <g clip-path=\"url(#pd1043aec65)\">\n     <use xlink:href=\"#C3_0_f6b67035a6\" x=\"-43.908745\" y=\"199.742274\" style=\"fill: #fff5f0\"/>\n    </g>\n    <g clip-path=\"url(#pd1043aec65)\">\n     <use xlink:href=\"#C3_0_f6b67035a6\" x=\"-37.057836\" y=\"318.552191\" style=\"fill: #fff5f0\"/>\n    </g>\n    <g clip-path=\"url(#pd1043aec65)\">\n     <use xlink:href=\"#C3_0_f6b67035a6\" x=\"-37.057836\" y=\"306.671199\" style=\"fill: #fee7dc\"/>\n    </g>\n    <g clip-path=\"url(#pd1043aec65)\">\n     <use xlink:href=\"#C3_0_f6b67035a6\" x=\"-37.057836\" y=\"294.790208\" style=\"fill: #fcc2aa\"/>\n    </g>\n    <g clip-path=\"url(#pd1043aec65)\">\n     <use xlink:href=\"#C3_0_f6b67035a6\" x=\"-37.057836\" y=\"282.909216\" style=\"fill: #fc9373\"/>\n    </g>\n    <g clip-path=\"url(#pd1043aec65)\">\n     <use xlink:href=\"#C3_0_f6b67035a6\" x=\"-37.057836\" y=\"271.028224\" style=\"fill: #fc8161\"/>\n    </g>\n    <g clip-path=\"url(#pd1043aec65)\">\n     <use xlink:href=\"#C3_0_f6b67035a6\" x=\"-37.057836\" y=\"259.147232\" style=\"fill: #d52221\"/>\n    </g>\n    <g clip-path=\"url(#pd1043aec65)\">\n     <use xlink:href=\"#C3_0_f6b67035a6\" x=\"-37.057836\" y=\"247.266241\" style=\"fill: #ee3a2c\"/>\n    </g>\n    <g clip-path=\"url(#pd1043aec65)\">\n     <use xlink:href=\"#C3_0_f6b67035a6\" x=\"-37.057836\" y=\"235.385249\" style=\"fill: #f44f39\"/>\n    </g>\n    <g clip-path=\"url(#pd1043aec65)\">\n     <use xlink:href=\"#C3_0_f6b67035a6\" x=\"-37.057836\" y=\"223.504257\" style=\"fill: #fff5f0\"/>\n    </g>\n    <g clip-path=\"url(#pd1043aec65)\">\n     <use xlink:href=\"#C3_0_f6b67035a6\" x=\"-37.057836\" y=\"211.623266\" style=\"fill: #fff5f0\"/>\n    </g>\n    <g clip-path=\"url(#pd1043aec65)\">\n     <use xlink:href=\"#C3_0_f6b67035a6\" x=\"-37.057836\" y=\"199.742274\" style=\"fill: #fff5f0\"/>\n    </g>\n    <g clip-path=\"url(#pd1043aec65)\">\n     <use xlink:href=\"#C3_0_f6b67035a6\" x=\"-30.206927\" y=\"318.552191\" style=\"fill: #fff5f0\"/>\n    </g>\n    <g clip-path=\"url(#pd1043aec65)\">\n     <use xlink:href=\"#C3_0_f6b67035a6\" x=\"-30.206927\" y=\"306.671199\" style=\"fill: #fee2d5\"/>\n    </g>\n    <g clip-path=\"url(#pd1043aec65)\">\n     <use xlink:href=\"#C3_0_f6b67035a6\" x=\"-30.206927\" y=\"294.790208\" style=\"fill: #ffece3\"/>\n    </g>\n    <g clip-path=\"url(#pd1043aec65)\">\n     <use xlink:href=\"#C3_0_f6b67035a6\" x=\"-30.206927\" y=\"282.909216\" style=\"fill: #fee2d5\"/>\n    </g>\n    <g clip-path=\"url(#pd1043aec65)\">\n     <use xlink:href=\"#C3_0_f6b67035a6\" x=\"-30.206927\" y=\"271.028224\" style=\"fill: #fcb99f\"/>\n    </g>\n    <g clip-path=\"url(#pd1043aec65)\">\n     <use xlink:href=\"#C3_0_f6b67035a6\" x=\"-30.206927\" y=\"259.147232\" style=\"fill: #f75b40\"/>\n    </g>\n    <g clip-path=\"url(#pd1043aec65)\">\n     <use xlink:href=\"#C3_0_f6b67035a6\" x=\"-30.206927\" y=\"247.266241\" style=\"fill: #fb7757\"/>\n    </g>\n    <g clip-path=\"url(#pd1043aec65)\">\n     <use xlink:href=\"#C3_0_f6b67035a6\" x=\"-30.206927\" y=\"235.385249\" style=\"fill: #ee3a2c\"/>\n    </g>\n    <g clip-path=\"url(#pd1043aec65)\">\n     <use xlink:href=\"#C3_0_f6b67035a6\" x=\"-30.206927\" y=\"223.504257\" style=\"fill: #fff5f0\"/>\n    </g>\n    <g clip-path=\"url(#pd1043aec65)\">\n     <use xlink:href=\"#C3_0_f6b67035a6\" x=\"-30.206927\" y=\"211.623266\" style=\"fill: #fc8161\"/>\n    </g>\n    <g clip-path=\"url(#pd1043aec65)\">\n     <use xlink:href=\"#C3_0_f6b67035a6\" x=\"-30.206927\" y=\"199.742274\" style=\"fill: #fff5f0\"/>\n    </g>\n    <g clip-path=\"url(#pd1043aec65)\">\n     <use xlink:href=\"#C3_0_f6b67035a6\" x=\"-23.356018\" y=\"318.552191\" style=\"fill: #fee7dc\"/>\n    </g>\n    <g clip-path=\"url(#pd1043aec65)\">\n     <use xlink:href=\"#C3_0_f6b67035a6\" x=\"-23.356018\" y=\"306.671199\" style=\"fill: #fff0e9\"/>\n    </g>\n    <g clip-path=\"url(#pd1043aec65)\">\n     <use xlink:href=\"#C3_0_f6b67035a6\" x=\"-23.356018\" y=\"294.790208\" style=\"fill: #fee7dc\"/>\n    </g>\n    <g clip-path=\"url(#pd1043aec65)\">\n     <use xlink:href=\"#C3_0_f6b67035a6\" x=\"-23.356018\" y=\"282.909216\" style=\"fill: #fcaf93\"/>\n    </g>\n    <g clip-path=\"url(#pd1043aec65)\">\n     <use xlink:href=\"#C3_0_f6b67035a6\" x=\"-23.356018\" y=\"271.028224\" style=\"fill: #fcaf93\"/>\n    </g>\n    <g clip-path=\"url(#pd1043aec65)\">\n     <use xlink:href=\"#C3_0_f6b67035a6\" x=\"-23.356018\" y=\"259.147232\" style=\"fill: #f75b40\"/>\n    </g>\n    <g clip-path=\"url(#pd1043aec65)\">\n     <use xlink:href=\"#C3_0_f6b67035a6\" x=\"-23.356018\" y=\"247.266241\" style=\"fill: #aa1016\"/>\n    </g>\n    <g clip-path=\"url(#pd1043aec65)\">\n     <use xlink:href=\"#C3_0_f6b67035a6\" x=\"-23.356018\" y=\"235.385249\" style=\"fill: #fcaf93\"/>\n    </g>\n    <g clip-path=\"url(#pd1043aec65)\">\n     <use xlink:href=\"#C3_0_f6b67035a6\" x=\"-23.356018\" y=\"223.504257\" style=\"fill: #fff5f0\"/>\n    </g>\n    <g clip-path=\"url(#pd1043aec65)\">\n     <use xlink:href=\"#C3_0_f6b67035a6\" x=\"-23.356018\" y=\"211.623266\" style=\"fill: #fca689\"/>\n    </g>\n    <g clip-path=\"url(#pd1043aec65)\">\n     <use xlink:href=\"#C3_0_f6b67035a6\" x=\"-23.356018\" y=\"199.742274\" style=\"fill: #fdcab5\"/>\n    </g>\n    <g clip-path=\"url(#pd1043aec65)\">\n     <use xlink:href=\"#C3_0_f6b67035a6\" x=\"-16.505109\" y=\"318.552191\" style=\"fill: #fff0e9\"/>\n    </g>\n    <g clip-path=\"url(#pd1043aec65)\">\n     <use xlink:href=\"#C3_0_f6b67035a6\" x=\"-16.505109\" y=\"306.671199\" style=\"fill: #fff5f0\"/>\n    </g>\n    <g clip-path=\"url(#pd1043aec65)\">\n     <use xlink:href=\"#C3_0_f6b67035a6\" x=\"-16.505109\" y=\"294.790208\" style=\"fill: #fc9373\"/>\n    </g>\n    <g clip-path=\"url(#pd1043aec65)\">\n     <use xlink:href=\"#C3_0_f6b67035a6\" x=\"-16.505109\" y=\"282.909216\" style=\"fill: #fca689\"/>\n    </g>\n    <g clip-path=\"url(#pd1043aec65)\">\n     <use xlink:href=\"#C3_0_f6b67035a6\" x=\"-16.505109\" y=\"271.028224\" style=\"fill: #fee2d5\"/>\n    </g>\n    <g clip-path=\"url(#pd1043aec65)\">\n     <use xlink:href=\"#C3_0_f6b67035a6\" x=\"-16.505109\" y=\"259.147232\" style=\"fill: #fc9373\"/>\n    </g>\n    <g clip-path=\"url(#pd1043aec65)\">\n     <use xlink:href=\"#C3_0_f6b67035a6\" x=\"-16.505109\" y=\"247.266241\" style=\"fill: #fa6547\"/>\n    </g>\n    <g clip-path=\"url(#pd1043aec65)\">\n     <use xlink:href=\"#C3_0_f6b67035a6\" x=\"-16.505109\" y=\"235.385249\" style=\"fill: #fdd3c1\"/>\n    </g>\n    <g clip-path=\"url(#pd1043aec65)\">\n     <use xlink:href=\"#C3_0_f6b67035a6\" x=\"-16.505109\" y=\"223.504257\" style=\"fill: #fedbcc\"/>\n    </g>\n    <g clip-path=\"url(#pd1043aec65)\">\n     <use xlink:href=\"#C3_0_f6b67035a6\" x=\"-16.505109\" y=\"211.623266\" style=\"fill: #f75b40\"/>\n    </g>\n    <g clip-path=\"url(#pd1043aec65)\">\n     <use xlink:href=\"#C3_0_f6b67035a6\" x=\"-16.505109\" y=\"199.742274\" style=\"fill: #fca689\"/>\n    </g>\n    <g clip-path=\"url(#pd1043aec65)\">\n     <use xlink:href=\"#C3_0_f6b67035a6\" x=\"-9.6542\" y=\"318.552191\" style=\"fill: #fff5f0\"/>\n    </g>\n    <g clip-path=\"url(#pd1043aec65)\">\n     <use xlink:href=\"#C3_0_f6b67035a6\" x=\"-9.6542\" y=\"306.671199\" style=\"fill: #fff5f0\"/>\n    </g>\n    <g clip-path=\"url(#pd1043aec65)\">\n     <use xlink:href=\"#C3_0_f6b67035a6\" x=\"-9.6542\" y=\"294.790208\" style=\"fill: #fee7dc\"/>\n    </g>\n    <g clip-path=\"url(#pd1043aec65)\">\n     <use xlink:href=\"#C3_0_f6b67035a6\" x=\"-9.6542\" y=\"282.909216\" style=\"fill: #fdd3c1\"/>\n    </g>\n    <g clip-path=\"url(#pd1043aec65)\">\n     <use xlink:href=\"#C3_0_f6b67035a6\" x=\"-9.6542\" y=\"271.028224\" style=\"fill: #fdcab5\"/>\n    </g>\n    <g clip-path=\"url(#pd1043aec65)\">\n     <use xlink:href=\"#C3_0_f6b67035a6\" x=\"-9.6542\" y=\"259.147232\" style=\"fill: #fc9d7f\"/>\n    </g>\n    <g clip-path=\"url(#pd1043aec65)\">\n     <use xlink:href=\"#C3_0_f6b67035a6\" x=\"-9.6542\" y=\"247.266241\" style=\"fill: #f75b40\"/>\n    </g>\n    <g clip-path=\"url(#pd1043aec65)\">\n     <use xlink:href=\"#C3_0_f6b67035a6\" x=\"-9.6542\" y=\"235.385249\" style=\"fill: #fdd3c1\"/>\n    </g>\n    <g clip-path=\"url(#pd1043aec65)\">\n     <use xlink:href=\"#C3_0_f6b67035a6\" x=\"-9.6542\" y=\"223.504257\" style=\"fill: #fcc2aa\"/>\n    </g>\n    <g clip-path=\"url(#pd1043aec65)\">\n     <use xlink:href=\"#C3_0_f6b67035a6\" x=\"-9.6542\" y=\"211.623266\" style=\"fill: #fa6547\"/>\n    </g>\n    <g clip-path=\"url(#pd1043aec65)\">\n     <use xlink:href=\"#C3_0_f6b67035a6\" x=\"-9.6542\" y=\"199.742274\" style=\"fill: #e53228\"/>\n    </g>\n    <g clip-path=\"url(#pd1043aec65)\">\n     <use xlink:href=\"#C3_0_f6b67035a6\" x=\"-2.80329\" y=\"318.552191\" style=\"fill: #fff0e9\"/>\n    </g>\n    <g clip-path=\"url(#pd1043aec65)\">\n     <use xlink:href=\"#C3_0_f6b67035a6\" x=\"-2.80329\" y=\"306.671199\" style=\"fill: #fff5f0\"/>\n    </g>\n    <g clip-path=\"url(#pd1043aec65)\">\n     <use xlink:href=\"#C3_0_f6b67035a6\" x=\"-2.80329\" y=\"294.790208\" style=\"fill: #fff0e9\"/>\n    </g>\n    <g clip-path=\"url(#pd1043aec65)\">\n     <use xlink:href=\"#C3_0_f6b67035a6\" x=\"-2.80329\" y=\"282.909216\" style=\"fill: #fdd3c1\"/>\n    </g>\n    <g clip-path=\"url(#pd1043aec65)\">\n     <use xlink:href=\"#C3_0_f6b67035a6\" x=\"-2.80329\" y=\"271.028224\" style=\"fill: #fcaf93\"/>\n    </g>\n    <g clip-path=\"url(#pd1043aec65)\">\n     <use xlink:href=\"#C3_0_f6b67035a6\" x=\"-2.80329\" y=\"259.147232\" style=\"fill: #fdd3c1\"/>\n    </g>\n    <g clip-path=\"url(#pd1043aec65)\">\n     <use xlink:href=\"#C3_0_f6b67035a6\" x=\"-2.80329\" y=\"247.266241\" style=\"fill: #fdcab5\"/>\n    </g>\n    <g clip-path=\"url(#pd1043aec65)\">\n     <use xlink:href=\"#C3_0_f6b67035a6\" x=\"-2.80329\" y=\"235.385249\" style=\"fill: #ffece3\"/>\n    </g>\n    <g clip-path=\"url(#pd1043aec65)\">\n     <use xlink:href=\"#C3_0_f6b67035a6\" x=\"-2.80329\" y=\"223.504257\" style=\"fill: #fc9d7f\"/>\n    </g>\n    <g clip-path=\"url(#pd1043aec65)\">\n     <use xlink:href=\"#C3_0_f6b67035a6\" x=\"-2.80329\" y=\"211.623266\" style=\"fill: #fc9373\"/>\n    </g>\n    <g clip-path=\"url(#pd1043aec65)\">\n     <use xlink:href=\"#C3_0_f6b67035a6\" x=\"-2.80329\" y=\"199.742274\" style=\"fill: #fee2d5\"/>\n    </g>\n    <g clip-path=\"url(#pd1043aec65)\">\n     <use xlink:href=\"#C3_0_f6b67035a6\" x=\"4.047619\" y=\"318.552191\" style=\"fill: #fb7757\"/>\n    </g>\n    <g clip-path=\"url(#pd1043aec65)\">\n     <use xlink:href=\"#C3_0_f6b67035a6\" x=\"4.047619\" y=\"306.671199\" style=\"fill: #fcc2aa\"/>\n    </g>\n    <g clip-path=\"url(#pd1043aec65)\">\n     <use xlink:href=\"#C3_0_f6b67035a6\" x=\"4.047619\" y=\"294.790208\" style=\"fill: #fff5f0\"/>\n    </g>\n    <g clip-path=\"url(#pd1043aec65)\">\n     <use xlink:href=\"#C3_0_f6b67035a6\" x=\"4.047619\" y=\"282.909216\" style=\"fill: #fedbcc\"/>\n    </g>\n    <g clip-path=\"url(#pd1043aec65)\">\n     <use xlink:href=\"#C3_0_f6b67035a6\" x=\"4.047619\" y=\"271.028224\" style=\"fill: #fcb99f\"/>\n    </g>\n    <g clip-path=\"url(#pd1043aec65)\">\n     <use xlink:href=\"#C3_0_f6b67035a6\" x=\"4.047619\" y=\"259.147232\" style=\"fill: #fdd3c1\"/>\n    </g>\n    <g clip-path=\"url(#pd1043aec65)\">\n     <use xlink:href=\"#C3_0_f6b67035a6\" x=\"4.047619\" y=\"247.266241\" style=\"fill: #fcc2aa\"/>\n    </g>\n    <g clip-path=\"url(#pd1043aec65)\">\n     <use xlink:href=\"#C3_0_f6b67035a6\" x=\"4.047619\" y=\"235.385249\" style=\"fill: #fee7dc\"/>\n    </g>\n    <g clip-path=\"url(#pd1043aec65)\">\n     <use xlink:href=\"#C3_0_f6b67035a6\" x=\"4.047619\" y=\"223.504257\" style=\"fill: #ffece3\"/>\n    </g>\n    <g clip-path=\"url(#pd1043aec65)\">\n     <use xlink:href=\"#C3_0_f6b67035a6\" x=\"4.047619\" y=\"211.623266\" style=\"fill: #fff5f0\"/>\n    </g>\n    <g clip-path=\"url(#pd1043aec65)\">\n     <use xlink:href=\"#C3_0_f6b67035a6\" x=\"4.047619\" y=\"199.742274\" style=\"fill: #fff5f0\"/>\n    </g>\n    <g clip-path=\"url(#pd1043aec65)\">\n     <use xlink:href=\"#C3_0_f6b67035a6\" x=\"10.898528\" y=\"318.552191\" style=\"fill: #fc9373\"/>\n    </g>\n    <g clip-path=\"url(#pd1043aec65)\">\n     <use xlink:href=\"#C3_0_f6b67035a6\" x=\"10.898528\" y=\"306.671199\" style=\"fill: #fff5f0\"/>\n    </g>\n    <g clip-path=\"url(#pd1043aec65)\">\n     <use xlink:href=\"#C3_0_f6b67035a6\" x=\"10.898528\" y=\"294.790208\" style=\"fill: #fee7dc\"/>\n    </g>\n    <g clip-path=\"url(#pd1043aec65)\">\n     <use xlink:href=\"#C3_0_f6b67035a6\" x=\"10.898528\" y=\"282.909216\" style=\"fill: #fedbcc\"/>\n    </g>\n    <g clip-path=\"url(#pd1043aec65)\">\n     <use xlink:href=\"#C3_0_f6b67035a6\" x=\"10.898528\" y=\"271.028224\" style=\"fill: #fee2d5\"/>\n    </g>\n    <g clip-path=\"url(#pd1043aec65)\">\n     <use xlink:href=\"#C3_0_f6b67035a6\" x=\"10.898528\" y=\"259.147232\" style=\"fill: #fff5f0\"/>\n    </g>\n    <g clip-path=\"url(#pd1043aec65)\">\n     <use xlink:href=\"#C3_0_f6b67035a6\" x=\"10.898528\" y=\"247.266241\" style=\"fill: #ffece3\"/>\n    </g>\n    <g clip-path=\"url(#pd1043aec65)\">\n     <use xlink:href=\"#C3_0_f6b67035a6\" x=\"10.898528\" y=\"235.385249\" style=\"fill: #fff5f0\"/>\n    </g>\n    <g clip-path=\"url(#pd1043aec65)\">\n     <use xlink:href=\"#C3_0_f6b67035a6\" x=\"10.898528\" y=\"223.504257\" style=\"fill: #fff5f0\"/>\n    </g>\n    <g clip-path=\"url(#pd1043aec65)\">\n     <use xlink:href=\"#C3_0_f6b67035a6\" x=\"10.898528\" y=\"211.623266\" style=\"fill: #fff5f0\"/>\n    </g>\n    <g clip-path=\"url(#pd1043aec65)\">\n     <use xlink:href=\"#C3_0_f6b67035a6\" x=\"10.898528\" y=\"199.742274\" style=\"fill: #fff5f0\"/>\n    </g>\n    <g clip-path=\"url(#pd1043aec65)\">\n     <use xlink:href=\"#C3_0_f6b67035a6\" x=\"17.749437\" y=\"318.552191\" style=\"fill: #fff5f0\"/>\n    </g>\n    <g clip-path=\"url(#pd1043aec65)\">\n     <use xlink:href=\"#C3_0_f6b67035a6\" x=\"17.749437\" y=\"306.671199\" style=\"fill: #fff5f0\"/>\n    </g>\n    <g clip-path=\"url(#pd1043aec65)\">\n     <use xlink:href=\"#C3_0_f6b67035a6\" x=\"17.749437\" y=\"294.790208\" style=\"fill: #fedbcc\"/>\n    </g>\n    <g clip-path=\"url(#pd1043aec65)\">\n     <use xlink:href=\"#C3_0_f6b67035a6\" x=\"17.749437\" y=\"282.909216\" style=\"fill: #fff5f0\"/>\n    </g>\n    <g clip-path=\"url(#pd1043aec65)\">\n     <use xlink:href=\"#C3_0_f6b67035a6\" x=\"17.749437\" y=\"271.028224\" style=\"fill: #fff5f0\"/>\n    </g>\n    <g clip-path=\"url(#pd1043aec65)\">\n     <use xlink:href=\"#C3_0_f6b67035a6\" x=\"17.749437\" y=\"259.147232\" style=\"fill: #fff5f0\"/>\n    </g>\n    <g clip-path=\"url(#pd1043aec65)\">\n     <use xlink:href=\"#C3_0_f6b67035a6\" x=\"17.749437\" y=\"247.266241\" style=\"fill: #fff5f0\"/>\n    </g>\n    <g clip-path=\"url(#pd1043aec65)\">\n     <use xlink:href=\"#C3_0_f6b67035a6\" x=\"17.749437\" y=\"235.385249\" style=\"fill: #fff5f0\"/>\n    </g>\n    <g clip-path=\"url(#pd1043aec65)\">\n     <use xlink:href=\"#C3_0_f6b67035a6\" x=\"17.749437\" y=\"223.504257\" style=\"fill: #fff5f0\"/>\n    </g>\n    <g clip-path=\"url(#pd1043aec65)\">\n     <use xlink:href=\"#C3_0_f6b67035a6\" x=\"17.749437\" y=\"211.623266\" style=\"fill: #fff5f0\"/>\n    </g>\n    <g clip-path=\"url(#pd1043aec65)\">\n     <use xlink:href=\"#C3_0_f6b67035a6\" x=\"17.749437\" y=\"199.742274\" style=\"fill: #fff5f0\"/>\n    </g>\n    <g clip-path=\"url(#pd1043aec65)\">\n     <use xlink:href=\"#C3_0_f6b67035a6\" x=\"24.600346\" y=\"318.552191\" style=\"fill: #fff5f0\"/>\n    </g>\n    <g clip-path=\"url(#pd1043aec65)\">\n     <use xlink:href=\"#C3_0_f6b67035a6\" x=\"24.600346\" y=\"306.671199\" style=\"fill: #fff5f0\"/>\n    </g>\n    <g clip-path=\"url(#pd1043aec65)\">\n     <use xlink:href=\"#C3_0_f6b67035a6\" x=\"24.600346\" y=\"294.790208\" style=\"fill: #ffece3\"/>\n    </g>\n    <g clip-path=\"url(#pd1043aec65)\">\n     <use xlink:href=\"#C3_0_f6b67035a6\" x=\"24.600346\" y=\"282.909216\" style=\"fill: #fff5f0\"/>\n    </g>\n    <g clip-path=\"url(#pd1043aec65)\">\n     <use xlink:href=\"#C3_0_f6b67035a6\" x=\"24.600346\" y=\"271.028224\" style=\"fill: #fff5f0\"/>\n    </g>\n    <g clip-path=\"url(#pd1043aec65)\">\n     <use xlink:href=\"#C3_0_f6b67035a6\" x=\"24.600346\" y=\"259.147232\" style=\"fill: #fff5f0\"/>\n    </g>\n    <g clip-path=\"url(#pd1043aec65)\">\n     <use xlink:href=\"#C3_0_f6b67035a6\" x=\"24.600346\" y=\"247.266241\" style=\"fill: #fff5f0\"/>\n    </g>\n    <g clip-path=\"url(#pd1043aec65)\">\n     <use xlink:href=\"#C3_0_f6b67035a6\" x=\"24.600346\" y=\"235.385249\" style=\"fill: #fff5f0\"/>\n    </g>\n    <g clip-path=\"url(#pd1043aec65)\">\n     <use xlink:href=\"#C3_0_f6b67035a6\" x=\"24.600346\" y=\"223.504257\" style=\"fill: #fff5f0\"/>\n    </g>\n    <g clip-path=\"url(#pd1043aec65)\">\n     <use xlink:href=\"#C3_0_f6b67035a6\" x=\"24.600346\" y=\"211.623266\" style=\"fill: #fff5f0\"/>\n    </g>\n    <g clip-path=\"url(#pd1043aec65)\">\n     <use xlink:href=\"#C3_0_f6b67035a6\" x=\"24.600346\" y=\"199.742274\" style=\"fill: #fff5f0\"/>\n    </g>\n    <g clip-path=\"url(#pd1043aec65)\">\n     <use xlink:href=\"#C3_0_f6b67035a6\" x=\"31.451255\" y=\"318.552191\" style=\"fill: #fff5f0\"/>\n    </g>\n    <g clip-path=\"url(#pd1043aec65)\">\n     <use xlink:href=\"#C3_0_f6b67035a6\" x=\"31.451255\" y=\"306.671199\" style=\"fill: #fff5f0\"/>\n    </g>\n    <g clip-path=\"url(#pd1043aec65)\">\n     <use xlink:href=\"#C3_0_f6b67035a6\" x=\"31.451255\" y=\"294.790208\" style=\"fill: #fff5f0\"/>\n    </g>\n    <g clip-path=\"url(#pd1043aec65)\">\n     <use xlink:href=\"#C3_0_f6b67035a6\" x=\"31.451255\" y=\"282.909216\" style=\"fill: #fff5f0\"/>\n    </g>\n    <g clip-path=\"url(#pd1043aec65)\">\n     <use xlink:href=\"#C3_0_f6b67035a6\" x=\"31.451255\" y=\"271.028224\" style=\"fill: #fff5f0\"/>\n    </g>\n    <g clip-path=\"url(#pd1043aec65)\">\n     <use xlink:href=\"#C3_0_f6b67035a6\" x=\"31.451255\" y=\"259.147232\" style=\"fill: #fff5f0\"/>\n    </g>\n    <g clip-path=\"url(#pd1043aec65)\">\n     <use xlink:href=\"#C3_0_f6b67035a6\" x=\"31.451255\" y=\"247.266241\" style=\"fill: #fff5f0\"/>\n    </g>\n    <g clip-path=\"url(#pd1043aec65)\">\n     <use xlink:href=\"#C3_0_f6b67035a6\" x=\"31.451255\" y=\"235.385249\" style=\"fill: #fff5f0\"/>\n    </g>\n    <g clip-path=\"url(#pd1043aec65)\">\n     <use xlink:href=\"#C3_0_f6b67035a6\" x=\"31.451255\" y=\"223.504257\" style=\"fill: #fff5f0\"/>\n    </g>\n    <g clip-path=\"url(#pd1043aec65)\">\n     <use xlink:href=\"#C3_0_f6b67035a6\" x=\"31.451255\" y=\"211.623266\" style=\"fill: #fff5f0\"/>\n    </g>\n    <g clip-path=\"url(#pd1043aec65)\">\n     <use xlink:href=\"#C3_0_f6b67035a6\" x=\"31.451255\" y=\"199.742274\" style=\"fill: #fff5f0\"/>\n    </g>\n    <g clip-path=\"url(#pd1043aec65)\">\n     <use xlink:href=\"#C3_0_f6b67035a6\" x=\"38.302164\" y=\"318.552191\" style=\"fill: #fff5f0\"/>\n    </g>\n    <g clip-path=\"url(#pd1043aec65)\">\n     <use xlink:href=\"#C3_0_f6b67035a6\" x=\"38.302164\" y=\"306.671199\" style=\"fill: #fff5f0\"/>\n    </g>\n    <g clip-path=\"url(#pd1043aec65)\">\n     <use xlink:href=\"#C3_0_f6b67035a6\" x=\"38.302164\" y=\"294.790208\" style=\"fill: #fff5f0\"/>\n    </g>\n    <g clip-path=\"url(#pd1043aec65)\">\n     <use xlink:href=\"#C3_0_f6b67035a6\" x=\"38.302164\" y=\"282.909216\" style=\"fill: #fff5f0\"/>\n    </g>\n    <g clip-path=\"url(#pd1043aec65)\">\n     <use xlink:href=\"#C3_0_f6b67035a6\" x=\"38.302164\" y=\"271.028224\" style=\"fill: #fff5f0\"/>\n    </g>\n    <g clip-path=\"url(#pd1043aec65)\">\n     <use xlink:href=\"#C3_0_f6b67035a6\" x=\"38.302164\" y=\"259.147232\" style=\"fill: #fff5f0\"/>\n    </g>\n    <g clip-path=\"url(#pd1043aec65)\">\n     <use xlink:href=\"#C3_0_f6b67035a6\" x=\"38.302164\" y=\"247.266241\" style=\"fill: #fff5f0\"/>\n    </g>\n    <g clip-path=\"url(#pd1043aec65)\">\n     <use xlink:href=\"#C3_0_f6b67035a6\" x=\"38.302164\" y=\"235.385249\" style=\"fill: #fff5f0\"/>\n    </g>\n    <g clip-path=\"url(#pd1043aec65)\">\n     <use xlink:href=\"#C3_0_f6b67035a6\" x=\"38.302164\" y=\"223.504257\" style=\"fill: #fff5f0\"/>\n    </g>\n    <g clip-path=\"url(#pd1043aec65)\">\n     <use xlink:href=\"#C3_0_f6b67035a6\" x=\"38.302164\" y=\"211.623266\" style=\"fill: #fff5f0\"/>\n    </g>\n    <g clip-path=\"url(#pd1043aec65)\">\n     <use xlink:href=\"#C3_0_f6b67035a6\" x=\"38.302164\" y=\"199.742274\" style=\"fill: #fff5f0\"/>\n    </g>\n    <g clip-path=\"url(#pd1043aec65)\">\n     <use xlink:href=\"#C3_0_f6b67035a6\" x=\"45.153073\" y=\"318.552191\" style=\"fill: #fff5f0\"/>\n    </g>\n    <g clip-path=\"url(#pd1043aec65)\">\n     <use xlink:href=\"#C3_0_f6b67035a6\" x=\"45.153073\" y=\"306.671199\" style=\"fill: #fff5f0\"/>\n    </g>\n    <g clip-path=\"url(#pd1043aec65)\">\n     <use xlink:href=\"#C3_0_f6b67035a6\" x=\"45.153073\" y=\"294.790208\" style=\"fill: #fff5f0\"/>\n    </g>\n    <g clip-path=\"url(#pd1043aec65)\">\n     <use xlink:href=\"#C3_0_f6b67035a6\" x=\"45.153073\" y=\"282.909216\" style=\"fill: #fff0e9\"/>\n    </g>\n    <g clip-path=\"url(#pd1043aec65)\">\n     <use xlink:href=\"#C3_0_f6b67035a6\" x=\"45.153073\" y=\"271.028224\" style=\"fill: #ffece3\"/>\n    </g>\n    <g clip-path=\"url(#pd1043aec65)\">\n     <use xlink:href=\"#C3_0_f6b67035a6\" x=\"45.153073\" y=\"259.147232\" style=\"fill: #fee7dc\"/>\n    </g>\n    <g clip-path=\"url(#pd1043aec65)\">\n     <use xlink:href=\"#C3_0_f6b67035a6\" x=\"45.153073\" y=\"247.266241\" style=\"fill: #fff5f0\"/>\n    </g>\n    <g clip-path=\"url(#pd1043aec65)\">\n     <use xlink:href=\"#C3_0_f6b67035a6\" x=\"45.153073\" y=\"235.385249\" style=\"fill: #fff0e9\"/>\n    </g>\n    <g clip-path=\"url(#pd1043aec65)\">\n     <use xlink:href=\"#C3_0_f6b67035a6\" x=\"45.153073\" y=\"223.504257\" style=\"fill: #fff5f0\"/>\n    </g>\n    <g clip-path=\"url(#pd1043aec65)\">\n     <use xlink:href=\"#C3_0_f6b67035a6\" x=\"45.153073\" y=\"211.623266\" style=\"fill: #fff5f0\"/>\n    </g>\n    <g clip-path=\"url(#pd1043aec65)\">\n     <use xlink:href=\"#C3_0_f6b67035a6\" x=\"45.153073\" y=\"199.742274\" style=\"fill: #fff5f0\"/>\n    </g>\n    <g clip-path=\"url(#pd1043aec65)\">\n     <use xlink:href=\"#C3_0_f6b67035a6\" x=\"52.003982\" y=\"318.552191\" style=\"fill: #fff5f0\"/>\n    </g>\n    <g clip-path=\"url(#pd1043aec65)\">\n     <use xlink:href=\"#C3_0_f6b67035a6\" x=\"52.003982\" y=\"306.671199\" style=\"fill: #fff5f0\"/>\n    </g>\n    <g clip-path=\"url(#pd1043aec65)\">\n     <use xlink:href=\"#C3_0_f6b67035a6\" x=\"52.003982\" y=\"294.790208\" style=\"fill: #ffece3\"/>\n    </g>\n    <g clip-path=\"url(#pd1043aec65)\">\n     <use xlink:href=\"#C3_0_f6b67035a6\" x=\"52.003982\" y=\"282.909216\" style=\"fill: #fff0e9\"/>\n    </g>\n    <g clip-path=\"url(#pd1043aec65)\">\n     <use xlink:href=\"#C3_0_f6b67035a6\" x=\"52.003982\" y=\"271.028224\" style=\"fill: #fcaf93\"/>\n    </g>\n    <g clip-path=\"url(#pd1043aec65)\">\n     <use xlink:href=\"#C3_0_f6b67035a6\" x=\"52.003982\" y=\"259.147232\" style=\"fill: #fcaf93\"/>\n    </g>\n    <g clip-path=\"url(#pd1043aec65)\">\n     <use xlink:href=\"#C3_0_f6b67035a6\" x=\"52.003982\" y=\"247.266241\" style=\"fill: #fa6547\"/>\n    </g>\n    <g clip-path=\"url(#pd1043aec65)\">\n     <use xlink:href=\"#C3_0_f6b67035a6\" x=\"52.003982\" y=\"235.385249\" style=\"fill: #fc8a6a\"/>\n    </g>\n    <g clip-path=\"url(#pd1043aec65)\">\n     <use xlink:href=\"#C3_0_f6b67035a6\" x=\"52.003982\" y=\"223.504257\" style=\"fill: #fff5f0\"/>\n    </g>\n    <g clip-path=\"url(#pd1043aec65)\">\n     <use xlink:href=\"#C3_0_f6b67035a6\" x=\"52.003982\" y=\"211.623266\" style=\"fill: #fff5f0\"/>\n    </g>\n    <g clip-path=\"url(#pd1043aec65)\">\n     <use xlink:href=\"#C3_0_f6b67035a6\" x=\"52.003982\" y=\"199.742274\" style=\"fill: #fff5f0\"/>\n    </g>\n    <g clip-path=\"url(#pd1043aec65)\">\n     <use xlink:href=\"#C3_0_f6b67035a6\" x=\"58.854891\" y=\"318.552191\" style=\"fill: #fff5f0\"/>\n    </g>\n    <g clip-path=\"url(#pd1043aec65)\">\n     <use xlink:href=\"#C3_0_f6b67035a6\" x=\"58.854891\" y=\"306.671199\" style=\"fill: #fff5f0\"/>\n    </g>\n    <g clip-path=\"url(#pd1043aec65)\">\n     <use xlink:href=\"#C3_0_f6b67035a6\" x=\"58.854891\" y=\"294.790208\" style=\"fill: #ffece3\"/>\n    </g>\n    <g clip-path=\"url(#pd1043aec65)\">\n     <use xlink:href=\"#C3_0_f6b67035a6\" x=\"58.854891\" y=\"282.909216\" style=\"fill: #e53228\"/>\n    </g>\n    <g clip-path=\"url(#pd1043aec65)\">\n     <use xlink:href=\"#C3_0_f6b67035a6\" x=\"58.854891\" y=\"271.028224\" style=\"fill: #fb7757\"/>\n    </g>\n    <g clip-path=\"url(#pd1043aec65)\">\n     <use xlink:href=\"#C3_0_f6b67035a6\" x=\"58.854891\" y=\"259.147232\" style=\"fill: #fedbcc\"/>\n    </g>\n    <g clip-path=\"url(#pd1043aec65)\">\n     <use xlink:href=\"#C3_0_f6b67035a6\" x=\"58.854891\" y=\"247.266241\" style=\"fill: #67000d\"/>\n    </g>\n    <g clip-path=\"url(#pd1043aec65)\">\n     <use xlink:href=\"#C3_0_f6b67035a6\" x=\"58.854891\" y=\"235.385249\" style=\"fill: #fff0e9\"/>\n    </g>\n    <g clip-path=\"url(#pd1043aec65)\">\n     <use xlink:href=\"#C3_0_f6b67035a6\" x=\"58.854891\" y=\"223.504257\" style=\"fill: #fff5f0\"/>\n    </g>\n    <g clip-path=\"url(#pd1043aec65)\">\n     <use xlink:href=\"#C3_0_f6b67035a6\" x=\"58.854891\" y=\"211.623266\" style=\"fill: #fff5f0\"/>\n    </g>\n    <g clip-path=\"url(#pd1043aec65)\">\n     <use xlink:href=\"#C3_0_f6b67035a6\" x=\"58.854891\" y=\"199.742274\" style=\"fill: #fff5f0\"/>\n    </g>\n    <g clip-path=\"url(#pd1043aec65)\">\n     <use xlink:href=\"#C3_0_f6b67035a6\" x=\"65.7058\" y=\"318.552191\" style=\"fill: #fff5f0\"/>\n    </g>\n    <g clip-path=\"url(#pd1043aec65)\">\n     <use xlink:href=\"#C3_0_f6b67035a6\" x=\"65.7058\" y=\"306.671199\" style=\"fill: #fff5f0\"/>\n    </g>\n    <g clip-path=\"url(#pd1043aec65)\">\n     <use xlink:href=\"#C3_0_f6b67035a6\" x=\"65.7058\" y=\"294.790208\" style=\"fill: #fdd3c1\"/>\n    </g>\n    <g clip-path=\"url(#pd1043aec65)\">\n     <use xlink:href=\"#C3_0_f6b67035a6\" x=\"65.7058\" y=\"282.909216\" style=\"fill: #fcaf93\"/>\n    </g>\n    <g clip-path=\"url(#pd1043aec65)\">\n     <use xlink:href=\"#C3_0_f6b67035a6\" x=\"65.7058\" y=\"271.028224\" style=\"fill: #f75b40\"/>\n    </g>\n    <g clip-path=\"url(#pd1043aec65)\">\n     <use xlink:href=\"#C3_0_f6b67035a6\" x=\"65.7058\" y=\"259.147232\" style=\"fill: #fee2d5\"/>\n    </g>\n    <g clip-path=\"url(#pd1043aec65)\">\n     <use xlink:href=\"#C3_0_f6b67035a6\" x=\"65.7058\" y=\"247.266241\" style=\"fill: #fee2d5\"/>\n    </g>\n    <g clip-path=\"url(#pd1043aec65)\">\n     <use xlink:href=\"#C3_0_f6b67035a6\" x=\"65.7058\" y=\"235.385249\" style=\"fill: #fff5f0\"/>\n    </g>\n    <g clip-path=\"url(#pd1043aec65)\">\n     <use xlink:href=\"#C3_0_f6b67035a6\" x=\"65.7058\" y=\"223.504257\" style=\"fill: #fff5f0\"/>\n    </g>\n    <g clip-path=\"url(#pd1043aec65)\">\n     <use xlink:href=\"#C3_0_f6b67035a6\" x=\"65.7058\" y=\"211.623266\" style=\"fill: #fff5f0\"/>\n    </g>\n    <g clip-path=\"url(#pd1043aec65)\">\n     <use xlink:href=\"#C3_0_f6b67035a6\" x=\"65.7058\" y=\"199.742274\" style=\"fill: #fff5f0\"/>\n    </g>\n    <g clip-path=\"url(#pd1043aec65)\">\n     <use xlink:href=\"#C3_0_f6b67035a6\" x=\"72.55671\" y=\"318.552191\" style=\"fill: #fff5f0\"/>\n    </g>\n    <g clip-path=\"url(#pd1043aec65)\">\n     <use xlink:href=\"#C3_0_f6b67035a6\" x=\"72.55671\" y=\"306.671199\" style=\"fill: #fff5f0\"/>\n    </g>\n    <g clip-path=\"url(#pd1043aec65)\">\n     <use xlink:href=\"#C3_0_f6b67035a6\" x=\"72.55671\" y=\"294.790208\" style=\"fill: #fc9d7f\"/>\n    </g>\n    <g clip-path=\"url(#pd1043aec65)\">\n     <use xlink:href=\"#C3_0_f6b67035a6\" x=\"72.55671\" y=\"282.909216\" style=\"fill: #fee7dc\"/>\n    </g>\n    <g clip-path=\"url(#pd1043aec65)\">\n     <use xlink:href=\"#C3_0_f6b67035a6\" x=\"72.55671\" y=\"271.028224\" style=\"fill: #fcc2aa\"/>\n    </g>\n    <g clip-path=\"url(#pd1043aec65)\">\n     <use xlink:href=\"#C3_0_f6b67035a6\" x=\"72.55671\" y=\"259.147232\" style=\"fill: #fdcab5\"/>\n    </g>\n    <g clip-path=\"url(#pd1043aec65)\">\n     <use xlink:href=\"#C3_0_f6b67035a6\" x=\"72.55671\" y=\"247.266241\" style=\"fill: #fff0e9\"/>\n    </g>\n    <g clip-path=\"url(#pd1043aec65)\">\n     <use xlink:href=\"#C3_0_f6b67035a6\" x=\"72.55671\" y=\"235.385249\" style=\"fill: #fff5f0\"/>\n    </g>\n    <g clip-path=\"url(#pd1043aec65)\">\n     <use xlink:href=\"#C3_0_f6b67035a6\" x=\"72.55671\" y=\"223.504257\" style=\"fill: #fff5f0\"/>\n    </g>\n    <g clip-path=\"url(#pd1043aec65)\">\n     <use xlink:href=\"#C3_0_f6b67035a6\" x=\"72.55671\" y=\"211.623266\" style=\"fill: #fff5f0\"/>\n    </g>\n    <g clip-path=\"url(#pd1043aec65)\">\n     <use xlink:href=\"#C3_0_f6b67035a6\" x=\"72.55671\" y=\"199.742274\" style=\"fill: #fff5f0\"/>\n    </g>\n    <g clip-path=\"url(#pd1043aec65)\">\n     <use xlink:href=\"#C3_0_f6b67035a6\" x=\"79.407619\" y=\"318.552191\" style=\"fill: #fff5f0\"/>\n    </g>\n    <g clip-path=\"url(#pd1043aec65)\">\n     <use xlink:href=\"#C3_0_f6b67035a6\" x=\"79.407619\" y=\"306.671199\" style=\"fill: #fff5f0\"/>\n    </g>\n    <g clip-path=\"url(#pd1043aec65)\">\n     <use xlink:href=\"#C3_0_f6b67035a6\" x=\"79.407619\" y=\"294.790208\" style=\"fill: #fb6e4e\"/>\n    </g>\n    <g clip-path=\"url(#pd1043aec65)\">\n     <use xlink:href=\"#C3_0_f6b67035a6\" x=\"79.407619\" y=\"282.909216\" style=\"fill: #fc9d7f\"/>\n    </g>\n    <g clip-path=\"url(#pd1043aec65)\">\n     <use xlink:href=\"#C3_0_f6b67035a6\" x=\"79.407619\" y=\"271.028224\" style=\"fill: #fcaf93\"/>\n    </g>\n    <g clip-path=\"url(#pd1043aec65)\">\n     <use xlink:href=\"#C3_0_f6b67035a6\" x=\"79.407619\" y=\"259.147232\" style=\"fill: #fff0e9\"/>\n    </g>\n    <g clip-path=\"url(#pd1043aec65)\">\n     <use xlink:href=\"#C3_0_f6b67035a6\" x=\"79.407619\" y=\"247.266241\" style=\"fill: #fff5f0\"/>\n    </g>\n    <g clip-path=\"url(#pd1043aec65)\">\n     <use xlink:href=\"#C3_0_f6b67035a6\" x=\"79.407619\" y=\"235.385249\" style=\"fill: #fff5f0\"/>\n    </g>\n    <g clip-path=\"url(#pd1043aec65)\">\n     <use xlink:href=\"#C3_0_f6b67035a6\" x=\"79.407619\" y=\"223.504257\" style=\"fill: #fff5f0\"/>\n    </g>\n    <g clip-path=\"url(#pd1043aec65)\">\n     <use xlink:href=\"#C3_0_f6b67035a6\" x=\"79.407619\" y=\"211.623266\" style=\"fill: #fff5f0\"/>\n    </g>\n    <g clip-path=\"url(#pd1043aec65)\">\n     <use xlink:href=\"#C3_0_f6b67035a6\" x=\"79.407619\" y=\"199.742274\" style=\"fill: #fff5f0\"/>\n    </g>\n   </g>\n   <g id=\"matplotlib.axis_7\"/>\n   <g id=\"matplotlib.axis_8\"/>\n   <g id=\"patch_18\">\n    <path d=\"M 7.2 341.42175 \nL 7.2 197.66175 \n\" style=\"fill: none; stroke: #000000; stroke-width: 0.8; stroke-linejoin: miter; stroke-linecap: square\"/>\n   </g>\n   <g id=\"patch_19\">\n    <path d=\"M 157.92 341.42175 \nL 157.92 197.66175 \n\" style=\"fill: none; stroke: #000000; stroke-width: 0.8; stroke-linejoin: miter; stroke-linecap: square\"/>\n   </g>\n   <g id=\"patch_20\">\n    <path d=\"M 7.2 341.42175 \nL 157.92 341.42175 \n\" style=\"fill: none; stroke: #000000; stroke-width: 0.8; stroke-linejoin: miter; stroke-linecap: square\"/>\n   </g>\n   <g id=\"patch_21\">\n    <path d=\"M 7.2 197.66175 \nL 157.92 197.66175 \n\" style=\"fill: none; stroke: #000000; stroke-width: 0.8; stroke-linejoin: miter; stroke-linecap: square\"/>\n   </g>\n   <g id=\"text_4\">\n    <!-- anger -->\n    <g transform=\"translate(61.62375 191.66175) scale(0.144 -0.144)\">\n     <defs>\n      <path id=\"DejaVuSans-67\" d=\"M 2906 1791 \nQ 2906 2416 2648 2759 \nQ 2391 3103 1925 3103 \nQ 1463 3103 1205 2759 \nQ 947 2416 947 1791 \nQ 947 1169 1205 825 \nQ 1463 481 1925 481 \nQ 2391 481 2648 825 \nQ 2906 1169 2906 1791 \nz\nM 3481 434 \nQ 3481 -459 3084 -895 \nQ 2688 -1331 1869 -1331 \nQ 1566 -1331 1297 -1286 \nQ 1028 -1241 775 -1147 \nL 775 -588 \nQ 1028 -725 1275 -790 \nQ 1522 -856 1778 -856 \nQ 2344 -856 2625 -561 \nQ 2906 -266 2906 331 \nL 2906 616 \nQ 2728 306 2450 153 \nQ 2172 0 1784 0 \nQ 1141 0 747 490 \nQ 353 981 353 1791 \nQ 353 2603 747 3093 \nQ 1141 3584 1784 3584 \nQ 2172 3584 2450 3431 \nQ 2728 3278 2906 2969 \nL 2906 3500 \nL 3481 3500 \nL 3481 434 \nz\n\" transform=\"scale(0.015625)\"/>\n      <path id=\"DejaVuSans-72\" d=\"M 2631 2963 \nQ 2534 3019 2420 3045 \nQ 2306 3072 2169 3072 \nQ 1681 3072 1420 2755 \nQ 1159 2438 1159 1844 \nL 1159 0 \nL 581 0 \nL 581 3500 \nL 1159 3500 \nL 1159 2956 \nQ 1341 3275 1631 3429 \nQ 1922 3584 2338 3584 \nQ 2397 3584 2469 3576 \nQ 2541 3569 2628 3553 \nL 2631 2963 \nz\n\" transform=\"scale(0.015625)\"/>\n     </defs>\n     <use xlink:href=\"#DejaVuSans-61\"/>\n     <use xlink:href=\"#DejaVuSans-6e\" x=\"61.279297\"/>\n     <use xlink:href=\"#DejaVuSans-67\" x=\"124.658203\"/>\n     <use xlink:href=\"#DejaVuSans-65\" x=\"188.134766\"/>\n     <use xlink:href=\"#DejaVuSans-72\" x=\"249.658203\"/>\n    </g>\n   </g>\n  </g>\n  <g id=\"axes_5\">\n   <g id=\"patch_22\">\n    <path d=\"M 170.88 341.42175 \nL 321.6 341.42175 \nL 321.6 197.66175 \nL 170.88 197.66175 \nz\n\" style=\"fill: #ffffff\"/>\n   </g>\n   <g id=\"PolyCollection_5\">\n    <defs>\n     <path id=\"C4_0_de53bcea0a\" d=\"M 234.497974 8.210439 \nL 234.497974 4.250109 \nL 231.072519 2.269943 \nL 227.647065 4.250109 \nL 227.647065 8.210439 \nL 231.072519 10.190605 \nz\n\"/>\n    </defs>\n    <g clip-path=\"url(#p3f76e865ea)\">\n     <use xlink:href=\"#C4_0_de53bcea0a\" x=\"-53.34161\" y=\"328.65693\" style=\"fill: #fcfbfd\"/>\n    </g>\n    <g clip-path=\"url(#p3f76e865ea)\">\n     <use xlink:href=\"#C4_0_de53bcea0a\" x=\"-53.34161\" y=\"316.775939\" style=\"fill: #fcfbfd\"/>\n    </g>\n    <g clip-path=\"url(#p3f76e865ea)\">\n     <use xlink:href=\"#C4_0_de53bcea0a\" x=\"-53.34161\" y=\"304.894947\" style=\"fill: #fcfbfd\"/>\n    </g>\n    <g clip-path=\"url(#p3f76e865ea)\">\n     <use xlink:href=\"#C4_0_de53bcea0a\" x=\"-53.34161\" y=\"293.013955\" style=\"fill: #fcfbfd\"/>\n    </g>\n    <g clip-path=\"url(#p3f76e865ea)\">\n     <use xlink:href=\"#C4_0_de53bcea0a\" x=\"-53.34161\" y=\"281.132964\" style=\"fill: #f5f4f9\"/>\n    </g>\n    <g clip-path=\"url(#p3f76e865ea)\">\n     <use xlink:href=\"#C4_0_de53bcea0a\" x=\"-53.34161\" y=\"269.251972\" style=\"fill: #e4e3f0\"/>\n    </g>\n    <g clip-path=\"url(#p3f76e865ea)\">\n     <use xlink:href=\"#C4_0_de53bcea0a\" x=\"-53.34161\" y=\"257.37098\" style=\"fill: #d2d2e7\"/>\n    </g>\n    <g clip-path=\"url(#p3f76e865ea)\">\n     <use xlink:href=\"#C4_0_de53bcea0a\" x=\"-53.34161\" y=\"245.489988\" style=\"fill: #eae8f2\"/>\n    </g>\n    <g clip-path=\"url(#p3f76e865ea)\">\n     <use xlink:href=\"#C4_0_de53bcea0a\" x=\"-53.34161\" y=\"233.608997\" style=\"fill: #fcfbfd\"/>\n    </g>\n    <g clip-path=\"url(#p3f76e865ea)\">\n     <use xlink:href=\"#C4_0_de53bcea0a\" x=\"-53.34161\" y=\"221.728005\" style=\"fill: #fcfbfd\"/>\n    </g>\n    <g clip-path=\"url(#p3f76e865ea)\">\n     <use xlink:href=\"#C4_0_de53bcea0a\" x=\"-53.34161\" y=\"209.847013\" style=\"fill: #fcfbfd\"/>\n    </g>\n    <g clip-path=\"url(#p3f76e865ea)\">\n     <use xlink:href=\"#C4_0_de53bcea0a\" x=\"-53.34161\" y=\"197.966021\" style=\"fill: #fcfbfd\"/>\n    </g>\n    <g clip-path=\"url(#p3f76e865ea)\">\n     <use xlink:href=\"#C4_0_de53bcea0a\" x=\"-46.490701\" y=\"328.65693\" style=\"fill: #fcfbfd\"/>\n    </g>\n    <g clip-path=\"url(#p3f76e865ea)\">\n     <use xlink:href=\"#C4_0_de53bcea0a\" x=\"-46.490701\" y=\"316.775939\" style=\"fill: #fcfbfd\"/>\n    </g>\n    <g clip-path=\"url(#p3f76e865ea)\">\n     <use xlink:href=\"#C4_0_de53bcea0a\" x=\"-46.490701\" y=\"304.894947\" style=\"fill: #f9f7fb\"/>\n    </g>\n    <g clip-path=\"url(#p3f76e865ea)\">\n     <use xlink:href=\"#C4_0_de53bcea0a\" x=\"-46.490701\" y=\"293.013955\" style=\"fill: #eae8f2\"/>\n    </g>\n    <g clip-path=\"url(#p3f76e865ea)\">\n     <use xlink:href=\"#C4_0_de53bcea0a\" x=\"-46.490701\" y=\"281.132964\" style=\"fill: #9e9ac8\"/>\n    </g>\n    <g clip-path=\"url(#p3f76e865ea)\">\n     <use xlink:href=\"#C4_0_de53bcea0a\" x=\"-46.490701\" y=\"269.251972\" style=\"fill: #6950a3\"/>\n    </g>\n    <g clip-path=\"url(#p3f76e865ea)\">\n     <use xlink:href=\"#C4_0_de53bcea0a\" x=\"-46.490701\" y=\"257.37098\" style=\"fill: #9692c4\"/>\n    </g>\n    <g clip-path=\"url(#p3f76e865ea)\">\n     <use xlink:href=\"#C4_0_de53bcea0a\" x=\"-46.490701\" y=\"245.489988\" style=\"fill: #dfdfed\"/>\n    </g>\n    <g clip-path=\"url(#p3f76e865ea)\">\n     <use xlink:href=\"#C4_0_de53bcea0a\" x=\"-46.490701\" y=\"233.608997\" style=\"fill: #fcfbfd\"/>\n    </g>\n    <g clip-path=\"url(#p3f76e865ea)\">\n     <use xlink:href=\"#C4_0_de53bcea0a\" x=\"-46.490701\" y=\"221.728005\" style=\"fill: #fcfbfd\"/>\n    </g>\n    <g clip-path=\"url(#p3f76e865ea)\">\n     <use xlink:href=\"#C4_0_de53bcea0a\" x=\"-46.490701\" y=\"209.847013\" style=\"fill: #fcfbfd\"/>\n    </g>\n    <g clip-path=\"url(#p3f76e865ea)\">\n     <use xlink:href=\"#C4_0_de53bcea0a\" x=\"-46.490701\" y=\"197.966021\" style=\"fill: #fcfbfd\"/>\n    </g>\n    <g clip-path=\"url(#p3f76e865ea)\">\n     <use xlink:href=\"#C4_0_de53bcea0a\" x=\"-39.639792\" y=\"328.65693\" style=\"fill: #fcfbfd\"/>\n    </g>\n    <g clip-path=\"url(#p3f76e865ea)\">\n     <use xlink:href=\"#C4_0_de53bcea0a\" x=\"-39.639792\" y=\"316.775939\" style=\"fill: #fcfbfd\"/>\n    </g>\n    <g clip-path=\"url(#p3f76e865ea)\">\n     <use xlink:href=\"#C4_0_de53bcea0a\" x=\"-39.639792\" y=\"304.894947\" style=\"fill: #f2f0f7\"/>\n    </g>\n    <g clip-path=\"url(#p3f76e865ea)\">\n     <use xlink:href=\"#C4_0_de53bcea0a\" x=\"-39.639792\" y=\"293.013955\" style=\"fill: #dadaeb\"/>\n    </g>\n    <g clip-path=\"url(#p3f76e865ea)\">\n     <use xlink:href=\"#C4_0_de53bcea0a\" x=\"-39.639792\" y=\"281.132964\" style=\"fill: #c3c4e0\"/>\n    </g>\n    <g clip-path=\"url(#p3f76e865ea)\">\n     <use xlink:href=\"#C4_0_de53bcea0a\" x=\"-39.639792\" y=\"269.251972\" style=\"fill: #9e9ac8\"/>\n    </g>\n    <g clip-path=\"url(#p3f76e865ea)\">\n     <use xlink:href=\"#C4_0_de53bcea0a\" x=\"-39.639792\" y=\"257.37098\" style=\"fill: #7566ae\"/>\n    </g>\n    <g clip-path=\"url(#p3f76e865ea)\">\n     <use xlink:href=\"#C4_0_de53bcea0a\" x=\"-39.639792\" y=\"245.489988\" style=\"fill: #7a71b4\"/>\n    </g>\n    <g clip-path=\"url(#p3f76e865ea)\">\n     <use xlink:href=\"#C4_0_de53bcea0a\" x=\"-39.639792\" y=\"233.608997\" style=\"fill: #fcfbfd\"/>\n    </g>\n    <g clip-path=\"url(#p3f76e865ea)\">\n     <use xlink:href=\"#C4_0_de53bcea0a\" x=\"-39.639792\" y=\"221.728005\" style=\"fill: #fcfbfd\"/>\n    </g>\n    <g clip-path=\"url(#p3f76e865ea)\">\n     <use xlink:href=\"#C4_0_de53bcea0a\" x=\"-39.639792\" y=\"209.847013\" style=\"fill: #fcfbfd\"/>\n    </g>\n    <g clip-path=\"url(#p3f76e865ea)\">\n     <use xlink:href=\"#C4_0_de53bcea0a\" x=\"-39.639792\" y=\"197.966021\" style=\"fill: #fcfbfd\"/>\n    </g>\n    <g clip-path=\"url(#p3f76e865ea)\">\n     <use xlink:href=\"#C4_0_de53bcea0a\" x=\"-32.788883\" y=\"328.65693\" style=\"fill: #fcfbfd\"/>\n    </g>\n    <g clip-path=\"url(#p3f76e865ea)\">\n     <use xlink:href=\"#C4_0_de53bcea0a\" x=\"-32.788883\" y=\"316.775939\" style=\"fill: #fcfbfd\"/>\n    </g>\n    <g clip-path=\"url(#p3f76e865ea)\">\n     <use xlink:href=\"#C4_0_de53bcea0a\" x=\"-32.788883\" y=\"304.894947\" style=\"fill: #d2d2e7\"/>\n    </g>\n    <g clip-path=\"url(#p3f76e865ea)\">\n     <use xlink:href=\"#C4_0_de53bcea0a\" x=\"-32.788883\" y=\"293.013955\" style=\"fill: #dadaeb\"/>\n    </g>\n    <g clip-path=\"url(#p3f76e865ea)\">\n     <use xlink:href=\"#C4_0_de53bcea0a\" x=\"-32.788883\" y=\"281.132964\" style=\"fill: #cbcbe3\"/>\n    </g>\n    <g clip-path=\"url(#p3f76e865ea)\">\n     <use xlink:href=\"#C4_0_de53bcea0a\" x=\"-32.788883\" y=\"269.251972\" style=\"fill: #cbcbe3\"/>\n    </g>\n    <g clip-path=\"url(#p3f76e865ea)\">\n     <use xlink:href=\"#C4_0_de53bcea0a\" x=\"-32.788883\" y=\"257.37098\" style=\"fill: #9e9ac8\"/>\n    </g>\n    <g clip-path=\"url(#p3f76e865ea)\">\n     <use xlink:href=\"#C4_0_de53bcea0a\" x=\"-32.788883\" y=\"245.489988\" style=\"fill: #a5a2cd\"/>\n    </g>\n    <g clip-path=\"url(#p3f76e865ea)\">\n     <use xlink:href=\"#C4_0_de53bcea0a\" x=\"-32.788883\" y=\"233.608997\" style=\"fill: #f5f4f9\"/>\n    </g>\n    <g clip-path=\"url(#p3f76e865ea)\">\n     <use xlink:href=\"#C4_0_de53bcea0a\" x=\"-32.788883\" y=\"221.728005\" style=\"fill: #fcfbfd\"/>\n    </g>\n    <g clip-path=\"url(#p3f76e865ea)\">\n     <use xlink:href=\"#C4_0_de53bcea0a\" x=\"-32.788883\" y=\"209.847013\" style=\"fill: #fcfbfd\"/>\n    </g>\n    <g clip-path=\"url(#p3f76e865ea)\">\n     <use xlink:href=\"#C4_0_de53bcea0a\" x=\"-32.788883\" y=\"197.966021\" style=\"fill: #fcfbfd\"/>\n    </g>\n    <g clip-path=\"url(#p3f76e865ea)\">\n     <use xlink:href=\"#C4_0_de53bcea0a\" x=\"-25.937974\" y=\"328.65693\" style=\"fill: #fcfbfd\"/>\n    </g>\n    <g clip-path=\"url(#p3f76e865ea)\">\n     <use xlink:href=\"#C4_0_de53bcea0a\" x=\"-25.937974\" y=\"316.775939\" style=\"fill: #dadaeb\"/>\n    </g>\n    <g clip-path=\"url(#p3f76e865ea)\">\n     <use xlink:href=\"#C4_0_de53bcea0a\" x=\"-25.937974\" y=\"304.894947\" style=\"fill: #fcfbfd\"/>\n    </g>\n    <g clip-path=\"url(#p3f76e865ea)\">\n     <use xlink:href=\"#C4_0_de53bcea0a\" x=\"-25.937974\" y=\"293.013955\" style=\"fill: #eae8f2\"/>\n    </g>\n    <g clip-path=\"url(#p3f76e865ea)\">\n     <use xlink:href=\"#C4_0_de53bcea0a\" x=\"-25.937974\" y=\"281.132964\" style=\"fill: #cbcbe3\"/>\n    </g>\n    <g clip-path=\"url(#p3f76e865ea)\">\n     <use xlink:href=\"#C4_0_de53bcea0a\" x=\"-25.937974\" y=\"269.251972\" style=\"fill: #807cba\"/>\n    </g>\n    <g clip-path=\"url(#p3f76e865ea)\">\n     <use xlink:href=\"#C4_0_de53bcea0a\" x=\"-25.937974\" y=\"257.37098\" style=\"fill: #6950a3\"/>\n    </g>\n    <g clip-path=\"url(#p3f76e865ea)\">\n     <use xlink:href=\"#C4_0_de53bcea0a\" x=\"-25.937974\" y=\"245.489988\" style=\"fill: #a5a2cd\"/>\n    </g>\n    <g clip-path=\"url(#p3f76e865ea)\">\n     <use xlink:href=\"#C4_0_de53bcea0a\" x=\"-25.937974\" y=\"233.608997\" style=\"fill: #cbcbe3\"/>\n    </g>\n    <g clip-path=\"url(#p3f76e865ea)\">\n     <use xlink:href=\"#C4_0_de53bcea0a\" x=\"-25.937974\" y=\"221.728005\" style=\"fill: #fcfbfd\"/>\n    </g>\n    <g clip-path=\"url(#p3f76e865ea)\">\n     <use xlink:href=\"#C4_0_de53bcea0a\" x=\"-25.937974\" y=\"209.847013\" style=\"fill: #cbcbe3\"/>\n    </g>\n    <g clip-path=\"url(#p3f76e865ea)\">\n     <use xlink:href=\"#C4_0_de53bcea0a\" x=\"-25.937974\" y=\"197.966021\" style=\"fill: #fcfbfd\"/>\n    </g>\n    <g clip-path=\"url(#p3f76e865ea)\">\n     <use xlink:href=\"#C4_0_de53bcea0a\" x=\"-19.087065\" y=\"328.65693\" style=\"fill: #fcfbfd\"/>\n    </g>\n    <g clip-path=\"url(#p3f76e865ea)\">\n     <use xlink:href=\"#C4_0_de53bcea0a\" x=\"-19.087065\" y=\"316.775939\" style=\"fill: #fcfbfd\"/>\n    </g>\n    <g clip-path=\"url(#p3f76e865ea)\">\n     <use xlink:href=\"#C4_0_de53bcea0a\" x=\"-19.087065\" y=\"304.894947\" style=\"fill: #dadaeb\"/>\n    </g>\n    <g clip-path=\"url(#p3f76e865ea)\">\n     <use xlink:href=\"#C4_0_de53bcea0a\" x=\"-19.087065\" y=\"293.013955\" style=\"fill: #efedf5\"/>\n    </g>\n    <g clip-path=\"url(#p3f76e865ea)\">\n     <use xlink:href=\"#C4_0_de53bcea0a\" x=\"-19.087065\" y=\"281.132964\" style=\"fill: #cbcbe3\"/>\n    </g>\n    <g clip-path=\"url(#p3f76e865ea)\">\n     <use xlink:href=\"#C4_0_de53bcea0a\" x=\"-19.087065\" y=\"269.251972\" style=\"fill: #dfdfed\"/>\n    </g>\n    <g clip-path=\"url(#p3f76e865ea)\">\n     <use xlink:href=\"#C4_0_de53bcea0a\" x=\"-19.087065\" y=\"257.37098\" style=\"fill: #adabd2\"/>\n    </g>\n    <g clip-path=\"url(#p3f76e865ea)\">\n     <use xlink:href=\"#C4_0_de53bcea0a\" x=\"-19.087065\" y=\"245.489988\" style=\"fill: #7a71b4\"/>\n    </g>\n    <g clip-path=\"url(#p3f76e865ea)\">\n     <use xlink:href=\"#C4_0_de53bcea0a\" x=\"-19.087065\" y=\"233.608997\" style=\"fill: #dadaeb\"/>\n    </g>\n    <g clip-path=\"url(#p3f76e865ea)\">\n     <use xlink:href=\"#C4_0_de53bcea0a\" x=\"-19.087065\" y=\"221.728005\" style=\"fill: #e4e3f0\"/>\n    </g>\n    <g clip-path=\"url(#p3f76e865ea)\">\n     <use xlink:href=\"#C4_0_de53bcea0a\" x=\"-19.087065\" y=\"209.847013\" style=\"fill: #c3c4e0\"/>\n    </g>\n    <g clip-path=\"url(#p3f76e865ea)\">\n     <use xlink:href=\"#C4_0_de53bcea0a\" x=\"-19.087065\" y=\"197.966021\" style=\"fill: #fcfbfd\"/>\n    </g>\n    <g clip-path=\"url(#p3f76e865ea)\">\n     <use xlink:href=\"#C4_0_de53bcea0a\" x=\"-12.236156\" y=\"328.65693\" style=\"fill: #fcfbfd\"/>\n    </g>\n    <g clip-path=\"url(#p3f76e865ea)\">\n     <use xlink:href=\"#C4_0_de53bcea0a\" x=\"-12.236156\" y=\"316.775939\" style=\"fill: #f9f7fb\"/>\n    </g>\n    <g clip-path=\"url(#p3f76e865ea)\">\n     <use xlink:href=\"#C4_0_de53bcea0a\" x=\"-12.236156\" y=\"304.894947\" style=\"fill: #f5f4f9\"/>\n    </g>\n    <g clip-path=\"url(#p3f76e865ea)\">\n     <use xlink:href=\"#C4_0_de53bcea0a\" x=\"-12.236156\" y=\"293.013955\" style=\"fill: #e4e3f0\"/>\n    </g>\n    <g clip-path=\"url(#p3f76e865ea)\">\n     <use xlink:href=\"#C4_0_de53bcea0a\" x=\"-12.236156\" y=\"281.132964\" style=\"fill: #dfdfed\"/>\n    </g>\n    <g clip-path=\"url(#p3f76e865ea)\">\n     <use xlink:href=\"#C4_0_de53bcea0a\" x=\"-12.236156\" y=\"269.251972\" style=\"fill: #dadaeb\"/>\n    </g>\n    <g clip-path=\"url(#p3f76e865ea)\">\n     <use xlink:href=\"#C4_0_de53bcea0a\" x=\"-12.236156\" y=\"257.37098\" style=\"fill: #d2d2e7\"/>\n    </g>\n    <g clip-path=\"url(#p3f76e865ea)\">\n     <use xlink:href=\"#C4_0_de53bcea0a\" x=\"-12.236156\" y=\"245.489988\" style=\"fill: #dfdfed\"/>\n    </g>\n    <g clip-path=\"url(#p3f76e865ea)\">\n     <use xlink:href=\"#C4_0_de53bcea0a\" x=\"-12.236156\" y=\"233.608997\" style=\"fill: #eae8f2\"/>\n    </g>\n    <g clip-path=\"url(#p3f76e865ea)\">\n     <use xlink:href=\"#C4_0_de53bcea0a\" x=\"-12.236156\" y=\"221.728005\" style=\"fill: #bcbddc\"/>\n    </g>\n    <g clip-path=\"url(#p3f76e865ea)\">\n     <use xlink:href=\"#C4_0_de53bcea0a\" x=\"-12.236156\" y=\"209.847013\" style=\"fill: #5e3b98\"/>\n    </g>\n    <g clip-path=\"url(#p3f76e865ea)\">\n     <use xlink:href=\"#C4_0_de53bcea0a\" x=\"-12.236156\" y=\"197.966021\" style=\"fill: #f2f0f7\"/>\n    </g>\n    <g clip-path=\"url(#p3f76e865ea)\">\n     <use xlink:href=\"#C4_0_de53bcea0a\" x=\"-5.385247\" y=\"328.65693\" style=\"fill: #fcfbfd\"/>\n    </g>\n    <g clip-path=\"url(#p3f76e865ea)\">\n     <use xlink:href=\"#C4_0_de53bcea0a\" x=\"-5.385247\" y=\"316.775939\" style=\"fill: #fcfbfd\"/>\n    </g>\n    <g clip-path=\"url(#p3f76e865ea)\">\n     <use xlink:href=\"#C4_0_de53bcea0a\" x=\"-5.385247\" y=\"304.894947\" style=\"fill: #fcfbfd\"/>\n    </g>\n    <g clip-path=\"url(#p3f76e865ea)\">\n     <use xlink:href=\"#C4_0_de53bcea0a\" x=\"-5.385247\" y=\"293.013955\" style=\"fill: #eae8f2\"/>\n    </g>\n    <g clip-path=\"url(#p3f76e865ea)\">\n     <use xlink:href=\"#C4_0_de53bcea0a\" x=\"-5.385247\" y=\"281.132964\" style=\"fill: #d2d2e7\"/>\n    </g>\n    <g clip-path=\"url(#p3f76e865ea)\">\n     <use xlink:href=\"#C4_0_de53bcea0a\" x=\"-5.385247\" y=\"269.251972\" style=\"fill: #bcbddc\"/>\n    </g>\n    <g clip-path=\"url(#p3f76e865ea)\">\n     <use xlink:href=\"#C4_0_de53bcea0a\" x=\"-5.385247\" y=\"257.37098\" style=\"fill: #e4e3f0\"/>\n    </g>\n    <g clip-path=\"url(#p3f76e865ea)\">\n     <use xlink:href=\"#C4_0_de53bcea0a\" x=\"-5.385247\" y=\"245.489988\" style=\"fill: #dadaeb\"/>\n    </g>\n    <g clip-path=\"url(#p3f76e865ea)\">\n     <use xlink:href=\"#C4_0_de53bcea0a\" x=\"-5.385247\" y=\"233.608997\" style=\"fill: #e4e3f0\"/>\n    </g>\n    <g clip-path=\"url(#p3f76e865ea)\">\n     <use xlink:href=\"#C4_0_de53bcea0a\" x=\"-5.385247\" y=\"221.728005\" style=\"fill: #64459e\"/>\n    </g>\n    <g clip-path=\"url(#p3f76e865ea)\">\n     <use xlink:href=\"#C4_0_de53bcea0a\" x=\"-5.385247\" y=\"209.847013\" style=\"fill: #6950a3\"/>\n    </g>\n    <g clip-path=\"url(#p3f76e865ea)\">\n     <use xlink:href=\"#C4_0_de53bcea0a\" x=\"-5.385247\" y=\"197.966021\" style=\"fill: #fcfbfd\"/>\n    </g>\n    <g clip-path=\"url(#p3f76e865ea)\">\n     <use xlink:href=\"#C4_0_de53bcea0a\" x=\"1.465662\" y=\"328.65693\" style=\"fill: #fcfbfd\"/>\n    </g>\n    <g clip-path=\"url(#p3f76e865ea)\">\n     <use xlink:href=\"#C4_0_de53bcea0a\" x=\"1.465662\" y=\"316.775939\" style=\"fill: #dfdfed\"/>\n    </g>\n    <g clip-path=\"url(#p3f76e865ea)\">\n     <use xlink:href=\"#C4_0_de53bcea0a\" x=\"1.465662\" y=\"304.894947\" style=\"fill: #f5f4f9\"/>\n    </g>\n    <g clip-path=\"url(#p3f76e865ea)\">\n     <use xlink:href=\"#C4_0_de53bcea0a\" x=\"1.465662\" y=\"293.013955\" style=\"fill: #f5f4f9\"/>\n    </g>\n    <g clip-path=\"url(#p3f76e865ea)\">\n     <use xlink:href=\"#C4_0_de53bcea0a\" x=\"1.465662\" y=\"281.132964\" style=\"fill: #9e9ac8\"/>\n    </g>\n    <g clip-path=\"url(#p3f76e865ea)\">\n     <use xlink:href=\"#C4_0_de53bcea0a\" x=\"1.465662\" y=\"269.251972\" style=\"fill: #e4e3f0\"/>\n    </g>\n    <g clip-path=\"url(#p3f76e865ea)\">\n     <use xlink:href=\"#C4_0_de53bcea0a\" x=\"1.465662\" y=\"257.37098\" style=\"fill: #dadaeb\"/>\n    </g>\n    <g clip-path=\"url(#p3f76e865ea)\">\n     <use xlink:href=\"#C4_0_de53bcea0a\" x=\"1.465662\" y=\"245.489988\" style=\"fill: #d2d2e7\"/>\n    </g>\n    <g clip-path=\"url(#p3f76e865ea)\">\n     <use xlink:href=\"#C4_0_de53bcea0a\" x=\"1.465662\" y=\"233.608997\" style=\"fill: #eae8f2\"/>\n    </g>\n    <g clip-path=\"url(#p3f76e865ea)\">\n     <use xlink:href=\"#C4_0_de53bcea0a\" x=\"1.465662\" y=\"221.728005\" style=\"fill: #dfdfed\"/>\n    </g>\n    <g clip-path=\"url(#p3f76e865ea)\">\n     <use xlink:href=\"#C4_0_de53bcea0a\" x=\"1.465662\" y=\"209.847013\" style=\"fill: #f5f4f9\"/>\n    </g>\n    <g clip-path=\"url(#p3f76e865ea)\">\n     <use xlink:href=\"#C4_0_de53bcea0a\" x=\"1.465662\" y=\"197.966021\" style=\"fill: #fcfbfd\"/>\n    </g>\n    <g clip-path=\"url(#p3f76e865ea)\">\n     <use xlink:href=\"#C4_0_de53bcea0a\" x=\"8.316571\" y=\"328.65693\" style=\"fill: #f9f7fb\"/>\n    </g>\n    <g clip-path=\"url(#p3f76e865ea)\">\n     <use xlink:href=\"#C4_0_de53bcea0a\" x=\"8.316571\" y=\"316.775939\" style=\"fill: #dadaeb\"/>\n    </g>\n    <g clip-path=\"url(#p3f76e865ea)\">\n     <use xlink:href=\"#C4_0_de53bcea0a\" x=\"8.316571\" y=\"304.894947\" style=\"fill: #f9f7fb\"/>\n    </g>\n    <g clip-path=\"url(#p3f76e865ea)\">\n     <use xlink:href=\"#C4_0_de53bcea0a\" x=\"8.316571\" y=\"293.013955\" style=\"fill: #f2f0f7\"/>\n    </g>\n    <g clip-path=\"url(#p3f76e865ea)\">\n     <use xlink:href=\"#C4_0_de53bcea0a\" x=\"8.316571\" y=\"281.132964\" style=\"fill: #cbcbe3\"/>\n    </g>\n    <g clip-path=\"url(#p3f76e865ea)\">\n     <use xlink:href=\"#C4_0_de53bcea0a\" x=\"8.316571\" y=\"269.251972\" style=\"fill: #f9f7fb\"/>\n    </g>\n    <g clip-path=\"url(#p3f76e865ea)\">\n     <use xlink:href=\"#C4_0_de53bcea0a\" x=\"8.316571\" y=\"257.37098\" style=\"fill: #dadaeb\"/>\n    </g>\n    <g clip-path=\"url(#p3f76e865ea)\">\n     <use xlink:href=\"#C4_0_de53bcea0a\" x=\"8.316571\" y=\"245.489988\" style=\"fill: #f2f0f7\"/>\n    </g>\n    <g clip-path=\"url(#p3f76e865ea)\">\n     <use xlink:href=\"#C4_0_de53bcea0a\" x=\"8.316571\" y=\"233.608997\" style=\"fill: #fcfbfd\"/>\n    </g>\n    <g clip-path=\"url(#p3f76e865ea)\">\n     <use xlink:href=\"#C4_0_de53bcea0a\" x=\"8.316571\" y=\"221.728005\" style=\"fill: #fcfbfd\"/>\n    </g>\n    <g clip-path=\"url(#p3f76e865ea)\">\n     <use xlink:href=\"#C4_0_de53bcea0a\" x=\"8.316571\" y=\"209.847013\" style=\"fill: #fcfbfd\"/>\n    </g>\n    <g clip-path=\"url(#p3f76e865ea)\">\n     <use xlink:href=\"#C4_0_de53bcea0a\" x=\"8.316571\" y=\"197.966021\" style=\"fill: #fcfbfd\"/>\n    </g>\n    <g clip-path=\"url(#p3f76e865ea)\">\n     <use xlink:href=\"#C4_0_de53bcea0a\" x=\"15.167481\" y=\"328.65693\" style=\"fill: #fcfbfd\"/>\n    </g>\n    <g clip-path=\"url(#p3f76e865ea)\">\n     <use xlink:href=\"#C4_0_de53bcea0a\" x=\"15.167481\" y=\"316.775939\" style=\"fill: #fcfbfd\"/>\n    </g>\n    <g clip-path=\"url(#p3f76e865ea)\">\n     <use xlink:href=\"#C4_0_de53bcea0a\" x=\"15.167481\" y=\"304.894947\" style=\"fill: #fcfbfd\"/>\n    </g>\n    <g clip-path=\"url(#p3f76e865ea)\">\n     <use xlink:href=\"#C4_0_de53bcea0a\" x=\"15.167481\" y=\"293.013955\" style=\"fill: #f9f7fb\"/>\n    </g>\n    <g clip-path=\"url(#p3f76e865ea)\">\n     <use xlink:href=\"#C4_0_de53bcea0a\" x=\"15.167481\" y=\"281.132964\" style=\"fill: #f9f7fb\"/>\n    </g>\n    <g clip-path=\"url(#p3f76e865ea)\">\n     <use xlink:href=\"#C4_0_de53bcea0a\" x=\"15.167481\" y=\"269.251972\" style=\"fill: #fcfbfd\"/>\n    </g>\n    <g clip-path=\"url(#p3f76e865ea)\">\n     <use xlink:href=\"#C4_0_de53bcea0a\" x=\"15.167481\" y=\"257.37098\" style=\"fill: #fcfbfd\"/>\n    </g>\n    <g clip-path=\"url(#p3f76e865ea)\">\n     <use xlink:href=\"#C4_0_de53bcea0a\" x=\"15.167481\" y=\"245.489988\" style=\"fill: #fcfbfd\"/>\n    </g>\n    <g clip-path=\"url(#p3f76e865ea)\">\n     <use xlink:href=\"#C4_0_de53bcea0a\" x=\"15.167481\" y=\"233.608997\" style=\"fill: #fcfbfd\"/>\n    </g>\n    <g clip-path=\"url(#p3f76e865ea)\">\n     <use xlink:href=\"#C4_0_de53bcea0a\" x=\"15.167481\" y=\"221.728005\" style=\"fill: #fcfbfd\"/>\n    </g>\n    <g clip-path=\"url(#p3f76e865ea)\">\n     <use xlink:href=\"#C4_0_de53bcea0a\" x=\"15.167481\" y=\"209.847013\" style=\"fill: #fcfbfd\"/>\n    </g>\n    <g clip-path=\"url(#p3f76e865ea)\">\n     <use xlink:href=\"#C4_0_de53bcea0a\" x=\"15.167481\" y=\"197.966021\" style=\"fill: #fcfbfd\"/>\n    </g>\n    <g clip-path=\"url(#p3f76e865ea)\">\n     <use xlink:href=\"#C4_0_de53bcea0a\" x=\"22.01839\" y=\"328.65693\" style=\"fill: #fcfbfd\"/>\n    </g>\n    <g clip-path=\"url(#p3f76e865ea)\">\n     <use xlink:href=\"#C4_0_de53bcea0a\" x=\"22.01839\" y=\"316.775939\" style=\"fill: #fcfbfd\"/>\n    </g>\n    <g clip-path=\"url(#p3f76e865ea)\">\n     <use xlink:href=\"#C4_0_de53bcea0a\" x=\"22.01839\" y=\"304.894947\" style=\"fill: #fcfbfd\"/>\n    </g>\n    <g clip-path=\"url(#p3f76e865ea)\">\n     <use xlink:href=\"#C4_0_de53bcea0a\" x=\"22.01839\" y=\"293.013955\" style=\"fill: #f2f0f7\"/>\n    </g>\n    <g clip-path=\"url(#p3f76e865ea)\">\n     <use xlink:href=\"#C4_0_de53bcea0a\" x=\"22.01839\" y=\"281.132964\" style=\"fill: #fcfbfd\"/>\n    </g>\n    <g clip-path=\"url(#p3f76e865ea)\">\n     <use xlink:href=\"#C4_0_de53bcea0a\" x=\"22.01839\" y=\"269.251972\" style=\"fill: #fcfbfd\"/>\n    </g>\n    <g clip-path=\"url(#p3f76e865ea)\">\n     <use xlink:href=\"#C4_0_de53bcea0a\" x=\"22.01839\" y=\"257.37098\" style=\"fill: #fcfbfd\"/>\n    </g>\n    <g clip-path=\"url(#p3f76e865ea)\">\n     <use xlink:href=\"#C4_0_de53bcea0a\" x=\"22.01839\" y=\"245.489988\" style=\"fill: #fcfbfd\"/>\n    </g>\n    <g clip-path=\"url(#p3f76e865ea)\">\n     <use xlink:href=\"#C4_0_de53bcea0a\" x=\"22.01839\" y=\"233.608997\" style=\"fill: #fcfbfd\"/>\n    </g>\n    <g clip-path=\"url(#p3f76e865ea)\">\n     <use xlink:href=\"#C4_0_de53bcea0a\" x=\"22.01839\" y=\"221.728005\" style=\"fill: #fcfbfd\"/>\n    </g>\n    <g clip-path=\"url(#p3f76e865ea)\">\n     <use xlink:href=\"#C4_0_de53bcea0a\" x=\"22.01839\" y=\"209.847013\" style=\"fill: #fcfbfd\"/>\n    </g>\n    <g clip-path=\"url(#p3f76e865ea)\">\n     <use xlink:href=\"#C4_0_de53bcea0a\" x=\"22.01839\" y=\"197.966021\" style=\"fill: #fcfbfd\"/>\n    </g>\n    <g clip-path=\"url(#p3f76e865ea)\">\n     <use xlink:href=\"#C4_0_de53bcea0a\" x=\"28.869299\" y=\"328.65693\" style=\"fill: #fcfbfd\"/>\n    </g>\n    <g clip-path=\"url(#p3f76e865ea)\">\n     <use xlink:href=\"#C4_0_de53bcea0a\" x=\"28.869299\" y=\"316.775939\" style=\"fill: #fcfbfd\"/>\n    </g>\n    <g clip-path=\"url(#p3f76e865ea)\">\n     <use xlink:href=\"#C4_0_de53bcea0a\" x=\"28.869299\" y=\"304.894947\" style=\"fill: #fcfbfd\"/>\n    </g>\n    <g clip-path=\"url(#p3f76e865ea)\">\n     <use xlink:href=\"#C4_0_de53bcea0a\" x=\"28.869299\" y=\"293.013955\" style=\"fill: #fcfbfd\"/>\n    </g>\n    <g clip-path=\"url(#p3f76e865ea)\">\n     <use xlink:href=\"#C4_0_de53bcea0a\" x=\"28.869299\" y=\"281.132964\" style=\"fill: #fcfbfd\"/>\n    </g>\n    <g clip-path=\"url(#p3f76e865ea)\">\n     <use xlink:href=\"#C4_0_de53bcea0a\" x=\"28.869299\" y=\"269.251972\" style=\"fill: #fcfbfd\"/>\n    </g>\n    <g clip-path=\"url(#p3f76e865ea)\">\n     <use xlink:href=\"#C4_0_de53bcea0a\" x=\"28.869299\" y=\"257.37098\" style=\"fill: #fcfbfd\"/>\n    </g>\n    <g clip-path=\"url(#p3f76e865ea)\">\n     <use xlink:href=\"#C4_0_de53bcea0a\" x=\"28.869299\" y=\"245.489988\" style=\"fill: #fcfbfd\"/>\n    </g>\n    <g clip-path=\"url(#p3f76e865ea)\">\n     <use xlink:href=\"#C4_0_de53bcea0a\" x=\"28.869299\" y=\"233.608997\" style=\"fill: #fcfbfd\"/>\n    </g>\n    <g clip-path=\"url(#p3f76e865ea)\">\n     <use xlink:href=\"#C4_0_de53bcea0a\" x=\"28.869299\" y=\"221.728005\" style=\"fill: #fcfbfd\"/>\n    </g>\n    <g clip-path=\"url(#p3f76e865ea)\">\n     <use xlink:href=\"#C4_0_de53bcea0a\" x=\"28.869299\" y=\"209.847013\" style=\"fill: #fcfbfd\"/>\n    </g>\n    <g clip-path=\"url(#p3f76e865ea)\">\n     <use xlink:href=\"#C4_0_de53bcea0a\" x=\"28.869299\" y=\"197.966021\" style=\"fill: #fcfbfd\"/>\n    </g>\n    <g clip-path=\"url(#p3f76e865ea)\">\n     <use xlink:href=\"#C4_0_de53bcea0a\" x=\"35.720208\" y=\"328.65693\" style=\"fill: #fcfbfd\"/>\n    </g>\n    <g clip-path=\"url(#p3f76e865ea)\">\n     <use xlink:href=\"#C4_0_de53bcea0a\" x=\"35.720208\" y=\"316.775939\" style=\"fill: #fcfbfd\"/>\n    </g>\n    <g clip-path=\"url(#p3f76e865ea)\">\n     <use xlink:href=\"#C4_0_de53bcea0a\" x=\"35.720208\" y=\"304.894947\" style=\"fill: #fcfbfd\"/>\n    </g>\n    <g clip-path=\"url(#p3f76e865ea)\">\n     <use xlink:href=\"#C4_0_de53bcea0a\" x=\"35.720208\" y=\"293.013955\" style=\"fill: #fcfbfd\"/>\n    </g>\n    <g clip-path=\"url(#p3f76e865ea)\">\n     <use xlink:href=\"#C4_0_de53bcea0a\" x=\"35.720208\" y=\"281.132964\" style=\"fill: #fcfbfd\"/>\n    </g>\n    <g clip-path=\"url(#p3f76e865ea)\">\n     <use xlink:href=\"#C4_0_de53bcea0a\" x=\"35.720208\" y=\"269.251972\" style=\"fill: #fcfbfd\"/>\n    </g>\n    <g clip-path=\"url(#p3f76e865ea)\">\n     <use xlink:href=\"#C4_0_de53bcea0a\" x=\"35.720208\" y=\"257.37098\" style=\"fill: #fcfbfd\"/>\n    </g>\n    <g clip-path=\"url(#p3f76e865ea)\">\n     <use xlink:href=\"#C4_0_de53bcea0a\" x=\"35.720208\" y=\"245.489988\" style=\"fill: #fcfbfd\"/>\n    </g>\n    <g clip-path=\"url(#p3f76e865ea)\">\n     <use xlink:href=\"#C4_0_de53bcea0a\" x=\"35.720208\" y=\"233.608997\" style=\"fill: #fcfbfd\"/>\n    </g>\n    <g clip-path=\"url(#p3f76e865ea)\">\n     <use xlink:href=\"#C4_0_de53bcea0a\" x=\"35.720208\" y=\"221.728005\" style=\"fill: #fcfbfd\"/>\n    </g>\n    <g clip-path=\"url(#p3f76e865ea)\">\n     <use xlink:href=\"#C4_0_de53bcea0a\" x=\"35.720208\" y=\"209.847013\" style=\"fill: #fcfbfd\"/>\n    </g>\n    <g clip-path=\"url(#p3f76e865ea)\">\n     <use xlink:href=\"#C4_0_de53bcea0a\" x=\"35.720208\" y=\"197.966021\" style=\"fill: #fcfbfd\"/>\n    </g>\n    <g clip-path=\"url(#p3f76e865ea)\">\n     <use xlink:href=\"#C4_0_de53bcea0a\" x=\"42.571117\" y=\"328.65693\" style=\"fill: #fcfbfd\"/>\n    </g>\n    <g clip-path=\"url(#p3f76e865ea)\">\n     <use xlink:href=\"#C4_0_de53bcea0a\" x=\"42.571117\" y=\"316.775939\" style=\"fill: #fcfbfd\"/>\n    </g>\n    <g clip-path=\"url(#p3f76e865ea)\">\n     <use xlink:href=\"#C4_0_de53bcea0a\" x=\"42.571117\" y=\"304.894947\" style=\"fill: #fcfbfd\"/>\n    </g>\n    <g clip-path=\"url(#p3f76e865ea)\">\n     <use xlink:href=\"#C4_0_de53bcea0a\" x=\"42.571117\" y=\"293.013955\" style=\"fill: #fcfbfd\"/>\n    </g>\n    <g clip-path=\"url(#p3f76e865ea)\">\n     <use xlink:href=\"#C4_0_de53bcea0a\" x=\"42.571117\" y=\"281.132964\" style=\"fill: #fcfbfd\"/>\n    </g>\n    <g clip-path=\"url(#p3f76e865ea)\">\n     <use xlink:href=\"#C4_0_de53bcea0a\" x=\"42.571117\" y=\"269.251972\" style=\"fill: #fcfbfd\"/>\n    </g>\n    <g clip-path=\"url(#p3f76e865ea)\">\n     <use xlink:href=\"#C4_0_de53bcea0a\" x=\"42.571117\" y=\"257.37098\" style=\"fill: #fcfbfd\"/>\n    </g>\n    <g clip-path=\"url(#p3f76e865ea)\">\n     <use xlink:href=\"#C4_0_de53bcea0a\" x=\"42.571117\" y=\"245.489988\" style=\"fill: #fcfbfd\"/>\n    </g>\n    <g clip-path=\"url(#p3f76e865ea)\">\n     <use xlink:href=\"#C4_0_de53bcea0a\" x=\"42.571117\" y=\"233.608997\" style=\"fill: #fcfbfd\"/>\n    </g>\n    <g clip-path=\"url(#p3f76e865ea)\">\n     <use xlink:href=\"#C4_0_de53bcea0a\" x=\"42.571117\" y=\"221.728005\" style=\"fill: #fcfbfd\"/>\n    </g>\n    <g clip-path=\"url(#p3f76e865ea)\">\n     <use xlink:href=\"#C4_0_de53bcea0a\" x=\"42.571117\" y=\"209.847013\" style=\"fill: #fcfbfd\"/>\n    </g>\n    <g clip-path=\"url(#p3f76e865ea)\">\n     <use xlink:href=\"#C4_0_de53bcea0a\" x=\"42.571117\" y=\"197.966021\" style=\"fill: #fcfbfd\"/>\n    </g>\n    <g clip-path=\"url(#p3f76e865ea)\">\n     <use xlink:href=\"#C4_0_de53bcea0a\" x=\"49.422026\" y=\"328.65693\" style=\"fill: #fcfbfd\"/>\n    </g>\n    <g clip-path=\"url(#p3f76e865ea)\">\n     <use xlink:href=\"#C4_0_de53bcea0a\" x=\"49.422026\" y=\"316.775939\" style=\"fill: #fcfbfd\"/>\n    </g>\n    <g clip-path=\"url(#p3f76e865ea)\">\n     <use xlink:href=\"#C4_0_de53bcea0a\" x=\"49.422026\" y=\"304.894947\" style=\"fill: #fcfbfd\"/>\n    </g>\n    <g clip-path=\"url(#p3f76e865ea)\">\n     <use xlink:href=\"#C4_0_de53bcea0a\" x=\"49.422026\" y=\"293.013955\" style=\"fill: #fcfbfd\"/>\n    </g>\n    <g clip-path=\"url(#p3f76e865ea)\">\n     <use xlink:href=\"#C4_0_de53bcea0a\" x=\"49.422026\" y=\"281.132964\" style=\"fill: #eae8f2\"/>\n    </g>\n    <g clip-path=\"url(#p3f76e865ea)\">\n     <use xlink:href=\"#C4_0_de53bcea0a\" x=\"49.422026\" y=\"269.251972\" style=\"fill: #f5f4f9\"/>\n    </g>\n    <g clip-path=\"url(#p3f76e865ea)\">\n     <use xlink:href=\"#C4_0_de53bcea0a\" x=\"49.422026\" y=\"257.37098\" style=\"fill: #dadaeb\"/>\n    </g>\n    <g clip-path=\"url(#p3f76e865ea)\">\n     <use xlink:href=\"#C4_0_de53bcea0a\" x=\"49.422026\" y=\"245.489988\" style=\"fill: #f2f0f7\"/>\n    </g>\n    <g clip-path=\"url(#p3f76e865ea)\">\n     <use xlink:href=\"#C4_0_de53bcea0a\" x=\"49.422026\" y=\"233.608997\" style=\"fill: #fcfbfd\"/>\n    </g>\n    <g clip-path=\"url(#p3f76e865ea)\">\n     <use xlink:href=\"#C4_0_de53bcea0a\" x=\"49.422026\" y=\"221.728005\" style=\"fill: #fcfbfd\"/>\n    </g>\n    <g clip-path=\"url(#p3f76e865ea)\">\n     <use xlink:href=\"#C4_0_de53bcea0a\" x=\"49.422026\" y=\"209.847013\" style=\"fill: #fcfbfd\"/>\n    </g>\n    <g clip-path=\"url(#p3f76e865ea)\">\n     <use xlink:href=\"#C4_0_de53bcea0a\" x=\"49.422026\" y=\"197.966021\" style=\"fill: #fcfbfd\"/>\n    </g>\n    <g clip-path=\"url(#p3f76e865ea)\">\n     <use xlink:href=\"#C4_0_de53bcea0a\" x=\"56.272935\" y=\"328.65693\" style=\"fill: #fcfbfd\"/>\n    </g>\n    <g clip-path=\"url(#p3f76e865ea)\">\n     <use xlink:href=\"#C4_0_de53bcea0a\" x=\"56.272935\" y=\"316.775939\" style=\"fill: #fcfbfd\"/>\n    </g>\n    <g clip-path=\"url(#p3f76e865ea)\">\n     <use xlink:href=\"#C4_0_de53bcea0a\" x=\"56.272935\" y=\"304.894947\" style=\"fill: #fcfbfd\"/>\n    </g>\n    <g clip-path=\"url(#p3f76e865ea)\">\n     <use xlink:href=\"#C4_0_de53bcea0a\" x=\"56.272935\" y=\"293.013955\" style=\"fill: #f5f4f9\"/>\n    </g>\n    <g clip-path=\"url(#p3f76e865ea)\">\n     <use xlink:href=\"#C4_0_de53bcea0a\" x=\"56.272935\" y=\"281.132964\" style=\"fill: #dadaeb\"/>\n    </g>\n    <g clip-path=\"url(#p3f76e865ea)\">\n     <use xlink:href=\"#C4_0_de53bcea0a\" x=\"56.272935\" y=\"269.251972\" style=\"fill: #e4e3f0\"/>\n    </g>\n    <g clip-path=\"url(#p3f76e865ea)\">\n     <use xlink:href=\"#C4_0_de53bcea0a\" x=\"56.272935\" y=\"257.37098\" style=\"fill: #9692c4\"/>\n    </g>\n    <g clip-path=\"url(#p3f76e865ea)\">\n     <use xlink:href=\"#C4_0_de53bcea0a\" x=\"56.272935\" y=\"245.489988\" style=\"fill: #8e8bc1\"/>\n    </g>\n    <g clip-path=\"url(#p3f76e865ea)\">\n     <use xlink:href=\"#C4_0_de53bcea0a\" x=\"56.272935\" y=\"233.608997\" style=\"fill: #fcfbfd\"/>\n    </g>\n    <g clip-path=\"url(#p3f76e865ea)\">\n     <use xlink:href=\"#C4_0_de53bcea0a\" x=\"56.272935\" y=\"221.728005\" style=\"fill: #fcfbfd\"/>\n    </g>\n    <g clip-path=\"url(#p3f76e865ea)\">\n     <use xlink:href=\"#C4_0_de53bcea0a\" x=\"56.272935\" y=\"209.847013\" style=\"fill: #fcfbfd\"/>\n    </g>\n    <g clip-path=\"url(#p3f76e865ea)\">\n     <use xlink:href=\"#C4_0_de53bcea0a\" x=\"56.272935\" y=\"197.966021\" style=\"fill: #fcfbfd\"/>\n    </g>\n    <g clip-path=\"url(#p3f76e865ea)\">\n     <use xlink:href=\"#C4_0_de53bcea0a\" x=\"63.123844\" y=\"328.65693\" style=\"fill: #fcfbfd\"/>\n    </g>\n    <g clip-path=\"url(#p3f76e865ea)\">\n     <use xlink:href=\"#C4_0_de53bcea0a\" x=\"63.123844\" y=\"316.775939\" style=\"fill: #fcfbfd\"/>\n    </g>\n    <g clip-path=\"url(#p3f76e865ea)\">\n     <use xlink:href=\"#C4_0_de53bcea0a\" x=\"63.123844\" y=\"304.894947\" style=\"fill: #fcfbfd\"/>\n    </g>\n    <g clip-path=\"url(#p3f76e865ea)\">\n     <use xlink:href=\"#C4_0_de53bcea0a\" x=\"63.123844\" y=\"293.013955\" style=\"fill: #eae8f2\"/>\n    </g>\n    <g clip-path=\"url(#p3f76e865ea)\">\n     <use xlink:href=\"#C4_0_de53bcea0a\" x=\"63.123844\" y=\"281.132964\" style=\"fill: #8e8bc1\"/>\n    </g>\n    <g clip-path=\"url(#p3f76e865ea)\">\n     <use xlink:href=\"#C4_0_de53bcea0a\" x=\"63.123844\" y=\"269.251972\" style=\"fill: #bcbddc\"/>\n    </g>\n    <g clip-path=\"url(#p3f76e865ea)\">\n     <use xlink:href=\"#C4_0_de53bcea0a\" x=\"63.123844\" y=\"257.37098\" style=\"fill: #eae8f2\"/>\n    </g>\n    <g clip-path=\"url(#p3f76e865ea)\">\n     <use xlink:href=\"#C4_0_de53bcea0a\" x=\"63.123844\" y=\"245.489988\" style=\"fill: #fcfbfd\"/>\n    </g>\n    <g clip-path=\"url(#p3f76e865ea)\">\n     <use xlink:href=\"#C4_0_de53bcea0a\" x=\"63.123844\" y=\"233.608997\" style=\"fill: #fcfbfd\"/>\n    </g>\n    <g clip-path=\"url(#p3f76e865ea)\">\n     <use xlink:href=\"#C4_0_de53bcea0a\" x=\"63.123844\" y=\"221.728005\" style=\"fill: #fcfbfd\"/>\n    </g>\n    <g clip-path=\"url(#p3f76e865ea)\">\n     <use xlink:href=\"#C4_0_de53bcea0a\" x=\"63.123844\" y=\"209.847013\" style=\"fill: #fcfbfd\"/>\n    </g>\n    <g clip-path=\"url(#p3f76e865ea)\">\n     <use xlink:href=\"#C4_0_de53bcea0a\" x=\"63.123844\" y=\"197.966021\" style=\"fill: #fcfbfd\"/>\n    </g>\n    <g clip-path=\"url(#p3f76e865ea)\">\n     <use xlink:href=\"#C4_0_de53bcea0a\" x=\"69.974753\" y=\"328.65693\" style=\"fill: #fcfbfd\"/>\n    </g>\n    <g clip-path=\"url(#p3f76e865ea)\">\n     <use xlink:href=\"#C4_0_de53bcea0a\" x=\"69.974753\" y=\"316.775939\" style=\"fill: #fcfbfd\"/>\n    </g>\n    <g clip-path=\"url(#p3f76e865ea)\">\n     <use xlink:href=\"#C4_0_de53bcea0a\" x=\"69.974753\" y=\"304.894947\" style=\"fill: #f2f0f7\"/>\n    </g>\n    <g clip-path=\"url(#p3f76e865ea)\">\n     <use xlink:href=\"#C4_0_de53bcea0a\" x=\"69.974753\" y=\"293.013955\" style=\"fill: #e4e3f0\"/>\n    </g>\n    <g clip-path=\"url(#p3f76e865ea)\">\n     <use xlink:href=\"#C4_0_de53bcea0a\" x=\"69.974753\" y=\"281.132964\" style=\"fill: #cbcbe3\"/>\n    </g>\n    <g clip-path=\"url(#p3f76e865ea)\">\n     <use xlink:href=\"#C4_0_de53bcea0a\" x=\"69.974753\" y=\"269.251972\" style=\"fill: #807cba\"/>\n    </g>\n    <g clip-path=\"url(#p3f76e865ea)\">\n     <use xlink:href=\"#C4_0_de53bcea0a\" x=\"69.974753\" y=\"257.37098\" style=\"fill: #c3c4e0\"/>\n    </g>\n    <g clip-path=\"url(#p3f76e865ea)\">\n     <use xlink:href=\"#C4_0_de53bcea0a\" x=\"69.974753\" y=\"245.489988\" style=\"fill: #fcfbfd\"/>\n    </g>\n    <g clip-path=\"url(#p3f76e865ea)\">\n     <use xlink:href=\"#C4_0_de53bcea0a\" x=\"69.974753\" y=\"233.608997\" style=\"fill: #fcfbfd\"/>\n    </g>\n    <g clip-path=\"url(#p3f76e865ea)\">\n     <use xlink:href=\"#C4_0_de53bcea0a\" x=\"69.974753\" y=\"221.728005\" style=\"fill: #fcfbfd\"/>\n    </g>\n    <g clip-path=\"url(#p3f76e865ea)\">\n     <use xlink:href=\"#C4_0_de53bcea0a\" x=\"69.974753\" y=\"209.847013\" style=\"fill: #fcfbfd\"/>\n    </g>\n    <g clip-path=\"url(#p3f76e865ea)\">\n     <use xlink:href=\"#C4_0_de53bcea0a\" x=\"69.974753\" y=\"197.966021\" style=\"fill: #fcfbfd\"/>\n    </g>\n    <g clip-path=\"url(#p3f76e865ea)\">\n     <use xlink:href=\"#C4_0_de53bcea0a\" x=\"76.825662\" y=\"328.65693\" style=\"fill: #fcfbfd\"/>\n    </g>\n    <g clip-path=\"url(#p3f76e865ea)\">\n     <use xlink:href=\"#C4_0_de53bcea0a\" x=\"76.825662\" y=\"316.775939\" style=\"fill: #fcfbfd\"/>\n    </g>\n    <g clip-path=\"url(#p3f76e865ea)\">\n     <use xlink:href=\"#C4_0_de53bcea0a\" x=\"76.825662\" y=\"304.894947\" style=\"fill: #dfdfed\"/>\n    </g>\n    <g clip-path=\"url(#p3f76e865ea)\">\n     <use xlink:href=\"#C4_0_de53bcea0a\" x=\"76.825662\" y=\"293.013955\" style=\"fill: #a5a2cd\"/>\n    </g>\n    <g clip-path=\"url(#p3f76e865ea)\">\n     <use xlink:href=\"#C4_0_de53bcea0a\" x=\"76.825662\" y=\"281.132964\" style=\"fill: #dadaeb\"/>\n    </g>\n    <g clip-path=\"url(#p3f76e865ea)\">\n     <use xlink:href=\"#C4_0_de53bcea0a\" x=\"76.825662\" y=\"269.251972\" style=\"fill: #efedf5\"/>\n    </g>\n    <g clip-path=\"url(#p3f76e865ea)\">\n     <use xlink:href=\"#C4_0_de53bcea0a\" x=\"76.825662\" y=\"257.37098\" style=\"fill: #dadaeb\"/>\n    </g>\n    <g clip-path=\"url(#p3f76e865ea)\">\n     <use xlink:href=\"#C4_0_de53bcea0a\" x=\"76.825662\" y=\"245.489988\" style=\"fill: #fcfbfd\"/>\n    </g>\n    <g clip-path=\"url(#p3f76e865ea)\">\n     <use xlink:href=\"#C4_0_de53bcea0a\" x=\"76.825662\" y=\"233.608997\" style=\"fill: #fcfbfd\"/>\n    </g>\n    <g clip-path=\"url(#p3f76e865ea)\">\n     <use xlink:href=\"#C4_0_de53bcea0a\" x=\"76.825662\" y=\"221.728005\" style=\"fill: #fcfbfd\"/>\n    </g>\n    <g clip-path=\"url(#p3f76e865ea)\">\n     <use xlink:href=\"#C4_0_de53bcea0a\" x=\"76.825662\" y=\"209.847013\" style=\"fill: #fcfbfd\"/>\n    </g>\n    <g clip-path=\"url(#p3f76e865ea)\">\n     <use xlink:href=\"#C4_0_de53bcea0a\" x=\"76.825662\" y=\"197.966021\" style=\"fill: #fcfbfd\"/>\n    </g>\n    <g clip-path=\"url(#p3f76e865ea)\">\n     <use xlink:href=\"#C4_0_de53bcea0a\" x=\"83.676571\" y=\"328.65693\" style=\"fill: #fcfbfd\"/>\n    </g>\n    <g clip-path=\"url(#p3f76e865ea)\">\n     <use xlink:href=\"#C4_0_de53bcea0a\" x=\"83.676571\" y=\"316.775939\" style=\"fill: #fcfbfd\"/>\n    </g>\n    <g clip-path=\"url(#p3f76e865ea)\">\n     <use xlink:href=\"#C4_0_de53bcea0a\" x=\"83.676571\" y=\"304.894947\" style=\"fill: #fcfbfd\"/>\n    </g>\n    <g clip-path=\"url(#p3f76e865ea)\">\n     <use xlink:href=\"#C4_0_de53bcea0a\" x=\"83.676571\" y=\"293.013955\" style=\"fill: #d2d2e7\"/>\n    </g>\n    <g clip-path=\"url(#p3f76e865ea)\">\n     <use xlink:href=\"#C4_0_de53bcea0a\" x=\"83.676571\" y=\"281.132964\" style=\"fill: #cbcbe3\"/>\n    </g>\n    <g clip-path=\"url(#p3f76e865ea)\">\n     <use xlink:href=\"#C4_0_de53bcea0a\" x=\"83.676571\" y=\"269.251972\" style=\"fill: #eae8f2\"/>\n    </g>\n    <g clip-path=\"url(#p3f76e865ea)\">\n     <use xlink:href=\"#C4_0_de53bcea0a\" x=\"83.676571\" y=\"257.37098\" style=\"fill: #c3c4e0\"/>\n    </g>\n    <g clip-path=\"url(#p3f76e865ea)\">\n     <use xlink:href=\"#C4_0_de53bcea0a\" x=\"83.676571\" y=\"245.489988\" style=\"fill: #fcfbfd\"/>\n    </g>\n    <g clip-path=\"url(#p3f76e865ea)\">\n     <use xlink:href=\"#C4_0_de53bcea0a\" x=\"83.676571\" y=\"233.608997\" style=\"fill: #fcfbfd\"/>\n    </g>\n    <g clip-path=\"url(#p3f76e865ea)\">\n     <use xlink:href=\"#C4_0_de53bcea0a\" x=\"83.676571\" y=\"221.728005\" style=\"fill: #fcfbfd\"/>\n    </g>\n    <g clip-path=\"url(#p3f76e865ea)\">\n     <use xlink:href=\"#C4_0_de53bcea0a\" x=\"83.676571\" y=\"209.847013\" style=\"fill: #fcfbfd\"/>\n    </g>\n    <g clip-path=\"url(#p3f76e865ea)\">\n     <use xlink:href=\"#C4_0_de53bcea0a\" x=\"83.676571\" y=\"197.966021\" style=\"fill: #fcfbfd\"/>\n    </g>\n    <g clip-path=\"url(#p3f76e865ea)\">\n     <use xlink:href=\"#C4_0_de53bcea0a\" x=\"-49.916156\" y=\"322.716435\" style=\"fill: #fcfbfd\"/>\n    </g>\n    <g clip-path=\"url(#p3f76e865ea)\">\n     <use xlink:href=\"#C4_0_de53bcea0a\" x=\"-49.916156\" y=\"310.835443\" style=\"fill: #fcfbfd\"/>\n    </g>\n    <g clip-path=\"url(#p3f76e865ea)\">\n     <use xlink:href=\"#C4_0_de53bcea0a\" x=\"-49.916156\" y=\"298.954451\" style=\"fill: #fcfbfd\"/>\n    </g>\n    <g clip-path=\"url(#p3f76e865ea)\">\n     <use xlink:href=\"#C4_0_de53bcea0a\" x=\"-49.916156\" y=\"287.073459\" style=\"fill: #dadaeb\"/>\n    </g>\n    <g clip-path=\"url(#p3f76e865ea)\">\n     <use xlink:href=\"#C4_0_de53bcea0a\" x=\"-49.916156\" y=\"275.192468\" style=\"fill: #dadaeb\"/>\n    </g>\n    <g clip-path=\"url(#p3f76e865ea)\">\n     <use xlink:href=\"#C4_0_de53bcea0a\" x=\"-49.916156\" y=\"263.311476\" style=\"fill: #bcbddc\"/>\n    </g>\n    <g clip-path=\"url(#p3f76e865ea)\">\n     <use xlink:href=\"#C4_0_de53bcea0a\" x=\"-49.916156\" y=\"251.430484\" style=\"fill: #a5a2cd\"/>\n    </g>\n    <g clip-path=\"url(#p3f76e865ea)\">\n     <use xlink:href=\"#C4_0_de53bcea0a\" x=\"-49.916156\" y=\"239.549492\" style=\"fill: #efedf5\"/>\n    </g>\n    <g clip-path=\"url(#p3f76e865ea)\">\n     <use xlink:href=\"#C4_0_de53bcea0a\" x=\"-49.916156\" y=\"227.668501\" style=\"fill: #fcfbfd\"/>\n    </g>\n    <g clip-path=\"url(#p3f76e865ea)\">\n     <use xlink:href=\"#C4_0_de53bcea0a\" x=\"-49.916156\" y=\"215.787509\" style=\"fill: #fcfbfd\"/>\n    </g>\n    <g clip-path=\"url(#p3f76e865ea)\">\n     <use xlink:href=\"#C4_0_de53bcea0a\" x=\"-49.916156\" y=\"203.906517\" style=\"fill: #fcfbfd\"/>\n    </g>\n    <g clip-path=\"url(#p3f76e865ea)\">\n     <use xlink:href=\"#C4_0_de53bcea0a\" x=\"-43.065247\" y=\"322.716435\" style=\"fill: #fcfbfd\"/>\n    </g>\n    <g clip-path=\"url(#p3f76e865ea)\">\n     <use xlink:href=\"#C4_0_de53bcea0a\" x=\"-43.065247\" y=\"310.835443\" style=\"fill: #fcfbfd\"/>\n    </g>\n    <g clip-path=\"url(#p3f76e865ea)\">\n     <use xlink:href=\"#C4_0_de53bcea0a\" x=\"-43.065247\" y=\"298.954451\" style=\"fill: #cbcbe3\"/>\n    </g>\n    <g clip-path=\"url(#p3f76e865ea)\">\n     <use xlink:href=\"#C4_0_de53bcea0a\" x=\"-43.065247\" y=\"287.073459\" style=\"fill: #b4b4d7\"/>\n    </g>\n    <g clip-path=\"url(#p3f76e865ea)\">\n     <use xlink:href=\"#C4_0_de53bcea0a\" x=\"-43.065247\" y=\"275.192468\" style=\"fill: #53268f\"/>\n    </g>\n    <g clip-path=\"url(#p3f76e865ea)\">\n     <use xlink:href=\"#C4_0_de53bcea0a\" x=\"-43.065247\" y=\"263.311476\" style=\"fill: #6f5ba8\"/>\n    </g>\n    <g clip-path=\"url(#p3f76e865ea)\">\n     <use xlink:href=\"#C4_0_de53bcea0a\" x=\"-43.065247\" y=\"251.430484\" style=\"fill: #bcbddc\"/>\n    </g>\n    <g clip-path=\"url(#p3f76e865ea)\">\n     <use xlink:href=\"#C4_0_de53bcea0a\" x=\"-43.065247\" y=\"239.549492\" style=\"fill: #adabd2\"/>\n    </g>\n    <g clip-path=\"url(#p3f76e865ea)\">\n     <use xlink:href=\"#C4_0_de53bcea0a\" x=\"-43.065247\" y=\"227.668501\" style=\"fill: #fcfbfd\"/>\n    </g>\n    <g clip-path=\"url(#p3f76e865ea)\">\n     <use xlink:href=\"#C4_0_de53bcea0a\" x=\"-43.065247\" y=\"215.787509\" style=\"fill: #fcfbfd\"/>\n    </g>\n    <g clip-path=\"url(#p3f76e865ea)\">\n     <use xlink:href=\"#C4_0_de53bcea0a\" x=\"-43.065247\" y=\"203.906517\" style=\"fill: #fcfbfd\"/>\n    </g>\n    <g clip-path=\"url(#p3f76e865ea)\">\n     <use xlink:href=\"#C4_0_de53bcea0a\" x=\"-36.214338\" y=\"322.716435\" style=\"fill: #fcfbfd\"/>\n    </g>\n    <g clip-path=\"url(#p3f76e865ea)\">\n     <use xlink:href=\"#C4_0_de53bcea0a\" x=\"-36.214338\" y=\"310.835443\" style=\"fill: #fcfbfd\"/>\n    </g>\n    <g clip-path=\"url(#p3f76e865ea)\">\n     <use xlink:href=\"#C4_0_de53bcea0a\" x=\"-36.214338\" y=\"298.954451\" style=\"fill: #dfdfed\"/>\n    </g>\n    <g clip-path=\"url(#p3f76e865ea)\">\n     <use xlink:href=\"#C4_0_de53bcea0a\" x=\"-36.214338\" y=\"287.073459\" style=\"fill: #e4e3f0\"/>\n    </g>\n    <g clip-path=\"url(#p3f76e865ea)\">\n     <use xlink:href=\"#C4_0_de53bcea0a\" x=\"-36.214338\" y=\"275.192468\" style=\"fill: #adabd2\"/>\n    </g>\n    <g clip-path=\"url(#p3f76e865ea)\">\n     <use xlink:href=\"#C4_0_de53bcea0a\" x=\"-36.214338\" y=\"263.311476\" style=\"fill: #807cba\"/>\n    </g>\n    <g clip-path=\"url(#p3f76e865ea)\">\n     <use xlink:href=\"#C4_0_de53bcea0a\" x=\"-36.214338\" y=\"251.430484\" style=\"fill: #b4b4d7\"/>\n    </g>\n    <g clip-path=\"url(#p3f76e865ea)\">\n     <use xlink:href=\"#C4_0_de53bcea0a\" x=\"-36.214338\" y=\"239.549492\" style=\"fill: #cbcbe3\"/>\n    </g>\n    <g clip-path=\"url(#p3f76e865ea)\">\n     <use xlink:href=\"#C4_0_de53bcea0a\" x=\"-36.214338\" y=\"227.668501\" style=\"fill: #fcfbfd\"/>\n    </g>\n    <g clip-path=\"url(#p3f76e865ea)\">\n     <use xlink:href=\"#C4_0_de53bcea0a\" x=\"-36.214338\" y=\"215.787509\" style=\"fill: #fcfbfd\"/>\n    </g>\n    <g clip-path=\"url(#p3f76e865ea)\">\n     <use xlink:href=\"#C4_0_de53bcea0a\" x=\"-36.214338\" y=\"203.906517\" style=\"fill: #fcfbfd\"/>\n    </g>\n    <g clip-path=\"url(#p3f76e865ea)\">\n     <use xlink:href=\"#C4_0_de53bcea0a\" x=\"-29.363429\" y=\"322.716435\" style=\"fill: #fcfbfd\"/>\n    </g>\n    <g clip-path=\"url(#p3f76e865ea)\">\n     <use xlink:href=\"#C4_0_de53bcea0a\" x=\"-29.363429\" y=\"310.835443\" style=\"fill: #f9f7fb\"/>\n    </g>\n    <g clip-path=\"url(#p3f76e865ea)\">\n     <use xlink:href=\"#C4_0_de53bcea0a\" x=\"-29.363429\" y=\"298.954451\" style=\"fill: #fcfbfd\"/>\n    </g>\n    <g clip-path=\"url(#p3f76e865ea)\">\n     <use xlink:href=\"#C4_0_de53bcea0a\" x=\"-29.363429\" y=\"287.073459\" style=\"fill: #eae8f2\"/>\n    </g>\n    <g clip-path=\"url(#p3f76e865ea)\">\n     <use xlink:href=\"#C4_0_de53bcea0a\" x=\"-29.363429\" y=\"275.192468\" style=\"fill: #a5a2cd\"/>\n    </g>\n    <g clip-path=\"url(#p3f76e865ea)\">\n     <use xlink:href=\"#C4_0_de53bcea0a\" x=\"-29.363429\" y=\"263.311476\" style=\"fill: #a5a2cd\"/>\n    </g>\n    <g clip-path=\"url(#p3f76e865ea)\">\n     <use xlink:href=\"#C4_0_de53bcea0a\" x=\"-29.363429\" y=\"251.430484\" style=\"fill: #807cba\"/>\n    </g>\n    <g clip-path=\"url(#p3f76e865ea)\">\n     <use xlink:href=\"#C4_0_de53bcea0a\" x=\"-29.363429\" y=\"239.549492\" style=\"fill: #dfdfed\"/>\n    </g>\n    <g clip-path=\"url(#p3f76e865ea)\">\n     <use xlink:href=\"#C4_0_de53bcea0a\" x=\"-29.363429\" y=\"227.668501\" style=\"fill: #f9f7fb\"/>\n    </g>\n    <g clip-path=\"url(#p3f76e865ea)\">\n     <use xlink:href=\"#C4_0_de53bcea0a\" x=\"-29.363429\" y=\"215.787509\" style=\"fill: #9e9ac8\"/>\n    </g>\n    <g clip-path=\"url(#p3f76e865ea)\">\n     <use xlink:href=\"#C4_0_de53bcea0a\" x=\"-29.363429\" y=\"203.906517\" style=\"fill: #fcfbfd\"/>\n    </g>\n    <g clip-path=\"url(#p3f76e865ea)\">\n     <use xlink:href=\"#C4_0_de53bcea0a\" x=\"-22.512519\" y=\"322.716435\" style=\"fill: #f9f7fb\"/>\n    </g>\n    <g clip-path=\"url(#p3f76e865ea)\">\n     <use xlink:href=\"#C4_0_de53bcea0a\" x=\"-22.512519\" y=\"310.835443\" style=\"fill: #eae8f2\"/>\n    </g>\n    <g clip-path=\"url(#p3f76e865ea)\">\n     <use xlink:href=\"#C4_0_de53bcea0a\" x=\"-22.512519\" y=\"298.954451\" style=\"fill: #eae8f2\"/>\n    </g>\n    <g clip-path=\"url(#p3f76e865ea)\">\n     <use xlink:href=\"#C4_0_de53bcea0a\" x=\"-22.512519\" y=\"287.073459\" style=\"fill: #f2f0f7\"/>\n    </g>\n    <g clip-path=\"url(#p3f76e865ea)\">\n     <use xlink:href=\"#C4_0_de53bcea0a\" x=\"-22.512519\" y=\"275.192468\" style=\"fill: #8e8bc1\"/>\n    </g>\n    <g clip-path=\"url(#p3f76e865ea)\">\n     <use xlink:href=\"#C4_0_de53bcea0a\" x=\"-22.512519\" y=\"263.311476\" style=\"fill: #8e8bc1\"/>\n    </g>\n    <g clip-path=\"url(#p3f76e865ea)\">\n     <use xlink:href=\"#C4_0_de53bcea0a\" x=\"-22.512519\" y=\"251.430484\" style=\"fill: #9692c4\"/>\n    </g>\n    <g clip-path=\"url(#p3f76e865ea)\">\n     <use xlink:href=\"#C4_0_de53bcea0a\" x=\"-22.512519\" y=\"239.549492\" style=\"fill: #e4e3f0\"/>\n    </g>\n    <g clip-path=\"url(#p3f76e865ea)\">\n     <use xlink:href=\"#C4_0_de53bcea0a\" x=\"-22.512519\" y=\"227.668501\" style=\"fill: #fcfbfd\"/>\n    </g>\n    <g clip-path=\"url(#p3f76e865ea)\">\n     <use xlink:href=\"#C4_0_de53bcea0a\" x=\"-22.512519\" y=\"215.787509\" style=\"fill: #efedf5\"/>\n    </g>\n    <g clip-path=\"url(#p3f76e865ea)\">\n     <use xlink:href=\"#C4_0_de53bcea0a\" x=\"-22.512519\" y=\"203.906517\" style=\"fill: #e4e3f0\"/>\n    </g>\n    <g clip-path=\"url(#p3f76e865ea)\">\n     <use xlink:href=\"#C4_0_de53bcea0a\" x=\"-15.66161\" y=\"322.716435\" style=\"fill: #f5f4f9\"/>\n    </g>\n    <g clip-path=\"url(#p3f76e865ea)\">\n     <use xlink:href=\"#C4_0_de53bcea0a\" x=\"-15.66161\" y=\"310.835443\" style=\"fill: #f9f7fb\"/>\n    </g>\n    <g clip-path=\"url(#p3f76e865ea)\">\n     <use xlink:href=\"#C4_0_de53bcea0a\" x=\"-15.66161\" y=\"298.954451\" style=\"fill: #bcbddc\"/>\n    </g>\n    <g clip-path=\"url(#p3f76e865ea)\">\n     <use xlink:href=\"#C4_0_de53bcea0a\" x=\"-15.66161\" y=\"287.073459\" style=\"fill: #dadaeb\"/>\n    </g>\n    <g clip-path=\"url(#p3f76e865ea)\">\n     <use xlink:href=\"#C4_0_de53bcea0a\" x=\"-15.66161\" y=\"275.192468\" style=\"fill: #a5a2cd\"/>\n    </g>\n    <g clip-path=\"url(#p3f76e865ea)\">\n     <use xlink:href=\"#C4_0_de53bcea0a\" x=\"-15.66161\" y=\"263.311476\" style=\"fill: #a5a2cd\"/>\n    </g>\n    <g clip-path=\"url(#p3f76e865ea)\">\n     <use xlink:href=\"#C4_0_de53bcea0a\" x=\"-15.66161\" y=\"251.430484\" style=\"fill: #9692c4\"/>\n    </g>\n    <g clip-path=\"url(#p3f76e865ea)\">\n     <use xlink:href=\"#C4_0_de53bcea0a\" x=\"-15.66161\" y=\"239.549492\" style=\"fill: #f2f0f7\"/>\n    </g>\n    <g clip-path=\"url(#p3f76e865ea)\">\n     <use xlink:href=\"#C4_0_de53bcea0a\" x=\"-15.66161\" y=\"227.668501\" style=\"fill: #e4e3f0\"/>\n    </g>\n    <g clip-path=\"url(#p3f76e865ea)\">\n     <use xlink:href=\"#C4_0_de53bcea0a\" x=\"-15.66161\" y=\"215.787509\" style=\"fill: #8e8bc1\"/>\n    </g>\n    <g clip-path=\"url(#p3f76e865ea)\">\n     <use xlink:href=\"#C4_0_de53bcea0a\" x=\"-15.66161\" y=\"203.906517\" style=\"fill: #6950a3\"/>\n    </g>\n    <g clip-path=\"url(#p3f76e865ea)\">\n     <use xlink:href=\"#C4_0_de53bcea0a\" x=\"-8.810701\" y=\"322.716435\" style=\"fill: #fcfbfd\"/>\n    </g>\n    <g clip-path=\"url(#p3f76e865ea)\">\n     <use xlink:href=\"#C4_0_de53bcea0a\" x=\"-8.810701\" y=\"310.835443\" style=\"fill: #fcfbfd\"/>\n    </g>\n    <g clip-path=\"url(#p3f76e865ea)\">\n     <use xlink:href=\"#C4_0_de53bcea0a\" x=\"-8.810701\" y=\"298.954451\" style=\"fill: #efedf5\"/>\n    </g>\n    <g clip-path=\"url(#p3f76e865ea)\">\n     <use xlink:href=\"#C4_0_de53bcea0a\" x=\"-8.810701\" y=\"287.073459\" style=\"fill: #efedf5\"/>\n    </g>\n    <g clip-path=\"url(#p3f76e865ea)\">\n     <use xlink:href=\"#C4_0_de53bcea0a\" x=\"-8.810701\" y=\"275.192468\" style=\"fill: #eae8f2\"/>\n    </g>\n    <g clip-path=\"url(#p3f76e865ea)\">\n     <use xlink:href=\"#C4_0_de53bcea0a\" x=\"-8.810701\" y=\"263.311476\" style=\"fill: #cbcbe3\"/>\n    </g>\n    <g clip-path=\"url(#p3f76e865ea)\">\n     <use xlink:href=\"#C4_0_de53bcea0a\" x=\"-8.810701\" y=\"251.430484\" style=\"fill: #adabd2\"/>\n    </g>\n    <g clip-path=\"url(#p3f76e865ea)\">\n     <use xlink:href=\"#C4_0_de53bcea0a\" x=\"-8.810701\" y=\"239.549492\" style=\"fill: #f2f0f7\"/>\n    </g>\n    <g clip-path=\"url(#p3f76e865ea)\">\n     <use xlink:href=\"#C4_0_de53bcea0a\" x=\"-8.810701\" y=\"227.668501\" style=\"fill: #efedf5\"/>\n    </g>\n    <g clip-path=\"url(#p3f76e865ea)\">\n     <use xlink:href=\"#C4_0_de53bcea0a\" x=\"-8.810701\" y=\"215.787509\" style=\"fill: #3f007d\"/>\n    </g>\n    <g clip-path=\"url(#p3f76e865ea)\">\n     <use xlink:href=\"#C4_0_de53bcea0a\" x=\"-8.810701\" y=\"203.906517\" style=\"fill: #8784bd\"/>\n    </g>\n    <g clip-path=\"url(#p3f76e865ea)\">\n     <use xlink:href=\"#C4_0_de53bcea0a\" x=\"-1.959792\" y=\"322.716435\" style=\"fill: #f9f7fb\"/>\n    </g>\n    <g clip-path=\"url(#p3f76e865ea)\">\n     <use xlink:href=\"#C4_0_de53bcea0a\" x=\"-1.959792\" y=\"310.835443\" style=\"fill: #f9f7fb\"/>\n    </g>\n    <g clip-path=\"url(#p3f76e865ea)\">\n     <use xlink:href=\"#C4_0_de53bcea0a\" x=\"-1.959792\" y=\"298.954451\" style=\"fill: #f5f4f9\"/>\n    </g>\n    <g clip-path=\"url(#p3f76e865ea)\">\n     <use xlink:href=\"#C4_0_de53bcea0a\" x=\"-1.959792\" y=\"287.073459\" style=\"fill: #d2d2e7\"/>\n    </g>\n    <g clip-path=\"url(#p3f76e865ea)\">\n     <use xlink:href=\"#C4_0_de53bcea0a\" x=\"-1.959792\" y=\"275.192468\" style=\"fill: #eae8f2\"/>\n    </g>\n    <g clip-path=\"url(#p3f76e865ea)\">\n     <use xlink:href=\"#C4_0_de53bcea0a\" x=\"-1.959792\" y=\"263.311476\" style=\"fill: #cbcbe3\"/>\n    </g>\n    <g clip-path=\"url(#p3f76e865ea)\">\n     <use xlink:href=\"#C4_0_de53bcea0a\" x=\"-1.959792\" y=\"251.430484\" style=\"fill: #adabd2\"/>\n    </g>\n    <g clip-path=\"url(#p3f76e865ea)\">\n     <use xlink:href=\"#C4_0_de53bcea0a\" x=\"-1.959792\" y=\"239.549492\" style=\"fill: #f9f7fb\"/>\n    </g>\n    <g clip-path=\"url(#p3f76e865ea)\">\n     <use xlink:href=\"#C4_0_de53bcea0a\" x=\"-1.959792\" y=\"227.668501\" style=\"fill: #807cba\"/>\n    </g>\n    <g clip-path=\"url(#p3f76e865ea)\">\n     <use xlink:href=\"#C4_0_de53bcea0a\" x=\"-1.959792\" y=\"215.787509\" style=\"fill: #adabd2\"/>\n    </g>\n    <g clip-path=\"url(#p3f76e865ea)\">\n     <use xlink:href=\"#C4_0_de53bcea0a\" x=\"-1.959792\" y=\"203.906517\" style=\"fill: #fcfbfd\"/>\n    </g>\n    <g clip-path=\"url(#p3f76e865ea)\">\n     <use xlink:href=\"#C4_0_de53bcea0a\" x=\"4.891117\" y=\"322.716435\" style=\"fill: #b4b4d7\"/>\n    </g>\n    <g clip-path=\"url(#p3f76e865ea)\">\n     <use xlink:href=\"#C4_0_de53bcea0a\" x=\"4.891117\" y=\"310.835443\" style=\"fill: #eae8f2\"/>\n    </g>\n    <g clip-path=\"url(#p3f76e865ea)\">\n     <use xlink:href=\"#C4_0_de53bcea0a\" x=\"4.891117\" y=\"298.954451\" style=\"fill: #f5f4f9\"/>\n    </g>\n    <g clip-path=\"url(#p3f76e865ea)\">\n     <use xlink:href=\"#C4_0_de53bcea0a\" x=\"4.891117\" y=\"287.073459\" style=\"fill: #eae8f2\"/>\n    </g>\n    <g clip-path=\"url(#p3f76e865ea)\">\n     <use xlink:href=\"#C4_0_de53bcea0a\" x=\"4.891117\" y=\"275.192468\" style=\"fill: #e4e3f0\"/>\n    </g>\n    <g clip-path=\"url(#p3f76e865ea)\">\n     <use xlink:href=\"#C4_0_de53bcea0a\" x=\"4.891117\" y=\"263.311476\" style=\"fill: #f2f0f7\"/>\n    </g>\n    <g clip-path=\"url(#p3f76e865ea)\">\n     <use xlink:href=\"#C4_0_de53bcea0a\" x=\"4.891117\" y=\"251.430484\" style=\"fill: #d2d2e7\"/>\n    </g>\n    <g clip-path=\"url(#p3f76e865ea)\">\n     <use xlink:href=\"#C4_0_de53bcea0a\" x=\"4.891117\" y=\"239.549492\" style=\"fill: #fcfbfd\"/>\n    </g>\n    <g clip-path=\"url(#p3f76e865ea)\">\n     <use xlink:href=\"#C4_0_de53bcea0a\" x=\"4.891117\" y=\"227.668501\" style=\"fill: #f9f7fb\"/>\n    </g>\n    <g clip-path=\"url(#p3f76e865ea)\">\n     <use xlink:href=\"#C4_0_de53bcea0a\" x=\"4.891117\" y=\"215.787509\" style=\"fill: #fcfbfd\"/>\n    </g>\n    <g clip-path=\"url(#p3f76e865ea)\">\n     <use xlink:href=\"#C4_0_de53bcea0a\" x=\"4.891117\" y=\"203.906517\" style=\"fill: #fcfbfd\"/>\n    </g>\n    <g clip-path=\"url(#p3f76e865ea)\">\n     <use xlink:href=\"#C4_0_de53bcea0a\" x=\"11.742026\" y=\"322.716435\" style=\"fill: #f5f4f9\"/>\n    </g>\n    <g clip-path=\"url(#p3f76e865ea)\">\n     <use xlink:href=\"#C4_0_de53bcea0a\" x=\"11.742026\" y=\"310.835443\" style=\"fill: #f5f4f9\"/>\n    </g>\n    <g clip-path=\"url(#p3f76e865ea)\">\n     <use xlink:href=\"#C4_0_de53bcea0a\" x=\"11.742026\" y=\"298.954451\" style=\"fill: #fcfbfd\"/>\n    </g>\n    <g clip-path=\"url(#p3f76e865ea)\">\n     <use xlink:href=\"#C4_0_de53bcea0a\" x=\"11.742026\" y=\"287.073459\" style=\"fill: #cbcbe3\"/>\n    </g>\n    <g clip-path=\"url(#p3f76e865ea)\">\n     <use xlink:href=\"#C4_0_de53bcea0a\" x=\"11.742026\" y=\"275.192468\" style=\"fill: #f5f4f9\"/>\n    </g>\n    <g clip-path=\"url(#p3f76e865ea)\">\n     <use xlink:href=\"#C4_0_de53bcea0a\" x=\"11.742026\" y=\"263.311476\" style=\"fill: #fcfbfd\"/>\n    </g>\n    <g clip-path=\"url(#p3f76e865ea)\">\n     <use xlink:href=\"#C4_0_de53bcea0a\" x=\"11.742026\" y=\"251.430484\" style=\"fill: #f5f4f9\"/>\n    </g>\n    <g clip-path=\"url(#p3f76e865ea)\">\n     <use xlink:href=\"#C4_0_de53bcea0a\" x=\"11.742026\" y=\"239.549492\" style=\"fill: #fcfbfd\"/>\n    </g>\n    <g clip-path=\"url(#p3f76e865ea)\">\n     <use xlink:href=\"#C4_0_de53bcea0a\" x=\"11.742026\" y=\"227.668501\" style=\"fill: #fcfbfd\"/>\n    </g>\n    <g clip-path=\"url(#p3f76e865ea)\">\n     <use xlink:href=\"#C4_0_de53bcea0a\" x=\"11.742026\" y=\"215.787509\" style=\"fill: #fcfbfd\"/>\n    </g>\n    <g clip-path=\"url(#p3f76e865ea)\">\n     <use xlink:href=\"#C4_0_de53bcea0a\" x=\"11.742026\" y=\"203.906517\" style=\"fill: #fcfbfd\"/>\n    </g>\n    <g clip-path=\"url(#p3f76e865ea)\">\n     <use xlink:href=\"#C4_0_de53bcea0a\" x=\"18.592935\" y=\"322.716435\" style=\"fill: #fcfbfd\"/>\n    </g>\n    <g clip-path=\"url(#p3f76e865ea)\">\n     <use xlink:href=\"#C4_0_de53bcea0a\" x=\"18.592935\" y=\"310.835443\" style=\"fill: #fcfbfd\"/>\n    </g>\n    <g clip-path=\"url(#p3f76e865ea)\">\n     <use xlink:href=\"#C4_0_de53bcea0a\" x=\"18.592935\" y=\"298.954451\" style=\"fill: #f2f0f7\"/>\n    </g>\n    <g clip-path=\"url(#p3f76e865ea)\">\n     <use xlink:href=\"#C4_0_de53bcea0a\" x=\"18.592935\" y=\"287.073459\" style=\"fill: #fcfbfd\"/>\n    </g>\n    <g clip-path=\"url(#p3f76e865ea)\">\n     <use xlink:href=\"#C4_0_de53bcea0a\" x=\"18.592935\" y=\"275.192468\" style=\"fill: #fcfbfd\"/>\n    </g>\n    <g clip-path=\"url(#p3f76e865ea)\">\n     <use xlink:href=\"#C4_0_de53bcea0a\" x=\"18.592935\" y=\"263.311476\" style=\"fill: #fcfbfd\"/>\n    </g>\n    <g clip-path=\"url(#p3f76e865ea)\">\n     <use xlink:href=\"#C4_0_de53bcea0a\" x=\"18.592935\" y=\"251.430484\" style=\"fill: #fcfbfd\"/>\n    </g>\n    <g clip-path=\"url(#p3f76e865ea)\">\n     <use xlink:href=\"#C4_0_de53bcea0a\" x=\"18.592935\" y=\"239.549492\" style=\"fill: #fcfbfd\"/>\n    </g>\n    <g clip-path=\"url(#p3f76e865ea)\">\n     <use xlink:href=\"#C4_0_de53bcea0a\" x=\"18.592935\" y=\"227.668501\" style=\"fill: #fcfbfd\"/>\n    </g>\n    <g clip-path=\"url(#p3f76e865ea)\">\n     <use xlink:href=\"#C4_0_de53bcea0a\" x=\"18.592935\" y=\"215.787509\" style=\"fill: #fcfbfd\"/>\n    </g>\n    <g clip-path=\"url(#p3f76e865ea)\">\n     <use xlink:href=\"#C4_0_de53bcea0a\" x=\"18.592935\" y=\"203.906517\" style=\"fill: #fcfbfd\"/>\n    </g>\n    <g clip-path=\"url(#p3f76e865ea)\">\n     <use xlink:href=\"#C4_0_de53bcea0a\" x=\"25.443844\" y=\"322.716435\" style=\"fill: #fcfbfd\"/>\n    </g>\n    <g clip-path=\"url(#p3f76e865ea)\">\n     <use xlink:href=\"#C4_0_de53bcea0a\" x=\"25.443844\" y=\"310.835443\" style=\"fill: #fcfbfd\"/>\n    </g>\n    <g clip-path=\"url(#p3f76e865ea)\">\n     <use xlink:href=\"#C4_0_de53bcea0a\" x=\"25.443844\" y=\"298.954451\" style=\"fill: #fcfbfd\"/>\n    </g>\n    <g clip-path=\"url(#p3f76e865ea)\">\n     <use xlink:href=\"#C4_0_de53bcea0a\" x=\"25.443844\" y=\"287.073459\" style=\"fill: #fcfbfd\"/>\n    </g>\n    <g clip-path=\"url(#p3f76e865ea)\">\n     <use xlink:href=\"#C4_0_de53bcea0a\" x=\"25.443844\" y=\"275.192468\" style=\"fill: #fcfbfd\"/>\n    </g>\n    <g clip-path=\"url(#p3f76e865ea)\">\n     <use xlink:href=\"#C4_0_de53bcea0a\" x=\"25.443844\" y=\"263.311476\" style=\"fill: #fcfbfd\"/>\n    </g>\n    <g clip-path=\"url(#p3f76e865ea)\">\n     <use xlink:href=\"#C4_0_de53bcea0a\" x=\"25.443844\" y=\"251.430484\" style=\"fill: #fcfbfd\"/>\n    </g>\n    <g clip-path=\"url(#p3f76e865ea)\">\n     <use xlink:href=\"#C4_0_de53bcea0a\" x=\"25.443844\" y=\"239.549492\" style=\"fill: #fcfbfd\"/>\n    </g>\n    <g clip-path=\"url(#p3f76e865ea)\">\n     <use xlink:href=\"#C4_0_de53bcea0a\" x=\"25.443844\" y=\"227.668501\" style=\"fill: #fcfbfd\"/>\n    </g>\n    <g clip-path=\"url(#p3f76e865ea)\">\n     <use xlink:href=\"#C4_0_de53bcea0a\" x=\"25.443844\" y=\"215.787509\" style=\"fill: #fcfbfd\"/>\n    </g>\n    <g clip-path=\"url(#p3f76e865ea)\">\n     <use xlink:href=\"#C4_0_de53bcea0a\" x=\"25.443844\" y=\"203.906517\" style=\"fill: #fcfbfd\"/>\n    </g>\n    <g clip-path=\"url(#p3f76e865ea)\">\n     <use xlink:href=\"#C4_0_de53bcea0a\" x=\"32.294753\" y=\"322.716435\" style=\"fill: #fcfbfd\"/>\n    </g>\n    <g clip-path=\"url(#p3f76e865ea)\">\n     <use xlink:href=\"#C4_0_de53bcea0a\" x=\"32.294753\" y=\"310.835443\" style=\"fill: #fcfbfd\"/>\n    </g>\n    <g clip-path=\"url(#p3f76e865ea)\">\n     <use xlink:href=\"#C4_0_de53bcea0a\" x=\"32.294753\" y=\"298.954451\" style=\"fill: #fcfbfd\"/>\n    </g>\n    <g clip-path=\"url(#p3f76e865ea)\">\n     <use xlink:href=\"#C4_0_de53bcea0a\" x=\"32.294753\" y=\"287.073459\" style=\"fill: #fcfbfd\"/>\n    </g>\n    <g clip-path=\"url(#p3f76e865ea)\">\n     <use xlink:href=\"#C4_0_de53bcea0a\" x=\"32.294753\" y=\"275.192468\" style=\"fill: #fcfbfd\"/>\n    </g>\n    <g clip-path=\"url(#p3f76e865ea)\">\n     <use xlink:href=\"#C4_0_de53bcea0a\" x=\"32.294753\" y=\"263.311476\" style=\"fill: #fcfbfd\"/>\n    </g>\n    <g clip-path=\"url(#p3f76e865ea)\">\n     <use xlink:href=\"#C4_0_de53bcea0a\" x=\"32.294753\" y=\"251.430484\" style=\"fill: #fcfbfd\"/>\n    </g>\n    <g clip-path=\"url(#p3f76e865ea)\">\n     <use xlink:href=\"#C4_0_de53bcea0a\" x=\"32.294753\" y=\"239.549492\" style=\"fill: #fcfbfd\"/>\n    </g>\n    <g clip-path=\"url(#p3f76e865ea)\">\n     <use xlink:href=\"#C4_0_de53bcea0a\" x=\"32.294753\" y=\"227.668501\" style=\"fill: #fcfbfd\"/>\n    </g>\n    <g clip-path=\"url(#p3f76e865ea)\">\n     <use xlink:href=\"#C4_0_de53bcea0a\" x=\"32.294753\" y=\"215.787509\" style=\"fill: #fcfbfd\"/>\n    </g>\n    <g clip-path=\"url(#p3f76e865ea)\">\n     <use xlink:href=\"#C4_0_de53bcea0a\" x=\"32.294753\" y=\"203.906517\" style=\"fill: #fcfbfd\"/>\n    </g>\n    <g clip-path=\"url(#p3f76e865ea)\">\n     <use xlink:href=\"#C4_0_de53bcea0a\" x=\"39.145662\" y=\"322.716435\" style=\"fill: #fcfbfd\"/>\n    </g>\n    <g clip-path=\"url(#p3f76e865ea)\">\n     <use xlink:href=\"#C4_0_de53bcea0a\" x=\"39.145662\" y=\"310.835443\" style=\"fill: #fcfbfd\"/>\n    </g>\n    <g clip-path=\"url(#p3f76e865ea)\">\n     <use xlink:href=\"#C4_0_de53bcea0a\" x=\"39.145662\" y=\"298.954451\" style=\"fill: #fcfbfd\"/>\n    </g>\n    <g clip-path=\"url(#p3f76e865ea)\">\n     <use xlink:href=\"#C4_0_de53bcea0a\" x=\"39.145662\" y=\"287.073459\" style=\"fill: #fcfbfd\"/>\n    </g>\n    <g clip-path=\"url(#p3f76e865ea)\">\n     <use xlink:href=\"#C4_0_de53bcea0a\" x=\"39.145662\" y=\"275.192468\" style=\"fill: #fcfbfd\"/>\n    </g>\n    <g clip-path=\"url(#p3f76e865ea)\">\n     <use xlink:href=\"#C4_0_de53bcea0a\" x=\"39.145662\" y=\"263.311476\" style=\"fill: #f9f7fb\"/>\n    </g>\n    <g clip-path=\"url(#p3f76e865ea)\">\n     <use xlink:href=\"#C4_0_de53bcea0a\" x=\"39.145662\" y=\"251.430484\" style=\"fill: #fcfbfd\"/>\n    </g>\n    <g clip-path=\"url(#p3f76e865ea)\">\n     <use xlink:href=\"#C4_0_de53bcea0a\" x=\"39.145662\" y=\"239.549492\" style=\"fill: #fcfbfd\"/>\n    </g>\n    <g clip-path=\"url(#p3f76e865ea)\">\n     <use xlink:href=\"#C4_0_de53bcea0a\" x=\"39.145662\" y=\"227.668501\" style=\"fill: #fcfbfd\"/>\n    </g>\n    <g clip-path=\"url(#p3f76e865ea)\">\n     <use xlink:href=\"#C4_0_de53bcea0a\" x=\"39.145662\" y=\"215.787509\" style=\"fill: #fcfbfd\"/>\n    </g>\n    <g clip-path=\"url(#p3f76e865ea)\">\n     <use xlink:href=\"#C4_0_de53bcea0a\" x=\"39.145662\" y=\"203.906517\" style=\"fill: #fcfbfd\"/>\n    </g>\n    <g clip-path=\"url(#p3f76e865ea)\">\n     <use xlink:href=\"#C4_0_de53bcea0a\" x=\"45.996571\" y=\"322.716435\" style=\"fill: #fcfbfd\"/>\n    </g>\n    <g clip-path=\"url(#p3f76e865ea)\">\n     <use xlink:href=\"#C4_0_de53bcea0a\" x=\"45.996571\" y=\"310.835443\" style=\"fill: #fcfbfd\"/>\n    </g>\n    <g clip-path=\"url(#p3f76e865ea)\">\n     <use xlink:href=\"#C4_0_de53bcea0a\" x=\"45.996571\" y=\"298.954451\" style=\"fill: #fcfbfd\"/>\n    </g>\n    <g clip-path=\"url(#p3f76e865ea)\">\n     <use xlink:href=\"#C4_0_de53bcea0a\" x=\"45.996571\" y=\"287.073459\" style=\"fill: #f9f7fb\"/>\n    </g>\n    <g clip-path=\"url(#p3f76e865ea)\">\n     <use xlink:href=\"#C4_0_de53bcea0a\" x=\"45.996571\" y=\"275.192468\" style=\"fill: #f5f4f9\"/>\n    </g>\n    <g clip-path=\"url(#p3f76e865ea)\">\n     <use xlink:href=\"#C4_0_de53bcea0a\" x=\"45.996571\" y=\"263.311476\" style=\"fill: #fcfbfd\"/>\n    </g>\n    <g clip-path=\"url(#p3f76e865ea)\">\n     <use xlink:href=\"#C4_0_de53bcea0a\" x=\"45.996571\" y=\"251.430484\" style=\"fill: #fcfbfd\"/>\n    </g>\n    <g clip-path=\"url(#p3f76e865ea)\">\n     <use xlink:href=\"#C4_0_de53bcea0a\" x=\"45.996571\" y=\"239.549492\" style=\"fill: #fcfbfd\"/>\n    </g>\n    <g clip-path=\"url(#p3f76e865ea)\">\n     <use xlink:href=\"#C4_0_de53bcea0a\" x=\"45.996571\" y=\"227.668501\" style=\"fill: #fcfbfd\"/>\n    </g>\n    <g clip-path=\"url(#p3f76e865ea)\">\n     <use xlink:href=\"#C4_0_de53bcea0a\" x=\"45.996571\" y=\"215.787509\" style=\"fill: #fcfbfd\"/>\n    </g>\n    <g clip-path=\"url(#p3f76e865ea)\">\n     <use xlink:href=\"#C4_0_de53bcea0a\" x=\"45.996571\" y=\"203.906517\" style=\"fill: #fcfbfd\"/>\n    </g>\n    <g clip-path=\"url(#p3f76e865ea)\">\n     <use xlink:href=\"#C4_0_de53bcea0a\" x=\"52.847481\" y=\"322.716435\" style=\"fill: #fcfbfd\"/>\n    </g>\n    <g clip-path=\"url(#p3f76e865ea)\">\n     <use xlink:href=\"#C4_0_de53bcea0a\" x=\"52.847481\" y=\"310.835443\" style=\"fill: #fcfbfd\"/>\n    </g>\n    <g clip-path=\"url(#p3f76e865ea)\">\n     <use xlink:href=\"#C4_0_de53bcea0a\" x=\"52.847481\" y=\"298.954451\" style=\"fill: #f9f7fb\"/>\n    </g>\n    <g clip-path=\"url(#p3f76e865ea)\">\n     <use xlink:href=\"#C4_0_de53bcea0a\" x=\"52.847481\" y=\"287.073459\" style=\"fill: #f5f4f9\"/>\n    </g>\n    <g clip-path=\"url(#p3f76e865ea)\">\n     <use xlink:href=\"#C4_0_de53bcea0a\" x=\"52.847481\" y=\"275.192468\" style=\"fill: #dadaeb\"/>\n    </g>\n    <g clip-path=\"url(#p3f76e865ea)\">\n     <use xlink:href=\"#C4_0_de53bcea0a\" x=\"52.847481\" y=\"263.311476\" style=\"fill: #9e9ac8\"/>\n    </g>\n    <g clip-path=\"url(#p3f76e865ea)\">\n     <use xlink:href=\"#C4_0_de53bcea0a\" x=\"52.847481\" y=\"251.430484\" style=\"fill: #cbcbe3\"/>\n    </g>\n    <g clip-path=\"url(#p3f76e865ea)\">\n     <use xlink:href=\"#C4_0_de53bcea0a\" x=\"52.847481\" y=\"239.549492\" style=\"fill: #d2d2e7\"/>\n    </g>\n    <g clip-path=\"url(#p3f76e865ea)\">\n     <use xlink:href=\"#C4_0_de53bcea0a\" x=\"52.847481\" y=\"227.668501\" style=\"fill: #fcfbfd\"/>\n    </g>\n    <g clip-path=\"url(#p3f76e865ea)\">\n     <use xlink:href=\"#C4_0_de53bcea0a\" x=\"52.847481\" y=\"215.787509\" style=\"fill: #fcfbfd\"/>\n    </g>\n    <g clip-path=\"url(#p3f76e865ea)\">\n     <use xlink:href=\"#C4_0_de53bcea0a\" x=\"52.847481\" y=\"203.906517\" style=\"fill: #fcfbfd\"/>\n    </g>\n    <g clip-path=\"url(#p3f76e865ea)\">\n     <use xlink:href=\"#C4_0_de53bcea0a\" x=\"59.69839\" y=\"322.716435\" style=\"fill: #fcfbfd\"/>\n    </g>\n    <g clip-path=\"url(#p3f76e865ea)\">\n     <use xlink:href=\"#C4_0_de53bcea0a\" x=\"59.69839\" y=\"310.835443\" style=\"fill: #fcfbfd\"/>\n    </g>\n    <g clip-path=\"url(#p3f76e865ea)\">\n     <use xlink:href=\"#C4_0_de53bcea0a\" x=\"59.69839\" y=\"298.954451\" style=\"fill: #f9f7fb\"/>\n    </g>\n    <g clip-path=\"url(#p3f76e865ea)\">\n     <use xlink:href=\"#C4_0_de53bcea0a\" x=\"59.69839\" y=\"287.073459\" style=\"fill: #64459e\"/>\n    </g>\n    <g clip-path=\"url(#p3f76e865ea)\">\n     <use xlink:href=\"#C4_0_de53bcea0a\" x=\"59.69839\" y=\"275.192468\" style=\"fill: #c3c4e0\"/>\n    </g>\n    <g clip-path=\"url(#p3f76e865ea)\">\n     <use xlink:href=\"#C4_0_de53bcea0a\" x=\"59.69839\" y=\"263.311476\" style=\"fill: #e4e3f0\"/>\n    </g>\n    <g clip-path=\"url(#p3f76e865ea)\">\n     <use xlink:href=\"#C4_0_de53bcea0a\" x=\"59.69839\" y=\"251.430484\" style=\"fill: #6f5ba8\"/>\n    </g>\n    <g clip-path=\"url(#p3f76e865ea)\">\n     <use xlink:href=\"#C4_0_de53bcea0a\" x=\"59.69839\" y=\"239.549492\" style=\"fill: #fcfbfd\"/>\n    </g>\n    <g clip-path=\"url(#p3f76e865ea)\">\n     <use xlink:href=\"#C4_0_de53bcea0a\" x=\"59.69839\" y=\"227.668501\" style=\"fill: #fcfbfd\"/>\n    </g>\n    <g clip-path=\"url(#p3f76e865ea)\">\n     <use xlink:href=\"#C4_0_de53bcea0a\" x=\"59.69839\" y=\"215.787509\" style=\"fill: #fcfbfd\"/>\n    </g>\n    <g clip-path=\"url(#p3f76e865ea)\">\n     <use xlink:href=\"#C4_0_de53bcea0a\" x=\"59.69839\" y=\"203.906517\" style=\"fill: #fcfbfd\"/>\n    </g>\n    <g clip-path=\"url(#p3f76e865ea)\">\n     <use xlink:href=\"#C4_0_de53bcea0a\" x=\"66.549299\" y=\"322.716435\" style=\"fill: #fcfbfd\"/>\n    </g>\n    <g clip-path=\"url(#p3f76e865ea)\">\n     <use xlink:href=\"#C4_0_de53bcea0a\" x=\"66.549299\" y=\"310.835443\" style=\"fill: #fcfbfd\"/>\n    </g>\n    <g clip-path=\"url(#p3f76e865ea)\">\n     <use xlink:href=\"#C4_0_de53bcea0a\" x=\"66.549299\" y=\"298.954451\" style=\"fill: #efedf5\"/>\n    </g>\n    <g clip-path=\"url(#p3f76e865ea)\">\n     <use xlink:href=\"#C4_0_de53bcea0a\" x=\"66.549299\" y=\"287.073459\" style=\"fill: #c3c4e0\"/>\n    </g>\n    <g clip-path=\"url(#p3f76e865ea)\">\n     <use xlink:href=\"#C4_0_de53bcea0a\" x=\"66.549299\" y=\"275.192468\" style=\"fill: #807cba\"/>\n    </g>\n    <g clip-path=\"url(#p3f76e865ea)\">\n     <use xlink:href=\"#C4_0_de53bcea0a\" x=\"66.549299\" y=\"263.311476\" style=\"fill: #e4e3f0\"/>\n    </g>\n    <g clip-path=\"url(#p3f76e865ea)\">\n     <use xlink:href=\"#C4_0_de53bcea0a\" x=\"66.549299\" y=\"251.430484\" style=\"fill: #f9f7fb\"/>\n    </g>\n    <g clip-path=\"url(#p3f76e865ea)\">\n     <use xlink:href=\"#C4_0_de53bcea0a\" x=\"66.549299\" y=\"239.549492\" style=\"fill: #fcfbfd\"/>\n    </g>\n    <g clip-path=\"url(#p3f76e865ea)\">\n     <use xlink:href=\"#C4_0_de53bcea0a\" x=\"66.549299\" y=\"227.668501\" style=\"fill: #fcfbfd\"/>\n    </g>\n    <g clip-path=\"url(#p3f76e865ea)\">\n     <use xlink:href=\"#C4_0_de53bcea0a\" x=\"66.549299\" y=\"215.787509\" style=\"fill: #fcfbfd\"/>\n    </g>\n    <g clip-path=\"url(#p3f76e865ea)\">\n     <use xlink:href=\"#C4_0_de53bcea0a\" x=\"66.549299\" y=\"203.906517\" style=\"fill: #fcfbfd\"/>\n    </g>\n    <g clip-path=\"url(#p3f76e865ea)\">\n     <use xlink:href=\"#C4_0_de53bcea0a\" x=\"73.400208\" y=\"322.716435\" style=\"fill: #fcfbfd\"/>\n    </g>\n    <g clip-path=\"url(#p3f76e865ea)\">\n     <use xlink:href=\"#C4_0_de53bcea0a\" x=\"73.400208\" y=\"310.835443\" style=\"fill: #fcfbfd\"/>\n    </g>\n    <g clip-path=\"url(#p3f76e865ea)\">\n     <use xlink:href=\"#C4_0_de53bcea0a\" x=\"73.400208\" y=\"298.954451\" style=\"fill: #9e9ac8\"/>\n    </g>\n    <g clip-path=\"url(#p3f76e865ea)\">\n     <use xlink:href=\"#C4_0_de53bcea0a\" x=\"73.400208\" y=\"287.073459\" style=\"fill: #cbcbe3\"/>\n    </g>\n    <g clip-path=\"url(#p3f76e865ea)\">\n     <use xlink:href=\"#C4_0_de53bcea0a\" x=\"73.400208\" y=\"275.192468\" style=\"fill: #bcbddc\"/>\n    </g>\n    <g clip-path=\"url(#p3f76e865ea)\">\n     <use xlink:href=\"#C4_0_de53bcea0a\" x=\"73.400208\" y=\"263.311476\" style=\"fill: #eae8f2\"/>\n    </g>\n    <g clip-path=\"url(#p3f76e865ea)\">\n     <use xlink:href=\"#C4_0_de53bcea0a\" x=\"73.400208\" y=\"251.430484\" style=\"fill: #f9f7fb\"/>\n    </g>\n    <g clip-path=\"url(#p3f76e865ea)\">\n     <use xlink:href=\"#C4_0_de53bcea0a\" x=\"73.400208\" y=\"239.549492\" style=\"fill: #fcfbfd\"/>\n    </g>\n    <g clip-path=\"url(#p3f76e865ea)\">\n     <use xlink:href=\"#C4_0_de53bcea0a\" x=\"73.400208\" y=\"227.668501\" style=\"fill: #fcfbfd\"/>\n    </g>\n    <g clip-path=\"url(#p3f76e865ea)\">\n     <use xlink:href=\"#C4_0_de53bcea0a\" x=\"73.400208\" y=\"215.787509\" style=\"fill: #fcfbfd\"/>\n    </g>\n    <g clip-path=\"url(#p3f76e865ea)\">\n     <use xlink:href=\"#C4_0_de53bcea0a\" x=\"73.400208\" y=\"203.906517\" style=\"fill: #fcfbfd\"/>\n    </g>\n    <g clip-path=\"url(#p3f76e865ea)\">\n     <use xlink:href=\"#C4_0_de53bcea0a\" x=\"80.251117\" y=\"322.716435\" style=\"fill: #fcfbfd\"/>\n    </g>\n    <g clip-path=\"url(#p3f76e865ea)\">\n     <use xlink:href=\"#C4_0_de53bcea0a\" x=\"80.251117\" y=\"310.835443\" style=\"fill: #fcfbfd\"/>\n    </g>\n    <g clip-path=\"url(#p3f76e865ea)\">\n     <use xlink:href=\"#C4_0_de53bcea0a\" x=\"80.251117\" y=\"298.954451\" style=\"fill: #9e9ac8\"/>\n    </g>\n    <g clip-path=\"url(#p3f76e865ea)\">\n     <use xlink:href=\"#C4_0_de53bcea0a\" x=\"80.251117\" y=\"287.073459\" style=\"fill: #adabd2\"/>\n    </g>\n    <g clip-path=\"url(#p3f76e865ea)\">\n     <use xlink:href=\"#C4_0_de53bcea0a\" x=\"80.251117\" y=\"275.192468\" style=\"fill: #dadaeb\"/>\n    </g>\n    <g clip-path=\"url(#p3f76e865ea)\">\n     <use xlink:href=\"#C4_0_de53bcea0a\" x=\"80.251117\" y=\"263.311476\" style=\"fill: #efedf5\"/>\n    </g>\n    <g clip-path=\"url(#p3f76e865ea)\">\n     <use xlink:href=\"#C4_0_de53bcea0a\" x=\"80.251117\" y=\"251.430484\" style=\"fill: #fcfbfd\"/>\n    </g>\n    <g clip-path=\"url(#p3f76e865ea)\">\n     <use xlink:href=\"#C4_0_de53bcea0a\" x=\"80.251117\" y=\"239.549492\" style=\"fill: #fcfbfd\"/>\n    </g>\n    <g clip-path=\"url(#p3f76e865ea)\">\n     <use xlink:href=\"#C4_0_de53bcea0a\" x=\"80.251117\" y=\"227.668501\" style=\"fill: #fcfbfd\"/>\n    </g>\n    <g clip-path=\"url(#p3f76e865ea)\">\n     <use xlink:href=\"#C4_0_de53bcea0a\" x=\"80.251117\" y=\"215.787509\" style=\"fill: #fcfbfd\"/>\n    </g>\n    <g clip-path=\"url(#p3f76e865ea)\">\n     <use xlink:href=\"#C4_0_de53bcea0a\" x=\"80.251117\" y=\"203.906517\" style=\"fill: #fcfbfd\"/>\n    </g>\n   </g>\n   <g id=\"matplotlib.axis_9\"/>\n   <g id=\"matplotlib.axis_10\"/>\n   <g id=\"patch_23\">\n    <path d=\"M 170.88 341.42175 \nL 170.88 197.66175 \n\" style=\"fill: none; stroke: #000000; stroke-width: 0.8; stroke-linejoin: miter; stroke-linecap: square\"/>\n   </g>\n   <g id=\"patch_24\">\n    <path d=\"M 321.6 341.42175 \nL 321.6 197.66175 \n\" style=\"fill: none; stroke: #000000; stroke-width: 0.8; stroke-linejoin: miter; stroke-linecap: square\"/>\n   </g>\n   <g id=\"patch_25\">\n    <path d=\"M 170.88 341.42175 \nL 321.6 341.42175 \n\" style=\"fill: none; stroke: #000000; stroke-width: 0.8; stroke-linejoin: miter; stroke-linecap: square\"/>\n   </g>\n   <g id=\"patch_26\">\n    <path d=\"M 170.88 197.66175 \nL 321.6 197.66175 \n\" style=\"fill: none; stroke: #000000; stroke-width: 0.8; stroke-linejoin: miter; stroke-linecap: square\"/>\n   </g>\n   <g id=\"text_5\">\n    <!-- fear -->\n    <g transform=\"translate(231.903 191.66175) scale(0.144 -0.144)\">\n     <defs>\n      <path id=\"DejaVuSans-66\" d=\"M 2375 4863 \nL 2375 4384 \nL 1825 4384 \nQ 1516 4384 1395 4259 \nQ 1275 4134 1275 3809 \nL 1275 3500 \nL 2222 3500 \nL 2222 3053 \nL 1275 3053 \nL 1275 0 \nL 697 0 \nL 697 3053 \nL 147 3053 \nL 147 3500 \nL 697 3500 \nL 697 3744 \nQ 697 4328 969 4595 \nQ 1241 4863 1831 4863 \nL 2375 4863 \nz\n\" transform=\"scale(0.015625)\"/>\n     </defs>\n     <use xlink:href=\"#DejaVuSans-66\"/>\n     <use xlink:href=\"#DejaVuSans-65\" x=\"35.205078\"/>\n     <use xlink:href=\"#DejaVuSans-61\" x=\"96.728516\"/>\n     <use xlink:href=\"#DejaVuSans-72\" x=\"158.007812\"/>\n    </g>\n   </g>\n  </g>\n  <g id=\"axes_6\">\n   <g id=\"patch_27\">\n    <path d=\"M 334.56 341.42175 \nL 485.28 341.42175 \nL 485.28 197.66175 \nL 334.56 197.66175 \nz\n\" style=\"fill: #ffffff\"/>\n   </g>\n   <g id=\"PolyCollection_6\">\n    <defs>\n     <path id=\"C5_0_0b12c353b2\" d=\"M 398.542402 10.375233 \nL 398.542402 6.414903 \nL 395.116947 4.434737 \nL 391.691493 6.414903 \nL 391.691493 10.375233 \nL 395.116947 12.355398 \nz\n\"/>\n    </defs>\n    <g clip-path=\"url(#p6fbc75f360)\">\n     <use xlink:href=\"#C5_0_0b12c353b2\" x=\"-53.706038\" y=\"326.492137\" style=\"fill: #f7fcf5\"/>\n    </g>\n    <g clip-path=\"url(#p6fbc75f360)\">\n     <use xlink:href=\"#C5_0_0b12c353b2\" x=\"-53.706038\" y=\"314.611145\" style=\"fill: #f7fcf5\"/>\n    </g>\n    <g clip-path=\"url(#p6fbc75f360)\">\n     <use xlink:href=\"#C5_0_0b12c353b2\" x=\"-53.706038\" y=\"302.730153\" style=\"fill: #f7fcf5\"/>\n    </g>\n    <g clip-path=\"url(#p6fbc75f360)\">\n     <use xlink:href=\"#C5_0_0b12c353b2\" x=\"-53.706038\" y=\"290.849161\" style=\"fill: #f7fcf5\"/>\n    </g>\n    <g clip-path=\"url(#p6fbc75f360)\">\n     <use xlink:href=\"#C5_0_0b12c353b2\" x=\"-53.706038\" y=\"278.96817\" style=\"fill: #f7fcf5\"/>\n    </g>\n    <g clip-path=\"url(#p6fbc75f360)\">\n     <use xlink:href=\"#C5_0_0b12c353b2\" x=\"-53.706038\" y=\"267.087178\" style=\"fill: #d8f0d2\"/>\n    </g>\n    <g clip-path=\"url(#p6fbc75f360)\">\n     <use xlink:href=\"#C5_0_0b12c353b2\" x=\"-53.706038\" y=\"255.206186\" style=\"fill: #eaf7e6\"/>\n    </g>\n    <g clip-path=\"url(#p6fbc75f360)\">\n     <use xlink:href=\"#C5_0_0b12c353b2\" x=\"-53.706038\" y=\"243.325195\" style=\"fill: #eaf7e6\"/>\n    </g>\n    <g clip-path=\"url(#p6fbc75f360)\">\n     <use xlink:href=\"#C5_0_0b12c353b2\" x=\"-53.706038\" y=\"231.444203\" style=\"fill: #f7fcf5\"/>\n    </g>\n    <g clip-path=\"url(#p6fbc75f360)\">\n     <use xlink:href=\"#C5_0_0b12c353b2\" x=\"-53.706038\" y=\"219.563211\" style=\"fill: #f7fcf5\"/>\n    </g>\n    <g clip-path=\"url(#p6fbc75f360)\">\n     <use xlink:href=\"#C5_0_0b12c353b2\" x=\"-53.706038\" y=\"207.682219\" style=\"fill: #f7fcf5\"/>\n    </g>\n    <g clip-path=\"url(#p6fbc75f360)\">\n     <use xlink:href=\"#C5_0_0b12c353b2\" x=\"-53.706038\" y=\"195.801228\" style=\"fill: #f7fcf5\"/>\n    </g>\n    <g clip-path=\"url(#p6fbc75f360)\">\n     <use xlink:href=\"#C5_0_0b12c353b2\" x=\"-46.855129\" y=\"326.492137\" style=\"fill: #f7fcf5\"/>\n    </g>\n    <g clip-path=\"url(#p6fbc75f360)\">\n     <use xlink:href=\"#C5_0_0b12c353b2\" x=\"-46.855129\" y=\"314.611145\" style=\"fill: #f7fcf5\"/>\n    </g>\n    <g clip-path=\"url(#p6fbc75f360)\">\n     <use xlink:href=\"#C5_0_0b12c353b2\" x=\"-46.855129\" y=\"302.730153\" style=\"fill: #f7fcf5\"/>\n    </g>\n    <g clip-path=\"url(#p6fbc75f360)\">\n     <use xlink:href=\"#C5_0_0b12c353b2\" x=\"-46.855129\" y=\"290.849161\" style=\"fill: #f7fcf5\"/>\n    </g>\n    <g clip-path=\"url(#p6fbc75f360)\">\n     <use xlink:href=\"#C5_0_0b12c353b2\" x=\"-46.855129\" y=\"278.96817\" style=\"fill: #62bb6d\"/>\n    </g>\n    <g clip-path=\"url(#p6fbc75f360)\">\n     <use xlink:href=\"#C5_0_0b12c353b2\" x=\"-46.855129\" y=\"267.087178\" style=\"fill: #107a37\"/>\n    </g>\n    <g clip-path=\"url(#p6fbc75f360)\">\n     <use xlink:href=\"#C5_0_0b12c353b2\" x=\"-46.855129\" y=\"255.206186\" style=\"fill: #eaf7e6\"/>\n    </g>\n    <g clip-path=\"url(#p6fbc75f360)\">\n     <use xlink:href=\"#C5_0_0b12c353b2\" x=\"-46.855129\" y=\"243.325195\" style=\"fill: #d8f0d2\"/>\n    </g>\n    <g clip-path=\"url(#p6fbc75f360)\">\n     <use xlink:href=\"#C5_0_0b12c353b2\" x=\"-46.855129\" y=\"231.444203\" style=\"fill: #f7fcf5\"/>\n    </g>\n    <g clip-path=\"url(#p6fbc75f360)\">\n     <use xlink:href=\"#C5_0_0b12c353b2\" x=\"-46.855129\" y=\"219.563211\" style=\"fill: #f7fcf5\"/>\n    </g>\n    <g clip-path=\"url(#p6fbc75f360)\">\n     <use xlink:href=\"#C5_0_0b12c353b2\" x=\"-46.855129\" y=\"207.682219\" style=\"fill: #f7fcf5\"/>\n    </g>\n    <g clip-path=\"url(#p6fbc75f360)\">\n     <use xlink:href=\"#C5_0_0b12c353b2\" x=\"-46.855129\" y=\"195.801228\" style=\"fill: #f7fcf5\"/>\n    </g>\n    <g clip-path=\"url(#p6fbc75f360)\">\n     <use xlink:href=\"#C5_0_0b12c353b2\" x=\"-40.00422\" y=\"326.492137\" style=\"fill: #f7fcf5\"/>\n    </g>\n    <g clip-path=\"url(#p6fbc75f360)\">\n     <use xlink:href=\"#C5_0_0b12c353b2\" x=\"-40.00422\" y=\"314.611145\" style=\"fill: #f7fcf5\"/>\n    </g>\n    <g clip-path=\"url(#p6fbc75f360)\">\n     <use xlink:href=\"#C5_0_0b12c353b2\" x=\"-40.00422\" y=\"302.730153\" style=\"fill: #d8f0d2\"/>\n    </g>\n    <g clip-path=\"url(#p6fbc75f360)\">\n     <use xlink:href=\"#C5_0_0b12c353b2\" x=\"-40.00422\" y=\"290.849161\" style=\"fill: #c1e6ba\"/>\n    </g>\n    <g clip-path=\"url(#p6fbc75f360)\">\n     <use xlink:href=\"#C5_0_0b12c353b2\" x=\"-40.00422\" y=\"278.96817\" style=\"fill: #c1e6ba\"/>\n    </g>\n    <g clip-path=\"url(#p6fbc75f360)\">\n     <use xlink:href=\"#C5_0_0b12c353b2\" x=\"-40.00422\" y=\"267.087178\" style=\"fill: #00441b\"/>\n    </g>\n    <g clip-path=\"url(#p6fbc75f360)\">\n     <use xlink:href=\"#C5_0_0b12c353b2\" x=\"-40.00422\" y=\"255.206186\" style=\"fill: #d8f0d2\"/>\n    </g>\n    <g clip-path=\"url(#p6fbc75f360)\">\n     <use xlink:href=\"#C5_0_0b12c353b2\" x=\"-40.00422\" y=\"243.325195\" style=\"fill: #c1e6ba\"/>\n    </g>\n    <g clip-path=\"url(#p6fbc75f360)\">\n     <use xlink:href=\"#C5_0_0b12c353b2\" x=\"-40.00422\" y=\"231.444203\" style=\"fill: #d8f0d2\"/>\n    </g>\n    <g clip-path=\"url(#p6fbc75f360)\">\n     <use xlink:href=\"#C5_0_0b12c353b2\" x=\"-40.00422\" y=\"219.563211\" style=\"fill: #f7fcf5\"/>\n    </g>\n    <g clip-path=\"url(#p6fbc75f360)\">\n     <use xlink:href=\"#C5_0_0b12c353b2\" x=\"-40.00422\" y=\"207.682219\" style=\"fill: #f7fcf5\"/>\n    </g>\n    <g clip-path=\"url(#p6fbc75f360)\">\n     <use xlink:href=\"#C5_0_0b12c353b2\" x=\"-40.00422\" y=\"195.801228\" style=\"fill: #f7fcf5\"/>\n    </g>\n    <g clip-path=\"url(#p6fbc75f360)\">\n     <use xlink:href=\"#C5_0_0b12c353b2\" x=\"-33.153311\" y=\"326.492137\" style=\"fill: #f7fcf5\"/>\n    </g>\n    <g clip-path=\"url(#p6fbc75f360)\">\n     <use xlink:href=\"#C5_0_0b12c353b2\" x=\"-33.153311\" y=\"314.611145\" style=\"fill: #f7fcf5\"/>\n    </g>\n    <g clip-path=\"url(#p6fbc75f360)\">\n     <use xlink:href=\"#C5_0_0b12c353b2\" x=\"-33.153311\" y=\"302.730153\" style=\"fill: #eaf7e6\"/>\n    </g>\n    <g clip-path=\"url(#p6fbc75f360)\">\n     <use xlink:href=\"#C5_0_0b12c353b2\" x=\"-33.153311\" y=\"290.849161\" style=\"fill: #a4da9e\"/>\n    </g>\n    <g clip-path=\"url(#p6fbc75f360)\">\n     <use xlink:href=\"#C5_0_0b12c353b2\" x=\"-33.153311\" y=\"278.96817\" style=\"fill: #62bb6d\"/>\n    </g>\n    <g clip-path=\"url(#p6fbc75f360)\">\n     <use xlink:href=\"#C5_0_0b12c353b2\" x=\"-33.153311\" y=\"267.087178\" style=\"fill: #00441b\"/>\n    </g>\n    <g clip-path=\"url(#p6fbc75f360)\">\n     <use xlink:href=\"#C5_0_0b12c353b2\" x=\"-33.153311\" y=\"255.206186\" style=\"fill: #a4da9e\"/>\n    </g>\n    <g clip-path=\"url(#p6fbc75f360)\">\n     <use xlink:href=\"#C5_0_0b12c353b2\" x=\"-33.153311\" y=\"243.325195\" style=\"fill: #84cc83\"/>\n    </g>\n    <g clip-path=\"url(#p6fbc75f360)\">\n     <use xlink:href=\"#C5_0_0b12c353b2\" x=\"-33.153311\" y=\"231.444203\" style=\"fill: #d8f0d2\"/>\n    </g>\n    <g clip-path=\"url(#p6fbc75f360)\">\n     <use xlink:href=\"#C5_0_0b12c353b2\" x=\"-33.153311\" y=\"219.563211\" style=\"fill: #f7fcf5\"/>\n    </g>\n    <g clip-path=\"url(#p6fbc75f360)\">\n     <use xlink:href=\"#C5_0_0b12c353b2\" x=\"-33.153311\" y=\"207.682219\" style=\"fill: #f7fcf5\"/>\n    </g>\n    <g clip-path=\"url(#p6fbc75f360)\">\n     <use xlink:href=\"#C5_0_0b12c353b2\" x=\"-33.153311\" y=\"195.801228\" style=\"fill: #f7fcf5\"/>\n    </g>\n    <g clip-path=\"url(#p6fbc75f360)\">\n     <use xlink:href=\"#C5_0_0b12c353b2\" x=\"-26.302402\" y=\"326.492137\" style=\"fill: #f7fcf5\"/>\n    </g>\n    <g clip-path=\"url(#p6fbc75f360)\">\n     <use xlink:href=\"#C5_0_0b12c353b2\" x=\"-26.302402\" y=\"314.611145\" style=\"fill: #f7fcf5\"/>\n    </g>\n    <g clip-path=\"url(#p6fbc75f360)\">\n     <use xlink:href=\"#C5_0_0b12c353b2\" x=\"-26.302402\" y=\"302.730153\" style=\"fill: #eaf7e6\"/>\n    </g>\n    <g clip-path=\"url(#p6fbc75f360)\">\n     <use xlink:href=\"#C5_0_0b12c353b2\" x=\"-26.302402\" y=\"290.849161\" style=\"fill: #62bb6d\"/>\n    </g>\n    <g clip-path=\"url(#p6fbc75f360)\">\n     <use xlink:href=\"#C5_0_0b12c353b2\" x=\"-26.302402\" y=\"278.96817\" style=\"fill: #3fa85b\"/>\n    </g>\n    <g clip-path=\"url(#p6fbc75f360)\">\n     <use xlink:href=\"#C5_0_0b12c353b2\" x=\"-26.302402\" y=\"267.087178\" style=\"fill: #c1e6ba\"/>\n    </g>\n    <g clip-path=\"url(#p6fbc75f360)\">\n     <use xlink:href=\"#C5_0_0b12c353b2\" x=\"-26.302402\" y=\"255.206186\" style=\"fill: #d8f0d2\"/>\n    </g>\n    <g clip-path=\"url(#p6fbc75f360)\">\n     <use xlink:href=\"#C5_0_0b12c353b2\" x=\"-26.302402\" y=\"243.325195\" style=\"fill: #a4da9e\"/>\n    </g>\n    <g clip-path=\"url(#p6fbc75f360)\">\n     <use xlink:href=\"#C5_0_0b12c353b2\" x=\"-26.302402\" y=\"231.444203\" style=\"fill: #f7fcf5\"/>\n    </g>\n    <g clip-path=\"url(#p6fbc75f360)\">\n     <use xlink:href=\"#C5_0_0b12c353b2\" x=\"-26.302402\" y=\"219.563211\" style=\"fill: #eaf7e6\"/>\n    </g>\n    <g clip-path=\"url(#p6fbc75f360)\">\n     <use xlink:href=\"#C5_0_0b12c353b2\" x=\"-26.302402\" y=\"207.682219\" style=\"fill: #f7fcf5\"/>\n    </g>\n    <g clip-path=\"url(#p6fbc75f360)\">\n     <use xlink:href=\"#C5_0_0b12c353b2\" x=\"-26.302402\" y=\"195.801228\" style=\"fill: #f7fcf5\"/>\n    </g>\n    <g clip-path=\"url(#p6fbc75f360)\">\n     <use xlink:href=\"#C5_0_0b12c353b2\" x=\"-19.451493\" y=\"326.492137\" style=\"fill: #f7fcf5\"/>\n    </g>\n    <g clip-path=\"url(#p6fbc75f360)\">\n     <use xlink:href=\"#C5_0_0b12c353b2\" x=\"-19.451493\" y=\"314.611145\" style=\"fill: #c1e6ba\"/>\n    </g>\n    <g clip-path=\"url(#p6fbc75f360)\">\n     <use xlink:href=\"#C5_0_0b12c353b2\" x=\"-19.451493\" y=\"302.730153\" style=\"fill: #eaf7e6\"/>\n    </g>\n    <g clip-path=\"url(#p6fbc75f360)\">\n     <use xlink:href=\"#C5_0_0b12c353b2\" x=\"-19.451493\" y=\"290.849161\" style=\"fill: #d8f0d2\"/>\n    </g>\n    <g clip-path=\"url(#p6fbc75f360)\">\n     <use xlink:href=\"#C5_0_0b12c353b2\" x=\"-19.451493\" y=\"278.96817\" style=\"fill: #d8f0d2\"/>\n    </g>\n    <g clip-path=\"url(#p6fbc75f360)\">\n     <use xlink:href=\"#C5_0_0b12c353b2\" x=\"-19.451493\" y=\"267.087178\" style=\"fill: #eaf7e6\"/>\n    </g>\n    <g clip-path=\"url(#p6fbc75f360)\">\n     <use xlink:href=\"#C5_0_0b12c353b2\" x=\"-19.451493\" y=\"255.206186\" style=\"fill: #84cc83\"/>\n    </g>\n    <g clip-path=\"url(#p6fbc75f360)\">\n     <use xlink:href=\"#C5_0_0b12c353b2\" x=\"-19.451493\" y=\"243.325195\" style=\"fill: #c1e6ba\"/>\n    </g>\n    <g clip-path=\"url(#p6fbc75f360)\">\n     <use xlink:href=\"#C5_0_0b12c353b2\" x=\"-19.451493\" y=\"231.444203\" style=\"fill: #d8f0d2\"/>\n    </g>\n    <g clip-path=\"url(#p6fbc75f360)\">\n     <use xlink:href=\"#C5_0_0b12c353b2\" x=\"-19.451493\" y=\"219.563211\" style=\"fill: #eaf7e6\"/>\n    </g>\n    <g clip-path=\"url(#p6fbc75f360)\">\n     <use xlink:href=\"#C5_0_0b12c353b2\" x=\"-19.451493\" y=\"207.682219\" style=\"fill: #eaf7e6\"/>\n    </g>\n    <g clip-path=\"url(#p6fbc75f360)\">\n     <use xlink:href=\"#C5_0_0b12c353b2\" x=\"-19.451493\" y=\"195.801228\" style=\"fill: #eaf7e6\"/>\n    </g>\n    <g clip-path=\"url(#p6fbc75f360)\">\n     <use xlink:href=\"#C5_0_0b12c353b2\" x=\"-12.600583\" y=\"326.492137\" style=\"fill: #f7fcf5\"/>\n    </g>\n    <g clip-path=\"url(#p6fbc75f360)\">\n     <use xlink:href=\"#C5_0_0b12c353b2\" x=\"-12.600583\" y=\"314.611145\" style=\"fill: #f7fcf5\"/>\n    </g>\n    <g clip-path=\"url(#p6fbc75f360)\">\n     <use xlink:href=\"#C5_0_0b12c353b2\" x=\"-12.600583\" y=\"302.730153\" style=\"fill: #84cc83\"/>\n    </g>\n    <g clip-path=\"url(#p6fbc75f360)\">\n     <use xlink:href=\"#C5_0_0b12c353b2\" x=\"-12.600583\" y=\"290.849161\" style=\"fill: #eaf7e6\"/>\n    </g>\n    <g clip-path=\"url(#p6fbc75f360)\">\n     <use xlink:href=\"#C5_0_0b12c353b2\" x=\"-12.600583\" y=\"278.96817\" style=\"fill: #a4da9e\"/>\n    </g>\n    <g clip-path=\"url(#p6fbc75f360)\">\n     <use xlink:href=\"#C5_0_0b12c353b2\" x=\"-12.600583\" y=\"267.087178\" style=\"fill: #eaf7e6\"/>\n    </g>\n    <g clip-path=\"url(#p6fbc75f360)\">\n     <use xlink:href=\"#C5_0_0b12c353b2\" x=\"-12.600583\" y=\"255.206186\" style=\"fill: #d8f0d2\"/>\n    </g>\n    <g clip-path=\"url(#p6fbc75f360)\">\n     <use xlink:href=\"#C5_0_0b12c353b2\" x=\"-12.600583\" y=\"243.325195\" style=\"fill: #d8f0d2\"/>\n    </g>\n    <g clip-path=\"url(#p6fbc75f360)\">\n     <use xlink:href=\"#C5_0_0b12c353b2\" x=\"-12.600583\" y=\"231.444203\" style=\"fill: #d8f0d2\"/>\n    </g>\n    <g clip-path=\"url(#p6fbc75f360)\">\n     <use xlink:href=\"#C5_0_0b12c353b2\" x=\"-12.600583\" y=\"219.563211\" style=\"fill: #c1e6ba\"/>\n    </g>\n    <g clip-path=\"url(#p6fbc75f360)\">\n     <use xlink:href=\"#C5_0_0b12c353b2\" x=\"-12.600583\" y=\"207.682219\" style=\"fill: #c1e6ba\"/>\n    </g>\n    <g clip-path=\"url(#p6fbc75f360)\">\n     <use xlink:href=\"#C5_0_0b12c353b2\" x=\"-12.600583\" y=\"195.801228\" style=\"fill: #a4da9e\"/>\n    </g>\n    <g clip-path=\"url(#p6fbc75f360)\">\n     <use xlink:href=\"#C5_0_0b12c353b2\" x=\"-5.749674\" y=\"326.492137\" style=\"fill: #f7fcf5\"/>\n    </g>\n    <g clip-path=\"url(#p6fbc75f360)\">\n     <use xlink:href=\"#C5_0_0b12c353b2\" x=\"-5.749674\" y=\"314.611145\" style=\"fill: #eaf7e6\"/>\n    </g>\n    <g clip-path=\"url(#p6fbc75f360)\">\n     <use xlink:href=\"#C5_0_0b12c353b2\" x=\"-5.749674\" y=\"302.730153\" style=\"fill: #eaf7e6\"/>\n    </g>\n    <g clip-path=\"url(#p6fbc75f360)\">\n     <use xlink:href=\"#C5_0_0b12c353b2\" x=\"-5.749674\" y=\"290.849161\" style=\"fill: #a4da9e\"/>\n    </g>\n    <g clip-path=\"url(#p6fbc75f360)\">\n     <use xlink:href=\"#C5_0_0b12c353b2\" x=\"-5.749674\" y=\"278.96817\" style=\"fill: #d8f0d2\"/>\n    </g>\n    <g clip-path=\"url(#p6fbc75f360)\">\n     <use xlink:href=\"#C5_0_0b12c353b2\" x=\"-5.749674\" y=\"267.087178\" style=\"fill: #a4da9e\"/>\n    </g>\n    <g clip-path=\"url(#p6fbc75f360)\">\n     <use xlink:href=\"#C5_0_0b12c353b2\" x=\"-5.749674\" y=\"255.206186\" style=\"fill: #289049\"/>\n    </g>\n    <g clip-path=\"url(#p6fbc75f360)\">\n     <use xlink:href=\"#C5_0_0b12c353b2\" x=\"-5.749674\" y=\"243.325195\" style=\"fill: #f7fcf5\"/>\n    </g>\n    <g clip-path=\"url(#p6fbc75f360)\">\n     <use xlink:href=\"#C5_0_0b12c353b2\" x=\"-5.749674\" y=\"231.444203\" style=\"fill: #a4da9e\"/>\n    </g>\n    <g clip-path=\"url(#p6fbc75f360)\">\n     <use xlink:href=\"#C5_0_0b12c353b2\" x=\"-5.749674\" y=\"219.563211\" style=\"fill: #289049\"/>\n    </g>\n    <g clip-path=\"url(#p6fbc75f360)\">\n     <use xlink:href=\"#C5_0_0b12c353b2\" x=\"-5.749674\" y=\"207.682219\" style=\"fill: #a4da9e\"/>\n    </g>\n    <g clip-path=\"url(#p6fbc75f360)\">\n     <use xlink:href=\"#C5_0_0b12c353b2\" x=\"-5.749674\" y=\"195.801228\" style=\"fill: #f7fcf5\"/>\n    </g>\n    <g clip-path=\"url(#p6fbc75f360)\">\n     <use xlink:href=\"#C5_0_0b12c353b2\" x=\"1.101235\" y=\"326.492137\" style=\"fill: #f7fcf5\"/>\n    </g>\n    <g clip-path=\"url(#p6fbc75f360)\">\n     <use xlink:href=\"#C5_0_0b12c353b2\" x=\"1.101235\" y=\"314.611145\" style=\"fill: #eaf7e6\"/>\n    </g>\n    <g clip-path=\"url(#p6fbc75f360)\">\n     <use xlink:href=\"#C5_0_0b12c353b2\" x=\"1.101235\" y=\"302.730153\" style=\"fill: #eaf7e6\"/>\n    </g>\n    <g clip-path=\"url(#p6fbc75f360)\">\n     <use xlink:href=\"#C5_0_0b12c353b2\" x=\"1.101235\" y=\"290.849161\" style=\"fill: #62bb6d\"/>\n    </g>\n    <g clip-path=\"url(#p6fbc75f360)\">\n     <use xlink:href=\"#C5_0_0b12c353b2\" x=\"1.101235\" y=\"278.96817\" style=\"fill: #84cc83\"/>\n    </g>\n    <g clip-path=\"url(#p6fbc75f360)\">\n     <use xlink:href=\"#C5_0_0b12c353b2\" x=\"1.101235\" y=\"267.087178\" style=\"fill: #eaf7e6\"/>\n    </g>\n    <g clip-path=\"url(#p6fbc75f360)\">\n     <use xlink:href=\"#C5_0_0b12c353b2\" x=\"1.101235\" y=\"255.206186\" style=\"fill: #c1e6ba\"/>\n    </g>\n    <g clip-path=\"url(#p6fbc75f360)\">\n     <use xlink:href=\"#C5_0_0b12c353b2\" x=\"1.101235\" y=\"243.325195\" style=\"fill: #eaf7e6\"/>\n    </g>\n    <g clip-path=\"url(#p6fbc75f360)\">\n     <use xlink:href=\"#C5_0_0b12c353b2\" x=\"1.101235\" y=\"231.444203\" style=\"fill: #a4da9e\"/>\n    </g>\n    <g clip-path=\"url(#p6fbc75f360)\">\n     <use xlink:href=\"#C5_0_0b12c353b2\" x=\"1.101235\" y=\"219.563211\" style=\"fill: #a4da9e\"/>\n    </g>\n    <g clip-path=\"url(#p6fbc75f360)\">\n     <use xlink:href=\"#C5_0_0b12c353b2\" x=\"1.101235\" y=\"207.682219\" style=\"fill: #eaf7e6\"/>\n    </g>\n    <g clip-path=\"url(#p6fbc75f360)\">\n     <use xlink:href=\"#C5_0_0b12c353b2\" x=\"1.101235\" y=\"195.801228\" style=\"fill: #f7fcf5\"/>\n    </g>\n    <g clip-path=\"url(#p6fbc75f360)\">\n     <use xlink:href=\"#C5_0_0b12c353b2\" x=\"7.952144\" y=\"326.492137\" style=\"fill: #d8f0d2\"/>\n    </g>\n    <g clip-path=\"url(#p6fbc75f360)\">\n     <use xlink:href=\"#C5_0_0b12c353b2\" x=\"7.952144\" y=\"314.611145\" style=\"fill: #eaf7e6\"/>\n    </g>\n    <g clip-path=\"url(#p6fbc75f360)\">\n     <use xlink:href=\"#C5_0_0b12c353b2\" x=\"7.952144\" y=\"302.730153\" style=\"fill: #f7fcf5\"/>\n    </g>\n    <g clip-path=\"url(#p6fbc75f360)\">\n     <use xlink:href=\"#C5_0_0b12c353b2\" x=\"7.952144\" y=\"290.849161\" style=\"fill: #d8f0d2\"/>\n    </g>\n    <g clip-path=\"url(#p6fbc75f360)\">\n     <use xlink:href=\"#C5_0_0b12c353b2\" x=\"7.952144\" y=\"278.96817\" style=\"fill: #d8f0d2\"/>\n    </g>\n    <g clip-path=\"url(#p6fbc75f360)\">\n     <use xlink:href=\"#C5_0_0b12c353b2\" x=\"7.952144\" y=\"267.087178\" style=\"fill: #f7fcf5\"/>\n    </g>\n    <g clip-path=\"url(#p6fbc75f360)\">\n     <use xlink:href=\"#C5_0_0b12c353b2\" x=\"7.952144\" y=\"255.206186\" style=\"fill: #c1e6ba\"/>\n    </g>\n    <g clip-path=\"url(#p6fbc75f360)\">\n     <use xlink:href=\"#C5_0_0b12c353b2\" x=\"7.952144\" y=\"243.325195\" style=\"fill: #c1e6ba\"/>\n    </g>\n    <g clip-path=\"url(#p6fbc75f360)\">\n     <use xlink:href=\"#C5_0_0b12c353b2\" x=\"7.952144\" y=\"231.444203\" style=\"fill: #f7fcf5\"/>\n    </g>\n    <g clip-path=\"url(#p6fbc75f360)\">\n     <use xlink:href=\"#C5_0_0b12c353b2\" x=\"7.952144\" y=\"219.563211\" style=\"fill: #f7fcf5\"/>\n    </g>\n    <g clip-path=\"url(#p6fbc75f360)\">\n     <use xlink:href=\"#C5_0_0b12c353b2\" x=\"7.952144\" y=\"207.682219\" style=\"fill: #f7fcf5\"/>\n    </g>\n    <g clip-path=\"url(#p6fbc75f360)\">\n     <use xlink:href=\"#C5_0_0b12c353b2\" x=\"7.952144\" y=\"195.801228\" style=\"fill: #f7fcf5\"/>\n    </g>\n    <g clip-path=\"url(#p6fbc75f360)\">\n     <use xlink:href=\"#C5_0_0b12c353b2\" x=\"14.803053\" y=\"326.492137\" style=\"fill: #f7fcf5\"/>\n    </g>\n    <g clip-path=\"url(#p6fbc75f360)\">\n     <use xlink:href=\"#C5_0_0b12c353b2\" x=\"14.803053\" y=\"314.611145\" style=\"fill: #f7fcf5\"/>\n    </g>\n    <g clip-path=\"url(#p6fbc75f360)\">\n     <use xlink:href=\"#C5_0_0b12c353b2\" x=\"14.803053\" y=\"302.730153\" style=\"fill: #eaf7e6\"/>\n    </g>\n    <g clip-path=\"url(#p6fbc75f360)\">\n     <use xlink:href=\"#C5_0_0b12c353b2\" x=\"14.803053\" y=\"290.849161\" style=\"fill: #f7fcf5\"/>\n    </g>\n    <g clip-path=\"url(#p6fbc75f360)\">\n     <use xlink:href=\"#C5_0_0b12c353b2\" x=\"14.803053\" y=\"278.96817\" style=\"fill: #eaf7e6\"/>\n    </g>\n    <g clip-path=\"url(#p6fbc75f360)\">\n     <use xlink:href=\"#C5_0_0b12c353b2\" x=\"14.803053\" y=\"267.087178\" style=\"fill: #eaf7e6\"/>\n    </g>\n    <g clip-path=\"url(#p6fbc75f360)\">\n     <use xlink:href=\"#C5_0_0b12c353b2\" x=\"14.803053\" y=\"255.206186\" style=\"fill: #f7fcf5\"/>\n    </g>\n    <g clip-path=\"url(#p6fbc75f360)\">\n     <use xlink:href=\"#C5_0_0b12c353b2\" x=\"14.803053\" y=\"243.325195\" style=\"fill: #f7fcf5\"/>\n    </g>\n    <g clip-path=\"url(#p6fbc75f360)\">\n     <use xlink:href=\"#C5_0_0b12c353b2\" x=\"14.803053\" y=\"231.444203\" style=\"fill: #f7fcf5\"/>\n    </g>\n    <g clip-path=\"url(#p6fbc75f360)\">\n     <use xlink:href=\"#C5_0_0b12c353b2\" x=\"14.803053\" y=\"219.563211\" style=\"fill: #f7fcf5\"/>\n    </g>\n    <g clip-path=\"url(#p6fbc75f360)\">\n     <use xlink:href=\"#C5_0_0b12c353b2\" x=\"14.803053\" y=\"207.682219\" style=\"fill: #f7fcf5\"/>\n    </g>\n    <g clip-path=\"url(#p6fbc75f360)\">\n     <use xlink:href=\"#C5_0_0b12c353b2\" x=\"14.803053\" y=\"195.801228\" style=\"fill: #f7fcf5\"/>\n    </g>\n    <g clip-path=\"url(#p6fbc75f360)\">\n     <use xlink:href=\"#C5_0_0b12c353b2\" x=\"21.653962\" y=\"326.492137\" style=\"fill: #f7fcf5\"/>\n    </g>\n    <g clip-path=\"url(#p6fbc75f360)\">\n     <use xlink:href=\"#C5_0_0b12c353b2\" x=\"21.653962\" y=\"314.611145\" style=\"fill: #f7fcf5\"/>\n    </g>\n    <g clip-path=\"url(#p6fbc75f360)\">\n     <use xlink:href=\"#C5_0_0b12c353b2\" x=\"21.653962\" y=\"302.730153\" style=\"fill: #f7fcf5\"/>\n    </g>\n    <g clip-path=\"url(#p6fbc75f360)\">\n     <use xlink:href=\"#C5_0_0b12c353b2\" x=\"21.653962\" y=\"290.849161\" style=\"fill: #c1e6ba\"/>\n    </g>\n    <g clip-path=\"url(#p6fbc75f360)\">\n     <use xlink:href=\"#C5_0_0b12c353b2\" x=\"21.653962\" y=\"278.96817\" style=\"fill: #f7fcf5\"/>\n    </g>\n    <g clip-path=\"url(#p6fbc75f360)\">\n     <use xlink:href=\"#C5_0_0b12c353b2\" x=\"21.653962\" y=\"267.087178\" style=\"fill: #f7fcf5\"/>\n    </g>\n    <g clip-path=\"url(#p6fbc75f360)\">\n     <use xlink:href=\"#C5_0_0b12c353b2\" x=\"21.653962\" y=\"255.206186\" style=\"fill: #f7fcf5\"/>\n    </g>\n    <g clip-path=\"url(#p6fbc75f360)\">\n     <use xlink:href=\"#C5_0_0b12c353b2\" x=\"21.653962\" y=\"243.325195\" style=\"fill: #f7fcf5\"/>\n    </g>\n    <g clip-path=\"url(#p6fbc75f360)\">\n     <use xlink:href=\"#C5_0_0b12c353b2\" x=\"21.653962\" y=\"231.444203\" style=\"fill: #f7fcf5\"/>\n    </g>\n    <g clip-path=\"url(#p6fbc75f360)\">\n     <use xlink:href=\"#C5_0_0b12c353b2\" x=\"21.653962\" y=\"219.563211\" style=\"fill: #f7fcf5\"/>\n    </g>\n    <g clip-path=\"url(#p6fbc75f360)\">\n     <use xlink:href=\"#C5_0_0b12c353b2\" x=\"21.653962\" y=\"207.682219\" style=\"fill: #f7fcf5\"/>\n    </g>\n    <g clip-path=\"url(#p6fbc75f360)\">\n     <use xlink:href=\"#C5_0_0b12c353b2\" x=\"21.653962\" y=\"195.801228\" style=\"fill: #f7fcf5\"/>\n    </g>\n    <g clip-path=\"url(#p6fbc75f360)\">\n     <use xlink:href=\"#C5_0_0b12c353b2\" x=\"28.504871\" y=\"326.492137\" style=\"fill: #f7fcf5\"/>\n    </g>\n    <g clip-path=\"url(#p6fbc75f360)\">\n     <use xlink:href=\"#C5_0_0b12c353b2\" x=\"28.504871\" y=\"314.611145\" style=\"fill: #f7fcf5\"/>\n    </g>\n    <g clip-path=\"url(#p6fbc75f360)\">\n     <use xlink:href=\"#C5_0_0b12c353b2\" x=\"28.504871\" y=\"302.730153\" style=\"fill: #f7fcf5\"/>\n    </g>\n    <g clip-path=\"url(#p6fbc75f360)\">\n     <use xlink:href=\"#C5_0_0b12c353b2\" x=\"28.504871\" y=\"290.849161\" style=\"fill: #f7fcf5\"/>\n    </g>\n    <g clip-path=\"url(#p6fbc75f360)\">\n     <use xlink:href=\"#C5_0_0b12c353b2\" x=\"28.504871\" y=\"278.96817\" style=\"fill: #f7fcf5\"/>\n    </g>\n    <g clip-path=\"url(#p6fbc75f360)\">\n     <use xlink:href=\"#C5_0_0b12c353b2\" x=\"28.504871\" y=\"267.087178\" style=\"fill: #f7fcf5\"/>\n    </g>\n    <g clip-path=\"url(#p6fbc75f360)\">\n     <use xlink:href=\"#C5_0_0b12c353b2\" x=\"28.504871\" y=\"255.206186\" style=\"fill: #f7fcf5\"/>\n    </g>\n    <g clip-path=\"url(#p6fbc75f360)\">\n     <use xlink:href=\"#C5_0_0b12c353b2\" x=\"28.504871\" y=\"243.325195\" style=\"fill: #f7fcf5\"/>\n    </g>\n    <g clip-path=\"url(#p6fbc75f360)\">\n     <use xlink:href=\"#C5_0_0b12c353b2\" x=\"28.504871\" y=\"231.444203\" style=\"fill: #f7fcf5\"/>\n    </g>\n    <g clip-path=\"url(#p6fbc75f360)\">\n     <use xlink:href=\"#C5_0_0b12c353b2\" x=\"28.504871\" y=\"219.563211\" style=\"fill: #f7fcf5\"/>\n    </g>\n    <g clip-path=\"url(#p6fbc75f360)\">\n     <use xlink:href=\"#C5_0_0b12c353b2\" x=\"28.504871\" y=\"207.682219\" style=\"fill: #f7fcf5\"/>\n    </g>\n    <g clip-path=\"url(#p6fbc75f360)\">\n     <use xlink:href=\"#C5_0_0b12c353b2\" x=\"28.504871\" y=\"195.801228\" style=\"fill: #f7fcf5\"/>\n    </g>\n    <g clip-path=\"url(#p6fbc75f360)\">\n     <use xlink:href=\"#C5_0_0b12c353b2\" x=\"35.35578\" y=\"326.492137\" style=\"fill: #f7fcf5\"/>\n    </g>\n    <g clip-path=\"url(#p6fbc75f360)\">\n     <use xlink:href=\"#C5_0_0b12c353b2\" x=\"35.35578\" y=\"314.611145\" style=\"fill: #f7fcf5\"/>\n    </g>\n    <g clip-path=\"url(#p6fbc75f360)\">\n     <use xlink:href=\"#C5_0_0b12c353b2\" x=\"35.35578\" y=\"302.730153\" style=\"fill: #f7fcf5\"/>\n    </g>\n    <g clip-path=\"url(#p6fbc75f360)\">\n     <use xlink:href=\"#C5_0_0b12c353b2\" x=\"35.35578\" y=\"290.849161\" style=\"fill: #f7fcf5\"/>\n    </g>\n    <g clip-path=\"url(#p6fbc75f360)\">\n     <use xlink:href=\"#C5_0_0b12c353b2\" x=\"35.35578\" y=\"278.96817\" style=\"fill: #f7fcf5\"/>\n    </g>\n    <g clip-path=\"url(#p6fbc75f360)\">\n     <use xlink:href=\"#C5_0_0b12c353b2\" x=\"35.35578\" y=\"267.087178\" style=\"fill: #eaf7e6\"/>\n    </g>\n    <g clip-path=\"url(#p6fbc75f360)\">\n     <use xlink:href=\"#C5_0_0b12c353b2\" x=\"35.35578\" y=\"255.206186\" style=\"fill: #f7fcf5\"/>\n    </g>\n    <g clip-path=\"url(#p6fbc75f360)\">\n     <use xlink:href=\"#C5_0_0b12c353b2\" x=\"35.35578\" y=\"243.325195\" style=\"fill: #f7fcf5\"/>\n    </g>\n    <g clip-path=\"url(#p6fbc75f360)\">\n     <use xlink:href=\"#C5_0_0b12c353b2\" x=\"35.35578\" y=\"231.444203\" style=\"fill: #f7fcf5\"/>\n    </g>\n    <g clip-path=\"url(#p6fbc75f360)\">\n     <use xlink:href=\"#C5_0_0b12c353b2\" x=\"35.35578\" y=\"219.563211\" style=\"fill: #f7fcf5\"/>\n    </g>\n    <g clip-path=\"url(#p6fbc75f360)\">\n     <use xlink:href=\"#C5_0_0b12c353b2\" x=\"35.35578\" y=\"207.682219\" style=\"fill: #f7fcf5\"/>\n    </g>\n    <g clip-path=\"url(#p6fbc75f360)\">\n     <use xlink:href=\"#C5_0_0b12c353b2\" x=\"35.35578\" y=\"195.801228\" style=\"fill: #f7fcf5\"/>\n    </g>\n    <g clip-path=\"url(#p6fbc75f360)\">\n     <use xlink:href=\"#C5_0_0b12c353b2\" x=\"42.206689\" y=\"326.492137\" style=\"fill: #f7fcf5\"/>\n    </g>\n    <g clip-path=\"url(#p6fbc75f360)\">\n     <use xlink:href=\"#C5_0_0b12c353b2\" x=\"42.206689\" y=\"314.611145\" style=\"fill: #f7fcf5\"/>\n    </g>\n    <g clip-path=\"url(#p6fbc75f360)\">\n     <use xlink:href=\"#C5_0_0b12c353b2\" x=\"42.206689\" y=\"302.730153\" style=\"fill: #f7fcf5\"/>\n    </g>\n    <g clip-path=\"url(#p6fbc75f360)\">\n     <use xlink:href=\"#C5_0_0b12c353b2\" x=\"42.206689\" y=\"290.849161\" style=\"fill: #f7fcf5\"/>\n    </g>\n    <g clip-path=\"url(#p6fbc75f360)\">\n     <use xlink:href=\"#C5_0_0b12c353b2\" x=\"42.206689\" y=\"278.96817\" style=\"fill: #f7fcf5\"/>\n    </g>\n    <g clip-path=\"url(#p6fbc75f360)\">\n     <use xlink:href=\"#C5_0_0b12c353b2\" x=\"42.206689\" y=\"267.087178\" style=\"fill: #f7fcf5\"/>\n    </g>\n    <g clip-path=\"url(#p6fbc75f360)\">\n     <use xlink:href=\"#C5_0_0b12c353b2\" x=\"42.206689\" y=\"255.206186\" style=\"fill: #f7fcf5\"/>\n    </g>\n    <g clip-path=\"url(#p6fbc75f360)\">\n     <use xlink:href=\"#C5_0_0b12c353b2\" x=\"42.206689\" y=\"243.325195\" style=\"fill: #f7fcf5\"/>\n    </g>\n    <g clip-path=\"url(#p6fbc75f360)\">\n     <use xlink:href=\"#C5_0_0b12c353b2\" x=\"42.206689\" y=\"231.444203\" style=\"fill: #f7fcf5\"/>\n    </g>\n    <g clip-path=\"url(#p6fbc75f360)\">\n     <use xlink:href=\"#C5_0_0b12c353b2\" x=\"42.206689\" y=\"219.563211\" style=\"fill: #f7fcf5\"/>\n    </g>\n    <g clip-path=\"url(#p6fbc75f360)\">\n     <use xlink:href=\"#C5_0_0b12c353b2\" x=\"42.206689\" y=\"207.682219\" style=\"fill: #f7fcf5\"/>\n    </g>\n    <g clip-path=\"url(#p6fbc75f360)\">\n     <use xlink:href=\"#C5_0_0b12c353b2\" x=\"42.206689\" y=\"195.801228\" style=\"fill: #f7fcf5\"/>\n    </g>\n    <g clip-path=\"url(#p6fbc75f360)\">\n     <use xlink:href=\"#C5_0_0b12c353b2\" x=\"49.057598\" y=\"326.492137\" style=\"fill: #f7fcf5\"/>\n    </g>\n    <g clip-path=\"url(#p6fbc75f360)\">\n     <use xlink:href=\"#C5_0_0b12c353b2\" x=\"49.057598\" y=\"314.611145\" style=\"fill: #f7fcf5\"/>\n    </g>\n    <g clip-path=\"url(#p6fbc75f360)\">\n     <use xlink:href=\"#C5_0_0b12c353b2\" x=\"49.057598\" y=\"302.730153\" style=\"fill: #f7fcf5\"/>\n    </g>\n    <g clip-path=\"url(#p6fbc75f360)\">\n     <use xlink:href=\"#C5_0_0b12c353b2\" x=\"49.057598\" y=\"290.849161\" style=\"fill: #f7fcf5\"/>\n    </g>\n    <g clip-path=\"url(#p6fbc75f360)\">\n     <use xlink:href=\"#C5_0_0b12c353b2\" x=\"49.057598\" y=\"278.96817\" style=\"fill: #eaf7e6\"/>\n    </g>\n    <g clip-path=\"url(#p6fbc75f360)\">\n     <use xlink:href=\"#C5_0_0b12c353b2\" x=\"49.057598\" y=\"267.087178\" style=\"fill: #eaf7e6\"/>\n    </g>\n    <g clip-path=\"url(#p6fbc75f360)\">\n     <use xlink:href=\"#C5_0_0b12c353b2\" x=\"49.057598\" y=\"255.206186\" style=\"fill: #eaf7e6\"/>\n    </g>\n    <g clip-path=\"url(#p6fbc75f360)\">\n     <use xlink:href=\"#C5_0_0b12c353b2\" x=\"49.057598\" y=\"243.325195\" style=\"fill: #a4da9e\"/>\n    </g>\n    <g clip-path=\"url(#p6fbc75f360)\">\n     <use xlink:href=\"#C5_0_0b12c353b2\" x=\"49.057598\" y=\"231.444203\" style=\"fill: #f7fcf5\"/>\n    </g>\n    <g clip-path=\"url(#p6fbc75f360)\">\n     <use xlink:href=\"#C5_0_0b12c353b2\" x=\"49.057598\" y=\"219.563211\" style=\"fill: #f7fcf5\"/>\n    </g>\n    <g clip-path=\"url(#p6fbc75f360)\">\n     <use xlink:href=\"#C5_0_0b12c353b2\" x=\"49.057598\" y=\"207.682219\" style=\"fill: #f7fcf5\"/>\n    </g>\n    <g clip-path=\"url(#p6fbc75f360)\">\n     <use xlink:href=\"#C5_0_0b12c353b2\" x=\"49.057598\" y=\"195.801228\" style=\"fill: #f7fcf5\"/>\n    </g>\n    <g clip-path=\"url(#p6fbc75f360)\">\n     <use xlink:href=\"#C5_0_0b12c353b2\" x=\"55.908507\" y=\"326.492137\" style=\"fill: #f7fcf5\"/>\n    </g>\n    <g clip-path=\"url(#p6fbc75f360)\">\n     <use xlink:href=\"#C5_0_0b12c353b2\" x=\"55.908507\" y=\"314.611145\" style=\"fill: #f7fcf5\"/>\n    </g>\n    <g clip-path=\"url(#p6fbc75f360)\">\n     <use xlink:href=\"#C5_0_0b12c353b2\" x=\"55.908507\" y=\"302.730153\" style=\"fill: #f7fcf5\"/>\n    </g>\n    <g clip-path=\"url(#p6fbc75f360)\">\n     <use xlink:href=\"#C5_0_0b12c353b2\" x=\"55.908507\" y=\"290.849161\" style=\"fill: #f7fcf5\"/>\n    </g>\n    <g clip-path=\"url(#p6fbc75f360)\">\n     <use xlink:href=\"#C5_0_0b12c353b2\" x=\"55.908507\" y=\"278.96817\" style=\"fill: #c1e6ba\"/>\n    </g>\n    <g clip-path=\"url(#p6fbc75f360)\">\n     <use xlink:href=\"#C5_0_0b12c353b2\" x=\"55.908507\" y=\"267.087178\" style=\"fill: #a4da9e\"/>\n    </g>\n    <g clip-path=\"url(#p6fbc75f360)\">\n     <use xlink:href=\"#C5_0_0b12c353b2\" x=\"55.908507\" y=\"255.206186\" style=\"fill: #a4da9e\"/>\n    </g>\n    <g clip-path=\"url(#p6fbc75f360)\">\n     <use xlink:href=\"#C5_0_0b12c353b2\" x=\"55.908507\" y=\"243.325195\" style=\"fill: #c1e6ba\"/>\n    </g>\n    <g clip-path=\"url(#p6fbc75f360)\">\n     <use xlink:href=\"#C5_0_0b12c353b2\" x=\"55.908507\" y=\"231.444203\" style=\"fill: #f7fcf5\"/>\n    </g>\n    <g clip-path=\"url(#p6fbc75f360)\">\n     <use xlink:href=\"#C5_0_0b12c353b2\" x=\"55.908507\" y=\"219.563211\" style=\"fill: #f7fcf5\"/>\n    </g>\n    <g clip-path=\"url(#p6fbc75f360)\">\n     <use xlink:href=\"#C5_0_0b12c353b2\" x=\"55.908507\" y=\"207.682219\" style=\"fill: #f7fcf5\"/>\n    </g>\n    <g clip-path=\"url(#p6fbc75f360)\">\n     <use xlink:href=\"#C5_0_0b12c353b2\" x=\"55.908507\" y=\"195.801228\" style=\"fill: #f7fcf5\"/>\n    </g>\n    <g clip-path=\"url(#p6fbc75f360)\">\n     <use xlink:href=\"#C5_0_0b12c353b2\" x=\"62.759417\" y=\"326.492137\" style=\"fill: #f7fcf5\"/>\n    </g>\n    <g clip-path=\"url(#p6fbc75f360)\">\n     <use xlink:href=\"#C5_0_0b12c353b2\" x=\"62.759417\" y=\"314.611145\" style=\"fill: #f7fcf5\"/>\n    </g>\n    <g clip-path=\"url(#p6fbc75f360)\">\n     <use xlink:href=\"#C5_0_0b12c353b2\" x=\"62.759417\" y=\"302.730153\" style=\"fill: #f7fcf5\"/>\n    </g>\n    <g clip-path=\"url(#p6fbc75f360)\">\n     <use xlink:href=\"#C5_0_0b12c353b2\" x=\"62.759417\" y=\"290.849161\" style=\"fill: #c1e6ba\"/>\n    </g>\n    <g clip-path=\"url(#p6fbc75f360)\">\n     <use xlink:href=\"#C5_0_0b12c353b2\" x=\"62.759417\" y=\"278.96817\" style=\"fill: #d8f0d2\"/>\n    </g>\n    <g clip-path=\"url(#p6fbc75f360)\">\n     <use xlink:href=\"#C5_0_0b12c353b2\" x=\"62.759417\" y=\"267.087178\" style=\"fill: #84cc83\"/>\n    </g>\n    <g clip-path=\"url(#p6fbc75f360)\">\n     <use xlink:href=\"#C5_0_0b12c353b2\" x=\"62.759417\" y=\"255.206186\" style=\"fill: #f7fcf5\"/>\n    </g>\n    <g clip-path=\"url(#p6fbc75f360)\">\n     <use xlink:href=\"#C5_0_0b12c353b2\" x=\"62.759417\" y=\"243.325195\" style=\"fill: #f7fcf5\"/>\n    </g>\n    <g clip-path=\"url(#p6fbc75f360)\">\n     <use xlink:href=\"#C5_0_0b12c353b2\" x=\"62.759417\" y=\"231.444203\" style=\"fill: #f7fcf5\"/>\n    </g>\n    <g clip-path=\"url(#p6fbc75f360)\">\n     <use xlink:href=\"#C5_0_0b12c353b2\" x=\"62.759417\" y=\"219.563211\" style=\"fill: #f7fcf5\"/>\n    </g>\n    <g clip-path=\"url(#p6fbc75f360)\">\n     <use xlink:href=\"#C5_0_0b12c353b2\" x=\"62.759417\" y=\"207.682219\" style=\"fill: #f7fcf5\"/>\n    </g>\n    <g clip-path=\"url(#p6fbc75f360)\">\n     <use xlink:href=\"#C5_0_0b12c353b2\" x=\"62.759417\" y=\"195.801228\" style=\"fill: #f7fcf5\"/>\n    </g>\n    <g clip-path=\"url(#p6fbc75f360)\">\n     <use xlink:href=\"#C5_0_0b12c353b2\" x=\"69.610326\" y=\"326.492137\" style=\"fill: #f7fcf5\"/>\n    </g>\n    <g clip-path=\"url(#p6fbc75f360)\">\n     <use xlink:href=\"#C5_0_0b12c353b2\" x=\"69.610326\" y=\"314.611145\" style=\"fill: #f7fcf5\"/>\n    </g>\n    <g clip-path=\"url(#p6fbc75f360)\">\n     <use xlink:href=\"#C5_0_0b12c353b2\" x=\"69.610326\" y=\"302.730153\" style=\"fill: #eaf7e6\"/>\n    </g>\n    <g clip-path=\"url(#p6fbc75f360)\">\n     <use xlink:href=\"#C5_0_0b12c353b2\" x=\"69.610326\" y=\"290.849161\" style=\"fill: #eaf7e6\"/>\n    </g>\n    <g clip-path=\"url(#p6fbc75f360)\">\n     <use xlink:href=\"#C5_0_0b12c353b2\" x=\"69.610326\" y=\"278.96817\" style=\"fill: #d8f0d2\"/>\n    </g>\n    <g clip-path=\"url(#p6fbc75f360)\">\n     <use xlink:href=\"#C5_0_0b12c353b2\" x=\"69.610326\" y=\"267.087178\" style=\"fill: #c1e6ba\"/>\n    </g>\n    <g clip-path=\"url(#p6fbc75f360)\">\n     <use xlink:href=\"#C5_0_0b12c353b2\" x=\"69.610326\" y=\"255.206186\" style=\"fill: #84cc83\"/>\n    </g>\n    <g clip-path=\"url(#p6fbc75f360)\">\n     <use xlink:href=\"#C5_0_0b12c353b2\" x=\"69.610326\" y=\"243.325195\" style=\"fill: #f7fcf5\"/>\n    </g>\n    <g clip-path=\"url(#p6fbc75f360)\">\n     <use xlink:href=\"#C5_0_0b12c353b2\" x=\"69.610326\" y=\"231.444203\" style=\"fill: #f7fcf5\"/>\n    </g>\n    <g clip-path=\"url(#p6fbc75f360)\">\n     <use xlink:href=\"#C5_0_0b12c353b2\" x=\"69.610326\" y=\"219.563211\" style=\"fill: #f7fcf5\"/>\n    </g>\n    <g clip-path=\"url(#p6fbc75f360)\">\n     <use xlink:href=\"#C5_0_0b12c353b2\" x=\"69.610326\" y=\"207.682219\" style=\"fill: #f7fcf5\"/>\n    </g>\n    <g clip-path=\"url(#p6fbc75f360)\">\n     <use xlink:href=\"#C5_0_0b12c353b2\" x=\"69.610326\" y=\"195.801228\" style=\"fill: #f7fcf5\"/>\n    </g>\n    <g clip-path=\"url(#p6fbc75f360)\">\n     <use xlink:href=\"#C5_0_0b12c353b2\" x=\"76.461235\" y=\"326.492137\" style=\"fill: #f7fcf5\"/>\n    </g>\n    <g clip-path=\"url(#p6fbc75f360)\">\n     <use xlink:href=\"#C5_0_0b12c353b2\" x=\"76.461235\" y=\"314.611145\" style=\"fill: #f7fcf5\"/>\n    </g>\n    <g clip-path=\"url(#p6fbc75f360)\">\n     <use xlink:href=\"#C5_0_0b12c353b2\" x=\"76.461235\" y=\"302.730153\" style=\"fill: #f7fcf5\"/>\n    </g>\n    <g clip-path=\"url(#p6fbc75f360)\">\n     <use xlink:href=\"#C5_0_0b12c353b2\" x=\"76.461235\" y=\"290.849161\" style=\"fill: #c1e6ba\"/>\n    </g>\n    <g clip-path=\"url(#p6fbc75f360)\">\n     <use xlink:href=\"#C5_0_0b12c353b2\" x=\"76.461235\" y=\"278.96817\" style=\"fill: #d8f0d2\"/>\n    </g>\n    <g clip-path=\"url(#p6fbc75f360)\">\n     <use xlink:href=\"#C5_0_0b12c353b2\" x=\"76.461235\" y=\"267.087178\" style=\"fill: #c1e6ba\"/>\n    </g>\n    <g clip-path=\"url(#p6fbc75f360)\">\n     <use xlink:href=\"#C5_0_0b12c353b2\" x=\"76.461235\" y=\"255.206186\" style=\"fill: #f7fcf5\"/>\n    </g>\n    <g clip-path=\"url(#p6fbc75f360)\">\n     <use xlink:href=\"#C5_0_0b12c353b2\" x=\"76.461235\" y=\"243.325195\" style=\"fill: #f7fcf5\"/>\n    </g>\n    <g clip-path=\"url(#p6fbc75f360)\">\n     <use xlink:href=\"#C5_0_0b12c353b2\" x=\"76.461235\" y=\"231.444203\" style=\"fill: #f7fcf5\"/>\n    </g>\n    <g clip-path=\"url(#p6fbc75f360)\">\n     <use xlink:href=\"#C5_0_0b12c353b2\" x=\"76.461235\" y=\"219.563211\" style=\"fill: #f7fcf5\"/>\n    </g>\n    <g clip-path=\"url(#p6fbc75f360)\">\n     <use xlink:href=\"#C5_0_0b12c353b2\" x=\"76.461235\" y=\"207.682219\" style=\"fill: #f7fcf5\"/>\n    </g>\n    <g clip-path=\"url(#p6fbc75f360)\">\n     <use xlink:href=\"#C5_0_0b12c353b2\" x=\"76.461235\" y=\"195.801228\" style=\"fill: #f7fcf5\"/>\n    </g>\n    <g clip-path=\"url(#p6fbc75f360)\">\n     <use xlink:href=\"#C5_0_0b12c353b2\" x=\"83.312144\" y=\"326.492137\" style=\"fill: #f7fcf5\"/>\n    </g>\n    <g clip-path=\"url(#p6fbc75f360)\">\n     <use xlink:href=\"#C5_0_0b12c353b2\" x=\"83.312144\" y=\"314.611145\" style=\"fill: #f7fcf5\"/>\n    </g>\n    <g clip-path=\"url(#p6fbc75f360)\">\n     <use xlink:href=\"#C5_0_0b12c353b2\" x=\"83.312144\" y=\"302.730153\" style=\"fill: #f7fcf5\"/>\n    </g>\n    <g clip-path=\"url(#p6fbc75f360)\">\n     <use xlink:href=\"#C5_0_0b12c353b2\" x=\"83.312144\" y=\"290.849161\" style=\"fill: #eaf7e6\"/>\n    </g>\n    <g clip-path=\"url(#p6fbc75f360)\">\n     <use xlink:href=\"#C5_0_0b12c353b2\" x=\"83.312144\" y=\"278.96817\" style=\"fill: #a4da9e\"/>\n    </g>\n    <g clip-path=\"url(#p6fbc75f360)\">\n     <use xlink:href=\"#C5_0_0b12c353b2\" x=\"83.312144\" y=\"267.087178\" style=\"fill: #eaf7e6\"/>\n    </g>\n    <g clip-path=\"url(#p6fbc75f360)\">\n     <use xlink:href=\"#C5_0_0b12c353b2\" x=\"83.312144\" y=\"255.206186\" style=\"fill: #f7fcf5\"/>\n    </g>\n    <g clip-path=\"url(#p6fbc75f360)\">\n     <use xlink:href=\"#C5_0_0b12c353b2\" x=\"83.312144\" y=\"243.325195\" style=\"fill: #f7fcf5\"/>\n    </g>\n    <g clip-path=\"url(#p6fbc75f360)\">\n     <use xlink:href=\"#C5_0_0b12c353b2\" x=\"83.312144\" y=\"231.444203\" style=\"fill: #f7fcf5\"/>\n    </g>\n    <g clip-path=\"url(#p6fbc75f360)\">\n     <use xlink:href=\"#C5_0_0b12c353b2\" x=\"83.312144\" y=\"219.563211\" style=\"fill: #f7fcf5\"/>\n    </g>\n    <g clip-path=\"url(#p6fbc75f360)\">\n     <use xlink:href=\"#C5_0_0b12c353b2\" x=\"83.312144\" y=\"207.682219\" style=\"fill: #f7fcf5\"/>\n    </g>\n    <g clip-path=\"url(#p6fbc75f360)\">\n     <use xlink:href=\"#C5_0_0b12c353b2\" x=\"83.312144\" y=\"195.801228\" style=\"fill: #f7fcf5\"/>\n    </g>\n    <g clip-path=\"url(#p6fbc75f360)\">\n     <use xlink:href=\"#C5_0_0b12c353b2\" x=\"-50.280583\" y=\"320.551641\" style=\"fill: #f7fcf5\"/>\n    </g>\n    <g clip-path=\"url(#p6fbc75f360)\">\n     <use xlink:href=\"#C5_0_0b12c353b2\" x=\"-50.280583\" y=\"308.670649\" style=\"fill: #f7fcf5\"/>\n    </g>\n    <g clip-path=\"url(#p6fbc75f360)\">\n     <use xlink:href=\"#C5_0_0b12c353b2\" x=\"-50.280583\" y=\"296.789657\" style=\"fill: #f7fcf5\"/>\n    </g>\n    <g clip-path=\"url(#p6fbc75f360)\">\n     <use xlink:href=\"#C5_0_0b12c353b2\" x=\"-50.280583\" y=\"284.908666\" style=\"fill: #eaf7e6\"/>\n    </g>\n    <g clip-path=\"url(#p6fbc75f360)\">\n     <use xlink:href=\"#C5_0_0b12c353b2\" x=\"-50.280583\" y=\"273.027674\" style=\"fill: #c1e6ba\"/>\n    </g>\n    <g clip-path=\"url(#p6fbc75f360)\">\n     <use xlink:href=\"#C5_0_0b12c353b2\" x=\"-50.280583\" y=\"261.146682\" style=\"fill: #eaf7e6\"/>\n    </g>\n    <g clip-path=\"url(#p6fbc75f360)\">\n     <use xlink:href=\"#C5_0_0b12c353b2\" x=\"-50.280583\" y=\"249.26569\" style=\"fill: #eaf7e6\"/>\n    </g>\n    <g clip-path=\"url(#p6fbc75f360)\">\n     <use xlink:href=\"#C5_0_0b12c353b2\" x=\"-50.280583\" y=\"237.384699\" style=\"fill: #eaf7e6\"/>\n    </g>\n    <g clip-path=\"url(#p6fbc75f360)\">\n     <use xlink:href=\"#C5_0_0b12c353b2\" x=\"-50.280583\" y=\"225.503707\" style=\"fill: #f7fcf5\"/>\n    </g>\n    <g clip-path=\"url(#p6fbc75f360)\">\n     <use xlink:href=\"#C5_0_0b12c353b2\" x=\"-50.280583\" y=\"213.622715\" style=\"fill: #f7fcf5\"/>\n    </g>\n    <g clip-path=\"url(#p6fbc75f360)\">\n     <use xlink:href=\"#C5_0_0b12c353b2\" x=\"-50.280583\" y=\"201.741723\" style=\"fill: #f7fcf5\"/>\n    </g>\n    <g clip-path=\"url(#p6fbc75f360)\">\n     <use xlink:href=\"#C5_0_0b12c353b2\" x=\"-43.429674\" y=\"320.551641\" style=\"fill: #f7fcf5\"/>\n    </g>\n    <g clip-path=\"url(#p6fbc75f360)\">\n     <use xlink:href=\"#C5_0_0b12c353b2\" x=\"-43.429674\" y=\"308.670649\" style=\"fill: #f7fcf5\"/>\n    </g>\n    <g clip-path=\"url(#p6fbc75f360)\">\n     <use xlink:href=\"#C5_0_0b12c353b2\" x=\"-43.429674\" y=\"296.789657\" style=\"fill: #eaf7e6\"/>\n    </g>\n    <g clip-path=\"url(#p6fbc75f360)\">\n     <use xlink:href=\"#C5_0_0b12c353b2\" x=\"-43.429674\" y=\"284.908666\" style=\"fill: #84cc83\"/>\n    </g>\n    <g clip-path=\"url(#p6fbc75f360)\">\n     <use xlink:href=\"#C5_0_0b12c353b2\" x=\"-43.429674\" y=\"273.027674\" style=\"fill: #62bb6d\"/>\n    </g>\n    <g clip-path=\"url(#p6fbc75f360)\">\n     <use xlink:href=\"#C5_0_0b12c353b2\" x=\"-43.429674\" y=\"261.146682\" style=\"fill: #a4da9e\"/>\n    </g>\n    <g clip-path=\"url(#p6fbc75f360)\">\n     <use xlink:href=\"#C5_0_0b12c353b2\" x=\"-43.429674\" y=\"249.26569\" style=\"fill: #a4da9e\"/>\n    </g>\n    <g clip-path=\"url(#p6fbc75f360)\">\n     <use xlink:href=\"#C5_0_0b12c353b2\" x=\"-43.429674\" y=\"237.384699\" style=\"fill: #eaf7e6\"/>\n    </g>\n    <g clip-path=\"url(#p6fbc75f360)\">\n     <use xlink:href=\"#C5_0_0b12c353b2\" x=\"-43.429674\" y=\"225.503707\" style=\"fill: #f7fcf5\"/>\n    </g>\n    <g clip-path=\"url(#p6fbc75f360)\">\n     <use xlink:href=\"#C5_0_0b12c353b2\" x=\"-43.429674\" y=\"213.622715\" style=\"fill: #f7fcf5\"/>\n    </g>\n    <g clip-path=\"url(#p6fbc75f360)\">\n     <use xlink:href=\"#C5_0_0b12c353b2\" x=\"-43.429674\" y=\"201.741723\" style=\"fill: #f7fcf5\"/>\n    </g>\n    <g clip-path=\"url(#p6fbc75f360)\">\n     <use xlink:href=\"#C5_0_0b12c353b2\" x=\"-36.578765\" y=\"320.551641\" style=\"fill: #f7fcf5\"/>\n    </g>\n    <g clip-path=\"url(#p6fbc75f360)\">\n     <use xlink:href=\"#C5_0_0b12c353b2\" x=\"-36.578765\" y=\"308.670649\" style=\"fill: #f7fcf5\"/>\n    </g>\n    <g clip-path=\"url(#p6fbc75f360)\">\n     <use xlink:href=\"#C5_0_0b12c353b2\" x=\"-36.578765\" y=\"296.789657\" style=\"fill: #f7fcf5\"/>\n    </g>\n    <g clip-path=\"url(#p6fbc75f360)\">\n     <use xlink:href=\"#C5_0_0b12c353b2\" x=\"-36.578765\" y=\"284.908666\" style=\"fill: #eaf7e6\"/>\n    </g>\n    <g clip-path=\"url(#p6fbc75f360)\">\n     <use xlink:href=\"#C5_0_0b12c353b2\" x=\"-36.578765\" y=\"273.027674\" style=\"fill: #c1e6ba\"/>\n    </g>\n    <g clip-path=\"url(#p6fbc75f360)\">\n     <use xlink:href=\"#C5_0_0b12c353b2\" x=\"-36.578765\" y=\"261.146682\" style=\"fill: #62bb6d\"/>\n    </g>\n    <g clip-path=\"url(#p6fbc75f360)\">\n     <use xlink:href=\"#C5_0_0b12c353b2\" x=\"-36.578765\" y=\"249.26569\" style=\"fill: #c1e6ba\"/>\n    </g>\n    <g clip-path=\"url(#p6fbc75f360)\">\n     <use xlink:href=\"#C5_0_0b12c353b2\" x=\"-36.578765\" y=\"237.384699\" style=\"fill: #84cc83\"/>\n    </g>\n    <g clip-path=\"url(#p6fbc75f360)\">\n     <use xlink:href=\"#C5_0_0b12c353b2\" x=\"-36.578765\" y=\"225.503707\" style=\"fill: #f7fcf5\"/>\n    </g>\n    <g clip-path=\"url(#p6fbc75f360)\">\n     <use xlink:href=\"#C5_0_0b12c353b2\" x=\"-36.578765\" y=\"213.622715\" style=\"fill: #f7fcf5\"/>\n    </g>\n    <g clip-path=\"url(#p6fbc75f360)\">\n     <use xlink:href=\"#C5_0_0b12c353b2\" x=\"-36.578765\" y=\"201.741723\" style=\"fill: #f7fcf5\"/>\n    </g>\n    <g clip-path=\"url(#p6fbc75f360)\">\n     <use xlink:href=\"#C5_0_0b12c353b2\" x=\"-29.727856\" y=\"320.551641\" style=\"fill: #f7fcf5\"/>\n    </g>\n    <g clip-path=\"url(#p6fbc75f360)\">\n     <use xlink:href=\"#C5_0_0b12c353b2\" x=\"-29.727856\" y=\"308.670649\" style=\"fill: #eaf7e6\"/>\n    </g>\n    <g clip-path=\"url(#p6fbc75f360)\">\n     <use xlink:href=\"#C5_0_0b12c353b2\" x=\"-29.727856\" y=\"296.789657\" style=\"fill: #d8f0d2\"/>\n    </g>\n    <g clip-path=\"url(#p6fbc75f360)\">\n     <use xlink:href=\"#C5_0_0b12c353b2\" x=\"-29.727856\" y=\"284.908666\" style=\"fill: #a4da9e\"/>\n    </g>\n    <g clip-path=\"url(#p6fbc75f360)\">\n     <use xlink:href=\"#C5_0_0b12c353b2\" x=\"-29.727856\" y=\"273.027674\" style=\"fill: #84cc83\"/>\n    </g>\n    <g clip-path=\"url(#p6fbc75f360)\">\n     <use xlink:href=\"#C5_0_0b12c353b2\" x=\"-29.727856\" y=\"261.146682\" style=\"fill: #84cc83\"/>\n    </g>\n    <g clip-path=\"url(#p6fbc75f360)\">\n     <use xlink:href=\"#C5_0_0b12c353b2\" x=\"-29.727856\" y=\"249.26569\" style=\"fill: #a4da9e\"/>\n    </g>\n    <g clip-path=\"url(#p6fbc75f360)\">\n     <use xlink:href=\"#C5_0_0b12c353b2\" x=\"-29.727856\" y=\"237.384699\" style=\"fill: #eaf7e6\"/>\n    </g>\n    <g clip-path=\"url(#p6fbc75f360)\">\n     <use xlink:href=\"#C5_0_0b12c353b2\" x=\"-29.727856\" y=\"225.503707\" style=\"fill: #eaf7e6\"/>\n    </g>\n    <g clip-path=\"url(#p6fbc75f360)\">\n     <use xlink:href=\"#C5_0_0b12c353b2\" x=\"-29.727856\" y=\"213.622715\" style=\"fill: #f7fcf5\"/>\n    </g>\n    <g clip-path=\"url(#p6fbc75f360)\">\n     <use xlink:href=\"#C5_0_0b12c353b2\" x=\"-29.727856\" y=\"201.741723\" style=\"fill: #f7fcf5\"/>\n    </g>\n    <g clip-path=\"url(#p6fbc75f360)\">\n     <use xlink:href=\"#C5_0_0b12c353b2\" x=\"-22.876947\" y=\"320.551641\" style=\"fill: #eaf7e6\"/>\n    </g>\n    <g clip-path=\"url(#p6fbc75f360)\">\n     <use xlink:href=\"#C5_0_0b12c353b2\" x=\"-22.876947\" y=\"308.670649\" style=\"fill: #d8f0d2\"/>\n    </g>\n    <g clip-path=\"url(#p6fbc75f360)\">\n     <use xlink:href=\"#C5_0_0b12c353b2\" x=\"-22.876947\" y=\"296.789657\" style=\"fill: #c1e6ba\"/>\n    </g>\n    <g clip-path=\"url(#p6fbc75f360)\">\n     <use xlink:href=\"#C5_0_0b12c353b2\" x=\"-22.876947\" y=\"284.908666\" style=\"fill: #a4da9e\"/>\n    </g>\n    <g clip-path=\"url(#p6fbc75f360)\">\n     <use xlink:href=\"#C5_0_0b12c353b2\" x=\"-22.876947\" y=\"273.027674\" style=\"fill: #f7fcf5\"/>\n    </g>\n    <g clip-path=\"url(#p6fbc75f360)\">\n     <use xlink:href=\"#C5_0_0b12c353b2\" x=\"-22.876947\" y=\"261.146682\" style=\"fill: #f7fcf5\"/>\n    </g>\n    <g clip-path=\"url(#p6fbc75f360)\">\n     <use xlink:href=\"#C5_0_0b12c353b2\" x=\"-22.876947\" y=\"249.26569\" style=\"fill: #62bb6d\"/>\n    </g>\n    <g clip-path=\"url(#p6fbc75f360)\">\n     <use xlink:href=\"#C5_0_0b12c353b2\" x=\"-22.876947\" y=\"237.384699\" style=\"fill: #c1e6ba\"/>\n    </g>\n    <g clip-path=\"url(#p6fbc75f360)\">\n     <use xlink:href=\"#C5_0_0b12c353b2\" x=\"-22.876947\" y=\"225.503707\" style=\"fill: #f7fcf5\"/>\n    </g>\n    <g clip-path=\"url(#p6fbc75f360)\">\n     <use xlink:href=\"#C5_0_0b12c353b2\" x=\"-22.876947\" y=\"213.622715\" style=\"fill: #f7fcf5\"/>\n    </g>\n    <g clip-path=\"url(#p6fbc75f360)\">\n     <use xlink:href=\"#C5_0_0b12c353b2\" x=\"-22.876947\" y=\"201.741723\" style=\"fill: #f7fcf5\"/>\n    </g>\n    <g clip-path=\"url(#p6fbc75f360)\">\n     <use xlink:href=\"#C5_0_0b12c353b2\" x=\"-16.026038\" y=\"320.551641\" style=\"fill: #f7fcf5\"/>\n    </g>\n    <g clip-path=\"url(#p6fbc75f360)\">\n     <use xlink:href=\"#C5_0_0b12c353b2\" x=\"-16.026038\" y=\"308.670649\" style=\"fill: #c1e6ba\"/>\n    </g>\n    <g clip-path=\"url(#p6fbc75f360)\">\n     <use xlink:href=\"#C5_0_0b12c353b2\" x=\"-16.026038\" y=\"296.789657\" style=\"fill: #eaf7e6\"/>\n    </g>\n    <g clip-path=\"url(#p6fbc75f360)\">\n     <use xlink:href=\"#C5_0_0b12c353b2\" x=\"-16.026038\" y=\"284.908666\" style=\"fill: #62bb6d\"/>\n    </g>\n    <g clip-path=\"url(#p6fbc75f360)\">\n     <use xlink:href=\"#C5_0_0b12c353b2\" x=\"-16.026038\" y=\"273.027674\" style=\"fill: #c1e6ba\"/>\n    </g>\n    <g clip-path=\"url(#p6fbc75f360)\">\n     <use xlink:href=\"#C5_0_0b12c353b2\" x=\"-16.026038\" y=\"261.146682\" style=\"fill: #c1e6ba\"/>\n    </g>\n    <g clip-path=\"url(#p6fbc75f360)\">\n     <use xlink:href=\"#C5_0_0b12c353b2\" x=\"-16.026038\" y=\"249.26569\" style=\"fill: #eaf7e6\"/>\n    </g>\n    <g clip-path=\"url(#p6fbc75f360)\">\n     <use xlink:href=\"#C5_0_0b12c353b2\" x=\"-16.026038\" y=\"237.384699\" style=\"fill: #a4da9e\"/>\n    </g>\n    <g clip-path=\"url(#p6fbc75f360)\">\n     <use xlink:href=\"#C5_0_0b12c353b2\" x=\"-16.026038\" y=\"225.503707\" style=\"fill: #d8f0d2\"/>\n    </g>\n    <g clip-path=\"url(#p6fbc75f360)\">\n     <use xlink:href=\"#C5_0_0b12c353b2\" x=\"-16.026038\" y=\"213.622715\" style=\"fill: #d8f0d2\"/>\n    </g>\n    <g clip-path=\"url(#p6fbc75f360)\">\n     <use xlink:href=\"#C5_0_0b12c353b2\" x=\"-16.026038\" y=\"201.741723\" style=\"fill: #a4da9e\"/>\n    </g>\n    <g clip-path=\"url(#p6fbc75f360)\">\n     <use xlink:href=\"#C5_0_0b12c353b2\" x=\"-9.175129\" y=\"320.551641\" style=\"fill: #f7fcf5\"/>\n    </g>\n    <g clip-path=\"url(#p6fbc75f360)\">\n     <use xlink:href=\"#C5_0_0b12c353b2\" x=\"-9.175129\" y=\"308.670649\" style=\"fill: #f7fcf5\"/>\n    </g>\n    <g clip-path=\"url(#p6fbc75f360)\">\n     <use xlink:href=\"#C5_0_0b12c353b2\" x=\"-9.175129\" y=\"296.789657\" style=\"fill: #eaf7e6\"/>\n    </g>\n    <g clip-path=\"url(#p6fbc75f360)\">\n     <use xlink:href=\"#C5_0_0b12c353b2\" x=\"-9.175129\" y=\"284.908666\" style=\"fill: #c1e6ba\"/>\n    </g>\n    <g clip-path=\"url(#p6fbc75f360)\">\n     <use xlink:href=\"#C5_0_0b12c353b2\" x=\"-9.175129\" y=\"273.027674\" style=\"fill: #d8f0d2\"/>\n    </g>\n    <g clip-path=\"url(#p6fbc75f360)\">\n     <use xlink:href=\"#C5_0_0b12c353b2\" x=\"-9.175129\" y=\"261.146682\" style=\"fill: #c1e6ba\"/>\n    </g>\n    <g clip-path=\"url(#p6fbc75f360)\">\n     <use xlink:href=\"#C5_0_0b12c353b2\" x=\"-9.175129\" y=\"249.26569\" style=\"fill: #c1e6ba\"/>\n    </g>\n    <g clip-path=\"url(#p6fbc75f360)\">\n     <use xlink:href=\"#C5_0_0b12c353b2\" x=\"-9.175129\" y=\"237.384699\" style=\"fill: #d8f0d2\"/>\n    </g>\n    <g clip-path=\"url(#p6fbc75f360)\">\n     <use xlink:href=\"#C5_0_0b12c353b2\" x=\"-9.175129\" y=\"225.503707\" style=\"fill: #c1e6ba\"/>\n    </g>\n    <g clip-path=\"url(#p6fbc75f360)\">\n     <use xlink:href=\"#C5_0_0b12c353b2\" x=\"-9.175129\" y=\"213.622715\" style=\"fill: #62bb6d\"/>\n    </g>\n    <g clip-path=\"url(#p6fbc75f360)\">\n     <use xlink:href=\"#C5_0_0b12c353b2\" x=\"-9.175129\" y=\"201.741723\" style=\"fill: #c1e6ba\"/>\n    </g>\n    <g clip-path=\"url(#p6fbc75f360)\">\n     <use xlink:href=\"#C5_0_0b12c353b2\" x=\"-2.32422\" y=\"320.551641\" style=\"fill: #f7fcf5\"/>\n    </g>\n    <g clip-path=\"url(#p6fbc75f360)\">\n     <use xlink:href=\"#C5_0_0b12c353b2\" x=\"-2.32422\" y=\"308.670649\" style=\"fill: #f7fcf5\"/>\n    </g>\n    <g clip-path=\"url(#p6fbc75f360)\">\n     <use xlink:href=\"#C5_0_0b12c353b2\" x=\"-2.32422\" y=\"296.789657\" style=\"fill: #d8f0d2\"/>\n    </g>\n    <g clip-path=\"url(#p6fbc75f360)\">\n     <use xlink:href=\"#C5_0_0b12c353b2\" x=\"-2.32422\" y=\"284.908666\" style=\"fill: #62bb6d\"/>\n    </g>\n    <g clip-path=\"url(#p6fbc75f360)\">\n     <use xlink:href=\"#C5_0_0b12c353b2\" x=\"-2.32422\" y=\"273.027674\" style=\"fill: #c1e6ba\"/>\n    </g>\n    <g clip-path=\"url(#p6fbc75f360)\">\n     <use xlink:href=\"#C5_0_0b12c353b2\" x=\"-2.32422\" y=\"261.146682\" style=\"fill: #d8f0d2\"/>\n    </g>\n    <g clip-path=\"url(#p6fbc75f360)\">\n     <use xlink:href=\"#C5_0_0b12c353b2\" x=\"-2.32422\" y=\"249.26569\" style=\"fill: #d8f0d2\"/>\n    </g>\n    <g clip-path=\"url(#p6fbc75f360)\">\n     <use xlink:href=\"#C5_0_0b12c353b2\" x=\"-2.32422\" y=\"237.384699\" style=\"fill: #d8f0d2\"/>\n    </g>\n    <g clip-path=\"url(#p6fbc75f360)\">\n     <use xlink:href=\"#C5_0_0b12c353b2\" x=\"-2.32422\" y=\"225.503707\" style=\"fill: #84cc83\"/>\n    </g>\n    <g clip-path=\"url(#p6fbc75f360)\">\n     <use xlink:href=\"#C5_0_0b12c353b2\" x=\"-2.32422\" y=\"213.622715\" style=\"fill: #eaf7e6\"/>\n    </g>\n    <g clip-path=\"url(#p6fbc75f360)\">\n     <use xlink:href=\"#C5_0_0b12c353b2\" x=\"-2.32422\" y=\"201.741723\" style=\"fill: #f7fcf5\"/>\n    </g>\n    <g clip-path=\"url(#p6fbc75f360)\">\n     <use xlink:href=\"#C5_0_0b12c353b2\" x=\"4.526689\" y=\"320.551641\" style=\"fill: #eaf7e6\"/>\n    </g>\n    <g clip-path=\"url(#p6fbc75f360)\">\n     <use xlink:href=\"#C5_0_0b12c353b2\" x=\"4.526689\" y=\"308.670649\" style=\"fill: #eaf7e6\"/>\n    </g>\n    <g clip-path=\"url(#p6fbc75f360)\">\n     <use xlink:href=\"#C5_0_0b12c353b2\" x=\"4.526689\" y=\"296.789657\" style=\"fill: #d8f0d2\"/>\n    </g>\n    <g clip-path=\"url(#p6fbc75f360)\">\n     <use xlink:href=\"#C5_0_0b12c353b2\" x=\"4.526689\" y=\"284.908666\" style=\"fill: #a4da9e\"/>\n    </g>\n    <g clip-path=\"url(#p6fbc75f360)\">\n     <use xlink:href=\"#C5_0_0b12c353b2\" x=\"4.526689\" y=\"273.027674\" style=\"fill: #84cc83\"/>\n    </g>\n    <g clip-path=\"url(#p6fbc75f360)\">\n     <use xlink:href=\"#C5_0_0b12c353b2\" x=\"4.526689\" y=\"261.146682\" style=\"fill: #d8f0d2\"/>\n    </g>\n    <g clip-path=\"url(#p6fbc75f360)\">\n     <use xlink:href=\"#C5_0_0b12c353b2\" x=\"4.526689\" y=\"249.26569\" style=\"fill: #289049\"/>\n    </g>\n    <g clip-path=\"url(#p6fbc75f360)\">\n     <use xlink:href=\"#C5_0_0b12c353b2\" x=\"4.526689\" y=\"237.384699\" style=\"fill: #c1e6ba\"/>\n    </g>\n    <g clip-path=\"url(#p6fbc75f360)\">\n     <use xlink:href=\"#C5_0_0b12c353b2\" x=\"4.526689\" y=\"225.503707\" style=\"fill: #eaf7e6\"/>\n    </g>\n    <g clip-path=\"url(#p6fbc75f360)\">\n     <use xlink:href=\"#C5_0_0b12c353b2\" x=\"4.526689\" y=\"213.622715\" style=\"fill: #f7fcf5\"/>\n    </g>\n    <g clip-path=\"url(#p6fbc75f360)\">\n     <use xlink:href=\"#C5_0_0b12c353b2\" x=\"4.526689\" y=\"201.741723\" style=\"fill: #f7fcf5\"/>\n    </g>\n    <g clip-path=\"url(#p6fbc75f360)\">\n     <use xlink:href=\"#C5_0_0b12c353b2\" x=\"11.377598\" y=\"320.551641\" style=\"fill: #eaf7e6\"/>\n    </g>\n    <g clip-path=\"url(#p6fbc75f360)\">\n     <use xlink:href=\"#C5_0_0b12c353b2\" x=\"11.377598\" y=\"308.670649\" style=\"fill: #eaf7e6\"/>\n    </g>\n    <g clip-path=\"url(#p6fbc75f360)\">\n     <use xlink:href=\"#C5_0_0b12c353b2\" x=\"11.377598\" y=\"296.789657\" style=\"fill: #f7fcf5\"/>\n    </g>\n    <g clip-path=\"url(#p6fbc75f360)\">\n     <use xlink:href=\"#C5_0_0b12c353b2\" x=\"11.377598\" y=\"284.908666\" style=\"fill: #eaf7e6\"/>\n    </g>\n    <g clip-path=\"url(#p6fbc75f360)\">\n     <use xlink:href=\"#C5_0_0b12c353b2\" x=\"11.377598\" y=\"273.027674\" style=\"fill: #d8f0d2\"/>\n    </g>\n    <g clip-path=\"url(#p6fbc75f360)\">\n     <use xlink:href=\"#C5_0_0b12c353b2\" x=\"11.377598\" y=\"261.146682\" style=\"fill: #f7fcf5\"/>\n    </g>\n    <g clip-path=\"url(#p6fbc75f360)\">\n     <use xlink:href=\"#C5_0_0b12c353b2\" x=\"11.377598\" y=\"249.26569\" style=\"fill: #f7fcf5\"/>\n    </g>\n    <g clip-path=\"url(#p6fbc75f360)\">\n     <use xlink:href=\"#C5_0_0b12c353b2\" x=\"11.377598\" y=\"237.384699\" style=\"fill: #f7fcf5\"/>\n    </g>\n    <g clip-path=\"url(#p6fbc75f360)\">\n     <use xlink:href=\"#C5_0_0b12c353b2\" x=\"11.377598\" y=\"225.503707\" style=\"fill: #f7fcf5\"/>\n    </g>\n    <g clip-path=\"url(#p6fbc75f360)\">\n     <use xlink:href=\"#C5_0_0b12c353b2\" x=\"11.377598\" y=\"213.622715\" style=\"fill: #f7fcf5\"/>\n    </g>\n    <g clip-path=\"url(#p6fbc75f360)\">\n     <use xlink:href=\"#C5_0_0b12c353b2\" x=\"11.377598\" y=\"201.741723\" style=\"fill: #f7fcf5\"/>\n    </g>\n    <g clip-path=\"url(#p6fbc75f360)\">\n     <use xlink:href=\"#C5_0_0b12c353b2\" x=\"18.228507\" y=\"320.551641\" style=\"fill: #f7fcf5\"/>\n    </g>\n    <g clip-path=\"url(#p6fbc75f360)\">\n     <use xlink:href=\"#C5_0_0b12c353b2\" x=\"18.228507\" y=\"308.670649\" style=\"fill: #f7fcf5\"/>\n    </g>\n    <g clip-path=\"url(#p6fbc75f360)\">\n     <use xlink:href=\"#C5_0_0b12c353b2\" x=\"18.228507\" y=\"296.789657\" style=\"fill: #eaf7e6\"/>\n    </g>\n    <g clip-path=\"url(#p6fbc75f360)\">\n     <use xlink:href=\"#C5_0_0b12c353b2\" x=\"18.228507\" y=\"284.908666\" style=\"fill: #eaf7e6\"/>\n    </g>\n    <g clip-path=\"url(#p6fbc75f360)\">\n     <use xlink:href=\"#C5_0_0b12c353b2\" x=\"18.228507\" y=\"273.027674\" style=\"fill: #f7fcf5\"/>\n    </g>\n    <g clip-path=\"url(#p6fbc75f360)\">\n     <use xlink:href=\"#C5_0_0b12c353b2\" x=\"18.228507\" y=\"261.146682\" style=\"fill: #f7fcf5\"/>\n    </g>\n    <g clip-path=\"url(#p6fbc75f360)\">\n     <use xlink:href=\"#C5_0_0b12c353b2\" x=\"18.228507\" y=\"249.26569\" style=\"fill: #f7fcf5\"/>\n    </g>\n    <g clip-path=\"url(#p6fbc75f360)\">\n     <use xlink:href=\"#C5_0_0b12c353b2\" x=\"18.228507\" y=\"237.384699\" style=\"fill: #f7fcf5\"/>\n    </g>\n    <g clip-path=\"url(#p6fbc75f360)\">\n     <use xlink:href=\"#C5_0_0b12c353b2\" x=\"18.228507\" y=\"225.503707\" style=\"fill: #f7fcf5\"/>\n    </g>\n    <g clip-path=\"url(#p6fbc75f360)\">\n     <use xlink:href=\"#C5_0_0b12c353b2\" x=\"18.228507\" y=\"213.622715\" style=\"fill: #f7fcf5\"/>\n    </g>\n    <g clip-path=\"url(#p6fbc75f360)\">\n     <use xlink:href=\"#C5_0_0b12c353b2\" x=\"18.228507\" y=\"201.741723\" style=\"fill: #f7fcf5\"/>\n    </g>\n    <g clip-path=\"url(#p6fbc75f360)\">\n     <use xlink:href=\"#C5_0_0b12c353b2\" x=\"25.079417\" y=\"320.551641\" style=\"fill: #f7fcf5\"/>\n    </g>\n    <g clip-path=\"url(#p6fbc75f360)\">\n     <use xlink:href=\"#C5_0_0b12c353b2\" x=\"25.079417\" y=\"308.670649\" style=\"fill: #f7fcf5\"/>\n    </g>\n    <g clip-path=\"url(#p6fbc75f360)\">\n     <use xlink:href=\"#C5_0_0b12c353b2\" x=\"25.079417\" y=\"296.789657\" style=\"fill: #f7fcf5\"/>\n    </g>\n    <g clip-path=\"url(#p6fbc75f360)\">\n     <use xlink:href=\"#C5_0_0b12c353b2\" x=\"25.079417\" y=\"284.908666\" style=\"fill: #f7fcf5\"/>\n    </g>\n    <g clip-path=\"url(#p6fbc75f360)\">\n     <use xlink:href=\"#C5_0_0b12c353b2\" x=\"25.079417\" y=\"273.027674\" style=\"fill: #f7fcf5\"/>\n    </g>\n    <g clip-path=\"url(#p6fbc75f360)\">\n     <use xlink:href=\"#C5_0_0b12c353b2\" x=\"25.079417\" y=\"261.146682\" style=\"fill: #f7fcf5\"/>\n    </g>\n    <g clip-path=\"url(#p6fbc75f360)\">\n     <use xlink:href=\"#C5_0_0b12c353b2\" x=\"25.079417\" y=\"249.26569\" style=\"fill: #f7fcf5\"/>\n    </g>\n    <g clip-path=\"url(#p6fbc75f360)\">\n     <use xlink:href=\"#C5_0_0b12c353b2\" x=\"25.079417\" y=\"237.384699\" style=\"fill: #f7fcf5\"/>\n    </g>\n    <g clip-path=\"url(#p6fbc75f360)\">\n     <use xlink:href=\"#C5_0_0b12c353b2\" x=\"25.079417\" y=\"225.503707\" style=\"fill: #f7fcf5\"/>\n    </g>\n    <g clip-path=\"url(#p6fbc75f360)\">\n     <use xlink:href=\"#C5_0_0b12c353b2\" x=\"25.079417\" y=\"213.622715\" style=\"fill: #f7fcf5\"/>\n    </g>\n    <g clip-path=\"url(#p6fbc75f360)\">\n     <use xlink:href=\"#C5_0_0b12c353b2\" x=\"25.079417\" y=\"201.741723\" style=\"fill: #f7fcf5\"/>\n    </g>\n    <g clip-path=\"url(#p6fbc75f360)\">\n     <use xlink:href=\"#C5_0_0b12c353b2\" x=\"31.930326\" y=\"320.551641\" style=\"fill: #f7fcf5\"/>\n    </g>\n    <g clip-path=\"url(#p6fbc75f360)\">\n     <use xlink:href=\"#C5_0_0b12c353b2\" x=\"31.930326\" y=\"308.670649\" style=\"fill: #f7fcf5\"/>\n    </g>\n    <g clip-path=\"url(#p6fbc75f360)\">\n     <use xlink:href=\"#C5_0_0b12c353b2\" x=\"31.930326\" y=\"296.789657\" style=\"fill: #f7fcf5\"/>\n    </g>\n    <g clip-path=\"url(#p6fbc75f360)\">\n     <use xlink:href=\"#C5_0_0b12c353b2\" x=\"31.930326\" y=\"284.908666\" style=\"fill: #f7fcf5\"/>\n    </g>\n    <g clip-path=\"url(#p6fbc75f360)\">\n     <use xlink:href=\"#C5_0_0b12c353b2\" x=\"31.930326\" y=\"273.027674\" style=\"fill: #f7fcf5\"/>\n    </g>\n    <g clip-path=\"url(#p6fbc75f360)\">\n     <use xlink:href=\"#C5_0_0b12c353b2\" x=\"31.930326\" y=\"261.146682\" style=\"fill: #f7fcf5\"/>\n    </g>\n    <g clip-path=\"url(#p6fbc75f360)\">\n     <use xlink:href=\"#C5_0_0b12c353b2\" x=\"31.930326\" y=\"249.26569\" style=\"fill: #f7fcf5\"/>\n    </g>\n    <g clip-path=\"url(#p6fbc75f360)\">\n     <use xlink:href=\"#C5_0_0b12c353b2\" x=\"31.930326\" y=\"237.384699\" style=\"fill: #f7fcf5\"/>\n    </g>\n    <g clip-path=\"url(#p6fbc75f360)\">\n     <use xlink:href=\"#C5_0_0b12c353b2\" x=\"31.930326\" y=\"225.503707\" style=\"fill: #f7fcf5\"/>\n    </g>\n    <g clip-path=\"url(#p6fbc75f360)\">\n     <use xlink:href=\"#C5_0_0b12c353b2\" x=\"31.930326\" y=\"213.622715\" style=\"fill: #f7fcf5\"/>\n    </g>\n    <g clip-path=\"url(#p6fbc75f360)\">\n     <use xlink:href=\"#C5_0_0b12c353b2\" x=\"31.930326\" y=\"201.741723\" style=\"fill: #f7fcf5\"/>\n    </g>\n    <g clip-path=\"url(#p6fbc75f360)\">\n     <use xlink:href=\"#C5_0_0b12c353b2\" x=\"38.781235\" y=\"320.551641\" style=\"fill: #f7fcf5\"/>\n    </g>\n    <g clip-path=\"url(#p6fbc75f360)\">\n     <use xlink:href=\"#C5_0_0b12c353b2\" x=\"38.781235\" y=\"308.670649\" style=\"fill: #f7fcf5\"/>\n    </g>\n    <g clip-path=\"url(#p6fbc75f360)\">\n     <use xlink:href=\"#C5_0_0b12c353b2\" x=\"38.781235\" y=\"296.789657\" style=\"fill: #f7fcf5\"/>\n    </g>\n    <g clip-path=\"url(#p6fbc75f360)\">\n     <use xlink:href=\"#C5_0_0b12c353b2\" x=\"38.781235\" y=\"284.908666\" style=\"fill: #f7fcf5\"/>\n    </g>\n    <g clip-path=\"url(#p6fbc75f360)\">\n     <use xlink:href=\"#C5_0_0b12c353b2\" x=\"38.781235\" y=\"273.027674\" style=\"fill: #f7fcf5\"/>\n    </g>\n    <g clip-path=\"url(#p6fbc75f360)\">\n     <use xlink:href=\"#C5_0_0b12c353b2\" x=\"38.781235\" y=\"261.146682\" style=\"fill: #f7fcf5\"/>\n    </g>\n    <g clip-path=\"url(#p6fbc75f360)\">\n     <use xlink:href=\"#C5_0_0b12c353b2\" x=\"38.781235\" y=\"249.26569\" style=\"fill: #f7fcf5\"/>\n    </g>\n    <g clip-path=\"url(#p6fbc75f360)\">\n     <use xlink:href=\"#C5_0_0b12c353b2\" x=\"38.781235\" y=\"237.384699\" style=\"fill: #f7fcf5\"/>\n    </g>\n    <g clip-path=\"url(#p6fbc75f360)\">\n     <use xlink:href=\"#C5_0_0b12c353b2\" x=\"38.781235\" y=\"225.503707\" style=\"fill: #f7fcf5\"/>\n    </g>\n    <g clip-path=\"url(#p6fbc75f360)\">\n     <use xlink:href=\"#C5_0_0b12c353b2\" x=\"38.781235\" y=\"213.622715\" style=\"fill: #f7fcf5\"/>\n    </g>\n    <g clip-path=\"url(#p6fbc75f360)\">\n     <use xlink:href=\"#C5_0_0b12c353b2\" x=\"38.781235\" y=\"201.741723\" style=\"fill: #f7fcf5\"/>\n    </g>\n    <g clip-path=\"url(#p6fbc75f360)\">\n     <use xlink:href=\"#C5_0_0b12c353b2\" x=\"45.632144\" y=\"320.551641\" style=\"fill: #f7fcf5\"/>\n    </g>\n    <g clip-path=\"url(#p6fbc75f360)\">\n     <use xlink:href=\"#C5_0_0b12c353b2\" x=\"45.632144\" y=\"308.670649\" style=\"fill: #f7fcf5\"/>\n    </g>\n    <g clip-path=\"url(#p6fbc75f360)\">\n     <use xlink:href=\"#C5_0_0b12c353b2\" x=\"45.632144\" y=\"296.789657\" style=\"fill: #f7fcf5\"/>\n    </g>\n    <g clip-path=\"url(#p6fbc75f360)\">\n     <use xlink:href=\"#C5_0_0b12c353b2\" x=\"45.632144\" y=\"284.908666\" style=\"fill: #f7fcf5\"/>\n    </g>\n    <g clip-path=\"url(#p6fbc75f360)\">\n     <use xlink:href=\"#C5_0_0b12c353b2\" x=\"45.632144\" y=\"273.027674\" style=\"fill: #f7fcf5\"/>\n    </g>\n    <g clip-path=\"url(#p6fbc75f360)\">\n     <use xlink:href=\"#C5_0_0b12c353b2\" x=\"45.632144\" y=\"261.146682\" style=\"fill: #c1e6ba\"/>\n    </g>\n    <g clip-path=\"url(#p6fbc75f360)\">\n     <use xlink:href=\"#C5_0_0b12c353b2\" x=\"45.632144\" y=\"249.26569\" style=\"fill: #eaf7e6\"/>\n    </g>\n    <g clip-path=\"url(#p6fbc75f360)\">\n     <use xlink:href=\"#C5_0_0b12c353b2\" x=\"45.632144\" y=\"237.384699\" style=\"fill: #f7fcf5\"/>\n    </g>\n    <g clip-path=\"url(#p6fbc75f360)\">\n     <use xlink:href=\"#C5_0_0b12c353b2\" x=\"45.632144\" y=\"225.503707\" style=\"fill: #f7fcf5\"/>\n    </g>\n    <g clip-path=\"url(#p6fbc75f360)\">\n     <use xlink:href=\"#C5_0_0b12c353b2\" x=\"45.632144\" y=\"213.622715\" style=\"fill: #f7fcf5\"/>\n    </g>\n    <g clip-path=\"url(#p6fbc75f360)\">\n     <use xlink:href=\"#C5_0_0b12c353b2\" x=\"45.632144\" y=\"201.741723\" style=\"fill: #f7fcf5\"/>\n    </g>\n    <g clip-path=\"url(#p6fbc75f360)\">\n     <use xlink:href=\"#C5_0_0b12c353b2\" x=\"52.483053\" y=\"320.551641\" style=\"fill: #f7fcf5\"/>\n    </g>\n    <g clip-path=\"url(#p6fbc75f360)\">\n     <use xlink:href=\"#C5_0_0b12c353b2\" x=\"52.483053\" y=\"308.670649\" style=\"fill: #f7fcf5\"/>\n    </g>\n    <g clip-path=\"url(#p6fbc75f360)\">\n     <use xlink:href=\"#C5_0_0b12c353b2\" x=\"52.483053\" y=\"296.789657\" style=\"fill: #f7fcf5\"/>\n    </g>\n    <g clip-path=\"url(#p6fbc75f360)\">\n     <use xlink:href=\"#C5_0_0b12c353b2\" x=\"52.483053\" y=\"284.908666\" style=\"fill: #eaf7e6\"/>\n    </g>\n    <g clip-path=\"url(#p6fbc75f360)\">\n     <use xlink:href=\"#C5_0_0b12c353b2\" x=\"52.483053\" y=\"273.027674\" style=\"fill: #289049\"/>\n    </g>\n    <g clip-path=\"url(#p6fbc75f360)\">\n     <use xlink:href=\"#C5_0_0b12c353b2\" x=\"52.483053\" y=\"261.146682\" style=\"fill: #a4da9e\"/>\n    </g>\n    <g clip-path=\"url(#p6fbc75f360)\">\n     <use xlink:href=\"#C5_0_0b12c353b2\" x=\"52.483053\" y=\"249.26569\" style=\"fill: #d8f0d2\"/>\n    </g>\n    <g clip-path=\"url(#p6fbc75f360)\">\n     <use xlink:href=\"#C5_0_0b12c353b2\" x=\"52.483053\" y=\"237.384699\" style=\"fill: #f7fcf5\"/>\n    </g>\n    <g clip-path=\"url(#p6fbc75f360)\">\n     <use xlink:href=\"#C5_0_0b12c353b2\" x=\"52.483053\" y=\"225.503707\" style=\"fill: #f7fcf5\"/>\n    </g>\n    <g clip-path=\"url(#p6fbc75f360)\">\n     <use xlink:href=\"#C5_0_0b12c353b2\" x=\"52.483053\" y=\"213.622715\" style=\"fill: #f7fcf5\"/>\n    </g>\n    <g clip-path=\"url(#p6fbc75f360)\">\n     <use xlink:href=\"#C5_0_0b12c353b2\" x=\"52.483053\" y=\"201.741723\" style=\"fill: #f7fcf5\"/>\n    </g>\n    <g clip-path=\"url(#p6fbc75f360)\">\n     <use xlink:href=\"#C5_0_0b12c353b2\" x=\"59.333962\" y=\"320.551641\" style=\"fill: #f7fcf5\"/>\n    </g>\n    <g clip-path=\"url(#p6fbc75f360)\">\n     <use xlink:href=\"#C5_0_0b12c353b2\" x=\"59.333962\" y=\"308.670649\" style=\"fill: #f7fcf5\"/>\n    </g>\n    <g clip-path=\"url(#p6fbc75f360)\">\n     <use xlink:href=\"#C5_0_0b12c353b2\" x=\"59.333962\" y=\"296.789657\" style=\"fill: #f7fcf5\"/>\n    </g>\n    <g clip-path=\"url(#p6fbc75f360)\">\n     <use xlink:href=\"#C5_0_0b12c353b2\" x=\"59.333962\" y=\"284.908666\" style=\"fill: #3fa85b\"/>\n    </g>\n    <g clip-path=\"url(#p6fbc75f360)\">\n     <use xlink:href=\"#C5_0_0b12c353b2\" x=\"59.333962\" y=\"273.027674\" style=\"fill: #62bb6d\"/>\n    </g>\n    <g clip-path=\"url(#p6fbc75f360)\">\n     <use xlink:href=\"#C5_0_0b12c353b2\" x=\"59.333962\" y=\"261.146682\" style=\"fill: #84cc83\"/>\n    </g>\n    <g clip-path=\"url(#p6fbc75f360)\">\n     <use xlink:href=\"#C5_0_0b12c353b2\" x=\"59.333962\" y=\"249.26569\" style=\"fill: #c1e6ba\"/>\n    </g>\n    <g clip-path=\"url(#p6fbc75f360)\">\n     <use xlink:href=\"#C5_0_0b12c353b2\" x=\"59.333962\" y=\"237.384699\" style=\"fill: #d8f0d2\"/>\n    </g>\n    <g clip-path=\"url(#p6fbc75f360)\">\n     <use xlink:href=\"#C5_0_0b12c353b2\" x=\"59.333962\" y=\"225.503707\" style=\"fill: #f7fcf5\"/>\n    </g>\n    <g clip-path=\"url(#p6fbc75f360)\">\n     <use xlink:href=\"#C5_0_0b12c353b2\" x=\"59.333962\" y=\"213.622715\" style=\"fill: #f7fcf5\"/>\n    </g>\n    <g clip-path=\"url(#p6fbc75f360)\">\n     <use xlink:href=\"#C5_0_0b12c353b2\" x=\"59.333962\" y=\"201.741723\" style=\"fill: #f7fcf5\"/>\n    </g>\n    <g clip-path=\"url(#p6fbc75f360)\">\n     <use xlink:href=\"#C5_0_0b12c353b2\" x=\"66.184871\" y=\"320.551641\" style=\"fill: #f7fcf5\"/>\n    </g>\n    <g clip-path=\"url(#p6fbc75f360)\">\n     <use xlink:href=\"#C5_0_0b12c353b2\" x=\"66.184871\" y=\"308.670649\" style=\"fill: #f7fcf5\"/>\n    </g>\n    <g clip-path=\"url(#p6fbc75f360)\">\n     <use xlink:href=\"#C5_0_0b12c353b2\" x=\"66.184871\" y=\"296.789657\" style=\"fill: #f7fcf5\"/>\n    </g>\n    <g clip-path=\"url(#p6fbc75f360)\">\n     <use xlink:href=\"#C5_0_0b12c353b2\" x=\"66.184871\" y=\"284.908666\" style=\"fill: #c1e6ba\"/>\n    </g>\n    <g clip-path=\"url(#p6fbc75f360)\">\n     <use xlink:href=\"#C5_0_0b12c353b2\" x=\"66.184871\" y=\"273.027674\" style=\"fill: #62bb6d\"/>\n    </g>\n    <g clip-path=\"url(#p6fbc75f360)\">\n     <use xlink:href=\"#C5_0_0b12c353b2\" x=\"66.184871\" y=\"261.146682\" style=\"fill: #d8f0d2\"/>\n    </g>\n    <g clip-path=\"url(#p6fbc75f360)\">\n     <use xlink:href=\"#C5_0_0b12c353b2\" x=\"66.184871\" y=\"249.26569\" style=\"fill: #eaf7e6\"/>\n    </g>\n    <g clip-path=\"url(#p6fbc75f360)\">\n     <use xlink:href=\"#C5_0_0b12c353b2\" x=\"66.184871\" y=\"237.384699\" style=\"fill: #f7fcf5\"/>\n    </g>\n    <g clip-path=\"url(#p6fbc75f360)\">\n     <use xlink:href=\"#C5_0_0b12c353b2\" x=\"66.184871\" y=\"225.503707\" style=\"fill: #f7fcf5\"/>\n    </g>\n    <g clip-path=\"url(#p6fbc75f360)\">\n     <use xlink:href=\"#C5_0_0b12c353b2\" x=\"66.184871\" y=\"213.622715\" style=\"fill: #f7fcf5\"/>\n    </g>\n    <g clip-path=\"url(#p6fbc75f360)\">\n     <use xlink:href=\"#C5_0_0b12c353b2\" x=\"66.184871\" y=\"201.741723\" style=\"fill: #f7fcf5\"/>\n    </g>\n    <g clip-path=\"url(#p6fbc75f360)\">\n     <use xlink:href=\"#C5_0_0b12c353b2\" x=\"73.03578\" y=\"320.551641\" style=\"fill: #f7fcf5\"/>\n    </g>\n    <g clip-path=\"url(#p6fbc75f360)\">\n     <use xlink:href=\"#C5_0_0b12c353b2\" x=\"73.03578\" y=\"308.670649\" style=\"fill: #f7fcf5\"/>\n    </g>\n    <g clip-path=\"url(#p6fbc75f360)\">\n     <use xlink:href=\"#C5_0_0b12c353b2\" x=\"73.03578\" y=\"296.789657\" style=\"fill: #a4da9e\"/>\n    </g>\n    <g clip-path=\"url(#p6fbc75f360)\">\n     <use xlink:href=\"#C5_0_0b12c353b2\" x=\"73.03578\" y=\"284.908666\" style=\"fill: #84cc83\"/>\n    </g>\n    <g clip-path=\"url(#p6fbc75f360)\">\n     <use xlink:href=\"#C5_0_0b12c353b2\" x=\"73.03578\" y=\"273.027674\" style=\"fill: #c1e6ba\"/>\n    </g>\n    <g clip-path=\"url(#p6fbc75f360)\">\n     <use xlink:href=\"#C5_0_0b12c353b2\" x=\"73.03578\" y=\"261.146682\" style=\"fill: #eaf7e6\"/>\n    </g>\n    <g clip-path=\"url(#p6fbc75f360)\">\n     <use xlink:href=\"#C5_0_0b12c353b2\" x=\"73.03578\" y=\"249.26569\" style=\"fill: #d8f0d2\"/>\n    </g>\n    <g clip-path=\"url(#p6fbc75f360)\">\n     <use xlink:href=\"#C5_0_0b12c353b2\" x=\"73.03578\" y=\"237.384699\" style=\"fill: #f7fcf5\"/>\n    </g>\n    <g clip-path=\"url(#p6fbc75f360)\">\n     <use xlink:href=\"#C5_0_0b12c353b2\" x=\"73.03578\" y=\"225.503707\" style=\"fill: #f7fcf5\"/>\n    </g>\n    <g clip-path=\"url(#p6fbc75f360)\">\n     <use xlink:href=\"#C5_0_0b12c353b2\" x=\"73.03578\" y=\"213.622715\" style=\"fill: #f7fcf5\"/>\n    </g>\n    <g clip-path=\"url(#p6fbc75f360)\">\n     <use xlink:href=\"#C5_0_0b12c353b2\" x=\"73.03578\" y=\"201.741723\" style=\"fill: #f7fcf5\"/>\n    </g>\n    <g clip-path=\"url(#p6fbc75f360)\">\n     <use xlink:href=\"#C5_0_0b12c353b2\" x=\"79.886689\" y=\"320.551641\" style=\"fill: #f7fcf5\"/>\n    </g>\n    <g clip-path=\"url(#p6fbc75f360)\">\n     <use xlink:href=\"#C5_0_0b12c353b2\" x=\"79.886689\" y=\"308.670649\" style=\"fill: #f7fcf5\"/>\n    </g>\n    <g clip-path=\"url(#p6fbc75f360)\">\n     <use xlink:href=\"#C5_0_0b12c353b2\" x=\"79.886689\" y=\"296.789657\" style=\"fill: #c1e6ba\"/>\n    </g>\n    <g clip-path=\"url(#p6fbc75f360)\">\n     <use xlink:href=\"#C5_0_0b12c353b2\" x=\"79.886689\" y=\"284.908666\" style=\"fill: #d8f0d2\"/>\n    </g>\n    <g clip-path=\"url(#p6fbc75f360)\">\n     <use xlink:href=\"#C5_0_0b12c353b2\" x=\"79.886689\" y=\"273.027674\" style=\"fill: #d8f0d2\"/>\n    </g>\n    <g clip-path=\"url(#p6fbc75f360)\">\n     <use xlink:href=\"#C5_0_0b12c353b2\" x=\"79.886689\" y=\"261.146682\" style=\"fill: #d8f0d2\"/>\n    </g>\n    <g clip-path=\"url(#p6fbc75f360)\">\n     <use xlink:href=\"#C5_0_0b12c353b2\" x=\"79.886689\" y=\"249.26569\" style=\"fill: #f7fcf5\"/>\n    </g>\n    <g clip-path=\"url(#p6fbc75f360)\">\n     <use xlink:href=\"#C5_0_0b12c353b2\" x=\"79.886689\" y=\"237.384699\" style=\"fill: #f7fcf5\"/>\n    </g>\n    <g clip-path=\"url(#p6fbc75f360)\">\n     <use xlink:href=\"#C5_0_0b12c353b2\" x=\"79.886689\" y=\"225.503707\" style=\"fill: #f7fcf5\"/>\n    </g>\n    <g clip-path=\"url(#p6fbc75f360)\">\n     <use xlink:href=\"#C5_0_0b12c353b2\" x=\"79.886689\" y=\"213.622715\" style=\"fill: #f7fcf5\"/>\n    </g>\n    <g clip-path=\"url(#p6fbc75f360)\">\n     <use xlink:href=\"#C5_0_0b12c353b2\" x=\"79.886689\" y=\"201.741723\" style=\"fill: #f7fcf5\"/>\n    </g>\n   </g>\n   <g id=\"matplotlib.axis_11\"/>\n   <g id=\"matplotlib.axis_12\"/>\n   <g id=\"patch_28\">\n    <path d=\"M 334.56 341.42175 \nL 334.56 197.66175 \n\" style=\"fill: none; stroke: #000000; stroke-width: 0.8; stroke-linejoin: miter; stroke-linecap: square\"/>\n   </g>\n   <g id=\"patch_29\">\n    <path d=\"M 485.28 341.42175 \nL 485.28 197.66175 \n\" style=\"fill: none; stroke: #000000; stroke-width: 0.8; stroke-linejoin: miter; stroke-linecap: square\"/>\n   </g>\n   <g id=\"patch_30\">\n    <path d=\"M 334.56 341.42175 \nL 485.28 341.42175 \n\" style=\"fill: none; stroke: #000000; stroke-width: 0.8; stroke-linejoin: miter; stroke-linecap: square\"/>\n   </g>\n   <g id=\"patch_31\">\n    <path d=\"M 334.56 197.66175 \nL 485.28 197.66175 \n\" style=\"fill: none; stroke: #000000; stroke-width: 0.8; stroke-linejoin: miter; stroke-linecap: square\"/>\n   </g>\n   <g id=\"text_6\">\n    <!-- surprise -->\n    <g transform=\"translate(380.934375 191.66175) scale(0.144 -0.144)\">\n     <defs>\n      <path id=\"DejaVuSans-75\" d=\"M 544 1381 \nL 544 3500 \nL 1119 3500 \nL 1119 1403 \nQ 1119 906 1312 657 \nQ 1506 409 1894 409 \nQ 2359 409 2629 706 \nQ 2900 1003 2900 1516 \nL 2900 3500 \nL 3475 3500 \nL 3475 0 \nL 2900 0 \nL 2900 538 \nQ 2691 219 2414 64 \nQ 2138 -91 1772 -91 \nQ 1169 -91 856 284 \nQ 544 659 544 1381 \nz\nM 1991 3584 \nL 1991 3584 \nz\n\" transform=\"scale(0.015625)\"/>\n      <path id=\"DejaVuSans-70\" d=\"M 1159 525 \nL 1159 -1331 \nL 581 -1331 \nL 581 3500 \nL 1159 3500 \nL 1159 2969 \nQ 1341 3281 1617 3432 \nQ 1894 3584 2278 3584 \nQ 2916 3584 3314 3078 \nQ 3713 2572 3713 1747 \nQ 3713 922 3314 415 \nQ 2916 -91 2278 -91 \nQ 1894 -91 1617 61 \nQ 1341 213 1159 525 \nz\nM 3116 1747 \nQ 3116 2381 2855 2742 \nQ 2594 3103 2138 3103 \nQ 1681 3103 1420 2742 \nQ 1159 2381 1159 1747 \nQ 1159 1113 1420 752 \nQ 1681 391 2138 391 \nQ 2594 391 2855 752 \nQ 3116 1113 3116 1747 \nz\n\" transform=\"scale(0.015625)\"/>\n      <path id=\"DejaVuSans-69\" d=\"M 603 3500 \nL 1178 3500 \nL 1178 0 \nL 603 0 \nL 603 3500 \nz\nM 603 4863 \nL 1178 4863 \nL 1178 4134 \nL 603 4134 \nL 603 4863 \nz\n\" transform=\"scale(0.015625)\"/>\n     </defs>\n     <use xlink:href=\"#DejaVuSans-73\"/>\n     <use xlink:href=\"#DejaVuSans-75\" x=\"52.099609\"/>\n     <use xlink:href=\"#DejaVuSans-72\" x=\"115.478516\"/>\n     <use xlink:href=\"#DejaVuSans-70\" x=\"156.591797\"/>\n     <use xlink:href=\"#DejaVuSans-72\" x=\"220.068359\"/>\n     <use xlink:href=\"#DejaVuSans-69\" x=\"261.181641\"/>\n     <use xlink:href=\"#DejaVuSans-73\" x=\"288.964844\"/>\n     <use xlink:href=\"#DejaVuSans-65\" x=\"341.064453\"/>\n    </g>\n   </g>\n  </g>\n </g>\n <defs>\n  <clipPath id=\"p9fce212757\">\n   <rect x=\"7.2\" y=\"24.14175\" width=\"150.72\" height=\"143.76\"/>\n  </clipPath>\n  <clipPath id=\"p04ae43a9f4\">\n   <rect x=\"170.88\" y=\"24.14175\" width=\"150.72\" height=\"143.76\"/>\n  </clipPath>\n  <clipPath id=\"p5680fb8e47\">\n   <rect x=\"334.56\" y=\"24.14175\" width=\"150.72\" height=\"143.76\"/>\n  </clipPath>\n  <clipPath id=\"pd1043aec65\">\n   <rect x=\"7.2\" y=\"197.66175\" width=\"150.72\" height=\"143.76\"/>\n  </clipPath>\n  <clipPath id=\"p3f76e865ea\">\n   <rect x=\"170.88\" y=\"197.66175\" width=\"150.72\" height=\"143.76\"/>\n  </clipPath>\n  <clipPath id=\"p6fbc75f360\">\n   <rect x=\"334.56\" y=\"197.66175\" width=\"150.72\" height=\"143.76\"/>\n  </clipPath>\n </defs>\n</svg>\n",
            "application/pdf": "[encoded data removed]"
          },
          "metadata": {}
        }
      ]
    },
    {
      "cell_type": "markdown",
      "source": [
        "**간단한 분류 모델 훈련하기**"
      ],
      "metadata": {
        "id": "lYN5P-irbRXo"
      }
    },
    {
      "cell_type": "code",
      "source": [
        "from sklearn.linear_model import LogisticRegression\n",
        "\n",
        "# 수렴을 보장하기 위해 'max_iter'을 증가시킵니다.\n",
        "lr_clf = LogisticRegression(max_iter=3000)\n",
        "lr_clf.fit(X_train, y_train)\n",
        "lr_clf.score(X_valid, y_valid)"
      ],
      "metadata": {
        "id": "a2WP6aPiaXWp",
        "colab": {
          "base_uri": "https://localhost:8080/"
        },
        "outputId": "93a8eeec-d1bd-4456-d672-410d283614e9"
      },
      "execution_count": 32,
      "outputs": [
        {
          "output_type": "execute_result",
          "data": {
            "text/plain": [
              "0.634"
            ]
          },
          "metadata": {},
          "execution_count": 32
        }
      ]
    },
    {
      "cell_type": "code",
      "source": [
        "from sklearn.dummy import DummyClassifier\n",
        "\n",
        "dummy_clf = DummyClassifier(strategy=\"most_frequent\")\n",
        "dummy_clf.fit(X_train, y_train)\n",
        "dummy_clf.score(X_valid, y_valid)"
      ],
      "metadata": {
        "colab": {
          "base_uri": "https://localhost:8080/"
        },
        "id": "sAh4vBTLC0hn",
        "outputId": "81cc47ac-7664-4e5d-f215-dad80723da6d"
      },
      "execution_count": 33,
      "outputs": [
        {
          "output_type": "execute_result",
          "data": {
            "text/plain": [
              "0.352"
            ]
          },
          "metadata": {},
          "execution_count": 33
        }
      ]
    },
    {
      "cell_type": "code",
      "source": [
        "from sklearn.metrics import ConfusionMatrixDisplay, confusion_matrix\n",
        "\n",
        "def plot_confusion_matrix(y_preds, y_true, labels) :\n",
        "    cm = confusion_matrix(y_true, y_preds, normalize=\"true\")\n",
        "    fig, ax = plt.subplots(figsize=(6,6))\n",
        "    disp = ConfusionMatrixDisplay(confusion_matrix=cm, display_labels=labels)\n",
        "    disp.plot(cmap=\"Blues\", values_format=\".2f\", ax=ax, colorbar=False)\n",
        "    plt.title(\"Normalized confusion matrix\")\n",
        "    plt.show()\n",
        "\n",
        "y_preds = lr_clf.predict(X_valid)\n",
        "plot_confusion_matrix(y_preds, y_valid, labels)"
      ],
      "metadata": {
        "colab": {
          "base_uri": "https://localhost:8080/",
          "height": 551
        },
        "id": "8uUJKeWBEVp7",
        "outputId": "559e7c28-16ac-4cc6-936d-cab18c963ffd"
      },
      "execution_count": 34,
      "outputs": [
        {
          "output_type": "display_data",
          "data": {
            "text/plain": [
              "<Figure size 600x600 with 1 Axes>"
            ],
            "image/svg+xml": "<?xml version=\"1.0\" encoding=\"utf-8\" standalone=\"no\"?>\n<!DOCTYPE svg PUBLIC \"-//W3C//DTD SVG 1.1//EN\"\n  \"http://www.w3.org/Graphics/SVG/1.1/DTD/svg11.dtd\">\n<svg xmlns:xlink=\"http://www.w3.org/1999/xlink\" width=\"418.368125pt\" height=\"398.20925pt\" viewBox=\"0 0 418.368125 398.20925\" xmlns=\"http://www.w3.org/2000/svg\" version=\"1.1\">\n <metadata>\n  <rdf:RDF xmlns:dc=\"http://purl.org/dc/elements/1.1/\" xmlns:cc=\"http://creativecommons.org/ns#\" xmlns:rdf=\"http://www.w3.org/1999/02/22-rdf-syntax-ns#\">\n   <cc:Work>\n    <dc:type rdf:resource=\"http://purl.org/dc/dcmitype/StillImage\"/>\n    <dc:date>2023-07-16T14:52:56.076184</dc:date>\n    <dc:format>image/svg+xml</dc:format>\n    <dc:creator>\n     <cc:Agent>\n      <dc:title>Matplotlib v3.7.1, https://matplotlib.org/</dc:title>\n     </cc:Agent>\n    </dc:creator>\n   </cc:Work>\n  </rdf:RDF>\n </metadata>\n <defs>\n  <style type=\"text/css\">*{stroke-linejoin: round; stroke-linecap: butt}</style>\n </defs>\n <g id=\"figure_1\">\n  <g id=\"patch_1\">\n   <path d=\"M 0 398.20925 \nL 418.368125 398.20925 \nL 418.368125 0 \nL 0 0 \nz\n\" style=\"fill: #ffffff\"/>\n  </g>\n  <g id=\"axes_1\">\n   <g id=\"patch_2\">\n    <path d=\"M 78.528125 356.78175 \nL 411.168125 356.78175 \nL 411.168125 24.14175 \nL 78.528125 24.14175 \nz\n\" style=\"fill: #ffffff\"/>\n   </g>\n   <g clip-path=\"url(#p2bcabb047a)\">\n    <image xlink:href=\"data:image/png;base64,\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\" id=\"image2522d3f73f\" transform=\"scale(1 -1) translate(0 -333.36)\" x=\"78.528125\" y=\"-23.42175\" width=\"332.64\" height=\"333.36\"/>\n   </g>\n   <g id=\"matplotlib.axis_1\">\n    <g id=\"xtick_1\">\n     <g id=\"line2d_1\">\n      <defs>\n       <path id=\"m917f1da20c\" d=\"M 0 0 \nL 0 3.5 \n\" style=\"stroke: #000000; stroke-width: 0.8\"/>\n      </defs>\n      <g>\n       <use xlink:href=\"#m917f1da20c\" x=\"106.248125\" y=\"356.78175\" style=\"stroke: #000000; stroke-width: 0.8\"/>\n      </g>\n     </g>\n     <g id=\"text_1\">\n      <!-- sadness -->\n      <g transform=\"translate(81.890937 372.899875) scale(0.12 -0.12)\">\n       <defs>\n        <path id=\"DejaVuSans-73\" d=\"M 2834 3397 \nL 2834 2853 \nQ 2591 2978 2328 3040 \nQ 2066 3103 1784 3103 \nQ 1356 3103 1142 2972 \nQ 928 2841 928 2578 \nQ 928 2378 1081 2264 \nQ 1234 2150 1697 2047 \nL 1894 2003 \nQ 2506 1872 2764 1633 \nQ 3022 1394 3022 966 \nQ 3022 478 2636 193 \nQ 2250 -91 1575 -91 \nQ 1294 -91 989 -36 \nQ 684 19 347 128 \nL 347 722 \nQ 666 556 975 473 \nQ 1284 391 1588 391 \nQ 1994 391 2212 530 \nQ 2431 669 2431 922 \nQ 2431 1156 2273 1281 \nQ 2116 1406 1581 1522 \nL 1381 1569 \nQ 847 1681 609 1914 \nQ 372 2147 372 2553 \nQ 372 3047 722 3315 \nQ 1072 3584 1716 3584 \nQ 2034 3584 2315 3537 \nQ 2597 3491 2834 3397 \nz\n\" transform=\"scale(0.015625)\"/>\n        <path id=\"DejaVuSans-61\" d=\"M 2194 1759 \nQ 1497 1759 1228 1600 \nQ 959 1441 959 1056 \nQ 959 750 1161 570 \nQ 1363 391 1709 391 \nQ 2188 391 2477 730 \nQ 2766 1069 2766 1631 \nL 2766 1759 \nL 2194 1759 \nz\nM 3341 1997 \nL 3341 0 \nL 2766 0 \nL 2766 531 \nQ 2569 213 2275 61 \nQ 1981 -91 1556 -91 \nQ 1019 -91 701 211 \nQ 384 513 384 1019 \nQ 384 1609 779 1909 \nQ 1175 2209 1959 2209 \nL 2766 2209 \nL 2766 2266 \nQ 2766 2663 2505 2880 \nQ 2244 3097 1772 3097 \nQ 1472 3097 1187 3025 \nQ 903 2953 641 2809 \nL 641 3341 \nQ 956 3463 1253 3523 \nQ 1550 3584 1831 3584 \nQ 2591 3584 2966 3190 \nQ 3341 2797 3341 1997 \nz\n\" transform=\"scale(0.015625)\"/>\n        <path id=\"DejaVuSans-64\" d=\"M 2906 2969 \nL 2906 4863 \nL 3481 4863 \nL 3481 0 \nL 2906 0 \nL 2906 525 \nQ 2725 213 2448 61 \nQ 2172 -91 1784 -91 \nQ 1150 -91 751 415 \nQ 353 922 353 1747 \nQ 353 2572 751 3078 \nQ 1150 3584 1784 3584 \nQ 2172 3584 2448 3432 \nQ 2725 3281 2906 2969 \nz\nM 947 1747 \nQ 947 1113 1208 752 \nQ 1469 391 1925 391 \nQ 2381 391 2643 752 \nQ 2906 1113 2906 1747 \nQ 2906 2381 2643 2742 \nQ 2381 3103 1925 3103 \nQ 1469 3103 1208 2742 \nQ 947 2381 947 1747 \nz\n\" transform=\"scale(0.015625)\"/>\n        <path id=\"DejaVuSans-6e\" d=\"M 3513 2113 \nL 3513 0 \nL 2938 0 \nL 2938 2094 \nQ 2938 2591 2744 2837 \nQ 2550 3084 2163 3084 \nQ 1697 3084 1428 2787 \nQ 1159 2491 1159 1978 \nL 1159 0 \nL 581 0 \nL 581 3500 \nL 1159 3500 \nL 1159 2956 \nQ 1366 3272 1645 3428 \nQ 1925 3584 2291 3584 \nQ 2894 3584 3203 3211 \nQ 3513 2838 3513 2113 \nz\n\" transform=\"scale(0.015625)\"/>\n        <path id=\"DejaVuSans-65\" d=\"M 3597 1894 \nL 3597 1613 \nL 953 1613 \nQ 991 1019 1311 708 \nQ 1631 397 2203 397 \nQ 2534 397 2845 478 \nQ 3156 559 3463 722 \nL 3463 178 \nQ 3153 47 2828 -22 \nQ 2503 -91 2169 -91 \nQ 1331 -91 842 396 \nQ 353 884 353 1716 \nQ 353 2575 817 3079 \nQ 1281 3584 2069 3584 \nQ 2775 3584 3186 3129 \nQ 3597 2675 3597 1894 \nz\nM 3022 2063 \nQ 3016 2534 2758 2815 \nQ 2500 3097 2075 3097 \nQ 1594 3097 1305 2825 \nQ 1016 2553 972 2059 \nL 3022 2063 \nz\n\" transform=\"scale(0.015625)\"/>\n       </defs>\n       <use xlink:href=\"#DejaVuSans-73\"/>\n       <use xlink:href=\"#DejaVuSans-61\" x=\"52.099609\"/>\n       <use xlink:href=\"#DejaVuSans-64\" x=\"113.378906\"/>\n       <use xlink:href=\"#DejaVuSans-6e\" x=\"176.855469\"/>\n       <use xlink:href=\"#DejaVuSans-65\" x=\"240.234375\"/>\n       <use xlink:href=\"#DejaVuSans-73\" x=\"301.757812\"/>\n       <use xlink:href=\"#DejaVuSans-73\" x=\"353.857422\"/>\n      </g>\n     </g>\n    </g>\n    <g id=\"xtick_2\">\n     <g id=\"line2d_2\">\n      <g>\n       <use xlink:href=\"#m917f1da20c\" x=\"161.688125\" y=\"356.78175\" style=\"stroke: #000000; stroke-width: 0.8\"/>\n      </g>\n     </g>\n     <g id=\"text_2\">\n      <!-- joy -->\n      <g transform=\"translate(152.79875 372.899875) scale(0.12 -0.12)\">\n       <defs>\n        <path id=\"DejaVuSans-6a\" d=\"M 603 3500 \nL 1178 3500 \nL 1178 -63 \nQ 1178 -731 923 -1031 \nQ 669 -1331 103 -1331 \nL -116 -1331 \nL -116 -844 \nL 38 -844 \nQ 366 -844 484 -692 \nQ 603 -541 603 -63 \nL 603 3500 \nz\nM 603 4863 \nL 1178 4863 \nL 1178 4134 \nL 603 4134 \nL 603 4863 \nz\n\" transform=\"scale(0.015625)\"/>\n        <path id=\"DejaVuSans-6f\" d=\"M 1959 3097 \nQ 1497 3097 1228 2736 \nQ 959 2375 959 1747 \nQ 959 1119 1226 758 \nQ 1494 397 1959 397 \nQ 2419 397 2687 759 \nQ 2956 1122 2956 1747 \nQ 2956 2369 2687 2733 \nQ 2419 3097 1959 3097 \nz\nM 1959 3584 \nQ 2709 3584 3137 3096 \nQ 3566 2609 3566 1747 \nQ 3566 888 3137 398 \nQ 2709 -91 1959 -91 \nQ 1206 -91 779 398 \nQ 353 888 353 1747 \nQ 353 2609 779 3096 \nQ 1206 3584 1959 3584 \nz\n\" transform=\"scale(0.015625)\"/>\n        <path id=\"DejaVuSans-79\" d=\"M 2059 -325 \nQ 1816 -950 1584 -1140 \nQ 1353 -1331 966 -1331 \nL 506 -1331 \nL 506 -850 \nL 844 -850 \nQ 1081 -850 1212 -737 \nQ 1344 -625 1503 -206 \nL 1606 56 \nL 191 3500 \nL 800 3500 \nL 1894 763 \nL 2988 3500 \nL 3597 3500 \nL 2059 -325 \nz\n\" transform=\"scale(0.015625)\"/>\n       </defs>\n       <use xlink:href=\"#DejaVuSans-6a\"/>\n       <use xlink:href=\"#DejaVuSans-6f\" x=\"27.783203\"/>\n       <use xlink:href=\"#DejaVuSans-79\" x=\"88.964844\"/>\n      </g>\n     </g>\n    </g>\n    <g id=\"xtick_3\">\n     <g id=\"line2d_3\">\n      <g>\n       <use xlink:href=\"#m917f1da20c\" x=\"217.128125\" y=\"356.78175\" style=\"stroke: #000000; stroke-width: 0.8\"/>\n      </g>\n     </g>\n     <g id=\"text_3\">\n      <!-- love -->\n      <g transform=\"translate(204.546875 372.899875) scale(0.12 -0.12)\">\n       <defs>\n        <path id=\"DejaVuSans-6c\" d=\"M 603 4863 \nL 1178 4863 \nL 1178 0 \nL 603 0 \nL 603 4863 \nz\n\" transform=\"scale(0.015625)\"/>\n        <path id=\"DejaVuSans-76\" d=\"M 191 3500 \nL 800 3500 \nL 1894 563 \nL 2988 3500 \nL 3597 3500 \nL 2284 0 \nL 1503 0 \nL 191 3500 \nz\n\" transform=\"scale(0.015625)\"/>\n       </defs>\n       <use xlink:href=\"#DejaVuSans-6c\"/>\n       <use xlink:href=\"#DejaVuSans-6f\" x=\"27.783203\"/>\n       <use xlink:href=\"#DejaVuSans-76\" x=\"88.964844\"/>\n       <use xlink:href=\"#DejaVuSans-65\" x=\"148.144531\"/>\n      </g>\n     </g>\n    </g>\n    <g id=\"xtick_4\">\n     <g id=\"line2d_4\">\n      <g>\n       <use xlink:href=\"#m917f1da20c\" x=\"272.568125\" y=\"356.78175\" style=\"stroke: #000000; stroke-width: 0.8\"/>\n      </g>\n     </g>\n     <g id=\"text_4\">\n      <!-- anger -->\n      <g transform=\"translate(255.12125 372.899875) scale(0.12 -0.12)\">\n       <defs>\n        <path id=\"DejaVuSans-67\" d=\"M 2906 1791 \nQ 2906 2416 2648 2759 \nQ 2391 3103 1925 3103 \nQ 1463 3103 1205 2759 \nQ 947 2416 947 1791 \nQ 947 1169 1205 825 \nQ 1463 481 1925 481 \nQ 2391 481 2648 825 \nQ 2906 1169 2906 1791 \nz\nM 3481 434 \nQ 3481 -459 3084 -895 \nQ 2688 -1331 1869 -1331 \nQ 1566 -1331 1297 -1286 \nQ 1028 -1241 775 -1147 \nL 775 -588 \nQ 1028 -725 1275 -790 \nQ 1522 -856 1778 -856 \nQ 2344 -856 2625 -561 \nQ 2906 -266 2906 331 \nL 2906 616 \nQ 2728 306 2450 153 \nQ 2172 0 1784 0 \nQ 1141 0 747 490 \nQ 353 981 353 1791 \nQ 353 2603 747 3093 \nQ 1141 3584 1784 3584 \nQ 2172 3584 2450 3431 \nQ 2728 3278 2906 2969 \nL 2906 3500 \nL 3481 3500 \nL 3481 434 \nz\n\" transform=\"scale(0.015625)\"/>\n        <path id=\"DejaVuSans-72\" d=\"M 2631 2963 \nQ 2534 3019 2420 3045 \nQ 2306 3072 2169 3072 \nQ 1681 3072 1420 2755 \nQ 1159 2438 1159 1844 \nL 1159 0 \nL 581 0 \nL 581 3500 \nL 1159 3500 \nL 1159 2956 \nQ 1341 3275 1631 3429 \nQ 1922 3584 2338 3584 \nQ 2397 3584 2469 3576 \nQ 2541 3569 2628 3553 \nL 2631 2963 \nz\n\" transform=\"scale(0.015625)\"/>\n       </defs>\n       <use xlink:href=\"#DejaVuSans-61\"/>\n       <use xlink:href=\"#DejaVuSans-6e\" x=\"61.279297\"/>\n       <use xlink:href=\"#DejaVuSans-67\" x=\"124.658203\"/>\n       <use xlink:href=\"#DejaVuSans-65\" x=\"188.134766\"/>\n       <use xlink:href=\"#DejaVuSans-72\" x=\"249.658203\"/>\n      </g>\n     </g>\n    </g>\n    <g id=\"xtick_5\">\n     <g id=\"line2d_5\">\n      <g>\n       <use xlink:href=\"#m917f1da20c\" x=\"328.008125\" y=\"356.78175\" style=\"stroke: #000000; stroke-width: 0.8\"/>\n      </g>\n     </g>\n     <g id=\"text_5\">\n      <!-- fear -->\n      <g transform=\"translate(316.060625 372.899875) scale(0.12 -0.12)\">\n       <defs>\n        <path id=\"DejaVuSans-66\" d=\"M 2375 4863 \nL 2375 4384 \nL 1825 4384 \nQ 1516 4384 1395 4259 \nQ 1275 4134 1275 3809 \nL 1275 3500 \nL 2222 3500 \nL 2222 3053 \nL 1275 3053 \nL 1275 0 \nL 697 0 \nL 697 3053 \nL 147 3053 \nL 147 3500 \nL 697 3500 \nL 697 3744 \nQ 697 4328 969 4595 \nQ 1241 4863 1831 4863 \nL 2375 4863 \nz\n\" transform=\"scale(0.015625)\"/>\n       </defs>\n       <use xlink:href=\"#DejaVuSans-66\"/>\n       <use xlink:href=\"#DejaVuSans-65\" x=\"35.205078\"/>\n       <use xlink:href=\"#DejaVuSans-61\" x=\"96.728516\"/>\n       <use xlink:href=\"#DejaVuSans-72\" x=\"158.007812\"/>\n      </g>\n     </g>\n    </g>\n    <g id=\"xtick_6\">\n     <g id=\"line2d_6\">\n      <g>\n       <use xlink:href=\"#m917f1da20c\" x=\"383.448125\" y=\"356.78175\" style=\"stroke: #000000; stroke-width: 0.8\"/>\n      </g>\n     </g>\n     <g id=\"text_6\">\n      <!-- surprise -->\n      <g transform=\"translate(359.293437 372.899875) scale(0.12 -0.12)\">\n       <defs>\n        <path id=\"DejaVuSans-75\" d=\"M 544 1381 \nL 544 3500 \nL 1119 3500 \nL 1119 1403 \nQ 1119 906 1312 657 \nQ 1506 409 1894 409 \nQ 2359 409 2629 706 \nQ 2900 1003 2900 1516 \nL 2900 3500 \nL 3475 3500 \nL 3475 0 \nL 2900 0 \nL 2900 538 \nQ 2691 219 2414 64 \nQ 2138 -91 1772 -91 \nQ 1169 -91 856 284 \nQ 544 659 544 1381 \nz\nM 1991 3584 \nL 1991 3584 \nz\n\" transform=\"scale(0.015625)\"/>\n        <path id=\"DejaVuSans-70\" d=\"M 1159 525 \nL 1159 -1331 \nL 581 -1331 \nL 581 3500 \nL 1159 3500 \nL 1159 2969 \nQ 1341 3281 1617 3432 \nQ 1894 3584 2278 3584 \nQ 2916 3584 3314 3078 \nQ 3713 2572 3713 1747 \nQ 3713 922 3314 415 \nQ 2916 -91 2278 -91 \nQ 1894 -91 1617 61 \nQ 1341 213 1159 525 \nz\nM 3116 1747 \nQ 3116 2381 2855 2742 \nQ 2594 3103 2138 3103 \nQ 1681 3103 1420 2742 \nQ 1159 2381 1159 1747 \nQ 1159 1113 1420 752 \nQ 1681 391 2138 391 \nQ 2594 391 2855 752 \nQ 3116 1113 3116 1747 \nz\n\" transform=\"scale(0.015625)\"/>\n        <path id=\"DejaVuSans-69\" d=\"M 603 3500 \nL 1178 3500 \nL 1178 0 \nL 603 0 \nL 603 3500 \nz\nM 603 4863 \nL 1178 4863 \nL 1178 4134 \nL 603 4134 \nL 603 4863 \nz\n\" transform=\"scale(0.015625)\"/>\n       </defs>\n       <use xlink:href=\"#DejaVuSans-73\"/>\n       <use xlink:href=\"#DejaVuSans-75\" x=\"52.099609\"/>\n       <use xlink:href=\"#DejaVuSans-72\" x=\"115.478516\"/>\n       <use xlink:href=\"#DejaVuSans-70\" x=\"156.591797\"/>\n       <use xlink:href=\"#DejaVuSans-72\" x=\"220.068359\"/>\n       <use xlink:href=\"#DejaVuSans-69\" x=\"261.181641\"/>\n       <use xlink:href=\"#DejaVuSans-73\" x=\"288.964844\"/>\n       <use xlink:href=\"#DejaVuSans-65\" x=\"341.064453\"/>\n      </g>\n     </g>\n    </g>\n    <g id=\"text_7\">\n     <!-- Predicted label -->\n     <g transform=\"translate(200.265312 388.513625) scale(0.12 -0.12)\">\n      <defs>\n       <path id=\"DejaVuSans-50\" d=\"M 1259 4147 \nL 1259 2394 \nL 2053 2394 \nQ 2494 2394 2734 2622 \nQ 2975 2850 2975 3272 \nQ 2975 3691 2734 3919 \nQ 2494 4147 2053 4147 \nL 1259 4147 \nz\nM 628 4666 \nL 2053 4666 \nQ 2838 4666 3239 4311 \nQ 3641 3956 3641 3272 \nQ 3641 2581 3239 2228 \nQ 2838 1875 2053 1875 \nL 1259 1875 \nL 1259 0 \nL 628 0 \nL 628 4666 \nz\n\" transform=\"scale(0.015625)\"/>\n       <path id=\"DejaVuSans-63\" d=\"M 3122 3366 \nL 3122 2828 \nQ 2878 2963 2633 3030 \nQ 2388 3097 2138 3097 \nQ 1578 3097 1268 2742 \nQ 959 2388 959 1747 \nQ 959 1106 1268 751 \nQ 1578 397 2138 397 \nQ 2388 397 2633 464 \nQ 2878 531 3122 666 \nL 3122 134 \nQ 2881 22 2623 -34 \nQ 2366 -91 2075 -91 \nQ 1284 -91 818 406 \nQ 353 903 353 1747 \nQ 353 2603 823 3093 \nQ 1294 3584 2113 3584 \nQ 2378 3584 2631 3529 \nQ 2884 3475 3122 3366 \nz\n\" transform=\"scale(0.015625)\"/>\n       <path id=\"DejaVuSans-74\" d=\"M 1172 4494 \nL 1172 3500 \nL 2356 3500 \nL 2356 3053 \nL 1172 3053 \nL 1172 1153 \nQ 1172 725 1289 603 \nQ 1406 481 1766 481 \nL 2356 481 \nL 2356 0 \nL 1766 0 \nQ 1100 0 847 248 \nQ 594 497 594 1153 \nL 594 3053 \nL 172 3053 \nL 172 3500 \nL 594 3500 \nL 594 4494 \nL 1172 4494 \nz\n\" transform=\"scale(0.015625)\"/>\n       <path id=\"DejaVuSans-20\" transform=\"scale(0.015625)\"/>\n       <path id=\"DejaVuSans-62\" d=\"M 3116 1747 \nQ 3116 2381 2855 2742 \nQ 2594 3103 2138 3103 \nQ 1681 3103 1420 2742 \nQ 1159 2381 1159 1747 \nQ 1159 1113 1420 752 \nQ 1681 391 2138 391 \nQ 2594 391 2855 752 \nQ 3116 1113 3116 1747 \nz\nM 1159 2969 \nQ 1341 3281 1617 3432 \nQ 1894 3584 2278 3584 \nQ 2916 3584 3314 3078 \nQ 3713 2572 3713 1747 \nQ 3713 922 3314 415 \nQ 2916 -91 2278 -91 \nQ 1894 -91 1617 61 \nQ 1341 213 1159 525 \nL 1159 0 \nL 581 0 \nL 581 4863 \nL 1159 4863 \nL 1159 2969 \nz\n\" transform=\"scale(0.015625)\"/>\n      </defs>\n      <use xlink:href=\"#DejaVuSans-50\"/>\n      <use xlink:href=\"#DejaVuSans-72\" x=\"58.552734\"/>\n      <use xlink:href=\"#DejaVuSans-65\" x=\"97.416016\"/>\n      <use xlink:href=\"#DejaVuSans-64\" x=\"158.939453\"/>\n      <use xlink:href=\"#DejaVuSans-69\" x=\"222.416016\"/>\n      <use xlink:href=\"#DejaVuSans-63\" x=\"250.199219\"/>\n      <use xlink:href=\"#DejaVuSans-74\" x=\"305.179688\"/>\n      <use xlink:href=\"#DejaVuSans-65\" x=\"344.388672\"/>\n      <use xlink:href=\"#DejaVuSans-64\" x=\"405.912109\"/>\n      <use xlink:href=\"#DejaVuSans-20\" x=\"469.388672\"/>\n      <use xlink:href=\"#DejaVuSans-6c\" x=\"501.175781\"/>\n      <use xlink:href=\"#DejaVuSans-61\" x=\"528.958984\"/>\n      <use xlink:href=\"#DejaVuSans-62\" x=\"590.238281\"/>\n      <use xlink:href=\"#DejaVuSans-65\" x=\"653.714844\"/>\n      <use xlink:href=\"#DejaVuSans-6c\" x=\"715.238281\"/>\n     </g>\n    </g>\n   </g>\n   <g id=\"matplotlib.axis_2\">\n    <g id=\"ytick_1\">\n     <g id=\"line2d_7\">\n      <defs>\n       <path id=\"maf9d8fbfd2\" d=\"M 0 0 \nL -3.5 0 \n\" style=\"stroke: #000000; stroke-width: 0.8\"/>\n      </defs>\n      <g>\n       <use xlink:href=\"#maf9d8fbfd2\" x=\"78.528125\" y=\"51.86175\" style=\"stroke: #000000; stroke-width: 0.8\"/>\n      </g>\n     </g>\n     <g id=\"text_8\">\n      <!-- sadness -->\n      <g transform=\"translate(22.81375 56.420812) scale(0.12 -0.12)\">\n       <use xlink:href=\"#DejaVuSans-73\"/>\n       <use xlink:href=\"#DejaVuSans-61\" x=\"52.099609\"/>\n       <use xlink:href=\"#DejaVuSans-64\" x=\"113.378906\"/>\n       <use xlink:href=\"#DejaVuSans-6e\" x=\"176.855469\"/>\n       <use xlink:href=\"#DejaVuSans-65\" x=\"240.234375\"/>\n       <use xlink:href=\"#DejaVuSans-73\" x=\"301.757812\"/>\n       <use xlink:href=\"#DejaVuSans-73\" x=\"353.857422\"/>\n      </g>\n     </g>\n    </g>\n    <g id=\"ytick_2\">\n     <g id=\"line2d_8\">\n      <g>\n       <use xlink:href=\"#maf9d8fbfd2\" x=\"78.528125\" y=\"107.30175\" style=\"stroke: #000000; stroke-width: 0.8\"/>\n      </g>\n     </g>\n     <g id=\"text_9\">\n      <!-- joy -->\n      <g transform=\"translate(53.749375 111.860812) scale(0.12 -0.12)\">\n       <use xlink:href=\"#DejaVuSans-6a\"/>\n       <use xlink:href=\"#DejaVuSans-6f\" x=\"27.783203\"/>\n       <use xlink:href=\"#DejaVuSans-79\" x=\"88.964844\"/>\n      </g>\n     </g>\n    </g>\n    <g id=\"ytick_3\">\n     <g id=\"line2d_9\">\n      <g>\n       <use xlink:href=\"#maf9d8fbfd2\" x=\"78.528125\" y=\"162.74175\" style=\"stroke: #000000; stroke-width: 0.8\"/>\n      </g>\n     </g>\n     <g id=\"text_10\">\n      <!-- love -->\n      <g transform=\"translate(46.365625 167.300812) scale(0.12 -0.12)\">\n       <use xlink:href=\"#DejaVuSans-6c\"/>\n       <use xlink:href=\"#DejaVuSans-6f\" x=\"27.783203\"/>\n       <use xlink:href=\"#DejaVuSans-76\" x=\"88.964844\"/>\n       <use xlink:href=\"#DejaVuSans-65\" x=\"148.144531\"/>\n      </g>\n     </g>\n    </g>\n    <g id=\"ytick_4\">\n     <g id=\"line2d_10\">\n      <g>\n       <use xlink:href=\"#maf9d8fbfd2\" x=\"78.528125\" y=\"218.18175\" style=\"stroke: #000000; stroke-width: 0.8\"/>\n      </g>\n     </g>\n     <g id=\"text_11\">\n      <!-- anger -->\n      <g transform=\"translate(36.634375 222.740813) scale(0.12 -0.12)\">\n       <use xlink:href=\"#DejaVuSans-61\"/>\n       <use xlink:href=\"#DejaVuSans-6e\" x=\"61.279297\"/>\n       <use xlink:href=\"#DejaVuSans-67\" x=\"124.658203\"/>\n       <use xlink:href=\"#DejaVuSans-65\" x=\"188.134766\"/>\n       <use xlink:href=\"#DejaVuSans-72\" x=\"249.658203\"/>\n      </g>\n     </g>\n    </g>\n    <g id=\"ytick_5\">\n     <g id=\"line2d_11\">\n      <g>\n       <use xlink:href=\"#maf9d8fbfd2\" x=\"78.528125\" y=\"273.62175\" style=\"stroke: #000000; stroke-width: 0.8\"/>\n      </g>\n     </g>\n     <g id=\"text_12\">\n      <!-- fear -->\n      <g transform=\"translate(47.633125 278.180813) scale(0.12 -0.12)\">\n       <use xlink:href=\"#DejaVuSans-66\"/>\n       <use xlink:href=\"#DejaVuSans-65\" x=\"35.205078\"/>\n       <use xlink:href=\"#DejaVuSans-61\" x=\"96.728516\"/>\n       <use xlink:href=\"#DejaVuSans-72\" x=\"158.007812\"/>\n      </g>\n     </g>\n    </g>\n    <g id=\"ytick_6\">\n     <g id=\"line2d_12\">\n      <g>\n       <use xlink:href=\"#maf9d8fbfd2\" x=\"78.528125\" y=\"329.06175\" style=\"stroke: #000000; stroke-width: 0.8\"/>\n      </g>\n     </g>\n     <g id=\"text_13\">\n      <!-- surprise -->\n      <g transform=\"translate(23.21875 333.620812) scale(0.12 -0.12)\">\n       <use xlink:href=\"#DejaVuSans-73\"/>\n       <use xlink:href=\"#DejaVuSans-75\" x=\"52.099609\"/>\n       <use xlink:href=\"#DejaVuSans-72\" x=\"115.478516\"/>\n       <use xlink:href=\"#DejaVuSans-70\" x=\"156.591797\"/>\n       <use xlink:href=\"#DejaVuSans-72\" x=\"220.068359\"/>\n       <use xlink:href=\"#DejaVuSans-69\" x=\"261.181641\"/>\n       <use xlink:href=\"#DejaVuSans-73\" x=\"288.964844\"/>\n       <use xlink:href=\"#DejaVuSans-65\" x=\"341.064453\"/>\n      </g>\n     </g>\n    </g>\n    <g id=\"text_14\">\n     <!-- True label -->\n     <g transform=\"translate(16.318125 219.620812) rotate(-90) scale(0.12 -0.12)\">\n      <defs>\n       <path id=\"DejaVuSans-54\" d=\"M -19 4666 \nL 3928 4666 \nL 3928 4134 \nL 2272 4134 \nL 2272 0 \nL 1638 0 \nL 1638 4134 \nL -19 4134 \nL -19 4666 \nz\n\" transform=\"scale(0.015625)\"/>\n      </defs>\n      <use xlink:href=\"#DejaVuSans-54\"/>\n      <use xlink:href=\"#DejaVuSans-72\" x=\"46.333984\"/>\n      <use xlink:href=\"#DejaVuSans-75\" x=\"87.447266\"/>\n      <use xlink:href=\"#DejaVuSans-65\" x=\"150.826172\"/>\n      <use xlink:href=\"#DejaVuSans-20\" x=\"212.349609\"/>\n      <use xlink:href=\"#DejaVuSans-6c\" x=\"244.136719\"/>\n      <use xlink:href=\"#DejaVuSans-61\" x=\"271.919922\"/>\n      <use xlink:href=\"#DejaVuSans-62\" x=\"333.199219\"/>\n      <use xlink:href=\"#DejaVuSans-65\" x=\"396.675781\"/>\n      <use xlink:href=\"#DejaVuSans-6c\" x=\"458.199219\"/>\n     </g>\n    </g>\n   </g>\n   <g id=\"patch_3\">\n    <path d=\"M 78.528125 356.78175 \nL 78.528125 24.14175 \n\" style=\"fill: none; stroke: #000000; stroke-width: 0.8; stroke-linejoin: miter; stroke-linecap: square\"/>\n   </g>\n   <g id=\"patch_4\">\n    <path d=\"M 411.168125 356.78175 \nL 411.168125 24.14175 \n\" style=\"fill: none; stroke: #000000; stroke-width: 0.8; stroke-linejoin: miter; stroke-linecap: square\"/>\n   </g>\n   <g id=\"patch_5\">\n    <path d=\"M 78.528125 356.78175 \nL 411.168125 356.78175 \n\" style=\"fill: none; stroke: #000000; stroke-width: 0.8; stroke-linejoin: miter; stroke-linecap: square\"/>\n   </g>\n   <g id=\"patch_6\">\n    <path d=\"M 78.528125 24.14175 \nL 411.168125 24.14175 \n\" style=\"fill: none; stroke: #000000; stroke-width: 0.8; stroke-linejoin: miter; stroke-linecap: square\"/>\n   </g>\n   <g id=\"text_15\">\n    <!-- 0.71 -->\n    <g style=\"fill: #f7fbff\" transform=\"translate(92.88875 55.173) scale(0.12 -0.12)\">\n     <defs>\n      <path id=\"DejaVuSans-30\" d=\"M 2034 4250 \nQ 1547 4250 1301 3770 \nQ 1056 3291 1056 2328 \nQ 1056 1369 1301 889 \nQ 1547 409 2034 409 \nQ 2525 409 2770 889 \nQ 3016 1369 3016 2328 \nQ 3016 3291 2770 3770 \nQ 2525 4250 2034 4250 \nz\nM 2034 4750 \nQ 2819 4750 3233 4129 \nQ 3647 3509 3647 2328 \nQ 3647 1150 3233 529 \nQ 2819 -91 2034 -91 \nQ 1250 -91 836 529 \nQ 422 1150 422 2328 \nQ 422 3509 836 4129 \nQ 1250 4750 2034 4750 \nz\n\" transform=\"scale(0.015625)\"/>\n      <path id=\"DejaVuSans-2e\" d=\"M 684 794 \nL 1344 794 \nL 1344 0 \nL 684 0 \nL 684 794 \nz\n\" transform=\"scale(0.015625)\"/>\n      <path id=\"DejaVuSans-37\" d=\"M 525 4666 \nL 3525 4666 \nL 3525 4397 \nL 1831 0 \nL 1172 0 \nL 2766 4134 \nL 525 4134 \nL 525 4666 \nz\n\" transform=\"scale(0.015625)\"/>\n      <path id=\"DejaVuSans-31\" d=\"M 794 531 \nL 1825 531 \nL 1825 4091 \nL 703 3866 \nL 703 4441 \nL 1819 4666 \nL 2450 4666 \nL 2450 531 \nL 3481 531 \nL 3481 0 \nL 794 0 \nL 794 531 \nz\n\" transform=\"scale(0.015625)\"/>\n     </defs>\n     <use xlink:href=\"#DejaVuSans-30\"/>\n     <use xlink:href=\"#DejaVuSans-2e\" x=\"63.623047\"/>\n     <use xlink:href=\"#DejaVuSans-37\" x=\"95.410156\"/>\n     <use xlink:href=\"#DejaVuSans-31\" x=\"159.033203\"/>\n    </g>\n   </g>\n   <g id=\"text_16\">\n    <!-- 0.11 -->\n    <g style=\"fill: #08306b\" transform=\"translate(148.32875 55.173) scale(0.12 -0.12)\">\n     <use xlink:href=\"#DejaVuSans-30\"/>\n     <use xlink:href=\"#DejaVuSans-2e\" x=\"63.623047\"/>\n     <use xlink:href=\"#DejaVuSans-31\" x=\"95.410156\"/>\n     <use xlink:href=\"#DejaVuSans-31\" x=\"159.033203\"/>\n    </g>\n   </g>\n   <g id=\"text_17\">\n    <!-- 0.02 -->\n    <g style=\"fill: #08306b\" transform=\"translate(203.76875 55.173) scale(0.12 -0.12)\">\n     <defs>\n      <path id=\"DejaVuSans-32\" d=\"M 1228 531 \nL 3431 531 \nL 3431 0 \nL 469 0 \nL 469 531 \nQ 828 903 1448 1529 \nQ 2069 2156 2228 2338 \nQ 2531 2678 2651 2914 \nQ 2772 3150 2772 3378 \nQ 2772 3750 2511 3984 \nQ 2250 4219 1831 4219 \nQ 1534 4219 1204 4116 \nQ 875 4013 500 3803 \nL 500 4441 \nQ 881 4594 1212 4672 \nQ 1544 4750 1819 4750 \nQ 2544 4750 2975 4387 \nQ 3406 4025 3406 3419 \nQ 3406 3131 3298 2873 \nQ 3191 2616 2906 2266 \nQ 2828 2175 2409 1742 \nQ 1991 1309 1228 531 \nz\n\" transform=\"scale(0.015625)\"/>\n     </defs>\n     <use xlink:href=\"#DejaVuSans-30\"/>\n     <use xlink:href=\"#DejaVuSans-2e\" x=\"63.623047\"/>\n     <use xlink:href=\"#DejaVuSans-30\" x=\"95.410156\"/>\n     <use xlink:href=\"#DejaVuSans-32\" x=\"159.033203\"/>\n    </g>\n   </g>\n   <g id=\"text_18\">\n    <!-- 0.10 -->\n    <g style=\"fill: #08306b\" transform=\"translate(259.20875 55.173) scale(0.12 -0.12)\">\n     <use xlink:href=\"#DejaVuSans-30\"/>\n     <use xlink:href=\"#DejaVuSans-2e\" x=\"63.623047\"/>\n     <use xlink:href=\"#DejaVuSans-31\" x=\"95.410156\"/>\n     <use xlink:href=\"#DejaVuSans-30\" x=\"159.033203\"/>\n    </g>\n   </g>\n   <g id=\"text_19\">\n    <!-- 0.05 -->\n    <g style=\"fill: #08306b\" transform=\"translate(314.64875 55.173) scale(0.12 -0.12)\">\n     <defs>\n      <path id=\"DejaVuSans-35\" d=\"M 691 4666 \nL 3169 4666 \nL 3169 4134 \nL 1269 4134 \nL 1269 2991 \nQ 1406 3038 1543 3061 \nQ 1681 3084 1819 3084 \nQ 2600 3084 3056 2656 \nQ 3513 2228 3513 1497 \nQ 3513 744 3044 326 \nQ 2575 -91 1722 -91 \nQ 1428 -91 1123 -41 \nQ 819 9 494 109 \nL 494 744 \nQ 775 591 1075 516 \nQ 1375 441 1709 441 \nQ 2250 441 2565 725 \nQ 2881 1009 2881 1497 \nQ 2881 1984 2565 2268 \nQ 2250 2553 1709 2553 \nQ 1456 2553 1204 2497 \nQ 953 2441 691 2322 \nL 691 4666 \nz\n\" transform=\"scale(0.015625)\"/>\n     </defs>\n     <use xlink:href=\"#DejaVuSans-30\"/>\n     <use xlink:href=\"#DejaVuSans-2e\" x=\"63.623047\"/>\n     <use xlink:href=\"#DejaVuSans-30\" x=\"95.410156\"/>\n     <use xlink:href=\"#DejaVuSans-35\" x=\"159.033203\"/>\n    </g>\n   </g>\n   <g id=\"text_20\">\n    <!-- 0.01 -->\n    <g style=\"fill: #08306b\" transform=\"translate(370.08875 55.173) scale(0.12 -0.12)\">\n     <use xlink:href=\"#DejaVuSans-30\"/>\n     <use xlink:href=\"#DejaVuSans-2e\" x=\"63.623047\"/>\n     <use xlink:href=\"#DejaVuSans-30\" x=\"95.410156\"/>\n     <use xlink:href=\"#DejaVuSans-31\" x=\"159.033203\"/>\n    </g>\n   </g>\n   <g id=\"text_21\">\n    <!-- 0.09 -->\n    <g style=\"fill: #08306b\" transform=\"translate(92.88875 110.613) scale(0.12 -0.12)\">\n     <defs>\n      <path id=\"DejaVuSans-39\" d=\"M 703 97 \nL 703 672 \nQ 941 559 1184 500 \nQ 1428 441 1663 441 \nQ 2288 441 2617 861 \nQ 2947 1281 2994 2138 \nQ 2813 1869 2534 1725 \nQ 2256 1581 1919 1581 \nQ 1219 1581 811 2004 \nQ 403 2428 403 3163 \nQ 403 3881 828 4315 \nQ 1253 4750 1959 4750 \nQ 2769 4750 3195 4129 \nQ 3622 3509 3622 2328 \nQ 3622 1225 3098 567 \nQ 2575 -91 1691 -91 \nQ 1453 -91 1209 -44 \nQ 966 3 703 97 \nz\nM 1959 2075 \nQ 2384 2075 2632 2365 \nQ 2881 2656 2881 3163 \nQ 2881 3666 2632 3958 \nQ 2384 4250 1959 4250 \nQ 1534 4250 1286 3958 \nQ 1038 3666 1038 3163 \nQ 1038 2656 1286 2365 \nQ 1534 2075 1959 2075 \nz\n\" transform=\"scale(0.015625)\"/>\n     </defs>\n     <use xlink:href=\"#DejaVuSans-30\"/>\n     <use xlink:href=\"#DejaVuSans-2e\" x=\"63.623047\"/>\n     <use xlink:href=\"#DejaVuSans-30\" x=\"95.410156\"/>\n     <use xlink:href=\"#DejaVuSans-39\" x=\"159.033203\"/>\n    </g>\n   </g>\n   <g id=\"text_22\">\n    <!-- 0.80 -->\n    <g style=\"fill: #f7fbff\" transform=\"translate(148.32875 110.613) scale(0.12 -0.12)\">\n     <defs>\n      <path id=\"DejaVuSans-38\" d=\"M 2034 2216 \nQ 1584 2216 1326 1975 \nQ 1069 1734 1069 1313 \nQ 1069 891 1326 650 \nQ 1584 409 2034 409 \nQ 2484 409 2743 651 \nQ 3003 894 3003 1313 \nQ 3003 1734 2745 1975 \nQ 2488 2216 2034 2216 \nz\nM 1403 2484 \nQ 997 2584 770 2862 \nQ 544 3141 544 3541 \nQ 544 4100 942 4425 \nQ 1341 4750 2034 4750 \nQ 2731 4750 3128 4425 \nQ 3525 4100 3525 3541 \nQ 3525 3141 3298 2862 \nQ 3072 2584 2669 2484 \nQ 3125 2378 3379 2068 \nQ 3634 1759 3634 1313 \nQ 3634 634 3220 271 \nQ 2806 -91 2034 -91 \nQ 1263 -91 848 271 \nQ 434 634 434 1313 \nQ 434 1759 690 2068 \nQ 947 2378 1403 2484 \nz\nM 1172 3481 \nQ 1172 3119 1398 2916 \nQ 1625 2713 2034 2713 \nQ 2441 2713 2670 2916 \nQ 2900 3119 2900 3481 \nQ 2900 3844 2670 4047 \nQ 2441 4250 2034 4250 \nQ 1625 4250 1398 4047 \nQ 1172 3844 1172 3481 \nz\n\" transform=\"scale(0.015625)\"/>\n     </defs>\n     <use xlink:href=\"#DejaVuSans-30\"/>\n     <use xlink:href=\"#DejaVuSans-2e\" x=\"63.623047\"/>\n     <use xlink:href=\"#DejaVuSans-38\" x=\"95.410156\"/>\n     <use xlink:href=\"#DejaVuSans-30\" x=\"159.033203\"/>\n    </g>\n   </g>\n   <g id=\"text_23\">\n    <!-- 0.05 -->\n    <g style=\"fill: #08306b\" transform=\"translate(203.76875 110.613) scale(0.12 -0.12)\">\n     <use xlink:href=\"#DejaVuSans-30\"/>\n     <use xlink:href=\"#DejaVuSans-2e\" x=\"63.623047\"/>\n     <use xlink:href=\"#DejaVuSans-30\" x=\"95.410156\"/>\n     <use xlink:href=\"#DejaVuSans-35\" x=\"159.033203\"/>\n    </g>\n   </g>\n   <g id=\"text_24\">\n    <!-- 0.03 -->\n    <g style=\"fill: #08306b\" transform=\"translate(259.20875 110.613) scale(0.12 -0.12)\">\n     <defs>\n      <path id=\"DejaVuSans-33\" d=\"M 2597 2516 \nQ 3050 2419 3304 2112 \nQ 3559 1806 3559 1356 \nQ 3559 666 3084 287 \nQ 2609 -91 1734 -91 \nQ 1441 -91 1130 -33 \nQ 819 25 488 141 \nL 488 750 \nQ 750 597 1062 519 \nQ 1375 441 1716 441 \nQ 2309 441 2620 675 \nQ 2931 909 2931 1356 \nQ 2931 1769 2642 2001 \nQ 2353 2234 1838 2234 \nL 1294 2234 \nL 1294 2753 \nL 1863 2753 \nQ 2328 2753 2575 2939 \nQ 2822 3125 2822 3475 \nQ 2822 3834 2567 4026 \nQ 2313 4219 1838 4219 \nQ 1578 4219 1281 4162 \nQ 984 4106 628 3988 \nL 628 4550 \nQ 988 4650 1302 4700 \nQ 1616 4750 1894 4750 \nQ 2613 4750 3031 4423 \nQ 3450 4097 3450 3541 \nQ 3450 3153 3228 2886 \nQ 3006 2619 2597 2516 \nz\n\" transform=\"scale(0.015625)\"/>\n     </defs>\n     <use xlink:href=\"#DejaVuSans-30\"/>\n     <use xlink:href=\"#DejaVuSans-2e\" x=\"63.623047\"/>\n     <use xlink:href=\"#DejaVuSans-30\" x=\"95.410156\"/>\n     <use xlink:href=\"#DejaVuSans-33\" x=\"159.033203\"/>\n    </g>\n   </g>\n   <g id=\"text_25\">\n    <!-- 0.03 -->\n    <g style=\"fill: #08306b\" transform=\"translate(314.64875 110.613) scale(0.12 -0.12)\">\n     <use xlink:href=\"#DejaVuSans-30\"/>\n     <use xlink:href=\"#DejaVuSans-2e\" x=\"63.623047\"/>\n     <use xlink:href=\"#DejaVuSans-30\" x=\"95.410156\"/>\n     <use xlink:href=\"#DejaVuSans-33\" x=\"159.033203\"/>\n    </g>\n   </g>\n   <g id=\"text_26\">\n    <!-- 0.01 -->\n    <g style=\"fill: #08306b\" transform=\"translate(370.08875 110.613) scale(0.12 -0.12)\">\n     <use xlink:href=\"#DejaVuSans-30\"/>\n     <use xlink:href=\"#DejaVuSans-2e\" x=\"63.623047\"/>\n     <use xlink:href=\"#DejaVuSans-30\" x=\"95.410156\"/>\n     <use xlink:href=\"#DejaVuSans-31\" x=\"159.033203\"/>\n    </g>\n   </g>\n   <g id=\"text_27\">\n    <!-- 0.13 -->\n    <g style=\"fill: #08306b\" transform=\"translate(92.88875 166.053) scale(0.12 -0.12)\">\n     <use xlink:href=\"#DejaVuSans-30\"/>\n     <use xlink:href=\"#DejaVuSans-2e\" x=\"63.623047\"/>\n     <use xlink:href=\"#DejaVuSans-31\" x=\"95.410156\"/>\n     <use xlink:href=\"#DejaVuSans-33\" x=\"159.033203\"/>\n    </g>\n   </g>\n   <g id=\"text_28\">\n    <!-- 0.46 -->\n    <g style=\"fill: #f7fbff\" transform=\"translate(148.32875 166.053) scale(0.12 -0.12)\">\n     <defs>\n      <path id=\"DejaVuSans-34\" d=\"M 2419 4116 \nL 825 1625 \nL 2419 1625 \nL 2419 4116 \nz\nM 2253 4666 \nL 3047 4666 \nL 3047 1625 \nL 3713 1625 \nL 3713 1100 \nL 3047 1100 \nL 3047 0 \nL 2419 0 \nL 2419 1100 \nL 313 1100 \nL 313 1709 \nL 2253 4666 \nz\n\" transform=\"scale(0.015625)\"/>\n      <path id=\"DejaVuSans-36\" d=\"M 2113 2584 \nQ 1688 2584 1439 2293 \nQ 1191 2003 1191 1497 \nQ 1191 994 1439 701 \nQ 1688 409 2113 409 \nQ 2538 409 2786 701 \nQ 3034 994 3034 1497 \nQ 3034 2003 2786 2293 \nQ 2538 2584 2113 2584 \nz\nM 3366 4563 \nL 3366 3988 \nQ 3128 4100 2886 4159 \nQ 2644 4219 2406 4219 \nQ 1781 4219 1451 3797 \nQ 1122 3375 1075 2522 \nQ 1259 2794 1537 2939 \nQ 1816 3084 2150 3084 \nQ 2853 3084 3261 2657 \nQ 3669 2231 3669 1497 \nQ 3669 778 3244 343 \nQ 2819 -91 2113 -91 \nQ 1303 -91 875 529 \nQ 447 1150 447 2328 \nQ 447 3434 972 4092 \nQ 1497 4750 2381 4750 \nQ 2619 4750 2861 4703 \nQ 3103 4656 3366 4563 \nz\n\" transform=\"scale(0.015625)\"/>\n     </defs>\n     <use xlink:href=\"#DejaVuSans-30\"/>\n     <use xlink:href=\"#DejaVuSans-2e\" x=\"63.623047\"/>\n     <use xlink:href=\"#DejaVuSans-34\" x=\"95.410156\"/>\n     <use xlink:href=\"#DejaVuSans-36\" x=\"159.033203\"/>\n    </g>\n   </g>\n   <g id=\"text_29\">\n    <!-- 0.30 -->\n    <g style=\"fill: #08306b\" transform=\"translate(203.76875 166.053) scale(0.12 -0.12)\">\n     <use xlink:href=\"#DejaVuSans-30\"/>\n     <use xlink:href=\"#DejaVuSans-2e\" x=\"63.623047\"/>\n     <use xlink:href=\"#DejaVuSans-33\" x=\"95.410156\"/>\n     <use xlink:href=\"#DejaVuSans-30\" x=\"159.033203\"/>\n    </g>\n   </g>\n   <g id=\"text_30\">\n    <!-- 0.08 -->\n    <g style=\"fill: #08306b\" transform=\"translate(259.20875 166.053) scale(0.12 -0.12)\">\n     <use xlink:href=\"#DejaVuSans-30\"/>\n     <use xlink:href=\"#DejaVuSans-2e\" x=\"63.623047\"/>\n     <use xlink:href=\"#DejaVuSans-30\" x=\"95.410156\"/>\n     <use xlink:href=\"#DejaVuSans-38\" x=\"159.033203\"/>\n    </g>\n   </g>\n   <g id=\"text_31\">\n    <!-- 0.03 -->\n    <g style=\"fill: #08306b\" transform=\"translate(314.64875 166.053) scale(0.12 -0.12)\">\n     <use xlink:href=\"#DejaVuSans-30\"/>\n     <use xlink:href=\"#DejaVuSans-2e\" x=\"63.623047\"/>\n     <use xlink:href=\"#DejaVuSans-30\" x=\"95.410156\"/>\n     <use xlink:href=\"#DejaVuSans-33\" x=\"159.033203\"/>\n    </g>\n   </g>\n   <g id=\"text_32\">\n    <!-- 0.00 -->\n    <g style=\"fill: #08306b\" transform=\"translate(370.08875 166.053) scale(0.12 -0.12)\">\n     <use xlink:href=\"#DejaVuSans-30\"/>\n     <use xlink:href=\"#DejaVuSans-2e\" x=\"63.623047\"/>\n     <use xlink:href=\"#DejaVuSans-30\" x=\"95.410156\"/>\n     <use xlink:href=\"#DejaVuSans-30\" x=\"159.033203\"/>\n    </g>\n   </g>\n   <g id=\"text_33\">\n    <!-- 0.29 -->\n    <g style=\"fill: #08306b\" transform=\"translate(92.88875 221.493) scale(0.12 -0.12)\">\n     <use xlink:href=\"#DejaVuSans-30\"/>\n     <use xlink:href=\"#DejaVuSans-2e\" x=\"63.623047\"/>\n     <use xlink:href=\"#DejaVuSans-32\" x=\"95.410156\"/>\n     <use xlink:href=\"#DejaVuSans-39\" x=\"159.033203\"/>\n    </g>\n   </g>\n   <g id=\"text_34\">\n    <!-- 0.14 -->\n    <g style=\"fill: #08306b\" transform=\"translate(148.32875 221.493) scale(0.12 -0.12)\">\n     <use xlink:href=\"#DejaVuSans-30\"/>\n     <use xlink:href=\"#DejaVuSans-2e\" x=\"63.623047\"/>\n     <use xlink:href=\"#DejaVuSans-31\" x=\"95.410156\"/>\n     <use xlink:href=\"#DejaVuSans-34\" x=\"159.033203\"/>\n    </g>\n   </g>\n   <g id=\"text_35\">\n    <!-- 0.02 -->\n    <g style=\"fill: #08306b\" transform=\"translate(203.76875 221.493) scale(0.12 -0.12)\">\n     <use xlink:href=\"#DejaVuSans-30\"/>\n     <use xlink:href=\"#DejaVuSans-2e\" x=\"63.623047\"/>\n     <use xlink:href=\"#DejaVuSans-30\" x=\"95.410156\"/>\n     <use xlink:href=\"#DejaVuSans-32\" x=\"159.033203\"/>\n    </g>\n   </g>\n   <g id=\"text_36\">\n    <!-- 0.44 -->\n    <g style=\"fill: #f7fbff\" transform=\"translate(259.20875 221.493) scale(0.12 -0.12)\">\n     <use xlink:href=\"#DejaVuSans-30\"/>\n     <use xlink:href=\"#DejaVuSans-2e\" x=\"63.623047\"/>\n     <use xlink:href=\"#DejaVuSans-34\" x=\"95.410156\"/>\n     <use xlink:href=\"#DejaVuSans-34\" x=\"159.033203\"/>\n    </g>\n   </g>\n   <g id=\"text_37\">\n    <!-- 0.10 -->\n    <g style=\"fill: #08306b\" transform=\"translate(314.64875 221.493) scale(0.12 -0.12)\">\n     <use xlink:href=\"#DejaVuSans-30\"/>\n     <use xlink:href=\"#DejaVuSans-2e\" x=\"63.623047\"/>\n     <use xlink:href=\"#DejaVuSans-31\" x=\"95.410156\"/>\n     <use xlink:href=\"#DejaVuSans-30\" x=\"159.033203\"/>\n    </g>\n   </g>\n   <g id=\"text_38\">\n    <!-- 0.01 -->\n    <g style=\"fill: #08306b\" transform=\"translate(370.08875 221.493) scale(0.12 -0.12)\">\n     <use xlink:href=\"#DejaVuSans-30\"/>\n     <use xlink:href=\"#DejaVuSans-2e\" x=\"63.623047\"/>\n     <use xlink:href=\"#DejaVuSans-30\" x=\"95.410156\"/>\n     <use xlink:href=\"#DejaVuSans-31\" x=\"159.033203\"/>\n    </g>\n   </g>\n   <g id=\"text_39\">\n    <!-- 0.17 -->\n    <g style=\"fill: #08306b\" transform=\"translate(92.88875 276.933) scale(0.12 -0.12)\">\n     <use xlink:href=\"#DejaVuSans-30\"/>\n     <use xlink:href=\"#DejaVuSans-2e\" x=\"63.623047\"/>\n     <use xlink:href=\"#DejaVuSans-31\" x=\"95.410156\"/>\n     <use xlink:href=\"#DejaVuSans-37\" x=\"159.033203\"/>\n    </g>\n   </g>\n   <g id=\"text_40\">\n    <!-- 0.11 -->\n    <g style=\"fill: #08306b\" transform=\"translate(148.32875 276.933) scale(0.12 -0.12)\">\n     <use xlink:href=\"#DejaVuSans-30\"/>\n     <use xlink:href=\"#DejaVuSans-2e\" x=\"63.623047\"/>\n     <use xlink:href=\"#DejaVuSans-31\" x=\"95.410156\"/>\n     <use xlink:href=\"#DejaVuSans-31\" x=\"159.033203\"/>\n    </g>\n   </g>\n   <g id=\"text_41\">\n    <!-- 0.03 -->\n    <g style=\"fill: #08306b\" transform=\"translate(203.76875 276.933) scale(0.12 -0.12)\">\n     <use xlink:href=\"#DejaVuSans-30\"/>\n     <use xlink:href=\"#DejaVuSans-2e\" x=\"63.623047\"/>\n     <use xlink:href=\"#DejaVuSans-30\" x=\"95.410156\"/>\n     <use xlink:href=\"#DejaVuSans-33\" x=\"159.033203\"/>\n    </g>\n   </g>\n   <g id=\"text_42\">\n    <!-- 0.10 -->\n    <g style=\"fill: #08306b\" transform=\"translate(259.20875 276.933) scale(0.12 -0.12)\">\n     <use xlink:href=\"#DejaVuSans-30\"/>\n     <use xlink:href=\"#DejaVuSans-2e\" x=\"63.623047\"/>\n     <use xlink:href=\"#DejaVuSans-31\" x=\"95.410156\"/>\n     <use xlink:href=\"#DejaVuSans-30\" x=\"159.033203\"/>\n    </g>\n   </g>\n   <g id=\"text_43\">\n    <!-- 0.56 -->\n    <g style=\"fill: #f7fbff\" transform=\"translate(314.64875 276.933) scale(0.12 -0.12)\">\n     <use xlink:href=\"#DejaVuSans-30\"/>\n     <use xlink:href=\"#DejaVuSans-2e\" x=\"63.623047\"/>\n     <use xlink:href=\"#DejaVuSans-35\" x=\"95.410156\"/>\n     <use xlink:href=\"#DejaVuSans-36\" x=\"159.033203\"/>\n    </g>\n   </g>\n   <g id=\"text_44\">\n    <!-- 0.04 -->\n    <g style=\"fill: #08306b\" transform=\"translate(370.08875 276.933) scale(0.12 -0.12)\">\n     <use xlink:href=\"#DejaVuSans-30\"/>\n     <use xlink:href=\"#DejaVuSans-2e\" x=\"63.623047\"/>\n     <use xlink:href=\"#DejaVuSans-30\" x=\"95.410156\"/>\n     <use xlink:href=\"#DejaVuSans-34\" x=\"159.033203\"/>\n    </g>\n   </g>\n   <g id=\"text_45\">\n    <!-- 0.14 -->\n    <g style=\"fill: #08306b\" transform=\"translate(92.88875 332.373) scale(0.12 -0.12)\">\n     <use xlink:href=\"#DejaVuSans-30\"/>\n     <use xlink:href=\"#DejaVuSans-2e\" x=\"63.623047\"/>\n     <use xlink:href=\"#DejaVuSans-31\" x=\"95.410156\"/>\n     <use xlink:href=\"#DejaVuSans-34\" x=\"159.033203\"/>\n    </g>\n   </g>\n   <g id=\"text_46\">\n    <!-- 0.37 -->\n    <g style=\"fill: #08306b\" transform=\"translate(148.32875 332.373) scale(0.12 -0.12)\">\n     <use xlink:href=\"#DejaVuSans-30\"/>\n     <use xlink:href=\"#DejaVuSans-2e\" x=\"63.623047\"/>\n     <use xlink:href=\"#DejaVuSans-33\" x=\"95.410156\"/>\n     <use xlink:href=\"#DejaVuSans-37\" x=\"159.033203\"/>\n    </g>\n   </g>\n   <g id=\"text_47\">\n    <!-- 0.01 -->\n    <g style=\"fill: #08306b\" transform=\"translate(203.76875 332.373) scale(0.12 -0.12)\">\n     <use xlink:href=\"#DejaVuSans-30\"/>\n     <use xlink:href=\"#DejaVuSans-2e\" x=\"63.623047\"/>\n     <use xlink:href=\"#DejaVuSans-30\" x=\"95.410156\"/>\n     <use xlink:href=\"#DejaVuSans-31\" x=\"159.033203\"/>\n    </g>\n   </g>\n   <g id=\"text_48\">\n    <!-- 0.05 -->\n    <g style=\"fill: #08306b\" transform=\"translate(259.20875 332.373) scale(0.12 -0.12)\">\n     <use xlink:href=\"#DejaVuSans-30\"/>\n     <use xlink:href=\"#DejaVuSans-2e\" x=\"63.623047\"/>\n     <use xlink:href=\"#DejaVuSans-30\" x=\"95.410156\"/>\n     <use xlink:href=\"#DejaVuSans-35\" x=\"159.033203\"/>\n    </g>\n   </g>\n   <g id=\"text_49\">\n    <!-- 0.16 -->\n    <g style=\"fill: #08306b\" transform=\"translate(314.64875 332.373) scale(0.12 -0.12)\">\n     <use xlink:href=\"#DejaVuSans-30\"/>\n     <use xlink:href=\"#DejaVuSans-2e\" x=\"63.623047\"/>\n     <use xlink:href=\"#DejaVuSans-31\" x=\"95.410156\"/>\n     <use xlink:href=\"#DejaVuSans-36\" x=\"159.033203\"/>\n    </g>\n   </g>\n   <g id=\"text_50\">\n    <!-- 0.27 -->\n    <g style=\"fill: #08306b\" transform=\"translate(370.08875 332.373) scale(0.12 -0.12)\">\n     <use xlink:href=\"#DejaVuSans-30\"/>\n     <use xlink:href=\"#DejaVuSans-2e\" x=\"63.623047\"/>\n     <use xlink:href=\"#DejaVuSans-32\" x=\"95.410156\"/>\n     <use xlink:href=\"#DejaVuSans-37\" x=\"159.033203\"/>\n    </g>\n   </g>\n   <g id=\"text_51\">\n    <!-- Normalized confusion matrix -->\n    <g transform=\"translate(141.2255 18.14175) scale(0.144 -0.144)\">\n     <defs>\n      <path id=\"DejaVuSans-4e\" d=\"M 628 4666 \nL 1478 4666 \nL 3547 763 \nL 3547 4666 \nL 4159 4666 \nL 4159 0 \nL 3309 0 \nL 1241 3903 \nL 1241 0 \nL 628 0 \nL 628 4666 \nz\n\" transform=\"scale(0.015625)\"/>\n      <path id=\"DejaVuSans-6d\" d=\"M 3328 2828 \nQ 3544 3216 3844 3400 \nQ 4144 3584 4550 3584 \nQ 5097 3584 5394 3201 \nQ 5691 2819 5691 2113 \nL 5691 0 \nL 5113 0 \nL 5113 2094 \nQ 5113 2597 4934 2840 \nQ 4756 3084 4391 3084 \nQ 3944 3084 3684 2787 \nQ 3425 2491 3425 1978 \nL 3425 0 \nL 2847 0 \nL 2847 2094 \nQ 2847 2600 2669 2842 \nQ 2491 3084 2119 3084 \nQ 1678 3084 1418 2786 \nQ 1159 2488 1159 1978 \nL 1159 0 \nL 581 0 \nL 581 3500 \nL 1159 3500 \nL 1159 2956 \nQ 1356 3278 1631 3431 \nQ 1906 3584 2284 3584 \nQ 2666 3584 2933 3390 \nQ 3200 3197 3328 2828 \nz\n\" transform=\"scale(0.015625)\"/>\n      <path id=\"DejaVuSans-7a\" d=\"M 353 3500 \nL 3084 3500 \nL 3084 2975 \nL 922 459 \nL 3084 459 \nL 3084 0 \nL 275 0 \nL 275 525 \nL 2438 3041 \nL 353 3041 \nL 353 3500 \nz\n\" transform=\"scale(0.015625)\"/>\n      <path id=\"DejaVuSans-78\" d=\"M 3513 3500 \nL 2247 1797 \nL 3578 0 \nL 2900 0 \nL 1881 1375 \nL 863 0 \nL 184 0 \nL 1544 1831 \nL 300 3500 \nL 978 3500 \nL 1906 2253 \nL 2834 3500 \nL 3513 3500 \nz\n\" transform=\"scale(0.015625)\"/>\n     </defs>\n     <use xlink:href=\"#DejaVuSans-4e\"/>\n     <use xlink:href=\"#DejaVuSans-6f\" x=\"74.804688\"/>\n     <use xlink:href=\"#DejaVuSans-72\" x=\"135.986328\"/>\n     <use xlink:href=\"#DejaVuSans-6d\" x=\"175.349609\"/>\n     <use xlink:href=\"#DejaVuSans-61\" x=\"272.761719\"/>\n     <use xlink:href=\"#DejaVuSans-6c\" x=\"334.041016\"/>\n     <use xlink:href=\"#DejaVuSans-69\" x=\"361.824219\"/>\n     <use xlink:href=\"#DejaVuSans-7a\" x=\"389.607422\"/>\n     <use xlink:href=\"#DejaVuSans-65\" x=\"442.097656\"/>\n     <use xlink:href=\"#DejaVuSans-64\" x=\"503.621094\"/>\n     <use xlink:href=\"#DejaVuSans-20\" x=\"567.097656\"/>\n     <use xlink:href=\"#DejaVuSans-63\" x=\"598.884766\"/>\n     <use xlink:href=\"#DejaVuSans-6f\" x=\"653.865234\"/>\n     <use xlink:href=\"#DejaVuSans-6e\" x=\"715.046875\"/>\n     <use xlink:href=\"#DejaVuSans-66\" x=\"778.425781\"/>\n     <use xlink:href=\"#DejaVuSans-75\" x=\"813.630859\"/>\n     <use xlink:href=\"#DejaVuSans-73\" x=\"877.009766\"/>\n     <use xlink:href=\"#DejaVuSans-69\" x=\"929.109375\"/>\n     <use xlink:href=\"#DejaVuSans-6f\" x=\"956.892578\"/>\n     <use xlink:href=\"#DejaVuSans-6e\" x=\"1018.074219\"/>\n     <use xlink:href=\"#DejaVuSans-20\" x=\"1081.453125\"/>\n     <use xlink:href=\"#DejaVuSans-6d\" x=\"1113.240234\"/>\n     <use xlink:href=\"#DejaVuSans-61\" x=\"1210.652344\"/>\n     <use xlink:href=\"#DejaVuSans-74\" x=\"1271.931641\"/>\n     <use xlink:href=\"#DejaVuSans-72\" x=\"1311.140625\"/>\n     <use xlink:href=\"#DejaVuSans-69\" x=\"1352.253906\"/>\n     <use xlink:href=\"#DejaVuSans-78\" x=\"1380.037109\"/>\n    </g>\n   </g>\n  </g>\n </g>\n <defs>\n  <clipPath id=\"p2bcabb047a\">\n   <rect x=\"78.528125\" y=\"24.14175\" width=\"332.64\" height=\"332.64\"/>\n  </clipPath>\n </defs>\n</svg>\n",
            "application/pdf": "[encoded data removed]"
          },
          "metadata": {}
        }
      ]
    },
    {
      "cell_type": "markdown",
      "source": [
        "### 2.3.2 트랜스포머 미세 튜닝하기\n",
        "**사전 훈련된 모델 로드하기**"
      ],
      "metadata": {
        "id": "0DQ7ohcZFDr7"
      }
    },
    {
      "cell_type": "code",
      "source": [
        "from transformers import AutoModelForSequenceClassification\n",
        "\n",
        "num_labels = 6\n",
        "model = (AutoModelForSequenceClassification\n",
        "        .from_pretrained(model_ckpt, num_labels=num_labels)\n",
        "        .to(device))"
      ],
      "metadata": {
        "id": "MEfd_eU0FL0s"
      },
      "execution_count": 35,
      "outputs": []
    },
    {
      "cell_type": "markdown",
      "source": [
        "**성공 지표 정의하기**"
      ],
      "metadata": {
        "id": "JX5jCWF1GEg_"
      }
    },
    {
      "cell_type": "code",
      "source": [
        "from sklearn.metrics import accuracy_score, f1_score\n",
        "\n",
        "def compute_metrics(pred) :\n",
        "    labels = pred.label_ids\n",
        "    preds = pred.predictions.argmax(-1)\n",
        "    f1 = f1_score(labels, preds, average=\"weighted\")\n",
        "    acc = accuracy_score(labels, preds)\n",
        "    return {\"accuracy\" : acc, \"f1\" : f1}"
      ],
      "metadata": {
        "id": "41BxRd1fE_eZ"
      },
      "execution_count": 36,
      "outputs": []
    },
    {
      "cell_type": "markdown",
      "source": [
        "**모델 훈련하기**"
      ],
      "metadata": {
        "id": "iDpCrAtJHi_n"
      }
    },
    {
      "cell_type": "code",
      "source": [
        "from huggingface_hub import notebook_login\n",
        "\n",
        "notebook_login()"
      ],
      "metadata": {
        "colab": {
          "base_uri": "https://localhost:8080/",
          "height": 331,
          "referenced_widgets": [
            "23fea1a53daf4a85b5b53fdffaae3ebd",
            "6fbf6cf8070941d7ab4081c00e8ab47c",
            "9569a96368264940b8e03eca62553f92",
            "0bc71ed9da4e4e228ba92a96d4227cd7",
            "f2c5c2f2bf4a47b9a7f26b3347557cf3",
            "581793253ed0411b968d94bd1ab69047",
            "e83ccc9866054c968e5c7e0dd9a99804",
            "652a0ddab1c64d238cf2e316af6ea918",
            "3ace7163b5204a449783c7e0802f4f4f",
            "d537a205e4d14c1390c774b9e0aabac2",
            "7f18415de17c428197c1845811851721",
            "ab797390ed8940c3a79f348f56f04525",
            "9829354f07914182aaa61b6aa390eca7",
            "fd781e58b3274e94b7ce18a84e477782",
            "b8ee0701aa2d43d997d1841f53f85f54",
            "b1dd9a72381c458c9662436d58c0e3c8",
            "fed56c5b8fd34495affc186c318eb166"
          ]
        },
        "id": "Io8iojkRGryI",
        "outputId": "97b6e310-df0b-4b60-ccda-2820eba816cd"
      },
      "execution_count": 37,
      "outputs": [
        {
          "output_type": "display_data",
          "data": {
            "text/plain": [
              "VBox(children=(HTML(value='<center> <img\\nsrc=https://huggingface.co/front/assets/huggingface_logo-noborder.sv…"
            ],
            "application/vnd.jupyter.widget-view+json": {
              "version_major": 2,
              "version_minor": 0,
              "model_id": "23fea1a53daf4a85b5b53fdffaae3ebd"
            }
          },
          "metadata": {}
        }
      ]
    },
    {
      "cell_type": "code",
      "source": [
        "from transformers import Trainer, TrainingArguments\n",
        "\n",
        "batch_size = 64\n",
        "logging_steps = len(emotions_encoded[\"train\"]) // batch_size\n",
        "model_name = f\"{model_ckpt}-finetuned-emotion\"\n",
        "training_args = TrainingArguments(output_dir=model_name,\n",
        "                                  num_train_epochs=2,\n",
        "                                  learning_rate=2e-5,\n",
        "                                  per_device_train_batch_size=batch_size,\n",
        "                                  per_device_eval_batch_size=batch_size,\n",
        "                                  weight_decay=0.01,\n",
        "                                  evaluation_strategy=\"epoch\",\n",
        "                                  disable_tqdm=False,\n",
        "                                  logging_steps=logging_steps,\n",
        "                                  push_to_hub=True,\n",
        "                                  save_strategy=\"epoch\",\n",
        "                                  load_best_model_at_end=True,\n",
        "                                  log_level=\"error\")"
      ],
      "metadata": {
        "id": "NiGsdio0IKR7"
      },
      "execution_count": 38,
      "outputs": []
    },
    {
      "cell_type": "code",
      "source": [
        "from transformers import Trainer\n",
        "\n",
        "trainer = Trainer(model=model, args=training_args,\n",
        "                  compute_metrics=compute_metrics,\n",
        "                  train_dataset=emotions_encoded[\"train\"],\n",
        "                  eval_dataset=emotions_encoded[\"validation\"],\n",
        "                  tokenizer=tokenizer)\n",
        "trainer.train()"
      ],
      "metadata": {
        "colab": {
          "base_uri": "https://localhost:8080/",
          "height": 250
        },
        "id": "f_o8-fzFIOQw",
        "outputId": "73798638-73e2-4690-adac-aa95f16edc3d"
      },
      "execution_count": 39,
      "outputs": [
        {
          "output_type": "stream",
          "name": "stderr",
          "text": [
            "/content/nlp-with-transformers/distilbert-base-uncased-finetuned-emotion is already a clone of https://huggingface.co/codeblue/distilbert-base-uncased-finetuned-emotion. Make sure you pull the latest changes with `repo.git_pull()`.\n",
            "WARNING:huggingface_hub.repository:/content/nlp-with-transformers/distilbert-base-uncased-finetuned-emotion is already a clone of https://huggingface.co/codeblue/distilbert-base-uncased-finetuned-emotion. Make sure you pull the latest changes with `repo.git_pull()`.\n",
            "/usr/local/lib/python3.10/dist-packages/transformers/optimization.py:411: FutureWarning: This implementation of AdamW is deprecated and will be removed in a future version. Use the PyTorch implementation torch.optim.AdamW instead, or set `no_deprecation_warning=True` to disable this warning\n",
            "  warnings.warn(\n"
          ]
        },
        {
          "output_type": "display_data",
          "data": {
            "text/plain": [
              "<IPython.core.display.HTML object>"
            ],
            "text/html": [
              "\n",
              "    <div>\n",
              "      \n",
              "      <progress value='500' max='500' style='width:300px; height:20px; vertical-align: middle;'></progress>\n",
              "      [500/500 05:18, Epoch 2/2]\n",
              "    </div>\n",
              "    <table border=\"1\" class=\"dataframe\">\n",
              "  <thead>\n",
              " <tr style=\"text-align: left;\">\n",
              "      <th>Epoch</th>\n",
              "      <th>Training Loss</th>\n",
              "      <th>Validation Loss</th>\n",
              "      <th>Accuracy</th>\n",
              "      <th>F1</th>\n",
              "    </tr>\n",
              "  </thead>\n",
              "  <tbody>\n",
              "    <tr>\n",
              "      <td>1</td>\n",
              "      <td>0.832300</td>\n",
              "      <td>0.319284</td>\n",
              "      <td>0.903000</td>\n",
              "      <td>0.899025</td>\n",
              "    </tr>\n",
              "    <tr>\n",
              "      <td>2</td>\n",
              "      <td>0.248900</td>\n",
              "      <td>0.221974</td>\n",
              "      <td>0.921500</td>\n",
              "      <td>0.921662</td>\n",
              "    </tr>\n",
              "  </tbody>\n",
              "</table><p>"
            ]
          },
          "metadata": {}
        },
        {
          "output_type": "execute_result",
          "data": {
            "text/plain": [
              "TrainOutput(global_step=500, training_loss=0.5406072463989258, metrics={'train_runtime': 318.7846, 'train_samples_per_second': 100.381, 'train_steps_per_second': 1.568, 'total_flos': 720342861696000.0, 'train_loss': 0.5406072463989258, 'epoch': 2.0})"
            ]
          },
          "metadata": {},
          "execution_count": 39
        }
      ]
    },
    {
      "cell_type": "code",
      "source": [
        "preds_output = trainer.predict(emotions_encoded[\"validation\"])"
      ],
      "metadata": {
        "colab": {
          "base_uri": "https://localhost:8080/",
          "height": 17
        },
        "id": "1QxOftwzJTcO",
        "outputId": "9336518c-21e1-4002-a2d7-eda453bb39c5"
      },
      "execution_count": 40,
      "outputs": [
        {
          "output_type": "display_data",
          "data": {
            "text/plain": [
              "<IPython.core.display.HTML object>"
            ],
            "text/html": []
          },
          "metadata": {}
        }
      ]
    },
    {
      "cell_type": "code",
      "source": [
        "preds_output.metrics"
      ],
      "metadata": {
        "colab": {
          "base_uri": "https://localhost:8080/"
        },
        "id": "Yn5MG9xHJ5Lt",
        "outputId": "2b71be19-3091-4c61-ccf9-3979c3f8c90e"
      },
      "execution_count": 41,
      "outputs": [
        {
          "output_type": "execute_result",
          "data": {
            "text/plain": [
              "{'test_loss': 0.22197434306144714,\n",
              " 'test_accuracy': 0.9215,\n",
              " 'test_f1': 0.9216620892381366,\n",
              " 'test_runtime': 4.023,\n",
              " 'test_samples_per_second': 497.147,\n",
              " 'test_steps_per_second': 7.954}"
            ]
          },
          "metadata": {},
          "execution_count": 41
        }
      ]
    },
    {
      "cell_type": "code",
      "source": [
        "y_preds = np.argmax(preds_output.predictions, axis=1)"
      ],
      "metadata": {
        "id": "_NG6gUA9J8sn"
      },
      "execution_count": 42,
      "outputs": []
    },
    {
      "cell_type": "code",
      "source": [
        "plot_confusion_matrix(y_preds, y_valid, labels)"
      ],
      "metadata": {
        "colab": {
          "base_uri": "https://localhost:8080/",
          "height": 551
        },
        "id": "TCxu332UKF9P",
        "outputId": "d4954a0d-aeee-4db3-c094-e15fdce02556"
      },
      "execution_count": 43,
      "outputs": [
        {
          "output_type": "display_data",
          "data": {
            "text/plain": [
              "<Figure size 600x600 with 1 Axes>"
            ],
            "image/svg+xml": "<?xml version=\"1.0\" encoding=\"utf-8\" standalone=\"no\"?>\n<!DOCTYPE svg PUBLIC \"-//W3C//DTD SVG 1.1//EN\"\n  \"http://www.w3.org/Graphics/SVG/1.1/DTD/svg11.dtd\">\n<svg xmlns:xlink=\"http://www.w3.org/1999/xlink\" width=\"418.368125pt\" height=\"398.20925pt\" viewBox=\"0 0 418.368125 398.20925\" xmlns=\"http://www.w3.org/2000/svg\" version=\"1.1\">\n <metadata>\n  <rdf:RDF xmlns:dc=\"http://purl.org/dc/elements/1.1/\" xmlns:cc=\"http://creativecommons.org/ns#\" xmlns:rdf=\"http://www.w3.org/1999/02/22-rdf-syntax-ns#\">\n   <cc:Work>\n    <dc:type rdf:resource=\"http://purl.org/dc/dcmitype/StillImage\"/>\n    <dc:date>2023-07-16T14:58:48.596024</dc:date>\n    <dc:format>image/svg+xml</dc:format>\n    <dc:creator>\n     <cc:Agent>\n      <dc:title>Matplotlib v3.7.1, https://matplotlib.org/</dc:title>\n     </cc:Agent>\n    </dc:creator>\n   </cc:Work>\n  </rdf:RDF>\n </metadata>\n <defs>\n  <style type=\"text/css\">*{stroke-linejoin: round; stroke-linecap: butt}</style>\n </defs>\n <g id=\"figure_1\">\n  <g id=\"patch_1\">\n   <path d=\"M 0 398.20925 \nL 418.368125 398.20925 \nL 418.368125 0 \nL 0 0 \nz\n\" style=\"fill: #ffffff\"/>\n  </g>\n  <g id=\"axes_1\">\n   <g id=\"patch_2\">\n    <path d=\"M 78.528125 356.78175 \nL 411.168125 356.78175 \nL 411.168125 24.14175 \nL 78.528125 24.14175 \nz\n\" style=\"fill: #ffffff\"/>\n   </g>\n   <g clip-path=\"url(#p05a4b2d6ed)\">\n    <image xlink:href=\"data:image/png;base64,\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\" id=\"image87417a8ab8\" transform=\"scale(1 -1) translate(0 -333.36)\" x=\"78.528125\" y=\"-23.42175\" width=\"332.64\" height=\"333.36\"/>\n   </g>\n   <g id=\"matplotlib.axis_1\">\n    <g id=\"xtick_1\">\n     <g id=\"line2d_1\">\n      <defs>\n       <path id=\"m0d8660fabb\" d=\"M 0 0 \nL 0 3.5 \n\" style=\"stroke: #000000; stroke-width: 0.8\"/>\n      </defs>\n      <g>\n       <use xlink:href=\"#m0d8660fabb\" x=\"106.248125\" y=\"356.78175\" style=\"stroke: #000000; stroke-width: 0.8\"/>\n      </g>\n     </g>\n     <g id=\"text_1\">\n      <!-- sadness -->\n      <g transform=\"translate(81.890937 372.899875) scale(0.12 -0.12)\">\n       <defs>\n        <path id=\"DejaVuSans-73\" d=\"M 2834 3397 \nL 2834 2853 \nQ 2591 2978 2328 3040 \nQ 2066 3103 1784 3103 \nQ 1356 3103 1142 2972 \nQ 928 2841 928 2578 \nQ 928 2378 1081 2264 \nQ 1234 2150 1697 2047 \nL 1894 2003 \nQ 2506 1872 2764 1633 \nQ 3022 1394 3022 966 \nQ 3022 478 2636 193 \nQ 2250 -91 1575 -91 \nQ 1294 -91 989 -36 \nQ 684 19 347 128 \nL 347 722 \nQ 666 556 975 473 \nQ 1284 391 1588 391 \nQ 1994 391 2212 530 \nQ 2431 669 2431 922 \nQ 2431 1156 2273 1281 \nQ 2116 1406 1581 1522 \nL 1381 1569 \nQ 847 1681 609 1914 \nQ 372 2147 372 2553 \nQ 372 3047 722 3315 \nQ 1072 3584 1716 3584 \nQ 2034 3584 2315 3537 \nQ 2597 3491 2834 3397 \nz\n\" transform=\"scale(0.015625)\"/>\n        <path id=\"DejaVuSans-61\" d=\"M 2194 1759 \nQ 1497 1759 1228 1600 \nQ 959 1441 959 1056 \nQ 959 750 1161 570 \nQ 1363 391 1709 391 \nQ 2188 391 2477 730 \nQ 2766 1069 2766 1631 \nL 2766 1759 \nL 2194 1759 \nz\nM 3341 1997 \nL 3341 0 \nL 2766 0 \nL 2766 531 \nQ 2569 213 2275 61 \nQ 1981 -91 1556 -91 \nQ 1019 -91 701 211 \nQ 384 513 384 1019 \nQ 384 1609 779 1909 \nQ 1175 2209 1959 2209 \nL 2766 2209 \nL 2766 2266 \nQ 2766 2663 2505 2880 \nQ 2244 3097 1772 3097 \nQ 1472 3097 1187 3025 \nQ 903 2953 641 2809 \nL 641 3341 \nQ 956 3463 1253 3523 \nQ 1550 3584 1831 3584 \nQ 2591 3584 2966 3190 \nQ 3341 2797 3341 1997 \nz\n\" transform=\"scale(0.015625)\"/>\n        <path id=\"DejaVuSans-64\" d=\"M 2906 2969 \nL 2906 4863 \nL 3481 4863 \nL 3481 0 \nL 2906 0 \nL 2906 525 \nQ 2725 213 2448 61 \nQ 2172 -91 1784 -91 \nQ 1150 -91 751 415 \nQ 353 922 353 1747 \nQ 353 2572 751 3078 \nQ 1150 3584 1784 3584 \nQ 2172 3584 2448 3432 \nQ 2725 3281 2906 2969 \nz\nM 947 1747 \nQ 947 1113 1208 752 \nQ 1469 391 1925 391 \nQ 2381 391 2643 752 \nQ 2906 1113 2906 1747 \nQ 2906 2381 2643 2742 \nQ 2381 3103 1925 3103 \nQ 1469 3103 1208 2742 \nQ 947 2381 947 1747 \nz\n\" transform=\"scale(0.015625)\"/>\n        <path id=\"DejaVuSans-6e\" d=\"M 3513 2113 \nL 3513 0 \nL 2938 0 \nL 2938 2094 \nQ 2938 2591 2744 2837 \nQ 2550 3084 2163 3084 \nQ 1697 3084 1428 2787 \nQ 1159 2491 1159 1978 \nL 1159 0 \nL 581 0 \nL 581 3500 \nL 1159 3500 \nL 1159 2956 \nQ 1366 3272 1645 3428 \nQ 1925 3584 2291 3584 \nQ 2894 3584 3203 3211 \nQ 3513 2838 3513 2113 \nz\n\" transform=\"scale(0.015625)\"/>\n        <path id=\"DejaVuSans-65\" d=\"M 3597 1894 \nL 3597 1613 \nL 953 1613 \nQ 991 1019 1311 708 \nQ 1631 397 2203 397 \nQ 2534 397 2845 478 \nQ 3156 559 3463 722 \nL 3463 178 \nQ 3153 47 2828 -22 \nQ 2503 -91 2169 -91 \nQ 1331 -91 842 396 \nQ 353 884 353 1716 \nQ 353 2575 817 3079 \nQ 1281 3584 2069 3584 \nQ 2775 3584 3186 3129 \nQ 3597 2675 3597 1894 \nz\nM 3022 2063 \nQ 3016 2534 2758 2815 \nQ 2500 3097 2075 3097 \nQ 1594 3097 1305 2825 \nQ 1016 2553 972 2059 \nL 3022 2063 \nz\n\" transform=\"scale(0.015625)\"/>\n       </defs>\n       <use xlink:href=\"#DejaVuSans-73\"/>\n       <use xlink:href=\"#DejaVuSans-61\" x=\"52.099609\"/>\n       <use xlink:href=\"#DejaVuSans-64\" x=\"113.378906\"/>\n       <use xlink:href=\"#DejaVuSans-6e\" x=\"176.855469\"/>\n       <use xlink:href=\"#DejaVuSans-65\" x=\"240.234375\"/>\n       <use xlink:href=\"#DejaVuSans-73\" x=\"301.757812\"/>\n       <use xlink:href=\"#DejaVuSans-73\" x=\"353.857422\"/>\n      </g>\n     </g>\n    </g>\n    <g id=\"xtick_2\">\n     <g id=\"line2d_2\">\n      <g>\n       <use xlink:href=\"#m0d8660fabb\" x=\"161.688125\" y=\"356.78175\" style=\"stroke: #000000; stroke-width: 0.8\"/>\n      </g>\n     </g>\n     <g id=\"text_2\">\n      <!-- joy -->\n      <g transform=\"translate(152.79875 372.899875) scale(0.12 -0.12)\">\n       <defs>\n        <path id=\"DejaVuSans-6a\" d=\"M 603 3500 \nL 1178 3500 \nL 1178 -63 \nQ 1178 -731 923 -1031 \nQ 669 -1331 103 -1331 \nL -116 -1331 \nL -116 -844 \nL 38 -844 \nQ 366 -844 484 -692 \nQ 603 -541 603 -63 \nL 603 3500 \nz\nM 603 4863 \nL 1178 4863 \nL 1178 4134 \nL 603 4134 \nL 603 4863 \nz\n\" transform=\"scale(0.015625)\"/>\n        <path id=\"DejaVuSans-6f\" d=\"M 1959 3097 \nQ 1497 3097 1228 2736 \nQ 959 2375 959 1747 \nQ 959 1119 1226 758 \nQ 1494 397 1959 397 \nQ 2419 397 2687 759 \nQ 2956 1122 2956 1747 \nQ 2956 2369 2687 2733 \nQ 2419 3097 1959 3097 \nz\nM 1959 3584 \nQ 2709 3584 3137 3096 \nQ 3566 2609 3566 1747 \nQ 3566 888 3137 398 \nQ 2709 -91 1959 -91 \nQ 1206 -91 779 398 \nQ 353 888 353 1747 \nQ 353 2609 779 3096 \nQ 1206 3584 1959 3584 \nz\n\" transform=\"scale(0.015625)\"/>\n        <path id=\"DejaVuSans-79\" d=\"M 2059 -325 \nQ 1816 -950 1584 -1140 \nQ 1353 -1331 966 -1331 \nL 506 -1331 \nL 506 -850 \nL 844 -850 \nQ 1081 -850 1212 -737 \nQ 1344 -625 1503 -206 \nL 1606 56 \nL 191 3500 \nL 800 3500 \nL 1894 763 \nL 2988 3500 \nL 3597 3500 \nL 2059 -325 \nz\n\" transform=\"scale(0.015625)\"/>\n       </defs>\n       <use xlink:href=\"#DejaVuSans-6a\"/>\n       <use xlink:href=\"#DejaVuSans-6f\" x=\"27.783203\"/>\n       <use xlink:href=\"#DejaVuSans-79\" x=\"88.964844\"/>\n      </g>\n     </g>\n    </g>\n    <g id=\"xtick_3\">\n     <g id=\"line2d_3\">\n      <g>\n       <use xlink:href=\"#m0d8660fabb\" x=\"217.128125\" y=\"356.78175\" style=\"stroke: #000000; stroke-width: 0.8\"/>\n      </g>\n     </g>\n     <g id=\"text_3\">\n      <!-- love -->\n      <g transform=\"translate(204.546875 372.899875) scale(0.12 -0.12)\">\n       <defs>\n        <path id=\"DejaVuSans-6c\" d=\"M 603 4863 \nL 1178 4863 \nL 1178 0 \nL 603 0 \nL 603 4863 \nz\n\" transform=\"scale(0.015625)\"/>\n        <path id=\"DejaVuSans-76\" d=\"M 191 3500 \nL 800 3500 \nL 1894 563 \nL 2988 3500 \nL 3597 3500 \nL 2284 0 \nL 1503 0 \nL 191 3500 \nz\n\" transform=\"scale(0.015625)\"/>\n       </defs>\n       <use xlink:href=\"#DejaVuSans-6c\"/>\n       <use xlink:href=\"#DejaVuSans-6f\" x=\"27.783203\"/>\n       <use xlink:href=\"#DejaVuSans-76\" x=\"88.964844\"/>\n       <use xlink:href=\"#DejaVuSans-65\" x=\"148.144531\"/>\n      </g>\n     </g>\n    </g>\n    <g id=\"xtick_4\">\n     <g id=\"line2d_4\">\n      <g>\n       <use xlink:href=\"#m0d8660fabb\" x=\"272.568125\" y=\"356.78175\" style=\"stroke: #000000; stroke-width: 0.8\"/>\n      </g>\n     </g>\n     <g id=\"text_4\">\n      <!-- anger -->\n      <g transform=\"translate(255.12125 372.899875) scale(0.12 -0.12)\">\n       <defs>\n        <path id=\"DejaVuSans-67\" d=\"M 2906 1791 \nQ 2906 2416 2648 2759 \nQ 2391 3103 1925 3103 \nQ 1463 3103 1205 2759 \nQ 947 2416 947 1791 \nQ 947 1169 1205 825 \nQ 1463 481 1925 481 \nQ 2391 481 2648 825 \nQ 2906 1169 2906 1791 \nz\nM 3481 434 \nQ 3481 -459 3084 -895 \nQ 2688 -1331 1869 -1331 \nQ 1566 -1331 1297 -1286 \nQ 1028 -1241 775 -1147 \nL 775 -588 \nQ 1028 -725 1275 -790 \nQ 1522 -856 1778 -856 \nQ 2344 -856 2625 -561 \nQ 2906 -266 2906 331 \nL 2906 616 \nQ 2728 306 2450 153 \nQ 2172 0 1784 0 \nQ 1141 0 747 490 \nQ 353 981 353 1791 \nQ 353 2603 747 3093 \nQ 1141 3584 1784 3584 \nQ 2172 3584 2450 3431 \nQ 2728 3278 2906 2969 \nL 2906 3500 \nL 3481 3500 \nL 3481 434 \nz\n\" transform=\"scale(0.015625)\"/>\n        <path id=\"DejaVuSans-72\" d=\"M 2631 2963 \nQ 2534 3019 2420 3045 \nQ 2306 3072 2169 3072 \nQ 1681 3072 1420 2755 \nQ 1159 2438 1159 1844 \nL 1159 0 \nL 581 0 \nL 581 3500 \nL 1159 3500 \nL 1159 2956 \nQ 1341 3275 1631 3429 \nQ 1922 3584 2338 3584 \nQ 2397 3584 2469 3576 \nQ 2541 3569 2628 3553 \nL 2631 2963 \nz\n\" transform=\"scale(0.015625)\"/>\n       </defs>\n       <use xlink:href=\"#DejaVuSans-61\"/>\n       <use xlink:href=\"#DejaVuSans-6e\" x=\"61.279297\"/>\n       <use xlink:href=\"#DejaVuSans-67\" x=\"124.658203\"/>\n       <use xlink:href=\"#DejaVuSans-65\" x=\"188.134766\"/>\n       <use xlink:href=\"#DejaVuSans-72\" x=\"249.658203\"/>\n      </g>\n     </g>\n    </g>\n    <g id=\"xtick_5\">\n     <g id=\"line2d_5\">\n      <g>\n       <use xlink:href=\"#m0d8660fabb\" x=\"328.008125\" y=\"356.78175\" style=\"stroke: #000000; stroke-width: 0.8\"/>\n      </g>\n     </g>\n     <g id=\"text_5\">\n      <!-- fear -->\n      <g transform=\"translate(316.060625 372.899875) scale(0.12 -0.12)\">\n       <defs>\n        <path id=\"DejaVuSans-66\" d=\"M 2375 4863 \nL 2375 4384 \nL 1825 4384 \nQ 1516 4384 1395 4259 \nQ 1275 4134 1275 3809 \nL 1275 3500 \nL 2222 3500 \nL 2222 3053 \nL 1275 3053 \nL 1275 0 \nL 697 0 \nL 697 3053 \nL 147 3053 \nL 147 3500 \nL 697 3500 \nL 697 3744 \nQ 697 4328 969 4595 \nQ 1241 4863 1831 4863 \nL 2375 4863 \nz\n\" transform=\"scale(0.015625)\"/>\n       </defs>\n       <use xlink:href=\"#DejaVuSans-66\"/>\n       <use xlink:href=\"#DejaVuSans-65\" x=\"35.205078\"/>\n       <use xlink:href=\"#DejaVuSans-61\" x=\"96.728516\"/>\n       <use xlink:href=\"#DejaVuSans-72\" x=\"158.007812\"/>\n      </g>\n     </g>\n    </g>\n    <g id=\"xtick_6\">\n     <g id=\"line2d_6\">\n      <g>\n       <use xlink:href=\"#m0d8660fabb\" x=\"383.448125\" y=\"356.78175\" style=\"stroke: #000000; stroke-width: 0.8\"/>\n      </g>\n     </g>\n     <g id=\"text_6\">\n      <!-- surprise -->\n      <g transform=\"translate(359.293437 372.899875) scale(0.12 -0.12)\">\n       <defs>\n        <path id=\"DejaVuSans-75\" d=\"M 544 1381 \nL 544 3500 \nL 1119 3500 \nL 1119 1403 \nQ 1119 906 1312 657 \nQ 1506 409 1894 409 \nQ 2359 409 2629 706 \nQ 2900 1003 2900 1516 \nL 2900 3500 \nL 3475 3500 \nL 3475 0 \nL 2900 0 \nL 2900 538 \nQ 2691 219 2414 64 \nQ 2138 -91 1772 -91 \nQ 1169 -91 856 284 \nQ 544 659 544 1381 \nz\nM 1991 3584 \nL 1991 3584 \nz\n\" transform=\"scale(0.015625)\"/>\n        <path id=\"DejaVuSans-70\" d=\"M 1159 525 \nL 1159 -1331 \nL 581 -1331 \nL 581 3500 \nL 1159 3500 \nL 1159 2969 \nQ 1341 3281 1617 3432 \nQ 1894 3584 2278 3584 \nQ 2916 3584 3314 3078 \nQ 3713 2572 3713 1747 \nQ 3713 922 3314 415 \nQ 2916 -91 2278 -91 \nQ 1894 -91 1617 61 \nQ 1341 213 1159 525 \nz\nM 3116 1747 \nQ 3116 2381 2855 2742 \nQ 2594 3103 2138 3103 \nQ 1681 3103 1420 2742 \nQ 1159 2381 1159 1747 \nQ 1159 1113 1420 752 \nQ 1681 391 2138 391 \nQ 2594 391 2855 752 \nQ 3116 1113 3116 1747 \nz\n\" transform=\"scale(0.015625)\"/>\n        <path id=\"DejaVuSans-69\" d=\"M 603 3500 \nL 1178 3500 \nL 1178 0 \nL 603 0 \nL 603 3500 \nz\nM 603 4863 \nL 1178 4863 \nL 1178 4134 \nL 603 4134 \nL 603 4863 \nz\n\" transform=\"scale(0.015625)\"/>\n       </defs>\n       <use xlink:href=\"#DejaVuSans-73\"/>\n       <use xlink:href=\"#DejaVuSans-75\" x=\"52.099609\"/>\n       <use xlink:href=\"#DejaVuSans-72\" x=\"115.478516\"/>\n       <use xlink:href=\"#DejaVuSans-70\" x=\"156.591797\"/>\n       <use xlink:href=\"#DejaVuSans-72\" x=\"220.068359\"/>\n       <use xlink:href=\"#DejaVuSans-69\" x=\"261.181641\"/>\n       <use xlink:href=\"#DejaVuSans-73\" x=\"288.964844\"/>\n       <use xlink:href=\"#DejaVuSans-65\" x=\"341.064453\"/>\n      </g>\n     </g>\n    </g>\n    <g id=\"text_7\">\n     <!-- Predicted label -->\n     <g transform=\"translate(200.265312 388.513625) scale(0.12 -0.12)\">\n      <defs>\n       <path id=\"DejaVuSans-50\" d=\"M 1259 4147 \nL 1259 2394 \nL 2053 2394 \nQ 2494 2394 2734 2622 \nQ 2975 2850 2975 3272 \nQ 2975 3691 2734 3919 \nQ 2494 4147 2053 4147 \nL 1259 4147 \nz\nM 628 4666 \nL 2053 4666 \nQ 2838 4666 3239 4311 \nQ 3641 3956 3641 3272 \nQ 3641 2581 3239 2228 \nQ 2838 1875 2053 1875 \nL 1259 1875 \nL 1259 0 \nL 628 0 \nL 628 4666 \nz\n\" transform=\"scale(0.015625)\"/>\n       <path id=\"DejaVuSans-63\" d=\"M 3122 3366 \nL 3122 2828 \nQ 2878 2963 2633 3030 \nQ 2388 3097 2138 3097 \nQ 1578 3097 1268 2742 \nQ 959 2388 959 1747 \nQ 959 1106 1268 751 \nQ 1578 397 2138 397 \nQ 2388 397 2633 464 \nQ 2878 531 3122 666 \nL 3122 134 \nQ 2881 22 2623 -34 \nQ 2366 -91 2075 -91 \nQ 1284 -91 818 406 \nQ 353 903 353 1747 \nQ 353 2603 823 3093 \nQ 1294 3584 2113 3584 \nQ 2378 3584 2631 3529 \nQ 2884 3475 3122 3366 \nz\n\" transform=\"scale(0.015625)\"/>\n       <path id=\"DejaVuSans-74\" d=\"M 1172 4494 \nL 1172 3500 \nL 2356 3500 \nL 2356 3053 \nL 1172 3053 \nL 1172 1153 \nQ 1172 725 1289 603 \nQ 1406 481 1766 481 \nL 2356 481 \nL 2356 0 \nL 1766 0 \nQ 1100 0 847 248 \nQ 594 497 594 1153 \nL 594 3053 \nL 172 3053 \nL 172 3500 \nL 594 3500 \nL 594 4494 \nL 1172 4494 \nz\n\" transform=\"scale(0.015625)\"/>\n       <path id=\"DejaVuSans-20\" transform=\"scale(0.015625)\"/>\n       <path id=\"DejaVuSans-62\" d=\"M 3116 1747 \nQ 3116 2381 2855 2742 \nQ 2594 3103 2138 3103 \nQ 1681 3103 1420 2742 \nQ 1159 2381 1159 1747 \nQ 1159 1113 1420 752 \nQ 1681 391 2138 391 \nQ 2594 391 2855 752 \nQ 3116 1113 3116 1747 \nz\nM 1159 2969 \nQ 1341 3281 1617 3432 \nQ 1894 3584 2278 3584 \nQ 2916 3584 3314 3078 \nQ 3713 2572 3713 1747 \nQ 3713 922 3314 415 \nQ 2916 -91 2278 -91 \nQ 1894 -91 1617 61 \nQ 1341 213 1159 525 \nL 1159 0 \nL 581 0 \nL 581 4863 \nL 1159 4863 \nL 1159 2969 \nz\n\" transform=\"scale(0.015625)\"/>\n      </defs>\n      <use xlink:href=\"#DejaVuSans-50\"/>\n      <use xlink:href=\"#DejaVuSans-72\" x=\"58.552734\"/>\n      <use xlink:href=\"#DejaVuSans-65\" x=\"97.416016\"/>\n      <use xlink:href=\"#DejaVuSans-64\" x=\"158.939453\"/>\n      <use xlink:href=\"#DejaVuSans-69\" x=\"222.416016\"/>\n      <use xlink:href=\"#DejaVuSans-63\" x=\"250.199219\"/>\n      <use xlink:href=\"#DejaVuSans-74\" x=\"305.179688\"/>\n      <use xlink:href=\"#DejaVuSans-65\" x=\"344.388672\"/>\n      <use xlink:href=\"#DejaVuSans-64\" x=\"405.912109\"/>\n      <use xlink:href=\"#DejaVuSans-20\" x=\"469.388672\"/>\n      <use xlink:href=\"#DejaVuSans-6c\" x=\"501.175781\"/>\n      <use xlink:href=\"#DejaVuSans-61\" x=\"528.958984\"/>\n      <use xlink:href=\"#DejaVuSans-62\" x=\"590.238281\"/>\n      <use xlink:href=\"#DejaVuSans-65\" x=\"653.714844\"/>\n      <use xlink:href=\"#DejaVuSans-6c\" x=\"715.238281\"/>\n     </g>\n    </g>\n   </g>\n   <g id=\"matplotlib.axis_2\">\n    <g id=\"ytick_1\">\n     <g id=\"line2d_7\">\n      <defs>\n       <path id=\"m5f66696794\" d=\"M 0 0 \nL -3.5 0 \n\" style=\"stroke: #000000; stroke-width: 0.8\"/>\n      </defs>\n      <g>\n       <use xlink:href=\"#m5f66696794\" x=\"78.528125\" y=\"51.86175\" style=\"stroke: #000000; stroke-width: 0.8\"/>\n      </g>\n     </g>\n     <g id=\"text_8\">\n      <!-- sadness -->\n      <g transform=\"translate(22.81375 56.420812) scale(0.12 -0.12)\">\n       <use xlink:href=\"#DejaVuSans-73\"/>\n       <use xlink:href=\"#DejaVuSans-61\" x=\"52.099609\"/>\n       <use xlink:href=\"#DejaVuSans-64\" x=\"113.378906\"/>\n       <use xlink:href=\"#DejaVuSans-6e\" x=\"176.855469\"/>\n       <use xlink:href=\"#DejaVuSans-65\" x=\"240.234375\"/>\n       <use xlink:href=\"#DejaVuSans-73\" x=\"301.757812\"/>\n       <use xlink:href=\"#DejaVuSans-73\" x=\"353.857422\"/>\n      </g>\n     </g>\n    </g>\n    <g id=\"ytick_2\">\n     <g id=\"line2d_8\">\n      <g>\n       <use xlink:href=\"#m5f66696794\" x=\"78.528125\" y=\"107.30175\" style=\"stroke: #000000; stroke-width: 0.8\"/>\n      </g>\n     </g>\n     <g id=\"text_9\">\n      <!-- joy -->\n      <g transform=\"translate(53.749375 111.860812) scale(0.12 -0.12)\">\n       <use xlink:href=\"#DejaVuSans-6a\"/>\n       <use xlink:href=\"#DejaVuSans-6f\" x=\"27.783203\"/>\n       <use xlink:href=\"#DejaVuSans-79\" x=\"88.964844\"/>\n      </g>\n     </g>\n    </g>\n    <g id=\"ytick_3\">\n     <g id=\"line2d_9\">\n      <g>\n       <use xlink:href=\"#m5f66696794\" x=\"78.528125\" y=\"162.74175\" style=\"stroke: #000000; stroke-width: 0.8\"/>\n      </g>\n     </g>\n     <g id=\"text_10\">\n      <!-- love -->\n      <g transform=\"translate(46.365625 167.300812) scale(0.12 -0.12)\">\n       <use xlink:href=\"#DejaVuSans-6c\"/>\n       <use xlink:href=\"#DejaVuSans-6f\" x=\"27.783203\"/>\n       <use xlink:href=\"#DejaVuSans-76\" x=\"88.964844\"/>\n       <use xlink:href=\"#DejaVuSans-65\" x=\"148.144531\"/>\n      </g>\n     </g>\n    </g>\n    <g id=\"ytick_4\">\n     <g id=\"line2d_10\">\n      <g>\n       <use xlink:href=\"#m5f66696794\" x=\"78.528125\" y=\"218.18175\" style=\"stroke: #000000; stroke-width: 0.8\"/>\n      </g>\n     </g>\n     <g id=\"text_11\">\n      <!-- anger -->\n      <g transform=\"translate(36.634375 222.740813) scale(0.12 -0.12)\">\n       <use xlink:href=\"#DejaVuSans-61\"/>\n       <use xlink:href=\"#DejaVuSans-6e\" x=\"61.279297\"/>\n       <use xlink:href=\"#DejaVuSans-67\" x=\"124.658203\"/>\n       <use xlink:href=\"#DejaVuSans-65\" x=\"188.134766\"/>\n       <use xlink:href=\"#DejaVuSans-72\" x=\"249.658203\"/>\n      </g>\n     </g>\n    </g>\n    <g id=\"ytick_5\">\n     <g id=\"line2d_11\">\n      <g>\n       <use xlink:href=\"#m5f66696794\" x=\"78.528125\" y=\"273.62175\" style=\"stroke: #000000; stroke-width: 0.8\"/>\n      </g>\n     </g>\n     <g id=\"text_12\">\n      <!-- fear -->\n      <g transform=\"translate(47.633125 278.180813) scale(0.12 -0.12)\">\n       <use xlink:href=\"#DejaVuSans-66\"/>\n       <use xlink:href=\"#DejaVuSans-65\" x=\"35.205078\"/>\n       <use xlink:href=\"#DejaVuSans-61\" x=\"96.728516\"/>\n       <use xlink:href=\"#DejaVuSans-72\" x=\"158.007812\"/>\n      </g>\n     </g>\n    </g>\n    <g id=\"ytick_6\">\n     <g id=\"line2d_12\">\n      <g>\n       <use xlink:href=\"#m5f66696794\" x=\"78.528125\" y=\"329.06175\" style=\"stroke: #000000; stroke-width: 0.8\"/>\n      </g>\n     </g>\n     <g id=\"text_13\">\n      <!-- surprise -->\n      <g transform=\"translate(23.21875 333.620812) scale(0.12 -0.12)\">\n       <use xlink:href=\"#DejaVuSans-73\"/>\n       <use xlink:href=\"#DejaVuSans-75\" x=\"52.099609\"/>\n       <use xlink:href=\"#DejaVuSans-72\" x=\"115.478516\"/>\n       <use xlink:href=\"#DejaVuSans-70\" x=\"156.591797\"/>\n       <use xlink:href=\"#DejaVuSans-72\" x=\"220.068359\"/>\n       <use xlink:href=\"#DejaVuSans-69\" x=\"261.181641\"/>\n       <use xlink:href=\"#DejaVuSans-73\" x=\"288.964844\"/>\n       <use xlink:href=\"#DejaVuSans-65\" x=\"341.064453\"/>\n      </g>\n     </g>\n    </g>\n    <g id=\"text_14\">\n     <!-- True label -->\n     <g transform=\"translate(16.318125 219.620812) rotate(-90) scale(0.12 -0.12)\">\n      <defs>\n       <path id=\"DejaVuSans-54\" d=\"M -19 4666 \nL 3928 4666 \nL 3928 4134 \nL 2272 4134 \nL 2272 0 \nL 1638 0 \nL 1638 4134 \nL -19 4134 \nL -19 4666 \nz\n\" transform=\"scale(0.015625)\"/>\n      </defs>\n      <use xlink:href=\"#DejaVuSans-54\"/>\n      <use xlink:href=\"#DejaVuSans-72\" x=\"46.333984\"/>\n      <use xlink:href=\"#DejaVuSans-75\" x=\"87.447266\"/>\n      <use xlink:href=\"#DejaVuSans-65\" x=\"150.826172\"/>\n      <use xlink:href=\"#DejaVuSans-20\" x=\"212.349609\"/>\n      <use xlink:href=\"#DejaVuSans-6c\" x=\"244.136719\"/>\n      <use xlink:href=\"#DejaVuSans-61\" x=\"271.919922\"/>\n      <use xlink:href=\"#DejaVuSans-62\" x=\"333.199219\"/>\n      <use xlink:href=\"#DejaVuSans-65\" x=\"396.675781\"/>\n      <use xlink:href=\"#DejaVuSans-6c\" x=\"458.199219\"/>\n     </g>\n    </g>\n   </g>\n   <g id=\"patch_3\">\n    <path d=\"M 78.528125 356.78175 \nL 78.528125 24.14175 \n\" style=\"fill: none; stroke: #000000; stroke-width: 0.8; stroke-linejoin: miter; stroke-linecap: square\"/>\n   </g>\n   <g id=\"patch_4\">\n    <path d=\"M 411.168125 356.78175 \nL 411.168125 24.14175 \n\" style=\"fill: none; stroke: #000000; stroke-width: 0.8; stroke-linejoin: miter; stroke-linecap: square\"/>\n   </g>\n   <g id=\"patch_5\">\n    <path d=\"M 78.528125 356.78175 \nL 411.168125 356.78175 \n\" style=\"fill: none; stroke: #000000; stroke-width: 0.8; stroke-linejoin: miter; stroke-linecap: square\"/>\n   </g>\n   <g id=\"patch_6\">\n    <path d=\"M 78.528125 24.14175 \nL 411.168125 24.14175 \n\" style=\"fill: none; stroke: #000000; stroke-width: 0.8; stroke-linejoin: miter; stroke-linecap: square\"/>\n   </g>\n   <g id=\"text_15\">\n    <!-- 0.96 -->\n    <g style=\"fill: #f7fbff\" transform=\"translate(92.88875 55.173) scale(0.12 -0.12)\">\n     <defs>\n      <path id=\"DejaVuSans-30\" d=\"M 2034 4250 \nQ 1547 4250 1301 3770 \nQ 1056 3291 1056 2328 \nQ 1056 1369 1301 889 \nQ 1547 409 2034 409 \nQ 2525 409 2770 889 \nQ 3016 1369 3016 2328 \nQ 3016 3291 2770 3770 \nQ 2525 4250 2034 4250 \nz\nM 2034 4750 \nQ 2819 4750 3233 4129 \nQ 3647 3509 3647 2328 \nQ 3647 1150 3233 529 \nQ 2819 -91 2034 -91 \nQ 1250 -91 836 529 \nQ 422 1150 422 2328 \nQ 422 3509 836 4129 \nQ 1250 4750 2034 4750 \nz\n\" transform=\"scale(0.015625)\"/>\n      <path id=\"DejaVuSans-2e\" d=\"M 684 794 \nL 1344 794 \nL 1344 0 \nL 684 0 \nL 684 794 \nz\n\" transform=\"scale(0.015625)\"/>\n      <path id=\"DejaVuSans-39\" d=\"M 703 97 \nL 703 672 \nQ 941 559 1184 500 \nQ 1428 441 1663 441 \nQ 2288 441 2617 861 \nQ 2947 1281 2994 2138 \nQ 2813 1869 2534 1725 \nQ 2256 1581 1919 1581 \nQ 1219 1581 811 2004 \nQ 403 2428 403 3163 \nQ 403 3881 828 4315 \nQ 1253 4750 1959 4750 \nQ 2769 4750 3195 4129 \nQ 3622 3509 3622 2328 \nQ 3622 1225 3098 567 \nQ 2575 -91 1691 -91 \nQ 1453 -91 1209 -44 \nQ 966 3 703 97 \nz\nM 1959 2075 \nQ 2384 2075 2632 2365 \nQ 2881 2656 2881 3163 \nQ 2881 3666 2632 3958 \nQ 2384 4250 1959 4250 \nQ 1534 4250 1286 3958 \nQ 1038 3666 1038 3163 \nQ 1038 2656 1286 2365 \nQ 1534 2075 1959 2075 \nz\n\" transform=\"scale(0.015625)\"/>\n      <path id=\"DejaVuSans-36\" d=\"M 2113 2584 \nQ 1688 2584 1439 2293 \nQ 1191 2003 1191 1497 \nQ 1191 994 1439 701 \nQ 1688 409 2113 409 \nQ 2538 409 2786 701 \nQ 3034 994 3034 1497 \nQ 3034 2003 2786 2293 \nQ 2538 2584 2113 2584 \nz\nM 3366 4563 \nL 3366 3988 \nQ 3128 4100 2886 4159 \nQ 2644 4219 2406 4219 \nQ 1781 4219 1451 3797 \nQ 1122 3375 1075 2522 \nQ 1259 2794 1537 2939 \nQ 1816 3084 2150 3084 \nQ 2853 3084 3261 2657 \nQ 3669 2231 3669 1497 \nQ 3669 778 3244 343 \nQ 2819 -91 2113 -91 \nQ 1303 -91 875 529 \nQ 447 1150 447 2328 \nQ 447 3434 972 4092 \nQ 1497 4750 2381 4750 \nQ 2619 4750 2861 4703 \nQ 3103 4656 3366 4563 \nz\n\" transform=\"scale(0.015625)\"/>\n     </defs>\n     <use xlink:href=\"#DejaVuSans-30\"/>\n     <use xlink:href=\"#DejaVuSans-2e\" x=\"63.623047\"/>\n     <use xlink:href=\"#DejaVuSans-39\" x=\"95.410156\"/>\n     <use xlink:href=\"#DejaVuSans-36\" x=\"159.033203\"/>\n    </g>\n   </g>\n   <g id=\"text_16\">\n    <!-- 0.01 -->\n    <g style=\"fill: #08306b\" transform=\"translate(148.32875 55.173) scale(0.12 -0.12)\">\n     <defs>\n      <path id=\"DejaVuSans-31\" d=\"M 794 531 \nL 1825 531 \nL 1825 4091 \nL 703 3866 \nL 703 4441 \nL 1819 4666 \nL 2450 4666 \nL 2450 531 \nL 3481 531 \nL 3481 0 \nL 794 0 \nL 794 531 \nz\n\" transform=\"scale(0.015625)\"/>\n     </defs>\n     <use xlink:href=\"#DejaVuSans-30\"/>\n     <use xlink:href=\"#DejaVuSans-2e\" x=\"63.623047\"/>\n     <use xlink:href=\"#DejaVuSans-30\" x=\"95.410156\"/>\n     <use xlink:href=\"#DejaVuSans-31\" x=\"159.033203\"/>\n    </g>\n   </g>\n   <g id=\"text_17\">\n    <!-- 0.00 -->\n    <g style=\"fill: #08306b\" transform=\"translate(203.76875 55.173) scale(0.12 -0.12)\">\n     <use xlink:href=\"#DejaVuSans-30\"/>\n     <use xlink:href=\"#DejaVuSans-2e\" x=\"63.623047\"/>\n     <use xlink:href=\"#DejaVuSans-30\" x=\"95.410156\"/>\n     <use xlink:href=\"#DejaVuSans-30\" x=\"159.033203\"/>\n    </g>\n   </g>\n   <g id=\"text_18\">\n    <!-- 0.01 -->\n    <g style=\"fill: #08306b\" transform=\"translate(259.20875 55.173) scale(0.12 -0.12)\">\n     <use xlink:href=\"#DejaVuSans-30\"/>\n     <use xlink:href=\"#DejaVuSans-2e\" x=\"63.623047\"/>\n     <use xlink:href=\"#DejaVuSans-30\" x=\"95.410156\"/>\n     <use xlink:href=\"#DejaVuSans-31\" x=\"159.033203\"/>\n    </g>\n   </g>\n   <g id=\"text_19\">\n    <!-- 0.02 -->\n    <g style=\"fill: #08306b\" transform=\"translate(314.64875 55.173) scale(0.12 -0.12)\">\n     <defs>\n      <path id=\"DejaVuSans-32\" d=\"M 1228 531 \nL 3431 531 \nL 3431 0 \nL 469 0 \nL 469 531 \nQ 828 903 1448 1529 \nQ 2069 2156 2228 2338 \nQ 2531 2678 2651 2914 \nQ 2772 3150 2772 3378 \nQ 2772 3750 2511 3984 \nQ 2250 4219 1831 4219 \nQ 1534 4219 1204 4116 \nQ 875 4013 500 3803 \nL 500 4441 \nQ 881 4594 1212 4672 \nQ 1544 4750 1819 4750 \nQ 2544 4750 2975 4387 \nQ 3406 4025 3406 3419 \nQ 3406 3131 3298 2873 \nQ 3191 2616 2906 2266 \nQ 2828 2175 2409 1742 \nQ 1991 1309 1228 531 \nz\n\" transform=\"scale(0.015625)\"/>\n     </defs>\n     <use xlink:href=\"#DejaVuSans-30\"/>\n     <use xlink:href=\"#DejaVuSans-2e\" x=\"63.623047\"/>\n     <use xlink:href=\"#DejaVuSans-30\" x=\"95.410156\"/>\n     <use xlink:href=\"#DejaVuSans-32\" x=\"159.033203\"/>\n    </g>\n   </g>\n   <g id=\"text_20\">\n    <!-- 0.00 -->\n    <g style=\"fill: #08306b\" transform=\"translate(370.08875 55.173) scale(0.12 -0.12)\">\n     <use xlink:href=\"#DejaVuSans-30\"/>\n     <use xlink:href=\"#DejaVuSans-2e\" x=\"63.623047\"/>\n     <use xlink:href=\"#DejaVuSans-30\" x=\"95.410156\"/>\n     <use xlink:href=\"#DejaVuSans-30\" x=\"159.033203\"/>\n    </g>\n   </g>\n   <g id=\"text_21\">\n    <!-- 0.01 -->\n    <g style=\"fill: #08306b\" transform=\"translate(92.88875 110.613) scale(0.12 -0.12)\">\n     <use xlink:href=\"#DejaVuSans-30\"/>\n     <use xlink:href=\"#DejaVuSans-2e\" x=\"63.623047\"/>\n     <use xlink:href=\"#DejaVuSans-30\" x=\"95.410156\"/>\n     <use xlink:href=\"#DejaVuSans-31\" x=\"159.033203\"/>\n    </g>\n   </g>\n   <g id=\"text_22\">\n    <!-- 0.93 -->\n    <g style=\"fill: #f7fbff\" transform=\"translate(148.32875 110.613) scale(0.12 -0.12)\">\n     <defs>\n      <path id=\"DejaVuSans-33\" d=\"M 2597 2516 \nQ 3050 2419 3304 2112 \nQ 3559 1806 3559 1356 \nQ 3559 666 3084 287 \nQ 2609 -91 1734 -91 \nQ 1441 -91 1130 -33 \nQ 819 25 488 141 \nL 488 750 \nQ 750 597 1062 519 \nQ 1375 441 1716 441 \nQ 2309 441 2620 675 \nQ 2931 909 2931 1356 \nQ 2931 1769 2642 2001 \nQ 2353 2234 1838 2234 \nL 1294 2234 \nL 1294 2753 \nL 1863 2753 \nQ 2328 2753 2575 2939 \nQ 2822 3125 2822 3475 \nQ 2822 3834 2567 4026 \nQ 2313 4219 1838 4219 \nQ 1578 4219 1281 4162 \nQ 984 4106 628 3988 \nL 628 4550 \nQ 988 4650 1302 4700 \nQ 1616 4750 1894 4750 \nQ 2613 4750 3031 4423 \nQ 3450 4097 3450 3541 \nQ 3450 3153 3228 2886 \nQ 3006 2619 2597 2516 \nz\n\" transform=\"scale(0.015625)\"/>\n     </defs>\n     <use xlink:href=\"#DejaVuSans-30\"/>\n     <use xlink:href=\"#DejaVuSans-2e\" x=\"63.623047\"/>\n     <use xlink:href=\"#DejaVuSans-39\" x=\"95.410156\"/>\n     <use xlink:href=\"#DejaVuSans-33\" x=\"159.033203\"/>\n    </g>\n   </g>\n   <g id=\"text_23\">\n    <!-- 0.05 -->\n    <g style=\"fill: #08306b\" transform=\"translate(203.76875 110.613) scale(0.12 -0.12)\">\n     <defs>\n      <path id=\"DejaVuSans-35\" d=\"M 691 4666 \nL 3169 4666 \nL 3169 4134 \nL 1269 4134 \nL 1269 2991 \nQ 1406 3038 1543 3061 \nQ 1681 3084 1819 3084 \nQ 2600 3084 3056 2656 \nQ 3513 2228 3513 1497 \nQ 3513 744 3044 326 \nQ 2575 -91 1722 -91 \nQ 1428 -91 1123 -41 \nQ 819 9 494 109 \nL 494 744 \nQ 775 591 1075 516 \nQ 1375 441 1709 441 \nQ 2250 441 2565 725 \nQ 2881 1009 2881 1497 \nQ 2881 1984 2565 2268 \nQ 2250 2553 1709 2553 \nQ 1456 2553 1204 2497 \nQ 953 2441 691 2322 \nL 691 4666 \nz\n\" transform=\"scale(0.015625)\"/>\n     </defs>\n     <use xlink:href=\"#DejaVuSans-30\"/>\n     <use xlink:href=\"#DejaVuSans-2e\" x=\"63.623047\"/>\n     <use xlink:href=\"#DejaVuSans-30\" x=\"95.410156\"/>\n     <use xlink:href=\"#DejaVuSans-35\" x=\"159.033203\"/>\n    </g>\n   </g>\n   <g id=\"text_24\">\n    <!-- 0.01 -->\n    <g style=\"fill: #08306b\" transform=\"translate(259.20875 110.613) scale(0.12 -0.12)\">\n     <use xlink:href=\"#DejaVuSans-30\"/>\n     <use xlink:href=\"#DejaVuSans-2e\" x=\"63.623047\"/>\n     <use xlink:href=\"#DejaVuSans-30\" x=\"95.410156\"/>\n     <use xlink:href=\"#DejaVuSans-31\" x=\"159.033203\"/>\n    </g>\n   </g>\n   <g id=\"text_25\">\n    <!-- 0.01 -->\n    <g style=\"fill: #08306b\" transform=\"translate(314.64875 110.613) scale(0.12 -0.12)\">\n     <use xlink:href=\"#DejaVuSans-30\"/>\n     <use xlink:href=\"#DejaVuSans-2e\" x=\"63.623047\"/>\n     <use xlink:href=\"#DejaVuSans-30\" x=\"95.410156\"/>\n     <use xlink:href=\"#DejaVuSans-31\" x=\"159.033203\"/>\n    </g>\n   </g>\n   <g id=\"text_26\">\n    <!-- 0.00 -->\n    <g style=\"fill: #08306b\" transform=\"translate(370.08875 110.613) scale(0.12 -0.12)\">\n     <use xlink:href=\"#DejaVuSans-30\"/>\n     <use xlink:href=\"#DejaVuSans-2e\" x=\"63.623047\"/>\n     <use xlink:href=\"#DejaVuSans-30\" x=\"95.410156\"/>\n     <use xlink:href=\"#DejaVuSans-30\" x=\"159.033203\"/>\n    </g>\n   </g>\n   <g id=\"text_27\">\n    <!-- 0.02 -->\n    <g style=\"fill: #08306b\" transform=\"translate(92.88875 166.053) scale(0.12 -0.12)\">\n     <use xlink:href=\"#DejaVuSans-30\"/>\n     <use xlink:href=\"#DejaVuSans-2e\" x=\"63.623047\"/>\n     <use xlink:href=\"#DejaVuSans-30\" x=\"95.410156\"/>\n     <use xlink:href=\"#DejaVuSans-32\" x=\"159.033203\"/>\n    </g>\n   </g>\n   <g id=\"text_28\">\n    <!-- 0.07 -->\n    <g style=\"fill: #08306b\" transform=\"translate(148.32875 166.053) scale(0.12 -0.12)\">\n     <defs>\n      <path id=\"DejaVuSans-37\" d=\"M 525 4666 \nL 3525 4666 \nL 3525 4397 \nL 1831 0 \nL 1172 0 \nL 2766 4134 \nL 525 4134 \nL 525 4666 \nz\n\" transform=\"scale(0.015625)\"/>\n     </defs>\n     <use xlink:href=\"#DejaVuSans-30\"/>\n     <use xlink:href=\"#DejaVuSans-2e\" x=\"63.623047\"/>\n     <use xlink:href=\"#DejaVuSans-30\" x=\"95.410156\"/>\n     <use xlink:href=\"#DejaVuSans-37\" x=\"159.033203\"/>\n    </g>\n   </g>\n   <g id=\"text_29\">\n    <!-- 0.90 -->\n    <g style=\"fill: #f7fbff\" transform=\"translate(203.76875 166.053) scale(0.12 -0.12)\">\n     <use xlink:href=\"#DejaVuSans-30\"/>\n     <use xlink:href=\"#DejaVuSans-2e\" x=\"63.623047\"/>\n     <use xlink:href=\"#DejaVuSans-39\" x=\"95.410156\"/>\n     <use xlink:href=\"#DejaVuSans-30\" x=\"159.033203\"/>\n    </g>\n   </g>\n   <g id=\"text_30\">\n    <!-- 0.00 -->\n    <g style=\"fill: #08306b\" transform=\"translate(259.20875 166.053) scale(0.12 -0.12)\">\n     <use xlink:href=\"#DejaVuSans-30\"/>\n     <use xlink:href=\"#DejaVuSans-2e\" x=\"63.623047\"/>\n     <use xlink:href=\"#DejaVuSans-30\" x=\"95.410156\"/>\n     <use xlink:href=\"#DejaVuSans-30\" x=\"159.033203\"/>\n    </g>\n   </g>\n   <g id=\"text_31\">\n    <!-- 0.00 -->\n    <g style=\"fill: #08306b\" transform=\"translate(314.64875 166.053) scale(0.12 -0.12)\">\n     <use xlink:href=\"#DejaVuSans-30\"/>\n     <use xlink:href=\"#DejaVuSans-2e\" x=\"63.623047\"/>\n     <use xlink:href=\"#DejaVuSans-30\" x=\"95.410156\"/>\n     <use xlink:href=\"#DejaVuSans-30\" x=\"159.033203\"/>\n    </g>\n   </g>\n   <g id=\"text_32\">\n    <!-- 0.01 -->\n    <g style=\"fill: #08306b\" transform=\"translate(370.08875 166.053) scale(0.12 -0.12)\">\n     <use xlink:href=\"#DejaVuSans-30\"/>\n     <use xlink:href=\"#DejaVuSans-2e\" x=\"63.623047\"/>\n     <use xlink:href=\"#DejaVuSans-30\" x=\"95.410156\"/>\n     <use xlink:href=\"#DejaVuSans-31\" x=\"159.033203\"/>\n    </g>\n   </g>\n   <g id=\"text_33\">\n    <!-- 0.03 -->\n    <g style=\"fill: #08306b\" transform=\"translate(92.88875 221.493) scale(0.12 -0.12)\">\n     <use xlink:href=\"#DejaVuSans-30\"/>\n     <use xlink:href=\"#DejaVuSans-2e\" x=\"63.623047\"/>\n     <use xlink:href=\"#DejaVuSans-30\" x=\"95.410156\"/>\n     <use xlink:href=\"#DejaVuSans-33\" x=\"159.033203\"/>\n    </g>\n   </g>\n   <g id=\"text_34\">\n    <!-- 0.02 -->\n    <g style=\"fill: #08306b\" transform=\"translate(148.32875 221.493) scale(0.12 -0.12)\">\n     <use xlink:href=\"#DejaVuSans-30\"/>\n     <use xlink:href=\"#DejaVuSans-2e\" x=\"63.623047\"/>\n     <use xlink:href=\"#DejaVuSans-30\" x=\"95.410156\"/>\n     <use xlink:href=\"#DejaVuSans-32\" x=\"159.033203\"/>\n    </g>\n   </g>\n   <g id=\"text_35\">\n    <!-- 0.00 -->\n    <g style=\"fill: #08306b\" transform=\"translate(203.76875 221.493) scale(0.12 -0.12)\">\n     <use xlink:href=\"#DejaVuSans-30\"/>\n     <use xlink:href=\"#DejaVuSans-2e\" x=\"63.623047\"/>\n     <use xlink:href=\"#DejaVuSans-30\" x=\"95.410156\"/>\n     <use xlink:href=\"#DejaVuSans-30\" x=\"159.033203\"/>\n    </g>\n   </g>\n   <g id=\"text_36\">\n    <!-- 0.92 -->\n    <g style=\"fill: #f7fbff\" transform=\"translate(259.20875 221.493) scale(0.12 -0.12)\">\n     <use xlink:href=\"#DejaVuSans-30\"/>\n     <use xlink:href=\"#DejaVuSans-2e\" x=\"63.623047\"/>\n     <use xlink:href=\"#DejaVuSans-39\" x=\"95.410156\"/>\n     <use xlink:href=\"#DejaVuSans-32\" x=\"159.033203\"/>\n    </g>\n   </g>\n   <g id=\"text_37\">\n    <!-- 0.02 -->\n    <g style=\"fill: #08306b\" transform=\"translate(314.64875 221.493) scale(0.12 -0.12)\">\n     <use xlink:href=\"#DejaVuSans-30\"/>\n     <use xlink:href=\"#DejaVuSans-2e\" x=\"63.623047\"/>\n     <use xlink:href=\"#DejaVuSans-30\" x=\"95.410156\"/>\n     <use xlink:href=\"#DejaVuSans-32\" x=\"159.033203\"/>\n    </g>\n   </g>\n   <g id=\"text_38\">\n    <!-- 0.00 -->\n    <g style=\"fill: #08306b\" transform=\"translate(370.08875 221.493) scale(0.12 -0.12)\">\n     <use xlink:href=\"#DejaVuSans-30\"/>\n     <use xlink:href=\"#DejaVuSans-2e\" x=\"63.623047\"/>\n     <use xlink:href=\"#DejaVuSans-30\" x=\"95.410156\"/>\n     <use xlink:href=\"#DejaVuSans-30\" x=\"159.033203\"/>\n    </g>\n   </g>\n   <g id=\"text_39\">\n    <!-- 0.03 -->\n    <g style=\"fill: #08306b\" transform=\"translate(92.88875 276.933) scale(0.12 -0.12)\">\n     <use xlink:href=\"#DejaVuSans-30\"/>\n     <use xlink:href=\"#DejaVuSans-2e\" x=\"63.623047\"/>\n     <use xlink:href=\"#DejaVuSans-30\" x=\"95.410156\"/>\n     <use xlink:href=\"#DejaVuSans-33\" x=\"159.033203\"/>\n    </g>\n   </g>\n   <g id=\"text_40\">\n    <!-- 0.01 -->\n    <g style=\"fill: #08306b\" transform=\"translate(148.32875 276.933) scale(0.12 -0.12)\">\n     <use xlink:href=\"#DejaVuSans-30\"/>\n     <use xlink:href=\"#DejaVuSans-2e\" x=\"63.623047\"/>\n     <use xlink:href=\"#DejaVuSans-30\" x=\"95.410156\"/>\n     <use xlink:href=\"#DejaVuSans-31\" x=\"159.033203\"/>\n    </g>\n   </g>\n   <g id=\"text_41\">\n    <!-- 0.00 -->\n    <g style=\"fill: #08306b\" transform=\"translate(203.76875 276.933) scale(0.12 -0.12)\">\n     <use xlink:href=\"#DejaVuSans-30\"/>\n     <use xlink:href=\"#DejaVuSans-2e\" x=\"63.623047\"/>\n     <use xlink:href=\"#DejaVuSans-30\" x=\"95.410156\"/>\n     <use xlink:href=\"#DejaVuSans-30\" x=\"159.033203\"/>\n    </g>\n   </g>\n   <g id=\"text_42\">\n    <!-- 0.04 -->\n    <g style=\"fill: #08306b\" transform=\"translate(259.20875 276.933) scale(0.12 -0.12)\">\n     <defs>\n      <path id=\"DejaVuSans-34\" d=\"M 2419 4116 \nL 825 1625 \nL 2419 1625 \nL 2419 4116 \nz\nM 2253 4666 \nL 3047 4666 \nL 3047 1625 \nL 3713 1625 \nL 3713 1100 \nL 3047 1100 \nL 3047 0 \nL 2419 0 \nL 2419 1100 \nL 313 1100 \nL 313 1709 \nL 2253 4666 \nz\n\" transform=\"scale(0.015625)\"/>\n     </defs>\n     <use xlink:href=\"#DejaVuSans-30\"/>\n     <use xlink:href=\"#DejaVuSans-2e\" x=\"63.623047\"/>\n     <use xlink:href=\"#DejaVuSans-30\" x=\"95.410156\"/>\n     <use xlink:href=\"#DejaVuSans-34\" x=\"159.033203\"/>\n    </g>\n   </g>\n   <g id=\"text_43\">\n    <!-- 0.88 -->\n    <g style=\"fill: #f7fbff\" transform=\"translate(314.64875 276.933) scale(0.12 -0.12)\">\n     <defs>\n      <path id=\"DejaVuSans-38\" d=\"M 2034 2216 \nQ 1584 2216 1326 1975 \nQ 1069 1734 1069 1313 \nQ 1069 891 1326 650 \nQ 1584 409 2034 409 \nQ 2484 409 2743 651 \nQ 3003 894 3003 1313 \nQ 3003 1734 2745 1975 \nQ 2488 2216 2034 2216 \nz\nM 1403 2484 \nQ 997 2584 770 2862 \nQ 544 3141 544 3541 \nQ 544 4100 942 4425 \nQ 1341 4750 2034 4750 \nQ 2731 4750 3128 4425 \nQ 3525 4100 3525 3541 \nQ 3525 3141 3298 2862 \nQ 3072 2584 2669 2484 \nQ 3125 2378 3379 2068 \nQ 3634 1759 3634 1313 \nQ 3634 634 3220 271 \nQ 2806 -91 2034 -91 \nQ 1263 -91 848 271 \nQ 434 634 434 1313 \nQ 434 1759 690 2068 \nQ 947 2378 1403 2484 \nz\nM 1172 3481 \nQ 1172 3119 1398 2916 \nQ 1625 2713 2034 2713 \nQ 2441 2713 2670 2916 \nQ 2900 3119 2900 3481 \nQ 2900 3844 2670 4047 \nQ 2441 4250 2034 4250 \nQ 1625 4250 1398 4047 \nQ 1172 3844 1172 3481 \nz\n\" transform=\"scale(0.015625)\"/>\n     </defs>\n     <use xlink:href=\"#DejaVuSans-30\"/>\n     <use xlink:href=\"#DejaVuSans-2e\" x=\"63.623047\"/>\n     <use xlink:href=\"#DejaVuSans-38\" x=\"95.410156\"/>\n     <use xlink:href=\"#DejaVuSans-38\" x=\"159.033203\"/>\n    </g>\n   </g>\n   <g id=\"text_44\">\n    <!-- 0.03 -->\n    <g style=\"fill: #08306b\" transform=\"translate(370.08875 276.933) scale(0.12 -0.12)\">\n     <use xlink:href=\"#DejaVuSans-30\"/>\n     <use xlink:href=\"#DejaVuSans-2e\" x=\"63.623047\"/>\n     <use xlink:href=\"#DejaVuSans-30\" x=\"95.410156\"/>\n     <use xlink:href=\"#DejaVuSans-33\" x=\"159.033203\"/>\n    </g>\n   </g>\n   <g id=\"text_45\">\n    <!-- 0.01 -->\n    <g style=\"fill: #08306b\" transform=\"translate(92.88875 332.373) scale(0.12 -0.12)\">\n     <use xlink:href=\"#DejaVuSans-30\"/>\n     <use xlink:href=\"#DejaVuSans-2e\" x=\"63.623047\"/>\n     <use xlink:href=\"#DejaVuSans-30\" x=\"95.410156\"/>\n     <use xlink:href=\"#DejaVuSans-31\" x=\"159.033203\"/>\n    </g>\n   </g>\n   <g id=\"text_46\">\n    <!-- 0.09 -->\n    <g style=\"fill: #08306b\" transform=\"translate(148.32875 332.373) scale(0.12 -0.12)\">\n     <use xlink:href=\"#DejaVuSans-30\"/>\n     <use xlink:href=\"#DejaVuSans-2e\" x=\"63.623047\"/>\n     <use xlink:href=\"#DejaVuSans-30\" x=\"95.410156\"/>\n     <use xlink:href=\"#DejaVuSans-39\" x=\"159.033203\"/>\n    </g>\n   </g>\n   <g id=\"text_47\">\n    <!-- 0.02 -->\n    <g style=\"fill: #08306b\" transform=\"translate(203.76875 332.373) scale(0.12 -0.12)\">\n     <use xlink:href=\"#DejaVuSans-30\"/>\n     <use xlink:href=\"#DejaVuSans-2e\" x=\"63.623047\"/>\n     <use xlink:href=\"#DejaVuSans-30\" x=\"95.410156\"/>\n     <use xlink:href=\"#DejaVuSans-32\" x=\"159.033203\"/>\n    </g>\n   </g>\n   <g id=\"text_48\">\n    <!-- 0.00 -->\n    <g style=\"fill: #08306b\" transform=\"translate(259.20875 332.373) scale(0.12 -0.12)\">\n     <use xlink:href=\"#DejaVuSans-30\"/>\n     <use xlink:href=\"#DejaVuSans-2e\" x=\"63.623047\"/>\n     <use xlink:href=\"#DejaVuSans-30\" x=\"95.410156\"/>\n     <use xlink:href=\"#DejaVuSans-30\" x=\"159.033203\"/>\n    </g>\n   </g>\n   <g id=\"text_49\">\n    <!-- 0.14 -->\n    <g style=\"fill: #08306b\" transform=\"translate(314.64875 332.373) scale(0.12 -0.12)\">\n     <use xlink:href=\"#DejaVuSans-30\"/>\n     <use xlink:href=\"#DejaVuSans-2e\" x=\"63.623047\"/>\n     <use xlink:href=\"#DejaVuSans-31\" x=\"95.410156\"/>\n     <use xlink:href=\"#DejaVuSans-34\" x=\"159.033203\"/>\n    </g>\n   </g>\n   <g id=\"text_50\">\n    <!-- 0.74 -->\n    <g style=\"fill: #f7fbff\" transform=\"translate(370.08875 332.373) scale(0.12 -0.12)\">\n     <use xlink:href=\"#DejaVuSans-30\"/>\n     <use xlink:href=\"#DejaVuSans-2e\" x=\"63.623047\"/>\n     <use xlink:href=\"#DejaVuSans-37\" x=\"95.410156\"/>\n     <use xlink:href=\"#DejaVuSans-34\" x=\"159.033203\"/>\n    </g>\n   </g>\n   <g id=\"text_51\">\n    <!-- Normalized confusion matrix -->\n    <g transform=\"translate(141.2255 18.14175) scale(0.144 -0.144)\">\n     <defs>\n      <path id=\"DejaVuSans-4e\" d=\"M 628 4666 \nL 1478 4666 \nL 3547 763 \nL 3547 4666 \nL 4159 4666 \nL 4159 0 \nL 3309 0 \nL 1241 3903 \nL 1241 0 \nL 628 0 \nL 628 4666 \nz\n\" transform=\"scale(0.015625)\"/>\n      <path id=\"DejaVuSans-6d\" d=\"M 3328 2828 \nQ 3544 3216 3844 3400 \nQ 4144 3584 4550 3584 \nQ 5097 3584 5394 3201 \nQ 5691 2819 5691 2113 \nL 5691 0 \nL 5113 0 \nL 5113 2094 \nQ 5113 2597 4934 2840 \nQ 4756 3084 4391 3084 \nQ 3944 3084 3684 2787 \nQ 3425 2491 3425 1978 \nL 3425 0 \nL 2847 0 \nL 2847 2094 \nQ 2847 2600 2669 2842 \nQ 2491 3084 2119 3084 \nQ 1678 3084 1418 2786 \nQ 1159 2488 1159 1978 \nL 1159 0 \nL 581 0 \nL 581 3500 \nL 1159 3500 \nL 1159 2956 \nQ 1356 3278 1631 3431 \nQ 1906 3584 2284 3584 \nQ 2666 3584 2933 3390 \nQ 3200 3197 3328 2828 \nz\n\" transform=\"scale(0.015625)\"/>\n      <path id=\"DejaVuSans-7a\" d=\"M 353 3500 \nL 3084 3500 \nL 3084 2975 \nL 922 459 \nL 3084 459 \nL 3084 0 \nL 275 0 \nL 275 525 \nL 2438 3041 \nL 353 3041 \nL 353 3500 \nz\n\" transform=\"scale(0.015625)\"/>\n      <path id=\"DejaVuSans-78\" d=\"M 3513 3500 \nL 2247 1797 \nL 3578 0 \nL 2900 0 \nL 1881 1375 \nL 863 0 \nL 184 0 \nL 1544 1831 \nL 300 3500 \nL 978 3500 \nL 1906 2253 \nL 2834 3500 \nL 3513 3500 \nz\n\" transform=\"scale(0.015625)\"/>\n     </defs>\n     <use xlink:href=\"#DejaVuSans-4e\"/>\n     <use xlink:href=\"#DejaVuSans-6f\" x=\"74.804688\"/>\n     <use xlink:href=\"#DejaVuSans-72\" x=\"135.986328\"/>\n     <use xlink:href=\"#DejaVuSans-6d\" x=\"175.349609\"/>\n     <use xlink:href=\"#DejaVuSans-61\" x=\"272.761719\"/>\n     <use xlink:href=\"#DejaVuSans-6c\" x=\"334.041016\"/>\n     <use xlink:href=\"#DejaVuSans-69\" x=\"361.824219\"/>\n     <use xlink:href=\"#DejaVuSans-7a\" x=\"389.607422\"/>\n     <use xlink:href=\"#DejaVuSans-65\" x=\"442.097656\"/>\n     <use xlink:href=\"#DejaVuSans-64\" x=\"503.621094\"/>\n     <use xlink:href=\"#DejaVuSans-20\" x=\"567.097656\"/>\n     <use xlink:href=\"#DejaVuSans-63\" x=\"598.884766\"/>\n     <use xlink:href=\"#DejaVuSans-6f\" x=\"653.865234\"/>\n     <use xlink:href=\"#DejaVuSans-6e\" x=\"715.046875\"/>\n     <use xlink:href=\"#DejaVuSans-66\" x=\"778.425781\"/>\n     <use xlink:href=\"#DejaVuSans-75\" x=\"813.630859\"/>\n     <use xlink:href=\"#DejaVuSans-73\" x=\"877.009766\"/>\n     <use xlink:href=\"#DejaVuSans-69\" x=\"929.109375\"/>\n     <use xlink:href=\"#DejaVuSans-6f\" x=\"956.892578\"/>\n     <use xlink:href=\"#DejaVuSans-6e\" x=\"1018.074219\"/>\n     <use xlink:href=\"#DejaVuSans-20\" x=\"1081.453125\"/>\n     <use xlink:href=\"#DejaVuSans-6d\" x=\"1113.240234\"/>\n     <use xlink:href=\"#DejaVuSans-61\" x=\"1210.652344\"/>\n     <use xlink:href=\"#DejaVuSans-74\" x=\"1271.931641\"/>\n     <use xlink:href=\"#DejaVuSans-72\" x=\"1311.140625\"/>\n     <use xlink:href=\"#DejaVuSans-69\" x=\"1352.253906\"/>\n     <use xlink:href=\"#DejaVuSans-78\" x=\"1380.037109\"/>\n    </g>\n   </g>\n  </g>\n </g>\n <defs>\n  <clipPath id=\"p05a4b2d6ed\">\n   <rect x=\"78.528125\" y=\"24.14175\" width=\"332.64\" height=\"332.64\"/>\n  </clipPath>\n </defs>\n</svg>\n",
            "application/pdf": "[encoded data removed]"
          },
          "metadata": {}
        }
      ]
    },
    {
      "cell_type": "markdown",
      "source": [
        "**오류 분석**"
      ],
      "metadata": {
        "id": "7k-hThkUK1mu"
      }
    },
    {
      "cell_type": "code",
      "source": [
        "from torch.nn.functional import cross_entropy\n",
        "\n",
        "def forward_pass_with_label(batch) :\n",
        "    # 모든 입력 텐서를 모델과 같은 장치로 이동합니다.\n",
        "    inputs = {k:v.to(device) for k, v in batch.items()\n",
        "        if k in tokenizer.model_input_names}\n",
        "\n",
        "    with torch.no_grad() :\n",
        "        output = model(**inputs)\n",
        "        pred_label = torch.argmax(output.logits, axis=-1)\n",
        "        loss = cross_entropy(output.logits, batch[\"label\"].to(device),\n",
        "                            reduction=\"none\")\n",
        "\n",
        "    # 다른 데이터셋 열과 호환되도록 출력을 CPU로 옮깁니다.\n",
        "    return {\"loss\" : loss.cpu().numpy(),\n",
        "            \"predicted_label\" : pred_label.cpu().numpy()}"
      ],
      "metadata": {
        "id": "uhiZzfM2KJQd"
      },
      "execution_count": 44,
      "outputs": []
    },
    {
      "cell_type": "code",
      "source": [
        "# 데이터셋을 다시 파이토치 텐서로 변환합니다.\n",
        "emotions_encoded.set_format(\"torch\",\n",
        "                            columns=[\"input_ids\", \"attention_mask\", \"label\"])\n",
        "\n",
        "# 손실 값을 계산합니다.\n",
        "emotions_encoded[\"validation\"] = emotions_encoded[\"validation\"].map(\n",
        "    forward_pass_with_label, batched=True, batch_size=16)"
      ],
      "metadata": {
        "colab": {
          "base_uri": "https://localhost:8080/",
          "height": 17,
          "referenced_widgets": [
            "43b482885b0d42c8874bd063bd50a436",
            "713ff37795a24c8e9be26bf956769776",
            "13adb0f3ffdf4058baf09223eb9754b7",
            "03f9795ed167468597272a43bc6c7929",
            "e73873e9022b4aec876f7cea10dd069a",
            "7872d4968ec94a77bb003ab78941cc8e",
            "56dd1b6064744a8ea9fbb37686f8887f",
            "e0836a9ed38744378146ed2dba6e6ca3",
            "33a125b3c7444df493b1ff4e94487c0a",
            "4f3f4771ba554f6f8637b1a4ec819504",
            "c1d9bd09f14f4eab907360f5c36da506"
          ]
        },
        "id": "T36PoCMKL2AJ",
        "outputId": "55cf8b0b-1c1f-4c39-ecd5-fcf7b221ec73"
      },
      "execution_count": 45,
      "outputs": [
        {
          "output_type": "display_data",
          "data": {
            "text/plain": [
              "Map:   0%|          | 0/2000 [00:00<?, ? examples/s]"
            ],
            "application/vnd.jupyter.widget-view+json": {
              "version_major": 2,
              "version_minor": 0,
              "model_id": "43b482885b0d42c8874bd063bd50a436"
            }
          },
          "metadata": {}
        }
      ]
    },
    {
      "cell_type": "code",
      "source": [
        "emotions_encoded.set_format(\"pandas\")\n",
        "cols = [\"text\", \"label\", \"predicted_label\", \"loss\"]\n",
        "df_test = emotions_encoded[\"validation\"][:][cols]\n",
        "df_test[\"label\"] = df_test[\"label\"].apply(label_int2str)\n",
        "df_test[\"predicted_label\"] = (df_test[\"predicted_label\"].apply(label_int2str))"
      ],
      "metadata": {
        "id": "BhzAQYL-MYL-"
      },
      "execution_count": 47,
      "outputs": []
    },
    {
      "cell_type": "code",
      "source": [
        "df_test.sort_values(\"loss\", ascending=False).head(10)"
      ],
      "metadata": {
        "colab": {
          "base_uri": "https://localhost:8080/",
          "height": 363
        },
        "id": "VXz1wgn0NgoC",
        "outputId": "137f941f-866e-414f-d0a6-93689c7e8ae3"
      },
      "execution_count": 48,
      "outputs": [
        {
          "output_type": "execute_result",
          "data": {
            "text/plain": [
              "                                                   text     label  \\\n",
              "1950  i as representative of everything thats wrong ...  surprise   \n",
              "1274  i am going to several holiday parties and i ca...       joy   \n",
              "765     i feel super awkward and out of place right now       joy   \n",
              "882   i feel badly about reneging on my commitment t...      love   \n",
              "1963  i called myself pro life and voted for perry w...       joy   \n",
              "1509  i guess this is a memoir so it feels like that...       joy   \n",
              "1500  i guess we would naturally feel a sense of lon...     anger   \n",
              "465   i would eventually go in to these stores but i...       joy   \n",
              "1870  i guess i feel betrayed because i admired him ...       joy   \n",
              "1801  i feel that he was being overshadowed by the s...      love   \n",
              "\n",
              "     predicted_label      loss  \n",
              "1950         sadness  5.693632  \n",
              "1274         sadness  5.548560  \n",
              "765          sadness  5.496179  \n",
              "882          sadness  5.284379  \n",
              "1963         sadness  5.211735  \n",
              "1509            fear  5.174900  \n",
              "1500         sadness  5.060926  \n",
              "465             fear  5.000473  \n",
              "1870         sadness  4.997235  \n",
              "1801         sadness  4.605439  "
            ],
            "text/html": [
              "\n",
              "\n",
              "  <div id=\"df-11b42e88-e4a6-4de1-b533-a9969f043a4e\">\n",
              "    <div class=\"colab-df-container\">\n",
              "      <div>\n",
              "<style scoped>\n",
              "    .dataframe tbody tr th:only-of-type {\n",
              "        vertical-align: middle;\n",
              "    }\n",
              "\n",
              "    .dataframe tbody tr th {\n",
              "        vertical-align: top;\n",
              "    }\n",
              "\n",
              "    .dataframe thead th {\n",
              "        text-align: right;\n",
              "    }\n",
              "</style>\n",
              "<table border=\"1\" class=\"dataframe\">\n",
              "  <thead>\n",
              "    <tr style=\"text-align: right;\">\n",
              "      <th></th>\n",
              "      <th>text</th>\n",
              "      <th>label</th>\n",
              "      <th>predicted_label</th>\n",
              "      <th>loss</th>\n",
              "    </tr>\n",
              "  </thead>\n",
              "  <tbody>\n",
              "    <tr>\n",
              "      <th>1950</th>\n",
              "      <td>i as representative of everything thats wrong ...</td>\n",
              "      <td>surprise</td>\n",
              "      <td>sadness</td>\n",
              "      <td>5.693632</td>\n",
              "    </tr>\n",
              "    <tr>\n",
              "      <th>1274</th>\n",
              "      <td>i am going to several holiday parties and i ca...</td>\n",
              "      <td>joy</td>\n",
              "      <td>sadness</td>\n",
              "      <td>5.548560</td>\n",
              "    </tr>\n",
              "    <tr>\n",
              "      <th>765</th>\n",
              "      <td>i feel super awkward and out of place right now</td>\n",
              "      <td>joy</td>\n",
              "      <td>sadness</td>\n",
              "      <td>5.496179</td>\n",
              "    </tr>\n",
              "    <tr>\n",
              "      <th>882</th>\n",
              "      <td>i feel badly about reneging on my commitment t...</td>\n",
              "      <td>love</td>\n",
              "      <td>sadness</td>\n",
              "      <td>5.284379</td>\n",
              "    </tr>\n",
              "    <tr>\n",
              "      <th>1963</th>\n",
              "      <td>i called myself pro life and voted for perry w...</td>\n",
              "      <td>joy</td>\n",
              "      <td>sadness</td>\n",
              "      <td>5.211735</td>\n",
              "    </tr>\n",
              "    <tr>\n",
              "      <th>1509</th>\n",
              "      <td>i guess this is a memoir so it feels like that...</td>\n",
              "      <td>joy</td>\n",
              "      <td>fear</td>\n",
              "      <td>5.174900</td>\n",
              "    </tr>\n",
              "    <tr>\n",
              "      <th>1500</th>\n",
              "      <td>i guess we would naturally feel a sense of lon...</td>\n",
              "      <td>anger</td>\n",
              "      <td>sadness</td>\n",
              "      <td>5.060926</td>\n",
              "    </tr>\n",
              "    <tr>\n",
              "      <th>465</th>\n",
              "      <td>i would eventually go in to these stores but i...</td>\n",
              "      <td>joy</td>\n",
              "      <td>fear</td>\n",
              "      <td>5.000473</td>\n",
              "    </tr>\n",
              "    <tr>\n",
              "      <th>1870</th>\n",
              "      <td>i guess i feel betrayed because i admired him ...</td>\n",
              "      <td>joy</td>\n",
              "      <td>sadness</td>\n",
              "      <td>4.997235</td>\n",
              "    </tr>\n",
              "    <tr>\n",
              "      <th>1801</th>\n",
              "      <td>i feel that he was being overshadowed by the s...</td>\n",
              "      <td>love</td>\n",
              "      <td>sadness</td>\n",
              "      <td>4.605439</td>\n",
              "    </tr>\n",
              "  </tbody>\n",
              "</table>\n",
              "</div>\n",
              "      <button class=\"colab-df-convert\" onclick=\"convertToInteractive('df-11b42e88-e4a6-4de1-b533-a9969f043a4e')\"\n",
              "              title=\"Convert this dataframe to an interactive table.\"\n",
              "              style=\"display:none;\">\n",
              "\n",
              "  <svg xmlns=\"http://www.w3.org/2000/svg\" height=\"24px\"viewBox=\"0 0 24 24\"\n",
              "       width=\"24px\">\n",
              "    <path d=\"M0 0h24v24H0V0z\" fill=\"none\"/>\n",
              "    <path d=\"M18.56 5.44l.94 2.06.94-2.06 2.06-.94-2.06-.94-.94-2.06-.94 2.06-2.06.94zm-11 1L8.5 8.5l.94-2.06 2.06-.94-2.06-.94L8.5 2.5l-.94 2.06-2.06.94zm10 10l.94 2.06.94-2.06 2.06-.94-2.06-.94-.94-2.06-.94 2.06-2.06.94z\"/><path d=\"M17.41 7.96l-1.37-1.37c-.4-.4-.92-.59-1.43-.59-.52 0-1.04.2-1.43.59L10.3 9.45l-7.72 7.72c-.78.78-.78 2.05 0 2.83L4 21.41c.39.39.9.59 1.41.59.51 0 1.02-.2 1.41-.59l7.78-7.78 2.81-2.81c.8-.78.8-2.07 0-2.86zM5.41 20L4 18.59l7.72-7.72 1.47 1.35L5.41 20z\"/>\n",
              "  </svg>\n",
              "      </button>\n",
              "\n",
              "\n",
              "\n",
              "    <div id=\"df-f242d3eb-448f-41fa-bd72-14946de49bff\">\n",
              "      <button class=\"colab-df-quickchart\" onclick=\"quickchart('df-f242d3eb-448f-41fa-bd72-14946de49bff')\"\n",
              "              title=\"Suggest charts.\"\n",
              "              style=\"display:none;\">\n",
              "\n",
              "<svg xmlns=\"http://www.w3.org/2000/svg\" height=\"24px\"viewBox=\"0 0 24 24\"\n",
              "     width=\"24px\">\n",
              "    <g>\n",
              "        <path d=\"M19 3H5c-1.1 0-2 .9-2 2v14c0 1.1.9 2 2 2h14c1.1 0 2-.9 2-2V5c0-1.1-.9-2-2-2zM9 17H7v-7h2v7zm4 0h-2V7h2v10zm4 0h-2v-4h2v4z\"/>\n",
              "    </g>\n",
              "</svg>\n",
              "      </button>\n",
              "    </div>\n",
              "\n",
              "<style>\n",
              "  .colab-df-quickchart {\n",
              "    background-color: #E8F0FE;\n",
              "    border: none;\n",
              "    border-radius: 50%;\n",
              "    cursor: pointer;\n",
              "    display: none;\n",
              "    fill: #1967D2;\n",
              "    height: 32px;\n",
              "    padding: 0 0 0 0;\n",
              "    width: 32px;\n",
              "  }\n",
              "\n",
              "  .colab-df-quickchart:hover {\n",
              "    background-color: #E2EBFA;\n",
              "    box-shadow: 0px 1px 2px rgba(60, 64, 67, 0.3), 0px 1px 3px 1px rgba(60, 64, 67, 0.15);\n",
              "    fill: #174EA6;\n",
              "  }\n",
              "\n",
              "  [theme=dark] .colab-df-quickchart {\n",
              "    background-color: #3B4455;\n",
              "    fill: #D2E3FC;\n",
              "  }\n",
              "\n",
              "  [theme=dark] .colab-df-quickchart:hover {\n",
              "    background-color: #434B5C;\n",
              "    box-shadow: 0px 1px 3px 1px rgba(0, 0, 0, 0.15);\n",
              "    filter: drop-shadow(0px 1px 2px rgba(0, 0, 0, 0.3));\n",
              "    fill: #FFFFFF;\n",
              "  }\n",
              "</style>\n",
              "\n",
              "    <script>\n",
              "      async function quickchart(key) {\n",
              "        const containerElement = document.querySelector('#' + key);\n",
              "        const charts = await google.colab.kernel.invokeFunction(\n",
              "            'suggestCharts', [key], {});\n",
              "      }\n",
              "    </script>\n",
              "\n",
              "      <script>\n",
              "\n",
              "function displayQuickchartButton(domScope) {\n",
              "  let quickchartButtonEl =\n",
              "    domScope.querySelector('#df-f242d3eb-448f-41fa-bd72-14946de49bff button.colab-df-quickchart');\n",
              "  quickchartButtonEl.style.display =\n",
              "    google.colab.kernel.accessAllowed ? 'block' : 'none';\n",
              "}\n",
              "\n",
              "        displayQuickchartButton(document);\n",
              "      </script>\n",
              "      <style>\n",
              "    .colab-df-container {\n",
              "      display:flex;\n",
              "      flex-wrap:wrap;\n",
              "      gap: 12px;\n",
              "    }\n",
              "\n",
              "    .colab-df-convert {\n",
              "      background-color: #E8F0FE;\n",
              "      border: none;\n",
              "      border-radius: 50%;\n",
              "      cursor: pointer;\n",
              "      display: none;\n",
              "      fill: #1967D2;\n",
              "      height: 32px;\n",
              "      padding: 0 0 0 0;\n",
              "      width: 32px;\n",
              "    }\n",
              "\n",
              "    .colab-df-convert:hover {\n",
              "      background-color: #E2EBFA;\n",
              "      box-shadow: 0px 1px 2px rgba(60, 64, 67, 0.3), 0px 1px 3px 1px rgba(60, 64, 67, 0.15);\n",
              "      fill: #174EA6;\n",
              "    }\n",
              "\n",
              "    [theme=dark] .colab-df-convert {\n",
              "      background-color: #3B4455;\n",
              "      fill: #D2E3FC;\n",
              "    }\n",
              "\n",
              "    [theme=dark] .colab-df-convert:hover {\n",
              "      background-color: #434B5C;\n",
              "      box-shadow: 0px 1px 3px 1px rgba(0, 0, 0, 0.15);\n",
              "      filter: drop-shadow(0px 1px 2px rgba(0, 0, 0, 0.3));\n",
              "      fill: #FFFFFF;\n",
              "    }\n",
              "  </style>\n",
              "\n",
              "      <script>\n",
              "        const buttonEl =\n",
              "          document.querySelector('#df-11b42e88-e4a6-4de1-b533-a9969f043a4e button.colab-df-convert');\n",
              "        buttonEl.style.display =\n",
              "          google.colab.kernel.accessAllowed ? 'block' : 'none';\n",
              "\n",
              "        async function convertToInteractive(key) {\n",
              "          const element = document.querySelector('#df-11b42e88-e4a6-4de1-b533-a9969f043a4e');\n",
              "          const dataTable =\n",
              "            await google.colab.kernel.invokeFunction('convertToInteractive',\n",
              "                                                     [key], {});\n",
              "          if (!dataTable) return;\n",
              "\n",
              "          const docLinkHtml = 'Like what you see? Visit the ' +\n",
              "            '<a target=\"_blank\" href=https://colab.research.google.com/notebooks/data_table.ipynb>data table notebook</a>'\n",
              "            + ' to learn more about interactive tables.';\n",
              "          element.innerHTML = '';\n",
              "          dataTable['output_type'] = 'display_data';\n",
              "          await google.colab.output.renderOutput(dataTable, element);\n",
              "          const docLink = document.createElement('div');\n",
              "          docLink.innerHTML = docLinkHtml;\n",
              "          element.appendChild(docLink);\n",
              "        }\n",
              "      </script>\n",
              "    </div>\n",
              "  </div>\n"
            ]
          },
          "metadata": {},
          "execution_count": 48
        }
      ]
    },
    {
      "cell_type": "code",
      "source": [
        "df_test.sort_values(\"loss\", ascending=True).head(10)"
      ],
      "metadata": {
        "colab": {
          "base_uri": "https://localhost:8080/",
          "height": 363
        },
        "id": "bhJUCS60Nr4k",
        "outputId": "6bc847c9-8a28-4da9-e2e1-1994d510266e"
      },
      "execution_count": 49,
      "outputs": [
        {
          "output_type": "execute_result",
          "data": {
            "text/plain": [
              "                                                   text    label  \\\n",
              "394   i feel shamed that i hoped for one last christ...  sadness   \n",
              "69    i have no extra money im worried all of the ti...  sadness   \n",
              "697   i was missing him desperately and feeling idio...  sadness   \n",
              "1368  i started this blog with pure intentions i mus...  sadness   \n",
              "1152  i feel pathetic because i shouldn t complain a...  sadness   \n",
              "1540  i wonder maybe he has this awesome excuse and ...  sadness   \n",
              "953   i also feel ashamed at the hurt caused and ash...  sadness   \n",
              "1452  i always feel guilty and come to one conclusio...  sadness   \n",
              "1601  i feel so ungrateful when thinking saying thes...  sadness   \n",
              "1663                i feel idiotic calling again though  sadness   \n",
              "\n",
              "     predicted_label      loss  \n",
              "394          sadness  0.016078  \n",
              "69           sadness  0.016119  \n",
              "697          sadness  0.016151  \n",
              "1368         sadness  0.016219  \n",
              "1152         sadness  0.016223  \n",
              "1540         sadness  0.016238  \n",
              "953          sadness  0.016299  \n",
              "1452         sadness  0.016327  \n",
              "1601         sadness  0.016391  \n",
              "1663         sadness  0.016392  "
            ],
            "text/html": [
              "\n",
              "\n",
              "  <div id=\"df-3f62903f-dafa-406c-bc78-fc9f126329b9\">\n",
              "    <div class=\"colab-df-container\">\n",
              "      <div>\n",
              "<style scoped>\n",
              "    .dataframe tbody tr th:only-of-type {\n",
              "        vertical-align: middle;\n",
              "    }\n",
              "\n",
              "    .dataframe tbody tr th {\n",
              "        vertical-align: top;\n",
              "    }\n",
              "\n",
              "    .dataframe thead th {\n",
              "        text-align: right;\n",
              "    }\n",
              "</style>\n",
              "<table border=\"1\" class=\"dataframe\">\n",
              "  <thead>\n",
              "    <tr style=\"text-align: right;\">\n",
              "      <th></th>\n",
              "      <th>text</th>\n",
              "      <th>label</th>\n",
              "      <th>predicted_label</th>\n",
              "      <th>loss</th>\n",
              "    </tr>\n",
              "  </thead>\n",
              "  <tbody>\n",
              "    <tr>\n",
              "      <th>394</th>\n",
              "      <td>i feel shamed that i hoped for one last christ...</td>\n",
              "      <td>sadness</td>\n",
              "      <td>sadness</td>\n",
              "      <td>0.016078</td>\n",
              "    </tr>\n",
              "    <tr>\n",
              "      <th>69</th>\n",
              "      <td>i have no extra money im worried all of the ti...</td>\n",
              "      <td>sadness</td>\n",
              "      <td>sadness</td>\n",
              "      <td>0.016119</td>\n",
              "    </tr>\n",
              "    <tr>\n",
              "      <th>697</th>\n",
              "      <td>i was missing him desperately and feeling idio...</td>\n",
              "      <td>sadness</td>\n",
              "      <td>sadness</td>\n",
              "      <td>0.016151</td>\n",
              "    </tr>\n",
              "    <tr>\n",
              "      <th>1368</th>\n",
              "      <td>i started this blog with pure intentions i mus...</td>\n",
              "      <td>sadness</td>\n",
              "      <td>sadness</td>\n",
              "      <td>0.016219</td>\n",
              "    </tr>\n",
              "    <tr>\n",
              "      <th>1152</th>\n",
              "      <td>i feel pathetic because i shouldn t complain a...</td>\n",
              "      <td>sadness</td>\n",
              "      <td>sadness</td>\n",
              "      <td>0.016223</td>\n",
              "    </tr>\n",
              "    <tr>\n",
              "      <th>1540</th>\n",
              "      <td>i wonder maybe he has this awesome excuse and ...</td>\n",
              "      <td>sadness</td>\n",
              "      <td>sadness</td>\n",
              "      <td>0.016238</td>\n",
              "    </tr>\n",
              "    <tr>\n",
              "      <th>953</th>\n",
              "      <td>i also feel ashamed at the hurt caused and ash...</td>\n",
              "      <td>sadness</td>\n",
              "      <td>sadness</td>\n",
              "      <td>0.016299</td>\n",
              "    </tr>\n",
              "    <tr>\n",
              "      <th>1452</th>\n",
              "      <td>i always feel guilty and come to one conclusio...</td>\n",
              "      <td>sadness</td>\n",
              "      <td>sadness</td>\n",
              "      <td>0.016327</td>\n",
              "    </tr>\n",
              "    <tr>\n",
              "      <th>1601</th>\n",
              "      <td>i feel so ungrateful when thinking saying thes...</td>\n",
              "      <td>sadness</td>\n",
              "      <td>sadness</td>\n",
              "      <td>0.016391</td>\n",
              "    </tr>\n",
              "    <tr>\n",
              "      <th>1663</th>\n",
              "      <td>i feel idiotic calling again though</td>\n",
              "      <td>sadness</td>\n",
              "      <td>sadness</td>\n",
              "      <td>0.016392</td>\n",
              "    </tr>\n",
              "  </tbody>\n",
              "</table>\n",
              "</div>\n",
              "      <button class=\"colab-df-convert\" onclick=\"convertToInteractive('df-3f62903f-dafa-406c-bc78-fc9f126329b9')\"\n",
              "              title=\"Convert this dataframe to an interactive table.\"\n",
              "              style=\"display:none;\">\n",
              "\n",
              "  <svg xmlns=\"http://www.w3.org/2000/svg\" height=\"24px\"viewBox=\"0 0 24 24\"\n",
              "       width=\"24px\">\n",
              "    <path d=\"M0 0h24v24H0V0z\" fill=\"none\"/>\n",
              "    <path d=\"M18.56 5.44l.94 2.06.94-2.06 2.06-.94-2.06-.94-.94-2.06-.94 2.06-2.06.94zm-11 1L8.5 8.5l.94-2.06 2.06-.94-2.06-.94L8.5 2.5l-.94 2.06-2.06.94zm10 10l.94 2.06.94-2.06 2.06-.94-2.06-.94-.94-2.06-.94 2.06-2.06.94z\"/><path d=\"M17.41 7.96l-1.37-1.37c-.4-.4-.92-.59-1.43-.59-.52 0-1.04.2-1.43.59L10.3 9.45l-7.72 7.72c-.78.78-.78 2.05 0 2.83L4 21.41c.39.39.9.59 1.41.59.51 0 1.02-.2 1.41-.59l7.78-7.78 2.81-2.81c.8-.78.8-2.07 0-2.86zM5.41 20L4 18.59l7.72-7.72 1.47 1.35L5.41 20z\"/>\n",
              "  </svg>\n",
              "      </button>\n",
              "\n",
              "\n",
              "\n",
              "    <div id=\"df-794af8e0-b441-4183-905d-6aa6fb946291\">\n",
              "      <button class=\"colab-df-quickchart\" onclick=\"quickchart('df-794af8e0-b441-4183-905d-6aa6fb946291')\"\n",
              "              title=\"Suggest charts.\"\n",
              "              style=\"display:none;\">\n",
              "\n",
              "<svg xmlns=\"http://www.w3.org/2000/svg\" height=\"24px\"viewBox=\"0 0 24 24\"\n",
              "     width=\"24px\">\n",
              "    <g>\n",
              "        <path d=\"M19 3H5c-1.1 0-2 .9-2 2v14c0 1.1.9 2 2 2h14c1.1 0 2-.9 2-2V5c0-1.1-.9-2-2-2zM9 17H7v-7h2v7zm4 0h-2V7h2v10zm4 0h-2v-4h2v4z\"/>\n",
              "    </g>\n",
              "</svg>\n",
              "      </button>\n",
              "    </div>\n",
              "\n",
              "<style>\n",
              "  .colab-df-quickchart {\n",
              "    background-color: #E8F0FE;\n",
              "    border: none;\n",
              "    border-radius: 50%;\n",
              "    cursor: pointer;\n",
              "    display: none;\n",
              "    fill: #1967D2;\n",
              "    height: 32px;\n",
              "    padding: 0 0 0 0;\n",
              "    width: 32px;\n",
              "  }\n",
              "\n",
              "  .colab-df-quickchart:hover {\n",
              "    background-color: #E2EBFA;\n",
              "    box-shadow: 0px 1px 2px rgba(60, 64, 67, 0.3), 0px 1px 3px 1px rgba(60, 64, 67, 0.15);\n",
              "    fill: #174EA6;\n",
              "  }\n",
              "\n",
              "  [theme=dark] .colab-df-quickchart {\n",
              "    background-color: #3B4455;\n",
              "    fill: #D2E3FC;\n",
              "  }\n",
              "\n",
              "  [theme=dark] .colab-df-quickchart:hover {\n",
              "    background-color: #434B5C;\n",
              "    box-shadow: 0px 1px 3px 1px rgba(0, 0, 0, 0.15);\n",
              "    filter: drop-shadow(0px 1px 2px rgba(0, 0, 0, 0.3));\n",
              "    fill: #FFFFFF;\n",
              "  }\n",
              "</style>\n",
              "\n",
              "    <script>\n",
              "      async function quickchart(key) {\n",
              "        const containerElement = document.querySelector('#' + key);\n",
              "        const charts = await google.colab.kernel.invokeFunction(\n",
              "            'suggestCharts', [key], {});\n",
              "      }\n",
              "    </script>\n",
              "\n",
              "      <script>\n",
              "\n",
              "function displayQuickchartButton(domScope) {\n",
              "  let quickchartButtonEl =\n",
              "    domScope.querySelector('#df-794af8e0-b441-4183-905d-6aa6fb946291 button.colab-df-quickchart');\n",
              "  quickchartButtonEl.style.display =\n",
              "    google.colab.kernel.accessAllowed ? 'block' : 'none';\n",
              "}\n",
              "\n",
              "        displayQuickchartButton(document);\n",
              "      </script>\n",
              "      <style>\n",
              "    .colab-df-container {\n",
              "      display:flex;\n",
              "      flex-wrap:wrap;\n",
              "      gap: 12px;\n",
              "    }\n",
              "\n",
              "    .colab-df-convert {\n",
              "      background-color: #E8F0FE;\n",
              "      border: none;\n",
              "      border-radius: 50%;\n",
              "      cursor: pointer;\n",
              "      display: none;\n",
              "      fill: #1967D2;\n",
              "      height: 32px;\n",
              "      padding: 0 0 0 0;\n",
              "      width: 32px;\n",
              "    }\n",
              "\n",
              "    .colab-df-convert:hover {\n",
              "      background-color: #E2EBFA;\n",
              "      box-shadow: 0px 1px 2px rgba(60, 64, 67, 0.3), 0px 1px 3px 1px rgba(60, 64, 67, 0.15);\n",
              "      fill: #174EA6;\n",
              "    }\n",
              "\n",
              "    [theme=dark] .colab-df-convert {\n",
              "      background-color: #3B4455;\n",
              "      fill: #D2E3FC;\n",
              "    }\n",
              "\n",
              "    [theme=dark] .colab-df-convert:hover {\n",
              "      background-color: #434B5C;\n",
              "      box-shadow: 0px 1px 3px 1px rgba(0, 0, 0, 0.15);\n",
              "      filter: drop-shadow(0px 1px 2px rgba(0, 0, 0, 0.3));\n",
              "      fill: #FFFFFF;\n",
              "    }\n",
              "  </style>\n",
              "\n",
              "      <script>\n",
              "        const buttonEl =\n",
              "          document.querySelector('#df-3f62903f-dafa-406c-bc78-fc9f126329b9 button.colab-df-convert');\n",
              "        buttonEl.style.display =\n",
              "          google.colab.kernel.accessAllowed ? 'block' : 'none';\n",
              "\n",
              "        async function convertToInteractive(key) {\n",
              "          const element = document.querySelector('#df-3f62903f-dafa-406c-bc78-fc9f126329b9');\n",
              "          const dataTable =\n",
              "            await google.colab.kernel.invokeFunction('convertToInteractive',\n",
              "                                                     [key], {});\n",
              "          if (!dataTable) return;\n",
              "\n",
              "          const docLinkHtml = 'Like what you see? Visit the ' +\n",
              "            '<a target=\"_blank\" href=https://colab.research.google.com/notebooks/data_table.ipynb>data table notebook</a>'\n",
              "            + ' to learn more about interactive tables.';\n",
              "          element.innerHTML = '';\n",
              "          dataTable['output_type'] = 'display_data';\n",
              "          await google.colab.output.renderOutput(dataTable, element);\n",
              "          const docLink = document.createElement('div');\n",
              "          docLink.innerHTML = docLinkHtml;\n",
              "          element.appendChild(docLink);\n",
              "        }\n",
              "      </script>\n",
              "    </div>\n",
              "  </div>\n"
            ]
          },
          "metadata": {},
          "execution_count": 49
        }
      ]
    },
    {
      "cell_type": "markdown",
      "source": [
        "**모델 저장 및 공유**"
      ],
      "metadata": {
        "id": "1e2WUE5QN-2d"
      }
    },
    {
      "cell_type": "code",
      "source": [
        "trainer.push_to_hub(commit_message=\"Training completed!\")"
      ],
      "metadata": {
        "colab": {
          "base_uri": "https://localhost:8080/",
          "height": 393,
          "referenced_widgets": [
            "4779539df7674373a0995c39661a1a0e",
            "e21ff9681e11451cab1659e06111c7a2",
            "9b69b4d3adaa47979c011e761fa5f157",
            "d58674d6639347a3a5dd082c0acf06ab",
            "85eddd0ac5df4dfea8da94287d2001f0",
            "3576590a2012466aaa1bfb4e867cbd53",
            "d0c48b48d2604a8db089f9811e7a81c7",
            "e8c0e3b8de404ad9822b2af932345023",
            "7975196b4de44437bebaeb1ff7fd441e",
            "f93dcc04ada3421cb9bd2306feec9e9c",
            "fe39a36f3d134939878bd3092cea5563",
            "38dcb2ca505d492c95e68dd2d4542625",
            "9c6f86afe18d4b8cb38fcbb2859bc845",
            "0330d7b3d2d340b99b70707ca34b2bb8",
            "bbc09681af224c0595324325b913872e",
            "9acf5ed84b6e4899aee90f52ad7f8b43",
            "a0bc4a317e3840d8843eeec93d301480",
            "5116dcfc543f4bdba8027cb544bcd9c1",
            "d209e609e12f45bfbc742e5d3a6b560d",
            "69bec66c236141a2aeabd48fadf66335",
            "05e66a546bfb4749ac796acbb0faa23a",
            "e89f488c4cb24555a669843376cbff54"
          ]
        },
        "id": "QLmdOtivN2sZ",
        "outputId": "c590072e-8302-4453-e4a4-16c07b26de81"
      },
      "execution_count": 50,
      "outputs": [
        {
          "output_type": "stream",
          "name": "stderr",
          "text": [
            "Several commits (2) will be pushed upstream.\n",
            "WARNING:huggingface_hub.repository:Several commits (2) will be pushed upstream.\n",
            "The progress bars may be unreliable.\n",
            "WARNING:huggingface_hub.repository:The progress bars may be unreliable.\n"
          ]
        },
        {
          "output_type": "display_data",
          "data": {
            "text/plain": [
              "Upload file pytorch_model.bin:   0%|          | 1.00/255M [00:00<?, ?B/s]"
            ],
            "application/vnd.jupyter.widget-view+json": {
              "version_major": 2,
              "version_minor": 0,
              "model_id": "4779539df7674373a0995c39661a1a0e"
            }
          },
          "metadata": {}
        },
        {
          "output_type": "display_data",
          "data": {
            "text/plain": [
              "Upload file runs/Jul16_14-52-59_f4bcdd856230/events.out.tfevents.1689519183.f4bcdd856230.12277.0:   0%|       …"
            ],
            "application/vnd.jupyter.widget-view+json": {
              "version_major": 2,
              "version_minor": 0,
              "model_id": "38dcb2ca505d492c95e68dd2d4542625"
            }
          },
          "metadata": {}
        },
        {
          "output_type": "stream",
          "name": "stderr",
          "text": [
            "To https://huggingface.co/codeblue/distilbert-base-uncased-finetuned-emotion\n",
            "   8835f2e..7a8d0f8  main -> main\n",
            "\n",
            "WARNING:huggingface_hub.repository:To https://huggingface.co/codeblue/distilbert-base-uncased-finetuned-emotion\n",
            "   8835f2e..7a8d0f8  main -> main\n",
            "\n",
            "To https://huggingface.co/codeblue/distilbert-base-uncased-finetuned-emotion\n",
            "   7a8d0f8..b0be984  main -> main\n",
            "\n",
            "WARNING:huggingface_hub.repository:To https://huggingface.co/codeblue/distilbert-base-uncased-finetuned-emotion\n",
            "   7a8d0f8..b0be984  main -> main\n",
            "\n"
          ]
        },
        {
          "output_type": "execute_result",
          "data": {
            "text/plain": [
              "'https://huggingface.co/codeblue/distilbert-base-uncased-finetuned-emotion/commit/7a8d0f8b647c0b108799e9b1c7f83c48155f4c56'"
            ],
            "application/vnd.google.colaboratory.intrinsic+json": {
              "type": "string"
            }
          },
          "metadata": {},
          "execution_count": 50
        }
      ]
    },
    {
      "cell_type": "code",
      "source": [
        "from transformers import pipeline\n",
        "\n",
        "model_id = \"codeblue/distilbert-base-uncased-finetuned-emotion\"\n",
        "classifier = pipeline(\"text-classification\", model=model_id)"
      ],
      "metadata": {
        "colab": {
          "base_uri": "https://localhost:8080/",
          "height": 81,
          "referenced_widgets": [
            "739a2cb94fa545eda80e71eb90c02d24",
            "112cc50c73734f519ebe2dfa883d5aeb",
            "351c760ea72742a4816f1e49dedc7747",
            "f251958c488149d1af5db22d7bbdc99a",
            "8cb80e6ee45f486286bfe98b55c61b0f",
            "25254c3aca8b41068bc47f277e9e259c",
            "a4f6d9e7c85643c39a23f6be06ba2d6a",
            "b3081e2358b0415fa3846b3c3ed69716",
            "b23364a69a1c4e068fd062bd991f5650",
            "5c4d2d54dd3242c6944c2b4f4806e36f",
            "ec89da14f729438caf5b9a23bbd72b19",
            "e65abb7b49e344f89f08ead917a76db7",
            "6b99a237c26b4cb6a21aed163d481359",
            "26939b736439420f800cdb1229b1139a",
            "e549b2c8c6044ea79922ce635177ddfc",
            "83aa04029b4849b9ac30e6e55ef9bec5",
            "9fa219889496487f8b3612411a3301b9",
            "3325924bba5744bb83b6244f392a8807",
            "033596320f8a4ed3b140530740e3d9c6",
            "396b8b9d96e34a719d201e0057a9d978",
            "2af63376cba74182b2e28056c9838492",
            "ac531090941e4d1dba453a5bf8f736a3"
          ]
        },
        "id": "5c5Bg8JrOFsx",
        "outputId": "03f22414-d29f-4f9a-d510-1994cbe48864"
      },
      "execution_count": 52,
      "outputs": [
        {
          "output_type": "display_data",
          "data": {
            "text/plain": [
              "Downloading (…)solve/main/vocab.txt:   0%|          | 0.00/232k [00:00<?, ?B/s]"
            ],
            "application/vnd.jupyter.widget-view+json": {
              "version_major": 2,
              "version_minor": 0,
              "model_id": "739a2cb94fa545eda80e71eb90c02d24"
            }
          },
          "metadata": {}
        },
        {
          "output_type": "display_data",
          "data": {
            "text/plain": [
              "Downloading (…)/main/tokenizer.json:   0%|          | 0.00/711k [00:00<?, ?B/s]"
            ],
            "application/vnd.jupyter.widget-view+json": {
              "version_major": 2,
              "version_minor": 0,
              "model_id": "e65abb7b49e344f89f08ead917a76db7"
            }
          },
          "metadata": {}
        }
      ]
    },
    {
      "cell_type": "code",
      "source": [
        "custom_tweet = \"They think I'm the most handsome.What should I do to understand how I feel.\"\n",
        "preds = classifier(custom_tweet, return_all_scores=True)"
      ],
      "metadata": {
        "colab": {
          "base_uri": "https://localhost:8080/"
        },
        "id": "qs9Nv6ixOox2",
        "outputId": "9840bd52-a837-4f1a-905b-1d8f0c270557"
      },
      "execution_count": 53,
      "outputs": [
        {
          "output_type": "stream",
          "name": "stderr",
          "text": [
            "/usr/local/lib/python3.10/dist-packages/transformers/pipelines/text_classification.py:104: UserWarning: `return_all_scores` is now deprecated,  if want a similar funcionality use `top_k=None` instead of `return_all_scores=True` or `top_k=1` instead of `return_all_scores=False`.\n",
            "  warnings.warn(\n"
          ]
        }
      ]
    },
    {
      "cell_type": "code",
      "source": [
        "preds_df = pd.DataFrame(preds[0])\n",
        "plt.bar(labels, 100 * preds_df[\"score\"], color='C0')\n",
        "plt.title(f'\"{custom_tweet}')\n",
        "plt.ylabel(\"Class probability (%)\")\n",
        "plt.show()"
      ],
      "metadata": {
        "colab": {
          "base_uri": "https://localhost:8080/",
          "height": 383
        },
        "id": "pqwXJsCEOfnb",
        "outputId": "e365648b-a0e6-4858-88a5-e83ea0676170"
      },
      "execution_count": 54,
      "outputs": [
        {
          "output_type": "display_data",
          "data": {
            "text/plain": [
              "<Figure size 600x400 with 1 Axes>"
            ],
            "image/svg+xml": "<?xml version=\"1.0\" encoding=\"utf-8\" standalone=\"no\"?>\n<!DOCTYPE svg PUBLIC \"-//W3C//DTD SVG 1.1//EN\"\n  \"http://www.w3.org/Graphics/SVG/1.1/DTD/svg11.dtd\">\n<svg xmlns:xlink=\"http://www.w3.org/1999/xlink\" width=\"583.84125pt\" height=\"271.7155pt\" viewBox=\"0 0 583.84125 271.7155\" xmlns=\"http://www.w3.org/2000/svg\" version=\"1.1\">\n <metadata>\n  <rdf:RDF xmlns:dc=\"http://purl.org/dc/elements/1.1/\" xmlns:cc=\"http://creativecommons.org/ns#\" xmlns:rdf=\"http://www.w3.org/1999/02/22-rdf-syntax-ns#\">\n   <cc:Work>\n    <dc:type rdf:resource=\"http://purl.org/dc/dcmitype/StillImage\"/>\n    <dc:date>2023-07-16T15:06:37.366463</dc:date>\n    <dc:format>image/svg+xml</dc:format>\n    <dc:creator>\n     <cc:Agent>\n      <dc:title>Matplotlib v3.7.1, https://matplotlib.org/</dc:title>\n     </cc:Agent>\n    </dc:creator>\n   </cc:Work>\n  </rdf:RDF>\n </metadata>\n <defs>\n  <style type=\"text/css\">*{stroke-linejoin: round; stroke-linecap: butt}</style>\n </defs>\n <g id=\"figure_1\">\n  <g id=\"patch_1\">\n   <path d=\"M 0 271.7155 \nL 583.84125 271.7155 \nL 583.84125 0 \nL 0 0 \nz\n\" style=\"fill: #ffffff\"/>\n  </g>\n  <g id=\"axes_1\">\n   <g id=\"patch_2\">\n    <path d=\"M 124.520625 245.90175 \nL 459.320625 245.90175 \nL 459.320625 24.14175 \nL 124.520625 24.14175 \nz\n\" style=\"fill: #ffffff\"/>\n   </g>\n   <g id=\"patch_3\">\n    <path d=\"M 139.738807 245.90175 \nL 181.719998 245.90175 \nL 181.719998 243.715308 \nL 139.738807 243.715308 \nz\n\" clip-path=\"url(#p9e1f52ac55)\" style=\"fill: #0071bc\"/>\n   </g>\n   <g id=\"patch_4\">\n    <path d=\"M 192.215296 245.90175 \nL 234.196487 245.90175 \nL 234.196487 34.70175 \nL 192.215296 34.70175 \nz\n\" clip-path=\"url(#p9e1f52ac55)\" style=\"fill: #0071bc\"/>\n   </g>\n   <g id=\"patch_5\">\n    <path d=\"M 244.691785 245.90175 \nL 286.672976 245.90175 \nL 286.672976 224.070789 \nL 244.691785 224.070789 \nz\n\" clip-path=\"url(#p9e1f52ac55)\" style=\"fill: #0071bc\"/>\n   </g>\n   <g id=\"patch_6\">\n    <path d=\"M 297.168274 245.90175 \nL 339.149465 245.90175 \nL 339.149465 244.459775 \nL 297.168274 244.459775 \nz\n\" clip-path=\"url(#p9e1f52ac55)\" style=\"fill: #0071bc\"/>\n   </g>\n   <g id=\"patch_7\">\n    <path d=\"M 349.644763 245.90175 \nL 391.625954 245.90175 \nL 391.625954 244.273478 \nL 349.644763 244.273478 \nz\n\" clip-path=\"url(#p9e1f52ac55)\" style=\"fill: #0071bc\"/>\n   </g>\n   <g id=\"patch_8\">\n    <path d=\"M 402.121252 245.90175 \nL 444.102443 245.90175 \nL 444.102443 242.781699 \nL 402.121252 242.781699 \nz\n\" clip-path=\"url(#p9e1f52ac55)\" style=\"fill: #0071bc\"/>\n   </g>\n   <g id=\"matplotlib.axis_1\">\n    <g id=\"xtick_1\">\n     <g id=\"line2d_1\">\n      <defs>\n       <path id=\"mcba1c1442b\" d=\"M 0 0 \nL 0 3.5 \n\" style=\"stroke: #000000; stroke-width: 0.8\"/>\n      </defs>\n      <g>\n       <use xlink:href=\"#mcba1c1442b\" x=\"160.729402\" y=\"245.90175\" style=\"stroke: #000000; stroke-width: 0.8\"/>\n      </g>\n     </g>\n     <g id=\"text_1\">\n      <!-- sadness -->\n      <g transform=\"translate(136.372215 262.019875) scale(0.12 -0.12)\">\n       <defs>\n        <path id=\"DejaVuSans-73\" d=\"M 2834 3397 \nL 2834 2853 \nQ 2591 2978 2328 3040 \nQ 2066 3103 1784 3103 \nQ 1356 3103 1142 2972 \nQ 928 2841 928 2578 \nQ 928 2378 1081 2264 \nQ 1234 2150 1697 2047 \nL 1894 2003 \nQ 2506 1872 2764 1633 \nQ 3022 1394 3022 966 \nQ 3022 478 2636 193 \nQ 2250 -91 1575 -91 \nQ 1294 -91 989 -36 \nQ 684 19 347 128 \nL 347 722 \nQ 666 556 975 473 \nQ 1284 391 1588 391 \nQ 1994 391 2212 530 \nQ 2431 669 2431 922 \nQ 2431 1156 2273 1281 \nQ 2116 1406 1581 1522 \nL 1381 1569 \nQ 847 1681 609 1914 \nQ 372 2147 372 2553 \nQ 372 3047 722 3315 \nQ 1072 3584 1716 3584 \nQ 2034 3584 2315 3537 \nQ 2597 3491 2834 3397 \nz\n\" transform=\"scale(0.015625)\"/>\n        <path id=\"DejaVuSans-61\" d=\"M 2194 1759 \nQ 1497 1759 1228 1600 \nQ 959 1441 959 1056 \nQ 959 750 1161 570 \nQ 1363 391 1709 391 \nQ 2188 391 2477 730 \nQ 2766 1069 2766 1631 \nL 2766 1759 \nL 2194 1759 \nz\nM 3341 1997 \nL 3341 0 \nL 2766 0 \nL 2766 531 \nQ 2569 213 2275 61 \nQ 1981 -91 1556 -91 \nQ 1019 -91 701 211 \nQ 384 513 384 1019 \nQ 384 1609 779 1909 \nQ 1175 2209 1959 2209 \nL 2766 2209 \nL 2766 2266 \nQ 2766 2663 2505 2880 \nQ 2244 3097 1772 3097 \nQ 1472 3097 1187 3025 \nQ 903 2953 641 2809 \nL 641 3341 \nQ 956 3463 1253 3523 \nQ 1550 3584 1831 3584 \nQ 2591 3584 2966 3190 \nQ 3341 2797 3341 1997 \nz\n\" transform=\"scale(0.015625)\"/>\n        <path id=\"DejaVuSans-64\" d=\"M 2906 2969 \nL 2906 4863 \nL 3481 4863 \nL 3481 0 \nL 2906 0 \nL 2906 525 \nQ 2725 213 2448 61 \nQ 2172 -91 1784 -91 \nQ 1150 -91 751 415 \nQ 353 922 353 1747 \nQ 353 2572 751 3078 \nQ 1150 3584 1784 3584 \nQ 2172 3584 2448 3432 \nQ 2725 3281 2906 2969 \nz\nM 947 1747 \nQ 947 1113 1208 752 \nQ 1469 391 1925 391 \nQ 2381 391 2643 752 \nQ 2906 1113 2906 1747 \nQ 2906 2381 2643 2742 \nQ 2381 3103 1925 3103 \nQ 1469 3103 1208 2742 \nQ 947 2381 947 1747 \nz\n\" transform=\"scale(0.015625)\"/>\n        <path id=\"DejaVuSans-6e\" d=\"M 3513 2113 \nL 3513 0 \nL 2938 0 \nL 2938 2094 \nQ 2938 2591 2744 2837 \nQ 2550 3084 2163 3084 \nQ 1697 3084 1428 2787 \nQ 1159 2491 1159 1978 \nL 1159 0 \nL 581 0 \nL 581 3500 \nL 1159 3500 \nL 1159 2956 \nQ 1366 3272 1645 3428 \nQ 1925 3584 2291 3584 \nQ 2894 3584 3203 3211 \nQ 3513 2838 3513 2113 \nz\n\" transform=\"scale(0.015625)\"/>\n        <path id=\"DejaVuSans-65\" d=\"M 3597 1894 \nL 3597 1613 \nL 953 1613 \nQ 991 1019 1311 708 \nQ 1631 397 2203 397 \nQ 2534 397 2845 478 \nQ 3156 559 3463 722 \nL 3463 178 \nQ 3153 47 2828 -22 \nQ 2503 -91 2169 -91 \nQ 1331 -91 842 396 \nQ 353 884 353 1716 \nQ 353 2575 817 3079 \nQ 1281 3584 2069 3584 \nQ 2775 3584 3186 3129 \nQ 3597 2675 3597 1894 \nz\nM 3022 2063 \nQ 3016 2534 2758 2815 \nQ 2500 3097 2075 3097 \nQ 1594 3097 1305 2825 \nQ 1016 2553 972 2059 \nL 3022 2063 \nz\n\" transform=\"scale(0.015625)\"/>\n       </defs>\n       <use xlink:href=\"#DejaVuSans-73\"/>\n       <use xlink:href=\"#DejaVuSans-61\" x=\"52.099609\"/>\n       <use xlink:href=\"#DejaVuSans-64\" x=\"113.378906\"/>\n       <use xlink:href=\"#DejaVuSans-6e\" x=\"176.855469\"/>\n       <use xlink:href=\"#DejaVuSans-65\" x=\"240.234375\"/>\n       <use xlink:href=\"#DejaVuSans-73\" x=\"301.757812\"/>\n       <use xlink:href=\"#DejaVuSans-73\" x=\"353.857422\"/>\n      </g>\n     </g>\n    </g>\n    <g id=\"xtick_2\">\n     <g id=\"line2d_2\">\n      <g>\n       <use xlink:href=\"#mcba1c1442b\" x=\"213.205891\" y=\"245.90175\" style=\"stroke: #000000; stroke-width: 0.8\"/>\n      </g>\n     </g>\n     <g id=\"text_2\">\n      <!-- joy -->\n      <g transform=\"translate(204.316516 262.019875) scale(0.12 -0.12)\">\n       <defs>\n        <path id=\"DejaVuSans-6a\" d=\"M 603 3500 \nL 1178 3500 \nL 1178 -63 \nQ 1178 -731 923 -1031 \nQ 669 -1331 103 -1331 \nL -116 -1331 \nL -116 -844 \nL 38 -844 \nQ 366 -844 484 -692 \nQ 603 -541 603 -63 \nL 603 3500 \nz\nM 603 4863 \nL 1178 4863 \nL 1178 4134 \nL 603 4134 \nL 603 4863 \nz\n\" transform=\"scale(0.015625)\"/>\n        <path id=\"DejaVuSans-6f\" d=\"M 1959 3097 \nQ 1497 3097 1228 2736 \nQ 959 2375 959 1747 \nQ 959 1119 1226 758 \nQ 1494 397 1959 397 \nQ 2419 397 2687 759 \nQ 2956 1122 2956 1747 \nQ 2956 2369 2687 2733 \nQ 2419 3097 1959 3097 \nz\nM 1959 3584 \nQ 2709 3584 3137 3096 \nQ 3566 2609 3566 1747 \nQ 3566 888 3137 398 \nQ 2709 -91 1959 -91 \nQ 1206 -91 779 398 \nQ 353 888 353 1747 \nQ 353 2609 779 3096 \nQ 1206 3584 1959 3584 \nz\n\" transform=\"scale(0.015625)\"/>\n        <path id=\"DejaVuSans-79\" d=\"M 2059 -325 \nQ 1816 -950 1584 -1140 \nQ 1353 -1331 966 -1331 \nL 506 -1331 \nL 506 -850 \nL 844 -850 \nQ 1081 -850 1212 -737 \nQ 1344 -625 1503 -206 \nL 1606 56 \nL 191 3500 \nL 800 3500 \nL 1894 763 \nL 2988 3500 \nL 3597 3500 \nL 2059 -325 \nz\n\" transform=\"scale(0.015625)\"/>\n       </defs>\n       <use xlink:href=\"#DejaVuSans-6a\"/>\n       <use xlink:href=\"#DejaVuSans-6f\" x=\"27.783203\"/>\n       <use xlink:href=\"#DejaVuSans-79\" x=\"88.964844\"/>\n      </g>\n     </g>\n    </g>\n    <g id=\"xtick_3\">\n     <g id=\"line2d_3\">\n      <g>\n       <use xlink:href=\"#mcba1c1442b\" x=\"265.68238\" y=\"245.90175\" style=\"stroke: #000000; stroke-width: 0.8\"/>\n      </g>\n     </g>\n     <g id=\"text_3\">\n      <!-- love -->\n      <g transform=\"translate(253.10113 262.019875) scale(0.12 -0.12)\">\n       <defs>\n        <path id=\"DejaVuSans-6c\" d=\"M 603 4863 \nL 1178 4863 \nL 1178 0 \nL 603 0 \nL 603 4863 \nz\n\" transform=\"scale(0.015625)\"/>\n        <path id=\"DejaVuSans-76\" d=\"M 191 3500 \nL 800 3500 \nL 1894 563 \nL 2988 3500 \nL 3597 3500 \nL 2284 0 \nL 1503 0 \nL 191 3500 \nz\n\" transform=\"scale(0.015625)\"/>\n       </defs>\n       <use xlink:href=\"#DejaVuSans-6c\"/>\n       <use xlink:href=\"#DejaVuSans-6f\" x=\"27.783203\"/>\n       <use xlink:href=\"#DejaVuSans-76\" x=\"88.964844\"/>\n       <use xlink:href=\"#DejaVuSans-65\" x=\"148.144531\"/>\n      </g>\n     </g>\n    </g>\n    <g id=\"xtick_4\">\n     <g id=\"line2d_4\">\n      <g>\n       <use xlink:href=\"#mcba1c1442b\" x=\"318.15887\" y=\"245.90175\" style=\"stroke: #000000; stroke-width: 0.8\"/>\n      </g>\n     </g>\n     <g id=\"text_4\">\n      <!-- anger -->\n      <g transform=\"translate(300.711995 262.019875) scale(0.12 -0.12)\">\n       <defs>\n        <path id=\"DejaVuSans-67\" d=\"M 2906 1791 \nQ 2906 2416 2648 2759 \nQ 2391 3103 1925 3103 \nQ 1463 3103 1205 2759 \nQ 947 2416 947 1791 \nQ 947 1169 1205 825 \nQ 1463 481 1925 481 \nQ 2391 481 2648 825 \nQ 2906 1169 2906 1791 \nz\nM 3481 434 \nQ 3481 -459 3084 -895 \nQ 2688 -1331 1869 -1331 \nQ 1566 -1331 1297 -1286 \nQ 1028 -1241 775 -1147 \nL 775 -588 \nQ 1028 -725 1275 -790 \nQ 1522 -856 1778 -856 \nQ 2344 -856 2625 -561 \nQ 2906 -266 2906 331 \nL 2906 616 \nQ 2728 306 2450 153 \nQ 2172 0 1784 0 \nQ 1141 0 747 490 \nQ 353 981 353 1791 \nQ 353 2603 747 3093 \nQ 1141 3584 1784 3584 \nQ 2172 3584 2450 3431 \nQ 2728 3278 2906 2969 \nL 2906 3500 \nL 3481 3500 \nL 3481 434 \nz\n\" transform=\"scale(0.015625)\"/>\n        <path id=\"DejaVuSans-72\" d=\"M 2631 2963 \nQ 2534 3019 2420 3045 \nQ 2306 3072 2169 3072 \nQ 1681 3072 1420 2755 \nQ 1159 2438 1159 1844 \nL 1159 0 \nL 581 0 \nL 581 3500 \nL 1159 3500 \nL 1159 2956 \nQ 1341 3275 1631 3429 \nQ 1922 3584 2338 3584 \nQ 2397 3584 2469 3576 \nQ 2541 3569 2628 3553 \nL 2631 2963 \nz\n\" transform=\"scale(0.015625)\"/>\n       </defs>\n       <use xlink:href=\"#DejaVuSans-61\"/>\n       <use xlink:href=\"#DejaVuSans-6e\" x=\"61.279297\"/>\n       <use xlink:href=\"#DejaVuSans-67\" x=\"124.658203\"/>\n       <use xlink:href=\"#DejaVuSans-65\" x=\"188.134766\"/>\n       <use xlink:href=\"#DejaVuSans-72\" x=\"249.658203\"/>\n      </g>\n     </g>\n    </g>\n    <g id=\"xtick_5\">\n     <g id=\"line2d_5\">\n      <g>\n       <use xlink:href=\"#mcba1c1442b\" x=\"370.635359\" y=\"245.90175\" style=\"stroke: #000000; stroke-width: 0.8\"/>\n      </g>\n     </g>\n     <g id=\"text_5\">\n      <!-- fear -->\n      <g transform=\"translate(358.687859 262.019875) scale(0.12 -0.12)\">\n       <defs>\n        <path id=\"DejaVuSans-66\" d=\"M 2375 4863 \nL 2375 4384 \nL 1825 4384 \nQ 1516 4384 1395 4259 \nQ 1275 4134 1275 3809 \nL 1275 3500 \nL 2222 3500 \nL 2222 3053 \nL 1275 3053 \nL 1275 0 \nL 697 0 \nL 697 3053 \nL 147 3053 \nL 147 3500 \nL 697 3500 \nL 697 3744 \nQ 697 4328 969 4595 \nQ 1241 4863 1831 4863 \nL 2375 4863 \nz\n\" transform=\"scale(0.015625)\"/>\n       </defs>\n       <use xlink:href=\"#DejaVuSans-66\"/>\n       <use xlink:href=\"#DejaVuSans-65\" x=\"35.205078\"/>\n       <use xlink:href=\"#DejaVuSans-61\" x=\"96.728516\"/>\n       <use xlink:href=\"#DejaVuSans-72\" x=\"158.007812\"/>\n      </g>\n     </g>\n    </g>\n    <g id=\"xtick_6\">\n     <g id=\"line2d_6\">\n      <g>\n       <use xlink:href=\"#mcba1c1442b\" x=\"423.111848\" y=\"245.90175\" style=\"stroke: #000000; stroke-width: 0.8\"/>\n      </g>\n     </g>\n     <g id=\"text_6\">\n      <!-- surprise -->\n      <g transform=\"translate(398.95716 262.019875) scale(0.12 -0.12)\">\n       <defs>\n        <path id=\"DejaVuSans-75\" d=\"M 544 1381 \nL 544 3500 \nL 1119 3500 \nL 1119 1403 \nQ 1119 906 1312 657 \nQ 1506 409 1894 409 \nQ 2359 409 2629 706 \nQ 2900 1003 2900 1516 \nL 2900 3500 \nL 3475 3500 \nL 3475 0 \nL 2900 0 \nL 2900 538 \nQ 2691 219 2414 64 \nQ 2138 -91 1772 -91 \nQ 1169 -91 856 284 \nQ 544 659 544 1381 \nz\nM 1991 3584 \nL 1991 3584 \nz\n\" transform=\"scale(0.015625)\"/>\n        <path id=\"DejaVuSans-70\" d=\"M 1159 525 \nL 1159 -1331 \nL 581 -1331 \nL 581 3500 \nL 1159 3500 \nL 1159 2969 \nQ 1341 3281 1617 3432 \nQ 1894 3584 2278 3584 \nQ 2916 3584 3314 3078 \nQ 3713 2572 3713 1747 \nQ 3713 922 3314 415 \nQ 2916 -91 2278 -91 \nQ 1894 -91 1617 61 \nQ 1341 213 1159 525 \nz\nM 3116 1747 \nQ 3116 2381 2855 2742 \nQ 2594 3103 2138 3103 \nQ 1681 3103 1420 2742 \nQ 1159 2381 1159 1747 \nQ 1159 1113 1420 752 \nQ 1681 391 2138 391 \nQ 2594 391 2855 752 \nQ 3116 1113 3116 1747 \nz\n\" transform=\"scale(0.015625)\"/>\n        <path id=\"DejaVuSans-69\" d=\"M 603 3500 \nL 1178 3500 \nL 1178 0 \nL 603 0 \nL 603 3500 \nz\nM 603 4863 \nL 1178 4863 \nL 1178 4134 \nL 603 4134 \nL 603 4863 \nz\n\" transform=\"scale(0.015625)\"/>\n       </defs>\n       <use xlink:href=\"#DejaVuSans-73\"/>\n       <use xlink:href=\"#DejaVuSans-75\" x=\"52.099609\"/>\n       <use xlink:href=\"#DejaVuSans-72\" x=\"115.478516\"/>\n       <use xlink:href=\"#DejaVuSans-70\" x=\"156.591797\"/>\n       <use xlink:href=\"#DejaVuSans-72\" x=\"220.068359\"/>\n       <use xlink:href=\"#DejaVuSans-69\" x=\"261.181641\"/>\n       <use xlink:href=\"#DejaVuSans-73\" x=\"288.964844\"/>\n       <use xlink:href=\"#DejaVuSans-65\" x=\"341.064453\"/>\n      </g>\n     </g>\n    </g>\n   </g>\n   <g id=\"matplotlib.axis_2\">\n    <g id=\"ytick_1\">\n     <g id=\"line2d_7\">\n      <defs>\n       <path id=\"mdae9cacd43\" d=\"M 0 0 \nL -3.5 0 \n\" style=\"stroke: #000000; stroke-width: 0.8\"/>\n      </defs>\n      <g>\n       <use xlink:href=\"#mdae9cacd43\" x=\"124.520625\" y=\"245.90175\" style=\"stroke: #000000; stroke-width: 0.8\"/>\n      </g>\n     </g>\n     <g id=\"text_7\">\n      <!-- 0 -->\n      <g transform=\"translate(109.885625 250.460813) scale(0.12 -0.12)\">\n       <defs>\n        <path id=\"DejaVuSans-30\" d=\"M 2034 4250 \nQ 1547 4250 1301 3770 \nQ 1056 3291 1056 2328 \nQ 1056 1369 1301 889 \nQ 1547 409 2034 409 \nQ 2525 409 2770 889 \nQ 3016 1369 3016 2328 \nQ 3016 3291 2770 3770 \nQ 2525 4250 2034 4250 \nz\nM 2034 4750 \nQ 2819 4750 3233 4129 \nQ 3647 3509 3647 2328 \nQ 3647 1150 3233 529 \nQ 2819 -91 2034 -91 \nQ 1250 -91 836 529 \nQ 422 1150 422 2328 \nQ 422 3509 836 4129 \nQ 1250 4750 2034 4750 \nz\n\" transform=\"scale(0.015625)\"/>\n       </defs>\n       <use xlink:href=\"#DejaVuSans-30\"/>\n      </g>\n     </g>\n    </g>\n    <g id=\"ytick_2\">\n     <g id=\"line2d_8\">\n      <g>\n       <use xlink:href=\"#mdae9cacd43\" x=\"124.520625\" y=\"197.620212\" style=\"stroke: #000000; stroke-width: 0.8\"/>\n      </g>\n     </g>\n     <g id=\"text_8\">\n      <!-- 20 -->\n      <g transform=\"translate(102.250625 202.179275) scale(0.12 -0.12)\">\n       <defs>\n        <path id=\"DejaVuSans-32\" d=\"M 1228 531 \nL 3431 531 \nL 3431 0 \nL 469 0 \nL 469 531 \nQ 828 903 1448 1529 \nQ 2069 2156 2228 2338 \nQ 2531 2678 2651 2914 \nQ 2772 3150 2772 3378 \nQ 2772 3750 2511 3984 \nQ 2250 4219 1831 4219 \nQ 1534 4219 1204 4116 \nQ 875 4013 500 3803 \nL 500 4441 \nQ 881 4594 1212 4672 \nQ 1544 4750 1819 4750 \nQ 2544 4750 2975 4387 \nQ 3406 4025 3406 3419 \nQ 3406 3131 3298 2873 \nQ 3191 2616 2906 2266 \nQ 2828 2175 2409 1742 \nQ 1991 1309 1228 531 \nz\n\" transform=\"scale(0.015625)\"/>\n       </defs>\n       <use xlink:href=\"#DejaVuSans-32\"/>\n       <use xlink:href=\"#DejaVuSans-30\" x=\"63.623047\"/>\n      </g>\n     </g>\n    </g>\n    <g id=\"ytick_3\">\n     <g id=\"line2d_9\">\n      <g>\n       <use xlink:href=\"#mdae9cacd43\" x=\"124.520625\" y=\"149.338674\" style=\"stroke: #000000; stroke-width: 0.8\"/>\n      </g>\n     </g>\n     <g id=\"text_9\">\n      <!-- 40 -->\n      <g transform=\"translate(102.250625 153.897737) scale(0.12 -0.12)\">\n       <defs>\n        <path id=\"DejaVuSans-34\" d=\"M 2419 4116 \nL 825 1625 \nL 2419 1625 \nL 2419 4116 \nz\nM 2253 4666 \nL 3047 4666 \nL 3047 1625 \nL 3713 1625 \nL 3713 1100 \nL 3047 1100 \nL 3047 0 \nL 2419 0 \nL 2419 1100 \nL 313 1100 \nL 313 1709 \nL 2253 4666 \nz\n\" transform=\"scale(0.015625)\"/>\n       </defs>\n       <use xlink:href=\"#DejaVuSans-34\"/>\n       <use xlink:href=\"#DejaVuSans-30\" x=\"63.623047\"/>\n      </g>\n     </g>\n    </g>\n    <g id=\"ytick_4\">\n     <g id=\"line2d_10\">\n      <g>\n       <use xlink:href=\"#mdae9cacd43\" x=\"124.520625\" y=\"101.057137\" style=\"stroke: #000000; stroke-width: 0.8\"/>\n      </g>\n     </g>\n     <g id=\"text_10\">\n      <!-- 60 -->\n      <g transform=\"translate(102.250625 105.616199) scale(0.12 -0.12)\">\n       <defs>\n        <path id=\"DejaVuSans-36\" d=\"M 2113 2584 \nQ 1688 2584 1439 2293 \nQ 1191 2003 1191 1497 \nQ 1191 994 1439 701 \nQ 1688 409 2113 409 \nQ 2538 409 2786 701 \nQ 3034 994 3034 1497 \nQ 3034 2003 2786 2293 \nQ 2538 2584 2113 2584 \nz\nM 3366 4563 \nL 3366 3988 \nQ 3128 4100 2886 4159 \nQ 2644 4219 2406 4219 \nQ 1781 4219 1451 3797 \nQ 1122 3375 1075 2522 \nQ 1259 2794 1537 2939 \nQ 1816 3084 2150 3084 \nQ 2853 3084 3261 2657 \nQ 3669 2231 3669 1497 \nQ 3669 778 3244 343 \nQ 2819 -91 2113 -91 \nQ 1303 -91 875 529 \nQ 447 1150 447 2328 \nQ 447 3434 972 4092 \nQ 1497 4750 2381 4750 \nQ 2619 4750 2861 4703 \nQ 3103 4656 3366 4563 \nz\n\" transform=\"scale(0.015625)\"/>\n       </defs>\n       <use xlink:href=\"#DejaVuSans-36\"/>\n       <use xlink:href=\"#DejaVuSans-30\" x=\"63.623047\"/>\n      </g>\n     </g>\n    </g>\n    <g id=\"ytick_5\">\n     <g id=\"line2d_11\">\n      <g>\n       <use xlink:href=\"#mdae9cacd43\" x=\"124.520625\" y=\"52.775599\" style=\"stroke: #000000; stroke-width: 0.8\"/>\n      </g>\n     </g>\n     <g id=\"text_11\">\n      <!-- 80 -->\n      <g transform=\"translate(102.250625 57.334661) scale(0.12 -0.12)\">\n       <defs>\n        <path id=\"DejaVuSans-38\" d=\"M 2034 2216 \nQ 1584 2216 1326 1975 \nQ 1069 1734 1069 1313 \nQ 1069 891 1326 650 \nQ 1584 409 2034 409 \nQ 2484 409 2743 651 \nQ 3003 894 3003 1313 \nQ 3003 1734 2745 1975 \nQ 2488 2216 2034 2216 \nz\nM 1403 2484 \nQ 997 2584 770 2862 \nQ 544 3141 544 3541 \nQ 544 4100 942 4425 \nQ 1341 4750 2034 4750 \nQ 2731 4750 3128 4425 \nQ 3525 4100 3525 3541 \nQ 3525 3141 3298 2862 \nQ 3072 2584 2669 2484 \nQ 3125 2378 3379 2068 \nQ 3634 1759 3634 1313 \nQ 3634 634 3220 271 \nQ 2806 -91 2034 -91 \nQ 1263 -91 848 271 \nQ 434 634 434 1313 \nQ 434 1759 690 2068 \nQ 947 2378 1403 2484 \nz\nM 1172 3481 \nQ 1172 3119 1398 2916 \nQ 1625 2713 2034 2713 \nQ 2441 2713 2670 2916 \nQ 2900 3119 2900 3481 \nQ 2900 3844 2670 4047 \nQ 2441 4250 2034 4250 \nQ 1625 4250 1398 4047 \nQ 1172 3844 1172 3481 \nz\n\" transform=\"scale(0.015625)\"/>\n       </defs>\n       <use xlink:href=\"#DejaVuSans-38\"/>\n       <use xlink:href=\"#DejaVuSans-30\" x=\"63.623047\"/>\n      </g>\n     </g>\n    </g>\n    <g id=\"text_12\">\n     <!-- Class probability (%) -->\n     <g transform=\"translate(95.755 197.013938) rotate(-90) scale(0.12 -0.12)\">\n      <defs>\n       <path id=\"DejaVuSans-43\" d=\"M 4122 4306 \nL 4122 3641 \nQ 3803 3938 3442 4084 \nQ 3081 4231 2675 4231 \nQ 1875 4231 1450 3742 \nQ 1025 3253 1025 2328 \nQ 1025 1406 1450 917 \nQ 1875 428 2675 428 \nQ 3081 428 3442 575 \nQ 3803 722 4122 1019 \nL 4122 359 \nQ 3791 134 3420 21 \nQ 3050 -91 2638 -91 \nQ 1578 -91 968 557 \nQ 359 1206 359 2328 \nQ 359 3453 968 4101 \nQ 1578 4750 2638 4750 \nQ 3056 4750 3426 4639 \nQ 3797 4528 4122 4306 \nz\n\" transform=\"scale(0.015625)\"/>\n       <path id=\"DejaVuSans-20\" transform=\"scale(0.015625)\"/>\n       <path id=\"DejaVuSans-62\" d=\"M 3116 1747 \nQ 3116 2381 2855 2742 \nQ 2594 3103 2138 3103 \nQ 1681 3103 1420 2742 \nQ 1159 2381 1159 1747 \nQ 1159 1113 1420 752 \nQ 1681 391 2138 391 \nQ 2594 391 2855 752 \nQ 3116 1113 3116 1747 \nz\nM 1159 2969 \nQ 1341 3281 1617 3432 \nQ 1894 3584 2278 3584 \nQ 2916 3584 3314 3078 \nQ 3713 2572 3713 1747 \nQ 3713 922 3314 415 \nQ 2916 -91 2278 -91 \nQ 1894 -91 1617 61 \nQ 1341 213 1159 525 \nL 1159 0 \nL 581 0 \nL 581 4863 \nL 1159 4863 \nL 1159 2969 \nz\n\" transform=\"scale(0.015625)\"/>\n       <path id=\"DejaVuSans-74\" d=\"M 1172 4494 \nL 1172 3500 \nL 2356 3500 \nL 2356 3053 \nL 1172 3053 \nL 1172 1153 \nQ 1172 725 1289 603 \nQ 1406 481 1766 481 \nL 2356 481 \nL 2356 0 \nL 1766 0 \nQ 1100 0 847 248 \nQ 594 497 594 1153 \nL 594 3053 \nL 172 3053 \nL 172 3500 \nL 594 3500 \nL 594 4494 \nL 1172 4494 \nz\n\" transform=\"scale(0.015625)\"/>\n       <path id=\"DejaVuSans-28\" d=\"M 1984 4856 \nQ 1566 4138 1362 3434 \nQ 1159 2731 1159 2009 \nQ 1159 1288 1364 580 \nQ 1569 -128 1984 -844 \nL 1484 -844 \nQ 1016 -109 783 600 \nQ 550 1309 550 2009 \nQ 550 2706 781 3412 \nQ 1013 4119 1484 4856 \nL 1984 4856 \nz\n\" transform=\"scale(0.015625)\"/>\n       <path id=\"DejaVuSans-25\" d=\"M 4653 2053 \nQ 4381 2053 4226 1822 \nQ 4072 1591 4072 1178 \nQ 4072 772 4226 539 \nQ 4381 306 4653 306 \nQ 4919 306 5073 539 \nQ 5228 772 5228 1178 \nQ 5228 1588 5073 1820 \nQ 4919 2053 4653 2053 \nz\nM 4653 2450 \nQ 5147 2450 5437 2106 \nQ 5728 1763 5728 1178 \nQ 5728 594 5436 251 \nQ 5144 -91 4653 -91 \nQ 4153 -91 3862 251 \nQ 3572 594 3572 1178 \nQ 3572 1766 3864 2108 \nQ 4156 2450 4653 2450 \nz\nM 1428 4353 \nQ 1159 4353 1004 4120 \nQ 850 3888 850 3481 \nQ 850 3069 1003 2837 \nQ 1156 2606 1428 2606 \nQ 1700 2606 1854 2837 \nQ 2009 3069 2009 3481 \nQ 2009 3884 1853 4118 \nQ 1697 4353 1428 4353 \nz\nM 4250 4750 \nL 4750 4750 \nL 1831 -91 \nL 1331 -91 \nL 4250 4750 \nz\nM 1428 4750 \nQ 1922 4750 2215 4408 \nQ 2509 4066 2509 3481 \nQ 2509 2891 2217 2550 \nQ 1925 2209 1428 2209 \nQ 931 2209 642 2551 \nQ 353 2894 353 3481 \nQ 353 4063 643 4406 \nQ 934 4750 1428 4750 \nz\n\" transform=\"scale(0.015625)\"/>\n       <path id=\"DejaVuSans-29\" d=\"M 513 4856 \nL 1013 4856 \nQ 1481 4119 1714 3412 \nQ 1947 2706 1947 2009 \nQ 1947 1309 1714 600 \nQ 1481 -109 1013 -844 \nL 513 -844 \nQ 928 -128 1133 580 \nQ 1338 1288 1338 2009 \nQ 1338 2731 1133 3434 \nQ 928 4138 513 4856 \nz\n\" transform=\"scale(0.015625)\"/>\n      </defs>\n      <use xlink:href=\"#DejaVuSans-43\"/>\n      <use xlink:href=\"#DejaVuSans-6c\" x=\"69.824219\"/>\n      <use xlink:href=\"#DejaVuSans-61\" x=\"97.607422\"/>\n      <use xlink:href=\"#DejaVuSans-73\" x=\"158.886719\"/>\n      <use xlink:href=\"#DejaVuSans-73\" x=\"210.986328\"/>\n      <use xlink:href=\"#DejaVuSans-20\" x=\"263.085938\"/>\n      <use xlink:href=\"#DejaVuSans-70\" x=\"294.873047\"/>\n      <use xlink:href=\"#DejaVuSans-72\" x=\"358.349609\"/>\n      <use xlink:href=\"#DejaVuSans-6f\" x=\"397.212891\"/>\n      <use xlink:href=\"#DejaVuSans-62\" x=\"458.394531\"/>\n      <use xlink:href=\"#DejaVuSans-61\" x=\"521.871094\"/>\n      <use xlink:href=\"#DejaVuSans-62\" x=\"583.150391\"/>\n      <use xlink:href=\"#DejaVuSans-69\" x=\"646.626953\"/>\n      <use xlink:href=\"#DejaVuSans-6c\" x=\"674.410156\"/>\n      <use xlink:href=\"#DejaVuSans-69\" x=\"702.193359\"/>\n      <use xlink:href=\"#DejaVuSans-74\" x=\"729.976562\"/>\n      <use xlink:href=\"#DejaVuSans-79\" x=\"769.185547\"/>\n      <use xlink:href=\"#DejaVuSans-20\" x=\"828.365234\"/>\n      <use xlink:href=\"#DejaVuSans-28\" x=\"860.152344\"/>\n      <use xlink:href=\"#DejaVuSans-25\" x=\"899.166016\"/>\n      <use xlink:href=\"#DejaVuSans-29\" x=\"994.185547\"/>\n     </g>\n    </g>\n   </g>\n   <g id=\"patch_9\">\n    <path d=\"M 124.520625 245.90175 \nL 124.520625 24.14175 \n\" style=\"fill: none; stroke: #000000; stroke-width: 0.8; stroke-linejoin: miter; stroke-linecap: square\"/>\n   </g>\n   <g id=\"patch_10\">\n    <path d=\"M 459.320625 245.90175 \nL 459.320625 24.14175 \n\" style=\"fill: none; stroke: #000000; stroke-width: 0.8; stroke-linejoin: miter; stroke-linecap: square\"/>\n   </g>\n   <g id=\"patch_11\">\n    <path d=\"M 124.520625 245.90175 \nL 459.320625 245.90175 \n\" style=\"fill: none; stroke: #000000; stroke-width: 0.8; stroke-linejoin: miter; stroke-linecap: square\"/>\n   </g>\n   <g id=\"patch_12\">\n    <path d=\"M 124.520625 24.14175 \nL 459.320625 24.14175 \n\" style=\"fill: none; stroke: #000000; stroke-width: 0.8; stroke-linejoin: miter; stroke-linecap: square\"/>\n   </g>\n   <g id=\"text_13\">\n    <!-- \"They think I'm the most handsome.What should I do to understand how I feel. -->\n    <g transform=\"translate(7.2 18.14175) scale(0.144 -0.144)\">\n     <defs>\n      <path id=\"DejaVuSans-22\" d=\"M 1147 4666 \nL 1147 2931 \nL 616 2931 \nL 616 4666 \nL 1147 4666 \nz\nM 2328 4666 \nL 2328 2931 \nL 1797 2931 \nL 1797 4666 \nL 2328 4666 \nz\n\" transform=\"scale(0.015625)\"/>\n      <path id=\"DejaVuSans-54\" d=\"M -19 4666 \nL 3928 4666 \nL 3928 4134 \nL 2272 4134 \nL 2272 0 \nL 1638 0 \nL 1638 4134 \nL -19 4134 \nL -19 4666 \nz\n\" transform=\"scale(0.015625)\"/>\n      <path id=\"DejaVuSans-68\" d=\"M 3513 2113 \nL 3513 0 \nL 2938 0 \nL 2938 2094 \nQ 2938 2591 2744 2837 \nQ 2550 3084 2163 3084 \nQ 1697 3084 1428 2787 \nQ 1159 2491 1159 1978 \nL 1159 0 \nL 581 0 \nL 581 4863 \nL 1159 4863 \nL 1159 2956 \nQ 1366 3272 1645 3428 \nQ 1925 3584 2291 3584 \nQ 2894 3584 3203 3211 \nQ 3513 2838 3513 2113 \nz\n\" transform=\"scale(0.015625)\"/>\n      <path id=\"DejaVuSans-6b\" d=\"M 581 4863 \nL 1159 4863 \nL 1159 1991 \nL 2875 3500 \nL 3609 3500 \nL 1753 1863 \nL 3688 0 \nL 2938 0 \nL 1159 1709 \nL 1159 0 \nL 581 0 \nL 581 4863 \nz\n\" transform=\"scale(0.015625)\"/>\n      <path id=\"DejaVuSans-49\" d=\"M 628 4666 \nL 1259 4666 \nL 1259 0 \nL 628 0 \nL 628 4666 \nz\n\" transform=\"scale(0.015625)\"/>\n      <path id=\"DejaVuSans-27\" d=\"M 1147 4666 \nL 1147 2931 \nL 616 2931 \nL 616 4666 \nL 1147 4666 \nz\n\" transform=\"scale(0.015625)\"/>\n      <path id=\"DejaVuSans-6d\" d=\"M 3328 2828 \nQ 3544 3216 3844 3400 \nQ 4144 3584 4550 3584 \nQ 5097 3584 5394 3201 \nQ 5691 2819 5691 2113 \nL 5691 0 \nL 5113 0 \nL 5113 2094 \nQ 5113 2597 4934 2840 \nQ 4756 3084 4391 3084 \nQ 3944 3084 3684 2787 \nQ 3425 2491 3425 1978 \nL 3425 0 \nL 2847 0 \nL 2847 2094 \nQ 2847 2600 2669 2842 \nQ 2491 3084 2119 3084 \nQ 1678 3084 1418 2786 \nQ 1159 2488 1159 1978 \nL 1159 0 \nL 581 0 \nL 581 3500 \nL 1159 3500 \nL 1159 2956 \nQ 1356 3278 1631 3431 \nQ 1906 3584 2284 3584 \nQ 2666 3584 2933 3390 \nQ 3200 3197 3328 2828 \nz\n\" transform=\"scale(0.015625)\"/>\n      <path id=\"DejaVuSans-2e\" d=\"M 684 794 \nL 1344 794 \nL 1344 0 \nL 684 0 \nL 684 794 \nz\n\" transform=\"scale(0.015625)\"/>\n      <path id=\"DejaVuSans-57\" d=\"M 213 4666 \nL 850 4666 \nL 1831 722 \nL 2809 4666 \nL 3519 4666 \nL 4500 722 \nL 5478 4666 \nL 6119 4666 \nL 4947 0 \nL 4153 0 \nL 3169 4050 \nL 2175 0 \nL 1381 0 \nL 213 4666 \nz\n\" transform=\"scale(0.015625)\"/>\n      <path id=\"DejaVuSans-77\" d=\"M 269 3500 \nL 844 3500 \nL 1563 769 \nL 2278 3500 \nL 2956 3500 \nL 3675 769 \nL 4391 3500 \nL 4966 3500 \nL 4050 0 \nL 3372 0 \nL 2619 2869 \nL 1863 0 \nL 1184 0 \nL 269 3500 \nz\n\" transform=\"scale(0.015625)\"/>\n     </defs>\n     <use xlink:href=\"#DejaVuSans-22\"/>\n     <use xlink:href=\"#DejaVuSans-54\" x=\"45.996094\"/>\n     <use xlink:href=\"#DejaVuSans-68\" x=\"107.080078\"/>\n     <use xlink:href=\"#DejaVuSans-65\" x=\"170.458984\"/>\n     <use xlink:href=\"#DejaVuSans-79\" x=\"231.982422\"/>\n     <use xlink:href=\"#DejaVuSans-20\" x=\"291.162109\"/>\n     <use xlink:href=\"#DejaVuSans-74\" x=\"322.949219\"/>\n     <use xlink:href=\"#DejaVuSans-68\" x=\"362.158203\"/>\n     <use xlink:href=\"#DejaVuSans-69\" x=\"425.537109\"/>\n     <use xlink:href=\"#DejaVuSans-6e\" x=\"453.320312\"/>\n     <use xlink:href=\"#DejaVuSans-6b\" x=\"516.699219\"/>\n     <use xlink:href=\"#DejaVuSans-20\" x=\"574.609375\"/>\n     <use xlink:href=\"#DejaVuSans-49\" x=\"606.396484\"/>\n     <use xlink:href=\"#DejaVuSans-27\" x=\"635.888672\"/>\n     <use xlink:href=\"#DejaVuSans-6d\" x=\"663.378906\"/>\n     <use xlink:href=\"#DejaVuSans-20\" x=\"760.791016\"/>\n     <use xlink:href=\"#DejaVuSans-74\" x=\"792.578125\"/>\n     <use xlink:href=\"#DejaVuSans-68\" x=\"831.787109\"/>\n     <use xlink:href=\"#DejaVuSans-65\" x=\"895.166016\"/>\n     <use xlink:href=\"#DejaVuSans-20\" x=\"956.689453\"/>\n     <use xlink:href=\"#DejaVuSans-6d\" x=\"988.476562\"/>\n     <use xlink:href=\"#DejaVuSans-6f\" x=\"1085.888672\"/>\n     <use xlink:href=\"#DejaVuSans-73\" x=\"1147.070312\"/>\n     <use xlink:href=\"#DejaVuSans-74\" x=\"1199.169922\"/>\n     <use xlink:href=\"#DejaVuSans-20\" x=\"1238.378906\"/>\n     <use xlink:href=\"#DejaVuSans-68\" x=\"1270.166016\"/>\n     <use xlink:href=\"#DejaVuSans-61\" x=\"1333.544922\"/>\n     <use xlink:href=\"#DejaVuSans-6e\" x=\"1394.824219\"/>\n     <use xlink:href=\"#DejaVuSans-64\" x=\"1458.203125\"/>\n     <use xlink:href=\"#DejaVuSans-73\" x=\"1521.679688\"/>\n     <use xlink:href=\"#DejaVuSans-6f\" x=\"1573.779297\"/>\n     <use xlink:href=\"#DejaVuSans-6d\" x=\"1634.960938\"/>\n     <use xlink:href=\"#DejaVuSans-65\" x=\"1732.373047\"/>\n     <use xlink:href=\"#DejaVuSans-2e\" x=\"1793.896484\"/>\n     <use xlink:href=\"#DejaVuSans-57\" x=\"1825.683594\"/>\n     <use xlink:href=\"#DejaVuSans-68\" x=\"1924.560547\"/>\n     <use xlink:href=\"#DejaVuSans-61\" x=\"1987.939453\"/>\n     <use xlink:href=\"#DejaVuSans-74\" x=\"2049.21875\"/>\n     <use xlink:href=\"#DejaVuSans-20\" x=\"2088.427734\"/>\n     <use xlink:href=\"#DejaVuSans-73\" x=\"2120.214844\"/>\n     <use xlink:href=\"#DejaVuSans-68\" x=\"2172.314453\"/>\n     <use xlink:href=\"#DejaVuSans-6f\" x=\"2235.693359\"/>\n     <use xlink:href=\"#DejaVuSans-75\" x=\"2296.875\"/>\n     <use xlink:href=\"#DejaVuSans-6c\" x=\"2360.253906\"/>\n     <use xlink:href=\"#DejaVuSans-64\" x=\"2388.037109\"/>\n     <use xlink:href=\"#DejaVuSans-20\" x=\"2451.513672\"/>\n     <use xlink:href=\"#DejaVuSans-49\" x=\"2483.300781\"/>\n     <use xlink:href=\"#DejaVuSans-20\" x=\"2512.792969\"/>\n     <use xlink:href=\"#DejaVuSans-64\" x=\"2544.580078\"/>\n     <use xlink:href=\"#DejaVuSans-6f\" x=\"2608.056641\"/>\n     <use xlink:href=\"#DejaVuSans-20\" x=\"2669.238281\"/>\n     <use xlink:href=\"#DejaVuSans-74\" x=\"2701.025391\"/>\n     <use xlink:href=\"#DejaVuSans-6f\" x=\"2740.234375\"/>\n     <use xlink:href=\"#DejaVuSans-20\" x=\"2801.416016\"/>\n     <use xlink:href=\"#DejaVuSans-75\" x=\"2833.203125\"/>\n     <use xlink:href=\"#DejaVuSans-6e\" x=\"2896.582031\"/>\n     <use xlink:href=\"#DejaVuSans-64\" x=\"2959.960938\"/>\n     <use xlink:href=\"#DejaVuSans-65\" x=\"3023.4375\"/>\n     <use xlink:href=\"#DejaVuSans-72\" x=\"3084.960938\"/>\n     <use xlink:href=\"#DejaVuSans-73\" x=\"3126.074219\"/>\n     <use xlink:href=\"#DejaVuSans-74\" x=\"3178.173828\"/>\n     <use xlink:href=\"#DejaVuSans-61\" x=\"3217.382812\"/>\n     <use xlink:href=\"#DejaVuSans-6e\" x=\"3278.662109\"/>\n     <use xlink:href=\"#DejaVuSans-64\" x=\"3342.041016\"/>\n     <use xlink:href=\"#DejaVuSans-20\" x=\"3405.517578\"/>\n     <use xlink:href=\"#DejaVuSans-68\" x=\"3437.304688\"/>\n     <use xlink:href=\"#DejaVuSans-6f\" x=\"3500.683594\"/>\n     <use xlink:href=\"#DejaVuSans-77\" x=\"3561.865234\"/>\n     <use xlink:href=\"#DejaVuSans-20\" x=\"3643.652344\"/>\n     <use xlink:href=\"#DejaVuSans-49\" x=\"3675.439453\"/>\n     <use xlink:href=\"#DejaVuSans-20\" x=\"3704.931641\"/>\n     <use xlink:href=\"#DejaVuSans-66\" x=\"3736.71875\"/>\n     <use xlink:href=\"#DejaVuSans-65\" x=\"3771.923828\"/>\n     <use xlink:href=\"#DejaVuSans-65\" x=\"3833.447266\"/>\n     <use xlink:href=\"#DejaVuSans-6c\" x=\"3894.970703\"/>\n     <use xlink:href=\"#DejaVuSans-2e\" x=\"3922.753906\"/>\n    </g>\n   </g>\n  </g>\n </g>\n <defs>\n  <clipPath id=\"p9e1f52ac55\">\n   <rect x=\"124.520625\" y=\"24.14175\" width=\"334.8\" height=\"221.76\"/>\n  </clipPath>\n </defs>\n</svg>\n",
            "application/pdf": "[encoded data removed]"
          },
          "metadata": {}
        }
      ]
    }
  ],
  "metadata": {
    "language_info": {
      "name": "python"
    },
    "orig_nbformat": 4,
    "colab": {
      "provenance": [],
      "gpuType": "T4"
    },
    "kernelspec": {
      "name": "python3",
      "display_name": "Python 3"
    },
    "accelerator": "GPU",
    "widgets": {
      "application/vnd.jupyter.widget-state+json": {
        "9c7c52b0cf9145eb90167774ce02cd29": {
          "model_module": "@jupyter-widgets/controls",
          "model_name": "HBoxModel",
          "model_module_version": "1.5.0",
          "state": {
            "_dom_classes": [],
            "_model_module": "@jupyter-widgets/controls",
            "_model_module_version": "1.5.0",
            "_model_name": "HBoxModel",
            "_view_count": null,
            "_view_module": "@jupyter-widgets/controls",
            "_view_module_version": "1.5.0",
            "_view_name": "HBoxView",
            "box_style": "",
            "children": [
              "IPY_MODEL_1e6dc369edb4401b8e700fe0ffa76904",
              "IPY_MODEL_59ddc8e75ada4e69bd61e0d80617c97a",
              "IPY_MODEL_39223062d72242edb37e63711099c933"
            ],
            "layout": "IPY_MODEL_95b34e38638e4eaa9a0db2ff2695faba"
          }
        },
        "1e6dc369edb4401b8e700fe0ffa76904": {
          "model_module": "@jupyter-widgets/controls",
          "model_name": "HTMLModel",
          "model_module_version": "1.5.0",
          "state": {
            "_dom_classes": [],
            "_model_module": "@jupyter-widgets/controls",
            "_model_module_version": "1.5.0",
            "_model_name": "HTMLModel",
            "_view_count": null,
            "_view_module": "@jupyter-widgets/controls",
            "_view_module_version": "1.5.0",
            "_view_name": "HTMLView",
            "description": "",
            "description_tooltip": null,
            "layout": "IPY_MODEL_8bf4df0fe6064702a399e68812aeacd3",
            "placeholder": "​",
            "style": "IPY_MODEL_2cb57b182ebe4532afba907994f2508f",
            "value": "100%"
          }
        },
        "59ddc8e75ada4e69bd61e0d80617c97a": {
          "model_module": "@jupyter-widgets/controls",
          "model_name": "FloatProgressModel",
          "model_module_version": "1.5.0",
          "state": {
            "_dom_classes": [],
            "_model_module": "@jupyter-widgets/controls",
            "_model_module_version": "1.5.0",
            "_model_name": "FloatProgressModel",
            "_view_count": null,
            "_view_module": "@jupyter-widgets/controls",
            "_view_module_version": "1.5.0",
            "_view_name": "ProgressView",
            "bar_style": "success",
            "description": "",
            "description_tooltip": null,
            "layout": "IPY_MODEL_237ed9a820b0431785d3f2ea8ae33e0f",
            "max": 3,
            "min": 0,
            "orientation": "horizontal",
            "style": "IPY_MODEL_1c41ca11495b4079a3ec020a19522f6c",
            "value": 3
          }
        },
        "39223062d72242edb37e63711099c933": {
          "model_module": "@jupyter-widgets/controls",
          "model_name": "HTMLModel",
          "model_module_version": "1.5.0",
          "state": {
            "_dom_classes": [],
            "_model_module": "@jupyter-widgets/controls",
            "_model_module_version": "1.5.0",
            "_model_name": "HTMLModel",
            "_view_count": null,
            "_view_module": "@jupyter-widgets/controls",
            "_view_module_version": "1.5.0",
            "_view_name": "HTMLView",
            "description": "",
            "description_tooltip": null,
            "layout": "IPY_MODEL_d0fb60b19b8548beaabc6788dff4cc38",
            "placeholder": "​",
            "style": "IPY_MODEL_d6f95c174018442d9568a9cf66d5dfd1",
            "value": " 3/3 [00:00&lt;00:00, 129.86it/s]"
          }
        },
        "95b34e38638e4eaa9a0db2ff2695faba": {
          "model_module": "@jupyter-widgets/base",
          "model_name": "LayoutModel",
          "model_module_version": "1.2.0",
          "state": {
            "_model_module": "@jupyter-widgets/base",
            "_model_module_version": "1.2.0",
            "_model_name": "LayoutModel",
            "_view_count": null,
            "_view_module": "@jupyter-widgets/base",
            "_view_module_version": "1.2.0",
            "_view_name": "LayoutView",
            "align_content": null,
            "align_items": null,
            "align_self": null,
            "border": null,
            "bottom": null,
            "display": null,
            "flex": null,
            "flex_flow": null,
            "grid_area": null,
            "grid_auto_columns": null,
            "grid_auto_flow": null,
            "grid_auto_rows": null,
            "grid_column": null,
            "grid_gap": null,
            "grid_row": null,
            "grid_template_areas": null,
            "grid_template_columns": null,
            "grid_template_rows": null,
            "height": null,
            "justify_content": null,
            "justify_items": null,
            "left": null,
            "margin": null,
            "max_height": null,
            "max_width": null,
            "min_height": null,
            "min_width": null,
            "object_fit": null,
            "object_position": null,
            "order": null,
            "overflow": null,
            "overflow_x": null,
            "overflow_y": null,
            "padding": null,
            "right": null,
            "top": null,
            "visibility": null,
            "width": null
          }
        },
        "8bf4df0fe6064702a399e68812aeacd3": {
          "model_module": "@jupyter-widgets/base",
          "model_name": "LayoutModel",
          "model_module_version": "1.2.0",
          "state": {
            "_model_module": "@jupyter-widgets/base",
            "_model_module_version": "1.2.0",
            "_model_name": "LayoutModel",
            "_view_count": null,
            "_view_module": "@jupyter-widgets/base",
            "_view_module_version": "1.2.0",
            "_view_name": "LayoutView",
            "align_content": null,
            "align_items": null,
            "align_self": null,
            "border": null,
            "bottom": null,
            "display": null,
            "flex": null,
            "flex_flow": null,
            "grid_area": null,
            "grid_auto_columns": null,
            "grid_auto_flow": null,
            "grid_auto_rows": null,
            "grid_column": null,
            "grid_gap": null,
            "grid_row": null,
            "grid_template_areas": null,
            "grid_template_columns": null,
            "grid_template_rows": null,
            "height": null,
            "justify_content": null,
            "justify_items": null,
            "left": null,
            "margin": null,
            "max_height": null,
            "max_width": null,
            "min_height": null,
            "min_width": null,
            "object_fit": null,
            "object_position": null,
            "order": null,
            "overflow": null,
            "overflow_x": null,
            "overflow_y": null,
            "padding": null,
            "right": null,
            "top": null,
            "visibility": null,
            "width": null
          }
        },
        "2cb57b182ebe4532afba907994f2508f": {
          "model_module": "@jupyter-widgets/controls",
          "model_name": "DescriptionStyleModel",
          "model_module_version": "1.5.0",
          "state": {
            "_model_module": "@jupyter-widgets/controls",
            "_model_module_version": "1.5.0",
            "_model_name": "DescriptionStyleModel",
            "_view_count": null,
            "_view_module": "@jupyter-widgets/base",
            "_view_module_version": "1.2.0",
            "_view_name": "StyleView",
            "description_width": ""
          }
        },
        "237ed9a820b0431785d3f2ea8ae33e0f": {
          "model_module": "@jupyter-widgets/base",
          "model_name": "LayoutModel",
          "model_module_version": "1.2.0",
          "state": {
            "_model_module": "@jupyter-widgets/base",
            "_model_module_version": "1.2.0",
            "_model_name": "LayoutModel",
            "_view_count": null,
            "_view_module": "@jupyter-widgets/base",
            "_view_module_version": "1.2.0",
            "_view_name": "LayoutView",
            "align_content": null,
            "align_items": null,
            "align_self": null,
            "border": null,
            "bottom": null,
            "display": null,
            "flex": null,
            "flex_flow": null,
            "grid_area": null,
            "grid_auto_columns": null,
            "grid_auto_flow": null,
            "grid_auto_rows": null,
            "grid_column": null,
            "grid_gap": null,
            "grid_row": null,
            "grid_template_areas": null,
            "grid_template_columns": null,
            "grid_template_rows": null,
            "height": null,
            "justify_content": null,
            "justify_items": null,
            "left": null,
            "margin": null,
            "max_height": null,
            "max_width": null,
            "min_height": null,
            "min_width": null,
            "object_fit": null,
            "object_position": null,
            "order": null,
            "overflow": null,
            "overflow_x": null,
            "overflow_y": null,
            "padding": null,
            "right": null,
            "top": null,
            "visibility": null,
            "width": null
          }
        },
        "1c41ca11495b4079a3ec020a19522f6c": {
          "model_module": "@jupyter-widgets/controls",
          "model_name": "ProgressStyleModel",
          "model_module_version": "1.5.0",
          "state": {
            "_model_module": "@jupyter-widgets/controls",
            "_model_module_version": "1.5.0",
            "_model_name": "ProgressStyleModel",
            "_view_count": null,
            "_view_module": "@jupyter-widgets/base",
            "_view_module_version": "1.2.0",
            "_view_name": "StyleView",
            "bar_color": null,
            "description_width": ""
          }
        },
        "d0fb60b19b8548beaabc6788dff4cc38": {
          "model_module": "@jupyter-widgets/base",
          "model_name": "LayoutModel",
          "model_module_version": "1.2.0",
          "state": {
            "_model_module": "@jupyter-widgets/base",
            "_model_module_version": "1.2.0",
            "_model_name": "LayoutModel",
            "_view_count": null,
            "_view_module": "@jupyter-widgets/base",
            "_view_module_version": "1.2.0",
            "_view_name": "LayoutView",
            "align_content": null,
            "align_items": null,
            "align_self": null,
            "border": null,
            "bottom": null,
            "display": null,
            "flex": null,
            "flex_flow": null,
            "grid_area": null,
            "grid_auto_columns": null,
            "grid_auto_flow": null,
            "grid_auto_rows": null,
            "grid_column": null,
            "grid_gap": null,
            "grid_row": null,
            "grid_template_areas": null,
            "grid_template_columns": null,
            "grid_template_rows": null,
            "height": null,
            "justify_content": null,
            "justify_items": null,
            "left": null,
            "margin": null,
            "max_height": null,
            "max_width": null,
            "min_height": null,
            "min_width": null,
            "object_fit": null,
            "object_position": null,
            "order": null,
            "overflow": null,
            "overflow_x": null,
            "overflow_y": null,
            "padding": null,
            "right": null,
            "top": null,
            "visibility": null,
            "width": null
          }
        },
        "d6f95c174018442d9568a9cf66d5dfd1": {
          "model_module": "@jupyter-widgets/controls",
          "model_name": "DescriptionStyleModel",
          "model_module_version": "1.5.0",
          "state": {
            "_model_module": "@jupyter-widgets/controls",
            "_model_module_version": "1.5.0",
            "_model_name": "DescriptionStyleModel",
            "_view_count": null,
            "_view_module": "@jupyter-widgets/base",
            "_view_module_version": "1.2.0",
            "_view_name": "StyleView",
            "description_width": ""
          }
        },
        "23fea1a53daf4a85b5b53fdffaae3ebd": {
          "model_module": "@jupyter-widgets/controls",
          "model_name": "VBoxModel",
          "model_module_version": "1.5.0",
          "state": {
            "_dom_classes": [],
            "_model_module": "@jupyter-widgets/controls",
            "_model_module_version": "1.5.0",
            "_model_name": "VBoxModel",
            "_view_count": null,
            "_view_module": "@jupyter-widgets/controls",
            "_view_module_version": "1.5.0",
            "_view_name": "VBoxView",
            "box_style": "",
            "children": [
              "IPY_MODEL_6fbf6cf8070941d7ab4081c00e8ab47c",
              "IPY_MODEL_9569a96368264940b8e03eca62553f92",
              "IPY_MODEL_0bc71ed9da4e4e228ba92a96d4227cd7",
              "IPY_MODEL_f2c5c2f2bf4a47b9a7f26b3347557cf3",
              "IPY_MODEL_581793253ed0411b968d94bd1ab69047"
            ],
            "layout": "IPY_MODEL_e83ccc9866054c968e5c7e0dd9a99804"
          }
        },
        "6fbf6cf8070941d7ab4081c00e8ab47c": {
          "model_module": "@jupyter-widgets/controls",
          "model_name": "HTMLModel",
          "model_module_version": "1.5.0",
          "state": {
            "_dom_classes": [],
            "_model_module": "@jupyter-widgets/controls",
            "_model_module_version": "1.5.0",
            "_model_name": "HTMLModel",
            "_view_count": null,
            "_view_module": "@jupyter-widgets/controls",
            "_view_module_version": "1.5.0",
            "_view_name": "HTMLView",
            "description": "",
            "description_tooltip": null,
            "layout": "IPY_MODEL_652a0ddab1c64d238cf2e316af6ea918",
            "placeholder": "​",
            "style": "IPY_MODEL_3ace7163b5204a449783c7e0802f4f4f",
            "value": "<center> <img\nsrc=https://huggingface.co/front/assets/huggingface_logo-noborder.svg\nalt='Hugging Face'> <br> Copy a token from <a\nhref=\"https://huggingface.co/settings/tokens\" target=\"_blank\">your Hugging Face\ntokens page</a> and paste it below. <br> Immediately click login after copying\nyour token or it might be stored in plain text in this notebook file. </center>"
          }
        },
        "9569a96368264940b8e03eca62553f92": {
          "model_module": "@jupyter-widgets/controls",
          "model_name": "PasswordModel",
          "model_module_version": "1.5.0",
          "state": {
            "_dom_classes": [],
            "_model_module": "@jupyter-widgets/controls",
            "_model_module_version": "1.5.0",
            "_model_name": "PasswordModel",
            "_view_count": null,
            "_view_module": "@jupyter-widgets/controls",
            "_view_module_version": "1.5.0",
            "_view_name": "PasswordView",
            "continuous_update": true,
            "description": "Token:",
            "description_tooltip": null,
            "disabled": false,
            "layout": "IPY_MODEL_d537a205e4d14c1390c774b9e0aabac2",
            "placeholder": "​",
            "style": "IPY_MODEL_7f18415de17c428197c1845811851721",
            "value": ""
          }
        },
        "0bc71ed9da4e4e228ba92a96d4227cd7": {
          "model_module": "@jupyter-widgets/controls",
          "model_name": "CheckboxModel",
          "model_module_version": "1.5.0",
          "state": {
            "_dom_classes": [],
            "_model_module": "@jupyter-widgets/controls",
            "_model_module_version": "1.5.0",
            "_model_name": "CheckboxModel",
            "_view_count": null,
            "_view_module": "@jupyter-widgets/controls",
            "_view_module_version": "1.5.0",
            "_view_name": "CheckboxView",
            "description": "Add token as git credential?",
            "description_tooltip": null,
            "disabled": false,
            "indent": true,
            "layout": "IPY_MODEL_ab797390ed8940c3a79f348f56f04525",
            "style": "IPY_MODEL_9829354f07914182aaa61b6aa390eca7",
            "value": true
          }
        },
        "f2c5c2f2bf4a47b9a7f26b3347557cf3": {
          "model_module": "@jupyter-widgets/controls",
          "model_name": "ButtonModel",
          "model_module_version": "1.5.0",
          "state": {
            "_dom_classes": [],
            "_model_module": "@jupyter-widgets/controls",
            "_model_module_version": "1.5.0",
            "_model_name": "ButtonModel",
            "_view_count": null,
            "_view_module": "@jupyter-widgets/controls",
            "_view_module_version": "1.5.0",
            "_view_name": "ButtonView",
            "button_style": "",
            "description": "Login",
            "disabled": false,
            "icon": "",
            "layout": "IPY_MODEL_fd781e58b3274e94b7ce18a84e477782",
            "style": "IPY_MODEL_b8ee0701aa2d43d997d1841f53f85f54",
            "tooltip": ""
          }
        },
        "581793253ed0411b968d94bd1ab69047": {
          "model_module": "@jupyter-widgets/controls",
          "model_name": "HTMLModel",
          "model_module_version": "1.5.0",
          "state": {
            "_dom_classes": [],
            "_model_module": "@jupyter-widgets/controls",
            "_model_module_version": "1.5.0",
            "_model_name": "HTMLModel",
            "_view_count": null,
            "_view_module": "@jupyter-widgets/controls",
            "_view_module_version": "1.5.0",
            "_view_name": "HTMLView",
            "description": "",
            "description_tooltip": null,
            "layout": "IPY_MODEL_b1dd9a72381c458c9662436d58c0e3c8",
            "placeholder": "​",
            "style": "IPY_MODEL_fed56c5b8fd34495affc186c318eb166",
            "value": "\n<b>Pro Tip:</b> If you don't already have one, you can create a dedicated\n'notebooks' token with 'write' access, that you can then easily reuse for all\nnotebooks. </center>"
          }
        },
        "e83ccc9866054c968e5c7e0dd9a99804": {
          "model_module": "@jupyter-widgets/base",
          "model_name": "LayoutModel",
          "model_module_version": "1.2.0",
          "state": {
            "_model_module": "@jupyter-widgets/base",
            "_model_module_version": "1.2.0",
            "_model_name": "LayoutModel",
            "_view_count": null,
            "_view_module": "@jupyter-widgets/base",
            "_view_module_version": "1.2.0",
            "_view_name": "LayoutView",
            "align_content": null,
            "align_items": "center",
            "align_self": null,
            "border": null,
            "bottom": null,
            "display": "flex",
            "flex": null,
            "flex_flow": "column",
            "grid_area": null,
            "grid_auto_columns": null,
            "grid_auto_flow": null,
            "grid_auto_rows": null,
            "grid_column": null,
            "grid_gap": null,
            "grid_row": null,
            "grid_template_areas": null,
            "grid_template_columns": null,
            "grid_template_rows": null,
            "height": null,
            "justify_content": null,
            "justify_items": null,
            "left": null,
            "margin": null,
            "max_height": null,
            "max_width": null,
            "min_height": null,
            "min_width": null,
            "object_fit": null,
            "object_position": null,
            "order": null,
            "overflow": null,
            "overflow_x": null,
            "overflow_y": null,
            "padding": null,
            "right": null,
            "top": null,
            "visibility": null,
            "width": "50%"
          }
        },
        "652a0ddab1c64d238cf2e316af6ea918": {
          "model_module": "@jupyter-widgets/base",
          "model_name": "LayoutModel",
          "model_module_version": "1.2.0",
          "state": {
            "_model_module": "@jupyter-widgets/base",
            "_model_module_version": "1.2.0",
            "_model_name": "LayoutModel",
            "_view_count": null,
            "_view_module": "@jupyter-widgets/base",
            "_view_module_version": "1.2.0",
            "_view_name": "LayoutView",
            "align_content": null,
            "align_items": null,
            "align_self": null,
            "border": null,
            "bottom": null,
            "display": null,
            "flex": null,
            "flex_flow": null,
            "grid_area": null,
            "grid_auto_columns": null,
            "grid_auto_flow": null,
            "grid_auto_rows": null,
            "grid_column": null,
            "grid_gap": null,
            "grid_row": null,
            "grid_template_areas": null,
            "grid_template_columns": null,
            "grid_template_rows": null,
            "height": null,
            "justify_content": null,
            "justify_items": null,
            "left": null,
            "margin": null,
            "max_height": null,
            "max_width": null,
            "min_height": null,
            "min_width": null,
            "object_fit": null,
            "object_position": null,
            "order": null,
            "overflow": null,
            "overflow_x": null,
            "overflow_y": null,
            "padding": null,
            "right": null,
            "top": null,
            "visibility": null,
            "width": null
          }
        },
        "3ace7163b5204a449783c7e0802f4f4f": {
          "model_module": "@jupyter-widgets/controls",
          "model_name": "DescriptionStyleModel",
          "model_module_version": "1.5.0",
          "state": {
            "_model_module": "@jupyter-widgets/controls",
            "_model_module_version": "1.5.0",
            "_model_name": "DescriptionStyleModel",
            "_view_count": null,
            "_view_module": "@jupyter-widgets/base",
            "_view_module_version": "1.2.0",
            "_view_name": "StyleView",
            "description_width": ""
          }
        },
        "d537a205e4d14c1390c774b9e0aabac2": {
          "model_module": "@jupyter-widgets/base",
          "model_name": "LayoutModel",
          "model_module_version": "1.2.0",
          "state": {
            "_model_module": "@jupyter-widgets/base",
            "_model_module_version": "1.2.0",
            "_model_name": "LayoutModel",
            "_view_count": null,
            "_view_module": "@jupyter-widgets/base",
            "_view_module_version": "1.2.0",
            "_view_name": "LayoutView",
            "align_content": null,
            "align_items": null,
            "align_self": null,
            "border": null,
            "bottom": null,
            "display": null,
            "flex": null,
            "flex_flow": null,
            "grid_area": null,
            "grid_auto_columns": null,
            "grid_auto_flow": null,
            "grid_auto_rows": null,
            "grid_column": null,
            "grid_gap": null,
            "grid_row": null,
            "grid_template_areas": null,
            "grid_template_columns": null,
            "grid_template_rows": null,
            "height": null,
            "justify_content": null,
            "justify_items": null,
            "left": null,
            "margin": null,
            "max_height": null,
            "max_width": null,
            "min_height": null,
            "min_width": null,
            "object_fit": null,
            "object_position": null,
            "order": null,
            "overflow": null,
            "overflow_x": null,
            "overflow_y": null,
            "padding": null,
            "right": null,
            "top": null,
            "visibility": null,
            "width": null
          }
        },
        "7f18415de17c428197c1845811851721": {
          "model_module": "@jupyter-widgets/controls",
          "model_name": "DescriptionStyleModel",
          "model_module_version": "1.5.0",
          "state": {
            "_model_module": "@jupyter-widgets/controls",
            "_model_module_version": "1.5.0",
            "_model_name": "DescriptionStyleModel",
            "_view_count": null,
            "_view_module": "@jupyter-widgets/base",
            "_view_module_version": "1.2.0",
            "_view_name": "StyleView",
            "description_width": ""
          }
        },
        "ab797390ed8940c3a79f348f56f04525": {
          "model_module": "@jupyter-widgets/base",
          "model_name": "LayoutModel",
          "model_module_version": "1.2.0",
          "state": {
            "_model_module": "@jupyter-widgets/base",
            "_model_module_version": "1.2.0",
            "_model_name": "LayoutModel",
            "_view_count": null,
            "_view_module": "@jupyter-widgets/base",
            "_view_module_version": "1.2.0",
            "_view_name": "LayoutView",
            "align_content": null,
            "align_items": null,
            "align_self": null,
            "border": null,
            "bottom": null,
            "display": null,
            "flex": null,
            "flex_flow": null,
            "grid_area": null,
            "grid_auto_columns": null,
            "grid_auto_flow": null,
            "grid_auto_rows": null,
            "grid_column": null,
            "grid_gap": null,
            "grid_row": null,
            "grid_template_areas": null,
            "grid_template_columns": null,
            "grid_template_rows": null,
            "height": null,
            "justify_content": null,
            "justify_items": null,
            "left": null,
            "margin": null,
            "max_height": null,
            "max_width": null,
            "min_height": null,
            "min_width": null,
            "object_fit": null,
            "object_position": null,
            "order": null,
            "overflow": null,
            "overflow_x": null,
            "overflow_y": null,
            "padding": null,
            "right": null,
            "top": null,
            "visibility": null,
            "width": null
          }
        },
        "9829354f07914182aaa61b6aa390eca7": {
          "model_module": "@jupyter-widgets/controls",
          "model_name": "DescriptionStyleModel",
          "model_module_version": "1.5.0",
          "state": {
            "_model_module": "@jupyter-widgets/controls",
            "_model_module_version": "1.5.0",
            "_model_name": "DescriptionStyleModel",
            "_view_count": null,
            "_view_module": "@jupyter-widgets/base",
            "_view_module_version": "1.2.0",
            "_view_name": "StyleView",
            "description_width": ""
          }
        },
        "fd781e58b3274e94b7ce18a84e477782": {
          "model_module": "@jupyter-widgets/base",
          "model_name": "LayoutModel",
          "model_module_version": "1.2.0",
          "state": {
            "_model_module": "@jupyter-widgets/base",
            "_model_module_version": "1.2.0",
            "_model_name": "LayoutModel",
            "_view_count": null,
            "_view_module": "@jupyter-widgets/base",
            "_view_module_version": "1.2.0",
            "_view_name": "LayoutView",
            "align_content": null,
            "align_items": null,
            "align_self": null,
            "border": null,
            "bottom": null,
            "display": null,
            "flex": null,
            "flex_flow": null,
            "grid_area": null,
            "grid_auto_columns": null,
            "grid_auto_flow": null,
            "grid_auto_rows": null,
            "grid_column": null,
            "grid_gap": null,
            "grid_row": null,
            "grid_template_areas": null,
            "grid_template_columns": null,
            "grid_template_rows": null,
            "height": null,
            "justify_content": null,
            "justify_items": null,
            "left": null,
            "margin": null,
            "max_height": null,
            "max_width": null,
            "min_height": null,
            "min_width": null,
            "object_fit": null,
            "object_position": null,
            "order": null,
            "overflow": null,
            "overflow_x": null,
            "overflow_y": null,
            "padding": null,
            "right": null,
            "top": null,
            "visibility": null,
            "width": null
          }
        },
        "b8ee0701aa2d43d997d1841f53f85f54": {
          "model_module": "@jupyter-widgets/controls",
          "model_name": "ButtonStyleModel",
          "model_module_version": "1.5.0",
          "state": {
            "_model_module": "@jupyter-widgets/controls",
            "_model_module_version": "1.5.0",
            "_model_name": "ButtonStyleModel",
            "_view_count": null,
            "_view_module": "@jupyter-widgets/base",
            "_view_module_version": "1.2.0",
            "_view_name": "StyleView",
            "button_color": null,
            "font_weight": ""
          }
        },
        "b1dd9a72381c458c9662436d58c0e3c8": {
          "model_module": "@jupyter-widgets/base",
          "model_name": "LayoutModel",
          "model_module_version": "1.2.0",
          "state": {
            "_model_module": "@jupyter-widgets/base",
            "_model_module_version": "1.2.0",
            "_model_name": "LayoutModel",
            "_view_count": null,
            "_view_module": "@jupyter-widgets/base",
            "_view_module_version": "1.2.0",
            "_view_name": "LayoutView",
            "align_content": null,
            "align_items": null,
            "align_self": null,
            "border": null,
            "bottom": null,
            "display": null,
            "flex": null,
            "flex_flow": null,
            "grid_area": null,
            "grid_auto_columns": null,
            "grid_auto_flow": null,
            "grid_auto_rows": null,
            "grid_column": null,
            "grid_gap": null,
            "grid_row": null,
            "grid_template_areas": null,
            "grid_template_columns": null,
            "grid_template_rows": null,
            "height": null,
            "justify_content": null,
            "justify_items": null,
            "left": null,
            "margin": null,
            "max_height": null,
            "max_width": null,
            "min_height": null,
            "min_width": null,
            "object_fit": null,
            "object_position": null,
            "order": null,
            "overflow": null,
            "overflow_x": null,
            "overflow_y": null,
            "padding": null,
            "right": null,
            "top": null,
            "visibility": null,
            "width": null
          }
        },
        "fed56c5b8fd34495affc186c318eb166": {
          "model_module": "@jupyter-widgets/controls",
          "model_name": "DescriptionStyleModel",
          "model_module_version": "1.5.0",
          "state": {
            "_model_module": "@jupyter-widgets/controls",
            "_model_module_version": "1.5.0",
            "_model_name": "DescriptionStyleModel",
            "_view_count": null,
            "_view_module": "@jupyter-widgets/base",
            "_view_module_version": "1.2.0",
            "_view_name": "StyleView",
            "description_width": ""
          }
        },
        "43b482885b0d42c8874bd063bd50a436": {
          "model_module": "@jupyter-widgets/controls",
          "model_name": "HBoxModel",
          "model_module_version": "1.5.0",
          "state": {
            "_dom_classes": [],
            "_model_module": "@jupyter-widgets/controls",
            "_model_module_version": "1.5.0",
            "_model_name": "HBoxModel",
            "_view_count": null,
            "_view_module": "@jupyter-widgets/controls",
            "_view_module_version": "1.5.0",
            "_view_name": "HBoxView",
            "box_style": "",
            "children": [
              "IPY_MODEL_713ff37795a24c8e9be26bf956769776",
              "IPY_MODEL_13adb0f3ffdf4058baf09223eb9754b7",
              "IPY_MODEL_03f9795ed167468597272a43bc6c7929"
            ],
            "layout": "IPY_MODEL_e73873e9022b4aec876f7cea10dd069a"
          }
        },
        "713ff37795a24c8e9be26bf956769776": {
          "model_module": "@jupyter-widgets/controls",
          "model_name": "HTMLModel",
          "model_module_version": "1.5.0",
          "state": {
            "_dom_classes": [],
            "_model_module": "@jupyter-widgets/controls",
            "_model_module_version": "1.5.0",
            "_model_name": "HTMLModel",
            "_view_count": null,
            "_view_module": "@jupyter-widgets/controls",
            "_view_module_version": "1.5.0",
            "_view_name": "HTMLView",
            "description": "",
            "description_tooltip": null,
            "layout": "IPY_MODEL_7872d4968ec94a77bb003ab78941cc8e",
            "placeholder": "​",
            "style": "IPY_MODEL_56dd1b6064744a8ea9fbb37686f8887f",
            "value": "Map:  98%"
          }
        },
        "13adb0f3ffdf4058baf09223eb9754b7": {
          "model_module": "@jupyter-widgets/controls",
          "model_name": "FloatProgressModel",
          "model_module_version": "1.5.0",
          "state": {
            "_dom_classes": [],
            "_model_module": "@jupyter-widgets/controls",
            "_model_module_version": "1.5.0",
            "_model_name": "FloatProgressModel",
            "_view_count": null,
            "_view_module": "@jupyter-widgets/controls",
            "_view_module_version": "1.5.0",
            "_view_name": "ProgressView",
            "bar_style": "",
            "description": "",
            "description_tooltip": null,
            "layout": "IPY_MODEL_e0836a9ed38744378146ed2dba6e6ca3",
            "max": 2000,
            "min": 0,
            "orientation": "horizontal",
            "style": "IPY_MODEL_33a125b3c7444df493b1ff4e94487c0a",
            "value": 2000
          }
        },
        "03f9795ed167468597272a43bc6c7929": {
          "model_module": "@jupyter-widgets/controls",
          "model_name": "HTMLModel",
          "model_module_version": "1.5.0",
          "state": {
            "_dom_classes": [],
            "_model_module": "@jupyter-widgets/controls",
            "_model_module_version": "1.5.0",
            "_model_name": "HTMLModel",
            "_view_count": null,
            "_view_module": "@jupyter-widgets/controls",
            "_view_module_version": "1.5.0",
            "_view_name": "HTMLView",
            "description": "",
            "description_tooltip": null,
            "layout": "IPY_MODEL_4f3f4771ba554f6f8637b1a4ec819504",
            "placeholder": "​",
            "style": "IPY_MODEL_c1d9bd09f14f4eab907360f5c36da506",
            "value": " 1968/2000 [00:04&lt;00:00, 449.16 examples/s]"
          }
        },
        "e73873e9022b4aec876f7cea10dd069a": {
          "model_module": "@jupyter-widgets/base",
          "model_name": "LayoutModel",
          "model_module_version": "1.2.0",
          "state": {
            "_model_module": "@jupyter-widgets/base",
            "_model_module_version": "1.2.0",
            "_model_name": "LayoutModel",
            "_view_count": null,
            "_view_module": "@jupyter-widgets/base",
            "_view_module_version": "1.2.0",
            "_view_name": "LayoutView",
            "align_content": null,
            "align_items": null,
            "align_self": null,
            "border": null,
            "bottom": null,
            "display": null,
            "flex": null,
            "flex_flow": null,
            "grid_area": null,
            "grid_auto_columns": null,
            "grid_auto_flow": null,
            "grid_auto_rows": null,
            "grid_column": null,
            "grid_gap": null,
            "grid_row": null,
            "grid_template_areas": null,
            "grid_template_columns": null,
            "grid_template_rows": null,
            "height": null,
            "justify_content": null,
            "justify_items": null,
            "left": null,
            "margin": null,
            "max_height": null,
            "max_width": null,
            "min_height": null,
            "min_width": null,
            "object_fit": null,
            "object_position": null,
            "order": null,
            "overflow": null,
            "overflow_x": null,
            "overflow_y": null,
            "padding": null,
            "right": null,
            "top": null,
            "visibility": "hidden",
            "width": null
          }
        },
        "7872d4968ec94a77bb003ab78941cc8e": {
          "model_module": "@jupyter-widgets/base",
          "model_name": "LayoutModel",
          "model_module_version": "1.2.0",
          "state": {
            "_model_module": "@jupyter-widgets/base",
            "_model_module_version": "1.2.0",
            "_model_name": "LayoutModel",
            "_view_count": null,
            "_view_module": "@jupyter-widgets/base",
            "_view_module_version": "1.2.0",
            "_view_name": "LayoutView",
            "align_content": null,
            "align_items": null,
            "align_self": null,
            "border": null,
            "bottom": null,
            "display": null,
            "flex": null,
            "flex_flow": null,
            "grid_area": null,
            "grid_auto_columns": null,
            "grid_auto_flow": null,
            "grid_auto_rows": null,
            "grid_column": null,
            "grid_gap": null,
            "grid_row": null,
            "grid_template_areas": null,
            "grid_template_columns": null,
            "grid_template_rows": null,
            "height": null,
            "justify_content": null,
            "justify_items": null,
            "left": null,
            "margin": null,
            "max_height": null,
            "max_width": null,
            "min_height": null,
            "min_width": null,
            "object_fit": null,
            "object_position": null,
            "order": null,
            "overflow": null,
            "overflow_x": null,
            "overflow_y": null,
            "padding": null,
            "right": null,
            "top": null,
            "visibility": null,
            "width": null
          }
        },
        "56dd1b6064744a8ea9fbb37686f8887f": {
          "model_module": "@jupyter-widgets/controls",
          "model_name": "DescriptionStyleModel",
          "model_module_version": "1.5.0",
          "state": {
            "_model_module": "@jupyter-widgets/controls",
            "_model_module_version": "1.5.0",
            "_model_name": "DescriptionStyleModel",
            "_view_count": null,
            "_view_module": "@jupyter-widgets/base",
            "_view_module_version": "1.2.0",
            "_view_name": "StyleView",
            "description_width": ""
          }
        },
        "e0836a9ed38744378146ed2dba6e6ca3": {
          "model_module": "@jupyter-widgets/base",
          "model_name": "LayoutModel",
          "model_module_version": "1.2.0",
          "state": {
            "_model_module": "@jupyter-widgets/base",
            "_model_module_version": "1.2.0",
            "_model_name": "LayoutModel",
            "_view_count": null,
            "_view_module": "@jupyter-widgets/base",
            "_view_module_version": "1.2.0",
            "_view_name": "LayoutView",
            "align_content": null,
            "align_items": null,
            "align_self": null,
            "border": null,
            "bottom": null,
            "display": null,
            "flex": null,
            "flex_flow": null,
            "grid_area": null,
            "grid_auto_columns": null,
            "grid_auto_flow": null,
            "grid_auto_rows": null,
            "grid_column": null,
            "grid_gap": null,
            "grid_row": null,
            "grid_template_areas": null,
            "grid_template_columns": null,
            "grid_template_rows": null,
            "height": null,
            "justify_content": null,
            "justify_items": null,
            "left": null,
            "margin": null,
            "max_height": null,
            "max_width": null,
            "min_height": null,
            "min_width": null,
            "object_fit": null,
            "object_position": null,
            "order": null,
            "overflow": null,
            "overflow_x": null,
            "overflow_y": null,
            "padding": null,
            "right": null,
            "top": null,
            "visibility": null,
            "width": null
          }
        },
        "33a125b3c7444df493b1ff4e94487c0a": {
          "model_module": "@jupyter-widgets/controls",
          "model_name": "ProgressStyleModel",
          "model_module_version": "1.5.0",
          "state": {
            "_model_module": "@jupyter-widgets/controls",
            "_model_module_version": "1.5.0",
            "_model_name": "ProgressStyleModel",
            "_view_count": null,
            "_view_module": "@jupyter-widgets/base",
            "_view_module_version": "1.2.0",
            "_view_name": "StyleView",
            "bar_color": null,
            "description_width": ""
          }
        },
        "4f3f4771ba554f6f8637b1a4ec819504": {
          "model_module": "@jupyter-widgets/base",
          "model_name": "LayoutModel",
          "model_module_version": "1.2.0",
          "state": {
            "_model_module": "@jupyter-widgets/base",
            "_model_module_version": "1.2.0",
            "_model_name": "LayoutModel",
            "_view_count": null,
            "_view_module": "@jupyter-widgets/base",
            "_view_module_version": "1.2.0",
            "_view_name": "LayoutView",
            "align_content": null,
            "align_items": null,
            "align_self": null,
            "border": null,
            "bottom": null,
            "display": null,
            "flex": null,
            "flex_flow": null,
            "grid_area": null,
            "grid_auto_columns": null,
            "grid_auto_flow": null,
            "grid_auto_rows": null,
            "grid_column": null,
            "grid_gap": null,
            "grid_row": null,
            "grid_template_areas": null,
            "grid_template_columns": null,
            "grid_template_rows": null,
            "height": null,
            "justify_content": null,
            "justify_items": null,
            "left": null,
            "margin": null,
            "max_height": null,
            "max_width": null,
            "min_height": null,
            "min_width": null,
            "object_fit": null,
            "object_position": null,
            "order": null,
            "overflow": null,
            "overflow_x": null,
            "overflow_y": null,
            "padding": null,
            "right": null,
            "top": null,
            "visibility": null,
            "width": null
          }
        },
        "c1d9bd09f14f4eab907360f5c36da506": {
          "model_module": "@jupyter-widgets/controls",
          "model_name": "DescriptionStyleModel",
          "model_module_version": "1.5.0",
          "state": {
            "_model_module": "@jupyter-widgets/controls",
            "_model_module_version": "1.5.0",
            "_model_name": "DescriptionStyleModel",
            "_view_count": null,
            "_view_module": "@jupyter-widgets/base",
            "_view_module_version": "1.2.0",
            "_view_name": "StyleView",
            "description_width": ""
          }
        },
        "4779539df7674373a0995c39661a1a0e": {
          "model_module": "@jupyter-widgets/controls",
          "model_name": "HBoxModel",
          "model_module_version": "1.5.0",
          "state": {
            "_dom_classes": [],
            "_model_module": "@jupyter-widgets/controls",
            "_model_module_version": "1.5.0",
            "_model_name": "HBoxModel",
            "_view_count": null,
            "_view_module": "@jupyter-widgets/controls",
            "_view_module_version": "1.5.0",
            "_view_name": "HBoxView",
            "box_style": "",
            "children": [
              "IPY_MODEL_e21ff9681e11451cab1659e06111c7a2",
              "IPY_MODEL_9b69b4d3adaa47979c011e761fa5f157",
              "IPY_MODEL_d58674d6639347a3a5dd082c0acf06ab"
            ],
            "layout": "IPY_MODEL_85eddd0ac5df4dfea8da94287d2001f0"
          }
        },
        "e21ff9681e11451cab1659e06111c7a2": {
          "model_module": "@jupyter-widgets/controls",
          "model_name": "HTMLModel",
          "model_module_version": "1.5.0",
          "state": {
            "_dom_classes": [],
            "_model_module": "@jupyter-widgets/controls",
            "_model_module_version": "1.5.0",
            "_model_name": "HTMLModel",
            "_view_count": null,
            "_view_module": "@jupyter-widgets/controls",
            "_view_module_version": "1.5.0",
            "_view_name": "HTMLView",
            "description": "",
            "description_tooltip": null,
            "layout": "IPY_MODEL_3576590a2012466aaa1bfb4e867cbd53",
            "placeholder": "​",
            "style": "IPY_MODEL_d0c48b48d2604a8db089f9811e7a81c7",
            "value": "Upload file pytorch_model.bin: 100%"
          }
        },
        "9b69b4d3adaa47979c011e761fa5f157": {
          "model_module": "@jupyter-widgets/controls",
          "model_name": "FloatProgressModel",
          "model_module_version": "1.5.0",
          "state": {
            "_dom_classes": [],
            "_model_module": "@jupyter-widgets/controls",
            "_model_module_version": "1.5.0",
            "_model_name": "FloatProgressModel",
            "_view_count": null,
            "_view_module": "@jupyter-widgets/controls",
            "_view_module_version": "1.5.0",
            "_view_name": "ProgressView",
            "bar_style": "success",
            "description": "",
            "description_tooltip": null,
            "layout": "IPY_MODEL_e8c0e3b8de404ad9822b2af932345023",
            "max": 267867821,
            "min": 0,
            "orientation": "horizontal",
            "style": "IPY_MODEL_7975196b4de44437bebaeb1ff7fd441e",
            "value": 267867821
          }
        },
        "d58674d6639347a3a5dd082c0acf06ab": {
          "model_module": "@jupyter-widgets/controls",
          "model_name": "HTMLModel",
          "model_module_version": "1.5.0",
          "state": {
            "_dom_classes": [],
            "_model_module": "@jupyter-widgets/controls",
            "_model_module_version": "1.5.0",
            "_model_name": "HTMLModel",
            "_view_count": null,
            "_view_module": "@jupyter-widgets/controls",
            "_view_module_version": "1.5.0",
            "_view_name": "HTMLView",
            "description": "",
            "description_tooltip": null,
            "layout": "IPY_MODEL_f93dcc04ada3421cb9bd2306feec9e9c",
            "placeholder": "​",
            "style": "IPY_MODEL_fe39a36f3d134939878bd3092cea5563",
            "value": " 255M/255M [01:01&lt;00:00, 27.6MB/s]"
          }
        },
        "85eddd0ac5df4dfea8da94287d2001f0": {
          "model_module": "@jupyter-widgets/base",
          "model_name": "LayoutModel",
          "model_module_version": "1.2.0",
          "state": {
            "_model_module": "@jupyter-widgets/base",
            "_model_module_version": "1.2.0",
            "_model_name": "LayoutModel",
            "_view_count": null,
            "_view_module": "@jupyter-widgets/base",
            "_view_module_version": "1.2.0",
            "_view_name": "LayoutView",
            "align_content": null,
            "align_items": null,
            "align_self": null,
            "border": null,
            "bottom": null,
            "display": null,
            "flex": null,
            "flex_flow": null,
            "grid_area": null,
            "grid_auto_columns": null,
            "grid_auto_flow": null,
            "grid_auto_rows": null,
            "grid_column": null,
            "grid_gap": null,
            "grid_row": null,
            "grid_template_areas": null,
            "grid_template_columns": null,
            "grid_template_rows": null,
            "height": null,
            "justify_content": null,
            "justify_items": null,
            "left": null,
            "margin": null,
            "max_height": null,
            "max_width": null,
            "min_height": null,
            "min_width": null,
            "object_fit": null,
            "object_position": null,
            "order": null,
            "overflow": null,
            "overflow_x": null,
            "overflow_y": null,
            "padding": null,
            "right": null,
            "top": null,
            "visibility": null,
            "width": null
          }
        },
        "3576590a2012466aaa1bfb4e867cbd53": {
          "model_module": "@jupyter-widgets/base",
          "model_name": "LayoutModel",
          "model_module_version": "1.2.0",
          "state": {
            "_model_module": "@jupyter-widgets/base",
            "_model_module_version": "1.2.0",
            "_model_name": "LayoutModel",
            "_view_count": null,
            "_view_module": "@jupyter-widgets/base",
            "_view_module_version": "1.2.0",
            "_view_name": "LayoutView",
            "align_content": null,
            "align_items": null,
            "align_self": null,
            "border": null,
            "bottom": null,
            "display": null,
            "flex": null,
            "flex_flow": null,
            "grid_area": null,
            "grid_auto_columns": null,
            "grid_auto_flow": null,
            "grid_auto_rows": null,
            "grid_column": null,
            "grid_gap": null,
            "grid_row": null,
            "grid_template_areas": null,
            "grid_template_columns": null,
            "grid_template_rows": null,
            "height": null,
            "justify_content": null,
            "justify_items": null,
            "left": null,
            "margin": null,
            "max_height": null,
            "max_width": null,
            "min_height": null,
            "min_width": null,
            "object_fit": null,
            "object_position": null,
            "order": null,
            "overflow": null,
            "overflow_x": null,
            "overflow_y": null,
            "padding": null,
            "right": null,
            "top": null,
            "visibility": null,
            "width": null
          }
        },
        "d0c48b48d2604a8db089f9811e7a81c7": {
          "model_module": "@jupyter-widgets/controls",
          "model_name": "DescriptionStyleModel",
          "model_module_version": "1.5.0",
          "state": {
            "_model_module": "@jupyter-widgets/controls",
            "_model_module_version": "1.5.0",
            "_model_name": "DescriptionStyleModel",
            "_view_count": null,
            "_view_module": "@jupyter-widgets/base",
            "_view_module_version": "1.2.0",
            "_view_name": "StyleView",
            "description_width": ""
          }
        },
        "e8c0e3b8de404ad9822b2af932345023": {
          "model_module": "@jupyter-widgets/base",
          "model_name": "LayoutModel",
          "model_module_version": "1.2.0",
          "state": {
            "_model_module": "@jupyter-widgets/base",
            "_model_module_version": "1.2.0",
            "_model_name": "LayoutModel",
            "_view_count": null,
            "_view_module": "@jupyter-widgets/base",
            "_view_module_version": "1.2.0",
            "_view_name": "LayoutView",
            "align_content": null,
            "align_items": null,
            "align_self": null,
            "border": null,
            "bottom": null,
            "display": null,
            "flex": null,
            "flex_flow": null,
            "grid_area": null,
            "grid_auto_columns": null,
            "grid_auto_flow": null,
            "grid_auto_rows": null,
            "grid_column": null,
            "grid_gap": null,
            "grid_row": null,
            "grid_template_areas": null,
            "grid_template_columns": null,
            "grid_template_rows": null,
            "height": null,
            "justify_content": null,
            "justify_items": null,
            "left": null,
            "margin": null,
            "max_height": null,
            "max_width": null,
            "min_height": null,
            "min_width": null,
            "object_fit": null,
            "object_position": null,
            "order": null,
            "overflow": null,
            "overflow_x": null,
            "overflow_y": null,
            "padding": null,
            "right": null,
            "top": null,
            "visibility": null,
            "width": null
          }
        },
        "7975196b4de44437bebaeb1ff7fd441e": {
          "model_module": "@jupyter-widgets/controls",
          "model_name": "ProgressStyleModel",
          "model_module_version": "1.5.0",
          "state": {
            "_model_module": "@jupyter-widgets/controls",
            "_model_module_version": "1.5.0",
            "_model_name": "ProgressStyleModel",
            "_view_count": null,
            "_view_module": "@jupyter-widgets/base",
            "_view_module_version": "1.2.0",
            "_view_name": "StyleView",
            "bar_color": null,
            "description_width": ""
          }
        },
        "f93dcc04ada3421cb9bd2306feec9e9c": {
          "model_module": "@jupyter-widgets/base",
          "model_name": "LayoutModel",
          "model_module_version": "1.2.0",
          "state": {
            "_model_module": "@jupyter-widgets/base",
            "_model_module_version": "1.2.0",
            "_model_name": "LayoutModel",
            "_view_count": null,
            "_view_module": "@jupyter-widgets/base",
            "_view_module_version": "1.2.0",
            "_view_name": "LayoutView",
            "align_content": null,
            "align_items": null,
            "align_self": null,
            "border": null,
            "bottom": null,
            "display": null,
            "flex": null,
            "flex_flow": null,
            "grid_area": null,
            "grid_auto_columns": null,
            "grid_auto_flow": null,
            "grid_auto_rows": null,
            "grid_column": null,
            "grid_gap": null,
            "grid_row": null,
            "grid_template_areas": null,
            "grid_template_columns": null,
            "grid_template_rows": null,
            "height": null,
            "justify_content": null,
            "justify_items": null,
            "left": null,
            "margin": null,
            "max_height": null,
            "max_width": null,
            "min_height": null,
            "min_width": null,
            "object_fit": null,
            "object_position": null,
            "order": null,
            "overflow": null,
            "overflow_x": null,
            "overflow_y": null,
            "padding": null,
            "right": null,
            "top": null,
            "visibility": null,
            "width": null
          }
        },
        "fe39a36f3d134939878bd3092cea5563": {
          "model_module": "@jupyter-widgets/controls",
          "model_name": "DescriptionStyleModel",
          "model_module_version": "1.5.0",
          "state": {
            "_model_module": "@jupyter-widgets/controls",
            "_model_module_version": "1.5.0",
            "_model_name": "DescriptionStyleModel",
            "_view_count": null,
            "_view_module": "@jupyter-widgets/base",
            "_view_module_version": "1.2.0",
            "_view_name": "StyleView",
            "description_width": ""
          }
        },
        "38dcb2ca505d492c95e68dd2d4542625": {
          "model_module": "@jupyter-widgets/controls",
          "model_name": "HBoxModel",
          "model_module_version": "1.5.0",
          "state": {
            "_dom_classes": [],
            "_model_module": "@jupyter-widgets/controls",
            "_model_module_version": "1.5.0",
            "_model_name": "HBoxModel",
            "_view_count": null,
            "_view_module": "@jupyter-widgets/controls",
            "_view_module_version": "1.5.0",
            "_view_name": "HBoxView",
            "box_style": "",
            "children": [
              "IPY_MODEL_9c6f86afe18d4b8cb38fcbb2859bc845",
              "IPY_MODEL_0330d7b3d2d340b99b70707ca34b2bb8",
              "IPY_MODEL_bbc09681af224c0595324325b913872e"
            ],
            "layout": "IPY_MODEL_9acf5ed84b6e4899aee90f52ad7f8b43"
          }
        },
        "9c6f86afe18d4b8cb38fcbb2859bc845": {
          "model_module": "@jupyter-widgets/controls",
          "model_name": "HTMLModel",
          "model_module_version": "1.5.0",
          "state": {
            "_dom_classes": [],
            "_model_module": "@jupyter-widgets/controls",
            "_model_module_version": "1.5.0",
            "_model_name": "HTMLModel",
            "_view_count": null,
            "_view_module": "@jupyter-widgets/controls",
            "_view_module_version": "1.5.0",
            "_view_name": "HTMLView",
            "description": "",
            "description_tooltip": null,
            "layout": "IPY_MODEL_a0bc4a317e3840d8843eeec93d301480",
            "placeholder": "​",
            "style": "IPY_MODEL_5116dcfc543f4bdba8027cb544bcd9c1",
            "value": "Upload file runs/Jul16_14-52-59_f4bcdd856230/events.out.tfevents.1689519183.f4bcdd856230.12277.0: 100%"
          }
        },
        "0330d7b3d2d340b99b70707ca34b2bb8": {
          "model_module": "@jupyter-widgets/controls",
          "model_name": "FloatProgressModel",
          "model_module_version": "1.5.0",
          "state": {
            "_dom_classes": [],
            "_model_module": "@jupyter-widgets/controls",
            "_model_module_version": "1.5.0",
            "_model_name": "FloatProgressModel",
            "_view_count": null,
            "_view_module": "@jupyter-widgets/controls",
            "_view_module_version": "1.5.0",
            "_view_name": "ProgressView",
            "bar_style": "success",
            "description": "",
            "description_tooltip": null,
            "layout": "IPY_MODEL_d209e609e12f45bfbc742e5d3a6b560d",
            "max": 5642,
            "min": 0,
            "orientation": "horizontal",
            "style": "IPY_MODEL_69bec66c236141a2aeabd48fadf66335",
            "value": 5642
          }
        },
        "bbc09681af224c0595324325b913872e": {
          "model_module": "@jupyter-widgets/controls",
          "model_name": "HTMLModel",
          "model_module_version": "1.5.0",
          "state": {
            "_dom_classes": [],
            "_model_module": "@jupyter-widgets/controls",
            "_model_module_version": "1.5.0",
            "_model_name": "HTMLModel",
            "_view_count": null,
            "_view_module": "@jupyter-widgets/controls",
            "_view_module_version": "1.5.0",
            "_view_name": "HTMLView",
            "description": "",
            "description_tooltip": null,
            "layout": "IPY_MODEL_05e66a546bfb4749ac796acbb0faa23a",
            "placeholder": "​",
            "style": "IPY_MODEL_e89f488c4cb24555a669843376cbff54",
            "value": " 5.51k/5.51k [01:01&lt;00:00, 262kB/s]"
          }
        },
        "9acf5ed84b6e4899aee90f52ad7f8b43": {
          "model_module": "@jupyter-widgets/base",
          "model_name": "LayoutModel",
          "model_module_version": "1.2.0",
          "state": {
            "_model_module": "@jupyter-widgets/base",
            "_model_module_version": "1.2.0",
            "_model_name": "LayoutModel",
            "_view_count": null,
            "_view_module": "@jupyter-widgets/base",
            "_view_module_version": "1.2.0",
            "_view_name": "LayoutView",
            "align_content": null,
            "align_items": null,
            "align_self": null,
            "border": null,
            "bottom": null,
            "display": null,
            "flex": null,
            "flex_flow": null,
            "grid_area": null,
            "grid_auto_columns": null,
            "grid_auto_flow": null,
            "grid_auto_rows": null,
            "grid_column": null,
            "grid_gap": null,
            "grid_row": null,
            "grid_template_areas": null,
            "grid_template_columns": null,
            "grid_template_rows": null,
            "height": null,
            "justify_content": null,
            "justify_items": null,
            "left": null,
            "margin": null,
            "max_height": null,
            "max_width": null,
            "min_height": null,
            "min_width": null,
            "object_fit": null,
            "object_position": null,
            "order": null,
            "overflow": null,
            "overflow_x": null,
            "overflow_y": null,
            "padding": null,
            "right": null,
            "top": null,
            "visibility": null,
            "width": null
          }
        },
        "a0bc4a317e3840d8843eeec93d301480": {
          "model_module": "@jupyter-widgets/base",
          "model_name": "LayoutModel",
          "model_module_version": "1.2.0",
          "state": {
            "_model_module": "@jupyter-widgets/base",
            "_model_module_version": "1.2.0",
            "_model_name": "LayoutModel",
            "_view_count": null,
            "_view_module": "@jupyter-widgets/base",
            "_view_module_version": "1.2.0",
            "_view_name": "LayoutView",
            "align_content": null,
            "align_items": null,
            "align_self": null,
            "border": null,
            "bottom": null,
            "display": null,
            "flex": null,
            "flex_flow": null,
            "grid_area": null,
            "grid_auto_columns": null,
            "grid_auto_flow": null,
            "grid_auto_rows": null,
            "grid_column": null,
            "grid_gap": null,
            "grid_row": null,
            "grid_template_areas": null,
            "grid_template_columns": null,
            "grid_template_rows": null,
            "height": null,
            "justify_content": null,
            "justify_items": null,
            "left": null,
            "margin": null,
            "max_height": null,
            "max_width": null,
            "min_height": null,
            "min_width": null,
            "object_fit": null,
            "object_position": null,
            "order": null,
            "overflow": null,
            "overflow_x": null,
            "overflow_y": null,
            "padding": null,
            "right": null,
            "top": null,
            "visibility": null,
            "width": null
          }
        },
        "5116dcfc543f4bdba8027cb544bcd9c1": {
          "model_module": "@jupyter-widgets/controls",
          "model_name": "DescriptionStyleModel",
          "model_module_version": "1.5.0",
          "state": {
            "_model_module": "@jupyter-widgets/controls",
            "_model_module_version": "1.5.0",
            "_model_name": "DescriptionStyleModel",
            "_view_count": null,
            "_view_module": "@jupyter-widgets/base",
            "_view_module_version": "1.2.0",
            "_view_name": "StyleView",
            "description_width": ""
          }
        },
        "d209e609e12f45bfbc742e5d3a6b560d": {
          "model_module": "@jupyter-widgets/base",
          "model_name": "LayoutModel",
          "model_module_version": "1.2.0",
          "state": {
            "_model_module": "@jupyter-widgets/base",
            "_model_module_version": "1.2.0",
            "_model_name": "LayoutModel",
            "_view_count": null,
            "_view_module": "@jupyter-widgets/base",
            "_view_module_version": "1.2.0",
            "_view_name": "LayoutView",
            "align_content": null,
            "align_items": null,
            "align_self": null,
            "border": null,
            "bottom": null,
            "display": null,
            "flex": null,
            "flex_flow": null,
            "grid_area": null,
            "grid_auto_columns": null,
            "grid_auto_flow": null,
            "grid_auto_rows": null,
            "grid_column": null,
            "grid_gap": null,
            "grid_row": null,
            "grid_template_areas": null,
            "grid_template_columns": null,
            "grid_template_rows": null,
            "height": null,
            "justify_content": null,
            "justify_items": null,
            "left": null,
            "margin": null,
            "max_height": null,
            "max_width": null,
            "min_height": null,
            "min_width": null,
            "object_fit": null,
            "object_position": null,
            "order": null,
            "overflow": null,
            "overflow_x": null,
            "overflow_y": null,
            "padding": null,
            "right": null,
            "top": null,
            "visibility": null,
            "width": null
          }
        },
        "69bec66c236141a2aeabd48fadf66335": {
          "model_module": "@jupyter-widgets/controls",
          "model_name": "ProgressStyleModel",
          "model_module_version": "1.5.0",
          "state": {
            "_model_module": "@jupyter-widgets/controls",
            "_model_module_version": "1.5.0",
            "_model_name": "ProgressStyleModel",
            "_view_count": null,
            "_view_module": "@jupyter-widgets/base",
            "_view_module_version": "1.2.0",
            "_view_name": "StyleView",
            "bar_color": null,
            "description_width": ""
          }
        },
        "05e66a546bfb4749ac796acbb0faa23a": {
          "model_module": "@jupyter-widgets/base",
          "model_name": "LayoutModel",
          "model_module_version": "1.2.0",
          "state": {
            "_model_module": "@jupyter-widgets/base",
            "_model_module_version": "1.2.0",
            "_model_name": "LayoutModel",
            "_view_count": null,
            "_view_module": "@jupyter-widgets/base",
            "_view_module_version": "1.2.0",
            "_view_name": "LayoutView",
            "align_content": null,
            "align_items": null,
            "align_self": null,
            "border": null,
            "bottom": null,
            "display": null,
            "flex": null,
            "flex_flow": null,
            "grid_area": null,
            "grid_auto_columns": null,
            "grid_auto_flow": null,
            "grid_auto_rows": null,
            "grid_column": null,
            "grid_gap": null,
            "grid_row": null,
            "grid_template_areas": null,
            "grid_template_columns": null,
            "grid_template_rows": null,
            "height": null,
            "justify_content": null,
            "justify_items": null,
            "left": null,
            "margin": null,
            "max_height": null,
            "max_width": null,
            "min_height": null,
            "min_width": null,
            "object_fit": null,
            "object_position": null,
            "order": null,
            "overflow": null,
            "overflow_x": null,
            "overflow_y": null,
            "padding": null,
            "right": null,
            "top": null,
            "visibility": null,
            "width": null
          }
        },
        "e89f488c4cb24555a669843376cbff54": {
          "model_module": "@jupyter-widgets/controls",
          "model_name": "DescriptionStyleModel",
          "model_module_version": "1.5.0",
          "state": {
            "_model_module": "@jupyter-widgets/controls",
            "_model_module_version": "1.5.0",
            "_model_name": "DescriptionStyleModel",
            "_view_count": null,
            "_view_module": "@jupyter-widgets/base",
            "_view_module_version": "1.2.0",
            "_view_name": "StyleView",
            "description_width": ""
          }
        },
        "739a2cb94fa545eda80e71eb90c02d24": {
          "model_module": "@jupyter-widgets/controls",
          "model_name": "HBoxModel",
          "model_module_version": "1.5.0",
          "state": {
            "_dom_classes": [],
            "_model_module": "@jupyter-widgets/controls",
            "_model_module_version": "1.5.0",
            "_model_name": "HBoxModel",
            "_view_count": null,
            "_view_module": "@jupyter-widgets/controls",
            "_view_module_version": "1.5.0",
            "_view_name": "HBoxView",
            "box_style": "",
            "children": [
              "IPY_MODEL_112cc50c73734f519ebe2dfa883d5aeb",
              "IPY_MODEL_351c760ea72742a4816f1e49dedc7747",
              "IPY_MODEL_f251958c488149d1af5db22d7bbdc99a"
            ],
            "layout": "IPY_MODEL_8cb80e6ee45f486286bfe98b55c61b0f"
          }
        },
        "112cc50c73734f519ebe2dfa883d5aeb": {
          "model_module": "@jupyter-widgets/controls",
          "model_name": "HTMLModel",
          "model_module_version": "1.5.0",
          "state": {
            "_dom_classes": [],
            "_model_module": "@jupyter-widgets/controls",
            "_model_module_version": "1.5.0",
            "_model_name": "HTMLModel",
            "_view_count": null,
            "_view_module": "@jupyter-widgets/controls",
            "_view_module_version": "1.5.0",
            "_view_name": "HTMLView",
            "description": "",
            "description_tooltip": null,
            "layout": "IPY_MODEL_25254c3aca8b41068bc47f277e9e259c",
            "placeholder": "​",
            "style": "IPY_MODEL_a4f6d9e7c85643c39a23f6be06ba2d6a",
            "value": "Downloading (…)solve/main/vocab.txt: 100%"
          }
        },
        "351c760ea72742a4816f1e49dedc7747": {
          "model_module": "@jupyter-widgets/controls",
          "model_name": "FloatProgressModel",
          "model_module_version": "1.5.0",
          "state": {
            "_dom_classes": [],
            "_model_module": "@jupyter-widgets/controls",
            "_model_module_version": "1.5.0",
            "_model_name": "FloatProgressModel",
            "_view_count": null,
            "_view_module": "@jupyter-widgets/controls",
            "_view_module_version": "1.5.0",
            "_view_name": "ProgressView",
            "bar_style": "success",
            "description": "",
            "description_tooltip": null,
            "layout": "IPY_MODEL_b3081e2358b0415fa3846b3c3ed69716",
            "max": 231508,
            "min": 0,
            "orientation": "horizontal",
            "style": "IPY_MODEL_b23364a69a1c4e068fd062bd991f5650",
            "value": 231508
          }
        },
        "f251958c488149d1af5db22d7bbdc99a": {
          "model_module": "@jupyter-widgets/controls",
          "model_name": "HTMLModel",
          "model_module_version": "1.5.0",
          "state": {
            "_dom_classes": [],
            "_model_module": "@jupyter-widgets/controls",
            "_model_module_version": "1.5.0",
            "_model_name": "HTMLModel",
            "_view_count": null,
            "_view_module": "@jupyter-widgets/controls",
            "_view_module_version": "1.5.0",
            "_view_name": "HTMLView",
            "description": "",
            "description_tooltip": null,
            "layout": "IPY_MODEL_5c4d2d54dd3242c6944c2b4f4806e36f",
            "placeholder": "​",
            "style": "IPY_MODEL_ec89da14f729438caf5b9a23bbd72b19",
            "value": " 232k/232k [00:00&lt;00:00, 1.25MB/s]"
          }
        },
        "8cb80e6ee45f486286bfe98b55c61b0f": {
          "model_module": "@jupyter-widgets/base",
          "model_name": "LayoutModel",
          "model_module_version": "1.2.0",
          "state": {
            "_model_module": "@jupyter-widgets/base",
            "_model_module_version": "1.2.0",
            "_model_name": "LayoutModel",
            "_view_count": null,
            "_view_module": "@jupyter-widgets/base",
            "_view_module_version": "1.2.0",
            "_view_name": "LayoutView",
            "align_content": null,
            "align_items": null,
            "align_self": null,
            "border": null,
            "bottom": null,
            "display": null,
            "flex": null,
            "flex_flow": null,
            "grid_area": null,
            "grid_auto_columns": null,
            "grid_auto_flow": null,
            "grid_auto_rows": null,
            "grid_column": null,
            "grid_gap": null,
            "grid_row": null,
            "grid_template_areas": null,
            "grid_template_columns": null,
            "grid_template_rows": null,
            "height": null,
            "justify_content": null,
            "justify_items": null,
            "left": null,
            "margin": null,
            "max_height": null,
            "max_width": null,
            "min_height": null,
            "min_width": null,
            "object_fit": null,
            "object_position": null,
            "order": null,
            "overflow": null,
            "overflow_x": null,
            "overflow_y": null,
            "padding": null,
            "right": null,
            "top": null,
            "visibility": null,
            "width": null
          }
        },
        "25254c3aca8b41068bc47f277e9e259c": {
          "model_module": "@jupyter-widgets/base",
          "model_name": "LayoutModel",
          "model_module_version": "1.2.0",
          "state": {
            "_model_module": "@jupyter-widgets/base",
            "_model_module_version": "1.2.0",
            "_model_name": "LayoutModel",
            "_view_count": null,
            "_view_module": "@jupyter-widgets/base",
            "_view_module_version": "1.2.0",
            "_view_name": "LayoutView",
            "align_content": null,
            "align_items": null,
            "align_self": null,
            "border": null,
            "bottom": null,
            "display": null,
            "flex": null,
            "flex_flow": null,
            "grid_area": null,
            "grid_auto_columns": null,
            "grid_auto_flow": null,
            "grid_auto_rows": null,
            "grid_column": null,
            "grid_gap": null,
            "grid_row": null,
            "grid_template_areas": null,
            "grid_template_columns": null,
            "grid_template_rows": null,
            "height": null,
            "justify_content": null,
            "justify_items": null,
            "left": null,
            "margin": null,
            "max_height": null,
            "max_width": null,
            "min_height": null,
            "min_width": null,
            "object_fit": null,
            "object_position": null,
            "order": null,
            "overflow": null,
            "overflow_x": null,
            "overflow_y": null,
            "padding": null,
            "right": null,
            "top": null,
            "visibility": null,
            "width": null
          }
        },
        "a4f6d9e7c85643c39a23f6be06ba2d6a": {
          "model_module": "@jupyter-widgets/controls",
          "model_name": "DescriptionStyleModel",
          "model_module_version": "1.5.0",
          "state": {
            "_model_module": "@jupyter-widgets/controls",
            "_model_module_version": "1.5.0",
            "_model_name": "DescriptionStyleModel",
            "_view_count": null,
            "_view_module": "@jupyter-widgets/base",
            "_view_module_version": "1.2.0",
            "_view_name": "StyleView",
            "description_width": ""
          }
        },
        "b3081e2358b0415fa3846b3c3ed69716": {
          "model_module": "@jupyter-widgets/base",
          "model_name": "LayoutModel",
          "model_module_version": "1.2.0",
          "state": {
            "_model_module": "@jupyter-widgets/base",
            "_model_module_version": "1.2.0",
            "_model_name": "LayoutModel",
            "_view_count": null,
            "_view_module": "@jupyter-widgets/base",
            "_view_module_version": "1.2.0",
            "_view_name": "LayoutView",
            "align_content": null,
            "align_items": null,
            "align_self": null,
            "border": null,
            "bottom": null,
            "display": null,
            "flex": null,
            "flex_flow": null,
            "grid_area": null,
            "grid_auto_columns": null,
            "grid_auto_flow": null,
            "grid_auto_rows": null,
            "grid_column": null,
            "grid_gap": null,
            "grid_row": null,
            "grid_template_areas": null,
            "grid_template_columns": null,
            "grid_template_rows": null,
            "height": null,
            "justify_content": null,
            "justify_items": null,
            "left": null,
            "margin": null,
            "max_height": null,
            "max_width": null,
            "min_height": null,
            "min_width": null,
            "object_fit": null,
            "object_position": null,
            "order": null,
            "overflow": null,
            "overflow_x": null,
            "overflow_y": null,
            "padding": null,
            "right": null,
            "top": null,
            "visibility": null,
            "width": null
          }
        },
        "b23364a69a1c4e068fd062bd991f5650": {
          "model_module": "@jupyter-widgets/controls",
          "model_name": "ProgressStyleModel",
          "model_module_version": "1.5.0",
          "state": {
            "_model_module": "@jupyter-widgets/controls",
            "_model_module_version": "1.5.0",
            "_model_name": "ProgressStyleModel",
            "_view_count": null,
            "_view_module": "@jupyter-widgets/base",
            "_view_module_version": "1.2.0",
            "_view_name": "StyleView",
            "bar_color": null,
            "description_width": ""
          }
        },
        "5c4d2d54dd3242c6944c2b4f4806e36f": {
          "model_module": "@jupyter-widgets/base",
          "model_name": "LayoutModel",
          "model_module_version": "1.2.0",
          "state": {
            "_model_module": "@jupyter-widgets/base",
            "_model_module_version": "1.2.0",
            "_model_name": "LayoutModel",
            "_view_count": null,
            "_view_module": "@jupyter-widgets/base",
            "_view_module_version": "1.2.0",
            "_view_name": "LayoutView",
            "align_content": null,
            "align_items": null,
            "align_self": null,
            "border": null,
            "bottom": null,
            "display": null,
            "flex": null,
            "flex_flow": null,
            "grid_area": null,
            "grid_auto_columns": null,
            "grid_auto_flow": null,
            "grid_auto_rows": null,
            "grid_column": null,
            "grid_gap": null,
            "grid_row": null,
            "grid_template_areas": null,
            "grid_template_columns": null,
            "grid_template_rows": null,
            "height": null,
            "justify_content": null,
            "justify_items": null,
            "left": null,
            "margin": null,
            "max_height": null,
            "max_width": null,
            "min_height": null,
            "min_width": null,
            "object_fit": null,
            "object_position": null,
            "order": null,
            "overflow": null,
            "overflow_x": null,
            "overflow_y": null,
            "padding": null,
            "right": null,
            "top": null,
            "visibility": null,
            "width": null
          }
        },
        "ec89da14f729438caf5b9a23bbd72b19": {
          "model_module": "@jupyter-widgets/controls",
          "model_name": "DescriptionStyleModel",
          "model_module_version": "1.5.0",
          "state": {
            "_model_module": "@jupyter-widgets/controls",
            "_model_module_version": "1.5.0",
            "_model_name": "DescriptionStyleModel",
            "_view_count": null,
            "_view_module": "@jupyter-widgets/base",
            "_view_module_version": "1.2.0",
            "_view_name": "StyleView",
            "description_width": ""
          }
        },
        "e65abb7b49e344f89f08ead917a76db7": {
          "model_module": "@jupyter-widgets/controls",
          "model_name": "HBoxModel",
          "model_module_version": "1.5.0",
          "state": {
            "_dom_classes": [],
            "_model_module": "@jupyter-widgets/controls",
            "_model_module_version": "1.5.0",
            "_model_name": "HBoxModel",
            "_view_count": null,
            "_view_module": "@jupyter-widgets/controls",
            "_view_module_version": "1.5.0",
            "_view_name": "HBoxView",
            "box_style": "",
            "children": [
              "IPY_MODEL_6b99a237c26b4cb6a21aed163d481359",
              "IPY_MODEL_26939b736439420f800cdb1229b1139a",
              "IPY_MODEL_e549b2c8c6044ea79922ce635177ddfc"
            ],
            "layout": "IPY_MODEL_83aa04029b4849b9ac30e6e55ef9bec5"
          }
        },
        "6b99a237c26b4cb6a21aed163d481359": {
          "model_module": "@jupyter-widgets/controls",
          "model_name": "HTMLModel",
          "model_module_version": "1.5.0",
          "state": {
            "_dom_classes": [],
            "_model_module": "@jupyter-widgets/controls",
            "_model_module_version": "1.5.0",
            "_model_name": "HTMLModel",
            "_view_count": null,
            "_view_module": "@jupyter-widgets/controls",
            "_view_module_version": "1.5.0",
            "_view_name": "HTMLView",
            "description": "",
            "description_tooltip": null,
            "layout": "IPY_MODEL_9fa219889496487f8b3612411a3301b9",
            "placeholder": "​",
            "style": "IPY_MODEL_3325924bba5744bb83b6244f392a8807",
            "value": "Downloading (…)/main/tokenizer.json: 100%"
          }
        },
        "26939b736439420f800cdb1229b1139a": {
          "model_module": "@jupyter-widgets/controls",
          "model_name": "FloatProgressModel",
          "model_module_version": "1.5.0",
          "state": {
            "_dom_classes": [],
            "_model_module": "@jupyter-widgets/controls",
            "_model_module_version": "1.5.0",
            "_model_name": "FloatProgressModel",
            "_view_count": null,
            "_view_module": "@jupyter-widgets/controls",
            "_view_module_version": "1.5.0",
            "_view_name": "ProgressView",
            "bar_style": "success",
            "description": "",
            "description_tooltip": null,
            "layout": "IPY_MODEL_033596320f8a4ed3b140530740e3d9c6",
            "max": 711396,
            "min": 0,
            "orientation": "horizontal",
            "style": "IPY_MODEL_396b8b9d96e34a719d201e0057a9d978",
            "value": 711396
          }
        },
        "e549b2c8c6044ea79922ce635177ddfc": {
          "model_module": "@jupyter-widgets/controls",
          "model_name": "HTMLModel",
          "model_module_version": "1.5.0",
          "state": {
            "_dom_classes": [],
            "_model_module": "@jupyter-widgets/controls",
            "_model_module_version": "1.5.0",
            "_model_name": "HTMLModel",
            "_view_count": null,
            "_view_module": "@jupyter-widgets/controls",
            "_view_module_version": "1.5.0",
            "_view_name": "HTMLView",
            "description": "",
            "description_tooltip": null,
            "layout": "IPY_MODEL_2af63376cba74182b2e28056c9838492",
            "placeholder": "​",
            "style": "IPY_MODEL_ac531090941e4d1dba453a5bf8f736a3",
            "value": " 711k/711k [00:00&lt;00:00, 3.88MB/s]"
          }
        },
        "83aa04029b4849b9ac30e6e55ef9bec5": {
          "model_module": "@jupyter-widgets/base",
          "model_name": "LayoutModel",
          "model_module_version": "1.2.0",
          "state": {
            "_model_module": "@jupyter-widgets/base",
            "_model_module_version": "1.2.0",
            "_model_name": "LayoutModel",
            "_view_count": null,
            "_view_module": "@jupyter-widgets/base",
            "_view_module_version": "1.2.0",
            "_view_name": "LayoutView",
            "align_content": null,
            "align_items": null,
            "align_self": null,
            "border": null,
            "bottom": null,
            "display": null,
            "flex": null,
            "flex_flow": null,
            "grid_area": null,
            "grid_auto_columns": null,
            "grid_auto_flow": null,
            "grid_auto_rows": null,
            "grid_column": null,
            "grid_gap": null,
            "grid_row": null,
            "grid_template_areas": null,
            "grid_template_columns": null,
            "grid_template_rows": null,
            "height": null,
            "justify_content": null,
            "justify_items": null,
            "left": null,
            "margin": null,
            "max_height": null,
            "max_width": null,
            "min_height": null,
            "min_width": null,
            "object_fit": null,
            "object_position": null,
            "order": null,
            "overflow": null,
            "overflow_x": null,
            "overflow_y": null,
            "padding": null,
            "right": null,
            "top": null,
            "visibility": null,
            "width": null
          }
        },
        "9fa219889496487f8b3612411a3301b9": {
          "model_module": "@jupyter-widgets/base",
          "model_name": "LayoutModel",
          "model_module_version": "1.2.0",
          "state": {
            "_model_module": "@jupyter-widgets/base",
            "_model_module_version": "1.2.0",
            "_model_name": "LayoutModel",
            "_view_count": null,
            "_view_module": "@jupyter-widgets/base",
            "_view_module_version": "1.2.0",
            "_view_name": "LayoutView",
            "align_content": null,
            "align_items": null,
            "align_self": null,
            "border": null,
            "bottom": null,
            "display": null,
            "flex": null,
            "flex_flow": null,
            "grid_area": null,
            "grid_auto_columns": null,
            "grid_auto_flow": null,
            "grid_auto_rows": null,
            "grid_column": null,
            "grid_gap": null,
            "grid_row": null,
            "grid_template_areas": null,
            "grid_template_columns": null,
            "grid_template_rows": null,
            "height": null,
            "justify_content": null,
            "justify_items": null,
            "left": null,
            "margin": null,
            "max_height": null,
            "max_width": null,
            "min_height": null,
            "min_width": null,
            "object_fit": null,
            "object_position": null,
            "order": null,
            "overflow": null,
            "overflow_x": null,
            "overflow_y": null,
            "padding": null,
            "right": null,
            "top": null,
            "visibility": null,
            "width": null
          }
        },
        "3325924bba5744bb83b6244f392a8807": {
          "model_module": "@jupyter-widgets/controls",
          "model_name": "DescriptionStyleModel",
          "model_module_version": "1.5.0",
          "state": {
            "_model_module": "@jupyter-widgets/controls",
            "_model_module_version": "1.5.0",
            "_model_name": "DescriptionStyleModel",
            "_view_count": null,
            "_view_module": "@jupyter-widgets/base",
            "_view_module_version": "1.2.0",
            "_view_name": "StyleView",
            "description_width": ""
          }
        },
        "033596320f8a4ed3b140530740e3d9c6": {
          "model_module": "@jupyter-widgets/base",
          "model_name": "LayoutModel",
          "model_module_version": "1.2.0",
          "state": {
            "_model_module": "@jupyter-widgets/base",
            "_model_module_version": "1.2.0",
            "_model_name": "LayoutModel",
            "_view_count": null,
            "_view_module": "@jupyter-widgets/base",
            "_view_module_version": "1.2.0",
            "_view_name": "LayoutView",
            "align_content": null,
            "align_items": null,
            "align_self": null,
            "border": null,
            "bottom": null,
            "display": null,
            "flex": null,
            "flex_flow": null,
            "grid_area": null,
            "grid_auto_columns": null,
            "grid_auto_flow": null,
            "grid_auto_rows": null,
            "grid_column": null,
            "grid_gap": null,
            "grid_row": null,
            "grid_template_areas": null,
            "grid_template_columns": null,
            "grid_template_rows": null,
            "height": null,
            "justify_content": null,
            "justify_items": null,
            "left": null,
            "margin": null,
            "max_height": null,
            "max_width": null,
            "min_height": null,
            "min_width": null,
            "object_fit": null,
            "object_position": null,
            "order": null,
            "overflow": null,
            "overflow_x": null,
            "overflow_y": null,
            "padding": null,
            "right": null,
            "top": null,
            "visibility": null,
            "width": null
          }
        },
        "396b8b9d96e34a719d201e0057a9d978": {
          "model_module": "@jupyter-widgets/controls",
          "model_name": "ProgressStyleModel",
          "model_module_version": "1.5.0",
          "state": {
            "_model_module": "@jupyter-widgets/controls",
            "_model_module_version": "1.5.0",
            "_model_name": "ProgressStyleModel",
            "_view_count": null,
            "_view_module": "@jupyter-widgets/base",
            "_view_module_version": "1.2.0",
            "_view_name": "StyleView",
            "bar_color": null,
            "description_width": ""
          }
        },
        "2af63376cba74182b2e28056c9838492": {
          "model_module": "@jupyter-widgets/base",
          "model_name": "LayoutModel",
          "model_module_version": "1.2.0",
          "state": {
            "_model_module": "@jupyter-widgets/base",
            "_model_module_version": "1.2.0",
            "_model_name": "LayoutModel",
            "_view_count": null,
            "_view_module": "@jupyter-widgets/base",
            "_view_module_version": "1.2.0",
            "_view_name": "LayoutView",
            "align_content": null,
            "align_items": null,
            "align_self": null,
            "border": null,
            "bottom": null,
            "display": null,
            "flex": null,
            "flex_flow": null,
            "grid_area": null,
            "grid_auto_columns": null,
            "grid_auto_flow": null,
            "grid_auto_rows": null,
            "grid_column": null,
            "grid_gap": null,
            "grid_row": null,
            "grid_template_areas": null,
            "grid_template_columns": null,
            "grid_template_rows": null,
            "height": null,
            "justify_content": null,
            "justify_items": null,
            "left": null,
            "margin": null,
            "max_height": null,
            "max_width": null,
            "min_height": null,
            "min_width": null,
            "object_fit": null,
            "object_position": null,
            "order": null,
            "overflow": null,
            "overflow_x": null,
            "overflow_y": null,
            "padding": null,
            "right": null,
            "top": null,
            "visibility": null,
            "width": null
          }
        },
        "ac531090941e4d1dba453a5bf8f736a3": {
          "model_module": "@jupyter-widgets/controls",
          "model_name": "DescriptionStyleModel",
          "model_module_version": "1.5.0",
          "state": {
            "_model_module": "@jupyter-widgets/controls",
            "_model_module_version": "1.5.0",
            "_model_name": "DescriptionStyleModel",
            "_view_count": null,
            "_view_module": "@jupyter-widgets/base",
            "_view_module_version": "1.2.0",
            "_view_name": "StyleView",
            "description_width": ""
          }
        }
      }
    }
  },
  "nbformat": 4,
  "nbformat_minor": 0
}